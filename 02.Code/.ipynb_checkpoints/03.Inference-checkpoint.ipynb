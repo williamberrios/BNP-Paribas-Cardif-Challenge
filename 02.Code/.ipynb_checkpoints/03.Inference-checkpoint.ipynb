{
 "cells": [
  {
   "cell_type": "code",
   "execution_count": 28,
   "metadata": {},
   "outputs": [],
   "source": [
    "import shutil\n",
    "import apiquery\n",
    "import pandas as pd\n",
    "import sys\n",
    "import seaborn as sns\n",
    "import os\n",
    "import numpy as np\n",
    "import random\n",
    "import torch\n",
    "import pickle\n",
    "import gc\n",
    "DATA_PATH = '../01.Data'\n",
    "shutil.copy(\"apiquery_pyc.py\", \"apiquery.pyc\")\n",
    "\n",
    "module_path = \"../src\"\n",
    "if module_path not in sys.path:\n",
    "    sys.path.append(module_path)\n",
    "    \n",
    "from utils.training import *\n",
    "from utils.encoding import *\n",
    "from utils.utils import *\n",
    "from utils.fetch import *\n",
    "from dataset.dataset import BNPParibasText\n",
    "from models.models import Roberta_Model\n",
    "from utils.EarlyStopping import EarlyStopping\n",
    "from utils.LoopFunctions import train_fn,valid_fn\n",
    "from utils.prediction import get_prediction,get_embedding\n",
    "pd.options.display.max_rows = 999\n",
    "pd.options.display.max_columns = 100\n",
    "import math\n",
    "from collections import Counter\n",
    "from sklearn.model_selection import StratifiedKFold\n",
    "from sklearn.metrics import mean_squared_error\n",
    "import math\n",
    "import time\n",
    "import lightgbm as lgbm\n",
    "import matplotlib.pyplot as plt\n",
    "import torch.nn as nn\n",
    "import config_ad\n",
    "import transformers"
   ]
  },
  {
   "cell_type": "code",
   "execution_count": 29,
   "metadata": {},
   "outputs": [],
   "source": [
    "def calculate_test(test,config):\n",
    "    col_unique = generate_col_unique(test,config.COLUMNS_ENCODE)   \n",
    "    tokenizer     = transformers.RobertaTokenizer.from_pretrained(config.PRETRAINED)\n",
    "    test_dataset = BNPParibasText(test,config.MAX_LENGTH,tokenizer,col_unique)\n",
    "    test_loader = torch.utils.data.DataLoader(\n",
    "        test_dataset,\n",
    "        batch_size  = config.BATCH_SIZE,\n",
    "        pin_memory  = True,\n",
    "        num_workers = config.NUM_WORKERS\n",
    "    )\n",
    "    preds = 0\n",
    "    for fold in range(0,5):\n",
    "        model = Roberta_Model(pretrained_model=config.PRETRAINED,dropout = config.DROPOUT)\n",
    "        model.load_state_dict(torch.load(f'../03.Models/BNP_PARIBAS_ROBERTA_FOLD_{fold}'))\n",
    "        model.to(config.DEVICE)\n",
    "        preds = preds + get_prediction(test_loader, model,config.DEVICE)\n",
    "    test['preds'] = preds/5\n",
    "    print(f'Real RMSE: ',math.sqrt(mean_squared_error(test['preds'].values,test['Target'].values)))"
   ]
  },
  {
   "cell_type": "code",
   "execution_count": 30,
   "metadata": {},
   "outputs": [
    {
     "name": "stdout",
     "output_type": "stream",
     "text": [
      "['states_en_brands', 'states_en_categories', 'states_en_characteristics', 'states_en_expiration date', 'states_en_general_complete', 'states_en_ingredients', 'pnns_groups_1', 'pnns_groups_2', 'states_en_packaging', 'states_en_packaging-code-', 'states_en_photo_upload', 'states_en_photo_validate', 'states_en_product name', 'states_en_quantity', 'emb_codes', 'emb_codes_tags']\n"
     ]
    }
   ],
   "source": [
    "df_test  = pd.read_csv(os.path.join(DATA_PATH,'test_embeddings.csv'))\n",
    "columns_modeling = ['additives_n','ingredients_from_palm_oil_n',\n",
    "                    'ingredients_that_may_be_from_palm_oil_n','target',\n",
    "                    'states_en_brands','states_en_categories','states_en_characteristics','states_en_expiration date',\n",
    "                    'states_en_general_complete','states_en_ingredients','pnns_groups_1','pnns_groups_2',\n",
    "                    'states_en_packaging','states_en_packaging-code-','states_en_photo_upload',\n",
    "                    'states_en_photo_validate','states_en_product name','states_en_quantity','diff_t'] + [i for i in df_test.columns.to_list() if 'emb' in i]\n",
    "columns_label = df_test[columns_modeling].select_dtypes(include=['object']).columns.to_list()\n",
    "print(columns_label)"
   ]
  },
  {
   "cell_type": "code",
   "execution_count": 31,
   "metadata": {},
   "outputs": [
    {
     "name": "stdout",
     "output_type": "stream",
     "text": [
      "Mode: Missing as new category\n",
      "Applying Label Encoding:  label_states_en_brands\n",
      "Applying Label Encoding:  label_states_en_categories\n",
      "Applying Label Encoding:  label_states_en_characteristics\n",
      "Applying Label Encoding:  label_states_en_expiration date\n",
      "Applying Label Encoding:  label_states_en_general_complete\n",
      "Applying Label Encoding:  label_states_en_ingredients\n",
      "Applying Label Encoding:  label_pnns_groups_1\n",
      "Applying Label Encoding:  label_pnns_groups_2\n",
      "Applying Label Encoding:  label_states_en_packaging\n",
      "Applying Label Encoding:  label_states_en_packaging-code-\n",
      "Applying Label Encoding:  label_states_en_photo_upload\n",
      "Applying Label Encoding:  label_states_en_photo_validate\n",
      "Applying Label Encoding:  label_states_en_product name\n",
      "Applying Label Encoding:  label_states_en_quantity\n"
     ]
    }
   ],
   "source": [
    "a_file = open(\"../03.Models/General/label_encoding.pkl\", \"rb\")\n",
    "dict_le = pickle.load(a_file)\n",
    "df_test = apply_label_encoder(df_test,dict_le,drop_original = True, missing_new_cat = True)\n",
    "del dict_le,a_file"
   ]
  },
  {
   "cell_type": "code",
   "execution_count": 32,
   "metadata": {},
   "outputs": [
    {
     "name": "stdout",
     "output_type": "stream",
     "text": [
      "../03.Models/Lightgbm/lgbm_fold_0.pkl\n",
      "../03.Models/Lightgbm/lgbm_fold_1.pkl\n",
      "../03.Models/Lightgbm/lgbm_fold_2.pkl\n",
      "../03.Models/Lightgbm/lgbm_fold_3.pkl\n",
      "../03.Models/Lightgbm/lgbm_fold_4.pkl\n"
     ]
    }
   ],
   "source": [
    "# Saving Models\n",
    "models = []\n",
    "for fold in range(0,5):\n",
    "    filename = f'../03.Models/Lightgbm/lgbm_fold_{fold}.pkl'\n",
    "    print(filename)\n",
    "    model = pickle.load(open(filename, 'rb'))\n",
    "    models.append(model)"
   ]
  },
  {
   "cell_type": "code",
   "execution_count": 45,
   "metadata": {},
   "outputs": [],
   "source": [
    "with open('../03.Models/General/feature_list.txt') as f:\n",
    "    features = f.readlines()\n",
    "# you may also want to remove whitespace characters like `\\n` at the end of each line\n",
    "features = [x.strip() for x in content] "
   ]
  },
  {
   "cell_type": "code",
   "execution_count": 52,
   "metadata": {},
   "outputs": [
    {
     "name": "stdout",
     "output_type": "stream",
     "text": [
      "fin_predict\n",
      "fin_predict\n",
      "fin_predict\n",
      "fin_predict\n",
      "fin_predict\n",
      "Real:  4.761788288052376\n"
     ]
    }
   ],
   "source": [
    "probs = 0\n",
    "for i in models:\n",
    "    probs = probs + (i.predict(df_test[features]))\n",
    "    print('fin_predict')\n",
    "y_test_pred = probs/5.0\n",
    "print(f'Real: ',math.sqrt(mean_squared_error(y_test_pred+1.8,df_test['Target'].values)))"
   ]
  },
  {
   "cell_type": "code",
   "execution_count": 53,
   "metadata": {},
   "outputs": [],
   "source": [
    "y_submission = pd.read_csv(os.path.join(DATA_PATH,'y_test_submission_example.tsv'), index_col='Index', encoding='utf-8', sep='\\t')\n",
    "y_submission['target'] = y_test_pred + 1.8"
   ]
  },
  {
   "cell_type": "code",
   "execution_count": 54,
   "metadata": {},
   "outputs": [
    {
     "name": "stdout",
     "output_type": "stream",
     "text": [
      "requests number 1\n",
      "200\n",
      "{'Date': 'Thu, 20 May 2021 19:57:38 GMT', 'Content-Type': 'application/json', 'Content-Length': '497', 'Connection': 'keep-alive', 'X-Request-ID': 'UDMY5SBQA4F63ZJE', 'Access-Control-Allow-Origin': '*', 'Access-Control-Allow-Methods': 'POST', 'Access-Control-Allow-Headers': 'authorization,content-type'}\n"
     ]
    },
    {
     "data": {
      "text/plain": [
       "{'competition_name': 'food',\n",
       " 'file_path': 'none',\n",
       " 'message': 'Submission validated.',\n",
       " 'name': 'Insight ML - DD',\n",
       " 'result_csv_file': 'test_v12',\n",
       " 'score': 4.761923558356993,\n",
       " 'score2': None,\n",
       " 'score3': None,\n",
       " 'sub_name': 'test_v12',\n",
       " 'sub_uid': '4ad55c78-1618-49fa-b63c-23e45de6b70f',\n",
       " 'submission_time': '2021/05/20, 19:57:38'}"
      ]
     },
     "execution_count": 54,
     "metadata": {},
     "output_type": "execute_result"
    }
   ],
   "source": [
    "#Enviar los resultados\n",
    "apiquery.submit_api(y_submission,\n",
    "       competition_name='food',\n",
    "        subname='test_v12', # Pueden cambiar esto sin problemas, poner el nombre que quieran.\n",
    "        holdout_key='None',\n",
    "        update_ldb=True,\n",
    "        username=\"Insight ML - DD\" # Poner el nombre de su equipo como un string. \n",
    "                                  # El mejor de los resultados dentro de sus envios es el que aparecera en la tabla de posiciones.\n",
    ")"
   ]
  },
  {
   "cell_type": "code",
   "execution_count": null,
   "metadata": {},
   "outputs": [],
   "source": []
  }
 ],
 "metadata": {
  "kernelspec": {
   "display_name": "Python 3",
   "language": "python",
   "name": "python3"
  },
  "language_info": {
   "codemirror_mode": {
    "name": "ipython",
    "version": 3
   },
   "file_extension": ".py",
   "mimetype": "text/x-python",
   "name": "python",
   "nbconvert_exporter": "python",
   "pygments_lexer": "ipython3",
   "version": "3.6.10"
  }
 },
 "nbformat": 4,
 "nbformat_minor": 4
}
