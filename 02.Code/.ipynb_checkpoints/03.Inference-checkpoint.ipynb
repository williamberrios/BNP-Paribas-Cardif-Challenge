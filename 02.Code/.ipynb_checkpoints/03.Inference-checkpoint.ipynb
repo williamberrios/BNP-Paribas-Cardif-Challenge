{
 "cells": [
  {
   "cell_type": "code",
   "execution_count": 4,
   "metadata": {},
   "outputs": [
    {
     "name": "stdout",
     "output_type": "stream",
     "text": [
      "Requirement already satisfied: torch in /opt/conda/lib/python3.6/site-packages (1.8.1)\n",
      "Requirement already satisfied: dataclasses; python_version < \"3.7\" in /opt/conda/lib/python3.6/site-packages (from torch) (0.8)\n",
      "Requirement already satisfied: numpy in /opt/conda/lib/python3.6/site-packages (from torch) (1.19.5)\n",
      "Requirement already satisfied: typing-extensions in /opt/conda/lib/python3.6/site-packages (from torch) (3.7.4.2)\n",
      "\u001b[33mWARNING: You are using pip version 20.1; however, version 21.1.1 is available.\n",
      "You should consider upgrading via the '/opt/conda/bin/python -m pip install --upgrade pip' command.\u001b[0m\n"
     ]
    }
   ],
   "source": [
    "!pip install torch\n",
    "import shutil\n",
    "import apiquery\n",
    "import pandas as pd\n",
    "import sys\n",
    "import seaborn as sns\n",
    "import os\n",
    "import numpy as np\n",
    "import random\n",
    "import torch\n",
    "import pickle\n",
    "import gc\n",
    "DATA_PATH = '../01.Data'\n",
    "shutil.copy(\"apiquery_pyc.py\", \"apiquery.pyc\")\n",
    "\n",
    "module_path = \"../src\"\n",
    "if module_path not in sys.path:\n",
    "    sys.path.append(module_path)\n",
    "    \n",
    "from utils.training import *\n",
    "from utils.encoding import *\n",
    "from utils.utils import *\n",
    "from utils.fetch import *\n",
    "from dataset.dataset import BNPParibasText\n",
    "from models.models import Roberta_Model\n",
    "from utils.EarlyStopping import EarlyStopping\n",
    "from utils.LoopFunctions import train_fn,valid_fn\n",
    "from utils.prediction import get_prediction,get_embedding\n",
    "from utils.prediction import predict\n",
    "pd.options.display.max_rows = 999\n",
    "pd.options.display.max_columns = 100\n",
    "import math\n",
    "from collections import Counter\n",
    "from sklearn.model_selection import StratifiedKFold\n",
    "from sklearn.metrics import mean_squared_error\n",
    "import math\n",
    "import time\n",
    "import lightgbm as lgbm\n",
    "import matplotlib.pyplot as plt\n",
    "import torch.nn as nn\n",
    "import config_ad\n",
    "import transformers"
   ]
  },
  {
   "cell_type": "code",
   "execution_count": 7,
   "metadata": {},
   "outputs": [
    {
     "name": "stdout",
     "output_type": "stream",
     "text": [
      "['states_en_brands', 'states_en_categories', 'states_en_characteristics', 'states_en_expiration date', 'states_en_general_complete', 'states_en_ingredients', 'pnns_groups_1', 'pnns_groups_2', 'states_en_packaging', 'states_en_packaging-code-', 'states_en_photo_upload', 'states_en_photo_validate', 'states_en_product name', 'states_en_quantity', 'emb_codes', 'emb_codes_tags']\n"
     ]
    }
   ],
   "source": [
    "df_test  = pd.read_csv(os.path.join(DATA_PATH,'test_embeddings.csv'))\n",
    "columns_modeling = columns_modeling = ['additives_n','ingredients_from_palm_oil_n',\n",
    "                    'ingredients_that_may_be_from_palm_oil_n',\n",
    "                    'states_en_brands','states_en_categories','states_en_characteristics','states_en_expiration date',\n",
    "                    'states_en_general_complete','states_en_ingredients','pnns_groups_1','pnns_groups_2',\n",
    "                    'states_en_packaging','states_en_packaging-code-','states_en_photo_upload',\n",
    "                    'states_en_photo_validate','states_en_product name','states_en_quantity','diff_t'] + [i for i in df_test.columns if 'datetime' in i] + [i for i in df_test.columns.to_list() if 'emb' in i]\n",
    "columns_label = df_test[columns_modeling].select_dtypes(include=['object']).columns.to_list()\n",
    "print(columns_label)"
   ]
  },
  {
   "cell_type": "code",
   "execution_count": 8,
   "metadata": {},
   "outputs": [
    {
     "name": "stderr",
     "output_type": "stream",
     "text": [
      "/opt/conda/lib/python3.6/site-packages/sklearn/base.py:318: UserWarning: Trying to unpickle estimator LabelEncoder from version 0.24.0 when using version 0.22.2. This might lead to breaking code or invalid results. Use at your own risk.\n",
      "  UserWarning)\n"
     ]
    },
    {
     "name": "stdout",
     "output_type": "stream",
     "text": [
      "Mode: Missing as new category\n",
      "Applying Label Encoding:  label_states_en_brands\n",
      "Applying Label Encoding:  label_states_en_categories\n",
      "Applying Label Encoding:  label_states_en_characteristics\n",
      "Applying Label Encoding:  label_states_en_expiration date\n",
      "Applying Label Encoding:  label_states_en_general_complete\n",
      "Applying Label Encoding:  label_states_en_ingredients\n",
      "Applying Label Encoding:  label_pnns_groups_1\n",
      "Applying Label Encoding:  label_pnns_groups_2\n",
      "Applying Label Encoding:  label_states_en_packaging\n",
      "Applying Label Encoding:  label_states_en_packaging-code-\n",
      "Applying Label Encoding:  label_states_en_photo_upload\n",
      "Applying Label Encoding:  label_states_en_photo_validate\n",
      "Applying Label Encoding:  label_states_en_product name\n",
      "Applying Label Encoding:  label_states_en_quantity\n"
     ]
    }
   ],
   "source": [
    "a_file = open(\"../03.Models/General/label_encoding.pkl\", \"rb\")\n",
    "dict_le = pickle.load(a_file)\n",
    "df_test = apply_label_encoder(df_test,dict_le,drop_original = True, missing_new_cat = True)\n",
    "del dict_le,a_file"
   ]
  },
  {
   "cell_type": "code",
   "execution_count": 9,
   "metadata": {},
   "outputs": [
    {
     "name": "stdout",
     "output_type": "stream",
     "text": [
      "../03.Models/Lightgbm/lgbm_fold_best_1_0.pkl\n",
      "../03.Models/Lightgbm/lgbm_fold_best_1_1.pkl\n",
      "../03.Models/Lightgbm/lgbm_fold_best_1_2.pkl\n",
      "../03.Models/Lightgbm/lgbm_fold_best_1_3.pkl\n",
      "../03.Models/Lightgbm/lgbm_fold_best_1_4.pkl\n"
     ]
    }
   ],
   "source": [
    "# Saving Models\n",
    "models = []\n",
    "for fold in range(0,5):\n",
    "    filename = f'../03.Models/Lightgbm/lgbm_fold_best_1_{fold}.pkl'\n",
    "    print(filename)\n",
    "    model = pickle.load(open(filename, 'rb'))\n",
    "    models.append(model)"
   ]
  },
  {
   "cell_type": "code",
   "execution_count": 10,
   "metadata": {},
   "outputs": [],
   "source": [
    "with open('../03.Models/General/feature_list.txt') as f:\n",
    "    features = f.readlines()\n",
    "# you may also want to remove whitespace characters like `\\n` at the end of each line\n",
    "features = [x.strip() for x in features] "
   ]
  },
  {
   "cell_type": "code",
   "execution_count": 11,
   "metadata": {},
   "outputs": [
    {
     "name": "stdout",
     "output_type": "stream",
     "text": [
      "fin_predict\n",
      "fin_predict\n",
      "fin_predict\n",
      "fin_predict\n",
      "fin_predict\n"
     ]
    }
   ],
   "source": [
    "df_test = predict(df_test,models,features)"
   ]
  },
  {
   "cell_type": "code",
   "execution_count": 12,
   "metadata": {},
   "outputs": [],
   "source": [
    "y_submission = pd.read_csv(os.path.join(DATA_PATH,'y_test_submission_example.tsv'), index_col='Index', encoding='utf-8', sep='\\t')\n",
    "y_submission['target'] = df_test['target'].values\n",
    "y_submission .to_csv(os.path.join(DATA_PATH,'y_submission_final.csv'),index = False)"
   ]
  },
  {
   "cell_type": "code",
   "execution_count": 11,
   "metadata": {},
   "outputs": [],
   "source": [
    "#Enviar los resultados\n",
    "apiquery.submit_api(y_submission,\n",
    "       competition_name='food',\n",
    "        subname='test_v12', # Pueden cambiar esto sin problemas, poner el nombre que quieran.\n",
    "        holdout_key='None',\n",
    "        update_ldb=True,\n",
    "        username=\"Insight ML - DD\" # Poner el nombre de su equipo como un string. \n",
    "                                  # El mejor de los resultados dentro de sus envios es el que aparecera en la tabla de posiciones.\n",
    ")"
   ]
  }
 ],
 "metadata": {
  "kernelspec": {
   "display_name": "Python 3",
   "language": "python",
   "name": "python3"
  },
  "language_info": {
   "codemirror_mode": {
    "name": "ipython",
    "version": 3
   },
   "file_extension": ".py",
   "mimetype": "text/x-python",
   "name": "python",
   "nbconvert_exporter": "python",
   "pygments_lexer": "ipython3",
   "version": "3.6.10"
  }
 },
 "nbformat": 4,
 "nbformat_minor": 4
}
