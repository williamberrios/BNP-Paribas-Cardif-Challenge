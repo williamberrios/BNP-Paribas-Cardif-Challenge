{
 "cells": [
  {
   "cell_type": "markdown",
   "metadata": {},
   "source": [
    "## 1. Importing Libraries"
   ]
  },
  {
   "cell_type": "code",
   "execution_count": 55,
   "metadata": {},
   "outputs": [],
   "source": [
    "import shutil\n",
    "import apiquery\n",
    "import pandas as pd\n",
    "import sys\n",
    "import seaborn as sns\n",
    "import os\n",
    "import numpy as np\n",
    "import random\n",
    "import torch\n",
    "import pickle\n",
    "import gc\n",
    "DATA_PATH = '../01.Data'\n",
    "shutil.copy(\"apiquery_pyc.py\", \"apiquery.pyc\")\n",
    "\n",
    "module_path = \"../src\"\n",
    "if module_path not in sys.path:\n",
    "    sys.path.append(module_path)\n",
    "    \n",
    "from utils.training import *\n",
    "from utils.encoding import *\n",
    "from utils.utils import *\n",
    "from utils.fetch import *\n",
    "from dataset.dataset import BNPParibasText\n",
    "from models.models import Roberta_Model\n",
    "from utils.EarlyStopping import EarlyStopping\n",
    "from utils.LoopFunctions import train_fn,valid_fn\n",
    "from utils.prediction import get_prediction,get_embedding\n",
    "pd.options.display.max_rows = 999\n",
    "pd.options.display.max_columns = 100\n",
    "import math\n",
    "from collections import Counter\n",
    "from sklearn.model_selection import StratifiedKFold\n",
    "from sklearn.metrics import mean_squared_error\n",
    "import math\n",
    "import time\n",
    "import lightgbm as lgbm\n",
    "import matplotlib.pyplot as plt\n",
    "import torch.nn as nn\n",
    "import config_ad\n",
    "import transformers"
   ]
  },
  {
   "cell_type": "code",
   "execution_count": 3,
   "metadata": {},
   "outputs": [],
   "source": [
    "def calc_oof(df,config):\n",
    "    df.loc[:,'oof'] = -1\n",
    "    for fold in np.sort(df.fold.unique()):\n",
    "        print(f'Predicting Model: {fold}')\n",
    "        valid       = df[df['fold']==fold]\n",
    "        valid_index = valid.index.to_list()\n",
    "        valid = valid.reset_index(drop=True)\n",
    "        # Defining DataSet\n",
    "        col_unique = generate_col_unique(valid,config.COLUMNS_ENCODE)\n",
    "        tokenizer = transformers.RobertaTokenizer.from_pretrained(config.PRETRAINED)\n",
    "        valid_dataset = BNPParibasText(valid,config.MAX_LENGTH,tokenizer,col_unique)\n",
    "        valid_loader = torch.utils.data.DataLoader(\n",
    "            valid_dataset,\n",
    "            batch_size  = config.BATCH_SIZE,\n",
    "            num_workers = config.NUM_WORKERS,\n",
    "            shuffle     = False,\n",
    "            pin_memory  = True,\n",
    "        )\n",
    "\n",
    "       # Defining Device\n",
    "        model = Roberta_Model(pretrained_model=config.PRETRAINED,dropout = config.DROPOUT)\n",
    "        model.load_state_dict(torch.load(f'../03.Models/BNP_PARIBAS_ROBERTA_FOLD_{fold}'))\n",
    "        model.to(config.DEVICE)\n",
    "        preds = get_prediction(valid_loader, model,config.DEVICE)\n",
    "        df.loc[valid_index,'oof'] = preds\n",
    "    oof_score = np.sqrt(mean_squared_error(df['target'],df['oof']))\n",
    "    print('OOF_SCORE (RMSE): ',oof_score)\n",
    "    return oof_score\n",
    "\n",
    "\n",
    "# Calculating predictions for test\n",
    "def calculate_test(test,config):\n",
    "    col_unique = generate_col_unique(test,config.COLUMNS_ENCODE)   \n",
    "    tokenizer     = transformers.RobertaTokenizer.from_pretrained(config.PRETRAINED)\n",
    "    test_dataset = BNPParibasText(test,config.MAX_LENGTH,tokenizer,col_unique)\n",
    "    test_loader = torch.utils.data.DataLoader(\n",
    "        test_dataset,\n",
    "        batch_size  = config.BATCH_SIZE,\n",
    "        pin_memory  = True,\n",
    "        num_workers = config.NUM_WORKERS\n",
    "    )\n",
    "    preds = 0\n",
    "    for fold in range(0,5):\n",
    "        model = Roberta_Model(pretrained_model=config.PRETRAINED,dropout = config.DROPOUT)\n",
    "        model.load_state_dict(torch.load(f'../03.Models/BNP_PARIBAS_ROBERTA_FOLD_{fold}'))\n",
    "        model.to(config.DEVICE)\n",
    "        preds = preds + get_prediction(test_loader, model,config.DEVICE)\n",
    "    test['preds'] = preds/5\n"
   ]
  },
  {
   "cell_type": "code",
   "execution_count": 2,
   "metadata": {},
   "outputs": [
    {
     "name": "stdout",
     "output_type": "stream",
     "text": [
      "CPU times: user 1.73 s, sys: 234 ms, total: 1.97 s\n",
      "Wall time: 2.31 s\n"
     ]
    }
   ],
   "source": [
    "%%time\n",
    "df_train     = pd.read_csv(os.path.join(\"../01.Data\",'fold.csv'))\n",
    "y_submission = pd.read_csv(os.path.join(DATA_PATH,'y_test_submission_example.tsv'), index_col='Index', encoding='utf-8', sep='\\t')"
   ]
  },
  {
   "cell_type": "markdown",
   "metadata": {},
   "source": [
    "## 2. Fine Tuning"
   ]
  },
  {
   "cell_type": "code",
   "execution_count": 4,
   "metadata": {},
   "outputs": [],
   "source": [
    "def run(data,fold,output_path,config,run=None):\n",
    "    print(f'******************** Model Fold {fold}  *****************')\n",
    "    seed_everything(seed=config.SEED)\n",
    "    train = data[data['fold']!=fold].reset_index(drop=True)\n",
    "    valid = data[data['fold']==fold].reset_index(drop=True)\n",
    "    col_unique = generate_col_unique(train,config.COLUMNS_ENCODE)\n",
    "    col_unique = generate_col_unique(valid,config.COLUMNS_ENCODE)\n",
    "    \n",
    "    \n",
    "    print('Train: ',train.shape[0], 'Valid: ',valid.shape[0])\n",
    "    # Defining DataSet\n",
    "    tokenizer     = transformers.RobertaTokenizer.from_pretrained(config.PRETRAINED)\n",
    "    train_dataset = BNPParibasText(train,config.MAX_LENGTH,tokenizer,col_unique)\n",
    "    valid_dataset = BNPParibasText(valid,config.MAX_LENGTH,tokenizer,col_unique)\n",
    "        \n",
    "    train_loader = torch.utils.data.DataLoader(\n",
    "        train_dataset,\n",
    "        batch_size  = config.BATCH_SIZE,\n",
    "        pin_memory  = True,\n",
    "        num_workers = config.NUM_WORKERS\n",
    "    )\n",
    "\n",
    "    valid_loader = torch.utils.data.DataLoader(\n",
    "        valid_dataset,\n",
    "        batch_size  = config.BATCH_SIZE,\n",
    "        num_workers = config.NUM_WORKERS,\n",
    "        shuffle     = False,\n",
    "        pin_memory  = True,\n",
    "    )\n",
    "    \n",
    "    # Defining Device\n",
    "    model = Roberta_Model(pretrained_model=config.PRETRAINED,dropout = config.DROPOUT)\n",
    "    model.to(config.DEVICE)\n",
    "    criterion = nn.MSELoss()\n",
    "    criterion.to(config.DEVICE)\n",
    "\n",
    "    param_optimizer = list(model.named_parameters())\n",
    "    no_decay = [\"bias\", \"LayerNorm.bias\", \"LayerNorm.weight\"]\n",
    "    optimizer_parameters = [\n",
    "        {\n",
    "            \"params\": [\n",
    "                p for n, p in param_optimizer if not any(nd in n for nd in no_decay)\n",
    "            ],\n",
    "            \"weight_decay\": config.WEIGHT_DECAY,\n",
    "        },\n",
    "        {\n",
    "            \"params\": [\n",
    "                p for n, p in param_optimizer if any(nd in n for nd in no_decay)\n",
    "            ],\n",
    "            \"weight_decay\": 0.0,\n",
    "        },\n",
    "    ]\n",
    "\n",
    "    num_train_steps = int((len(train) / config.BATCH_SIZE )* config.EPOCHS)\n",
    "    config.SCHEDULER_PARAMETERS['NUM_TRAIN_STEPS'] = num_train_steps\n",
    "    print(f'num_train_steps: {num_train_steps}')\n",
    "    optimizer = fetch_optimizer(config.OPTIMIZER_NAME,config.LEARNING_RATE,optimizer_parameters)\n",
    "    scheduler = fetch_scheduler(config.SCHEDULER_NAME,optimizer,config.SCHEDULER_PARAMETERS)\n",
    "    \n",
    "    es = EarlyStopping (patience = config.EARLY_STOPPING, mode = config.MODE,delta=0)\n",
    "      \n",
    "    for epoch in range(config.EPOCHS):\n",
    "        print('Epoch {}, lr {}'.format(epoch, optimizer.param_groups[0]['lr']))        \n",
    "        training_loss = train_fn(train_loader,model,criterion,optimizer,config.DEVICE,scheduler,mode_sched = config.MODE_SCHEDULER)\n",
    "        valid_loss    = valid_fn(valid_loader,model,criterion,config.DEVICE)\n",
    "        if run:\n",
    "            run.log({'training_loss':training_loss,'valid_loss':valid_loss})\n",
    "            \n",
    "        es(valid_loss, model,output_path)\n",
    "        \n",
    "        if es.early_stop:\n",
    "            print('Meet early stopping')\n",
    "            return es.get_best_val_score()\n",
    "        gc.collect()\n",
    "        torch.cuda.empty_cache()\n",
    "    print(\"Didn't meet early stopping\")\n",
    "    return es.get_best_val_score()"
   ]
  },
  {
   "cell_type": "code",
   "execution_count": 5,
   "metadata": {},
   "outputs": [
    {
     "name": "stdout",
     "output_type": "stream",
     "text": [
      "******************** Model Fold 0  *****************\n",
      "Train:  81622 Valid:  20406\n"
     ]
    },
    {
     "name": "stderr",
     "output_type": "stream",
     "text": [
      "  0%|          | 0/1276 [00:00<?, ?it/s]"
     ]
    },
    {
     "name": "stdout",
     "output_type": "stream",
     "text": [
      "num_train_steps: 15304\n",
      "Epoch 0, lr 0.0\n",
      "Mode Scheduler: OK\n"
     ]
    },
    {
     "name": "stderr",
     "output_type": "stream",
     "text": [
      "100%|██████████| 1276/1276 [05:02<00:00,  4.22it/s, LR=1.67e-5, Train_Loss=68]  \n",
      "  0%|          | 0/319 [00:00<?, ?it/s]"
     ]
    },
    {
     "name": "stdout",
     "output_type": "stream",
     "text": [
      "Training -> Loss: 68.00697775096356\n"
     ]
    },
    {
     "name": "stderr",
     "output_type": "stream",
     "text": [
      "100%|██████████| 319/319 [00:28<00:00, 11.16it/s, Eval_Loss=33.4]\n"
     ]
    },
    {
     "name": "stdout",
     "output_type": "stream",
     "text": [
      "Validation -> Loss: 33.38989837789984\n",
      "Validation score improved (inf --> 33.38989837789984). Saving model!\n"
     ]
    },
    {
     "name": "stderr",
     "output_type": "stream",
     "text": [
      "  0%|          | 0/1276 [00:00<?, ?it/s]"
     ]
    },
    {
     "name": "stdout",
     "output_type": "stream",
     "text": [
      "Epoch 1, lr 1.6679738562091504e-05\n",
      "Mode Scheduler: OK\n"
     ]
    },
    {
     "name": "stderr",
     "output_type": "stream",
     "text": [
      "100%|██████████| 1276/1276 [05:02<00:00,  4.22it/s, LR=1.85e-5, Train_Loss=29.7]\n",
      "  0%|          | 0/319 [00:00<?, ?it/s]"
     ]
    },
    {
     "name": "stdout",
     "output_type": "stream",
     "text": [
      "Training -> Loss: 29.745953457482557\n"
     ]
    },
    {
     "name": "stderr",
     "output_type": "stream",
     "text": [
      "100%|██████████| 319/319 [00:28<00:00, 11.18it/s, Eval_Loss=26.3]\n"
     ]
    },
    {
     "name": "stdout",
     "output_type": "stream",
     "text": [
      "Validation -> Loss: 26.25095771323177\n",
      "Validation score improved (33.38989837789984 --> 26.25095771323177). Saving model!\n"
     ]
    },
    {
     "name": "stderr",
     "output_type": "stream",
     "text": [
      "  0%|          | 0/1276 [00:00<?, ?it/s]"
     ]
    },
    {
     "name": "stdout",
     "output_type": "stream",
     "text": [
      "Epoch 2, lr 1.8516044721939887e-05\n",
      "Mode Scheduler: OK\n"
     ]
    },
    {
     "name": "stderr",
     "output_type": "stream",
     "text": [
      "100%|██████████| 1276/1276 [05:01<00:00,  4.24it/s, LR=1.67e-5, Train_Loss=24.5]\n",
      "  0%|          | 0/319 [00:00<?, ?it/s]"
     ]
    },
    {
     "name": "stdout",
     "output_type": "stream",
     "text": [
      "Training -> Loss: 24.54152354700812\n"
     ]
    },
    {
     "name": "stderr",
     "output_type": "stream",
     "text": [
      "100%|██████████| 319/319 [00:29<00:00, 10.93it/s, Eval_Loss=24.9]\n"
     ]
    },
    {
     "name": "stdout",
     "output_type": "stream",
     "text": [
      "Validation -> Loss: 24.906518236596757\n",
      "Validation score improved (26.25095771323177 --> 24.906518236596757). Saving model!\n"
     ]
    },
    {
     "name": "stderr",
     "output_type": "stream",
     "text": [
      "  0%|          | 0/1276 [00:00<?, ?it/s]"
     ]
    },
    {
     "name": "stdout",
     "output_type": "stream",
     "text": [
      "Epoch 3, lr 1.6663278640917674e-05\n",
      "Mode Scheduler: OK\n"
     ]
    },
    {
     "name": "stderr",
     "output_type": "stream",
     "text": [
      "100%|██████████| 1276/1276 [05:01<00:00,  4.24it/s, LR=1.48e-5, Train_Loss=22]  \n",
      "  0%|          | 0/319 [00:00<?, ?it/s]"
     ]
    },
    {
     "name": "stdout",
     "output_type": "stream",
     "text": [
      "Training -> Loss: 22.031593575372966\n"
     ]
    },
    {
     "name": "stderr",
     "output_type": "stream",
     "text": [
      "100%|██████████| 319/319 [00:29<00:00, 10.92it/s, Eval_Loss=23.8]\n"
     ]
    },
    {
     "name": "stdout",
     "output_type": "stream",
     "text": [
      "Validation -> Loss: 23.76212262957821\n",
      "Validation score improved (24.906518236596757 --> 23.76212262957821). Saving model!\n"
     ]
    },
    {
     "name": "stderr",
     "output_type": "stream",
     "text": [
      "  0%|          | 0/1276 [00:00<?, ?it/s]"
     ]
    },
    {
     "name": "stdout",
     "output_type": "stream",
     "text": [
      "Epoch 4, lr 1.4810512559895456e-05\n",
      "Mode Scheduler: OK\n"
     ]
    },
    {
     "name": "stderr",
     "output_type": "stream",
     "text": [
      "100%|██████████| 1276/1276 [05:01<00:00,  4.23it/s, LR=1.3e-5, Train_Loss=20.2] \n",
      "  0%|          | 0/319 [00:00<?, ?it/s]"
     ]
    },
    {
     "name": "stdout",
     "output_type": "stream",
     "text": [
      "Training -> Loss: 20.201210182662294\n"
     ]
    },
    {
     "name": "stderr",
     "output_type": "stream",
     "text": [
      "100%|██████████| 319/319 [00:28<00:00, 11.06it/s, Eval_Loss=23.5]\n"
     ]
    },
    {
     "name": "stdout",
     "output_type": "stream",
     "text": [
      "Validation -> Loss: 23.4995545324487\n",
      "Validation score improved (23.76212262957821 --> 23.4995545324487). Saving model!\n"
     ]
    },
    {
     "name": "stderr",
     "output_type": "stream",
     "text": [
      "  0%|          | 0/1276 [00:00<?, ?it/s]"
     ]
    },
    {
     "name": "stdout",
     "output_type": "stream",
     "text": [
      "Epoch 5, lr 1.2957746478873242e-05\n",
      "Mode Scheduler: OK\n"
     ]
    },
    {
     "name": "stderr",
     "output_type": "stream",
     "text": [
      "100%|██████████| 1276/1276 [05:00<00:00,  4.24it/s, LR=1.11e-5, Train_Loss=18.8]\n",
      "  0%|          | 0/319 [00:00<?, ?it/s]"
     ]
    },
    {
     "name": "stdout",
     "output_type": "stream",
     "text": [
      "Training -> Loss: 18.815732654359273\n"
     ]
    },
    {
     "name": "stderr",
     "output_type": "stream",
     "text": [
      "100%|██████████| 319/319 [00:29<00:00, 10.89it/s, Eval_Loss=23.3]\n"
     ]
    },
    {
     "name": "stdout",
     "output_type": "stream",
     "text": [
      "Validation -> Loss: 23.285865714931187\n",
      "Validation score improved (23.4995545324487 --> 23.285865714931187). Saving model!\n"
     ]
    },
    {
     "name": "stderr",
     "output_type": "stream",
     "text": [
      "  0%|          | 0/1276 [00:00<?, ?it/s]"
     ]
    },
    {
     "name": "stdout",
     "output_type": "stream",
     "text": [
      "Epoch 6, lr 1.1104980397851025e-05\n",
      "Mode Scheduler: OK\n"
     ]
    },
    {
     "name": "stderr",
     "output_type": "stream",
     "text": [
      "100%|██████████| 1276/1276 [05:01<00:00,  4.23it/s, LR=9.25e-6, Train_Loss=17.8]\n",
      "  0%|          | 0/319 [00:00<?, ?it/s]"
     ]
    },
    {
     "name": "stdout",
     "output_type": "stream",
     "text": [
      "Training -> Loss: 17.805843653350042\n"
     ]
    },
    {
     "name": "stderr",
     "output_type": "stream",
     "text": [
      "100%|██████████| 319/319 [00:29<00:00, 10.89it/s, Eval_Loss=23.8]\n",
      "  0%|          | 0/1276 [00:00<?, ?it/s]"
     ]
    },
    {
     "name": "stdout",
     "output_type": "stream",
     "text": [
      "Validation -> Loss: 23.78731407117694\n",
      "EarlyStopping counter: 1 out of 5\n",
      "Epoch 7, lr 9.252214316828807e-06\n",
      "Mode Scheduler: OK\n"
     ]
    },
    {
     "name": "stderr",
     "output_type": "stream",
     "text": [
      "100%|██████████| 1276/1276 [05:03<00:00,  4.21it/s, LR=7.4e-6, Train_Loss=16.9] \n",
      "  0%|          | 0/319 [00:00<?, ?it/s]"
     ]
    },
    {
     "name": "stdout",
     "output_type": "stream",
     "text": [
      "Training -> Loss: 16.927461096672427\n"
     ]
    },
    {
     "name": "stderr",
     "output_type": "stream",
     "text": [
      "100%|██████████| 319/319 [00:30<00:00, 10.59it/s, Eval_Loss=23.2]\n"
     ]
    },
    {
     "name": "stdout",
     "output_type": "stream",
     "text": [
      "Validation -> Loss: 23.22477491372805\n",
      "Validation score improved (23.285865714931187 --> 23.22477491372805). Saving model!\n"
     ]
    },
    {
     "name": "stderr",
     "output_type": "stream",
     "text": [
      "  0%|          | 0/1276 [00:00<?, ?it/s]"
     ]
    },
    {
     "name": "stdout",
     "output_type": "stream",
     "text": [
      "Epoch 8, lr 7.399448235806593e-06\n",
      "Mode Scheduler: OK\n"
     ]
    },
    {
     "name": "stderr",
     "output_type": "stream",
     "text": [
      "100%|██████████| 1276/1276 [05:01<00:00,  4.23it/s, LR=5.55e-6, Train_Loss=16.3]\n",
      "  0%|          | 0/319 [00:00<?, ?it/s]"
     ]
    },
    {
     "name": "stdout",
     "output_type": "stream",
     "text": [
      "Training -> Loss: 16.273143233924078\n"
     ]
    },
    {
     "name": "stderr",
     "output_type": "stream",
     "text": [
      "100%|██████████| 319/319 [00:29<00:00, 10.80it/s, Eval_Loss=23.4]\n",
      "  0%|          | 0/1276 [00:00<?, ?it/s]"
     ]
    },
    {
     "name": "stdout",
     "output_type": "stream",
     "text": [
      "Validation -> Loss: 23.42048592403017\n",
      "EarlyStopping counter: 1 out of 5\n",
      "Epoch 9, lr 5.546682154784376e-06\n",
      "Mode Scheduler: OK\n"
     ]
    },
    {
     "name": "stderr",
     "output_type": "stream",
     "text": [
      "100%|██████████| 1276/1276 [05:02<00:00,  4.22it/s, LR=3.69e-6, Train_Loss=15.7]\n",
      "  0%|          | 0/319 [00:00<?, ?it/s]"
     ]
    },
    {
     "name": "stdout",
     "output_type": "stream",
     "text": [
      "Training -> Loss: 15.700256390818234\n"
     ]
    },
    {
     "name": "stderr",
     "output_type": "stream",
     "text": [
      "100%|██████████| 319/319 [00:28<00:00, 11.06it/s, Eval_Loss=22.9]\n"
     ]
    },
    {
     "name": "stdout",
     "output_type": "stream",
     "text": [
      "Validation -> Loss: 22.90965392372825\n",
      "Validation score improved (23.22477491372805 --> 22.90965392372825). Saving model!\n"
     ]
    },
    {
     "name": "stderr",
     "output_type": "stream",
     "text": [
      "  0%|          | 0/1276 [00:00<?, ?it/s]"
     ]
    },
    {
     "name": "stdout",
     "output_type": "stream",
     "text": [
      "Epoch 10, lr 3.693916073762161e-06\n",
      "Mode Scheduler: OK\n"
     ]
    },
    {
     "name": "stderr",
     "output_type": "stream",
     "text": [
      "100%|██████████| 1276/1276 [05:02<00:00,  4.22it/s, LR=1.84e-6, Train_Loss=15.3]\n",
      "  0%|          | 0/319 [00:00<?, ?it/s]"
     ]
    },
    {
     "name": "stdout",
     "output_type": "stream",
     "text": [
      "Training -> Loss: 15.27596096484265\n"
     ]
    },
    {
     "name": "stderr",
     "output_type": "stream",
     "text": [
      "100%|██████████| 319/319 [00:30<00:00, 10.43it/s, Eval_Loss=22.7]\n"
     ]
    },
    {
     "name": "stdout",
     "output_type": "stream",
     "text": [
      "Validation -> Loss: 22.66348245076625\n",
      "Validation score improved (22.90965392372825 --> 22.66348245076625). Saving model!\n"
     ]
    },
    {
     "name": "stderr",
     "output_type": "stream",
     "text": [
      "  0%|          | 0/1276 [00:00<?, ?it/s]"
     ]
    },
    {
     "name": "stdout",
     "output_type": "stream",
     "text": [
      "Epoch 11, lr 1.841149992739945e-06\n",
      "Mode Scheduler: OK\n"
     ]
    },
    {
     "name": "stderr",
     "output_type": "stream",
     "text": [
      "100%|██████████| 1276/1276 [05:01<00:00,  4.24it/s, LR=0, Train_Loss=14.9]      \n",
      "  0%|          | 0/319 [00:00<?, ?it/s]"
     ]
    },
    {
     "name": "stdout",
     "output_type": "stream",
     "text": [
      "Training -> Loss: 14.949389297199847\n"
     ]
    },
    {
     "name": "stderr",
     "output_type": "stream",
     "text": [
      "100%|██████████| 319/319 [00:29<00:00, 10.99it/s, Eval_Loss=22.6]\n"
     ]
    },
    {
     "name": "stdout",
     "output_type": "stream",
     "text": [
      "Validation -> Loss: 22.566729470853897\n",
      "Validation score improved (22.66348245076625 --> 22.566729470853897). Saving model!\n",
      "Didn't meet early stopping\n",
      "******************** Model Fold 1  *****************\n",
      "Train:  81622 Valid:  20406\n"
     ]
    },
    {
     "name": "stderr",
     "output_type": "stream",
     "text": [
      "  0%|          | 0/1276 [00:00<?, ?it/s]"
     ]
    },
    {
     "name": "stdout",
     "output_type": "stream",
     "text": [
      "num_train_steps: 15304\n",
      "Epoch 0, lr 0.0\n",
      "Mode Scheduler: OK\n"
     ]
    },
    {
     "name": "stderr",
     "output_type": "stream",
     "text": [
      "100%|██████████| 1276/1276 [05:02<00:00,  4.22it/s, LR=1.67e-5, Train_Loss=68.4]\n",
      "  0%|          | 0/319 [00:00<?, ?it/s]"
     ]
    },
    {
     "name": "stdout",
     "output_type": "stream",
     "text": [
      "Training -> Loss: 68.44055353063027\n"
     ]
    },
    {
     "name": "stderr",
     "output_type": "stream",
     "text": [
      "100%|██████████| 319/319 [00:30<00:00, 10.45it/s, Eval_Loss=32.9]\n"
     ]
    },
    {
     "name": "stdout",
     "output_type": "stream",
     "text": [
      "Validation -> Loss: 32.91006547455503\n",
      "Validation score improved (inf --> 32.91006547455503). Saving model!\n"
     ]
    },
    {
     "name": "stderr",
     "output_type": "stream",
     "text": [
      "  0%|          | 0/1276 [00:00<?, ?it/s]"
     ]
    },
    {
     "name": "stdout",
     "output_type": "stream",
     "text": [
      "Epoch 1, lr 1.6679738562091504e-05\n",
      "Mode Scheduler: OK\n"
     ]
    },
    {
     "name": "stderr",
     "output_type": "stream",
     "text": [
      "100%|██████████| 1276/1276 [05:05<00:00,  4.17it/s, LR=1.85e-5, Train_Loss=29.9]\n",
      "  0%|          | 0/319 [00:00<?, ?it/s]"
     ]
    },
    {
     "name": "stdout",
     "output_type": "stream",
     "text": [
      "Training -> Loss: 29.85158812588659\n"
     ]
    },
    {
     "name": "stderr",
     "output_type": "stream",
     "text": [
      "100%|██████████| 319/319 [00:30<00:00, 10.46it/s, Eval_Loss=26.3]\n"
     ]
    },
    {
     "name": "stdout",
     "output_type": "stream",
     "text": [
      "Validation -> Loss: 26.285617200558463\n",
      "Validation score improved (32.91006547455503 --> 26.285617200558463). Saving model!\n"
     ]
    },
    {
     "name": "stderr",
     "output_type": "stream",
     "text": [
      "  0%|          | 0/1276 [00:00<?, ?it/s]"
     ]
    },
    {
     "name": "stdout",
     "output_type": "stream",
     "text": [
      "Epoch 2, lr 1.8516044721939887e-05\n",
      "Mode Scheduler: OK\n"
     ]
    },
    {
     "name": "stderr",
     "output_type": "stream",
     "text": [
      "100%|██████████| 1276/1276 [05:04<00:00,  4.19it/s, LR=1.67e-5, Train_Loss=24.6]\n",
      "  0%|          | 0/319 [00:00<?, ?it/s]"
     ]
    },
    {
     "name": "stdout",
     "output_type": "stream",
     "text": [
      "Training -> Loss: 24.64155409926531\n"
     ]
    },
    {
     "name": "stderr",
     "output_type": "stream",
     "text": [
      "100%|██████████| 319/319 [00:30<00:00, 10.35it/s, Eval_Loss=25]  \n"
     ]
    },
    {
     "name": "stdout",
     "output_type": "stream",
     "text": [
      "Validation -> Loss: 24.99150720733834\n",
      "Validation score improved (26.285617200558463 --> 24.99150720733834). Saving model!\n"
     ]
    },
    {
     "name": "stderr",
     "output_type": "stream",
     "text": [
      "  0%|          | 0/1276 [00:00<?, ?it/s]"
     ]
    },
    {
     "name": "stdout",
     "output_type": "stream",
     "text": [
      "Epoch 3, lr 1.6663278640917674e-05\n",
      "Mode Scheduler: OK\n"
     ]
    },
    {
     "name": "stderr",
     "output_type": "stream",
     "text": [
      "100%|██████████| 1276/1276 [05:03<00:00,  4.20it/s, LR=1.48e-5, Train_Loss=22]  \n",
      "  0%|          | 0/319 [00:00<?, ?it/s]"
     ]
    },
    {
     "name": "stdout",
     "output_type": "stream",
     "text": [
      "Training -> Loss: 21.97710532902924\n"
     ]
    },
    {
     "name": "stderr",
     "output_type": "stream",
     "text": [
      "100%|██████████| 319/319 [00:30<00:00, 10.43it/s, Eval_Loss=24.3]\n"
     ]
    },
    {
     "name": "stdout",
     "output_type": "stream",
     "text": [
      "Validation -> Loss: 24.26881038881021\n",
      "Validation score improved (24.99150720733834 --> 24.26881038881021). Saving model!\n"
     ]
    },
    {
     "name": "stderr",
     "output_type": "stream",
     "text": [
      "  0%|          | 0/1276 [00:00<?, ?it/s]"
     ]
    },
    {
     "name": "stdout",
     "output_type": "stream",
     "text": [
      "Epoch 4, lr 1.4810512559895456e-05\n",
      "Mode Scheduler: OK\n"
     ]
    },
    {
     "name": "stderr",
     "output_type": "stream",
     "text": [
      "100%|██████████| 1276/1276 [05:04<00:00,  4.19it/s, LR=1.3e-5, Train_Loss=20.2] \n",
      "  0%|          | 0/319 [00:00<?, ?it/s]"
     ]
    },
    {
     "name": "stdout",
     "output_type": "stream",
     "text": [
      "Training -> Loss: 20.151521967122548\n"
     ]
    },
    {
     "name": "stderr",
     "output_type": "stream",
     "text": [
      "100%|██████████| 319/319 [00:30<00:00, 10.48it/s, Eval_Loss=23.6]\n"
     ]
    },
    {
     "name": "stdout",
     "output_type": "stream",
     "text": [
      "Validation -> Loss: 23.557359581830735\n",
      "Validation score improved (24.26881038881021 --> 23.557359581830735). Saving model!\n"
     ]
    },
    {
     "name": "stderr",
     "output_type": "stream",
     "text": [
      "  0%|          | 0/1276 [00:00<?, ?it/s]"
     ]
    },
    {
     "name": "stdout",
     "output_type": "stream",
     "text": [
      "Epoch 5, lr 1.2957746478873242e-05\n",
      "Mode Scheduler: OK\n"
     ]
    },
    {
     "name": "stderr",
     "output_type": "stream",
     "text": [
      "100%|██████████| 1276/1276 [05:05<00:00,  4.18it/s, LR=1.11e-5, Train_Loss=18.9]\n",
      "  0%|          | 0/319 [00:00<?, ?it/s]"
     ]
    },
    {
     "name": "stdout",
     "output_type": "stream",
     "text": [
      "Training -> Loss: 18.85803728193325\n"
     ]
    },
    {
     "name": "stderr",
     "output_type": "stream",
     "text": [
      "100%|██████████| 319/319 [00:31<00:00, 10.20it/s, Eval_Loss=23.3]\n"
     ]
    },
    {
     "name": "stdout",
     "output_type": "stream",
     "text": [
      "Validation -> Loss: 23.264226276672748\n",
      "Validation score improved (23.557359581830735 --> 23.264226276672748). Saving model!\n"
     ]
    },
    {
     "name": "stderr",
     "output_type": "stream",
     "text": [
      "  0%|          | 0/1276 [00:00<?, ?it/s]"
     ]
    },
    {
     "name": "stdout",
     "output_type": "stream",
     "text": [
      "Epoch 6, lr 1.1104980397851025e-05\n",
      "Mode Scheduler: OK\n"
     ]
    },
    {
     "name": "stderr",
     "output_type": "stream",
     "text": [
      "100%|██████████| 1276/1276 [05:06<00:00,  4.17it/s, LR=9.25e-6, Train_Loss=17.7]\n",
      "  0%|          | 0/319 [00:00<?, ?it/s]"
     ]
    },
    {
     "name": "stdout",
     "output_type": "stream",
     "text": [
      "Training -> Loss: 17.70229396270734\n"
     ]
    },
    {
     "name": "stderr",
     "output_type": "stream",
     "text": [
      "100%|██████████| 319/319 [00:30<00:00, 10.51it/s, Eval_Loss=23.2]\n"
     ]
    },
    {
     "name": "stdout",
     "output_type": "stream",
     "text": [
      "Validation -> Loss: 23.204936099276647\n",
      "Validation score improved (23.264226276672748 --> 23.204936099276647). Saving model!\n"
     ]
    },
    {
     "name": "stderr",
     "output_type": "stream",
     "text": [
      "  0%|          | 0/1276 [00:00<?, ?it/s]"
     ]
    },
    {
     "name": "stdout",
     "output_type": "stream",
     "text": [
      "Epoch 7, lr 9.252214316828807e-06\n",
      "Mode Scheduler: OK\n"
     ]
    },
    {
     "name": "stderr",
     "output_type": "stream",
     "text": [
      "100%|██████████| 1276/1276 [05:05<00:00,  4.17it/s, LR=7.4e-6, Train_Loss=16.8] \n",
      "  0%|          | 0/319 [00:00<?, ?it/s]"
     ]
    },
    {
     "name": "stdout",
     "output_type": "stream",
     "text": [
      "Training -> Loss: 16.846363781948448\n"
     ]
    },
    {
     "name": "stderr",
     "output_type": "stream",
     "text": [
      "100%|██████████| 319/319 [00:30<00:00, 10.41it/s, Eval_Loss=23.2]\n"
     ]
    },
    {
     "name": "stdout",
     "output_type": "stream",
     "text": [
      "Validation -> Loss: 23.189819389749843\n",
      "Validation score improved (23.204936099276647 --> 23.189819389749843). Saving model!\n"
     ]
    },
    {
     "name": "stderr",
     "output_type": "stream",
     "text": [
      "  0%|          | 0/1276 [00:00<?, ?it/s]"
     ]
    },
    {
     "name": "stdout",
     "output_type": "stream",
     "text": [
      "Epoch 8, lr 7.399448235806593e-06\n",
      "Mode Scheduler: OK\n"
     ]
    },
    {
     "name": "stderr",
     "output_type": "stream",
     "text": [
      "100%|██████████| 1276/1276 [05:05<00:00,  4.17it/s, LR=5.55e-6, Train_Loss=16.2]\n",
      "  0%|          | 0/319 [00:00<?, ?it/s]"
     ]
    },
    {
     "name": "stdout",
     "output_type": "stream",
     "text": [
      "Training -> Loss: 16.164178113485203\n"
     ]
    },
    {
     "name": "stderr",
     "output_type": "stream",
     "text": [
      "100%|██████████| 319/319 [00:30<00:00, 10.58it/s, Eval_Loss=22.8]\n"
     ]
    },
    {
     "name": "stdout",
     "output_type": "stream",
     "text": [
      "Validation -> Loss: 22.766169867919157\n",
      "Validation score improved (23.189819389749843 --> 22.766169867919157). Saving model!\n"
     ]
    },
    {
     "name": "stderr",
     "output_type": "stream",
     "text": [
      "  0%|          | 0/1276 [00:00<?, ?it/s]"
     ]
    },
    {
     "name": "stdout",
     "output_type": "stream",
     "text": [
      "Epoch 9, lr 5.546682154784376e-06\n",
      "Mode Scheduler: OK\n"
     ]
    },
    {
     "name": "stderr",
     "output_type": "stream",
     "text": [
      "100%|██████████| 1276/1276 [05:07<00:00,  4.15it/s, LR=3.69e-6, Train_Loss=15.7]\n",
      "  0%|          | 0/319 [00:00<?, ?it/s]"
     ]
    },
    {
     "name": "stdout",
     "output_type": "stream",
     "text": [
      "Training -> Loss: 15.656845564191991\n"
     ]
    },
    {
     "name": "stderr",
     "output_type": "stream",
     "text": [
      "100%|██████████| 319/319 [00:30<00:00, 10.58it/s, Eval_Loss=23]  \n",
      "  0%|          | 0/1276 [00:00<?, ?it/s]"
     ]
    },
    {
     "name": "stdout",
     "output_type": "stream",
     "text": [
      "Validation -> Loss: 23.022405235744944\n",
      "EarlyStopping counter: 1 out of 5\n",
      "Epoch 10, lr 3.693916073762161e-06\n",
      "Mode Scheduler: OK\n"
     ]
    },
    {
     "name": "stderr",
     "output_type": "stream",
     "text": [
      "100%|██████████| 1276/1276 [05:04<00:00,  4.19it/s, LR=1.84e-6, Train_Loss=15.2]\n",
      "  0%|          | 0/319 [00:00<?, ?it/s]"
     ]
    },
    {
     "name": "stdout",
     "output_type": "stream",
     "text": [
      "Training -> Loss: 15.197378664928545\n"
     ]
    },
    {
     "name": "stderr",
     "output_type": "stream",
     "text": [
      "100%|██████████| 319/319 [00:30<00:00, 10.49it/s, Eval_Loss=22.7]\n"
     ]
    },
    {
     "name": "stdout",
     "output_type": "stream",
     "text": [
      "Validation -> Loss: 22.667208247050223\n",
      "Validation score improved (22.766169867919157 --> 22.667208247050223). Saving model!\n"
     ]
    },
    {
     "name": "stderr",
     "output_type": "stream",
     "text": [
      "  0%|          | 0/1276 [00:00<?, ?it/s]"
     ]
    },
    {
     "name": "stdout",
     "output_type": "stream",
     "text": [
      "Epoch 11, lr 1.841149992739945e-06\n",
      "Mode Scheduler: OK\n"
     ]
    },
    {
     "name": "stderr",
     "output_type": "stream",
     "text": [
      "100%|██████████| 1276/1276 [05:05<00:00,  4.18it/s, LR=0, Train_Loss=14.9]      \n",
      "  0%|          | 0/319 [00:00<?, ?it/s]"
     ]
    },
    {
     "name": "stdout",
     "output_type": "stream",
     "text": [
      "Training -> Loss: 14.894868367050883\n"
     ]
    },
    {
     "name": "stderr",
     "output_type": "stream",
     "text": [
      "100%|██████████| 319/319 [00:30<00:00, 10.37it/s, Eval_Loss=22.6]\n"
     ]
    },
    {
     "name": "stdout",
     "output_type": "stream",
     "text": [
      "Validation -> Loss: 22.633750287716666\n",
      "Validation score improved (22.667208247050223 --> 22.633750287716666). Saving model!\n",
      "Didn't meet early stopping\n",
      "******************** Model Fold 2  *****************\n",
      "Train:  81622 Valid:  20406\n"
     ]
    },
    {
     "name": "stderr",
     "output_type": "stream",
     "text": [
      "  0%|          | 0/1276 [00:00<?, ?it/s]"
     ]
    },
    {
     "name": "stdout",
     "output_type": "stream",
     "text": [
      "num_train_steps: 15304\n",
      "Epoch 0, lr 0.0\n",
      "Mode Scheduler: OK\n"
     ]
    },
    {
     "name": "stderr",
     "output_type": "stream",
     "text": [
      "100%|██████████| 1276/1276 [05:04<00:00,  4.19it/s, LR=1.67e-5, Train_Loss=67.4]\n",
      "  0%|          | 0/319 [00:00<?, ?it/s]"
     ]
    },
    {
     "name": "stdout",
     "output_type": "stream",
     "text": [
      "Training -> Loss: 67.44226939551135\n"
     ]
    },
    {
     "name": "stderr",
     "output_type": "stream",
     "text": [
      "100%|██████████| 319/319 [00:30<00:00, 10.35it/s, Eval_Loss=32.4]\n"
     ]
    },
    {
     "name": "stdout",
     "output_type": "stream",
     "text": [
      "Validation -> Loss: 32.43990907101048\n",
      "Validation score improved (inf --> 32.43990907101048). Saving model!\n"
     ]
    },
    {
     "name": "stderr",
     "output_type": "stream",
     "text": [
      "  0%|          | 0/1276 [00:00<?, ?it/s]"
     ]
    },
    {
     "name": "stdout",
     "output_type": "stream",
     "text": [
      "Epoch 1, lr 1.6679738562091504e-05\n",
      "Mode Scheduler: OK\n"
     ]
    },
    {
     "name": "stderr",
     "output_type": "stream",
     "text": [
      "100%|██████████| 1276/1276 [05:05<00:00,  4.17it/s, LR=1.85e-5, Train_Loss=29.9]\n",
      "  0%|          | 0/319 [00:00<?, ?it/s]"
     ]
    },
    {
     "name": "stdout",
     "output_type": "stream",
     "text": [
      "Training -> Loss: 29.85000348165865\n"
     ]
    },
    {
     "name": "stderr",
     "output_type": "stream",
     "text": [
      "100%|██████████| 319/319 [00:29<00:00, 10.76it/s, Eval_Loss=25.6]\n"
     ]
    },
    {
     "name": "stdout",
     "output_type": "stream",
     "text": [
      "Validation -> Loss: 25.602959211343506\n",
      "Validation score improved (32.43990907101048 --> 25.602959211343506). Saving model!\n"
     ]
    },
    {
     "name": "stderr",
     "output_type": "stream",
     "text": [
      "  0%|          | 0/1276 [00:00<?, ?it/s]"
     ]
    },
    {
     "name": "stdout",
     "output_type": "stream",
     "text": [
      "Epoch 2, lr 1.8516044721939887e-05\n",
      "Mode Scheduler: OK\n"
     ]
    },
    {
     "name": "stderr",
     "output_type": "stream",
     "text": [
      "100%|██████████| 1276/1276 [05:05<00:00,  4.18it/s, LR=1.67e-5, Train_Loss=24.7]\n",
      "  0%|          | 0/319 [00:00<?, ?it/s]"
     ]
    },
    {
     "name": "stdout",
     "output_type": "stream",
     "text": [
      "Training -> Loss: 24.683336984027516\n"
     ]
    },
    {
     "name": "stderr",
     "output_type": "stream",
     "text": [
      "100%|██████████| 319/319 [00:29<00:00, 10.79it/s, Eval_Loss=24.2]\n"
     ]
    },
    {
     "name": "stdout",
     "output_type": "stream",
     "text": [
      "Validation -> Loss: 24.200891306407772\n",
      "Validation score improved (25.602959211343506 --> 24.200891306407772). Saving model!\n"
     ]
    },
    {
     "name": "stderr",
     "output_type": "stream",
     "text": [
      "  0%|          | 0/1276 [00:00<?, ?it/s]"
     ]
    },
    {
     "name": "stdout",
     "output_type": "stream",
     "text": [
      "Epoch 3, lr 1.6663278640917674e-05\n",
      "Mode Scheduler: OK\n"
     ]
    },
    {
     "name": "stderr",
     "output_type": "stream",
     "text": [
      "100%|██████████| 1276/1276 [05:04<00:00,  4.19it/s, LR=1.48e-5, Train_Loss=22.3]\n",
      "  0%|          | 0/319 [00:00<?, ?it/s]"
     ]
    },
    {
     "name": "stdout",
     "output_type": "stream",
     "text": [
      "Training -> Loss: 22.317987915864187\n"
     ]
    },
    {
     "name": "stderr",
     "output_type": "stream",
     "text": [
      "100%|██████████| 319/319 [00:30<00:00, 10.53it/s, Eval_Loss=23.5]\n"
     ]
    },
    {
     "name": "stdout",
     "output_type": "stream",
     "text": [
      "Validation -> Loss: 23.53151334266304\n",
      "Validation score improved (24.200891306407772 --> 23.53151334266304). Saving model!\n"
     ]
    },
    {
     "name": "stderr",
     "output_type": "stream",
     "text": [
      "  0%|          | 0/1276 [00:00<?, ?it/s]"
     ]
    },
    {
     "name": "stdout",
     "output_type": "stream",
     "text": [
      "Epoch 4, lr 1.4810512559895456e-05\n",
      "Mode Scheduler: OK\n"
     ]
    },
    {
     "name": "stderr",
     "output_type": "stream",
     "text": [
      "100%|██████████| 1276/1276 [05:05<00:00,  4.18it/s, LR=1.3e-5, Train_Loss=20.4] \n",
      "  0%|          | 0/319 [00:00<?, ?it/s]"
     ]
    },
    {
     "name": "stdout",
     "output_type": "stream",
     "text": [
      "Training -> Loss: 20.421523943590145\n"
     ]
    },
    {
     "name": "stderr",
     "output_type": "stream",
     "text": [
      "100%|██████████| 319/319 [00:30<00:00, 10.54it/s, Eval_Loss=22.8]\n"
     ]
    },
    {
     "name": "stdout",
     "output_type": "stream",
     "text": [
      "Validation -> Loss: 22.808058230480803\n",
      "Validation score improved (23.53151334266304 --> 22.808058230480803). Saving model!\n"
     ]
    },
    {
     "name": "stderr",
     "output_type": "stream",
     "text": [
      "  0%|          | 0/1276 [00:00<?, ?it/s]"
     ]
    },
    {
     "name": "stdout",
     "output_type": "stream",
     "text": [
      "Epoch 5, lr 1.2957746478873242e-05\n",
      "Mode Scheduler: OK\n"
     ]
    },
    {
     "name": "stderr",
     "output_type": "stream",
     "text": [
      "100%|██████████| 1276/1276 [05:05<00:00,  4.18it/s, LR=1.11e-5, Train_Loss=19]  \n",
      "  0%|          | 0/319 [00:00<?, ?it/s]"
     ]
    },
    {
     "name": "stdout",
     "output_type": "stream",
     "text": [
      "Training -> Loss: 18.97804765342545\n"
     ]
    },
    {
     "name": "stderr",
     "output_type": "stream",
     "text": [
      "100%|██████████| 319/319 [00:29<00:00, 10.90it/s, Eval_Loss=22.8]\n"
     ]
    },
    {
     "name": "stdout",
     "output_type": "stream",
     "text": [
      "Validation -> Loss: 22.796519955123852\n",
      "Validation score improved (22.808058230480803 --> 22.796519955123852). Saving model!\n"
     ]
    },
    {
     "name": "stderr",
     "output_type": "stream",
     "text": [
      "  0%|          | 0/1276 [00:00<?, ?it/s]"
     ]
    },
    {
     "name": "stdout",
     "output_type": "stream",
     "text": [
      "Epoch 6, lr 1.1104980397851025e-05\n",
      "Mode Scheduler: OK\n"
     ]
    },
    {
     "name": "stderr",
     "output_type": "stream",
     "text": [
      "100%|██████████| 1276/1276 [05:06<00:00,  4.16it/s, LR=9.25e-6, Train_Loss=18]  \n",
      "  0%|          | 0/319 [00:00<?, ?it/s]"
     ]
    },
    {
     "name": "stdout",
     "output_type": "stream",
     "text": [
      "Training -> Loss: 17.98353244817369\n"
     ]
    },
    {
     "name": "stderr",
     "output_type": "stream",
     "text": [
      "100%|██████████| 319/319 [00:29<00:00, 10.69it/s, Eval_Loss=23.1]\n",
      "  0%|          | 0/1276 [00:00<?, ?it/s]"
     ]
    },
    {
     "name": "stdout",
     "output_type": "stream",
     "text": [
      "Validation -> Loss: 23.116281503420264\n",
      "EarlyStopping counter: 1 out of 5\n",
      "Epoch 7, lr 9.252214316828807e-06\n",
      "Mode Scheduler: OK\n"
     ]
    },
    {
     "name": "stderr",
     "output_type": "stream",
     "text": [
      "100%|██████████| 1276/1276 [05:04<00:00,  4.19it/s, LR=7.4e-6, Train_Loss=17.2] \n",
      "  0%|          | 0/319 [00:00<?, ?it/s]"
     ]
    },
    {
     "name": "stdout",
     "output_type": "stream",
     "text": [
      "Training -> Loss: 17.197536032775353\n"
     ]
    },
    {
     "name": "stderr",
     "output_type": "stream",
     "text": [
      "100%|██████████| 319/319 [00:30<00:00, 10.56it/s, Eval_Loss=22.7]\n"
     ]
    },
    {
     "name": "stdout",
     "output_type": "stream",
     "text": [
      "Validation -> Loss: 22.684481321831107\n",
      "Validation score improved (22.796519955123852 --> 22.684481321831107). Saving model!\n"
     ]
    },
    {
     "name": "stderr",
     "output_type": "stream",
     "text": [
      "  0%|          | 0/1276 [00:00<?, ?it/s]"
     ]
    },
    {
     "name": "stdout",
     "output_type": "stream",
     "text": [
      "Epoch 8, lr 7.399448235806593e-06\n",
      "Mode Scheduler: OK\n"
     ]
    },
    {
     "name": "stderr",
     "output_type": "stream",
     "text": [
      "100%|██████████| 1276/1276 [05:05<00:00,  4.18it/s, LR=5.55e-6, Train_Loss=16.5]\n",
      "  0%|          | 0/319 [00:00<?, ?it/s]"
     ]
    },
    {
     "name": "stdout",
     "output_type": "stream",
     "text": [
      "Training -> Loss: 16.46393825968605\n"
     ]
    },
    {
     "name": "stderr",
     "output_type": "stream",
     "text": [
      "100%|██████████| 319/319 [00:29<00:00, 10.80it/s, Eval_Loss=22.5]\n"
     ]
    },
    {
     "name": "stdout",
     "output_type": "stream",
     "text": [
      "Validation -> Loss: 22.50192280772338\n",
      "Validation score improved (22.684481321831107 --> 22.50192280772338). Saving model!\n"
     ]
    },
    {
     "name": "stderr",
     "output_type": "stream",
     "text": [
      "  0%|          | 0/1276 [00:00<?, ?it/s]"
     ]
    },
    {
     "name": "stdout",
     "output_type": "stream",
     "text": [
      "Epoch 9, lr 5.546682154784376e-06\n",
      "Mode Scheduler: OK\n"
     ]
    },
    {
     "name": "stderr",
     "output_type": "stream",
     "text": [
      "100%|██████████| 1276/1276 [05:05<00:00,  4.17it/s, LR=3.69e-6, Train_Loss=15.9]\n",
      "  0%|          | 0/319 [00:00<?, ?it/s]"
     ]
    },
    {
     "name": "stdout",
     "output_type": "stream",
     "text": [
      "Training -> Loss: 15.890581269809818\n"
     ]
    },
    {
     "name": "stderr",
     "output_type": "stream",
     "text": [
      "100%|██████████| 319/319 [00:30<00:00, 10.55it/s, Eval_Loss=22.3]\n"
     ]
    },
    {
     "name": "stdout",
     "output_type": "stream",
     "text": [
      "Validation -> Loss: 22.311984154871638\n",
      "Validation score improved (22.50192280772338 --> 22.311984154871638). Saving model!\n"
     ]
    },
    {
     "name": "stderr",
     "output_type": "stream",
     "text": [
      "  0%|          | 0/1276 [00:00<?, ?it/s]"
     ]
    },
    {
     "name": "stdout",
     "output_type": "stream",
     "text": [
      "Epoch 10, lr 3.693916073762161e-06\n",
      "Mode Scheduler: OK\n"
     ]
    },
    {
     "name": "stderr",
     "output_type": "stream",
     "text": [
      "100%|██████████| 1276/1276 [05:04<00:00,  4.19it/s, LR=1.84e-6, Train_Loss=15.5]\n",
      "  0%|          | 0/319 [00:00<?, ?it/s]"
     ]
    },
    {
     "name": "stdout",
     "output_type": "stream",
     "text": [
      "Training -> Loss: 15.456671341459579\n"
     ]
    },
    {
     "name": "stderr",
     "output_type": "stream",
     "text": [
      "100%|██████████| 319/319 [00:29<00:00, 10.73it/s, Eval_Loss=22]  \n"
     ]
    },
    {
     "name": "stdout",
     "output_type": "stream",
     "text": [
      "Validation -> Loss: 22.007583791559394\n",
      "Validation score improved (22.311984154871638 --> 22.007583791559394). Saving model!\n"
     ]
    },
    {
     "name": "stderr",
     "output_type": "stream",
     "text": [
      "  0%|          | 0/1276 [00:00<?, ?it/s]"
     ]
    },
    {
     "name": "stdout",
     "output_type": "stream",
     "text": [
      "Epoch 11, lr 1.841149992739945e-06\n",
      "Mode Scheduler: OK\n"
     ]
    },
    {
     "name": "stderr",
     "output_type": "stream",
     "text": [
      "100%|██████████| 1276/1276 [05:05<00:00,  4.18it/s, LR=0, Train_Loss=15.1]      \n",
      "  0%|          | 0/319 [00:00<?, ?it/s]"
     ]
    },
    {
     "name": "stdout",
     "output_type": "stream",
     "text": [
      "Training -> Loss: 15.122548420787979\n"
     ]
    },
    {
     "name": "stderr",
     "output_type": "stream",
     "text": [
      "100%|██████████| 319/319 [00:29<00:00, 10.75it/s, Eval_Loss=21.9]\n"
     ]
    },
    {
     "name": "stdout",
     "output_type": "stream",
     "text": [
      "Validation -> Loss: 21.93970409979267\n",
      "Validation score improved (22.007583791559394 --> 21.93970409979267). Saving model!\n",
      "Didn't meet early stopping\n",
      "******************** Model Fold 3  *****************\n",
      "Train:  81623 Valid:  20405\n"
     ]
    },
    {
     "name": "stderr",
     "output_type": "stream",
     "text": [
      "  0%|          | 0/1276 [00:00<?, ?it/s]"
     ]
    },
    {
     "name": "stdout",
     "output_type": "stream",
     "text": [
      "num_train_steps: 15304\n",
      "Epoch 0, lr 0.0\n",
      "Mode Scheduler: OK\n"
     ]
    },
    {
     "name": "stderr",
     "output_type": "stream",
     "text": [
      "100%|██████████| 1276/1276 [05:03<00:00,  4.21it/s, LR=1.67e-5, Train_Loss=67.5]\n",
      "  0%|          | 0/319 [00:00<?, ?it/s]"
     ]
    },
    {
     "name": "stdout",
     "output_type": "stream",
     "text": [
      "Training -> Loss: 67.51813169108662\n"
     ]
    },
    {
     "name": "stderr",
     "output_type": "stream",
     "text": [
      "100%|██████████| 319/319 [00:30<00:00, 10.57it/s, Eval_Loss=35.1]\n"
     ]
    },
    {
     "name": "stdout",
     "output_type": "stream",
     "text": [
      "Validation -> Loss: 35.05412807285225\n",
      "Validation score improved (inf --> 35.05412807285225). Saving model!\n"
     ]
    },
    {
     "name": "stderr",
     "output_type": "stream",
     "text": [
      "  0%|          | 0/1276 [00:00<?, ?it/s]"
     ]
    },
    {
     "name": "stdout",
     "output_type": "stream",
     "text": [
      "Epoch 1, lr 1.6679738562091504e-05\n",
      "Mode Scheduler: OK\n"
     ]
    },
    {
     "name": "stderr",
     "output_type": "stream",
     "text": [
      "100%|██████████| 1276/1276 [05:04<00:00,  4.19it/s, LR=1.85e-5, Train_Loss=29.7]\n",
      "  0%|          | 0/319 [00:00<?, ?it/s]"
     ]
    },
    {
     "name": "stdout",
     "output_type": "stream",
     "text": [
      "Training -> Loss: 29.709441410710447\n"
     ]
    },
    {
     "name": "stderr",
     "output_type": "stream",
     "text": [
      "100%|██████████| 319/319 [00:30<00:00, 10.43it/s, Eval_Loss=27.4]\n"
     ]
    },
    {
     "name": "stdout",
     "output_type": "stream",
     "text": [
      "Validation -> Loss: 27.435747852146065\n",
      "Validation score improved (35.05412807285225 --> 27.435747852146065). Saving model!\n"
     ]
    },
    {
     "name": "stderr",
     "output_type": "stream",
     "text": [
      "  0%|          | 0/1276 [00:00<?, ?it/s]"
     ]
    },
    {
     "name": "stdout",
     "output_type": "stream",
     "text": [
      "Epoch 2, lr 1.8516044721939887e-05\n",
      "Mode Scheduler: OK\n"
     ]
    },
    {
     "name": "stderr",
     "output_type": "stream",
     "text": [
      "100%|██████████| 1276/1276 [05:05<00:00,  4.18it/s, LR=1.67e-5, Train_Loss=24.6]\n",
      "  0%|          | 0/319 [00:00<?, ?it/s]"
     ]
    },
    {
     "name": "stdout",
     "output_type": "stream",
     "text": [
      "Training -> Loss: 24.631230520230474\n"
     ]
    },
    {
     "name": "stderr",
     "output_type": "stream",
     "text": [
      "100%|██████████| 319/319 [00:29<00:00, 10.66it/s, Eval_Loss=25.4]\n"
     ]
    },
    {
     "name": "stdout",
     "output_type": "stream",
     "text": [
      "Validation -> Loss: 25.439675453688285\n",
      "Validation score improved (27.435747852146065 --> 25.439675453688285). Saving model!\n"
     ]
    },
    {
     "name": "stderr",
     "output_type": "stream",
     "text": [
      "  0%|          | 0/1276 [00:00<?, ?it/s]"
     ]
    },
    {
     "name": "stdout",
     "output_type": "stream",
     "text": [
      "Epoch 3, lr 1.6663278640917674e-05\n",
      "Mode Scheduler: OK\n"
     ]
    },
    {
     "name": "stderr",
     "output_type": "stream",
     "text": [
      "100%|██████████| 1276/1276 [05:04<00:00,  4.20it/s, LR=1.48e-5, Train_Loss=21.9]\n",
      "  0%|          | 0/319 [00:00<?, ?it/s]"
     ]
    },
    {
     "name": "stdout",
     "output_type": "stream",
     "text": [
      "Training -> Loss: 21.937425701595775\n"
     ]
    },
    {
     "name": "stderr",
     "output_type": "stream",
     "text": [
      "100%|██████████| 319/319 [00:30<00:00, 10.61it/s, Eval_Loss=24.9]\n"
     ]
    },
    {
     "name": "stdout",
     "output_type": "stream",
     "text": [
      "Validation -> Loss: 24.933309761334364\n",
      "Validation score improved (25.439675453688285 --> 24.933309761334364). Saving model!\n"
     ]
    },
    {
     "name": "stderr",
     "output_type": "stream",
     "text": [
      "  0%|          | 0/1276 [00:00<?, ?it/s]"
     ]
    },
    {
     "name": "stdout",
     "output_type": "stream",
     "text": [
      "Epoch 4, lr 1.4810512559895456e-05\n",
      "Mode Scheduler: OK\n"
     ]
    },
    {
     "name": "stderr",
     "output_type": "stream",
     "text": [
      "100%|██████████| 1276/1276 [05:06<00:00,  4.17it/s, LR=1.3e-5, Train_Loss=20.1] \n",
      "  0%|          | 0/319 [00:00<?, ?it/s]"
     ]
    },
    {
     "name": "stdout",
     "output_type": "stream",
     "text": [
      "Training -> Loss: 20.136313857329675\n"
     ]
    },
    {
     "name": "stderr",
     "output_type": "stream",
     "text": [
      "100%|██████████| 319/319 [00:30<00:00, 10.49it/s, Eval_Loss=24.3]\n"
     ]
    },
    {
     "name": "stdout",
     "output_type": "stream",
     "text": [
      "Validation -> Loss: 24.3086216517003\n",
      "Validation score improved (24.933309761334364 --> 24.3086216517003). Saving model!\n"
     ]
    },
    {
     "name": "stderr",
     "output_type": "stream",
     "text": [
      "  0%|          | 0/1276 [00:00<?, ?it/s]"
     ]
    },
    {
     "name": "stdout",
     "output_type": "stream",
     "text": [
      "Epoch 5, lr 1.2957746478873242e-05\n",
      "Mode Scheduler: OK\n"
     ]
    },
    {
     "name": "stderr",
     "output_type": "stream",
     "text": [
      "100%|██████████| 1276/1276 [05:05<00:00,  4.18it/s, LR=1.11e-5, Train_Loss=18.8]\n",
      "  0%|          | 0/319 [00:00<?, ?it/s]"
     ]
    },
    {
     "name": "stdout",
     "output_type": "stream",
     "text": [
      "Training -> Loss: 18.821231679109196\n"
     ]
    },
    {
     "name": "stderr",
     "output_type": "stream",
     "text": [
      "100%|██████████| 319/319 [00:29<00:00, 10.76it/s, Eval_Loss=24.1]\n"
     ]
    },
    {
     "name": "stdout",
     "output_type": "stream",
     "text": [
      "Validation -> Loss: 24.08404503944899\n",
      "Validation score improved (24.3086216517003 --> 24.08404503944899). Saving model!\n"
     ]
    },
    {
     "name": "stderr",
     "output_type": "stream",
     "text": [
      "  0%|          | 0/1276 [00:00<?, ?it/s]"
     ]
    },
    {
     "name": "stdout",
     "output_type": "stream",
     "text": [
      "Epoch 6, lr 1.1104980397851025e-05\n",
      "Mode Scheduler: OK\n"
     ]
    },
    {
     "name": "stderr",
     "output_type": "stream",
     "text": [
      "100%|██████████| 1276/1276 [05:02<00:00,  4.22it/s, LR=9.25e-6, Train_Loss=17.7]\n",
      "  0%|          | 0/319 [00:00<?, ?it/s]"
     ]
    },
    {
     "name": "stdout",
     "output_type": "stream",
     "text": [
      "Training -> Loss: 17.677973025644835\n"
     ]
    },
    {
     "name": "stderr",
     "output_type": "stream",
     "text": [
      "100%|██████████| 319/319 [00:29<00:00, 10.95it/s, Eval_Loss=24]  \n"
     ]
    },
    {
     "name": "stdout",
     "output_type": "stream",
     "text": [
      "Validation -> Loss: 23.98093361989084\n",
      "Validation score improved (24.08404503944899 --> 23.98093361989084). Saving model!\n"
     ]
    },
    {
     "name": "stderr",
     "output_type": "stream",
     "text": [
      "  0%|          | 0/1276 [00:00<?, ?it/s]"
     ]
    },
    {
     "name": "stdout",
     "output_type": "stream",
     "text": [
      "Epoch 7, lr 9.252214316828807e-06\n",
      "Mode Scheduler: OK\n"
     ]
    },
    {
     "name": "stderr",
     "output_type": "stream",
     "text": [
      "100%|██████████| 1276/1276 [05:02<00:00,  4.22it/s, LR=7.4e-6, Train_Loss=16.9] \n",
      "  0%|          | 0/319 [00:00<?, ?it/s]"
     ]
    },
    {
     "name": "stdout",
     "output_type": "stream",
     "text": [
      "Training -> Loss: 16.867251094605855\n"
     ]
    },
    {
     "name": "stderr",
     "output_type": "stream",
     "text": [
      "100%|██████████| 319/319 [00:29<00:00, 10.69it/s, Eval_Loss=24.1]\n",
      "  0%|          | 0/1276 [00:00<?, ?it/s]"
     ]
    },
    {
     "name": "stdout",
     "output_type": "stream",
     "text": [
      "Validation -> Loss: 24.138138687349038\n",
      "EarlyStopping counter: 1 out of 5\n",
      "Epoch 8, lr 7.399448235806593e-06\n",
      "Mode Scheduler: OK\n"
     ]
    },
    {
     "name": "stderr",
     "output_type": "stream",
     "text": [
      "100%|██████████| 1276/1276 [05:02<00:00,  4.22it/s, LR=5.55e-6, Train_Loss=16.3]\n",
      "  0%|          | 0/319 [00:00<?, ?it/s]"
     ]
    },
    {
     "name": "stdout",
     "output_type": "stream",
     "text": [
      "Training -> Loss: 16.29249244704142\n"
     ]
    },
    {
     "name": "stderr",
     "output_type": "stream",
     "text": [
      "100%|██████████| 319/319 [00:29<00:00, 10.84it/s, Eval_Loss=24.1]\n",
      "  0%|          | 0/1276 [00:00<?, ?it/s]"
     ]
    },
    {
     "name": "stdout",
     "output_type": "stream",
     "text": [
      "Validation -> Loss: 24.064586513842162\n",
      "EarlyStopping counter: 2 out of 5\n",
      "Epoch 9, lr 5.546682154784376e-06\n",
      "Mode Scheduler: OK\n"
     ]
    },
    {
     "name": "stderr",
     "output_type": "stream",
     "text": [
      "100%|██████████| 1276/1276 [05:02<00:00,  4.22it/s, LR=3.69e-6, Train_Loss=15.7]\n",
      "  0%|          | 0/319 [00:00<?, ?it/s]"
     ]
    },
    {
     "name": "stdout",
     "output_type": "stream",
     "text": [
      "Training -> Loss: 15.650145706151346\n"
     ]
    },
    {
     "name": "stderr",
     "output_type": "stream",
     "text": [
      "100%|██████████| 319/319 [00:29<00:00, 10.96it/s, Eval_Loss=23.4]\n"
     ]
    },
    {
     "name": "stdout",
     "output_type": "stream",
     "text": [
      "Validation -> Loss: 23.404559464290223\n",
      "Validation score improved (23.98093361989084 --> 23.404559464290223). Saving model!\n"
     ]
    },
    {
     "name": "stderr",
     "output_type": "stream",
     "text": [
      "  0%|          | 0/1276 [00:00<?, ?it/s]"
     ]
    },
    {
     "name": "stdout",
     "output_type": "stream",
     "text": [
      "Epoch 10, lr 3.693916073762161e-06\n",
      "Mode Scheduler: OK\n"
     ]
    },
    {
     "name": "stderr",
     "output_type": "stream",
     "text": [
      "100%|██████████| 1276/1276 [05:02<00:00,  4.22it/s, LR=1.84e-6, Train_Loss=15.2]\n",
      "  0%|          | 0/319 [00:00<?, ?it/s]"
     ]
    },
    {
     "name": "stdout",
     "output_type": "stream",
     "text": [
      "Training -> Loss: 15.225294433043668\n"
     ]
    },
    {
     "name": "stderr",
     "output_type": "stream",
     "text": [
      "100%|██████████| 319/319 [00:29<00:00, 10.72it/s, Eval_Loss=23.3]\n"
     ]
    },
    {
     "name": "stdout",
     "output_type": "stream",
     "text": [
      "Validation -> Loss: 23.307876204248505\n",
      "Validation score improved (23.404559464290223 --> 23.307876204248505). Saving model!\n"
     ]
    },
    {
     "name": "stderr",
     "output_type": "stream",
     "text": [
      "  0%|          | 0/1276 [00:00<?, ?it/s]"
     ]
    },
    {
     "name": "stdout",
     "output_type": "stream",
     "text": [
      "Epoch 11, lr 1.841149992739945e-06\n",
      "Mode Scheduler: OK\n"
     ]
    },
    {
     "name": "stderr",
     "output_type": "stream",
     "text": [
      "100%|██████████| 1276/1276 [05:01<00:00,  4.23it/s, LR=0, Train_Loss=14.9]      \n",
      "  0%|          | 0/319 [00:00<?, ?it/s]"
     ]
    },
    {
     "name": "stdout",
     "output_type": "stream",
     "text": [
      "Training -> Loss: 14.942477258208404\n"
     ]
    },
    {
     "name": "stderr",
     "output_type": "stream",
     "text": [
      "100%|██████████| 319/319 [00:29<00:00, 10.81it/s, Eval_Loss=23.1]\n"
     ]
    },
    {
     "name": "stdout",
     "output_type": "stream",
     "text": [
      "Validation -> Loss: 23.130541046585034\n",
      "Validation score improved (23.307876204248505 --> 23.130541046585034). Saving model!\n",
      "Didn't meet early stopping\n",
      "******************** Model Fold 4  *****************\n",
      "Train:  81623 Valid:  20405\n"
     ]
    },
    {
     "name": "stderr",
     "output_type": "stream",
     "text": [
      "  0%|          | 0/1276 [00:00<?, ?it/s]"
     ]
    },
    {
     "name": "stdout",
     "output_type": "stream",
     "text": [
      "num_train_steps: 15304\n",
      "Epoch 0, lr 0.0\n",
      "Mode Scheduler: OK\n"
     ]
    },
    {
     "name": "stderr",
     "output_type": "stream",
     "text": [
      "100%|██████████| 1276/1276 [05:02<00:00,  4.22it/s, LR=1.67e-5, Train_Loss=68.5]\n",
      "  0%|          | 0/319 [00:00<?, ?it/s]"
     ]
    },
    {
     "name": "stdout",
     "output_type": "stream",
     "text": [
      "Training -> Loss: 68.50139272026134\n"
     ]
    },
    {
     "name": "stderr",
     "output_type": "stream",
     "text": [
      "100%|██████████| 319/319 [00:29<00:00, 10.96it/s, Eval_Loss=33.2]\n"
     ]
    },
    {
     "name": "stdout",
     "output_type": "stream",
     "text": [
      "Validation -> Loss: 33.19418364258769\n",
      "Validation score improved (inf --> 33.19418364258769). Saving model!\n"
     ]
    },
    {
     "name": "stderr",
     "output_type": "stream",
     "text": [
      "  0%|          | 0/1276 [00:00<?, ?it/s]"
     ]
    },
    {
     "name": "stdout",
     "output_type": "stream",
     "text": [
      "Epoch 1, lr 1.6679738562091504e-05\n",
      "Mode Scheduler: OK\n"
     ]
    },
    {
     "name": "stderr",
     "output_type": "stream",
     "text": [
      "100%|██████████| 1276/1276 [05:01<00:00,  4.23it/s, LR=1.85e-5, Train_Loss=29.8]\n",
      "  0%|          | 0/319 [00:00<?, ?it/s]"
     ]
    },
    {
     "name": "stdout",
     "output_type": "stream",
     "text": [
      "Training -> Loss: 29.847240975657975\n"
     ]
    },
    {
     "name": "stderr",
     "output_type": "stream",
     "text": [
      "100%|██████████| 319/319 [00:29<00:00, 10.83it/s, Eval_Loss=26.4]\n"
     ]
    },
    {
     "name": "stdout",
     "output_type": "stream",
     "text": [
      "Validation -> Loss: 26.397076854885185\n",
      "Validation score improved (33.19418364258769 --> 26.397076854885185). Saving model!\n"
     ]
    },
    {
     "name": "stderr",
     "output_type": "stream",
     "text": [
      "  0%|          | 0/1276 [00:00<?, ?it/s]"
     ]
    },
    {
     "name": "stdout",
     "output_type": "stream",
     "text": [
      "Epoch 2, lr 1.8516044721939887e-05\n",
      "Mode Scheduler: OK\n"
     ]
    },
    {
     "name": "stderr",
     "output_type": "stream",
     "text": [
      "100%|██████████| 1276/1276 [05:01<00:00,  4.23it/s, LR=1.67e-5, Train_Loss=24.7]\n",
      "  0%|          | 0/319 [00:00<?, ?it/s]"
     ]
    },
    {
     "name": "stdout",
     "output_type": "stream",
     "text": [
      "Training -> Loss: 24.718438025925973\n"
     ]
    },
    {
     "name": "stderr",
     "output_type": "stream",
     "text": [
      "100%|██████████| 319/319 [00:29<00:00, 10.65it/s, Eval_Loss=24.4]\n"
     ]
    },
    {
     "name": "stdout",
     "output_type": "stream",
     "text": [
      "Validation -> Loss: 24.44479826625238\n",
      "Validation score improved (26.397076854885185 --> 24.44479826625238). Saving model!\n"
     ]
    },
    {
     "name": "stderr",
     "output_type": "stream",
     "text": [
      "  0%|          | 0/1276 [00:00<?, ?it/s]"
     ]
    },
    {
     "name": "stdout",
     "output_type": "stream",
     "text": [
      "Epoch 3, lr 1.6663278640917674e-05\n",
      "Mode Scheduler: OK\n"
     ]
    },
    {
     "name": "stderr",
     "output_type": "stream",
     "text": [
      "100%|██████████| 1276/1276 [05:01<00:00,  4.23it/s, LR=1.48e-5, Train_Loss=22.1]\n",
      "  0%|          | 0/319 [00:00<?, ?it/s]"
     ]
    },
    {
     "name": "stdout",
     "output_type": "stream",
     "text": [
      "Training -> Loss: 22.098102164866408\n"
     ]
    },
    {
     "name": "stderr",
     "output_type": "stream",
     "text": [
      "100%|██████████| 319/319 [00:28<00:00, 11.17it/s, Eval_Loss=25]  \n",
      "  0%|          | 0/1276 [00:00<?, ?it/s]"
     ]
    },
    {
     "name": "stdout",
     "output_type": "stream",
     "text": [
      "Validation -> Loss: 25.013477800781825\n",
      "EarlyStopping counter: 1 out of 5\n",
      "Epoch 4, lr 1.4810512559895456e-05\n",
      "Mode Scheduler: OK\n"
     ]
    },
    {
     "name": "stderr",
     "output_type": "stream",
     "text": [
      "100%|██████████| 1276/1276 [05:02<00:00,  4.22it/s, LR=1.3e-5, Train_Loss=20.2] \n",
      "  0%|          | 0/319 [00:00<?, ?it/s]"
     ]
    },
    {
     "name": "stdout",
     "output_type": "stream",
     "text": [
      "Training -> Loss: 20.232161164283752\n"
     ]
    },
    {
     "name": "stderr",
     "output_type": "stream",
     "text": [
      "100%|██████████| 319/319 [00:28<00:00, 11.14it/s, Eval_Loss=24]  \n"
     ]
    },
    {
     "name": "stdout",
     "output_type": "stream",
     "text": [
      "Validation -> Loss: 24.03768321189761\n",
      "Validation score improved (24.44479826625238 --> 24.03768321189761). Saving model!\n"
     ]
    },
    {
     "name": "stderr",
     "output_type": "stream",
     "text": [
      "  0%|          | 0/1276 [00:00<?, ?it/s]"
     ]
    },
    {
     "name": "stdout",
     "output_type": "stream",
     "text": [
      "Epoch 5, lr 1.2957746478873242e-05\n",
      "Mode Scheduler: OK\n"
     ]
    },
    {
     "name": "stderr",
     "output_type": "stream",
     "text": [
      "100%|██████████| 1276/1276 [05:02<00:00,  4.22it/s, LR=1.11e-5, Train_Loss=18.8]\n",
      "  0%|          | 0/319 [00:00<?, ?it/s]"
     ]
    },
    {
     "name": "stdout",
     "output_type": "stream",
     "text": [
      "Training -> Loss: 18.840414776884277\n"
     ]
    },
    {
     "name": "stderr",
     "output_type": "stream",
     "text": [
      "100%|██████████| 319/319 [00:29<00:00, 10.71it/s, Eval_Loss=22.7]\n"
     ]
    },
    {
     "name": "stdout",
     "output_type": "stream",
     "text": [
      "Validation -> Loss: 22.68735703853978\n",
      "Validation score improved (24.03768321189761 --> 22.68735703853978). Saving model!\n"
     ]
    },
    {
     "name": "stderr",
     "output_type": "stream",
     "text": [
      "  0%|          | 0/1276 [00:00<?, ?it/s]"
     ]
    },
    {
     "name": "stdout",
     "output_type": "stream",
     "text": [
      "Epoch 6, lr 1.1104980397851025e-05\n",
      "Mode Scheduler: OK\n"
     ]
    },
    {
     "name": "stderr",
     "output_type": "stream",
     "text": [
      "100%|██████████| 1276/1276 [05:02<00:00,  4.22it/s, LR=9.25e-6, Train_Loss=17.7]\n",
      "  0%|          | 0/319 [00:00<?, ?it/s]"
     ]
    },
    {
     "name": "stdout",
     "output_type": "stream",
     "text": [
      "Training -> Loss: 17.72562751613067\n"
     ]
    },
    {
     "name": "stderr",
     "output_type": "stream",
     "text": [
      "100%|██████████| 319/319 [00:29<00:00, 10.67it/s, Eval_Loss=23.2]\n",
      "  0%|          | 0/1276 [00:00<?, ?it/s]"
     ]
    },
    {
     "name": "stdout",
     "output_type": "stream",
     "text": [
      "Validation -> Loss: 23.174696569532436\n",
      "EarlyStopping counter: 1 out of 5\n",
      "Epoch 7, lr 9.252214316828807e-06\n",
      "Mode Scheduler: OK\n"
     ]
    },
    {
     "name": "stderr",
     "output_type": "stream",
     "text": [
      "100%|██████████| 1276/1276 [05:02<00:00,  4.22it/s, LR=7.4e-6, Train_Loss=16.9] \n",
      "  0%|          | 0/319 [00:00<?, ?it/s]"
     ]
    },
    {
     "name": "stdout",
     "output_type": "stream",
     "text": [
      "Training -> Loss: 16.851493262758822\n"
     ]
    },
    {
     "name": "stderr",
     "output_type": "stream",
     "text": [
      "100%|██████████| 319/319 [00:29<00:00, 10.78it/s, Eval_Loss=23.4]\n",
      "  0%|          | 0/1276 [00:00<?, ?it/s]"
     ]
    },
    {
     "name": "stdout",
     "output_type": "stream",
     "text": [
      "Validation -> Loss: 23.44645991370222\n",
      "EarlyStopping counter: 2 out of 5\n",
      "Epoch 8, lr 7.399448235806593e-06\n",
      "Mode Scheduler: OK\n"
     ]
    },
    {
     "name": "stderr",
     "output_type": "stream",
     "text": [
      "100%|██████████| 1276/1276 [05:02<00:00,  4.21it/s, LR=5.55e-6, Train_Loss=16.2]\n",
      "  0%|          | 0/319 [00:00<?, ?it/s]"
     ]
    },
    {
     "name": "stdout",
     "output_type": "stream",
     "text": [
      "Training -> Loss: 16.216899175722396\n"
     ]
    },
    {
     "name": "stderr",
     "output_type": "stream",
     "text": [
      "100%|██████████| 319/319 [00:28<00:00, 11.10it/s, Eval_Loss=23.1]\n",
      "  0%|          | 0/1276 [00:00<?, ?it/s]"
     ]
    },
    {
     "name": "stdout",
     "output_type": "stream",
     "text": [
      "Validation -> Loss: 23.102727049944168\n",
      "EarlyStopping counter: 3 out of 5\n",
      "Epoch 9, lr 5.546682154784376e-06\n",
      "Mode Scheduler: OK\n"
     ]
    },
    {
     "name": "stderr",
     "output_type": "stream",
     "text": [
      "100%|██████████| 1276/1276 [05:01<00:00,  4.23it/s, LR=3.69e-6, Train_Loss=15.7]\n",
      "  0%|          | 0/319 [00:00<?, ?it/s]"
     ]
    },
    {
     "name": "stdout",
     "output_type": "stream",
     "text": [
      "Training -> Loss: 15.71641726889954\n"
     ]
    },
    {
     "name": "stderr",
     "output_type": "stream",
     "text": [
      "100%|██████████| 319/319 [00:29<00:00, 10.89it/s, Eval_Loss=22.5]\n"
     ]
    },
    {
     "name": "stdout",
     "output_type": "stream",
     "text": [
      "Validation -> Loss: 22.46399335054021\n",
      "Validation score improved (22.68735703853978 --> 22.46399335054021). Saving model!\n"
     ]
    },
    {
     "name": "stderr",
     "output_type": "stream",
     "text": [
      "  0%|          | 0/1276 [00:00<?, ?it/s]"
     ]
    },
    {
     "name": "stdout",
     "output_type": "stream",
     "text": [
      "Epoch 10, lr 3.693916073762161e-06\n",
      "Mode Scheduler: OK\n"
     ]
    },
    {
     "name": "stderr",
     "output_type": "stream",
     "text": [
      "100%|██████████| 1276/1276 [05:02<00:00,  4.21it/s, LR=1.84e-6, Train_Loss=15.3]\n",
      "  0%|          | 0/319 [00:00<?, ?it/s]"
     ]
    },
    {
     "name": "stdout",
     "output_type": "stream",
     "text": [
      "Training -> Loss: 15.257453742258974\n"
     ]
    },
    {
     "name": "stderr",
     "output_type": "stream",
     "text": [
      "100%|██████████| 319/319 [00:28<00:00, 11.13it/s, Eval_Loss=22.2]\n"
     ]
    },
    {
     "name": "stdout",
     "output_type": "stream",
     "text": [
      "Validation -> Loss: 22.229657197073337\n",
      "Validation score improved (22.46399335054021 --> 22.229657197073337). Saving model!\n"
     ]
    },
    {
     "name": "stderr",
     "output_type": "stream",
     "text": [
      "  0%|          | 0/1276 [00:00<?, ?it/s]"
     ]
    },
    {
     "name": "stdout",
     "output_type": "stream",
     "text": [
      "Epoch 11, lr 1.841149992739945e-06\n",
      "Mode Scheduler: OK\n"
     ]
    },
    {
     "name": "stderr",
     "output_type": "stream",
     "text": [
      "100%|██████████| 1276/1276 [05:02<00:00,  4.22it/s, LR=0, Train_Loss=14.9]      \n",
      "  0%|          | 0/319 [00:00<?, ?it/s]"
     ]
    },
    {
     "name": "stdout",
     "output_type": "stream",
     "text": [
      "Training -> Loss: 14.923077658052355\n"
     ]
    },
    {
     "name": "stderr",
     "output_type": "stream",
     "text": [
      "100%|██████████| 319/319 [00:29<00:00, 10.75it/s, Eval_Loss=22.2]\n"
     ]
    },
    {
     "name": "stdout",
     "output_type": "stream",
     "text": [
      "Validation -> Loss: 22.19135571721953\n",
      "Validation score improved (22.229657197073337 --> 22.19135571721953). Saving model!\n",
      "Didn't meet early stopping\n"
     ]
    }
   ],
   "source": [
    "for i in range(0,5):\n",
    "    output_path = f'../03.Models/Roberta-Pretrained/BNP_PARIBAS_ROBERTA_ADDITIVE_FOLD_{i}'\n",
    "    run(df_train,i,output_path,config_ad)"
   ]
  },
  {
   "cell_type": "code",
   "execution_count": 6,
   "metadata": {},
   "outputs": [
    {
     "name": "stdout",
     "output_type": "stream",
     "text": [
      "Predicting Model: 0\n"
     ]
    },
    {
     "data": {
      "application/vnd.jupyter.widget-view+json": {
       "model_id": "61a2eae6c05f4a76a67e2b17e2a83a4d",
       "version_major": 2,
       "version_minor": 0
      },
      "text/plain": [
       "HBox(children=(FloatProgress(value=0.0, max=319.0), HTML(value='')))"
      ]
     },
     "metadata": {},
     "output_type": "display_data"
    },
    {
     "name": "stdout",
     "output_type": "stream",
     "text": [
      "\n",
      "Predicting Model: 1\n"
     ]
    },
    {
     "data": {
      "application/vnd.jupyter.widget-view+json": {
       "model_id": "41daace59292473a815c8010d1bfb093",
       "version_major": 2,
       "version_minor": 0
      },
      "text/plain": [
       "HBox(children=(FloatProgress(value=0.0, max=319.0), HTML(value='')))"
      ]
     },
     "metadata": {},
     "output_type": "display_data"
    },
    {
     "name": "stdout",
     "output_type": "stream",
     "text": [
      "\n",
      "Predicting Model: 2\n"
     ]
    },
    {
     "data": {
      "application/vnd.jupyter.widget-view+json": {
       "model_id": "2c7f8d4111234b1cb6134719e08735bc",
       "version_major": 2,
       "version_minor": 0
      },
      "text/plain": [
       "HBox(children=(FloatProgress(value=0.0, max=319.0), HTML(value='')))"
      ]
     },
     "metadata": {},
     "output_type": "display_data"
    },
    {
     "name": "stdout",
     "output_type": "stream",
     "text": [
      "\n",
      "Predicting Model: 3\n"
     ]
    },
    {
     "data": {
      "application/vnd.jupyter.widget-view+json": {
       "model_id": "697a051689f545c99787b63cf8b7aab4",
       "version_major": 2,
       "version_minor": 0
      },
      "text/plain": [
       "HBox(children=(FloatProgress(value=0.0, max=319.0), HTML(value='')))"
      ]
     },
     "metadata": {},
     "output_type": "display_data"
    },
    {
     "name": "stdout",
     "output_type": "stream",
     "text": [
      "\n",
      "Predicting Model: 4\n"
     ]
    },
    {
     "data": {
      "application/vnd.jupyter.widget-view+json": {
       "model_id": "05d634cb63204f24bec26e2f14a445ea",
       "version_major": 2,
       "version_minor": 0
      },
      "text/plain": [
       "HBox(children=(FloatProgress(value=0.0, max=319.0), HTML(value='')))"
      ]
     },
     "metadata": {},
     "output_type": "display_data"
    },
    {
     "name": "stdout",
     "output_type": "stream",
     "text": [
      "\n",
      "OOF_SCORE (RMSE):  4.78286983163525\n"
     ]
    },
    {
     "data": {
      "text/plain": [
       "4.78286983163525"
      ]
     },
     "execution_count": 6,
     "metadata": {},
     "output_type": "execute_result"
    }
   ],
   "source": [
    "calc_oof(df_train,config_ad)"
   ]
  },
  {
   "cell_type": "markdown",
   "metadata": {},
   "source": [
    "## 3.Extracting Embedding Layer"
   ]
  },
  {
   "cell_type": "code",
   "execution_count": 47,
   "metadata": {},
   "outputs": [
    {
     "data": {
      "application/vnd.jupyter.widget-view+json": {
       "model_id": "97376a6ea0af443db3560f66ec6e68a7",
       "version_major": 2,
       "version_minor": 0
      },
      "text/plain": [
       "HBox(children=(FloatProgress(value=0.0, max=638.0), HTML(value='')))"
      ]
     },
     "metadata": {},
     "output_type": "display_data"
    },
    {
     "name": "stdout",
     "output_type": "stream",
     "text": [
      "\n"
     ]
    },
    {
     "data": {
      "application/vnd.jupyter.widget-view+json": {
       "model_id": "d746dfca00364576808d141e431727a8",
       "version_major": 2,
       "version_minor": 0
      },
      "text/plain": [
       "HBox(children=(FloatProgress(value=0.0, max=638.0), HTML(value='')))"
      ]
     },
     "metadata": {},
     "output_type": "display_data"
    },
    {
     "name": "stdout",
     "output_type": "stream",
     "text": [
      "\n"
     ]
    },
    {
     "data": {
      "application/vnd.jupyter.widget-view+json": {
       "model_id": "2ce8dece860a43a8ab72a5fa1f51c2f7",
       "version_major": 2,
       "version_minor": 0
      },
      "text/plain": [
       "HBox(children=(FloatProgress(value=0.0, max=638.0), HTML(value='')))"
      ]
     },
     "metadata": {},
     "output_type": "display_data"
    },
    {
     "name": "stdout",
     "output_type": "stream",
     "text": [
      "\n"
     ]
    },
    {
     "data": {
      "application/vnd.jupyter.widget-view+json": {
       "model_id": "8bb91bf8b2f8407392d83284ed930beb",
       "version_major": 2,
       "version_minor": 0
      },
      "text/plain": [
       "HBox(children=(FloatProgress(value=0.0, max=638.0), HTML(value='')))"
      ]
     },
     "metadata": {},
     "output_type": "display_data"
    },
    {
     "name": "stdout",
     "output_type": "stream",
     "text": [
      "\n"
     ]
    },
    {
     "data": {
      "application/vnd.jupyter.widget-view+json": {
       "model_id": "6b2bd27dc1fe49ad8aae786ec1998fe1",
       "version_major": 2,
       "version_minor": 0
      },
      "text/plain": [
       "HBox(children=(FloatProgress(value=0.0, max=638.0), HTML(value='')))"
      ]
     },
     "metadata": {},
     "output_type": "display_data"
    },
    {
     "name": "stdout",
     "output_type": "stream",
     "text": [
      "\n"
     ]
    }
   ],
   "source": [
    "df_train     = pd.read_csv(os.path.join(\"../01.Data\",'fold.csv'))\n",
    "embedding_all = 0\n",
    "for fold in np.sort(df_train['fold'].unique()):\n",
    "    valid       = df_train[df_train['fold']==fold]\n",
    "    valid_index = valid.index.to_list()\n",
    "    valid = valid.reset_index(drop=True)\n",
    "    col_unique = generate_col_unique(valid,config_ad.COLUMNS_ENCODE)\n",
    "    tokenizer     = transformers.RobertaTokenizer.from_pretrained(config_ad.PRETRAINED)\n",
    "    valid_dataset = BNPParibasText(valid,config_ad.MAX_LENGTH,tokenizer,col_unique)\n",
    "    valid_loader = torch.utils.data.DataLoader(\n",
    "            valid_dataset,\n",
    "            batch_size  = 32,\n",
    "            pin_memory  = True,\n",
    "            num_workers = 72\n",
    "        )\n",
    "    \n",
    "    \n",
    "    model         = Roberta_Model(pretrained_model=config_ad.PRETRAINED)\n",
    "    model.load_state_dict(torch.load(f'../03.Models/Roberta-Pretrained/BNP_PARIBAS_ROBERTA_ADDITIVE_FOLD_{fold}'))\n",
    "    df_train.loc[valid_index,[f'emb_{col_unique}_{i}' for i in range(embedding_all_train.shape[1])]] = get_embedding(valid_loader, model, config_ad.DEVICE)\n",
    "    del model\n",
    "    torch.cuda.empty_cache()"
   ]
  },
  {
   "cell_type": "code",
   "execution_count": 48,
   "metadata": {},
   "outputs": [
    {
     "data": {
      "application/vnd.jupyter.widget-view+json": {
       "model_id": "879637b0ed234c858d7a73e28feb52ea",
       "version_major": 2,
       "version_minor": 0
      },
      "text/plain": [
       "HBox(children=(FloatProgress(value=0.0, max=798.0), HTML(value='')))"
      ]
     },
     "metadata": {},
     "output_type": "display_data"
    },
    {
     "name": "stdout",
     "output_type": "stream",
     "text": [
      "\n"
     ]
    },
    {
     "data": {
      "application/vnd.jupyter.widget-view+json": {
       "model_id": "3be0dd7272264acbb2ab9f4bf06312ed",
       "version_major": 2,
       "version_minor": 0
      },
      "text/plain": [
       "HBox(children=(FloatProgress(value=0.0, max=798.0), HTML(value='')))"
      ]
     },
     "metadata": {},
     "output_type": "display_data"
    },
    {
     "name": "stdout",
     "output_type": "stream",
     "text": [
      "\n"
     ]
    },
    {
     "data": {
      "application/vnd.jupyter.widget-view+json": {
       "model_id": "1fd193f06f0149f7a68b1894d4ed57f6",
       "version_major": 2,
       "version_minor": 0
      },
      "text/plain": [
       "HBox(children=(FloatProgress(value=0.0, max=798.0), HTML(value='')))"
      ]
     },
     "metadata": {},
     "output_type": "display_data"
    },
    {
     "name": "stdout",
     "output_type": "stream",
     "text": [
      "\n"
     ]
    },
    {
     "data": {
      "application/vnd.jupyter.widget-view+json": {
       "model_id": "ffbd07fbf8b44b44bc9a4b807699ba03",
       "version_major": 2,
       "version_minor": 0
      },
      "text/plain": [
       "HBox(children=(FloatProgress(value=0.0, max=798.0), HTML(value='')))"
      ]
     },
     "metadata": {},
     "output_type": "display_data"
    },
    {
     "name": "stdout",
     "output_type": "stream",
     "text": [
      "\n"
     ]
    },
    {
     "data": {
      "application/vnd.jupyter.widget-view+json": {
       "model_id": "a1733e4b934d443daaa9081ff17cff89",
       "version_major": 2,
       "version_minor": 0
      },
      "text/plain": [
       "HBox(children=(FloatProgress(value=0.0, max=798.0), HTML(value='')))"
      ]
     },
     "metadata": {},
     "output_type": "display_data"
    },
    {
     "name": "stdout",
     "output_type": "stream",
     "text": [
      "\n"
     ]
    }
   ],
   "source": [
    "df_test      = pd.read_csv(os.path.join(DATA_PATH,'test_preprocessed.csv'))\n",
    "df_test['target'] = -1\n",
    "\n",
    "col_unique = generate_col_unique(df_test,config_ad.COLUMNS_ENCODE)\n",
    "tokenizer     = transformers.RobertaTokenizer.from_pretrained(config_ad.PRETRAINED)\n",
    "test_dataset = BNPParibasText(df_test,config_ad.MAX_LENGTH,tokenizer,col_unique)\n",
    "test_loader = torch.utils.data.DataLoader(\n",
    "            test_dataset,\n",
    "            batch_size  = 32,\n",
    "            pin_memory  = True,\n",
    "            num_workers = 72\n",
    "        )\n",
    "embedding_all = 0\n",
    "for fold in np.sort(df_train['fold'].unique()):\n",
    "    model         = Roberta_Model(pretrained_model=config_ad.PRETRAINED)\n",
    "    model.load_state_dict(torch.load(f'../03.Models/Roberta-Pretrained/BNP_PARIBAS_ROBERTA_ADDITIVE_FOLD_{fold}'))\n",
    "    embedding_all += get_embedding(test_loader, model, config_ad.DEVICE)\n",
    "    del model\n",
    "    torch.cuda.empty_cache()\n",
    "embedding_all_test = embedding_all/len(df_train['fold'].unique())\n",
    "df_test[[f'emb_{col_unique}_{i}' for i in range(embedding_all_test.shape[1])]] = embedding_all_test"
   ]
  },
  {
   "cell_type": "code",
   "execution_count": 49,
   "metadata": {},
   "outputs": [],
   "source": [
    "# saving dataset\n",
    "df_train.to_csv(os.path.join(DATA_PATH,'train_embeddings.csv'),index = False)\n",
    "df_test.to_csv(os.path.join(DATA_PATH,'test_embeddings.csv'),index = False)\n",
    "del df_train,df_test"
   ]
  },
  {
   "cell_type": "markdown",
   "metadata": {},
   "source": [
    "## 4. Modeling Lightgbm"
   ]
  },
  {
   "cell_type": "code",
   "execution_count": 56,
   "metadata": {},
   "outputs": [
    {
     "name": "stdout",
     "output_type": "stream",
     "text": [
      "['states_en_brands', 'states_en_categories', 'states_en_characteristics', 'states_en_expiration date', 'states_en_general_complete', 'states_en_ingredients', 'pnns_groups_1', 'pnns_groups_2', 'states_en_packaging', 'states_en_packaging-code-', 'states_en_photo_upload', 'states_en_photo_validate', 'states_en_product name', 'states_en_quantity']\n"
     ]
    }
   ],
   "source": [
    "df_train = pd.read_csv(os.path.join(DATA_PATH,'train_embeddings.csv'))\n",
    "df_test  = pd.read_csv(os.path.join(DATA_PATH,'test_embeddings.csv'))\n",
    "columns_modeling = ['additives_n','ingredients_from_palm_oil_n',\n",
    "                    'ingredients_that_may_be_from_palm_oil_n','target',\n",
    "                    'states_en_brands','states_en_categories','states_en_characteristics','states_en_expiration date',\n",
    "                    'states_en_general_complete','states_en_ingredients','pnns_groups_1','pnns_groups_2',\n",
    "                    'states_en_packaging','states_en_packaging-code-','states_en_photo_upload',\n",
    "                    'states_en_photo_validate','states_en_product name','states_en_quantity','diff_t'] + [f'emb_{col_unique}_{i}' for i in range(embedding_all.shape[1])]\n",
    "columns_label = df_train[columns_modeling].select_dtypes(include=['object']).columns.to_list()\n",
    "print(columns_label)\n"
   ]
  },
  {
   "cell_type": "code",
   "execution_count": 57,
   "metadata": {},
   "outputs": [
    {
     "name": "stdout",
     "output_type": "stream",
     "text": [
      "Mode: Missing as new category\n",
      "Label Encoding:  label_states_en_brands\n",
      "Label Encoding:  label_states_en_categories\n",
      "Label Encoding:  label_states_en_characteristics\n",
      "Label Encoding:  label_states_en_expiration date\n",
      "Label Encoding:  label_states_en_general_complete\n",
      "Label Encoding:  label_states_en_ingredients\n",
      "Label Encoding:  label_pnns_groups_1\n",
      "Label Encoding:  label_pnns_groups_2\n",
      "Label Encoding:  label_states_en_packaging\n",
      "Label Encoding:  label_states_en_packaging-code-\n",
      "Label Encoding:  label_states_en_photo_upload\n",
      "Label Encoding:  label_states_en_photo_validate\n",
      "Label Encoding:  label_states_en_product name\n",
      "Label Encoding:  label_states_en_quantity\n"
     ]
    }
   ],
   "source": [
    "df_train,dict_le = label_encoding(df_train,label_cols = columns_label, drop_original = True, missing_new_cat = True)\n",
    "a_file = open(\"../03.Models/General/label_encoding.pkl\", \"wb\")\n",
    "pickle.dump(dict_le, a_file)\n",
    "a_file.close()\n",
    "del a_file,dict_le"
   ]
  },
  {
   "cell_type": "code",
   "execution_count": 58,
   "metadata": {},
   "outputs": [
    {
     "name": "stdout",
     "output_type": "stream",
     "text": [
      "Mode: Missing as new category\n",
      "Applying Label Encoding:  label_states_en_brands\n",
      "Applying Label Encoding:  label_states_en_categories\n",
      "Applying Label Encoding:  label_states_en_characteristics\n",
      "Applying Label Encoding:  label_states_en_expiration date\n",
      "Applying Label Encoding:  label_states_en_general_complete\n",
      "Applying Label Encoding:  label_states_en_ingredients\n",
      "Applying Label Encoding:  label_pnns_groups_1\n",
      "Applying Label Encoding:  label_pnns_groups_2\n",
      "Applying Label Encoding:  label_states_en_packaging\n",
      "Applying Label Encoding:  label_states_en_packaging-code-\n",
      "Applying Label Encoding:  label_states_en_photo_upload\n",
      "Applying Label Encoding:  label_states_en_photo_validate\n",
      "Applying Label Encoding:  label_states_en_product name\n",
      "Applying Label Encoding:  label_states_en_quantity\n"
     ]
    }
   ],
   "source": [
    "a_file = open(\"../03.Models/General/label_encoding.pkl\", \"rb\")\n",
    "dict_le = pickle.load(a_file)\n",
    "df_test = apply_label_encoder(df_test,dict_le,drop_original = True, missing_new_cat = True)\n",
    "del dict_le,a_file"
   ]
  },
  {
   "cell_type": "code",
   "execution_count": 59,
   "metadata": {},
   "outputs": [],
   "source": [
    "params = {\n",
    "        'task': 'train',\n",
    "        'boosting_type': 'gbdt',\n",
    "        'objective': 'regression',\n",
    "        'metric': {'rmse'},\n",
    "        'num_leaves':16,\n",
    "        'learning_rate': 0.01,\n",
    "        \"min_child_samples\": 150,\n",
    "        \"max_depth\" : 5,\n",
    "        'feature_fraction':  0.5,\n",
    "        \"bagging_freq\": 1,\n",
    "        'bagging_fraction': 0.75,\n",
    "        \"is_unbalance\" : False,\n",
    "        'force_col_wise':True,\n",
    "        'num_threads':18,\n",
    "        #\"scale_pos_weight\":5 -> Generally  is the ratio of number of negative class to the positive class.\n",
    "        'bagging_seed':42,\n",
    "        'lambda_l1':1.5,\n",
    "        'lambda_l2':1,\n",
    "        'verbose': 1\n",
    "\n",
    "}\n",
    "cat_columns = [i for i in df_train.columns.to_list() if i.startswith('label_')]\n",
    "columns_modeling_last = list(set(columns_modeling)-set(columns_label)) + ['fold'] + cat_columns \n",
    "#columns_modeling_last.remove('len_countries')"
   ]
  },
  {
   "cell_type": "code",
   "execution_count": 60,
   "metadata": {},
   "outputs": [
    {
     "name": "stdout",
     "output_type": "stream",
     "text": [
      "Columns: ['emb_product_name_ingredients_text_brands_tags_additives__539', 'emb_product_name_ingredients_text_brands_tags_additives__385', 'ingredients_from_palm_oil_n', 'emb_product_name_ingredients_text_brands_tags_additives__165', 'emb_product_name_ingredients_text_brands_tags_additives__572', 'emb_product_name_ingredients_text_brands_tags_additives__589', 'emb_product_name_ingredients_text_brands_tags_additives__211', 'emb_product_name_ingredients_text_brands_tags_additives__601', 'emb_product_name_ingredients_text_brands_tags_additives__300', 'emb_product_name_ingredients_text_brands_tags_additives__237', 'emb_product_name_ingredients_text_brands_tags_additives__22', 'emb_product_name_ingredients_text_brands_tags_additives__73', 'emb_product_name_ingredients_text_brands_tags_additives__167', 'emb_product_name_ingredients_text_brands_tags_additives__203', 'emb_product_name_ingredients_text_brands_tags_additives__574', 'emb_product_name_ingredients_text_brands_tags_additives__112', 'emb_product_name_ingredients_text_brands_tags_additives__462', 'emb_product_name_ingredients_text_brands_tags_additives__36', 'emb_product_name_ingredients_text_brands_tags_additives__64', 'emb_product_name_ingredients_text_brands_tags_additives__185', 'emb_product_name_ingredients_text_brands_tags_additives__100', 'emb_product_name_ingredients_text_brands_tags_additives__550', 'emb_product_name_ingredients_text_brands_tags_additives__691', 'emb_product_name_ingredients_text_brands_tags_additives__698', 'emb_product_name_ingredients_text_brands_tags_additives__182', 'emb_product_name_ingredients_text_brands_tags_additives__263', 'emb_product_name_ingredients_text_brands_tags_additives__396', 'emb_product_name_ingredients_text_brands_tags_additives__479', 'emb_product_name_ingredients_text_brands_tags_additives__56', 'emb_product_name_ingredients_text_brands_tags_additives__465', 'diff_t', 'emb_product_name_ingredients_text_brands_tags_additives__666', 'emb_product_name_ingredients_text_brands_tags_additives__710', 'emb_product_name_ingredients_text_brands_tags_additives__717', 'emb_product_name_ingredients_text_brands_tags_additives__153', 'emb_product_name_ingredients_text_brands_tags_additives__321', 'emb_product_name_ingredients_text_brands_tags_additives__606', 'emb_product_name_ingredients_text_brands_tags_additives__627', 'emb_product_name_ingredients_text_brands_tags_additives__428', 'emb_product_name_ingredients_text_brands_tags_additives__622', 'emb_product_name_ingredients_text_brands_tags_additives__49', 'emb_product_name_ingredients_text_brands_tags_additives__656', 'emb_product_name_ingredients_text_brands_tags_additives__366', 'emb_product_name_ingredients_text_brands_tags_additives__678', 'emb_product_name_ingredients_text_brands_tags_additives__685', 'emb_product_name_ingredients_text_brands_tags_additives__739', 'emb_product_name_ingredients_text_brands_tags_additives__224', 'emb_product_name_ingredients_text_brands_tags_additives__208', 'emb_product_name_ingredients_text_brands_tags_additives__339', 'emb_product_name_ingredients_text_brands_tags_additives__148', 'emb_product_name_ingredients_text_brands_tags_additives__259', 'emb_product_name_ingredients_text_brands_tags_additives__680', 'emb_product_name_ingredients_text_brands_tags_additives__0', 'emb_product_name_ingredients_text_brands_tags_additives__605', 'emb_product_name_ingredients_text_brands_tags_additives__553', 'emb_product_name_ingredients_text_brands_tags_additives__354', 'emb_product_name_ingredients_text_brands_tags_additives__297', 'emb_product_name_ingredients_text_brands_tags_additives__422', 'emb_product_name_ingredients_text_brands_tags_additives__410', 'emb_product_name_ingredients_text_brands_tags_additives__106', 'emb_product_name_ingredients_text_brands_tags_additives__317', 'emb_product_name_ingredients_text_brands_tags_additives__145', 'emb_product_name_ingredients_text_brands_tags_additives__137', 'emb_product_name_ingredients_text_brands_tags_additives__319', 'emb_product_name_ingredients_text_brands_tags_additives__552', 'emb_product_name_ingredients_text_brands_tags_additives__451', 'emb_product_name_ingredients_text_brands_tags_additives__580', 'emb_product_name_ingredients_text_brands_tags_additives__533', 'emb_product_name_ingredients_text_brands_tags_additives__483', 'emb_product_name_ingredients_text_brands_tags_additives__594', 'emb_product_name_ingredients_text_brands_tags_additives__419', 'emb_product_name_ingredients_text_brands_tags_additives__459', 'emb_product_name_ingredients_text_brands_tags_additives__762', 'emb_product_name_ingredients_text_brands_tags_additives__276', 'emb_product_name_ingredients_text_brands_tags_additives__513', 'emb_product_name_ingredients_text_brands_tags_additives__561', 'emb_product_name_ingredients_text_brands_tags_additives__323', 'emb_product_name_ingredients_text_brands_tags_additives__439', 'emb_product_name_ingredients_text_brands_tags_additives__12', 'emb_product_name_ingredients_text_brands_tags_additives__450', 'emb_product_name_ingredients_text_brands_tags_additives__426', 'emb_product_name_ingredients_text_brands_tags_additives__683', 'emb_product_name_ingredients_text_brands_tags_additives__347', 'emb_product_name_ingredients_text_brands_tags_additives__501', 'emb_product_name_ingredients_text_brands_tags_additives__151', 'emb_product_name_ingredients_text_brands_tags_additives__190', 'emb_product_name_ingredients_text_brands_tags_additives__169', 'emb_product_name_ingredients_text_brands_tags_additives__247', 'emb_product_name_ingredients_text_brands_tags_additives__147', 'emb_product_name_ingredients_text_brands_tags_additives__528', 'emb_product_name_ingredients_text_brands_tags_additives__72', 'emb_product_name_ingredients_text_brands_tags_additives__371', 'emb_product_name_ingredients_text_brands_tags_additives__324', 'emb_product_name_ingredients_text_brands_tags_additives__99', 'emb_product_name_ingredients_text_brands_tags_additives__405', 'emb_product_name_ingredients_text_brands_tags_additives__569', 'emb_product_name_ingredients_text_brands_tags_additives__496', 'emb_product_name_ingredients_text_brands_tags_additives__7', 'emb_product_name_ingredients_text_brands_tags_additives__636', 'emb_product_name_ingredients_text_brands_tags_additives__625', 'emb_product_name_ingredients_text_brands_tags_additives__252', 'emb_product_name_ingredients_text_brands_tags_additives__287', 'emb_product_name_ingredients_text_brands_tags_additives__510', 'emb_product_name_ingredients_text_brands_tags_additives__189', 'emb_product_name_ingredients_text_brands_tags_additives__32', 'emb_product_name_ingredients_text_brands_tags_additives__226', 'emb_product_name_ingredients_text_brands_tags_additives__431', 'emb_product_name_ingredients_text_brands_tags_additives__245', 'emb_product_name_ingredients_text_brands_tags_additives__766', 'emb_product_name_ingredients_text_brands_tags_additives__500', 'emb_product_name_ingredients_text_brands_tags_additives__193', 'emb_product_name_ingredients_text_brands_tags_additives__318', 'emb_product_name_ingredients_text_brands_tags_additives__522', 'emb_product_name_ingredients_text_brands_tags_additives__88', 'emb_product_name_ingredients_text_brands_tags_additives__581', 'emb_product_name_ingredients_text_brands_tags_additives__650', 'emb_product_name_ingredients_text_brands_tags_additives__668', 'emb_product_name_ingredients_text_brands_tags_additives__699', 'emb_product_name_ingredients_text_brands_tags_additives__30', 'emb_product_name_ingredients_text_brands_tags_additives__602', 'emb_product_name_ingredients_text_brands_tags_additives__744', 'emb_product_name_ingredients_text_brands_tags_additives__71', 'emb_product_name_ingredients_text_brands_tags_additives__47', 'emb_product_name_ingredients_text_brands_tags_additives__35', 'emb_product_name_ingredients_text_brands_tags_additives__663', 'emb_product_name_ingredients_text_brands_tags_additives__54', 'emb_product_name_ingredients_text_brands_tags_additives__156', 'emb_product_name_ingredients_text_brands_tags_additives__359', 'emb_product_name_ingredients_text_brands_tags_additives__449', 'emb_product_name_ingredients_text_brands_tags_additives__471', 'emb_product_name_ingredients_text_brands_tags_additives__615', 'emb_product_name_ingredients_text_brands_tags_additives__214', 'emb_product_name_ingredients_text_brands_tags_additives__352', 'emb_product_name_ingredients_text_brands_tags_additives__523', 'emb_product_name_ingredients_text_brands_tags_additives__674', 'emb_product_name_ingredients_text_brands_tags_additives__696', 'emb_product_name_ingredients_text_brands_tags_additives__441', 'emb_product_name_ingredients_text_brands_tags_additives__725', 'emb_product_name_ingredients_text_brands_tags_additives__68', 'emb_product_name_ingredients_text_brands_tags_additives__658', 'emb_product_name_ingredients_text_brands_tags_additives__28', 'emb_product_name_ingredients_text_brands_tags_additives__406', 'emb_product_name_ingredients_text_brands_tags_additives__107', 'emb_product_name_ingredients_text_brands_tags_additives__542', 'emb_product_name_ingredients_text_brands_tags_additives__579', 'emb_product_name_ingredients_text_brands_tags_additives__647', 'emb_product_name_ingredients_text_brands_tags_additives__6', 'emb_product_name_ingredients_text_brands_tags_additives__140', 'emb_product_name_ingredients_text_brands_tags_additives__219', 'emb_product_name_ingredients_text_brands_tags_additives__597', 'emb_product_name_ingredients_text_brands_tags_additives__264', 'emb_product_name_ingredients_text_brands_tags_additives__466', 'emb_product_name_ingredients_text_brands_tags_additives__643', 'emb_product_name_ingredients_text_brands_tags_additives__512', 'emb_product_name_ingredients_text_brands_tags_additives__108', 'emb_product_name_ingredients_text_brands_tags_additives__401', 'emb_product_name_ingredients_text_brands_tags_additives__144', 'emb_product_name_ingredients_text_brands_tags_additives__149', 'emb_product_name_ingredients_text_brands_tags_additives__429', 'emb_product_name_ingredients_text_brands_tags_additives__763', 'emb_product_name_ingredients_text_brands_tags_additives__529', 'emb_product_name_ingredients_text_brands_tags_additives__690', 'emb_product_name_ingredients_text_brands_tags_additives__399', 'emb_product_name_ingredients_text_brands_tags_additives__418', 'emb_product_name_ingredients_text_brands_tags_additives__475', 'emb_product_name_ingredients_text_brands_tags_additives__765', 'emb_product_name_ingredients_text_brands_tags_additives__199', 'emb_product_name_ingredients_text_brands_tags_additives__162', 'emb_product_name_ingredients_text_brands_tags_additives__18', 'emb_product_name_ingredients_text_brands_tags_additives__175', 'emb_product_name_ingredients_text_brands_tags_additives__176', 'emb_product_name_ingredients_text_brands_tags_additives__531', 'emb_product_name_ingredients_text_brands_tags_additives__644', 'emb_product_name_ingredients_text_brands_tags_additives__360', 'emb_product_name_ingredients_text_brands_tags_additives__358', 'emb_product_name_ingredients_text_brands_tags_additives__560', 'emb_product_name_ingredients_text_brands_tags_additives__350', 'emb_product_name_ingredients_text_brands_tags_additives__738', 'emb_product_name_ingredients_text_brands_tags_additives__69', 'emb_product_name_ingredients_text_brands_tags_additives__547', 'emb_product_name_ingredients_text_brands_tags_additives__711', 'emb_product_name_ingredients_text_brands_tags_additives__304', 'emb_product_name_ingredients_text_brands_tags_additives__420', 'emb_product_name_ingredients_text_brands_tags_additives__356', 'emb_product_name_ingredients_text_brands_tags_additives__631', 'emb_product_name_ingredients_text_brands_tags_additives__17', 'emb_product_name_ingredients_text_brands_tags_additives__126', 'emb_product_name_ingredients_text_brands_tags_additives__351', 'emb_product_name_ingredients_text_brands_tags_additives__105', 'emb_product_name_ingredients_text_brands_tags_additives__31', 'emb_product_name_ingredients_text_brands_tags_additives__716', 'emb_product_name_ingredients_text_brands_tags_additives__66', 'emb_product_name_ingredients_text_brands_tags_additives__413', 'emb_product_name_ingredients_text_brands_tags_additives__330', 'emb_product_name_ingredients_text_brands_tags_additives__532', 'emb_product_name_ingredients_text_brands_tags_additives__612', 'emb_product_name_ingredients_text_brands_tags_additives__270', 'emb_product_name_ingredients_text_brands_tags_additives__570', 'emb_product_name_ingredients_text_brands_tags_additives__89', 'emb_product_name_ingredients_text_brands_tags_additives__412', 'emb_product_name_ingredients_text_brands_tags_additives__390', 'emb_product_name_ingredients_text_brands_tags_additives__596', 'emb_product_name_ingredients_text_brands_tags_additives__434', 'emb_product_name_ingredients_text_brands_tags_additives__231', 'emb_product_name_ingredients_text_brands_tags_additives__320', 'emb_product_name_ingredients_text_brands_tags_additives__515', 'emb_product_name_ingredients_text_brands_tags_additives__42', 'emb_product_name_ingredients_text_brands_tags_additives__499', 'emb_product_name_ingredients_text_brands_tags_additives__329', 'emb_product_name_ingredients_text_brands_tags_additives__379', 'emb_product_name_ingredients_text_brands_tags_additives__184', 'emb_product_name_ingredients_text_brands_tags_additives__453', 'emb_product_name_ingredients_text_brands_tags_additives__435', 'emb_product_name_ingredients_text_brands_tags_additives__661', 'emb_product_name_ingredients_text_brands_tags_additives__715', 'emb_product_name_ingredients_text_brands_tags_additives__638', 'emb_product_name_ingredients_text_brands_tags_additives__134', 'emb_product_name_ingredients_text_brands_tags_additives__135', 'emb_product_name_ingredients_text_brands_tags_additives__693', 'emb_product_name_ingredients_text_brands_tags_additives__139', 'emb_product_name_ingredients_text_brands_tags_additives__33', 'emb_product_name_ingredients_text_brands_tags_additives__222', 'emb_product_name_ingredients_text_brands_tags_additives__117', 'emb_product_name_ingredients_text_brands_tags_additives__179', 'emb_product_name_ingredients_text_brands_tags_additives__619', 'emb_product_name_ingredients_text_brands_tags_additives__37', 'emb_product_name_ingredients_text_brands_tags_additives__526', 'emb_product_name_ingredients_text_brands_tags_additives__708', 'emb_product_name_ingredients_text_brands_tags_additives__535', 'emb_product_name_ingredients_text_brands_tags_additives__595', 'emb_product_name_ingredients_text_brands_tags_additives__388', 'emb_product_name_ingredients_text_brands_tags_additives__629', 'emb_product_name_ingredients_text_brands_tags_additives__559', 'emb_product_name_ingredients_text_brands_tags_additives__235', 'emb_product_name_ingredients_text_brands_tags_additives__168', 'emb_product_name_ingredients_text_brands_tags_additives__556', 'emb_product_name_ingredients_text_brands_tags_additives__120', 'emb_product_name_ingredients_text_brands_tags_additives__250', 'emb_product_name_ingredients_text_brands_tags_additives__586', 'emb_product_name_ingredients_text_brands_tags_additives__92', 'emb_product_name_ingredients_text_brands_tags_additives__274', 'emb_product_name_ingredients_text_brands_tags_additives__150', 'emb_product_name_ingredients_text_brands_tags_additives__333', 'emb_product_name_ingredients_text_brands_tags_additives__19', 'emb_product_name_ingredients_text_brands_tags_additives__345', 'emb_product_name_ingredients_text_brands_tags_additives__365', 'emb_product_name_ingredients_text_brands_tags_additives__372', 'emb_product_name_ingredients_text_brands_tags_additives__121', 'emb_product_name_ingredients_text_brands_tags_additives__495', 'emb_product_name_ingredients_text_brands_tags_additives__447', 'emb_product_name_ingredients_text_brands_tags_additives__621', 'emb_product_name_ingredients_text_brands_tags_additives__197', 'emb_product_name_ingredients_text_brands_tags_additives__194', 'emb_product_name_ingredients_text_brands_tags_additives__79', 'emb_product_name_ingredients_text_brands_tags_additives__649', 'emb_product_name_ingredients_text_brands_tags_additives__514', 'emb_product_name_ingredients_text_brands_tags_additives__505', 'emb_product_name_ingredients_text_brands_tags_additives__610', 'emb_product_name_ingredients_text_brands_tags_additives__701', 'emb_product_name_ingredients_text_brands_tags_additives__415', 'emb_product_name_ingredients_text_brands_tags_additives__280', 'additives_n', 'emb_product_name_ingredients_text_brands_tags_additives__273', 'emb_product_name_ingredients_text_brands_tags_additives__620', 'emb_product_name_ingredients_text_brands_tags_additives__282', 'emb_product_name_ingredients_text_brands_tags_additives__10', 'emb_product_name_ingredients_text_brands_tags_additives__687', 'emb_product_name_ingredients_text_brands_tags_additives__745', 'emb_product_name_ingredients_text_brands_tags_additives__397', 'emb_product_name_ingredients_text_brands_tags_additives__315', 'emb_product_name_ingredients_text_brands_tags_additives__538', 'emb_product_name_ingredients_text_brands_tags_additives__712', 'emb_product_name_ingredients_text_brands_tags_additives__183', 'emb_product_name_ingredients_text_brands_tags_additives__119', 'emb_product_name_ingredients_text_brands_tags_additives__707', 'emb_product_name_ingredients_text_brands_tags_additives__425', 'emb_product_name_ingredients_text_brands_tags_additives__332', 'emb_product_name_ingredients_text_brands_tags_additives__253', 'emb_product_name_ingredients_text_brands_tags_additives__370', 'emb_product_name_ingredients_text_brands_tags_additives__482', 'emb_product_name_ingredients_text_brands_tags_additives__278', 'emb_product_name_ingredients_text_brands_tags_additives__400', 'emb_product_name_ingredients_text_brands_tags_additives__543', 'emb_product_name_ingredients_text_brands_tags_additives__373', 'emb_product_name_ingredients_text_brands_tags_additives__585', 'emb_product_name_ingredients_text_brands_tags_additives__11', 'emb_product_name_ingredients_text_brands_tags_additives__386', 'emb_product_name_ingredients_text_brands_tags_additives__403', 'emb_product_name_ingredients_text_brands_tags_additives__498', 'emb_product_name_ingredients_text_brands_tags_additives__160', 'emb_product_name_ingredients_text_brands_tags_additives__436', 'emb_product_name_ingredients_text_brands_tags_additives__109', 'emb_product_name_ingredients_text_brands_tags_additives__463', 'emb_product_name_ingredients_text_brands_tags_additives__626', 'emb_product_name_ingredients_text_brands_tags_additives__39', 'emb_product_name_ingredients_text_brands_tags_additives__171', 'emb_product_name_ingredients_text_brands_tags_additives__381', 'emb_product_name_ingredients_text_brands_tags_additives__95', 'emb_product_name_ingredients_text_brands_tags_additives__166', 'emb_product_name_ingredients_text_brands_tags_additives__456', 'emb_product_name_ingredients_text_brands_tags_additives__437', 'emb_product_name_ingredients_text_brands_tags_additives__703', 'emb_product_name_ingredients_text_brands_tags_additives__470', 'emb_product_name_ingredients_text_brands_tags_additives__546', 'emb_product_name_ingredients_text_brands_tags_additives__86', 'emb_product_name_ingredients_text_brands_tags_additives__458', 'emb_product_name_ingredients_text_brands_tags_additives__751', 'emb_product_name_ingredients_text_brands_tags_additives__599', 'emb_product_name_ingredients_text_brands_tags_additives__509', 'emb_product_name_ingredients_text_brands_tags_additives__180', 'emb_product_name_ingredients_text_brands_tags_additives__555', 'emb_product_name_ingredients_text_brands_tags_additives__348', 'emb_product_name_ingredients_text_brands_tags_additives__55', 'emb_product_name_ingredients_text_brands_tags_additives__34', 'emb_product_name_ingredients_text_brands_tags_additives__277', 'emb_product_name_ingredients_text_brands_tags_additives__177', 'emb_product_name_ingredients_text_brands_tags_additives__645', 'emb_product_name_ingredients_text_brands_tags_additives__181', 'emb_product_name_ingredients_text_brands_tags_additives__262', 'emb_product_name_ingredients_text_brands_tags_additives__101', 'emb_product_name_ingredients_text_brands_tags_additives__488', 'emb_product_name_ingredients_text_brands_tags_additives__309', 'emb_product_name_ingredients_text_brands_tags_additives__573', 'emb_product_name_ingredients_text_brands_tags_additives__305', 'emb_product_name_ingredients_text_brands_tags_additives__704', 'emb_product_name_ingredients_text_brands_tags_additives__227', 'emb_product_name_ingredients_text_brands_tags_additives__646', 'emb_product_name_ingredients_text_brands_tags_additives__98', 'emb_product_name_ingredients_text_brands_tags_additives__714', 'emb_product_name_ingredients_text_brands_tags_additives__544', 'emb_product_name_ingredients_text_brands_tags_additives__361', 'emb_product_name_ingredients_text_brands_tags_additives__1', 'emb_product_name_ingredients_text_brands_tags_additives__225', 'emb_product_name_ingredients_text_brands_tags_additives__485', 'emb_product_name_ingredients_text_brands_tags_additives__692', 'emb_product_name_ingredients_text_brands_tags_additives__233', 'emb_product_name_ingredients_text_brands_tags_additives__8', 'emb_product_name_ingredients_text_brands_tags_additives__215', 'emb_product_name_ingredients_text_brands_tags_additives__657', 'emb_product_name_ingredients_text_brands_tags_additives__603', 'emb_product_name_ingredients_text_brands_tags_additives__80', 'emb_product_name_ingredients_text_brands_tags_additives__654', 'emb_product_name_ingredients_text_brands_tags_additives__402', 'emb_product_name_ingredients_text_brands_tags_additives__57', 'emb_product_name_ingredients_text_brands_tags_additives__375', 'emb_product_name_ingredients_text_brands_tags_additives__15', 'emb_product_name_ingredients_text_brands_tags_additives__78', 'emb_product_name_ingredients_text_brands_tags_additives__395', 'emb_product_name_ingredients_text_brands_tags_additives__731', 'emb_product_name_ingredients_text_brands_tags_additives__616', 'emb_product_name_ingredients_text_brands_tags_additives__672', 'emb_product_name_ingredients_text_brands_tags_additives__173', 'emb_product_name_ingredients_text_brands_tags_additives__242', 'emb_product_name_ingredients_text_brands_tags_additives__670', 'emb_product_name_ingredients_text_brands_tags_additives__376', 'emb_product_name_ingredients_text_brands_tags_additives__27', 'emb_product_name_ingredients_text_brands_tags_additives__257', 'emb_product_name_ingredients_text_brands_tags_additives__394', 'emb_product_name_ingredients_text_brands_tags_additives__118', 'emb_product_name_ingredients_text_brands_tags_additives__576', 'emb_product_name_ingredients_text_brands_tags_additives__128', 'emb_product_name_ingredients_text_brands_tags_additives__414', 'emb_product_name_ingredients_text_brands_tags_additives__736', 'emb_product_name_ingredients_text_brands_tags_additives__753', 'emb_product_name_ingredients_text_brands_tags_additives__172', 'emb_product_name_ingredients_text_brands_tags_additives__157', 'emb_product_name_ingredients_text_brands_tags_additives__284', 'emb_product_name_ingredients_text_brands_tags_additives__457', 'emb_product_name_ingredients_text_brands_tags_additives__675', 'emb_product_name_ingredients_text_brands_tags_additives__164', 'emb_product_name_ingredients_text_brands_tags_additives__293', 'emb_product_name_ingredients_text_brands_tags_additives__207', 'emb_product_name_ingredients_text_brands_tags_additives__389', 'emb_product_name_ingredients_text_brands_tags_additives__343', 'emb_product_name_ingredients_text_brands_tags_additives__322', 'emb_product_name_ingredients_text_brands_tags_additives__136', 'emb_product_name_ingredients_text_brands_tags_additives__202', 'emb_product_name_ingredients_text_brands_tags_additives__210', 'emb_product_name_ingredients_text_brands_tags_additives__724', 'emb_product_name_ingredients_text_brands_tags_additives__328', 'emb_product_name_ingredients_text_brands_tags_additives__705', 'emb_product_name_ingredients_text_brands_tags_additives__301', 'emb_product_name_ingredients_text_brands_tags_additives__240', 'emb_product_name_ingredients_text_brands_tags_additives__314', 'emb_product_name_ingredients_text_brands_tags_additives__677', 'emb_product_name_ingredients_text_brands_tags_additives__163', 'emb_product_name_ingredients_text_brands_tags_additives__236', 'emb_product_name_ingredients_text_brands_tags_additives__460', 'emb_product_name_ingredients_text_brands_tags_additives__200', 'emb_product_name_ingredients_text_brands_tags_additives__377', 'emb_product_name_ingredients_text_brands_tags_additives__83', 'emb_product_name_ingredients_text_brands_tags_additives__473', 'emb_product_name_ingredients_text_brands_tags_additives__525', 'emb_product_name_ingredients_text_brands_tags_additives__285', 'emb_product_name_ingredients_text_brands_tags_additives__728', 'emb_product_name_ingredients_text_brands_tags_additives__243', 'emb_product_name_ingredients_text_brands_tags_additives__660', 'emb_product_name_ingredients_text_brands_tags_additives__50', 'emb_product_name_ingredients_text_brands_tags_additives__228', 'emb_product_name_ingredients_text_brands_tags_additives__642', 'emb_product_name_ingredients_text_brands_tags_additives__478', 'emb_product_name_ingredients_text_brands_tags_additives__391', 'emb_product_name_ingredients_text_brands_tags_additives__201', 'emb_product_name_ingredients_text_brands_tags_additives__659', 'emb_product_name_ingredients_text_brands_tags_additives__407', 'emb_product_name_ingredients_text_brands_tags_additives__747', 'emb_product_name_ingredients_text_brands_tags_additives__53', 'emb_product_name_ingredients_text_brands_tags_additives__468', 'emb_product_name_ingredients_text_brands_tags_additives__584', 'emb_product_name_ingredients_text_brands_tags_additives__587', 'emb_product_name_ingredients_text_brands_tags_additives__639', 'emb_product_name_ingredients_text_brands_tags_additives__760', 'emb_product_name_ingredients_text_brands_tags_additives__192', 'emb_product_name_ingredients_text_brands_tags_additives__307', 'emb_product_name_ingredients_text_brands_tags_additives__198', 'emb_product_name_ingredients_text_brands_tags_additives__143', 'emb_product_name_ingredients_text_brands_tags_additives__325', 'emb_product_name_ingredients_text_brands_tags_additives__129', 'emb_product_name_ingredients_text_brands_tags_additives__374', 'emb_product_name_ingredients_text_brands_tags_additives__635', 'emb_product_name_ingredients_text_brands_tags_additives__170', 'emb_product_name_ingredients_text_brands_tags_additives__363', 'emb_product_name_ingredients_text_brands_tags_additives__630', 'emb_product_name_ingredients_text_brands_tags_additives__306', 'emb_product_name_ingredients_text_brands_tags_additives__241', 'emb_product_name_ingredients_text_brands_tags_additives__448', 'emb_product_name_ingredients_text_brands_tags_additives__651', 'emb_product_name_ingredients_text_brands_tags_additives__266', 'emb_product_name_ingredients_text_brands_tags_additives__752', 'emb_product_name_ingredients_text_brands_tags_additives__84', 'emb_product_name_ingredients_text_brands_tags_additives__534', 'emb_product_name_ingredients_text_brands_tags_additives__338', 'emb_product_name_ingredients_text_brands_tags_additives__223', 'emb_product_name_ingredients_text_brands_tags_additives__443', 'emb_product_name_ingredients_text_brands_tags_additives__588', 'emb_product_name_ingredients_text_brands_tags_additives__290', 'emb_product_name_ingredients_text_brands_tags_additives__469', 'emb_product_name_ingredients_text_brands_tags_additives__26', 'emb_product_name_ingredients_text_brands_tags_additives__209', 'emb_product_name_ingredients_text_brands_tags_additives__743', 'emb_product_name_ingredients_text_brands_tags_additives__759', 'emb_product_name_ingredients_text_brands_tags_additives__141', 'emb_product_name_ingredients_text_brands_tags_additives__340', 'emb_product_name_ingredients_text_brands_tags_additives__205', 'emb_product_name_ingredients_text_brands_tags_additives__558', 'emb_product_name_ingredients_text_brands_tags_additives__275', 'emb_product_name_ingredients_text_brands_tags_additives__519', 'emb_product_name_ingredients_text_brands_tags_additives__94', 'emb_product_name_ingredients_text_brands_tags_additives__527', 'emb_product_name_ingredients_text_brands_tags_additives__723', 'emb_product_name_ingredients_text_brands_tags_additives__122', 'emb_product_name_ingredients_text_brands_tags_additives__346', 'emb_product_name_ingredients_text_brands_tags_additives__758', 'emb_product_name_ingredients_text_brands_tags_additives__103', 'emb_product_name_ingredients_text_brands_tags_additives__655', 'emb_product_name_ingredients_text_brands_tags_additives__25', 'emb_product_name_ingredients_text_brands_tags_additives__341', 'emb_product_name_ingredients_text_brands_tags_additives__424', 'emb_product_name_ingredients_text_brands_tags_additives__682', 'emb_product_name_ingredients_text_brands_tags_additives__218', 'emb_product_name_ingredients_text_brands_tags_additives__593', 'emb_product_name_ingredients_text_brands_tags_additives__191', 'emb_product_name_ingredients_text_brands_tags_additives__480', 'ingredients_that_may_be_from_palm_oil_n', 'emb_product_name_ingredients_text_brands_tags_additives__248', 'emb_product_name_ingredients_text_brands_tags_additives__154', 'emb_product_name_ingredients_text_brands_tags_additives__369', 'emb_product_name_ingredients_text_brands_tags_additives__614', 'emb_product_name_ingredients_text_brands_tags_additives__311', 'emb_product_name_ingredients_text_brands_tags_additives__234', 'emb_product_name_ingredients_text_brands_tags_additives__294', 'emb_product_name_ingredients_text_brands_tags_additives__764', 'emb_product_name_ingredients_text_brands_tags_additives__735', 'emb_product_name_ingredients_text_brands_tags_additives__417', 'emb_product_name_ingredients_text_brands_tags_additives__484', 'emb_product_name_ingredients_text_brands_tags_additives__756', 'emb_product_name_ingredients_text_brands_tags_additives__632', 'emb_product_name_ingredients_text_brands_tags_additives__9', 'emb_product_name_ingredients_text_brands_tags_additives__628', 'emb_product_name_ingredients_text_brands_tags_additives__442', 'emb_product_name_ingredients_text_brands_tags_additives__383', 'emb_product_name_ingredients_text_brands_tags_additives__624', 'emb_product_name_ingredients_text_brands_tags_additives__713', 'emb_product_name_ingredients_text_brands_tags_additives__327', 'emb_product_name_ingredients_text_brands_tags_additives__438', 'emb_product_name_ingredients_text_brands_tags_additives__575', 'emb_product_name_ingredients_text_brands_tags_additives__291', 'emb_product_name_ingredients_text_brands_tags_additives__65', 'emb_product_name_ingredients_text_brands_tags_additives__562', 'emb_product_name_ingredients_text_brands_tags_additives__665', 'emb_product_name_ingredients_text_brands_tags_additives__521', 'emb_product_name_ingredients_text_brands_tags_additives__316', 'emb_product_name_ingredients_text_brands_tags_additives__727', 'emb_product_name_ingredients_text_brands_tags_additives__378', 'emb_product_name_ingredients_text_brands_tags_additives__102', 'emb_product_name_ingredients_text_brands_tags_additives__761', 'emb_product_name_ingredients_text_brands_tags_additives__268', 'emb_product_name_ingredients_text_brands_tags_additives__634', 'emb_product_name_ingredients_text_brands_tags_additives__648', 'emb_product_name_ingredients_text_brands_tags_additives__653', 'emb_product_name_ingredients_text_brands_tags_additives__96', 'emb_product_name_ingredients_text_brands_tags_additives__578', 'emb_product_name_ingredients_text_brands_tags_additives__115', 'emb_product_name_ingredients_text_brands_tags_additives__568', 'emb_product_name_ingredients_text_brands_tags_additives__130', 'emb_product_name_ingredients_text_brands_tags_additives__299', 'emb_product_name_ingredients_text_brands_tags_additives__331', 'emb_product_name_ingredients_text_brands_tags_additives__617', 'emb_product_name_ingredients_text_brands_tags_additives__40', 'emb_product_name_ingredients_text_brands_tags_additives__295', 'emb_product_name_ingredients_text_brands_tags_additives__719', 'emb_product_name_ingredients_text_brands_tags_additives__726', 'emb_product_name_ingredients_text_brands_tags_additives__93', 'emb_product_name_ingredients_text_brands_tags_additives__21', 'emb_product_name_ingredients_text_brands_tags_additives__204', 'emb_product_name_ingredients_text_brands_tags_additives__212', 'emb_product_name_ingredients_text_brands_tags_additives__530', 'emb_product_name_ingredients_text_brands_tags_additives__740', 'emb_product_name_ingredients_text_brands_tags_additives__232', 'emb_product_name_ingredients_text_brands_tags_additives__51', 'emb_product_name_ingredients_text_brands_tags_additives__517', 'emb_product_name_ingredients_text_brands_tags_additives__256', 'emb_product_name_ingredients_text_brands_tags_additives__158', 'emb_product_name_ingredients_text_brands_tags_additives__503', 'emb_product_name_ingredients_text_brands_tags_additives__81', 'emb_product_name_ingredients_text_brands_tags_additives__637', 'emb_product_name_ingredients_text_brands_tags_additives__722', 'emb_product_name_ingredients_text_brands_tags_additives__742', 'emb_product_name_ingredients_text_brands_tags_additives__238', 'emb_product_name_ingredients_text_brands_tags_additives__472', 'emb_product_name_ingredients_text_brands_tags_additives__29', 'emb_product_name_ingredients_text_brands_tags_additives__244', 'emb_product_name_ingredients_text_brands_tags_additives__486', 'emb_product_name_ingredients_text_brands_tags_additives__689', 'emb_product_name_ingredients_text_brands_tags_additives__362', 'emb_product_name_ingredients_text_brands_tags_additives__87', 'emb_product_name_ingredients_text_brands_tags_additives__367', 'emb_product_name_ingredients_text_brands_tags_additives__404', 'emb_product_name_ingredients_text_brands_tags_additives__3', 'emb_product_name_ingredients_text_brands_tags_additives__334', 'emb_product_name_ingredients_text_brands_tags_additives__618', 'emb_product_name_ingredients_text_brands_tags_additives__541', 'emb_product_name_ingredients_text_brands_tags_additives__13', 'emb_product_name_ingredients_text_brands_tags_additives__289', 'emb_product_name_ingredients_text_brands_tags_additives__492', 'emb_product_name_ingredients_text_brands_tags_additives__491', 'emb_product_name_ingredients_text_brands_tags_additives__76', 'emb_product_name_ingredients_text_brands_tags_additives__355', 'emb_product_name_ingredients_text_brands_tags_additives__481', 'emb_product_name_ingredients_text_brands_tags_additives__592', 'emb_product_name_ingredients_text_brands_tags_additives__676', 'emb_product_name_ingredients_text_brands_tags_additives__133', 'emb_product_name_ingredients_text_brands_tags_additives__732', 'emb_product_name_ingredients_text_brands_tags_additives__335', 'emb_product_name_ingredients_text_brands_tags_additives__652', 'emb_product_name_ingredients_text_brands_tags_additives__67', 'emb_product_name_ingredients_text_brands_tags_additives__748', 'emb_product_name_ingredients_text_brands_tags_additives__110', 'emb_product_name_ingredients_text_brands_tags_additives__261', 'emb_product_name_ingredients_text_brands_tags_additives__113', 'emb_product_name_ingredients_text_brands_tags_additives__461', 'emb_product_name_ingredients_text_brands_tags_additives__502', 'emb_product_name_ingredients_text_brands_tags_additives__608', 'emb_product_name_ingredients_text_brands_tags_additives__421', 'emb_product_name_ingredients_text_brands_tags_additives__557', 'emb_product_name_ingredients_text_brands_tags_additives__104', 'emb_product_name_ingredients_text_brands_tags_additives__269', 'emb_product_name_ingredients_text_brands_tags_additives__667', 'emb_product_name_ingredients_text_brands_tags_additives__186', 'emb_product_name_ingredients_text_brands_tags_additives__125', 'emb_product_name_ingredients_text_brands_tags_additives__640', 'emb_product_name_ingredients_text_brands_tags_additives__540', 'emb_product_name_ingredients_text_brands_tags_additives__662', 'emb_product_name_ingredients_text_brands_tags_additives__97', 'emb_product_name_ingredients_text_brands_tags_additives__116', 'emb_product_name_ingredients_text_brands_tags_additives__730', 'emb_product_name_ingredients_text_brands_tags_additives__123', 'emb_product_name_ingredients_text_brands_tags_additives__62', 'emb_product_name_ingredients_text_brands_tags_additives__518', 'emb_product_name_ingredients_text_brands_tags_additives__489', 'emb_product_name_ingredients_text_brands_tags_additives__706', 'emb_product_name_ingredients_text_brands_tags_additives__342', 'emb_product_name_ingredients_text_brands_tags_additives__433', 'emb_product_name_ingredients_text_brands_tags_additives__741', 'emb_product_name_ingredients_text_brands_tags_additives__398', 'emb_product_name_ingredients_text_brands_tags_additives__511', 'emb_product_name_ingredients_text_brands_tags_additives__757', 'emb_product_name_ingredients_text_brands_tags_additives__520', 'emb_product_name_ingredients_text_brands_tags_additives__114', 'emb_product_name_ingredients_text_brands_tags_additives__349', 'emb_product_name_ingredients_text_brands_tags_additives__298', 'emb_product_name_ingredients_text_brands_tags_additives__384', 'emb_product_name_ingredients_text_brands_tags_additives__477', 'emb_product_name_ingredients_text_brands_tags_additives__52', 'emb_product_name_ingredients_text_brands_tags_additives__368', 'emb_product_name_ingredients_text_brands_tags_additives__577', 'emb_product_name_ingredients_text_brands_tags_additives__196', 'emb_product_name_ingredients_text_brands_tags_additives__206', 'emb_product_name_ingredients_text_brands_tags_additives__684', 'emb_product_name_ingredients_text_brands_tags_additives__58', 'emb_product_name_ingredients_text_brands_tags_additives__750', 'emb_product_name_ingredients_text_brands_tags_additives__229', 'emb_product_name_ingredients_text_brands_tags_additives__303', 'emb_product_name_ingredients_text_brands_tags_additives__146', 'emb_product_name_ingredients_text_brands_tags_additives__45', 'emb_product_name_ingredients_text_brands_tags_additives__296', 'emb_product_name_ingredients_text_brands_tags_additives__2', 'emb_product_name_ingredients_text_brands_tags_additives__312', 'emb_product_name_ingredients_text_brands_tags_additives__516', 'emb_product_name_ingredients_text_brands_tags_additives__609', 'emb_product_name_ingredients_text_brands_tags_additives__600', 'emb_product_name_ingredients_text_brands_tags_additives__591', 'emb_product_name_ingredients_text_brands_tags_additives__41', 'emb_product_name_ingredients_text_brands_tags_additives__313', 'emb_product_name_ingredients_text_brands_tags_additives__613', 'emb_product_name_ingredients_text_brands_tags_additives__548', 'emb_product_name_ingredients_text_brands_tags_additives__61', 'emb_product_name_ingredients_text_brands_tags_additives__767', 'emb_product_name_ingredients_text_brands_tags_additives__565', 'emb_product_name_ingredients_text_brands_tags_additives__127', 'emb_product_name_ingredients_text_brands_tags_additives__90', 'emb_product_name_ingredients_text_brands_tags_additives__474', 'emb_product_name_ingredients_text_brands_tags_additives__271', 'emb_product_name_ingredients_text_brands_tags_additives__292', 'emb_product_name_ingredients_text_brands_tags_additives__46', 'emb_product_name_ingredients_text_brands_tags_additives__536', 'emb_product_name_ingredients_text_brands_tags_additives__446', 'emb_product_name_ingredients_text_brands_tags_additives__213', 'emb_product_name_ingredients_text_brands_tags_additives__246', 'emb_product_name_ingredients_text_brands_tags_additives__664', 'emb_product_name_ingredients_text_brands_tags_additives__582', 'emb_product_name_ingredients_text_brands_tags_additives__444', 'emb_product_name_ingredients_text_brands_tags_additives__187', 'emb_product_name_ingredients_text_brands_tags_additives__537', 'emb_product_name_ingredients_text_brands_tags_additives__571', 'emb_product_name_ingredients_text_brands_tags_additives__633', 'emb_product_name_ingredients_text_brands_tags_additives__733', 'emb_product_name_ingredients_text_brands_tags_additives__267', 'emb_product_name_ingredients_text_brands_tags_additives__344', 'emb_product_name_ingredients_text_brands_tags_additives__423', 'emb_product_name_ingredients_text_brands_tags_additives__566', 'emb_product_name_ingredients_text_brands_tags_additives__364', 'emb_product_name_ingredients_text_brands_tags_additives__598', 'emb_product_name_ingredients_text_brands_tags_additives__382', 'emb_product_name_ingredients_text_brands_tags_additives__709', 'emb_product_name_ingredients_text_brands_tags_additives__286', 'emb_product_name_ingredients_text_brands_tags_additives__607', 'emb_product_name_ingredients_text_brands_tags_additives__258', 'emb_product_name_ingredients_text_brands_tags_additives__409', 'emb_product_name_ingredients_text_brands_tags_additives__217', 'emb_product_name_ingredients_text_brands_tags_additives__288', 'emb_product_name_ingredients_text_brands_tags_additives__411', 'emb_product_name_ingredients_text_brands_tags_additives__455', 'emb_product_name_ingredients_text_brands_tags_additives__85', 'emb_product_name_ingredients_text_brands_tags_additives__254', 'emb_product_name_ingredients_text_brands_tags_additives__124', 'emb_product_name_ingredients_text_brands_tags_additives__380', 'emb_product_name_ingredients_text_brands_tags_additives__669', 'emb_product_name_ingredients_text_brands_tags_additives__694', 'emb_product_name_ingredients_text_brands_tags_additives__38', 'emb_product_name_ingredients_text_brands_tags_additives__755', 'emb_product_name_ingredients_text_brands_tags_additives__251', 'emb_product_name_ingredients_text_brands_tags_additives__20', 'emb_product_name_ingredients_text_brands_tags_additives__336', 'emb_product_name_ingredients_text_brands_tags_additives__60', 'emb_product_name_ingredients_text_brands_tags_additives__142', 'emb_product_name_ingredients_text_brands_tags_additives__671', 'emb_product_name_ingredients_text_brands_tags_additives__14', 'emb_product_name_ingredients_text_brands_tags_additives__688', 'emb_product_name_ingredients_text_brands_tags_additives__159', 'emb_product_name_ingredients_text_brands_tags_additives__178', 'emb_product_name_ingredients_text_brands_tags_additives__440', 'emb_product_name_ingredients_text_brands_tags_additives__746', 'emb_product_name_ingredients_text_brands_tags_additives__749', 'emb_product_name_ingredients_text_brands_tags_additives__679', 'emb_product_name_ingredients_text_brands_tags_additives__283', 'emb_product_name_ingredients_text_brands_tags_additives__155', 'emb_product_name_ingredients_text_brands_tags_additives__681', 'emb_product_name_ingredients_text_brands_tags_additives__255', 'emb_product_name_ingredients_text_brands_tags_additives__430', 'emb_product_name_ingredients_text_brands_tags_additives__695', 'emb_product_name_ingredients_text_brands_tags_additives__583', 'emb_product_name_ingredients_text_brands_tags_additives__754', 'emb_product_name_ingredients_text_brands_tags_additives__16', 'emb_product_name_ingredients_text_brands_tags_additives__326', 'emb_product_name_ingredients_text_brands_tags_additives__734', 'emb_product_name_ingredients_text_brands_tags_additives__497', 'emb_product_name_ingredients_text_brands_tags_additives__43', 'emb_product_name_ingredients_text_brands_tags_additives__432', 'emb_product_name_ingredients_text_brands_tags_additives__260', 'emb_product_name_ingredients_text_brands_tags_additives__281', 'emb_product_name_ingredients_text_brands_tags_additives__59', 'emb_product_name_ingredients_text_brands_tags_additives__445', 'emb_product_name_ingredients_text_brands_tags_additives__467', 'emb_product_name_ingredients_text_brands_tags_additives__132', 'emb_product_name_ingredients_text_brands_tags_additives__551', 'emb_product_name_ingredients_text_brands_tags_additives__590', 'emb_product_name_ingredients_text_brands_tags_additives__23', 'emb_product_name_ingredients_text_brands_tags_additives__249', 'emb_product_name_ingredients_text_brands_tags_additives__357', 'emb_product_name_ingredients_text_brands_tags_additives__392', 'emb_product_name_ingredients_text_brands_tags_additives__387', 'emb_product_name_ingredients_text_brands_tags_additives__506', 'emb_product_name_ingredients_text_brands_tags_additives__216', 'emb_product_name_ingredients_text_brands_tags_additives__48', 'emb_product_name_ingredients_text_brands_tags_additives__24', 'emb_product_name_ingredients_text_brands_tags_additives__82', 'emb_product_name_ingredients_text_brands_tags_additives__138', 'emb_product_name_ingredients_text_brands_tags_additives__337', 'emb_product_name_ingredients_text_brands_tags_additives__427', 'emb_product_name_ingredients_text_brands_tags_additives__567', 'emb_product_name_ingredients_text_brands_tags_additives__111', 'emb_product_name_ingredients_text_brands_tags_additives__408', 'emb_product_name_ingredients_text_brands_tags_additives__700', 'emb_product_name_ingredients_text_brands_tags_additives__279', 'emb_product_name_ingredients_text_brands_tags_additives__4', 'emb_product_name_ingredients_text_brands_tags_additives__493', 'emb_product_name_ingredients_text_brands_tags_additives__91', 'emb_product_name_ingredients_text_brands_tags_additives__310', 'emb_product_name_ingredients_text_brands_tags_additives__737', 'emb_product_name_ingredients_text_brands_tags_additives__221', 'emb_product_name_ingredients_text_brands_tags_additives__161', 'emb_product_name_ingredients_text_brands_tags_additives__454', 'emb_product_name_ingredients_text_brands_tags_additives__494', 'emb_product_name_ingredients_text_brands_tags_additives__220', 'emb_product_name_ingredients_text_brands_tags_additives__641', 'emb_product_name_ingredients_text_brands_tags_additives__504', 'emb_product_name_ingredients_text_brands_tags_additives__5', 'emb_product_name_ingredients_text_brands_tags_additives__239', 'emb_product_name_ingredients_text_brands_tags_additives__490', 'emb_product_name_ingredients_text_brands_tags_additives__720', 'emb_product_name_ingredients_text_brands_tags_additives__697', 'emb_product_name_ingredients_text_brands_tags_additives__563', 'emb_product_name_ingredients_text_brands_tags_additives__188', 'emb_product_name_ingredients_text_brands_tags_additives__272', 'emb_product_name_ingredients_text_brands_tags_additives__604', 'emb_product_name_ingredients_text_brands_tags_additives__74', 'emb_product_name_ingredients_text_brands_tags_additives__393', 'emb_product_name_ingredients_text_brands_tags_additives__549', 'emb_product_name_ingredients_text_brands_tags_additives__718', 'emb_product_name_ingredients_text_brands_tags_additives__464', 'emb_product_name_ingredients_text_brands_tags_additives__476', 'emb_product_name_ingredients_text_brands_tags_additives__702', 'emb_product_name_ingredients_text_brands_tags_additives__554', 'emb_product_name_ingredients_text_brands_tags_additives__44', 'emb_product_name_ingredients_text_brands_tags_additives__611', 'emb_product_name_ingredients_text_brands_tags_additives__302', 'emb_product_name_ingredients_text_brands_tags_additives__673', 'emb_product_name_ingredients_text_brands_tags_additives__416', 'emb_product_name_ingredients_text_brands_tags_additives__487', 'emb_product_name_ingredients_text_brands_tags_additives__230', 'emb_product_name_ingredients_text_brands_tags_additives__507', 'emb_product_name_ingredients_text_brands_tags_additives__452', 'emb_product_name_ingredients_text_brands_tags_additives__623', 'emb_product_name_ingredients_text_brands_tags_additives__686', 'emb_product_name_ingredients_text_brands_tags_additives__564', 'emb_product_name_ingredients_text_brands_tags_additives__545', 'emb_product_name_ingredients_text_brands_tags_additives__353', 'emb_product_name_ingredients_text_brands_tags_additives__721', 'emb_product_name_ingredients_text_brands_tags_additives__70', 'emb_product_name_ingredients_text_brands_tags_additives__77', 'emb_product_name_ingredients_text_brands_tags_additives__131', 'emb_product_name_ingredients_text_brands_tags_additives__508', 'emb_product_name_ingredients_text_brands_tags_additives__729', 'emb_product_name_ingredients_text_brands_tags_additives__174', 'emb_product_name_ingredients_text_brands_tags_additives__308', 'emb_product_name_ingredients_text_brands_tags_additives__265', 'emb_product_name_ingredients_text_brands_tags_additives__75', 'emb_product_name_ingredients_text_brands_tags_additives__195', 'emb_product_name_ingredients_text_brands_tags_additives__152', 'emb_product_name_ingredients_text_brands_tags_additives__524', 'emb_product_name_ingredients_text_brands_tags_additives__63', 'label_states_en_brands', 'label_states_en_categories', 'label_states_en_characteristics', 'label_states_en_expiration date', 'label_states_en_general_complete', 'label_states_en_ingredients', 'label_pnns_groups_1', 'label_pnns_groups_2', 'label_states_en_packaging', 'label_states_en_packaging-code-', 'label_states_en_photo_upload', 'label_states_en_photo_validate', 'label_states_en_product name', 'label_states_en_quantity']\n",
      "Cat index: [772, 773, 774, 775, 776, 777, 778, 779, 780, 781, 782, 783, 784, 785]\n",
      "---------- Training fold Nº 1 ----------\n",
      "[LightGBM] [Warning] Find whitespaces in feature_names, replace with underlines\n",
      "[LightGBM] [Info] Total Bins 196221\n",
      "[LightGBM] [Info] Number of data points in the train set: 81622, number of used features: 786\n"
     ]
    },
    {
     "name": "stderr",
     "output_type": "stream",
     "text": [
      "/usr/local/lib/python3.6/dist-packages/lightgbm/basic.py:1433: UserWarning: Overriding the parameters from Reference Dataset.\n",
      "  _log_warning('Overriding the parameters from Reference Dataset.')\n",
      "/usr/local/lib/python3.6/dist-packages/lightgbm/basic.py:1245: UserWarning: categorical_column in param dict is overridden.\n",
      "  _log_warning('{} in param dict is overridden.'.format(cat_alias))\n"
     ]
    },
    {
     "name": "stdout",
     "output_type": "stream",
     "text": [
      "[LightGBM] [Warning] Find whitespaces in feature_names, replace with underlines\n",
      "[LightGBM] [Info] Start training from score 9.171473\n",
      "Training until validation scores don't improve for 200 rounds\n",
      "[50]\ttraining's rmse: 6.63612\tvalid_1's rmse: 6.74194\n",
      "[100]\ttraining's rmse: 5.45671\tvalid_1's rmse: 5.60711\n",
      "[150]\ttraining's rmse: 4.92274\tvalid_1's rmse: 5.07422\n",
      "[200]\ttraining's rmse: 4.68737\tvalid_1's rmse: 4.83513\n",
      "[250]\ttraining's rmse: 4.58305\tvalid_1's rmse: 4.72692\n",
      "[300]\ttraining's rmse: 4.53311\tvalid_1's rmse: 4.67098\n",
      "[350]\ttraining's rmse: 4.50716\tvalid_1's rmse: 4.64303\n",
      "[400]\ttraining's rmse: 4.49114\tvalid_1's rmse: 4.62586\n",
      "[450]\ttraining's rmse: 4.48004\tvalid_1's rmse: 4.61482\n",
      "[500]\ttraining's rmse: 4.47084\tvalid_1's rmse: 4.6078\n",
      "[LightGBM] [Warning] No further splits with positive gain, best gain: -inf\n",
      "[LightGBM] [Warning] No further splits with positive gain, best gain: -inf\n",
      "[550]\ttraining's rmse: 4.46296\tvalid_1's rmse: 4.60184\n",
      "[LightGBM] [Warning] No further splits with positive gain, best gain: -inf\n",
      "[LightGBM] [Warning] No further splits with positive gain, best gain: -inf\n",
      "[LightGBM] [Warning] No further splits with positive gain, best gain: -inf\n",
      "[LightGBM] [Warning] No further splits with positive gain, best gain: -inf\n",
      "[LightGBM] [Warning] No further splits with positive gain, best gain: -inf\n",
      "[LightGBM] [Warning] No further splits with positive gain, best gain: -inf\n",
      "[600]\ttraining's rmse: 4.45624\tvalid_1's rmse: 4.59875\n",
      "[LightGBM] [Warning] No further splits with positive gain, best gain: -inf\n",
      "[LightGBM] [Warning] No further splits with positive gain, best gain: -inf\n",
      "[LightGBM] [Warning] No further splits with positive gain, best gain: -inf\n",
      "[LightGBM] [Warning] No further splits with positive gain, best gain: -inf\n",
      "[LightGBM] [Warning] No further splits with positive gain, best gain: -inf\n",
      "[650]\ttraining's rmse: 4.44992\tvalid_1's rmse: 4.5959\n",
      "[LightGBM] [Warning] No further splits with positive gain, best gain: -inf\n",
      "[LightGBM] [Warning] No further splits with positive gain, best gain: -inf\n",
      "[LightGBM] [Warning] No further splits with positive gain, best gain: -inf\n",
      "[LightGBM] [Warning] No further splits with positive gain, best gain: -inf\n",
      "[700]\ttraining's rmse: 4.44415\tvalid_1's rmse: 4.59447\n",
      "[LightGBM] [Warning] No further splits with positive gain, best gain: -inf\n",
      "[LightGBM] [Warning] No further splits with positive gain, best gain: -inf\n",
      "[LightGBM] [Warning] No further splits with positive gain, best gain: -inf\n",
      "[LightGBM] [Warning] No further splits with positive gain, best gain: -inf\n",
      "[LightGBM] [Warning] No further splits with positive gain, best gain: -inf\n",
      "[LightGBM] [Warning] No further splits with positive gain, best gain: -inf\n",
      "[750]\ttraining's rmse: 4.43871\tvalid_1's rmse: 4.59304\n",
      "[LightGBM] [Warning] No further splits with positive gain, best gain: -inf\n",
      "[LightGBM] [Warning] No further splits with positive gain, best gain: -inf\n",
      "[LightGBM] [Warning] No further splits with positive gain, best gain: -inf\n",
      "[LightGBM] [Warning] No further splits with positive gain, best gain: -inf\n",
      "[LightGBM] [Warning] No further splits with positive gain, best gain: -inf\n",
      "[LightGBM] [Warning] No further splits with positive gain, best gain: -inf\n",
      "[LightGBM] [Warning] No further splits with positive gain, best gain: -inf\n",
      "[LightGBM] [Warning] No further splits with positive gain, best gain: -inf\n",
      "[LightGBM] [Warning] No further splits with positive gain, best gain: -inf\n",
      "[LightGBM] [Warning] No further splits with positive gain, best gain: -inf\n",
      "[LightGBM] [Warning] No further splits with positive gain, best gain: -inf\n",
      "[800]\ttraining's rmse: 4.43361\tvalid_1's rmse: 4.59182\n",
      "[LightGBM] [Warning] No further splits with positive gain, best gain: -inf\n",
      "[LightGBM] [Warning] No further splits with positive gain, best gain: -inf\n",
      "[LightGBM] [Warning] No further splits with positive gain, best gain: -inf\n",
      "[LightGBM] [Warning] No further splits with positive gain, best gain: -inf\n",
      "[LightGBM] [Warning] No further splits with positive gain, best gain: -inf\n",
      "[LightGBM] [Warning] No further splits with positive gain, best gain: -inf\n",
      "[LightGBM] [Warning] No further splits with positive gain, best gain: -inf\n",
      "[LightGBM] [Warning] No further splits with positive gain, best gain: -inf\n",
      "[LightGBM] [Warning] No further splits with positive gain, best gain: -inf\n",
      "[LightGBM] [Warning] No further splits with positive gain, best gain: -inf\n",
      "[LightGBM] [Warning] No further splits with positive gain, best gain: -inf\n",
      "[LightGBM] [Warning] No further splits with positive gain, best gain: -inf\n",
      "[LightGBM] [Warning] No further splits with positive gain, best gain: -inf\n",
      "[LightGBM] [Warning] No further splits with positive gain, best gain: -inf\n",
      "[LightGBM] [Warning] No further splits with positive gain, best gain: -inf\n",
      "[LightGBM] [Warning] No further splits with positive gain, best gain: -inf\n",
      "[LightGBM] [Warning] No further splits with positive gain, best gain: -inf\n",
      "[LightGBM] [Warning] No further splits with positive gain, best gain: -inf\n",
      "[850]\ttraining's rmse: 4.42891\tvalid_1's rmse: 4.59094\n",
      "[LightGBM] [Warning] No further splits with positive gain, best gain: -inf\n",
      "[LightGBM] [Warning] No further splits with positive gain, best gain: -inf\n",
      "[LightGBM] [Warning] No further splits with positive gain, best gain: -inf\n",
      "[LightGBM] [Warning] No further splits with positive gain, best gain: -inf\n",
      "[LightGBM] [Warning] No further splits with positive gain, best gain: -inf\n",
      "[LightGBM] [Warning] No further splits with positive gain, best gain: -inf\n",
      "[LightGBM] [Warning] No further splits with positive gain, best gain: -inf\n",
      "[LightGBM] [Warning] No further splits with positive gain, best gain: -inf\n",
      "[LightGBM] [Warning] No further splits with positive gain, best gain: -inf\n",
      "[900]\ttraining's rmse: 4.42383\tvalid_1's rmse: 4.59059\n",
      "[LightGBM] [Warning] No further splits with positive gain, best gain: -inf\n",
      "[LightGBM] [Warning] No further splits with positive gain, best gain: -inf\n",
      "[LightGBM] [Warning] No further splits with positive gain, best gain: -inf\n",
      "[LightGBM] [Warning] No further splits with positive gain, best gain: -inf\n",
      "[LightGBM] [Warning] No further splits with positive gain, best gain: -inf\n",
      "[LightGBM] [Warning] No further splits with positive gain, best gain: -inf\n",
      "[LightGBM] [Warning] No further splits with positive gain, best gain: -inf\n",
      "[950]\ttraining's rmse: 4.41899\tvalid_1's rmse: 4.59023\n",
      "[LightGBM] [Warning] No further splits with positive gain, best gain: -inf\n",
      "[LightGBM] [Warning] No further splits with positive gain, best gain: -inf\n",
      "[LightGBM] [Warning] No further splits with positive gain, best gain: -inf\n",
      "[LightGBM] [Warning] No further splits with positive gain, best gain: -inf\n",
      "[LightGBM] [Warning] No further splits with positive gain, best gain: -inf\n",
      "[LightGBM] [Warning] No further splits with positive gain, best gain: -inf\n",
      "[LightGBM] [Warning] No further splits with positive gain, best gain: -inf\n",
      "[LightGBM] [Warning] No further splits with positive gain, best gain: -inf\n",
      "[LightGBM] [Warning] No further splits with positive gain, best gain: -inf\n",
      "[LightGBM] [Warning] No further splits with positive gain, best gain: -inf\n",
      "[LightGBM] [Warning] No further splits with positive gain, best gain: -inf\n",
      "[1000]\ttraining's rmse: 4.41423\tvalid_1's rmse: 4.59052\n",
      "[LightGBM] [Warning] No further splits with positive gain, best gain: -inf\n",
      "[LightGBM] [Warning] No further splits with positive gain, best gain: -inf\n",
      "[LightGBM] [Warning] No further splits with positive gain, best gain: -inf\n",
      "[LightGBM] [Warning] No further splits with positive gain, best gain: -inf\n",
      "[LightGBM] [Warning] No further splits with positive gain, best gain: -inf\n",
      "[LightGBM] [Warning] No further splits with positive gain, best gain: -inf\n",
      "[LightGBM] [Warning] No further splits with positive gain, best gain: -inf\n",
      "[LightGBM] [Warning] No further splits with positive gain, best gain: -inf\n",
      "[LightGBM] [Warning] No further splits with positive gain, best gain: -inf\n",
      "[1050]\ttraining's rmse: 4.40968\tvalid_1's rmse: 4.59036\n",
      "[LightGBM] [Warning] No further splits with positive gain, best gain: -inf\n",
      "[LightGBM] [Warning] No further splits with positive gain, best gain: -inf\n",
      "[LightGBM] [Warning] No further splits with positive gain, best gain: -inf\n",
      "[LightGBM] [Warning] No further splits with positive gain, best gain: -inf\n",
      "[LightGBM] [Warning] No further splits with positive gain, best gain: -inf\n",
      "[LightGBM] [Warning] No further splits with positive gain, best gain: -inf\n",
      "[LightGBM] [Warning] No further splits with positive gain, best gain: -inf\n",
      "[LightGBM] [Warning] No further splits with positive gain, best gain: -inf\n",
      "[LightGBM] [Warning] No further splits with positive gain, best gain: -inf\n",
      "[LightGBM] [Warning] No further splits with positive gain, best gain: -inf\n",
      "[LightGBM] [Warning] No further splits with positive gain, best gain: -inf\n",
      "[1100]\ttraining's rmse: 4.4052\tvalid_1's rmse: 4.58923\n",
      "[LightGBM] [Warning] No further splits with positive gain, best gain: -inf\n",
      "[LightGBM] [Warning] No further splits with positive gain, best gain: -inf\n",
      "[LightGBM] [Warning] No further splits with positive gain, best gain: -inf\n",
      "[LightGBM] [Warning] No further splits with positive gain, best gain: -inf\n",
      "[LightGBM] [Warning] No further splits with positive gain, best gain: -inf\n",
      "[LightGBM] [Warning] No further splits with positive gain, best gain: -inf\n",
      "[LightGBM] [Warning] No further splits with positive gain, best gain: -inf\n",
      "[LightGBM] [Warning] No further splits with positive gain, best gain: -inf\n",
      "[LightGBM] [Warning] No further splits with positive gain, best gain: -inf\n",
      "[LightGBM] [Warning] No further splits with positive gain, best gain: -inf\n",
      "[1150]\ttraining's rmse: 4.40085\tvalid_1's rmse: 4.58943\n",
      "[LightGBM] [Warning] No further splits with positive gain, best gain: -inf\n",
      "[LightGBM] [Warning] No further splits with positive gain, best gain: -inf\n",
      "[LightGBM] [Warning] No further splits with positive gain, best gain: -inf\n",
      "[LightGBM] [Warning] No further splits with positive gain, best gain: -inf\n",
      "[LightGBM] [Warning] No further splits with positive gain, best gain: -inf\n",
      "[LightGBM] [Warning] No further splits with positive gain, best gain: -inf\n",
      "[LightGBM] [Warning] No further splits with positive gain, best gain: -inf\n",
      "[1200]\ttraining's rmse: 4.39635\tvalid_1's rmse: 4.58934\n",
      "[LightGBM] [Warning] No further splits with positive gain, best gain: -inf\n",
      "[LightGBM] [Warning] No further splits with positive gain, best gain: -inf\n",
      "[LightGBM] [Warning] No further splits with positive gain, best gain: -inf\n",
      "[LightGBM] [Warning] No further splits with positive gain, best gain: -inf\n",
      "[LightGBM] [Warning] No further splits with positive gain, best gain: -inf\n",
      "[LightGBM] [Warning] No further splits with positive gain, best gain: -inf\n",
      "[LightGBM] [Warning] No further splits with positive gain, best gain: -inf\n",
      "[LightGBM] [Warning] No further splits with positive gain, best gain: -inf\n",
      "[LightGBM] [Warning] No further splits with positive gain, best gain: -inf\n",
      "[LightGBM] [Warning] No further splits with positive gain, best gain: -inf\n",
      "[LightGBM] [Warning] No further splits with positive gain, best gain: -inf\n",
      "[LightGBM] [Warning] No further splits with positive gain, best gain: -inf\n",
      "[LightGBM] [Warning] No further splits with positive gain, best gain: -inf\n",
      "[1250]\ttraining's rmse: 4.39225\tvalid_1's rmse: 4.58941\n",
      "[LightGBM] [Warning] No further splits with positive gain, best gain: -inf\n",
      "[LightGBM] [Warning] No further splits with positive gain, best gain: -inf\n",
      "[LightGBM] [Warning] No further splits with positive gain, best gain: -inf\n",
      "[LightGBM] [Warning] No further splits with positive gain, best gain: -inf\n",
      "[LightGBM] [Warning] No further splits with positive gain, best gain: -inf\n",
      "[LightGBM] [Warning] No further splits with positive gain, best gain: -inf\n",
      "[LightGBM] [Warning] No further splits with positive gain, best gain: -inf\n",
      "[LightGBM] [Warning] No further splits with positive gain, best gain: -inf\n",
      "[1300]\ttraining's rmse: 4.38803\tvalid_1's rmse: 4.58888\n",
      "[LightGBM] [Warning] No further splits with positive gain, best gain: -inf\n",
      "[LightGBM] [Warning] No further splits with positive gain, best gain: -inf\n",
      "[LightGBM] [Warning] No further splits with positive gain, best gain: -inf\n",
      "[LightGBM] [Warning] No further splits with positive gain, best gain: -inf\n",
      "[LightGBM] [Warning] No further splits with positive gain, best gain: -inf\n",
      "[LightGBM] [Warning] No further splits with positive gain, best gain: -inf\n",
      "[LightGBM] [Warning] No further splits with positive gain, best gain: -inf\n",
      "[LightGBM] [Warning] No further splits with positive gain, best gain: -inf\n",
      "[LightGBM] [Warning] No further splits with positive gain, best gain: -inf\n",
      "[LightGBM] [Warning] No further splits with positive gain, best gain: -inf\n",
      "[1350]\ttraining's rmse: 4.38397\tvalid_1's rmse: 4.5889\n",
      "[LightGBM] [Warning] No further splits with positive gain, best gain: -inf\n",
      "[LightGBM] [Warning] No further splits with positive gain, best gain: -inf\n",
      "[LightGBM] [Warning] No further splits with positive gain, best gain: -inf\n",
      "[LightGBM] [Warning] No further splits with positive gain, best gain: -inf\n",
      "[LightGBM] [Warning] No further splits with positive gain, best gain: -inf\n",
      "[LightGBM] [Warning] No further splits with positive gain, best gain: -inf\n",
      "[1400]\ttraining's rmse: 4.37987\tvalid_1's rmse: 4.58926\n",
      "[LightGBM] [Warning] No further splits with positive gain, best gain: -inf\n",
      "[LightGBM] [Warning] No further splits with positive gain, best gain: -inf\n",
      "[LightGBM] [Warning] No further splits with positive gain, best gain: -inf\n",
      "[LightGBM] [Warning] No further splits with positive gain, best gain: -inf\n",
      "[LightGBM] [Warning] No further splits with positive gain, best gain: -inf\n",
      "[LightGBM] [Warning] No further splits with positive gain, best gain: -inf\n",
      "[LightGBM] [Warning] No further splits with positive gain, best gain: -inf\n",
      "[LightGBM] [Warning] No further splits with positive gain, best gain: -inf\n",
      "[LightGBM] [Warning] No further splits with positive gain, best gain: -inf\n",
      "[LightGBM] [Warning] No further splits with positive gain, best gain: -inf\n",
      "[1450]\ttraining's rmse: 4.37579\tvalid_1's rmse: 4.58965\n",
      "[LightGBM] [Warning] No further splits with positive gain, best gain: -inf\n",
      "[LightGBM] [Warning] No further splits with positive gain, best gain: -inf\n",
      "[LightGBM] [Warning] No further splits with positive gain, best gain: -inf\n",
      "[LightGBM] [Warning] No further splits with positive gain, best gain: -inf\n",
      "[LightGBM] [Warning] No further splits with positive gain, best gain: -inf\n",
      "[LightGBM] [Warning] No further splits with positive gain, best gain: -inf\n",
      "[LightGBM] [Warning] No further splits with positive gain, best gain: -inf\n",
      "[LightGBM] [Warning] No further splits with positive gain, best gain: -inf\n",
      "[LightGBM] [Warning] No further splits with positive gain, best gain: -inf\n",
      "[LightGBM] [Warning] No further splits with positive gain, best gain: -inf\n",
      "[LightGBM] [Warning] No further splits with positive gain, best gain: -inf\n",
      "[1500]\ttraining's rmse: 4.37182\tvalid_1's rmse: 4.59073\n",
      "[LightGBM] [Warning] No further splits with positive gain, best gain: -inf\n",
      "[LightGBM] [Warning] No further splits with positive gain, best gain: -inf\n",
      "[LightGBM] [Warning] No further splits with positive gain, best gain: -inf\n",
      "[LightGBM] [Warning] No further splits with positive gain, best gain: -inf\n",
      "[LightGBM] [Warning] No further splits with positive gain, best gain: -inf\n",
      "[LightGBM] [Warning] No further splits with positive gain, best gain: -inf\n",
      "[LightGBM] [Warning] No further splits with positive gain, best gain: -inf\n",
      "Early stopping, best iteration is:\n",
      "[1331]\ttraining's rmse: 4.38553\tvalid_1's rmse: 4.58846\n",
      "Train RMSE: 4.385533237698845        Valida RMSE: 4.588458841529554\n",
      "Columns: ['emb_product_name_ingredients_text_brands_tags_additives__539', 'emb_product_name_ingredients_text_brands_tags_additives__385', 'ingredients_from_palm_oil_n', 'emb_product_name_ingredients_text_brands_tags_additives__165', 'emb_product_name_ingredients_text_brands_tags_additives__572', 'emb_product_name_ingredients_text_brands_tags_additives__589', 'emb_product_name_ingredients_text_brands_tags_additives__211', 'emb_product_name_ingredients_text_brands_tags_additives__601', 'emb_product_name_ingredients_text_brands_tags_additives__300', 'emb_product_name_ingredients_text_brands_tags_additives__237', 'emb_product_name_ingredients_text_brands_tags_additives__22', 'emb_product_name_ingredients_text_brands_tags_additives__73', 'emb_product_name_ingredients_text_brands_tags_additives__167', 'emb_product_name_ingredients_text_brands_tags_additives__203', 'emb_product_name_ingredients_text_brands_tags_additives__574', 'emb_product_name_ingredients_text_brands_tags_additives__112', 'emb_product_name_ingredients_text_brands_tags_additives__462', 'emb_product_name_ingredients_text_brands_tags_additives__36', 'emb_product_name_ingredients_text_brands_tags_additives__64', 'emb_product_name_ingredients_text_brands_tags_additives__185', 'emb_product_name_ingredients_text_brands_tags_additives__100', 'emb_product_name_ingredients_text_brands_tags_additives__550', 'emb_product_name_ingredients_text_brands_tags_additives__691', 'emb_product_name_ingredients_text_brands_tags_additives__698', 'emb_product_name_ingredients_text_brands_tags_additives__182', 'emb_product_name_ingredients_text_brands_tags_additives__263', 'emb_product_name_ingredients_text_brands_tags_additives__396', 'emb_product_name_ingredients_text_brands_tags_additives__479', 'emb_product_name_ingredients_text_brands_tags_additives__56', 'emb_product_name_ingredients_text_brands_tags_additives__465', 'diff_t', 'emb_product_name_ingredients_text_brands_tags_additives__666', 'emb_product_name_ingredients_text_brands_tags_additives__710', 'emb_product_name_ingredients_text_brands_tags_additives__717', 'emb_product_name_ingredients_text_brands_tags_additives__153', 'emb_product_name_ingredients_text_brands_tags_additives__321', 'emb_product_name_ingredients_text_brands_tags_additives__606', 'emb_product_name_ingredients_text_brands_tags_additives__627', 'emb_product_name_ingredients_text_brands_tags_additives__428', 'emb_product_name_ingredients_text_brands_tags_additives__622', 'emb_product_name_ingredients_text_brands_tags_additives__49', 'emb_product_name_ingredients_text_brands_tags_additives__656', 'emb_product_name_ingredients_text_brands_tags_additives__366', 'emb_product_name_ingredients_text_brands_tags_additives__678', 'emb_product_name_ingredients_text_brands_tags_additives__685', 'emb_product_name_ingredients_text_brands_tags_additives__739', 'emb_product_name_ingredients_text_brands_tags_additives__224', 'emb_product_name_ingredients_text_brands_tags_additives__208', 'emb_product_name_ingredients_text_brands_tags_additives__339', 'emb_product_name_ingredients_text_brands_tags_additives__148', 'emb_product_name_ingredients_text_brands_tags_additives__259', 'emb_product_name_ingredients_text_brands_tags_additives__680', 'emb_product_name_ingredients_text_brands_tags_additives__0', 'emb_product_name_ingredients_text_brands_tags_additives__605', 'emb_product_name_ingredients_text_brands_tags_additives__553', 'emb_product_name_ingredients_text_brands_tags_additives__354', 'emb_product_name_ingredients_text_brands_tags_additives__297', 'emb_product_name_ingredients_text_brands_tags_additives__422', 'emb_product_name_ingredients_text_brands_tags_additives__410', 'emb_product_name_ingredients_text_brands_tags_additives__106', 'emb_product_name_ingredients_text_brands_tags_additives__317', 'emb_product_name_ingredients_text_brands_tags_additives__145', 'emb_product_name_ingredients_text_brands_tags_additives__137', 'emb_product_name_ingredients_text_brands_tags_additives__319', 'emb_product_name_ingredients_text_brands_tags_additives__552', 'emb_product_name_ingredients_text_brands_tags_additives__451', 'emb_product_name_ingredients_text_brands_tags_additives__580', 'emb_product_name_ingredients_text_brands_tags_additives__533', 'emb_product_name_ingredients_text_brands_tags_additives__483', 'emb_product_name_ingredients_text_brands_tags_additives__594', 'emb_product_name_ingredients_text_brands_tags_additives__419', 'emb_product_name_ingredients_text_brands_tags_additives__459', 'emb_product_name_ingredients_text_brands_tags_additives__762', 'emb_product_name_ingredients_text_brands_tags_additives__276', 'emb_product_name_ingredients_text_brands_tags_additives__513', 'emb_product_name_ingredients_text_brands_tags_additives__561', 'emb_product_name_ingredients_text_brands_tags_additives__323', 'emb_product_name_ingredients_text_brands_tags_additives__439', 'emb_product_name_ingredients_text_brands_tags_additives__12', 'emb_product_name_ingredients_text_brands_tags_additives__450', 'emb_product_name_ingredients_text_brands_tags_additives__426', 'emb_product_name_ingredients_text_brands_tags_additives__683', 'emb_product_name_ingredients_text_brands_tags_additives__347', 'emb_product_name_ingredients_text_brands_tags_additives__501', 'emb_product_name_ingredients_text_brands_tags_additives__151', 'emb_product_name_ingredients_text_brands_tags_additives__190', 'emb_product_name_ingredients_text_brands_tags_additives__169', 'emb_product_name_ingredients_text_brands_tags_additives__247', 'emb_product_name_ingredients_text_brands_tags_additives__147', 'emb_product_name_ingredients_text_brands_tags_additives__528', 'emb_product_name_ingredients_text_brands_tags_additives__72', 'emb_product_name_ingredients_text_brands_tags_additives__371', 'emb_product_name_ingredients_text_brands_tags_additives__324', 'emb_product_name_ingredients_text_brands_tags_additives__99', 'emb_product_name_ingredients_text_brands_tags_additives__405', 'emb_product_name_ingredients_text_brands_tags_additives__569', 'emb_product_name_ingredients_text_brands_tags_additives__496', 'emb_product_name_ingredients_text_brands_tags_additives__7', 'emb_product_name_ingredients_text_brands_tags_additives__636', 'emb_product_name_ingredients_text_brands_tags_additives__625', 'emb_product_name_ingredients_text_brands_tags_additives__252', 'emb_product_name_ingredients_text_brands_tags_additives__287', 'emb_product_name_ingredients_text_brands_tags_additives__510', 'emb_product_name_ingredients_text_brands_tags_additives__189', 'emb_product_name_ingredients_text_brands_tags_additives__32', 'emb_product_name_ingredients_text_brands_tags_additives__226', 'emb_product_name_ingredients_text_brands_tags_additives__431', 'emb_product_name_ingredients_text_brands_tags_additives__245', 'emb_product_name_ingredients_text_brands_tags_additives__766', 'emb_product_name_ingredients_text_brands_tags_additives__500', 'emb_product_name_ingredients_text_brands_tags_additives__193', 'emb_product_name_ingredients_text_brands_tags_additives__318', 'emb_product_name_ingredients_text_brands_tags_additives__522', 'emb_product_name_ingredients_text_brands_tags_additives__88', 'emb_product_name_ingredients_text_brands_tags_additives__581', 'emb_product_name_ingredients_text_brands_tags_additives__650', 'emb_product_name_ingredients_text_brands_tags_additives__668', 'emb_product_name_ingredients_text_brands_tags_additives__699', 'emb_product_name_ingredients_text_brands_tags_additives__30', 'emb_product_name_ingredients_text_brands_tags_additives__602', 'emb_product_name_ingredients_text_brands_tags_additives__744', 'emb_product_name_ingredients_text_brands_tags_additives__71', 'emb_product_name_ingredients_text_brands_tags_additives__47', 'emb_product_name_ingredients_text_brands_tags_additives__35', 'emb_product_name_ingredients_text_brands_tags_additives__663', 'emb_product_name_ingredients_text_brands_tags_additives__54', 'emb_product_name_ingredients_text_brands_tags_additives__156', 'emb_product_name_ingredients_text_brands_tags_additives__359', 'emb_product_name_ingredients_text_brands_tags_additives__449', 'emb_product_name_ingredients_text_brands_tags_additives__471', 'emb_product_name_ingredients_text_brands_tags_additives__615', 'emb_product_name_ingredients_text_brands_tags_additives__214', 'emb_product_name_ingredients_text_brands_tags_additives__352', 'emb_product_name_ingredients_text_brands_tags_additives__523', 'emb_product_name_ingredients_text_brands_tags_additives__674', 'emb_product_name_ingredients_text_brands_tags_additives__696', 'emb_product_name_ingredients_text_brands_tags_additives__441', 'emb_product_name_ingredients_text_brands_tags_additives__725', 'emb_product_name_ingredients_text_brands_tags_additives__68', 'emb_product_name_ingredients_text_brands_tags_additives__658', 'emb_product_name_ingredients_text_brands_tags_additives__28', 'emb_product_name_ingredients_text_brands_tags_additives__406', 'emb_product_name_ingredients_text_brands_tags_additives__107', 'emb_product_name_ingredients_text_brands_tags_additives__542', 'emb_product_name_ingredients_text_brands_tags_additives__579', 'emb_product_name_ingredients_text_brands_tags_additives__647', 'emb_product_name_ingredients_text_brands_tags_additives__6', 'emb_product_name_ingredients_text_brands_tags_additives__140', 'emb_product_name_ingredients_text_brands_tags_additives__219', 'emb_product_name_ingredients_text_brands_tags_additives__597', 'emb_product_name_ingredients_text_brands_tags_additives__264', 'emb_product_name_ingredients_text_brands_tags_additives__466', 'emb_product_name_ingredients_text_brands_tags_additives__643', 'emb_product_name_ingredients_text_brands_tags_additives__512', 'emb_product_name_ingredients_text_brands_tags_additives__108', 'emb_product_name_ingredients_text_brands_tags_additives__401', 'emb_product_name_ingredients_text_brands_tags_additives__144', 'emb_product_name_ingredients_text_brands_tags_additives__149', 'emb_product_name_ingredients_text_brands_tags_additives__429', 'emb_product_name_ingredients_text_brands_tags_additives__763', 'emb_product_name_ingredients_text_brands_tags_additives__529', 'emb_product_name_ingredients_text_brands_tags_additives__690', 'emb_product_name_ingredients_text_brands_tags_additives__399', 'emb_product_name_ingredients_text_brands_tags_additives__418', 'emb_product_name_ingredients_text_brands_tags_additives__475', 'emb_product_name_ingredients_text_brands_tags_additives__765', 'emb_product_name_ingredients_text_brands_tags_additives__199', 'emb_product_name_ingredients_text_brands_tags_additives__162', 'emb_product_name_ingredients_text_brands_tags_additives__18', 'emb_product_name_ingredients_text_brands_tags_additives__175', 'emb_product_name_ingredients_text_brands_tags_additives__176', 'emb_product_name_ingredients_text_brands_tags_additives__531', 'emb_product_name_ingredients_text_brands_tags_additives__644', 'emb_product_name_ingredients_text_brands_tags_additives__360', 'emb_product_name_ingredients_text_brands_tags_additives__358', 'emb_product_name_ingredients_text_brands_tags_additives__560', 'emb_product_name_ingredients_text_brands_tags_additives__350', 'emb_product_name_ingredients_text_brands_tags_additives__738', 'emb_product_name_ingredients_text_brands_tags_additives__69', 'emb_product_name_ingredients_text_brands_tags_additives__547', 'emb_product_name_ingredients_text_brands_tags_additives__711', 'emb_product_name_ingredients_text_brands_tags_additives__304', 'emb_product_name_ingredients_text_brands_tags_additives__420', 'emb_product_name_ingredients_text_brands_tags_additives__356', 'emb_product_name_ingredients_text_brands_tags_additives__631', 'emb_product_name_ingredients_text_brands_tags_additives__17', 'emb_product_name_ingredients_text_brands_tags_additives__126', 'emb_product_name_ingredients_text_brands_tags_additives__351', 'emb_product_name_ingredients_text_brands_tags_additives__105', 'emb_product_name_ingredients_text_brands_tags_additives__31', 'emb_product_name_ingredients_text_brands_tags_additives__716', 'emb_product_name_ingredients_text_brands_tags_additives__66', 'emb_product_name_ingredients_text_brands_tags_additives__413', 'emb_product_name_ingredients_text_brands_tags_additives__330', 'emb_product_name_ingredients_text_brands_tags_additives__532', 'emb_product_name_ingredients_text_brands_tags_additives__612', 'emb_product_name_ingredients_text_brands_tags_additives__270', 'emb_product_name_ingredients_text_brands_tags_additives__570', 'emb_product_name_ingredients_text_brands_tags_additives__89', 'emb_product_name_ingredients_text_brands_tags_additives__412', 'emb_product_name_ingredients_text_brands_tags_additives__390', 'emb_product_name_ingredients_text_brands_tags_additives__596', 'emb_product_name_ingredients_text_brands_tags_additives__434', 'emb_product_name_ingredients_text_brands_tags_additives__231', 'emb_product_name_ingredients_text_brands_tags_additives__320', 'emb_product_name_ingredients_text_brands_tags_additives__515', 'emb_product_name_ingredients_text_brands_tags_additives__42', 'emb_product_name_ingredients_text_brands_tags_additives__499', 'emb_product_name_ingredients_text_brands_tags_additives__329', 'emb_product_name_ingredients_text_brands_tags_additives__379', 'emb_product_name_ingredients_text_brands_tags_additives__184', 'emb_product_name_ingredients_text_brands_tags_additives__453', 'emb_product_name_ingredients_text_brands_tags_additives__435', 'emb_product_name_ingredients_text_brands_tags_additives__661', 'emb_product_name_ingredients_text_brands_tags_additives__715', 'emb_product_name_ingredients_text_brands_tags_additives__638', 'emb_product_name_ingredients_text_brands_tags_additives__134', 'emb_product_name_ingredients_text_brands_tags_additives__135', 'emb_product_name_ingredients_text_brands_tags_additives__693', 'emb_product_name_ingredients_text_brands_tags_additives__139', 'emb_product_name_ingredients_text_brands_tags_additives__33', 'emb_product_name_ingredients_text_brands_tags_additives__222', 'emb_product_name_ingredients_text_brands_tags_additives__117', 'emb_product_name_ingredients_text_brands_tags_additives__179', 'emb_product_name_ingredients_text_brands_tags_additives__619', 'emb_product_name_ingredients_text_brands_tags_additives__37', 'emb_product_name_ingredients_text_brands_tags_additives__526', 'emb_product_name_ingredients_text_brands_tags_additives__708', 'emb_product_name_ingredients_text_brands_tags_additives__535', 'emb_product_name_ingredients_text_brands_tags_additives__595', 'emb_product_name_ingredients_text_brands_tags_additives__388', 'emb_product_name_ingredients_text_brands_tags_additives__629', 'emb_product_name_ingredients_text_brands_tags_additives__559', 'emb_product_name_ingredients_text_brands_tags_additives__235', 'emb_product_name_ingredients_text_brands_tags_additives__168', 'emb_product_name_ingredients_text_brands_tags_additives__556', 'emb_product_name_ingredients_text_brands_tags_additives__120', 'emb_product_name_ingredients_text_brands_tags_additives__250', 'emb_product_name_ingredients_text_brands_tags_additives__586', 'emb_product_name_ingredients_text_brands_tags_additives__92', 'emb_product_name_ingredients_text_brands_tags_additives__274', 'emb_product_name_ingredients_text_brands_tags_additives__150', 'emb_product_name_ingredients_text_brands_tags_additives__333', 'emb_product_name_ingredients_text_brands_tags_additives__19', 'emb_product_name_ingredients_text_brands_tags_additives__345', 'emb_product_name_ingredients_text_brands_tags_additives__365', 'emb_product_name_ingredients_text_brands_tags_additives__372', 'emb_product_name_ingredients_text_brands_tags_additives__121', 'emb_product_name_ingredients_text_brands_tags_additives__495', 'emb_product_name_ingredients_text_brands_tags_additives__447', 'emb_product_name_ingredients_text_brands_tags_additives__621', 'emb_product_name_ingredients_text_brands_tags_additives__197', 'emb_product_name_ingredients_text_brands_tags_additives__194', 'emb_product_name_ingredients_text_brands_tags_additives__79', 'emb_product_name_ingredients_text_brands_tags_additives__649', 'emb_product_name_ingredients_text_brands_tags_additives__514', 'emb_product_name_ingredients_text_brands_tags_additives__505', 'emb_product_name_ingredients_text_brands_tags_additives__610', 'emb_product_name_ingredients_text_brands_tags_additives__701', 'emb_product_name_ingredients_text_brands_tags_additives__415', 'emb_product_name_ingredients_text_brands_tags_additives__280', 'additives_n', 'emb_product_name_ingredients_text_brands_tags_additives__273', 'emb_product_name_ingredients_text_brands_tags_additives__620', 'emb_product_name_ingredients_text_brands_tags_additives__282', 'emb_product_name_ingredients_text_brands_tags_additives__10', 'emb_product_name_ingredients_text_brands_tags_additives__687', 'emb_product_name_ingredients_text_brands_tags_additives__745', 'emb_product_name_ingredients_text_brands_tags_additives__397', 'emb_product_name_ingredients_text_brands_tags_additives__315', 'emb_product_name_ingredients_text_brands_tags_additives__538', 'emb_product_name_ingredients_text_brands_tags_additives__712', 'emb_product_name_ingredients_text_brands_tags_additives__183', 'emb_product_name_ingredients_text_brands_tags_additives__119', 'emb_product_name_ingredients_text_brands_tags_additives__707', 'emb_product_name_ingredients_text_brands_tags_additives__425', 'emb_product_name_ingredients_text_brands_tags_additives__332', 'emb_product_name_ingredients_text_brands_tags_additives__253', 'emb_product_name_ingredients_text_brands_tags_additives__370', 'emb_product_name_ingredients_text_brands_tags_additives__482', 'emb_product_name_ingredients_text_brands_tags_additives__278', 'emb_product_name_ingredients_text_brands_tags_additives__400', 'emb_product_name_ingredients_text_brands_tags_additives__543', 'emb_product_name_ingredients_text_brands_tags_additives__373', 'emb_product_name_ingredients_text_brands_tags_additives__585', 'emb_product_name_ingredients_text_brands_tags_additives__11', 'emb_product_name_ingredients_text_brands_tags_additives__386', 'emb_product_name_ingredients_text_brands_tags_additives__403', 'emb_product_name_ingredients_text_brands_tags_additives__498', 'emb_product_name_ingredients_text_brands_tags_additives__160', 'emb_product_name_ingredients_text_brands_tags_additives__436', 'emb_product_name_ingredients_text_brands_tags_additives__109', 'emb_product_name_ingredients_text_brands_tags_additives__463', 'emb_product_name_ingredients_text_brands_tags_additives__626', 'emb_product_name_ingredients_text_brands_tags_additives__39', 'emb_product_name_ingredients_text_brands_tags_additives__171', 'emb_product_name_ingredients_text_brands_tags_additives__381', 'emb_product_name_ingredients_text_brands_tags_additives__95', 'emb_product_name_ingredients_text_brands_tags_additives__166', 'emb_product_name_ingredients_text_brands_tags_additives__456', 'emb_product_name_ingredients_text_brands_tags_additives__437', 'emb_product_name_ingredients_text_brands_tags_additives__703', 'emb_product_name_ingredients_text_brands_tags_additives__470', 'emb_product_name_ingredients_text_brands_tags_additives__546', 'emb_product_name_ingredients_text_brands_tags_additives__86', 'emb_product_name_ingredients_text_brands_tags_additives__458', 'emb_product_name_ingredients_text_brands_tags_additives__751', 'emb_product_name_ingredients_text_brands_tags_additives__599', 'emb_product_name_ingredients_text_brands_tags_additives__509', 'emb_product_name_ingredients_text_brands_tags_additives__180', 'emb_product_name_ingredients_text_brands_tags_additives__555', 'emb_product_name_ingredients_text_brands_tags_additives__348', 'emb_product_name_ingredients_text_brands_tags_additives__55', 'emb_product_name_ingredients_text_brands_tags_additives__34', 'emb_product_name_ingredients_text_brands_tags_additives__277', 'emb_product_name_ingredients_text_brands_tags_additives__177', 'emb_product_name_ingredients_text_brands_tags_additives__645', 'emb_product_name_ingredients_text_brands_tags_additives__181', 'emb_product_name_ingredients_text_brands_tags_additives__262', 'emb_product_name_ingredients_text_brands_tags_additives__101', 'emb_product_name_ingredients_text_brands_tags_additives__488', 'emb_product_name_ingredients_text_brands_tags_additives__309', 'emb_product_name_ingredients_text_brands_tags_additives__573', 'emb_product_name_ingredients_text_brands_tags_additives__305', 'emb_product_name_ingredients_text_brands_tags_additives__704', 'emb_product_name_ingredients_text_brands_tags_additives__227', 'emb_product_name_ingredients_text_brands_tags_additives__646', 'emb_product_name_ingredients_text_brands_tags_additives__98', 'emb_product_name_ingredients_text_brands_tags_additives__714', 'emb_product_name_ingredients_text_brands_tags_additives__544', 'emb_product_name_ingredients_text_brands_tags_additives__361', 'emb_product_name_ingredients_text_brands_tags_additives__1', 'emb_product_name_ingredients_text_brands_tags_additives__225', 'emb_product_name_ingredients_text_brands_tags_additives__485', 'emb_product_name_ingredients_text_brands_tags_additives__692', 'emb_product_name_ingredients_text_brands_tags_additives__233', 'emb_product_name_ingredients_text_brands_tags_additives__8', 'emb_product_name_ingredients_text_brands_tags_additives__215', 'emb_product_name_ingredients_text_brands_tags_additives__657', 'emb_product_name_ingredients_text_brands_tags_additives__603', 'emb_product_name_ingredients_text_brands_tags_additives__80', 'emb_product_name_ingredients_text_brands_tags_additives__654', 'emb_product_name_ingredients_text_brands_tags_additives__402', 'emb_product_name_ingredients_text_brands_tags_additives__57', 'emb_product_name_ingredients_text_brands_tags_additives__375', 'emb_product_name_ingredients_text_brands_tags_additives__15', 'emb_product_name_ingredients_text_brands_tags_additives__78', 'emb_product_name_ingredients_text_brands_tags_additives__395', 'emb_product_name_ingredients_text_brands_tags_additives__731', 'emb_product_name_ingredients_text_brands_tags_additives__616', 'emb_product_name_ingredients_text_brands_tags_additives__672', 'emb_product_name_ingredients_text_brands_tags_additives__173', 'emb_product_name_ingredients_text_brands_tags_additives__242', 'emb_product_name_ingredients_text_brands_tags_additives__670', 'emb_product_name_ingredients_text_brands_tags_additives__376', 'emb_product_name_ingredients_text_brands_tags_additives__27', 'emb_product_name_ingredients_text_brands_tags_additives__257', 'emb_product_name_ingredients_text_brands_tags_additives__394', 'emb_product_name_ingredients_text_brands_tags_additives__118', 'emb_product_name_ingredients_text_brands_tags_additives__576', 'emb_product_name_ingredients_text_brands_tags_additives__128', 'emb_product_name_ingredients_text_brands_tags_additives__414', 'emb_product_name_ingredients_text_brands_tags_additives__736', 'emb_product_name_ingredients_text_brands_tags_additives__753', 'emb_product_name_ingredients_text_brands_tags_additives__172', 'emb_product_name_ingredients_text_brands_tags_additives__157', 'emb_product_name_ingredients_text_brands_tags_additives__284', 'emb_product_name_ingredients_text_brands_tags_additives__457', 'emb_product_name_ingredients_text_brands_tags_additives__675', 'emb_product_name_ingredients_text_brands_tags_additives__164', 'emb_product_name_ingredients_text_brands_tags_additives__293', 'emb_product_name_ingredients_text_brands_tags_additives__207', 'emb_product_name_ingredients_text_brands_tags_additives__389', 'emb_product_name_ingredients_text_brands_tags_additives__343', 'emb_product_name_ingredients_text_brands_tags_additives__322', 'emb_product_name_ingredients_text_brands_tags_additives__136', 'emb_product_name_ingredients_text_brands_tags_additives__202', 'emb_product_name_ingredients_text_brands_tags_additives__210', 'emb_product_name_ingredients_text_brands_tags_additives__724', 'emb_product_name_ingredients_text_brands_tags_additives__328', 'emb_product_name_ingredients_text_brands_tags_additives__705', 'emb_product_name_ingredients_text_brands_tags_additives__301', 'emb_product_name_ingredients_text_brands_tags_additives__240', 'emb_product_name_ingredients_text_brands_tags_additives__314', 'emb_product_name_ingredients_text_brands_tags_additives__677', 'emb_product_name_ingredients_text_brands_tags_additives__163', 'emb_product_name_ingredients_text_brands_tags_additives__236', 'emb_product_name_ingredients_text_brands_tags_additives__460', 'emb_product_name_ingredients_text_brands_tags_additives__200', 'emb_product_name_ingredients_text_brands_tags_additives__377', 'emb_product_name_ingredients_text_brands_tags_additives__83', 'emb_product_name_ingredients_text_brands_tags_additives__473', 'emb_product_name_ingredients_text_brands_tags_additives__525', 'emb_product_name_ingredients_text_brands_tags_additives__285', 'emb_product_name_ingredients_text_brands_tags_additives__728', 'emb_product_name_ingredients_text_brands_tags_additives__243', 'emb_product_name_ingredients_text_brands_tags_additives__660', 'emb_product_name_ingredients_text_brands_tags_additives__50', 'emb_product_name_ingredients_text_brands_tags_additives__228', 'emb_product_name_ingredients_text_brands_tags_additives__642', 'emb_product_name_ingredients_text_brands_tags_additives__478', 'emb_product_name_ingredients_text_brands_tags_additives__391', 'emb_product_name_ingredients_text_brands_tags_additives__201', 'emb_product_name_ingredients_text_brands_tags_additives__659', 'emb_product_name_ingredients_text_brands_tags_additives__407', 'emb_product_name_ingredients_text_brands_tags_additives__747', 'emb_product_name_ingredients_text_brands_tags_additives__53', 'emb_product_name_ingredients_text_brands_tags_additives__468', 'emb_product_name_ingredients_text_brands_tags_additives__584', 'emb_product_name_ingredients_text_brands_tags_additives__587', 'emb_product_name_ingredients_text_brands_tags_additives__639', 'emb_product_name_ingredients_text_brands_tags_additives__760', 'emb_product_name_ingredients_text_brands_tags_additives__192', 'emb_product_name_ingredients_text_brands_tags_additives__307', 'emb_product_name_ingredients_text_brands_tags_additives__198', 'emb_product_name_ingredients_text_brands_tags_additives__143', 'emb_product_name_ingredients_text_brands_tags_additives__325', 'emb_product_name_ingredients_text_brands_tags_additives__129', 'emb_product_name_ingredients_text_brands_tags_additives__374', 'emb_product_name_ingredients_text_brands_tags_additives__635', 'emb_product_name_ingredients_text_brands_tags_additives__170', 'emb_product_name_ingredients_text_brands_tags_additives__363', 'emb_product_name_ingredients_text_brands_tags_additives__630', 'emb_product_name_ingredients_text_brands_tags_additives__306', 'emb_product_name_ingredients_text_brands_tags_additives__241', 'emb_product_name_ingredients_text_brands_tags_additives__448', 'emb_product_name_ingredients_text_brands_tags_additives__651', 'emb_product_name_ingredients_text_brands_tags_additives__266', 'emb_product_name_ingredients_text_brands_tags_additives__752', 'emb_product_name_ingredients_text_brands_tags_additives__84', 'emb_product_name_ingredients_text_brands_tags_additives__534', 'emb_product_name_ingredients_text_brands_tags_additives__338', 'emb_product_name_ingredients_text_brands_tags_additives__223', 'emb_product_name_ingredients_text_brands_tags_additives__443', 'emb_product_name_ingredients_text_brands_tags_additives__588', 'emb_product_name_ingredients_text_brands_tags_additives__290', 'emb_product_name_ingredients_text_brands_tags_additives__469', 'emb_product_name_ingredients_text_brands_tags_additives__26', 'emb_product_name_ingredients_text_brands_tags_additives__209', 'emb_product_name_ingredients_text_brands_tags_additives__743', 'emb_product_name_ingredients_text_brands_tags_additives__759', 'emb_product_name_ingredients_text_brands_tags_additives__141', 'emb_product_name_ingredients_text_brands_tags_additives__340', 'emb_product_name_ingredients_text_brands_tags_additives__205', 'emb_product_name_ingredients_text_brands_tags_additives__558', 'emb_product_name_ingredients_text_brands_tags_additives__275', 'emb_product_name_ingredients_text_brands_tags_additives__519', 'emb_product_name_ingredients_text_brands_tags_additives__94', 'emb_product_name_ingredients_text_brands_tags_additives__527', 'emb_product_name_ingredients_text_brands_tags_additives__723', 'emb_product_name_ingredients_text_brands_tags_additives__122', 'emb_product_name_ingredients_text_brands_tags_additives__346', 'emb_product_name_ingredients_text_brands_tags_additives__758', 'emb_product_name_ingredients_text_brands_tags_additives__103', 'emb_product_name_ingredients_text_brands_tags_additives__655', 'emb_product_name_ingredients_text_brands_tags_additives__25', 'emb_product_name_ingredients_text_brands_tags_additives__341', 'emb_product_name_ingredients_text_brands_tags_additives__424', 'emb_product_name_ingredients_text_brands_tags_additives__682', 'emb_product_name_ingredients_text_brands_tags_additives__218', 'emb_product_name_ingredients_text_brands_tags_additives__593', 'emb_product_name_ingredients_text_brands_tags_additives__191', 'emb_product_name_ingredients_text_brands_tags_additives__480', 'ingredients_that_may_be_from_palm_oil_n', 'emb_product_name_ingredients_text_brands_tags_additives__248', 'emb_product_name_ingredients_text_brands_tags_additives__154', 'emb_product_name_ingredients_text_brands_tags_additives__369', 'emb_product_name_ingredients_text_brands_tags_additives__614', 'emb_product_name_ingredients_text_brands_tags_additives__311', 'emb_product_name_ingredients_text_brands_tags_additives__234', 'emb_product_name_ingredients_text_brands_tags_additives__294', 'emb_product_name_ingredients_text_brands_tags_additives__764', 'emb_product_name_ingredients_text_brands_tags_additives__735', 'emb_product_name_ingredients_text_brands_tags_additives__417', 'emb_product_name_ingredients_text_brands_tags_additives__484', 'emb_product_name_ingredients_text_brands_tags_additives__756', 'emb_product_name_ingredients_text_brands_tags_additives__632', 'emb_product_name_ingredients_text_brands_tags_additives__9', 'emb_product_name_ingredients_text_brands_tags_additives__628', 'emb_product_name_ingredients_text_brands_tags_additives__442', 'emb_product_name_ingredients_text_brands_tags_additives__383', 'emb_product_name_ingredients_text_brands_tags_additives__624', 'emb_product_name_ingredients_text_brands_tags_additives__713', 'emb_product_name_ingredients_text_brands_tags_additives__327', 'emb_product_name_ingredients_text_brands_tags_additives__438', 'emb_product_name_ingredients_text_brands_tags_additives__575', 'emb_product_name_ingredients_text_brands_tags_additives__291', 'emb_product_name_ingredients_text_brands_tags_additives__65', 'emb_product_name_ingredients_text_brands_tags_additives__562', 'emb_product_name_ingredients_text_brands_tags_additives__665', 'emb_product_name_ingredients_text_brands_tags_additives__521', 'emb_product_name_ingredients_text_brands_tags_additives__316', 'emb_product_name_ingredients_text_brands_tags_additives__727', 'emb_product_name_ingredients_text_brands_tags_additives__378', 'emb_product_name_ingredients_text_brands_tags_additives__102', 'emb_product_name_ingredients_text_brands_tags_additives__761', 'emb_product_name_ingredients_text_brands_tags_additives__268', 'emb_product_name_ingredients_text_brands_tags_additives__634', 'emb_product_name_ingredients_text_brands_tags_additives__648', 'emb_product_name_ingredients_text_brands_tags_additives__653', 'emb_product_name_ingredients_text_brands_tags_additives__96', 'emb_product_name_ingredients_text_brands_tags_additives__578', 'emb_product_name_ingredients_text_brands_tags_additives__115', 'emb_product_name_ingredients_text_brands_tags_additives__568', 'emb_product_name_ingredients_text_brands_tags_additives__130', 'emb_product_name_ingredients_text_brands_tags_additives__299', 'emb_product_name_ingredients_text_brands_tags_additives__331', 'emb_product_name_ingredients_text_brands_tags_additives__617', 'emb_product_name_ingredients_text_brands_tags_additives__40', 'emb_product_name_ingredients_text_brands_tags_additives__295', 'emb_product_name_ingredients_text_brands_tags_additives__719', 'emb_product_name_ingredients_text_brands_tags_additives__726', 'emb_product_name_ingredients_text_brands_tags_additives__93', 'emb_product_name_ingredients_text_brands_tags_additives__21', 'emb_product_name_ingredients_text_brands_tags_additives__204', 'emb_product_name_ingredients_text_brands_tags_additives__212', 'emb_product_name_ingredients_text_brands_tags_additives__530', 'emb_product_name_ingredients_text_brands_tags_additives__740', 'emb_product_name_ingredients_text_brands_tags_additives__232', 'emb_product_name_ingredients_text_brands_tags_additives__51', 'emb_product_name_ingredients_text_brands_tags_additives__517', 'emb_product_name_ingredients_text_brands_tags_additives__256', 'emb_product_name_ingredients_text_brands_tags_additives__158', 'emb_product_name_ingredients_text_brands_tags_additives__503', 'emb_product_name_ingredients_text_brands_tags_additives__81', 'emb_product_name_ingredients_text_brands_tags_additives__637', 'emb_product_name_ingredients_text_brands_tags_additives__722', 'emb_product_name_ingredients_text_brands_tags_additives__742', 'emb_product_name_ingredients_text_brands_tags_additives__238', 'emb_product_name_ingredients_text_brands_tags_additives__472', 'emb_product_name_ingredients_text_brands_tags_additives__29', 'emb_product_name_ingredients_text_brands_tags_additives__244', 'emb_product_name_ingredients_text_brands_tags_additives__486', 'emb_product_name_ingredients_text_brands_tags_additives__689', 'emb_product_name_ingredients_text_brands_tags_additives__362', 'emb_product_name_ingredients_text_brands_tags_additives__87', 'emb_product_name_ingredients_text_brands_tags_additives__367', 'emb_product_name_ingredients_text_brands_tags_additives__404', 'emb_product_name_ingredients_text_brands_tags_additives__3', 'emb_product_name_ingredients_text_brands_tags_additives__334', 'emb_product_name_ingredients_text_brands_tags_additives__618', 'emb_product_name_ingredients_text_brands_tags_additives__541', 'emb_product_name_ingredients_text_brands_tags_additives__13', 'emb_product_name_ingredients_text_brands_tags_additives__289', 'emb_product_name_ingredients_text_brands_tags_additives__492', 'emb_product_name_ingredients_text_brands_tags_additives__491', 'emb_product_name_ingredients_text_brands_tags_additives__76', 'emb_product_name_ingredients_text_brands_tags_additives__355', 'emb_product_name_ingredients_text_brands_tags_additives__481', 'emb_product_name_ingredients_text_brands_tags_additives__592', 'emb_product_name_ingredients_text_brands_tags_additives__676', 'emb_product_name_ingredients_text_brands_tags_additives__133', 'emb_product_name_ingredients_text_brands_tags_additives__732', 'emb_product_name_ingredients_text_brands_tags_additives__335', 'emb_product_name_ingredients_text_brands_tags_additives__652', 'emb_product_name_ingredients_text_brands_tags_additives__67', 'emb_product_name_ingredients_text_brands_tags_additives__748', 'emb_product_name_ingredients_text_brands_tags_additives__110', 'emb_product_name_ingredients_text_brands_tags_additives__261', 'emb_product_name_ingredients_text_brands_tags_additives__113', 'emb_product_name_ingredients_text_brands_tags_additives__461', 'emb_product_name_ingredients_text_brands_tags_additives__502', 'emb_product_name_ingredients_text_brands_tags_additives__608', 'emb_product_name_ingredients_text_brands_tags_additives__421', 'emb_product_name_ingredients_text_brands_tags_additives__557', 'emb_product_name_ingredients_text_brands_tags_additives__104', 'emb_product_name_ingredients_text_brands_tags_additives__269', 'emb_product_name_ingredients_text_brands_tags_additives__667', 'emb_product_name_ingredients_text_brands_tags_additives__186', 'emb_product_name_ingredients_text_brands_tags_additives__125', 'emb_product_name_ingredients_text_brands_tags_additives__640', 'emb_product_name_ingredients_text_brands_tags_additives__540', 'emb_product_name_ingredients_text_brands_tags_additives__662', 'emb_product_name_ingredients_text_brands_tags_additives__97', 'emb_product_name_ingredients_text_brands_tags_additives__116', 'emb_product_name_ingredients_text_brands_tags_additives__730', 'emb_product_name_ingredients_text_brands_tags_additives__123', 'emb_product_name_ingredients_text_brands_tags_additives__62', 'emb_product_name_ingredients_text_brands_tags_additives__518', 'emb_product_name_ingredients_text_brands_tags_additives__489', 'emb_product_name_ingredients_text_brands_tags_additives__706', 'emb_product_name_ingredients_text_brands_tags_additives__342', 'emb_product_name_ingredients_text_brands_tags_additives__433', 'emb_product_name_ingredients_text_brands_tags_additives__741', 'emb_product_name_ingredients_text_brands_tags_additives__398', 'emb_product_name_ingredients_text_brands_tags_additives__511', 'emb_product_name_ingredients_text_brands_tags_additives__757', 'emb_product_name_ingredients_text_brands_tags_additives__520', 'emb_product_name_ingredients_text_brands_tags_additives__114', 'emb_product_name_ingredients_text_brands_tags_additives__349', 'emb_product_name_ingredients_text_brands_tags_additives__298', 'emb_product_name_ingredients_text_brands_tags_additives__384', 'emb_product_name_ingredients_text_brands_tags_additives__477', 'emb_product_name_ingredients_text_brands_tags_additives__52', 'emb_product_name_ingredients_text_brands_tags_additives__368', 'emb_product_name_ingredients_text_brands_tags_additives__577', 'emb_product_name_ingredients_text_brands_tags_additives__196', 'emb_product_name_ingredients_text_brands_tags_additives__206', 'emb_product_name_ingredients_text_brands_tags_additives__684', 'emb_product_name_ingredients_text_brands_tags_additives__58', 'emb_product_name_ingredients_text_brands_tags_additives__750', 'emb_product_name_ingredients_text_brands_tags_additives__229', 'emb_product_name_ingredients_text_brands_tags_additives__303', 'emb_product_name_ingredients_text_brands_tags_additives__146', 'emb_product_name_ingredients_text_brands_tags_additives__45', 'emb_product_name_ingredients_text_brands_tags_additives__296', 'emb_product_name_ingredients_text_brands_tags_additives__2', 'emb_product_name_ingredients_text_brands_tags_additives__312', 'emb_product_name_ingredients_text_brands_tags_additives__516', 'emb_product_name_ingredients_text_brands_tags_additives__609', 'emb_product_name_ingredients_text_brands_tags_additives__600', 'emb_product_name_ingredients_text_brands_tags_additives__591', 'emb_product_name_ingredients_text_brands_tags_additives__41', 'emb_product_name_ingredients_text_brands_tags_additives__313', 'emb_product_name_ingredients_text_brands_tags_additives__613', 'emb_product_name_ingredients_text_brands_tags_additives__548', 'emb_product_name_ingredients_text_brands_tags_additives__61', 'emb_product_name_ingredients_text_brands_tags_additives__767', 'emb_product_name_ingredients_text_brands_tags_additives__565', 'emb_product_name_ingredients_text_brands_tags_additives__127', 'emb_product_name_ingredients_text_brands_tags_additives__90', 'emb_product_name_ingredients_text_brands_tags_additives__474', 'emb_product_name_ingredients_text_brands_tags_additives__271', 'emb_product_name_ingredients_text_brands_tags_additives__292', 'emb_product_name_ingredients_text_brands_tags_additives__46', 'emb_product_name_ingredients_text_brands_tags_additives__536', 'emb_product_name_ingredients_text_brands_tags_additives__446', 'emb_product_name_ingredients_text_brands_tags_additives__213', 'emb_product_name_ingredients_text_brands_tags_additives__246', 'emb_product_name_ingredients_text_brands_tags_additives__664', 'emb_product_name_ingredients_text_brands_tags_additives__582', 'emb_product_name_ingredients_text_brands_tags_additives__444', 'emb_product_name_ingredients_text_brands_tags_additives__187', 'emb_product_name_ingredients_text_brands_tags_additives__537', 'emb_product_name_ingredients_text_brands_tags_additives__571', 'emb_product_name_ingredients_text_brands_tags_additives__633', 'emb_product_name_ingredients_text_brands_tags_additives__733', 'emb_product_name_ingredients_text_brands_tags_additives__267', 'emb_product_name_ingredients_text_brands_tags_additives__344', 'emb_product_name_ingredients_text_brands_tags_additives__423', 'emb_product_name_ingredients_text_brands_tags_additives__566', 'emb_product_name_ingredients_text_brands_tags_additives__364', 'emb_product_name_ingredients_text_brands_tags_additives__598', 'emb_product_name_ingredients_text_brands_tags_additives__382', 'emb_product_name_ingredients_text_brands_tags_additives__709', 'emb_product_name_ingredients_text_brands_tags_additives__286', 'emb_product_name_ingredients_text_brands_tags_additives__607', 'emb_product_name_ingredients_text_brands_tags_additives__258', 'emb_product_name_ingredients_text_brands_tags_additives__409', 'emb_product_name_ingredients_text_brands_tags_additives__217', 'emb_product_name_ingredients_text_brands_tags_additives__288', 'emb_product_name_ingredients_text_brands_tags_additives__411', 'emb_product_name_ingredients_text_brands_tags_additives__455', 'emb_product_name_ingredients_text_brands_tags_additives__85', 'emb_product_name_ingredients_text_brands_tags_additives__254', 'emb_product_name_ingredients_text_brands_tags_additives__124', 'emb_product_name_ingredients_text_brands_tags_additives__380', 'emb_product_name_ingredients_text_brands_tags_additives__669', 'emb_product_name_ingredients_text_brands_tags_additives__694', 'emb_product_name_ingredients_text_brands_tags_additives__38', 'emb_product_name_ingredients_text_brands_tags_additives__755', 'emb_product_name_ingredients_text_brands_tags_additives__251', 'emb_product_name_ingredients_text_brands_tags_additives__20', 'emb_product_name_ingredients_text_brands_tags_additives__336', 'emb_product_name_ingredients_text_brands_tags_additives__60', 'emb_product_name_ingredients_text_brands_tags_additives__142', 'emb_product_name_ingredients_text_brands_tags_additives__671', 'emb_product_name_ingredients_text_brands_tags_additives__14', 'emb_product_name_ingredients_text_brands_tags_additives__688', 'emb_product_name_ingredients_text_brands_tags_additives__159', 'emb_product_name_ingredients_text_brands_tags_additives__178', 'emb_product_name_ingredients_text_brands_tags_additives__440', 'emb_product_name_ingredients_text_brands_tags_additives__746', 'emb_product_name_ingredients_text_brands_tags_additives__749', 'emb_product_name_ingredients_text_brands_tags_additives__679', 'emb_product_name_ingredients_text_brands_tags_additives__283', 'emb_product_name_ingredients_text_brands_tags_additives__155', 'emb_product_name_ingredients_text_brands_tags_additives__681', 'emb_product_name_ingredients_text_brands_tags_additives__255', 'emb_product_name_ingredients_text_brands_tags_additives__430', 'emb_product_name_ingredients_text_brands_tags_additives__695', 'emb_product_name_ingredients_text_brands_tags_additives__583', 'emb_product_name_ingredients_text_brands_tags_additives__754', 'emb_product_name_ingredients_text_brands_tags_additives__16', 'emb_product_name_ingredients_text_brands_tags_additives__326', 'emb_product_name_ingredients_text_brands_tags_additives__734', 'emb_product_name_ingredients_text_brands_tags_additives__497', 'emb_product_name_ingredients_text_brands_tags_additives__43', 'emb_product_name_ingredients_text_brands_tags_additives__432', 'emb_product_name_ingredients_text_brands_tags_additives__260', 'emb_product_name_ingredients_text_brands_tags_additives__281', 'emb_product_name_ingredients_text_brands_tags_additives__59', 'emb_product_name_ingredients_text_brands_tags_additives__445', 'emb_product_name_ingredients_text_brands_tags_additives__467', 'emb_product_name_ingredients_text_brands_tags_additives__132', 'emb_product_name_ingredients_text_brands_tags_additives__551', 'emb_product_name_ingredients_text_brands_tags_additives__590', 'emb_product_name_ingredients_text_brands_tags_additives__23', 'emb_product_name_ingredients_text_brands_tags_additives__249', 'emb_product_name_ingredients_text_brands_tags_additives__357', 'emb_product_name_ingredients_text_brands_tags_additives__392', 'emb_product_name_ingredients_text_brands_tags_additives__387', 'emb_product_name_ingredients_text_brands_tags_additives__506', 'emb_product_name_ingredients_text_brands_tags_additives__216', 'emb_product_name_ingredients_text_brands_tags_additives__48', 'emb_product_name_ingredients_text_brands_tags_additives__24', 'emb_product_name_ingredients_text_brands_tags_additives__82', 'emb_product_name_ingredients_text_brands_tags_additives__138', 'emb_product_name_ingredients_text_brands_tags_additives__337', 'emb_product_name_ingredients_text_brands_tags_additives__427', 'emb_product_name_ingredients_text_brands_tags_additives__567', 'emb_product_name_ingredients_text_brands_tags_additives__111', 'emb_product_name_ingredients_text_brands_tags_additives__408', 'emb_product_name_ingredients_text_brands_tags_additives__700', 'emb_product_name_ingredients_text_brands_tags_additives__279', 'emb_product_name_ingredients_text_brands_tags_additives__4', 'emb_product_name_ingredients_text_brands_tags_additives__493', 'emb_product_name_ingredients_text_brands_tags_additives__91', 'emb_product_name_ingredients_text_brands_tags_additives__310', 'emb_product_name_ingredients_text_brands_tags_additives__737', 'emb_product_name_ingredients_text_brands_tags_additives__221', 'emb_product_name_ingredients_text_brands_tags_additives__161', 'emb_product_name_ingredients_text_brands_tags_additives__454', 'emb_product_name_ingredients_text_brands_tags_additives__494', 'emb_product_name_ingredients_text_brands_tags_additives__220', 'emb_product_name_ingredients_text_brands_tags_additives__641', 'emb_product_name_ingredients_text_brands_tags_additives__504', 'emb_product_name_ingredients_text_brands_tags_additives__5', 'emb_product_name_ingredients_text_brands_tags_additives__239', 'emb_product_name_ingredients_text_brands_tags_additives__490', 'emb_product_name_ingredients_text_brands_tags_additives__720', 'emb_product_name_ingredients_text_brands_tags_additives__697', 'emb_product_name_ingredients_text_brands_tags_additives__563', 'emb_product_name_ingredients_text_brands_tags_additives__188', 'emb_product_name_ingredients_text_brands_tags_additives__272', 'emb_product_name_ingredients_text_brands_tags_additives__604', 'emb_product_name_ingredients_text_brands_tags_additives__74', 'emb_product_name_ingredients_text_brands_tags_additives__393', 'emb_product_name_ingredients_text_brands_tags_additives__549', 'emb_product_name_ingredients_text_brands_tags_additives__718', 'emb_product_name_ingredients_text_brands_tags_additives__464', 'emb_product_name_ingredients_text_brands_tags_additives__476', 'emb_product_name_ingredients_text_brands_tags_additives__702', 'emb_product_name_ingredients_text_brands_tags_additives__554', 'emb_product_name_ingredients_text_brands_tags_additives__44', 'emb_product_name_ingredients_text_brands_tags_additives__611', 'emb_product_name_ingredients_text_brands_tags_additives__302', 'emb_product_name_ingredients_text_brands_tags_additives__673', 'emb_product_name_ingredients_text_brands_tags_additives__416', 'emb_product_name_ingredients_text_brands_tags_additives__487', 'emb_product_name_ingredients_text_brands_tags_additives__230', 'emb_product_name_ingredients_text_brands_tags_additives__507', 'emb_product_name_ingredients_text_brands_tags_additives__452', 'emb_product_name_ingredients_text_brands_tags_additives__623', 'emb_product_name_ingredients_text_brands_tags_additives__686', 'emb_product_name_ingredients_text_brands_tags_additives__564', 'emb_product_name_ingredients_text_brands_tags_additives__545', 'emb_product_name_ingredients_text_brands_tags_additives__353', 'emb_product_name_ingredients_text_brands_tags_additives__721', 'emb_product_name_ingredients_text_brands_tags_additives__70', 'emb_product_name_ingredients_text_brands_tags_additives__77', 'emb_product_name_ingredients_text_brands_tags_additives__131', 'emb_product_name_ingredients_text_brands_tags_additives__508', 'emb_product_name_ingredients_text_brands_tags_additives__729', 'emb_product_name_ingredients_text_brands_tags_additives__174', 'emb_product_name_ingredients_text_brands_tags_additives__308', 'emb_product_name_ingredients_text_brands_tags_additives__265', 'emb_product_name_ingredients_text_brands_tags_additives__75', 'emb_product_name_ingredients_text_brands_tags_additives__195', 'emb_product_name_ingredients_text_brands_tags_additives__152', 'emb_product_name_ingredients_text_brands_tags_additives__524', 'emb_product_name_ingredients_text_brands_tags_additives__63', 'label_states_en_brands', 'label_states_en_categories', 'label_states_en_characteristics', 'label_states_en_expiration date', 'label_states_en_general_complete', 'label_states_en_ingredients', 'label_pnns_groups_1', 'label_pnns_groups_2', 'label_states_en_packaging', 'label_states_en_packaging-code-', 'label_states_en_photo_upload', 'label_states_en_photo_validate', 'label_states_en_product name', 'label_states_en_quantity']\n",
      "Cat index: [772, 773, 774, 775, 776, 777, 778, 779, 780, 781, 782, 783, 784, 785]\n",
      "---------- Training fold Nº 2 ----------\n",
      "[LightGBM] [Warning] Find whitespaces in feature_names, replace with underlines\n",
      "[LightGBM] [Info] Total Bins 196221\n",
      "[LightGBM] [Info] Number of data points in the train set: 81622, number of used features: 786\n"
     ]
    },
    {
     "name": "stderr",
     "output_type": "stream",
     "text": [
      "/usr/local/lib/python3.6/dist-packages/lightgbm/basic.py:1433: UserWarning: Overriding the parameters from Reference Dataset.\n",
      "  _log_warning('Overriding the parameters from Reference Dataset.')\n",
      "/usr/local/lib/python3.6/dist-packages/lightgbm/basic.py:1245: UserWarning: categorical_column in param dict is overridden.\n",
      "  _log_warning('{} in param dict is overridden.'.format(cat_alias))\n"
     ]
    },
    {
     "name": "stdout",
     "output_type": "stream",
     "text": [
      "[LightGBM] [Warning] Find whitespaces in feature_names, replace with underlines\n",
      "[LightGBM] [Info] Start training from score 9.169930\n",
      "Training until validation scores don't improve for 200 rounds\n",
      "[50]\ttraining's rmse: 6.62929\tvalid_1's rmse: 6.7207\n",
      "[100]\ttraining's rmse: 5.44793\tvalid_1's rmse: 5.61264\n",
      "[150]\ttraining's rmse: 4.91584\tvalid_1's rmse: 5.10965\n",
      "[200]\ttraining's rmse: 4.68206\tvalid_1's rmse: 4.87825\n",
      "[250]\ttraining's rmse: 4.57937\tvalid_1's rmse: 4.76964\n",
      "[300]\ttraining's rmse: 4.53063\tvalid_1's rmse: 4.71659\n",
      "[350]\ttraining's rmse: 4.50492\tvalid_1's rmse: 4.68899\n",
      "[400]\ttraining's rmse: 4.48906\tvalid_1's rmse: 4.67336\n",
      "[450]\ttraining's rmse: 4.47788\tvalid_1's rmse: 4.66398\n",
      "[500]\ttraining's rmse: 4.46884\tvalid_1's rmse: 4.65686\n",
      "[LightGBM] [Warning] No further splits with positive gain, best gain: -inf\n",
      "[LightGBM] [Warning] No further splits with positive gain, best gain: -inf\n",
      "[LightGBM] [Warning] No further splits with positive gain, best gain: -inf\n",
      "[LightGBM] [Warning] No further splits with positive gain, best gain: -inf\n",
      "[LightGBM] [Warning] No further splits with positive gain, best gain: -inf\n",
      "[550]\ttraining's rmse: 4.46174\tvalid_1's rmse: 4.65207\n",
      "[LightGBM] [Warning] No further splits with positive gain, best gain: -inf\n",
      "[LightGBM] [Warning] No further splits with positive gain, best gain: -inf\n",
      "[LightGBM] [Warning] No further splits with positive gain, best gain: -inf\n",
      "[600]\ttraining's rmse: 4.45465\tvalid_1's rmse: 4.64716\n",
      "[LightGBM] [Warning] No further splits with positive gain, best gain: -inf\n",
      "[LightGBM] [Warning] No further splits with positive gain, best gain: -inf\n",
      "[LightGBM] [Warning] No further splits with positive gain, best gain: -inf\n",
      "[LightGBM] [Warning] No further splits with positive gain, best gain: -inf\n",
      "[LightGBM] [Warning] No further splits with positive gain, best gain: -inf\n",
      "[LightGBM] [Warning] No further splits with positive gain, best gain: -inf\n",
      "[LightGBM] [Warning] No further splits with positive gain, best gain: -inf\n",
      "[LightGBM] [Warning] No further splits with positive gain, best gain: -inf\n",
      "[650]\ttraining's rmse: 4.44856\tvalid_1's rmse: 4.64393\n",
      "[LightGBM] [Warning] No further splits with positive gain, best gain: -inf\n",
      "[LightGBM] [Warning] No further splits with positive gain, best gain: -inf\n",
      "[LightGBM] [Warning] No further splits with positive gain, best gain: -inf\n",
      "[LightGBM] [Warning] No further splits with positive gain, best gain: -inf\n",
      "[LightGBM] [Warning] No further splits with positive gain, best gain: -inf\n",
      "[LightGBM] [Warning] No further splits with positive gain, best gain: -inf\n",
      "[LightGBM] [Warning] No further splits with positive gain, best gain: -inf\n",
      "[LightGBM] [Warning] No further splits with positive gain, best gain: -inf\n",
      "[LightGBM] [Warning] No further splits with positive gain, best gain: -inf\n",
      "[700]\ttraining's rmse: 4.44264\tvalid_1's rmse: 4.64054\n",
      "[LightGBM] [Warning] No further splits with positive gain, best gain: -inf\n",
      "[LightGBM] [Warning] No further splits with positive gain, best gain: -inf\n",
      "[LightGBM] [Warning] No further splits with positive gain, best gain: -inf\n",
      "[LightGBM] [Warning] No further splits with positive gain, best gain: -inf\n",
      "[LightGBM] [Warning] No further splits with positive gain, best gain: -inf\n",
      "[LightGBM] [Warning] No further splits with positive gain, best gain: -inf\n",
      "[LightGBM] [Warning] No further splits with positive gain, best gain: -inf\n",
      "[LightGBM] [Warning] No further splits with positive gain, best gain: -inf\n",
      "[LightGBM] [Warning] No further splits with positive gain, best gain: -inf\n",
      "[LightGBM] [Warning] No further splits with positive gain, best gain: -inf\n",
      "[LightGBM] [Warning] No further splits with positive gain, best gain: -inf\n",
      "[750]\ttraining's rmse: 4.43737\tvalid_1's rmse: 4.63934\n",
      "[LightGBM] [Warning] No further splits with positive gain, best gain: -inf\n",
      "[LightGBM] [Warning] No further splits with positive gain, best gain: -inf\n",
      "[LightGBM] [Warning] No further splits with positive gain, best gain: -inf\n",
      "[LightGBM] [Warning] No further splits with positive gain, best gain: -inf\n",
      "[LightGBM] [Warning] No further splits with positive gain, best gain: -inf\n",
      "[LightGBM] [Warning] No further splits with positive gain, best gain: -inf\n",
      "[LightGBM] [Warning] No further splits with positive gain, best gain: -inf\n",
      "[LightGBM] [Warning] No further splits with positive gain, best gain: -inf\n",
      "[LightGBM] [Warning] No further splits with positive gain, best gain: -inf\n",
      "[LightGBM] [Warning] No further splits with positive gain, best gain: -inf\n",
      "[LightGBM] [Warning] No further splits with positive gain, best gain: -inf\n",
      "[LightGBM] [Warning] No further splits with positive gain, best gain: -inf\n",
      "[LightGBM] [Warning] No further splits with positive gain, best gain: -inf\n",
      "[LightGBM] [Warning] No further splits with positive gain, best gain: -inf\n",
      "[LightGBM] [Warning] No further splits with positive gain, best gain: -inf\n",
      "[800]\ttraining's rmse: 4.4321\tvalid_1's rmse: 4.63806\n",
      "[LightGBM] [Warning] No further splits with positive gain, best gain: -inf\n",
      "[LightGBM] [Warning] No further splits with positive gain, best gain: -inf\n",
      "[LightGBM] [Warning] No further splits with positive gain, best gain: -inf\n",
      "[LightGBM] [Warning] No further splits with positive gain, best gain: -inf\n",
      "[LightGBM] [Warning] No further splits with positive gain, best gain: -inf\n",
      "[LightGBM] [Warning] No further splits with positive gain, best gain: -inf\n",
      "[LightGBM] [Warning] No further splits with positive gain, best gain: -inf\n",
      "[LightGBM] [Warning] No further splits with positive gain, best gain: -inf\n",
      "[LightGBM] [Warning] No further splits with positive gain, best gain: -inf\n",
      "[LightGBM] [Warning] No further splits with positive gain, best gain: -inf\n",
      "[LightGBM] [Warning] No further splits with positive gain, best gain: -inf\n",
      "[LightGBM] [Warning] No further splits with positive gain, best gain: -inf\n",
      "[LightGBM] [Warning] No further splits with positive gain, best gain: -inf\n",
      "[LightGBM] [Warning] No further splits with positive gain, best gain: -inf\n",
      "[LightGBM] [Warning] No further splits with positive gain, best gain: -inf\n",
      "[LightGBM] [Warning] No further splits with positive gain, best gain: -inf\n",
      "[LightGBM] [Warning] No further splits with positive gain, best gain: -inf\n",
      "[LightGBM] [Warning] No further splits with positive gain, best gain: -inf\n",
      "[850]\ttraining's rmse: 4.42714\tvalid_1's rmse: 4.63636\n",
      "[LightGBM] [Warning] No further splits with positive gain, best gain: -inf\n",
      "[LightGBM] [Warning] No further splits with positive gain, best gain: -inf\n",
      "[LightGBM] [Warning] No further splits with positive gain, best gain: -inf\n",
      "[LightGBM] [Warning] No further splits with positive gain, best gain: -inf\n",
      "[LightGBM] [Warning] No further splits with positive gain, best gain: -inf\n",
      "[LightGBM] [Warning] No further splits with positive gain, best gain: -inf\n",
      "[LightGBM] [Warning] No further splits with positive gain, best gain: -inf\n",
      "[LightGBM] [Warning] No further splits with positive gain, best gain: -inf\n",
      "[LightGBM] [Warning] No further splits with positive gain, best gain: -inf\n",
      "[LightGBM] [Warning] No further splits with positive gain, best gain: -inf\n",
      "[LightGBM] [Warning] No further splits with positive gain, best gain: -inf\n",
      "[LightGBM] [Warning] No further splits with positive gain, best gain: -inf\n",
      "[LightGBM] [Warning] No further splits with positive gain, best gain: -inf\n",
      "[LightGBM] [Warning] No further splits with positive gain, best gain: -inf\n",
      "[LightGBM] [Warning] No further splits with positive gain, best gain: -inf\n",
      "[900]\ttraining's rmse: 4.42236\tvalid_1's rmse: 4.63513\n",
      "[LightGBM] [Warning] No further splits with positive gain, best gain: -inf\n",
      "[LightGBM] [Warning] No further splits with positive gain, best gain: -inf\n",
      "[LightGBM] [Warning] No further splits with positive gain, best gain: -inf\n",
      "[LightGBM] [Warning] No further splits with positive gain, best gain: -inf\n",
      "[LightGBM] [Warning] No further splits with positive gain, best gain: -inf\n",
      "[LightGBM] [Warning] No further splits with positive gain, best gain: -inf\n",
      "[LightGBM] [Warning] No further splits with positive gain, best gain: -inf\n",
      "[LightGBM] [Warning] No further splits with positive gain, best gain: -inf\n",
      "[LightGBM] [Warning] No further splits with positive gain, best gain: -inf\n",
      "[LightGBM] [Warning] No further splits with positive gain, best gain: -inf\n",
      "[LightGBM] [Warning] No further splits with positive gain, best gain: -inf\n",
      "[LightGBM] [Warning] No further splits with positive gain, best gain: -inf\n",
      "[950]\ttraining's rmse: 4.41774\tvalid_1's rmse: 4.63369\n",
      "[LightGBM] [Warning] No further splits with positive gain, best gain: -inf\n",
      "[LightGBM] [Warning] No further splits with positive gain, best gain: -inf\n",
      "[LightGBM] [Warning] No further splits with positive gain, best gain: -inf\n",
      "[LightGBM] [Warning] No further splits with positive gain, best gain: -inf\n",
      "[LightGBM] [Warning] No further splits with positive gain, best gain: -inf\n",
      "[LightGBM] [Warning] No further splits with positive gain, best gain: -inf\n",
      "[LightGBM] [Warning] No further splits with positive gain, best gain: -inf\n",
      "[LightGBM] [Warning] No further splits with positive gain, best gain: -inf\n",
      "[LightGBM] [Warning] No further splits with positive gain, best gain: -inf\n",
      "[LightGBM] [Warning] No further splits with positive gain, best gain: -inf\n",
      "[1000]\ttraining's rmse: 4.41285\tvalid_1's rmse: 4.63321\n",
      "[LightGBM] [Warning] No further splits with positive gain, best gain: -inf\n",
      "[LightGBM] [Warning] No further splits with positive gain, best gain: -inf\n",
      "[LightGBM] [Warning] No further splits with positive gain, best gain: -inf\n",
      "[LightGBM] [Warning] No further splits with positive gain, best gain: -inf\n",
      "[LightGBM] [Warning] No further splits with positive gain, best gain: -inf\n",
      "[LightGBM] [Warning] No further splits with positive gain, best gain: -inf\n",
      "[LightGBM] [Warning] No further splits with positive gain, best gain: -inf\n",
      "[LightGBM] [Warning] No further splits with positive gain, best gain: -inf\n",
      "[LightGBM] [Warning] No further splits with positive gain, best gain: -inf\n",
      "[LightGBM] [Warning] No further splits with positive gain, best gain: -inf\n",
      "[1050]\ttraining's rmse: 4.40831\tvalid_1's rmse: 4.63296\n",
      "[LightGBM] [Warning] No further splits with positive gain, best gain: -inf\n",
      "[LightGBM] [Warning] No further splits with positive gain, best gain: -inf\n",
      "[LightGBM] [Warning] No further splits with positive gain, best gain: -inf\n",
      "[LightGBM] [Warning] No further splits with positive gain, best gain: -inf\n",
      "[LightGBM] [Warning] No further splits with positive gain, best gain: -inf\n",
      "[LightGBM] [Warning] No further splits with positive gain, best gain: -inf\n",
      "[LightGBM] [Warning] No further splits with positive gain, best gain: -inf\n",
      "[LightGBM] [Warning] No further splits with positive gain, best gain: -inf\n",
      "[LightGBM] [Warning] No further splits with positive gain, best gain: -inf\n",
      "[LightGBM] [Warning] No further splits with positive gain, best gain: -inf\n",
      "[LightGBM] [Warning] No further splits with positive gain, best gain: -inf\n",
      "[LightGBM] [Warning] No further splits with positive gain, best gain: -inf\n",
      "[LightGBM] [Warning] No further splits with positive gain, best gain: -inf\n",
      "[LightGBM] [Warning] No further splits with positive gain, best gain: -inf\n",
      "[LightGBM] [Warning] No further splits with positive gain, best gain: -inf\n",
      "[LightGBM] [Warning] No further splits with positive gain, best gain: -inf\n",
      "[1100]\ttraining's rmse: 4.40389\tvalid_1's rmse: 4.63261\n",
      "[LightGBM] [Warning] No further splits with positive gain, best gain: -inf\n",
      "[LightGBM] [Warning] No further splits with positive gain, best gain: -inf\n",
      "[LightGBM] [Warning] No further splits with positive gain, best gain: -inf\n",
      "[LightGBM] [Warning] No further splits with positive gain, best gain: -inf\n",
      "[LightGBM] [Warning] No further splits with positive gain, best gain: -inf\n",
      "[LightGBM] [Warning] No further splits with positive gain, best gain: -inf\n",
      "[LightGBM] [Warning] No further splits with positive gain, best gain: -inf\n",
      "[LightGBM] [Warning] No further splits with positive gain, best gain: -inf\n",
      "[LightGBM] [Warning] No further splits with positive gain, best gain: -inf\n",
      "[LightGBM] [Warning] No further splits with positive gain, best gain: -inf\n",
      "[LightGBM] [Warning] No further splits with positive gain, best gain: -inf\n",
      "[LightGBM] [Warning] No further splits with positive gain, best gain: -inf\n",
      "[LightGBM] [Warning] No further splits with positive gain, best gain: -inf\n",
      "[LightGBM] [Warning] No further splits with positive gain, best gain: -inf\n",
      "[1150]\ttraining's rmse: 4.3995\tvalid_1's rmse: 4.63254\n",
      "[LightGBM] [Warning] No further splits with positive gain, best gain: -inf\n",
      "[LightGBM] [Warning] No further splits with positive gain, best gain: -inf\n",
      "[LightGBM] [Warning] No further splits with positive gain, best gain: -inf\n",
      "[LightGBM] [Warning] No further splits with positive gain, best gain: -inf\n",
      "[LightGBM] [Warning] No further splits with positive gain, best gain: -inf\n",
      "[LightGBM] [Warning] No further splits with positive gain, best gain: -inf\n",
      "[LightGBM] [Warning] No further splits with positive gain, best gain: -inf\n",
      "[LightGBM] [Warning] No further splits with positive gain, best gain: -inf\n",
      "[LightGBM] [Warning] No further splits with positive gain, best gain: -inf\n",
      "[LightGBM] [Warning] No further splits with positive gain, best gain: -inf\n",
      "[LightGBM] [Warning] No further splits with positive gain, best gain: -inf\n",
      "[LightGBM] [Warning] No further splits with positive gain, best gain: -inf\n",
      "[LightGBM] [Warning] No further splits with positive gain, best gain: -inf\n",
      "[1200]\ttraining's rmse: 4.39527\tvalid_1's rmse: 4.63072\n",
      "[LightGBM] [Warning] No further splits with positive gain, best gain: -inf\n",
      "[LightGBM] [Warning] No further splits with positive gain, best gain: -inf\n",
      "[LightGBM] [Warning] No further splits with positive gain, best gain: -inf\n",
      "[LightGBM] [Warning] No further splits with positive gain, best gain: -inf\n",
      "[LightGBM] [Warning] No further splits with positive gain, best gain: -inf\n",
      "[LightGBM] [Warning] No further splits with positive gain, best gain: -inf\n",
      "[LightGBM] [Warning] No further splits with positive gain, best gain: -inf\n",
      "[LightGBM] [Warning] No further splits with positive gain, best gain: -inf\n",
      "[LightGBM] [Warning] No further splits with positive gain, best gain: -inf\n",
      "[LightGBM] [Warning] No further splits with positive gain, best gain: -inf\n",
      "[1250]\ttraining's rmse: 4.39092\tvalid_1's rmse: 4.63008\n",
      "[LightGBM] [Warning] No further splits with positive gain, best gain: -inf\n",
      "[LightGBM] [Warning] No further splits with positive gain, best gain: -inf\n",
      "[LightGBM] [Warning] No further splits with positive gain, best gain: -inf\n",
      "[LightGBM] [Warning] No further splits with positive gain, best gain: -inf\n",
      "[LightGBM] [Warning] No further splits with positive gain, best gain: -inf\n",
      "[LightGBM] [Warning] No further splits with positive gain, best gain: -inf\n",
      "[LightGBM] [Warning] No further splits with positive gain, best gain: -inf\n",
      "[LightGBM] [Warning] No further splits with positive gain, best gain: -inf\n",
      "[LightGBM] [Warning] No further splits with positive gain, best gain: -inf\n",
      "[LightGBM] [Warning] No further splits with positive gain, best gain: -inf\n",
      "[LightGBM] [Warning] No further splits with positive gain, best gain: -inf\n",
      "[LightGBM] [Warning] No further splits with positive gain, best gain: -inf\n",
      "[LightGBM] [Warning] No further splits with positive gain, best gain: -inf\n",
      "[1300]\ttraining's rmse: 4.38662\tvalid_1's rmse: 4.62898\n",
      "[LightGBM] [Warning] No further splits with positive gain, best gain: -inf\n",
      "[LightGBM] [Warning] No further splits with positive gain, best gain: -inf\n",
      "[LightGBM] [Warning] No further splits with positive gain, best gain: -inf\n",
      "[LightGBM] [Warning] No further splits with positive gain, best gain: -inf\n",
      "[LightGBM] [Warning] No further splits with positive gain, best gain: -inf\n",
      "[LightGBM] [Warning] No further splits with positive gain, best gain: -inf\n",
      "[LightGBM] [Warning] No further splits with positive gain, best gain: -inf\n",
      "[LightGBM] [Warning] No further splits with positive gain, best gain: -inf\n",
      "[LightGBM] [Warning] No further splits with positive gain, best gain: -inf\n",
      "[1350]\ttraining's rmse: 4.38222\tvalid_1's rmse: 4.62904\n",
      "[LightGBM] [Warning] No further splits with positive gain, best gain: -inf\n",
      "[LightGBM] [Warning] No further splits with positive gain, best gain: -inf\n",
      "[LightGBM] [Warning] No further splits with positive gain, best gain: -inf\n",
      "[LightGBM] [Warning] No further splits with positive gain, best gain: -inf\n",
      "[LightGBM] [Warning] No further splits with positive gain, best gain: -inf\n",
      "[LightGBM] [Warning] No further splits with positive gain, best gain: -inf\n",
      "[LightGBM] [Warning] No further splits with positive gain, best gain: -inf\n",
      "[LightGBM] [Warning] No further splits with positive gain, best gain: -inf\n",
      "[LightGBM] [Warning] No further splits with positive gain, best gain: -inf\n",
      "[LightGBM] [Warning] No further splits with positive gain, best gain: -inf\n",
      "[1400]\ttraining's rmse: 4.37812\tvalid_1's rmse: 4.62962\n",
      "[LightGBM] [Warning] No further splits with positive gain, best gain: -inf\n",
      "[LightGBM] [Warning] No further splits with positive gain, best gain: -inf\n",
      "[LightGBM] [Warning] No further splits with positive gain, best gain: -inf\n",
      "[LightGBM] [Warning] No further splits with positive gain, best gain: -inf\n",
      "[LightGBM] [Warning] No further splits with positive gain, best gain: -inf\n",
      "[LightGBM] [Warning] No further splits with positive gain, best gain: -inf\n",
      "[LightGBM] [Warning] No further splits with positive gain, best gain: -inf\n",
      "[LightGBM] [Warning] No further splits with positive gain, best gain: -inf\n",
      "[LightGBM] [Warning] No further splits with positive gain, best gain: -inf\n",
      "[LightGBM] [Warning] No further splits with positive gain, best gain: -inf\n",
      "[LightGBM] [Warning] No further splits with positive gain, best gain: -inf\n",
      "[LightGBM] [Warning] No further splits with positive gain, best gain: -inf\n",
      "[LightGBM] [Warning] No further splits with positive gain, best gain: -inf\n",
      "[1450]\ttraining's rmse: 4.37411\tvalid_1's rmse: 4.62994\n",
      "[LightGBM] [Warning] No further splits with positive gain, best gain: -inf\n",
      "[LightGBM] [Warning] No further splits with positive gain, best gain: -inf\n",
      "[LightGBM] [Warning] No further splits with positive gain, best gain: -inf\n",
      "[LightGBM] [Warning] No further splits with positive gain, best gain: -inf\n",
      "[LightGBM] [Warning] No further splits with positive gain, best gain: -inf\n",
      "[LightGBM] [Warning] No further splits with positive gain, best gain: -inf\n",
      "[LightGBM] [Warning] No further splits with positive gain, best gain: -inf\n",
      "[LightGBM] [Warning] No further splits with positive gain, best gain: -inf\n",
      "[LightGBM] [Warning] No further splits with positive gain, best gain: -inf\n",
      "[LightGBM] [Warning] No further splits with positive gain, best gain: -inf\n",
      "[LightGBM] [Warning] No further splits with positive gain, best gain: -inf\n",
      "[LightGBM] [Warning] No further splits with positive gain, best gain: -inf\n",
      "[1500]\ttraining's rmse: 4.37015\tvalid_1's rmse: 4.62981\n",
      "[LightGBM] [Warning] No further splits with positive gain, best gain: -inf\n",
      "[LightGBM] [Warning] No further splits with positive gain, best gain: -inf\n",
      "[LightGBM] [Warning] No further splits with positive gain, best gain: -inf\n",
      "[LightGBM] [Warning] No further splits with positive gain, best gain: -inf\n",
      "[LightGBM] [Warning] No further splits with positive gain, best gain: -inf\n",
      "Early stopping, best iteration is:\n",
      "[1318]\ttraining's rmse: 4.38505\tvalid_1's rmse: 4.62868\n",
      "Train RMSE: 4.385048234045594        Valida RMSE: 4.628684730451513\n",
      "Columns: ['emb_product_name_ingredients_text_brands_tags_additives__539', 'emb_product_name_ingredients_text_brands_tags_additives__385', 'ingredients_from_palm_oil_n', 'emb_product_name_ingredients_text_brands_tags_additives__165', 'emb_product_name_ingredients_text_brands_tags_additives__572', 'emb_product_name_ingredients_text_brands_tags_additives__589', 'emb_product_name_ingredients_text_brands_tags_additives__211', 'emb_product_name_ingredients_text_brands_tags_additives__601', 'emb_product_name_ingredients_text_brands_tags_additives__300', 'emb_product_name_ingredients_text_brands_tags_additives__237', 'emb_product_name_ingredients_text_brands_tags_additives__22', 'emb_product_name_ingredients_text_brands_tags_additives__73', 'emb_product_name_ingredients_text_brands_tags_additives__167', 'emb_product_name_ingredients_text_brands_tags_additives__203', 'emb_product_name_ingredients_text_brands_tags_additives__574', 'emb_product_name_ingredients_text_brands_tags_additives__112', 'emb_product_name_ingredients_text_brands_tags_additives__462', 'emb_product_name_ingredients_text_brands_tags_additives__36', 'emb_product_name_ingredients_text_brands_tags_additives__64', 'emb_product_name_ingredients_text_brands_tags_additives__185', 'emb_product_name_ingredients_text_brands_tags_additives__100', 'emb_product_name_ingredients_text_brands_tags_additives__550', 'emb_product_name_ingredients_text_brands_tags_additives__691', 'emb_product_name_ingredients_text_brands_tags_additives__698', 'emb_product_name_ingredients_text_brands_tags_additives__182', 'emb_product_name_ingredients_text_brands_tags_additives__263', 'emb_product_name_ingredients_text_brands_tags_additives__396', 'emb_product_name_ingredients_text_brands_tags_additives__479', 'emb_product_name_ingredients_text_brands_tags_additives__56', 'emb_product_name_ingredients_text_brands_tags_additives__465', 'diff_t', 'emb_product_name_ingredients_text_brands_tags_additives__666', 'emb_product_name_ingredients_text_brands_tags_additives__710', 'emb_product_name_ingredients_text_brands_tags_additives__717', 'emb_product_name_ingredients_text_brands_tags_additives__153', 'emb_product_name_ingredients_text_brands_tags_additives__321', 'emb_product_name_ingredients_text_brands_tags_additives__606', 'emb_product_name_ingredients_text_brands_tags_additives__627', 'emb_product_name_ingredients_text_brands_tags_additives__428', 'emb_product_name_ingredients_text_brands_tags_additives__622', 'emb_product_name_ingredients_text_brands_tags_additives__49', 'emb_product_name_ingredients_text_brands_tags_additives__656', 'emb_product_name_ingredients_text_brands_tags_additives__366', 'emb_product_name_ingredients_text_brands_tags_additives__678', 'emb_product_name_ingredients_text_brands_tags_additives__685', 'emb_product_name_ingredients_text_brands_tags_additives__739', 'emb_product_name_ingredients_text_brands_tags_additives__224', 'emb_product_name_ingredients_text_brands_tags_additives__208', 'emb_product_name_ingredients_text_brands_tags_additives__339', 'emb_product_name_ingredients_text_brands_tags_additives__148', 'emb_product_name_ingredients_text_brands_tags_additives__259', 'emb_product_name_ingredients_text_brands_tags_additives__680', 'emb_product_name_ingredients_text_brands_tags_additives__0', 'emb_product_name_ingredients_text_brands_tags_additives__605', 'emb_product_name_ingredients_text_brands_tags_additives__553', 'emb_product_name_ingredients_text_brands_tags_additives__354', 'emb_product_name_ingredients_text_brands_tags_additives__297', 'emb_product_name_ingredients_text_brands_tags_additives__422', 'emb_product_name_ingredients_text_brands_tags_additives__410', 'emb_product_name_ingredients_text_brands_tags_additives__106', 'emb_product_name_ingredients_text_brands_tags_additives__317', 'emb_product_name_ingredients_text_brands_tags_additives__145', 'emb_product_name_ingredients_text_brands_tags_additives__137', 'emb_product_name_ingredients_text_brands_tags_additives__319', 'emb_product_name_ingredients_text_brands_tags_additives__552', 'emb_product_name_ingredients_text_brands_tags_additives__451', 'emb_product_name_ingredients_text_brands_tags_additives__580', 'emb_product_name_ingredients_text_brands_tags_additives__533', 'emb_product_name_ingredients_text_brands_tags_additives__483', 'emb_product_name_ingredients_text_brands_tags_additives__594', 'emb_product_name_ingredients_text_brands_tags_additives__419', 'emb_product_name_ingredients_text_brands_tags_additives__459', 'emb_product_name_ingredients_text_brands_tags_additives__762', 'emb_product_name_ingredients_text_brands_tags_additives__276', 'emb_product_name_ingredients_text_brands_tags_additives__513', 'emb_product_name_ingredients_text_brands_tags_additives__561', 'emb_product_name_ingredients_text_brands_tags_additives__323', 'emb_product_name_ingredients_text_brands_tags_additives__439', 'emb_product_name_ingredients_text_brands_tags_additives__12', 'emb_product_name_ingredients_text_brands_tags_additives__450', 'emb_product_name_ingredients_text_brands_tags_additives__426', 'emb_product_name_ingredients_text_brands_tags_additives__683', 'emb_product_name_ingredients_text_brands_tags_additives__347', 'emb_product_name_ingredients_text_brands_tags_additives__501', 'emb_product_name_ingredients_text_brands_tags_additives__151', 'emb_product_name_ingredients_text_brands_tags_additives__190', 'emb_product_name_ingredients_text_brands_tags_additives__169', 'emb_product_name_ingredients_text_brands_tags_additives__247', 'emb_product_name_ingredients_text_brands_tags_additives__147', 'emb_product_name_ingredients_text_brands_tags_additives__528', 'emb_product_name_ingredients_text_brands_tags_additives__72', 'emb_product_name_ingredients_text_brands_tags_additives__371', 'emb_product_name_ingredients_text_brands_tags_additives__324', 'emb_product_name_ingredients_text_brands_tags_additives__99', 'emb_product_name_ingredients_text_brands_tags_additives__405', 'emb_product_name_ingredients_text_brands_tags_additives__569', 'emb_product_name_ingredients_text_brands_tags_additives__496', 'emb_product_name_ingredients_text_brands_tags_additives__7', 'emb_product_name_ingredients_text_brands_tags_additives__636', 'emb_product_name_ingredients_text_brands_tags_additives__625', 'emb_product_name_ingredients_text_brands_tags_additives__252', 'emb_product_name_ingredients_text_brands_tags_additives__287', 'emb_product_name_ingredients_text_brands_tags_additives__510', 'emb_product_name_ingredients_text_brands_tags_additives__189', 'emb_product_name_ingredients_text_brands_tags_additives__32', 'emb_product_name_ingredients_text_brands_tags_additives__226', 'emb_product_name_ingredients_text_brands_tags_additives__431', 'emb_product_name_ingredients_text_brands_tags_additives__245', 'emb_product_name_ingredients_text_brands_tags_additives__766', 'emb_product_name_ingredients_text_brands_tags_additives__500', 'emb_product_name_ingredients_text_brands_tags_additives__193', 'emb_product_name_ingredients_text_brands_tags_additives__318', 'emb_product_name_ingredients_text_brands_tags_additives__522', 'emb_product_name_ingredients_text_brands_tags_additives__88', 'emb_product_name_ingredients_text_brands_tags_additives__581', 'emb_product_name_ingredients_text_brands_tags_additives__650', 'emb_product_name_ingredients_text_brands_tags_additives__668', 'emb_product_name_ingredients_text_brands_tags_additives__699', 'emb_product_name_ingredients_text_brands_tags_additives__30', 'emb_product_name_ingredients_text_brands_tags_additives__602', 'emb_product_name_ingredients_text_brands_tags_additives__744', 'emb_product_name_ingredients_text_brands_tags_additives__71', 'emb_product_name_ingredients_text_brands_tags_additives__47', 'emb_product_name_ingredients_text_brands_tags_additives__35', 'emb_product_name_ingredients_text_brands_tags_additives__663', 'emb_product_name_ingredients_text_brands_tags_additives__54', 'emb_product_name_ingredients_text_brands_tags_additives__156', 'emb_product_name_ingredients_text_brands_tags_additives__359', 'emb_product_name_ingredients_text_brands_tags_additives__449', 'emb_product_name_ingredients_text_brands_tags_additives__471', 'emb_product_name_ingredients_text_brands_tags_additives__615', 'emb_product_name_ingredients_text_brands_tags_additives__214', 'emb_product_name_ingredients_text_brands_tags_additives__352', 'emb_product_name_ingredients_text_brands_tags_additives__523', 'emb_product_name_ingredients_text_brands_tags_additives__674', 'emb_product_name_ingredients_text_brands_tags_additives__696', 'emb_product_name_ingredients_text_brands_tags_additives__441', 'emb_product_name_ingredients_text_brands_tags_additives__725', 'emb_product_name_ingredients_text_brands_tags_additives__68', 'emb_product_name_ingredients_text_brands_tags_additives__658', 'emb_product_name_ingredients_text_brands_tags_additives__28', 'emb_product_name_ingredients_text_brands_tags_additives__406', 'emb_product_name_ingredients_text_brands_tags_additives__107', 'emb_product_name_ingredients_text_brands_tags_additives__542', 'emb_product_name_ingredients_text_brands_tags_additives__579', 'emb_product_name_ingredients_text_brands_tags_additives__647', 'emb_product_name_ingredients_text_brands_tags_additives__6', 'emb_product_name_ingredients_text_brands_tags_additives__140', 'emb_product_name_ingredients_text_brands_tags_additives__219', 'emb_product_name_ingredients_text_brands_tags_additives__597', 'emb_product_name_ingredients_text_brands_tags_additives__264', 'emb_product_name_ingredients_text_brands_tags_additives__466', 'emb_product_name_ingredients_text_brands_tags_additives__643', 'emb_product_name_ingredients_text_brands_tags_additives__512', 'emb_product_name_ingredients_text_brands_tags_additives__108', 'emb_product_name_ingredients_text_brands_tags_additives__401', 'emb_product_name_ingredients_text_brands_tags_additives__144', 'emb_product_name_ingredients_text_brands_tags_additives__149', 'emb_product_name_ingredients_text_brands_tags_additives__429', 'emb_product_name_ingredients_text_brands_tags_additives__763', 'emb_product_name_ingredients_text_brands_tags_additives__529', 'emb_product_name_ingredients_text_brands_tags_additives__690', 'emb_product_name_ingredients_text_brands_tags_additives__399', 'emb_product_name_ingredients_text_brands_tags_additives__418', 'emb_product_name_ingredients_text_brands_tags_additives__475', 'emb_product_name_ingredients_text_brands_tags_additives__765', 'emb_product_name_ingredients_text_brands_tags_additives__199', 'emb_product_name_ingredients_text_brands_tags_additives__162', 'emb_product_name_ingredients_text_brands_tags_additives__18', 'emb_product_name_ingredients_text_brands_tags_additives__175', 'emb_product_name_ingredients_text_brands_tags_additives__176', 'emb_product_name_ingredients_text_brands_tags_additives__531', 'emb_product_name_ingredients_text_brands_tags_additives__644', 'emb_product_name_ingredients_text_brands_tags_additives__360', 'emb_product_name_ingredients_text_brands_tags_additives__358', 'emb_product_name_ingredients_text_brands_tags_additives__560', 'emb_product_name_ingredients_text_brands_tags_additives__350', 'emb_product_name_ingredients_text_brands_tags_additives__738', 'emb_product_name_ingredients_text_brands_tags_additives__69', 'emb_product_name_ingredients_text_brands_tags_additives__547', 'emb_product_name_ingredients_text_brands_tags_additives__711', 'emb_product_name_ingredients_text_brands_tags_additives__304', 'emb_product_name_ingredients_text_brands_tags_additives__420', 'emb_product_name_ingredients_text_brands_tags_additives__356', 'emb_product_name_ingredients_text_brands_tags_additives__631', 'emb_product_name_ingredients_text_brands_tags_additives__17', 'emb_product_name_ingredients_text_brands_tags_additives__126', 'emb_product_name_ingredients_text_brands_tags_additives__351', 'emb_product_name_ingredients_text_brands_tags_additives__105', 'emb_product_name_ingredients_text_brands_tags_additives__31', 'emb_product_name_ingredients_text_brands_tags_additives__716', 'emb_product_name_ingredients_text_brands_tags_additives__66', 'emb_product_name_ingredients_text_brands_tags_additives__413', 'emb_product_name_ingredients_text_brands_tags_additives__330', 'emb_product_name_ingredients_text_brands_tags_additives__532', 'emb_product_name_ingredients_text_brands_tags_additives__612', 'emb_product_name_ingredients_text_brands_tags_additives__270', 'emb_product_name_ingredients_text_brands_tags_additives__570', 'emb_product_name_ingredients_text_brands_tags_additives__89', 'emb_product_name_ingredients_text_brands_tags_additives__412', 'emb_product_name_ingredients_text_brands_tags_additives__390', 'emb_product_name_ingredients_text_brands_tags_additives__596', 'emb_product_name_ingredients_text_brands_tags_additives__434', 'emb_product_name_ingredients_text_brands_tags_additives__231', 'emb_product_name_ingredients_text_brands_tags_additives__320', 'emb_product_name_ingredients_text_brands_tags_additives__515', 'emb_product_name_ingredients_text_brands_tags_additives__42', 'emb_product_name_ingredients_text_brands_tags_additives__499', 'emb_product_name_ingredients_text_brands_tags_additives__329', 'emb_product_name_ingredients_text_brands_tags_additives__379', 'emb_product_name_ingredients_text_brands_tags_additives__184', 'emb_product_name_ingredients_text_brands_tags_additives__453', 'emb_product_name_ingredients_text_brands_tags_additives__435', 'emb_product_name_ingredients_text_brands_tags_additives__661', 'emb_product_name_ingredients_text_brands_tags_additives__715', 'emb_product_name_ingredients_text_brands_tags_additives__638', 'emb_product_name_ingredients_text_brands_tags_additives__134', 'emb_product_name_ingredients_text_brands_tags_additives__135', 'emb_product_name_ingredients_text_brands_tags_additives__693', 'emb_product_name_ingredients_text_brands_tags_additives__139', 'emb_product_name_ingredients_text_brands_tags_additives__33', 'emb_product_name_ingredients_text_brands_tags_additives__222', 'emb_product_name_ingredients_text_brands_tags_additives__117', 'emb_product_name_ingredients_text_brands_tags_additives__179', 'emb_product_name_ingredients_text_brands_tags_additives__619', 'emb_product_name_ingredients_text_brands_tags_additives__37', 'emb_product_name_ingredients_text_brands_tags_additives__526', 'emb_product_name_ingredients_text_brands_tags_additives__708', 'emb_product_name_ingredients_text_brands_tags_additives__535', 'emb_product_name_ingredients_text_brands_tags_additives__595', 'emb_product_name_ingredients_text_brands_tags_additives__388', 'emb_product_name_ingredients_text_brands_tags_additives__629', 'emb_product_name_ingredients_text_brands_tags_additives__559', 'emb_product_name_ingredients_text_brands_tags_additives__235', 'emb_product_name_ingredients_text_brands_tags_additives__168', 'emb_product_name_ingredients_text_brands_tags_additives__556', 'emb_product_name_ingredients_text_brands_tags_additives__120', 'emb_product_name_ingredients_text_brands_tags_additives__250', 'emb_product_name_ingredients_text_brands_tags_additives__586', 'emb_product_name_ingredients_text_brands_tags_additives__92', 'emb_product_name_ingredients_text_brands_tags_additives__274', 'emb_product_name_ingredients_text_brands_tags_additives__150', 'emb_product_name_ingredients_text_brands_tags_additives__333', 'emb_product_name_ingredients_text_brands_tags_additives__19', 'emb_product_name_ingredients_text_brands_tags_additives__345', 'emb_product_name_ingredients_text_brands_tags_additives__365', 'emb_product_name_ingredients_text_brands_tags_additives__372', 'emb_product_name_ingredients_text_brands_tags_additives__121', 'emb_product_name_ingredients_text_brands_tags_additives__495', 'emb_product_name_ingredients_text_brands_tags_additives__447', 'emb_product_name_ingredients_text_brands_tags_additives__621', 'emb_product_name_ingredients_text_brands_tags_additives__197', 'emb_product_name_ingredients_text_brands_tags_additives__194', 'emb_product_name_ingredients_text_brands_tags_additives__79', 'emb_product_name_ingredients_text_brands_tags_additives__649', 'emb_product_name_ingredients_text_brands_tags_additives__514', 'emb_product_name_ingredients_text_brands_tags_additives__505', 'emb_product_name_ingredients_text_brands_tags_additives__610', 'emb_product_name_ingredients_text_brands_tags_additives__701', 'emb_product_name_ingredients_text_brands_tags_additives__415', 'emb_product_name_ingredients_text_brands_tags_additives__280', 'additives_n', 'emb_product_name_ingredients_text_brands_tags_additives__273', 'emb_product_name_ingredients_text_brands_tags_additives__620', 'emb_product_name_ingredients_text_brands_tags_additives__282', 'emb_product_name_ingredients_text_brands_tags_additives__10', 'emb_product_name_ingredients_text_brands_tags_additives__687', 'emb_product_name_ingredients_text_brands_tags_additives__745', 'emb_product_name_ingredients_text_brands_tags_additives__397', 'emb_product_name_ingredients_text_brands_tags_additives__315', 'emb_product_name_ingredients_text_brands_tags_additives__538', 'emb_product_name_ingredients_text_brands_tags_additives__712', 'emb_product_name_ingredients_text_brands_tags_additives__183', 'emb_product_name_ingredients_text_brands_tags_additives__119', 'emb_product_name_ingredients_text_brands_tags_additives__707', 'emb_product_name_ingredients_text_brands_tags_additives__425', 'emb_product_name_ingredients_text_brands_tags_additives__332', 'emb_product_name_ingredients_text_brands_tags_additives__253', 'emb_product_name_ingredients_text_brands_tags_additives__370', 'emb_product_name_ingredients_text_brands_tags_additives__482', 'emb_product_name_ingredients_text_brands_tags_additives__278', 'emb_product_name_ingredients_text_brands_tags_additives__400', 'emb_product_name_ingredients_text_brands_tags_additives__543', 'emb_product_name_ingredients_text_brands_tags_additives__373', 'emb_product_name_ingredients_text_brands_tags_additives__585', 'emb_product_name_ingredients_text_brands_tags_additives__11', 'emb_product_name_ingredients_text_brands_tags_additives__386', 'emb_product_name_ingredients_text_brands_tags_additives__403', 'emb_product_name_ingredients_text_brands_tags_additives__498', 'emb_product_name_ingredients_text_brands_tags_additives__160', 'emb_product_name_ingredients_text_brands_tags_additives__436', 'emb_product_name_ingredients_text_brands_tags_additives__109', 'emb_product_name_ingredients_text_brands_tags_additives__463', 'emb_product_name_ingredients_text_brands_tags_additives__626', 'emb_product_name_ingredients_text_brands_tags_additives__39', 'emb_product_name_ingredients_text_brands_tags_additives__171', 'emb_product_name_ingredients_text_brands_tags_additives__381', 'emb_product_name_ingredients_text_brands_tags_additives__95', 'emb_product_name_ingredients_text_brands_tags_additives__166', 'emb_product_name_ingredients_text_brands_tags_additives__456', 'emb_product_name_ingredients_text_brands_tags_additives__437', 'emb_product_name_ingredients_text_brands_tags_additives__703', 'emb_product_name_ingredients_text_brands_tags_additives__470', 'emb_product_name_ingredients_text_brands_tags_additives__546', 'emb_product_name_ingredients_text_brands_tags_additives__86', 'emb_product_name_ingredients_text_brands_tags_additives__458', 'emb_product_name_ingredients_text_brands_tags_additives__751', 'emb_product_name_ingredients_text_brands_tags_additives__599', 'emb_product_name_ingredients_text_brands_tags_additives__509', 'emb_product_name_ingredients_text_brands_tags_additives__180', 'emb_product_name_ingredients_text_brands_tags_additives__555', 'emb_product_name_ingredients_text_brands_tags_additives__348', 'emb_product_name_ingredients_text_brands_tags_additives__55', 'emb_product_name_ingredients_text_brands_tags_additives__34', 'emb_product_name_ingredients_text_brands_tags_additives__277', 'emb_product_name_ingredients_text_brands_tags_additives__177', 'emb_product_name_ingredients_text_brands_tags_additives__645', 'emb_product_name_ingredients_text_brands_tags_additives__181', 'emb_product_name_ingredients_text_brands_tags_additives__262', 'emb_product_name_ingredients_text_brands_tags_additives__101', 'emb_product_name_ingredients_text_brands_tags_additives__488', 'emb_product_name_ingredients_text_brands_tags_additives__309', 'emb_product_name_ingredients_text_brands_tags_additives__573', 'emb_product_name_ingredients_text_brands_tags_additives__305', 'emb_product_name_ingredients_text_brands_tags_additives__704', 'emb_product_name_ingredients_text_brands_tags_additives__227', 'emb_product_name_ingredients_text_brands_tags_additives__646', 'emb_product_name_ingredients_text_brands_tags_additives__98', 'emb_product_name_ingredients_text_brands_tags_additives__714', 'emb_product_name_ingredients_text_brands_tags_additives__544', 'emb_product_name_ingredients_text_brands_tags_additives__361', 'emb_product_name_ingredients_text_brands_tags_additives__1', 'emb_product_name_ingredients_text_brands_tags_additives__225', 'emb_product_name_ingredients_text_brands_tags_additives__485', 'emb_product_name_ingredients_text_brands_tags_additives__692', 'emb_product_name_ingredients_text_brands_tags_additives__233', 'emb_product_name_ingredients_text_brands_tags_additives__8', 'emb_product_name_ingredients_text_brands_tags_additives__215', 'emb_product_name_ingredients_text_brands_tags_additives__657', 'emb_product_name_ingredients_text_brands_tags_additives__603', 'emb_product_name_ingredients_text_brands_tags_additives__80', 'emb_product_name_ingredients_text_brands_tags_additives__654', 'emb_product_name_ingredients_text_brands_tags_additives__402', 'emb_product_name_ingredients_text_brands_tags_additives__57', 'emb_product_name_ingredients_text_brands_tags_additives__375', 'emb_product_name_ingredients_text_brands_tags_additives__15', 'emb_product_name_ingredients_text_brands_tags_additives__78', 'emb_product_name_ingredients_text_brands_tags_additives__395', 'emb_product_name_ingredients_text_brands_tags_additives__731', 'emb_product_name_ingredients_text_brands_tags_additives__616', 'emb_product_name_ingredients_text_brands_tags_additives__672', 'emb_product_name_ingredients_text_brands_tags_additives__173', 'emb_product_name_ingredients_text_brands_tags_additives__242', 'emb_product_name_ingredients_text_brands_tags_additives__670', 'emb_product_name_ingredients_text_brands_tags_additives__376', 'emb_product_name_ingredients_text_brands_tags_additives__27', 'emb_product_name_ingredients_text_brands_tags_additives__257', 'emb_product_name_ingredients_text_brands_tags_additives__394', 'emb_product_name_ingredients_text_brands_tags_additives__118', 'emb_product_name_ingredients_text_brands_tags_additives__576', 'emb_product_name_ingredients_text_brands_tags_additives__128', 'emb_product_name_ingredients_text_brands_tags_additives__414', 'emb_product_name_ingredients_text_brands_tags_additives__736', 'emb_product_name_ingredients_text_brands_tags_additives__753', 'emb_product_name_ingredients_text_brands_tags_additives__172', 'emb_product_name_ingredients_text_brands_tags_additives__157', 'emb_product_name_ingredients_text_brands_tags_additives__284', 'emb_product_name_ingredients_text_brands_tags_additives__457', 'emb_product_name_ingredients_text_brands_tags_additives__675', 'emb_product_name_ingredients_text_brands_tags_additives__164', 'emb_product_name_ingredients_text_brands_tags_additives__293', 'emb_product_name_ingredients_text_brands_tags_additives__207', 'emb_product_name_ingredients_text_brands_tags_additives__389', 'emb_product_name_ingredients_text_brands_tags_additives__343', 'emb_product_name_ingredients_text_brands_tags_additives__322', 'emb_product_name_ingredients_text_brands_tags_additives__136', 'emb_product_name_ingredients_text_brands_tags_additives__202', 'emb_product_name_ingredients_text_brands_tags_additives__210', 'emb_product_name_ingredients_text_brands_tags_additives__724', 'emb_product_name_ingredients_text_brands_tags_additives__328', 'emb_product_name_ingredients_text_brands_tags_additives__705', 'emb_product_name_ingredients_text_brands_tags_additives__301', 'emb_product_name_ingredients_text_brands_tags_additives__240', 'emb_product_name_ingredients_text_brands_tags_additives__314', 'emb_product_name_ingredients_text_brands_tags_additives__677', 'emb_product_name_ingredients_text_brands_tags_additives__163', 'emb_product_name_ingredients_text_brands_tags_additives__236', 'emb_product_name_ingredients_text_brands_tags_additives__460', 'emb_product_name_ingredients_text_brands_tags_additives__200', 'emb_product_name_ingredients_text_brands_tags_additives__377', 'emb_product_name_ingredients_text_brands_tags_additives__83', 'emb_product_name_ingredients_text_brands_tags_additives__473', 'emb_product_name_ingredients_text_brands_tags_additives__525', 'emb_product_name_ingredients_text_brands_tags_additives__285', 'emb_product_name_ingredients_text_brands_tags_additives__728', 'emb_product_name_ingredients_text_brands_tags_additives__243', 'emb_product_name_ingredients_text_brands_tags_additives__660', 'emb_product_name_ingredients_text_brands_tags_additives__50', 'emb_product_name_ingredients_text_brands_tags_additives__228', 'emb_product_name_ingredients_text_brands_tags_additives__642', 'emb_product_name_ingredients_text_brands_tags_additives__478', 'emb_product_name_ingredients_text_brands_tags_additives__391', 'emb_product_name_ingredients_text_brands_tags_additives__201', 'emb_product_name_ingredients_text_brands_tags_additives__659', 'emb_product_name_ingredients_text_brands_tags_additives__407', 'emb_product_name_ingredients_text_brands_tags_additives__747', 'emb_product_name_ingredients_text_brands_tags_additives__53', 'emb_product_name_ingredients_text_brands_tags_additives__468', 'emb_product_name_ingredients_text_brands_tags_additives__584', 'emb_product_name_ingredients_text_brands_tags_additives__587', 'emb_product_name_ingredients_text_brands_tags_additives__639', 'emb_product_name_ingredients_text_brands_tags_additives__760', 'emb_product_name_ingredients_text_brands_tags_additives__192', 'emb_product_name_ingredients_text_brands_tags_additives__307', 'emb_product_name_ingredients_text_brands_tags_additives__198', 'emb_product_name_ingredients_text_brands_tags_additives__143', 'emb_product_name_ingredients_text_brands_tags_additives__325', 'emb_product_name_ingredients_text_brands_tags_additives__129', 'emb_product_name_ingredients_text_brands_tags_additives__374', 'emb_product_name_ingredients_text_brands_tags_additives__635', 'emb_product_name_ingredients_text_brands_tags_additives__170', 'emb_product_name_ingredients_text_brands_tags_additives__363', 'emb_product_name_ingredients_text_brands_tags_additives__630', 'emb_product_name_ingredients_text_brands_tags_additives__306', 'emb_product_name_ingredients_text_brands_tags_additives__241', 'emb_product_name_ingredients_text_brands_tags_additives__448', 'emb_product_name_ingredients_text_brands_tags_additives__651', 'emb_product_name_ingredients_text_brands_tags_additives__266', 'emb_product_name_ingredients_text_brands_tags_additives__752', 'emb_product_name_ingredients_text_brands_tags_additives__84', 'emb_product_name_ingredients_text_brands_tags_additives__534', 'emb_product_name_ingredients_text_brands_tags_additives__338', 'emb_product_name_ingredients_text_brands_tags_additives__223', 'emb_product_name_ingredients_text_brands_tags_additives__443', 'emb_product_name_ingredients_text_brands_tags_additives__588', 'emb_product_name_ingredients_text_brands_tags_additives__290', 'emb_product_name_ingredients_text_brands_tags_additives__469', 'emb_product_name_ingredients_text_brands_tags_additives__26', 'emb_product_name_ingredients_text_brands_tags_additives__209', 'emb_product_name_ingredients_text_brands_tags_additives__743', 'emb_product_name_ingredients_text_brands_tags_additives__759', 'emb_product_name_ingredients_text_brands_tags_additives__141', 'emb_product_name_ingredients_text_brands_tags_additives__340', 'emb_product_name_ingredients_text_brands_tags_additives__205', 'emb_product_name_ingredients_text_brands_tags_additives__558', 'emb_product_name_ingredients_text_brands_tags_additives__275', 'emb_product_name_ingredients_text_brands_tags_additives__519', 'emb_product_name_ingredients_text_brands_tags_additives__94', 'emb_product_name_ingredients_text_brands_tags_additives__527', 'emb_product_name_ingredients_text_brands_tags_additives__723', 'emb_product_name_ingredients_text_brands_tags_additives__122', 'emb_product_name_ingredients_text_brands_tags_additives__346', 'emb_product_name_ingredients_text_brands_tags_additives__758', 'emb_product_name_ingredients_text_brands_tags_additives__103', 'emb_product_name_ingredients_text_brands_tags_additives__655', 'emb_product_name_ingredients_text_brands_tags_additives__25', 'emb_product_name_ingredients_text_brands_tags_additives__341', 'emb_product_name_ingredients_text_brands_tags_additives__424', 'emb_product_name_ingredients_text_brands_tags_additives__682', 'emb_product_name_ingredients_text_brands_tags_additives__218', 'emb_product_name_ingredients_text_brands_tags_additives__593', 'emb_product_name_ingredients_text_brands_tags_additives__191', 'emb_product_name_ingredients_text_brands_tags_additives__480', 'ingredients_that_may_be_from_palm_oil_n', 'emb_product_name_ingredients_text_brands_tags_additives__248', 'emb_product_name_ingredients_text_brands_tags_additives__154', 'emb_product_name_ingredients_text_brands_tags_additives__369', 'emb_product_name_ingredients_text_brands_tags_additives__614', 'emb_product_name_ingredients_text_brands_tags_additives__311', 'emb_product_name_ingredients_text_brands_tags_additives__234', 'emb_product_name_ingredients_text_brands_tags_additives__294', 'emb_product_name_ingredients_text_brands_tags_additives__764', 'emb_product_name_ingredients_text_brands_tags_additives__735', 'emb_product_name_ingredients_text_brands_tags_additives__417', 'emb_product_name_ingredients_text_brands_tags_additives__484', 'emb_product_name_ingredients_text_brands_tags_additives__756', 'emb_product_name_ingredients_text_brands_tags_additives__632', 'emb_product_name_ingredients_text_brands_tags_additives__9', 'emb_product_name_ingredients_text_brands_tags_additives__628', 'emb_product_name_ingredients_text_brands_tags_additives__442', 'emb_product_name_ingredients_text_brands_tags_additives__383', 'emb_product_name_ingredients_text_brands_tags_additives__624', 'emb_product_name_ingredients_text_brands_tags_additives__713', 'emb_product_name_ingredients_text_brands_tags_additives__327', 'emb_product_name_ingredients_text_brands_tags_additives__438', 'emb_product_name_ingredients_text_brands_tags_additives__575', 'emb_product_name_ingredients_text_brands_tags_additives__291', 'emb_product_name_ingredients_text_brands_tags_additives__65', 'emb_product_name_ingredients_text_brands_tags_additives__562', 'emb_product_name_ingredients_text_brands_tags_additives__665', 'emb_product_name_ingredients_text_brands_tags_additives__521', 'emb_product_name_ingredients_text_brands_tags_additives__316', 'emb_product_name_ingredients_text_brands_tags_additives__727', 'emb_product_name_ingredients_text_brands_tags_additives__378', 'emb_product_name_ingredients_text_brands_tags_additives__102', 'emb_product_name_ingredients_text_brands_tags_additives__761', 'emb_product_name_ingredients_text_brands_tags_additives__268', 'emb_product_name_ingredients_text_brands_tags_additives__634', 'emb_product_name_ingredients_text_brands_tags_additives__648', 'emb_product_name_ingredients_text_brands_tags_additives__653', 'emb_product_name_ingredients_text_brands_tags_additives__96', 'emb_product_name_ingredients_text_brands_tags_additives__578', 'emb_product_name_ingredients_text_brands_tags_additives__115', 'emb_product_name_ingredients_text_brands_tags_additives__568', 'emb_product_name_ingredients_text_brands_tags_additives__130', 'emb_product_name_ingredients_text_brands_tags_additives__299', 'emb_product_name_ingredients_text_brands_tags_additives__331', 'emb_product_name_ingredients_text_brands_tags_additives__617', 'emb_product_name_ingredients_text_brands_tags_additives__40', 'emb_product_name_ingredients_text_brands_tags_additives__295', 'emb_product_name_ingredients_text_brands_tags_additives__719', 'emb_product_name_ingredients_text_brands_tags_additives__726', 'emb_product_name_ingredients_text_brands_tags_additives__93', 'emb_product_name_ingredients_text_brands_tags_additives__21', 'emb_product_name_ingredients_text_brands_tags_additives__204', 'emb_product_name_ingredients_text_brands_tags_additives__212', 'emb_product_name_ingredients_text_brands_tags_additives__530', 'emb_product_name_ingredients_text_brands_tags_additives__740', 'emb_product_name_ingredients_text_brands_tags_additives__232', 'emb_product_name_ingredients_text_brands_tags_additives__51', 'emb_product_name_ingredients_text_brands_tags_additives__517', 'emb_product_name_ingredients_text_brands_tags_additives__256', 'emb_product_name_ingredients_text_brands_tags_additives__158', 'emb_product_name_ingredients_text_brands_tags_additives__503', 'emb_product_name_ingredients_text_brands_tags_additives__81', 'emb_product_name_ingredients_text_brands_tags_additives__637', 'emb_product_name_ingredients_text_brands_tags_additives__722', 'emb_product_name_ingredients_text_brands_tags_additives__742', 'emb_product_name_ingredients_text_brands_tags_additives__238', 'emb_product_name_ingredients_text_brands_tags_additives__472', 'emb_product_name_ingredients_text_brands_tags_additives__29', 'emb_product_name_ingredients_text_brands_tags_additives__244', 'emb_product_name_ingredients_text_brands_tags_additives__486', 'emb_product_name_ingredients_text_brands_tags_additives__689', 'emb_product_name_ingredients_text_brands_tags_additives__362', 'emb_product_name_ingredients_text_brands_tags_additives__87', 'emb_product_name_ingredients_text_brands_tags_additives__367', 'emb_product_name_ingredients_text_brands_tags_additives__404', 'emb_product_name_ingredients_text_brands_tags_additives__3', 'emb_product_name_ingredients_text_brands_tags_additives__334', 'emb_product_name_ingredients_text_brands_tags_additives__618', 'emb_product_name_ingredients_text_brands_tags_additives__541', 'emb_product_name_ingredients_text_brands_tags_additives__13', 'emb_product_name_ingredients_text_brands_tags_additives__289', 'emb_product_name_ingredients_text_brands_tags_additives__492', 'emb_product_name_ingredients_text_brands_tags_additives__491', 'emb_product_name_ingredients_text_brands_tags_additives__76', 'emb_product_name_ingredients_text_brands_tags_additives__355', 'emb_product_name_ingredients_text_brands_tags_additives__481', 'emb_product_name_ingredients_text_brands_tags_additives__592', 'emb_product_name_ingredients_text_brands_tags_additives__676', 'emb_product_name_ingredients_text_brands_tags_additives__133', 'emb_product_name_ingredients_text_brands_tags_additives__732', 'emb_product_name_ingredients_text_brands_tags_additives__335', 'emb_product_name_ingredients_text_brands_tags_additives__652', 'emb_product_name_ingredients_text_brands_tags_additives__67', 'emb_product_name_ingredients_text_brands_tags_additives__748', 'emb_product_name_ingredients_text_brands_tags_additives__110', 'emb_product_name_ingredients_text_brands_tags_additives__261', 'emb_product_name_ingredients_text_brands_tags_additives__113', 'emb_product_name_ingredients_text_brands_tags_additives__461', 'emb_product_name_ingredients_text_brands_tags_additives__502', 'emb_product_name_ingredients_text_brands_tags_additives__608', 'emb_product_name_ingredients_text_brands_tags_additives__421', 'emb_product_name_ingredients_text_brands_tags_additives__557', 'emb_product_name_ingredients_text_brands_tags_additives__104', 'emb_product_name_ingredients_text_brands_tags_additives__269', 'emb_product_name_ingredients_text_brands_tags_additives__667', 'emb_product_name_ingredients_text_brands_tags_additives__186', 'emb_product_name_ingredients_text_brands_tags_additives__125', 'emb_product_name_ingredients_text_brands_tags_additives__640', 'emb_product_name_ingredients_text_brands_tags_additives__540', 'emb_product_name_ingredients_text_brands_tags_additives__662', 'emb_product_name_ingredients_text_brands_tags_additives__97', 'emb_product_name_ingredients_text_brands_tags_additives__116', 'emb_product_name_ingredients_text_brands_tags_additives__730', 'emb_product_name_ingredients_text_brands_tags_additives__123', 'emb_product_name_ingredients_text_brands_tags_additives__62', 'emb_product_name_ingredients_text_brands_tags_additives__518', 'emb_product_name_ingredients_text_brands_tags_additives__489', 'emb_product_name_ingredients_text_brands_tags_additives__706', 'emb_product_name_ingredients_text_brands_tags_additives__342', 'emb_product_name_ingredients_text_brands_tags_additives__433', 'emb_product_name_ingredients_text_brands_tags_additives__741', 'emb_product_name_ingredients_text_brands_tags_additives__398', 'emb_product_name_ingredients_text_brands_tags_additives__511', 'emb_product_name_ingredients_text_brands_tags_additives__757', 'emb_product_name_ingredients_text_brands_tags_additives__520', 'emb_product_name_ingredients_text_brands_tags_additives__114', 'emb_product_name_ingredients_text_brands_tags_additives__349', 'emb_product_name_ingredients_text_brands_tags_additives__298', 'emb_product_name_ingredients_text_brands_tags_additives__384', 'emb_product_name_ingredients_text_brands_tags_additives__477', 'emb_product_name_ingredients_text_brands_tags_additives__52', 'emb_product_name_ingredients_text_brands_tags_additives__368', 'emb_product_name_ingredients_text_brands_tags_additives__577', 'emb_product_name_ingredients_text_brands_tags_additives__196', 'emb_product_name_ingredients_text_brands_tags_additives__206', 'emb_product_name_ingredients_text_brands_tags_additives__684', 'emb_product_name_ingredients_text_brands_tags_additives__58', 'emb_product_name_ingredients_text_brands_tags_additives__750', 'emb_product_name_ingredients_text_brands_tags_additives__229', 'emb_product_name_ingredients_text_brands_tags_additives__303', 'emb_product_name_ingredients_text_brands_tags_additives__146', 'emb_product_name_ingredients_text_brands_tags_additives__45', 'emb_product_name_ingredients_text_brands_tags_additives__296', 'emb_product_name_ingredients_text_brands_tags_additives__2', 'emb_product_name_ingredients_text_brands_tags_additives__312', 'emb_product_name_ingredients_text_brands_tags_additives__516', 'emb_product_name_ingredients_text_brands_tags_additives__609', 'emb_product_name_ingredients_text_brands_tags_additives__600', 'emb_product_name_ingredients_text_brands_tags_additives__591', 'emb_product_name_ingredients_text_brands_tags_additives__41', 'emb_product_name_ingredients_text_brands_tags_additives__313', 'emb_product_name_ingredients_text_brands_tags_additives__613', 'emb_product_name_ingredients_text_brands_tags_additives__548', 'emb_product_name_ingredients_text_brands_tags_additives__61', 'emb_product_name_ingredients_text_brands_tags_additives__767', 'emb_product_name_ingredients_text_brands_tags_additives__565', 'emb_product_name_ingredients_text_brands_tags_additives__127', 'emb_product_name_ingredients_text_brands_tags_additives__90', 'emb_product_name_ingredients_text_brands_tags_additives__474', 'emb_product_name_ingredients_text_brands_tags_additives__271', 'emb_product_name_ingredients_text_brands_tags_additives__292', 'emb_product_name_ingredients_text_brands_tags_additives__46', 'emb_product_name_ingredients_text_brands_tags_additives__536', 'emb_product_name_ingredients_text_brands_tags_additives__446', 'emb_product_name_ingredients_text_brands_tags_additives__213', 'emb_product_name_ingredients_text_brands_tags_additives__246', 'emb_product_name_ingredients_text_brands_tags_additives__664', 'emb_product_name_ingredients_text_brands_tags_additives__582', 'emb_product_name_ingredients_text_brands_tags_additives__444', 'emb_product_name_ingredients_text_brands_tags_additives__187', 'emb_product_name_ingredients_text_brands_tags_additives__537', 'emb_product_name_ingredients_text_brands_tags_additives__571', 'emb_product_name_ingredients_text_brands_tags_additives__633', 'emb_product_name_ingredients_text_brands_tags_additives__733', 'emb_product_name_ingredients_text_brands_tags_additives__267', 'emb_product_name_ingredients_text_brands_tags_additives__344', 'emb_product_name_ingredients_text_brands_tags_additives__423', 'emb_product_name_ingredients_text_brands_tags_additives__566', 'emb_product_name_ingredients_text_brands_tags_additives__364', 'emb_product_name_ingredients_text_brands_tags_additives__598', 'emb_product_name_ingredients_text_brands_tags_additives__382', 'emb_product_name_ingredients_text_brands_tags_additives__709', 'emb_product_name_ingredients_text_brands_tags_additives__286', 'emb_product_name_ingredients_text_brands_tags_additives__607', 'emb_product_name_ingredients_text_brands_tags_additives__258', 'emb_product_name_ingredients_text_brands_tags_additives__409', 'emb_product_name_ingredients_text_brands_tags_additives__217', 'emb_product_name_ingredients_text_brands_tags_additives__288', 'emb_product_name_ingredients_text_brands_tags_additives__411', 'emb_product_name_ingredients_text_brands_tags_additives__455', 'emb_product_name_ingredients_text_brands_tags_additives__85', 'emb_product_name_ingredients_text_brands_tags_additives__254', 'emb_product_name_ingredients_text_brands_tags_additives__124', 'emb_product_name_ingredients_text_brands_tags_additives__380', 'emb_product_name_ingredients_text_brands_tags_additives__669', 'emb_product_name_ingredients_text_brands_tags_additives__694', 'emb_product_name_ingredients_text_brands_tags_additives__38', 'emb_product_name_ingredients_text_brands_tags_additives__755', 'emb_product_name_ingredients_text_brands_tags_additives__251', 'emb_product_name_ingredients_text_brands_tags_additives__20', 'emb_product_name_ingredients_text_brands_tags_additives__336', 'emb_product_name_ingredients_text_brands_tags_additives__60', 'emb_product_name_ingredients_text_brands_tags_additives__142', 'emb_product_name_ingredients_text_brands_tags_additives__671', 'emb_product_name_ingredients_text_brands_tags_additives__14', 'emb_product_name_ingredients_text_brands_tags_additives__688', 'emb_product_name_ingredients_text_brands_tags_additives__159', 'emb_product_name_ingredients_text_brands_tags_additives__178', 'emb_product_name_ingredients_text_brands_tags_additives__440', 'emb_product_name_ingredients_text_brands_tags_additives__746', 'emb_product_name_ingredients_text_brands_tags_additives__749', 'emb_product_name_ingredients_text_brands_tags_additives__679', 'emb_product_name_ingredients_text_brands_tags_additives__283', 'emb_product_name_ingredients_text_brands_tags_additives__155', 'emb_product_name_ingredients_text_brands_tags_additives__681', 'emb_product_name_ingredients_text_brands_tags_additives__255', 'emb_product_name_ingredients_text_brands_tags_additives__430', 'emb_product_name_ingredients_text_brands_tags_additives__695', 'emb_product_name_ingredients_text_brands_tags_additives__583', 'emb_product_name_ingredients_text_brands_tags_additives__754', 'emb_product_name_ingredients_text_brands_tags_additives__16', 'emb_product_name_ingredients_text_brands_tags_additives__326', 'emb_product_name_ingredients_text_brands_tags_additives__734', 'emb_product_name_ingredients_text_brands_tags_additives__497', 'emb_product_name_ingredients_text_brands_tags_additives__43', 'emb_product_name_ingredients_text_brands_tags_additives__432', 'emb_product_name_ingredients_text_brands_tags_additives__260', 'emb_product_name_ingredients_text_brands_tags_additives__281', 'emb_product_name_ingredients_text_brands_tags_additives__59', 'emb_product_name_ingredients_text_brands_tags_additives__445', 'emb_product_name_ingredients_text_brands_tags_additives__467', 'emb_product_name_ingredients_text_brands_tags_additives__132', 'emb_product_name_ingredients_text_brands_tags_additives__551', 'emb_product_name_ingredients_text_brands_tags_additives__590', 'emb_product_name_ingredients_text_brands_tags_additives__23', 'emb_product_name_ingredients_text_brands_tags_additives__249', 'emb_product_name_ingredients_text_brands_tags_additives__357', 'emb_product_name_ingredients_text_brands_tags_additives__392', 'emb_product_name_ingredients_text_brands_tags_additives__387', 'emb_product_name_ingredients_text_brands_tags_additives__506', 'emb_product_name_ingredients_text_brands_tags_additives__216', 'emb_product_name_ingredients_text_brands_tags_additives__48', 'emb_product_name_ingredients_text_brands_tags_additives__24', 'emb_product_name_ingredients_text_brands_tags_additives__82', 'emb_product_name_ingredients_text_brands_tags_additives__138', 'emb_product_name_ingredients_text_brands_tags_additives__337', 'emb_product_name_ingredients_text_brands_tags_additives__427', 'emb_product_name_ingredients_text_brands_tags_additives__567', 'emb_product_name_ingredients_text_brands_tags_additives__111', 'emb_product_name_ingredients_text_brands_tags_additives__408', 'emb_product_name_ingredients_text_brands_tags_additives__700', 'emb_product_name_ingredients_text_brands_tags_additives__279', 'emb_product_name_ingredients_text_brands_tags_additives__4', 'emb_product_name_ingredients_text_brands_tags_additives__493', 'emb_product_name_ingredients_text_brands_tags_additives__91', 'emb_product_name_ingredients_text_brands_tags_additives__310', 'emb_product_name_ingredients_text_brands_tags_additives__737', 'emb_product_name_ingredients_text_brands_tags_additives__221', 'emb_product_name_ingredients_text_brands_tags_additives__161', 'emb_product_name_ingredients_text_brands_tags_additives__454', 'emb_product_name_ingredients_text_brands_tags_additives__494', 'emb_product_name_ingredients_text_brands_tags_additives__220', 'emb_product_name_ingredients_text_brands_tags_additives__641', 'emb_product_name_ingredients_text_brands_tags_additives__504', 'emb_product_name_ingredients_text_brands_tags_additives__5', 'emb_product_name_ingredients_text_brands_tags_additives__239', 'emb_product_name_ingredients_text_brands_tags_additives__490', 'emb_product_name_ingredients_text_brands_tags_additives__720', 'emb_product_name_ingredients_text_brands_tags_additives__697', 'emb_product_name_ingredients_text_brands_tags_additives__563', 'emb_product_name_ingredients_text_brands_tags_additives__188', 'emb_product_name_ingredients_text_brands_tags_additives__272', 'emb_product_name_ingredients_text_brands_tags_additives__604', 'emb_product_name_ingredients_text_brands_tags_additives__74', 'emb_product_name_ingredients_text_brands_tags_additives__393', 'emb_product_name_ingredients_text_brands_tags_additives__549', 'emb_product_name_ingredients_text_brands_tags_additives__718', 'emb_product_name_ingredients_text_brands_tags_additives__464', 'emb_product_name_ingredients_text_brands_tags_additives__476', 'emb_product_name_ingredients_text_brands_tags_additives__702', 'emb_product_name_ingredients_text_brands_tags_additives__554', 'emb_product_name_ingredients_text_brands_tags_additives__44', 'emb_product_name_ingredients_text_brands_tags_additives__611', 'emb_product_name_ingredients_text_brands_tags_additives__302', 'emb_product_name_ingredients_text_brands_tags_additives__673', 'emb_product_name_ingredients_text_brands_tags_additives__416', 'emb_product_name_ingredients_text_brands_tags_additives__487', 'emb_product_name_ingredients_text_brands_tags_additives__230', 'emb_product_name_ingredients_text_brands_tags_additives__507', 'emb_product_name_ingredients_text_brands_tags_additives__452', 'emb_product_name_ingredients_text_brands_tags_additives__623', 'emb_product_name_ingredients_text_brands_tags_additives__686', 'emb_product_name_ingredients_text_brands_tags_additives__564', 'emb_product_name_ingredients_text_brands_tags_additives__545', 'emb_product_name_ingredients_text_brands_tags_additives__353', 'emb_product_name_ingredients_text_brands_tags_additives__721', 'emb_product_name_ingredients_text_brands_tags_additives__70', 'emb_product_name_ingredients_text_brands_tags_additives__77', 'emb_product_name_ingredients_text_brands_tags_additives__131', 'emb_product_name_ingredients_text_brands_tags_additives__508', 'emb_product_name_ingredients_text_brands_tags_additives__729', 'emb_product_name_ingredients_text_brands_tags_additives__174', 'emb_product_name_ingredients_text_brands_tags_additives__308', 'emb_product_name_ingredients_text_brands_tags_additives__265', 'emb_product_name_ingredients_text_brands_tags_additives__75', 'emb_product_name_ingredients_text_brands_tags_additives__195', 'emb_product_name_ingredients_text_brands_tags_additives__152', 'emb_product_name_ingredients_text_brands_tags_additives__524', 'emb_product_name_ingredients_text_brands_tags_additives__63', 'label_states_en_brands', 'label_states_en_categories', 'label_states_en_characteristics', 'label_states_en_expiration date', 'label_states_en_general_complete', 'label_states_en_ingredients', 'label_pnns_groups_1', 'label_pnns_groups_2', 'label_states_en_packaging', 'label_states_en_packaging-code-', 'label_states_en_photo_upload', 'label_states_en_photo_validate', 'label_states_en_product name', 'label_states_en_quantity']\n",
      "Cat index: [772, 773, 774, 775, 776, 777, 778, 779, 780, 781, 782, 783, 784, 785]\n",
      "---------- Training fold Nº 3 ----------\n",
      "[LightGBM] [Warning] Find whitespaces in feature_names, replace with underlines\n",
      "[LightGBM] [Info] Total Bins 196221\n",
      "[LightGBM] [Info] Number of data points in the train set: 81622, number of used features: 786\n"
     ]
    },
    {
     "name": "stderr",
     "output_type": "stream",
     "text": [
      "/usr/local/lib/python3.6/dist-packages/lightgbm/basic.py:1433: UserWarning: Overriding the parameters from Reference Dataset.\n",
      "  _log_warning('Overriding the parameters from Reference Dataset.')\n",
      "/usr/local/lib/python3.6/dist-packages/lightgbm/basic.py:1245: UserWarning: categorical_column in param dict is overridden.\n",
      "  _log_warning('{} in param dict is overridden.'.format(cat_alias))\n"
     ]
    },
    {
     "name": "stdout",
     "output_type": "stream",
     "text": [
      "[LightGBM] [Warning] Find whitespaces in feature_names, replace with underlines\n",
      "[LightGBM] [Info] Start training from score 9.171253\n",
      "Training until validation scores don't improve for 200 rounds\n",
      "[50]\ttraining's rmse: 6.64344\tvalid_1's rmse: 6.85049\n",
      "[100]\ttraining's rmse: 5.46751\tvalid_1's rmse: 5.72401\n",
      "[150]\ttraining's rmse: 4.93517\tvalid_1's rmse: 5.18179\n",
      "[200]\ttraining's rmse: 4.7004\tvalid_1's rmse: 4.90465\n",
      "[250]\ttraining's rmse: 4.59709\tvalid_1's rmse: 4.76762\n",
      "[300]\ttraining's rmse: 4.5482\tvalid_1's rmse: 4.69593\n",
      "[350]\ttraining's rmse: 4.52206\tvalid_1's rmse: 4.65731\n",
      "[400]\ttraining's rmse: 4.50566\tvalid_1's rmse: 4.63329\n",
      "[450]\ttraining's rmse: 4.4941\tvalid_1's rmse: 4.61926\n",
      "[LightGBM] [Warning] No further splits with positive gain, best gain: -inf\n",
      "[LightGBM] [Warning] No further splits with positive gain, best gain: -inf\n",
      "[500]\ttraining's rmse: 4.48464\tvalid_1's rmse: 4.60937\n",
      "[LightGBM] [Warning] No further splits with positive gain, best gain: -inf\n",
      "[LightGBM] [Warning] No further splits with positive gain, best gain: -inf\n",
      "[LightGBM] [Warning] No further splits with positive gain, best gain: -inf\n",
      "[550]\ttraining's rmse: 4.47712\tvalid_1's rmse: 4.60402\n",
      "[LightGBM] [Warning] No further splits with positive gain, best gain: -inf\n",
      "[LightGBM] [Warning] No further splits with positive gain, best gain: -inf\n",
      "[LightGBM] [Warning] No further splits with positive gain, best gain: -inf\n",
      "[LightGBM] [Warning] No further splits with positive gain, best gain: -inf\n",
      "[LightGBM] [Warning] No further splits with positive gain, best gain: -inf\n",
      "[LightGBM] [Warning] No further splits with positive gain, best gain: -inf\n",
      "[600]\ttraining's rmse: 4.47015\tvalid_1's rmse: 4.59898\n",
      "[LightGBM] [Warning] No further splits with positive gain, best gain: -inf\n",
      "[LightGBM] [Warning] No further splits with positive gain, best gain: -inf\n",
      "[LightGBM] [Warning] No further splits with positive gain, best gain: -inf\n",
      "[LightGBM] [Warning] No further splits with positive gain, best gain: -inf\n",
      "[LightGBM] [Warning] No further splits with positive gain, best gain: -inf\n",
      "[LightGBM] [Warning] No further splits with positive gain, best gain: -inf\n",
      "[LightGBM] [Warning] No further splits with positive gain, best gain: -inf\n",
      "[650]\ttraining's rmse: 4.46385\tvalid_1's rmse: 4.59777\n",
      "[LightGBM] [Warning] No further splits with positive gain, best gain: -inf\n",
      "[LightGBM] [Warning] No further splits with positive gain, best gain: -inf\n",
      "[LightGBM] [Warning] No further splits with positive gain, best gain: -inf\n",
      "[LightGBM] [Warning] No further splits with positive gain, best gain: -inf\n",
      "[LightGBM] [Warning] No further splits with positive gain, best gain: -inf\n",
      "[LightGBM] [Warning] No further splits with positive gain, best gain: -inf\n",
      "[LightGBM] [Warning] No further splits with positive gain, best gain: -inf\n",
      "[700]\ttraining's rmse: 4.45809\tvalid_1's rmse: 4.59639\n",
      "[LightGBM] [Warning] No further splits with positive gain, best gain: -inf\n",
      "[LightGBM] [Warning] No further splits with positive gain, best gain: -inf\n",
      "[LightGBM] [Warning] No further splits with positive gain, best gain: -inf\n",
      "[LightGBM] [Warning] No further splits with positive gain, best gain: -inf\n",
      "[LightGBM] [Warning] No further splits with positive gain, best gain: -inf\n",
      "[LightGBM] [Warning] No further splits with positive gain, best gain: -inf\n",
      "[LightGBM] [Warning] No further splits with positive gain, best gain: -inf\n",
      "[LightGBM] [Warning] No further splits with positive gain, best gain: -inf\n",
      "[750]\ttraining's rmse: 4.45256\tvalid_1's rmse: 4.59518\n",
      "[LightGBM] [Warning] No further splits with positive gain, best gain: -inf\n",
      "[LightGBM] [Warning] No further splits with positive gain, best gain: -inf\n",
      "[LightGBM] [Warning] No further splits with positive gain, best gain: -inf\n",
      "[LightGBM] [Warning] No further splits with positive gain, best gain: -inf\n",
      "[LightGBM] [Warning] No further splits with positive gain, best gain: -inf\n",
      "[LightGBM] [Warning] No further splits with positive gain, best gain: -inf\n",
      "[LightGBM] [Warning] No further splits with positive gain, best gain: -inf\n",
      "[LightGBM] [Warning] No further splits with positive gain, best gain: -inf\n",
      "[LightGBM] [Warning] No further splits with positive gain, best gain: -inf\n",
      "[LightGBM] [Warning] No further splits with positive gain, best gain: -inf\n",
      "[LightGBM] [Warning] No further splits with positive gain, best gain: -inf\n",
      "[LightGBM] [Warning] No further splits with positive gain, best gain: -inf\n",
      "[800]\ttraining's rmse: 4.4472\tvalid_1's rmse: 4.59252\n",
      "[LightGBM] [Warning] No further splits with positive gain, best gain: -inf\n",
      "[LightGBM] [Warning] No further splits with positive gain, best gain: -inf\n",
      "[LightGBM] [Warning] No further splits with positive gain, best gain: -inf\n",
      "[LightGBM] [Warning] No further splits with positive gain, best gain: -inf\n",
      "[LightGBM] [Warning] No further splits with positive gain, best gain: -inf\n",
      "[LightGBM] [Warning] No further splits with positive gain, best gain: -inf\n",
      "[LightGBM] [Warning] No further splits with positive gain, best gain: -inf\n",
      "[850]\ttraining's rmse: 4.44207\tvalid_1's rmse: 4.59316\n",
      "[LightGBM] [Warning] No further splits with positive gain, best gain: -inf\n",
      "[LightGBM] [Warning] No further splits with positive gain, best gain: -inf\n",
      "[LightGBM] [Warning] No further splits with positive gain, best gain: -inf\n",
      "[LightGBM] [Warning] No further splits with positive gain, best gain: -inf\n",
      "[LightGBM] [Warning] No further splits with positive gain, best gain: -inf\n",
      "[LightGBM] [Warning] No further splits with positive gain, best gain: -inf\n",
      "[LightGBM] [Warning] No further splits with positive gain, best gain: -inf\n",
      "[LightGBM] [Warning] No further splits with positive gain, best gain: -inf\n",
      "[LightGBM] [Warning] No further splits with positive gain, best gain: -inf\n",
      "[LightGBM] [Warning] No further splits with positive gain, best gain: -inf\n",
      "[LightGBM] [Warning] No further splits with positive gain, best gain: -inf\n",
      "[900]\ttraining's rmse: 4.43717\tvalid_1's rmse: 4.59372\n",
      "[LightGBM] [Warning] No further splits with positive gain, best gain: -inf\n",
      "[LightGBM] [Warning] No further splits with positive gain, best gain: -inf\n",
      "[LightGBM] [Warning] No further splits with positive gain, best gain: -inf\n",
      "[LightGBM] [Warning] No further splits with positive gain, best gain: -inf\n",
      "[LightGBM] [Warning] No further splits with positive gain, best gain: -inf\n",
      "[950]\ttraining's rmse: 4.43215\tvalid_1's rmse: 4.59352\n",
      "[LightGBM] [Warning] No further splits with positive gain, best gain: -inf\n",
      "[LightGBM] [Warning] No further splits with positive gain, best gain: -inf\n",
      "[LightGBM] [Warning] No further splits with positive gain, best gain: -inf\n",
      "[LightGBM] [Warning] No further splits with positive gain, best gain: -inf\n",
      "[LightGBM] [Warning] No further splits with positive gain, best gain: -inf\n",
      "[LightGBM] [Warning] No further splits with positive gain, best gain: -inf\n",
      "[LightGBM] [Warning] No further splits with positive gain, best gain: -inf\n",
      "[LightGBM] [Warning] No further splits with positive gain, best gain: -inf\n",
      "[LightGBM] [Warning] No further splits with positive gain, best gain: -inf\n",
      "[LightGBM] [Warning] No further splits with positive gain, best gain: -inf\n",
      "[LightGBM] [Warning] No further splits with positive gain, best gain: -inf\n",
      "[LightGBM] [Warning] No further splits with positive gain, best gain: -inf\n",
      "[1000]\ttraining's rmse: 4.42761\tvalid_1's rmse: 4.59221\n",
      "[LightGBM] [Warning] No further splits with positive gain, best gain: -inf\n",
      "[LightGBM] [Warning] No further splits with positive gain, best gain: -inf\n",
      "[LightGBM] [Warning] No further splits with positive gain, best gain: -inf\n",
      "[LightGBM] [Warning] No further splits with positive gain, best gain: -inf\n",
      "[LightGBM] [Warning] No further splits with positive gain, best gain: -inf\n",
      "[LightGBM] [Warning] No further splits with positive gain, best gain: -inf\n",
      "[LightGBM] [Warning] No further splits with positive gain, best gain: -inf\n",
      "[1050]\ttraining's rmse: 4.42286\tvalid_1's rmse: 4.59245\n",
      "[LightGBM] [Warning] No further splits with positive gain, best gain: -inf\n",
      "[LightGBM] [Warning] No further splits with positive gain, best gain: -inf\n",
      "[LightGBM] [Warning] No further splits with positive gain, best gain: -inf\n",
      "[LightGBM] [Warning] No further splits with positive gain, best gain: -inf\n",
      "[LightGBM] [Warning] No further splits with positive gain, best gain: -inf\n",
      "[LightGBM] [Warning] No further splits with positive gain, best gain: -inf\n",
      "[LightGBM] [Warning] No further splits with positive gain, best gain: -inf\n",
      "[LightGBM] [Warning] No further splits with positive gain, best gain: -inf\n",
      "[LightGBM] [Warning] No further splits with positive gain, best gain: -inf\n",
      "[1100]\ttraining's rmse: 4.41832\tvalid_1's rmse: 4.59313\n",
      "[LightGBM] [Warning] No further splits with positive gain, best gain: -inf\n",
      "[LightGBM] [Warning] No further splits with positive gain, best gain: -inf\n",
      "[LightGBM] [Warning] No further splits with positive gain, best gain: -inf\n",
      "[LightGBM] [Warning] No further splits with positive gain, best gain: -inf\n",
      "[LightGBM] [Warning] No further splits with positive gain, best gain: -inf\n",
      "[LightGBM] [Warning] No further splits with positive gain, best gain: -inf\n",
      "[LightGBM] [Warning] No further splits with positive gain, best gain: -inf\n",
      "[LightGBM] [Warning] No further splits with positive gain, best gain: -inf\n",
      "[LightGBM] [Warning] No further splits with positive gain, best gain: -inf\n",
      "[1150]\ttraining's rmse: 4.41367\tvalid_1's rmse: 4.59246\n",
      "[LightGBM] [Warning] No further splits with positive gain, best gain: -inf\n",
      "[LightGBM] [Warning] No further splits with positive gain, best gain: -inf\n",
      "[LightGBM] [Warning] No further splits with positive gain, best gain: -inf\n",
      "[LightGBM] [Warning] No further splits with positive gain, best gain: -inf\n",
      "[LightGBM] [Warning] No further splits with positive gain, best gain: -inf\n",
      "[LightGBM] [Warning] No further splits with positive gain, best gain: -inf\n",
      "[LightGBM] [Warning] No further splits with positive gain, best gain: -inf\n",
      "[LightGBM] [Warning] No further splits with positive gain, best gain: -inf\n",
      "[LightGBM] [Warning] No further splits with positive gain, best gain: -inf\n",
      "[LightGBM] [Warning] No further splits with positive gain, best gain: -inf\n",
      "[LightGBM] [Warning] No further splits with positive gain, best gain: -inf\n",
      "[LightGBM] [Warning] No further splits with positive gain, best gain: -inf\n",
      "[LightGBM] [Warning] No further splits with positive gain, best gain: -inf\n",
      "[LightGBM] [Warning] No further splits with positive gain, best gain: -inf\n",
      "[1200]\ttraining's rmse: 4.4093\tvalid_1's rmse: 4.59111\n",
      "[LightGBM] [Warning] No further splits with positive gain, best gain: -inf\n",
      "[LightGBM] [Warning] No further splits with positive gain, best gain: -inf\n",
      "[LightGBM] [Warning] No further splits with positive gain, best gain: -inf\n",
      "[LightGBM] [Warning] No further splits with positive gain, best gain: -inf\n",
      "[LightGBM] [Warning] No further splits with positive gain, best gain: -inf\n",
      "[LightGBM] [Warning] No further splits with positive gain, best gain: -inf\n",
      "[LightGBM] [Warning] No further splits with positive gain, best gain: -inf\n",
      "[LightGBM] [Warning] No further splits with positive gain, best gain: -inf\n",
      "Early stopping, best iteration is:\n",
      "[1038]\ttraining's rmse: 4.42399\tvalid_1's rmse: 4.59099\n",
      "Train RMSE: 4.423987959121483        Valida RMSE: 4.590988346743886\n",
      "Columns: ['emb_product_name_ingredients_text_brands_tags_additives__539', 'emb_product_name_ingredients_text_brands_tags_additives__385', 'ingredients_from_palm_oil_n', 'emb_product_name_ingredients_text_brands_tags_additives__165', 'emb_product_name_ingredients_text_brands_tags_additives__572', 'emb_product_name_ingredients_text_brands_tags_additives__589', 'emb_product_name_ingredients_text_brands_tags_additives__211', 'emb_product_name_ingredients_text_brands_tags_additives__601', 'emb_product_name_ingredients_text_brands_tags_additives__300', 'emb_product_name_ingredients_text_brands_tags_additives__237', 'emb_product_name_ingredients_text_brands_tags_additives__22', 'emb_product_name_ingredients_text_brands_tags_additives__73', 'emb_product_name_ingredients_text_brands_tags_additives__167', 'emb_product_name_ingredients_text_brands_tags_additives__203', 'emb_product_name_ingredients_text_brands_tags_additives__574', 'emb_product_name_ingredients_text_brands_tags_additives__112', 'emb_product_name_ingredients_text_brands_tags_additives__462', 'emb_product_name_ingredients_text_brands_tags_additives__36', 'emb_product_name_ingredients_text_brands_tags_additives__64', 'emb_product_name_ingredients_text_brands_tags_additives__185', 'emb_product_name_ingredients_text_brands_tags_additives__100', 'emb_product_name_ingredients_text_brands_tags_additives__550', 'emb_product_name_ingredients_text_brands_tags_additives__691', 'emb_product_name_ingredients_text_brands_tags_additives__698', 'emb_product_name_ingredients_text_brands_tags_additives__182', 'emb_product_name_ingredients_text_brands_tags_additives__263', 'emb_product_name_ingredients_text_brands_tags_additives__396', 'emb_product_name_ingredients_text_brands_tags_additives__479', 'emb_product_name_ingredients_text_brands_tags_additives__56', 'emb_product_name_ingredients_text_brands_tags_additives__465', 'diff_t', 'emb_product_name_ingredients_text_brands_tags_additives__666', 'emb_product_name_ingredients_text_brands_tags_additives__710', 'emb_product_name_ingredients_text_brands_tags_additives__717', 'emb_product_name_ingredients_text_brands_tags_additives__153', 'emb_product_name_ingredients_text_brands_tags_additives__321', 'emb_product_name_ingredients_text_brands_tags_additives__606', 'emb_product_name_ingredients_text_brands_tags_additives__627', 'emb_product_name_ingredients_text_brands_tags_additives__428', 'emb_product_name_ingredients_text_brands_tags_additives__622', 'emb_product_name_ingredients_text_brands_tags_additives__49', 'emb_product_name_ingredients_text_brands_tags_additives__656', 'emb_product_name_ingredients_text_brands_tags_additives__366', 'emb_product_name_ingredients_text_brands_tags_additives__678', 'emb_product_name_ingredients_text_brands_tags_additives__685', 'emb_product_name_ingredients_text_brands_tags_additives__739', 'emb_product_name_ingredients_text_brands_tags_additives__224', 'emb_product_name_ingredients_text_brands_tags_additives__208', 'emb_product_name_ingredients_text_brands_tags_additives__339', 'emb_product_name_ingredients_text_brands_tags_additives__148', 'emb_product_name_ingredients_text_brands_tags_additives__259', 'emb_product_name_ingredients_text_brands_tags_additives__680', 'emb_product_name_ingredients_text_brands_tags_additives__0', 'emb_product_name_ingredients_text_brands_tags_additives__605', 'emb_product_name_ingredients_text_brands_tags_additives__553', 'emb_product_name_ingredients_text_brands_tags_additives__354', 'emb_product_name_ingredients_text_brands_tags_additives__297', 'emb_product_name_ingredients_text_brands_tags_additives__422', 'emb_product_name_ingredients_text_brands_tags_additives__410', 'emb_product_name_ingredients_text_brands_tags_additives__106', 'emb_product_name_ingredients_text_brands_tags_additives__317', 'emb_product_name_ingredients_text_brands_tags_additives__145', 'emb_product_name_ingredients_text_brands_tags_additives__137', 'emb_product_name_ingredients_text_brands_tags_additives__319', 'emb_product_name_ingredients_text_brands_tags_additives__552', 'emb_product_name_ingredients_text_brands_tags_additives__451', 'emb_product_name_ingredients_text_brands_tags_additives__580', 'emb_product_name_ingredients_text_brands_tags_additives__533', 'emb_product_name_ingredients_text_brands_tags_additives__483', 'emb_product_name_ingredients_text_brands_tags_additives__594', 'emb_product_name_ingredients_text_brands_tags_additives__419', 'emb_product_name_ingredients_text_brands_tags_additives__459', 'emb_product_name_ingredients_text_brands_tags_additives__762', 'emb_product_name_ingredients_text_brands_tags_additives__276', 'emb_product_name_ingredients_text_brands_tags_additives__513', 'emb_product_name_ingredients_text_brands_tags_additives__561', 'emb_product_name_ingredients_text_brands_tags_additives__323', 'emb_product_name_ingredients_text_brands_tags_additives__439', 'emb_product_name_ingredients_text_brands_tags_additives__12', 'emb_product_name_ingredients_text_brands_tags_additives__450', 'emb_product_name_ingredients_text_brands_tags_additives__426', 'emb_product_name_ingredients_text_brands_tags_additives__683', 'emb_product_name_ingredients_text_brands_tags_additives__347', 'emb_product_name_ingredients_text_brands_tags_additives__501', 'emb_product_name_ingredients_text_brands_tags_additives__151', 'emb_product_name_ingredients_text_brands_tags_additives__190', 'emb_product_name_ingredients_text_brands_tags_additives__169', 'emb_product_name_ingredients_text_brands_tags_additives__247', 'emb_product_name_ingredients_text_brands_tags_additives__147', 'emb_product_name_ingredients_text_brands_tags_additives__528', 'emb_product_name_ingredients_text_brands_tags_additives__72', 'emb_product_name_ingredients_text_brands_tags_additives__371', 'emb_product_name_ingredients_text_brands_tags_additives__324', 'emb_product_name_ingredients_text_brands_tags_additives__99', 'emb_product_name_ingredients_text_brands_tags_additives__405', 'emb_product_name_ingredients_text_brands_tags_additives__569', 'emb_product_name_ingredients_text_brands_tags_additives__496', 'emb_product_name_ingredients_text_brands_tags_additives__7', 'emb_product_name_ingredients_text_brands_tags_additives__636', 'emb_product_name_ingredients_text_brands_tags_additives__625', 'emb_product_name_ingredients_text_brands_tags_additives__252', 'emb_product_name_ingredients_text_brands_tags_additives__287', 'emb_product_name_ingredients_text_brands_tags_additives__510', 'emb_product_name_ingredients_text_brands_tags_additives__189', 'emb_product_name_ingredients_text_brands_tags_additives__32', 'emb_product_name_ingredients_text_brands_tags_additives__226', 'emb_product_name_ingredients_text_brands_tags_additives__431', 'emb_product_name_ingredients_text_brands_tags_additives__245', 'emb_product_name_ingredients_text_brands_tags_additives__766', 'emb_product_name_ingredients_text_brands_tags_additives__500', 'emb_product_name_ingredients_text_brands_tags_additives__193', 'emb_product_name_ingredients_text_brands_tags_additives__318', 'emb_product_name_ingredients_text_brands_tags_additives__522', 'emb_product_name_ingredients_text_brands_tags_additives__88', 'emb_product_name_ingredients_text_brands_tags_additives__581', 'emb_product_name_ingredients_text_brands_tags_additives__650', 'emb_product_name_ingredients_text_brands_tags_additives__668', 'emb_product_name_ingredients_text_brands_tags_additives__699', 'emb_product_name_ingredients_text_brands_tags_additives__30', 'emb_product_name_ingredients_text_brands_tags_additives__602', 'emb_product_name_ingredients_text_brands_tags_additives__744', 'emb_product_name_ingredients_text_brands_tags_additives__71', 'emb_product_name_ingredients_text_brands_tags_additives__47', 'emb_product_name_ingredients_text_brands_tags_additives__35', 'emb_product_name_ingredients_text_brands_tags_additives__663', 'emb_product_name_ingredients_text_brands_tags_additives__54', 'emb_product_name_ingredients_text_brands_tags_additives__156', 'emb_product_name_ingredients_text_brands_tags_additives__359', 'emb_product_name_ingredients_text_brands_tags_additives__449', 'emb_product_name_ingredients_text_brands_tags_additives__471', 'emb_product_name_ingredients_text_brands_tags_additives__615', 'emb_product_name_ingredients_text_brands_tags_additives__214', 'emb_product_name_ingredients_text_brands_tags_additives__352', 'emb_product_name_ingredients_text_brands_tags_additives__523', 'emb_product_name_ingredients_text_brands_tags_additives__674', 'emb_product_name_ingredients_text_brands_tags_additives__696', 'emb_product_name_ingredients_text_brands_tags_additives__441', 'emb_product_name_ingredients_text_brands_tags_additives__725', 'emb_product_name_ingredients_text_brands_tags_additives__68', 'emb_product_name_ingredients_text_brands_tags_additives__658', 'emb_product_name_ingredients_text_brands_tags_additives__28', 'emb_product_name_ingredients_text_brands_tags_additives__406', 'emb_product_name_ingredients_text_brands_tags_additives__107', 'emb_product_name_ingredients_text_brands_tags_additives__542', 'emb_product_name_ingredients_text_brands_tags_additives__579', 'emb_product_name_ingredients_text_brands_tags_additives__647', 'emb_product_name_ingredients_text_brands_tags_additives__6', 'emb_product_name_ingredients_text_brands_tags_additives__140', 'emb_product_name_ingredients_text_brands_tags_additives__219', 'emb_product_name_ingredients_text_brands_tags_additives__597', 'emb_product_name_ingredients_text_brands_tags_additives__264', 'emb_product_name_ingredients_text_brands_tags_additives__466', 'emb_product_name_ingredients_text_brands_tags_additives__643', 'emb_product_name_ingredients_text_brands_tags_additives__512', 'emb_product_name_ingredients_text_brands_tags_additives__108', 'emb_product_name_ingredients_text_brands_tags_additives__401', 'emb_product_name_ingredients_text_brands_tags_additives__144', 'emb_product_name_ingredients_text_brands_tags_additives__149', 'emb_product_name_ingredients_text_brands_tags_additives__429', 'emb_product_name_ingredients_text_brands_tags_additives__763', 'emb_product_name_ingredients_text_brands_tags_additives__529', 'emb_product_name_ingredients_text_brands_tags_additives__690', 'emb_product_name_ingredients_text_brands_tags_additives__399', 'emb_product_name_ingredients_text_brands_tags_additives__418', 'emb_product_name_ingredients_text_brands_tags_additives__475', 'emb_product_name_ingredients_text_brands_tags_additives__765', 'emb_product_name_ingredients_text_brands_tags_additives__199', 'emb_product_name_ingredients_text_brands_tags_additives__162', 'emb_product_name_ingredients_text_brands_tags_additives__18', 'emb_product_name_ingredients_text_brands_tags_additives__175', 'emb_product_name_ingredients_text_brands_tags_additives__176', 'emb_product_name_ingredients_text_brands_tags_additives__531', 'emb_product_name_ingredients_text_brands_tags_additives__644', 'emb_product_name_ingredients_text_brands_tags_additives__360', 'emb_product_name_ingredients_text_brands_tags_additives__358', 'emb_product_name_ingredients_text_brands_tags_additives__560', 'emb_product_name_ingredients_text_brands_tags_additives__350', 'emb_product_name_ingredients_text_brands_tags_additives__738', 'emb_product_name_ingredients_text_brands_tags_additives__69', 'emb_product_name_ingredients_text_brands_tags_additives__547', 'emb_product_name_ingredients_text_brands_tags_additives__711', 'emb_product_name_ingredients_text_brands_tags_additives__304', 'emb_product_name_ingredients_text_brands_tags_additives__420', 'emb_product_name_ingredients_text_brands_tags_additives__356', 'emb_product_name_ingredients_text_brands_tags_additives__631', 'emb_product_name_ingredients_text_brands_tags_additives__17', 'emb_product_name_ingredients_text_brands_tags_additives__126', 'emb_product_name_ingredients_text_brands_tags_additives__351', 'emb_product_name_ingredients_text_brands_tags_additives__105', 'emb_product_name_ingredients_text_brands_tags_additives__31', 'emb_product_name_ingredients_text_brands_tags_additives__716', 'emb_product_name_ingredients_text_brands_tags_additives__66', 'emb_product_name_ingredients_text_brands_tags_additives__413', 'emb_product_name_ingredients_text_brands_tags_additives__330', 'emb_product_name_ingredients_text_brands_tags_additives__532', 'emb_product_name_ingredients_text_brands_tags_additives__612', 'emb_product_name_ingredients_text_brands_tags_additives__270', 'emb_product_name_ingredients_text_brands_tags_additives__570', 'emb_product_name_ingredients_text_brands_tags_additives__89', 'emb_product_name_ingredients_text_brands_tags_additives__412', 'emb_product_name_ingredients_text_brands_tags_additives__390', 'emb_product_name_ingredients_text_brands_tags_additives__596', 'emb_product_name_ingredients_text_brands_tags_additives__434', 'emb_product_name_ingredients_text_brands_tags_additives__231', 'emb_product_name_ingredients_text_brands_tags_additives__320', 'emb_product_name_ingredients_text_brands_tags_additives__515', 'emb_product_name_ingredients_text_brands_tags_additives__42', 'emb_product_name_ingredients_text_brands_tags_additives__499', 'emb_product_name_ingredients_text_brands_tags_additives__329', 'emb_product_name_ingredients_text_brands_tags_additives__379', 'emb_product_name_ingredients_text_brands_tags_additives__184', 'emb_product_name_ingredients_text_brands_tags_additives__453', 'emb_product_name_ingredients_text_brands_tags_additives__435', 'emb_product_name_ingredients_text_brands_tags_additives__661', 'emb_product_name_ingredients_text_brands_tags_additives__715', 'emb_product_name_ingredients_text_brands_tags_additives__638', 'emb_product_name_ingredients_text_brands_tags_additives__134', 'emb_product_name_ingredients_text_brands_tags_additives__135', 'emb_product_name_ingredients_text_brands_tags_additives__693', 'emb_product_name_ingredients_text_brands_tags_additives__139', 'emb_product_name_ingredients_text_brands_tags_additives__33', 'emb_product_name_ingredients_text_brands_tags_additives__222', 'emb_product_name_ingredients_text_brands_tags_additives__117', 'emb_product_name_ingredients_text_brands_tags_additives__179', 'emb_product_name_ingredients_text_brands_tags_additives__619', 'emb_product_name_ingredients_text_brands_tags_additives__37', 'emb_product_name_ingredients_text_brands_tags_additives__526', 'emb_product_name_ingredients_text_brands_tags_additives__708', 'emb_product_name_ingredients_text_brands_tags_additives__535', 'emb_product_name_ingredients_text_brands_tags_additives__595', 'emb_product_name_ingredients_text_brands_tags_additives__388', 'emb_product_name_ingredients_text_brands_tags_additives__629', 'emb_product_name_ingredients_text_brands_tags_additives__559', 'emb_product_name_ingredients_text_brands_tags_additives__235', 'emb_product_name_ingredients_text_brands_tags_additives__168', 'emb_product_name_ingredients_text_brands_tags_additives__556', 'emb_product_name_ingredients_text_brands_tags_additives__120', 'emb_product_name_ingredients_text_brands_tags_additives__250', 'emb_product_name_ingredients_text_brands_tags_additives__586', 'emb_product_name_ingredients_text_brands_tags_additives__92', 'emb_product_name_ingredients_text_brands_tags_additives__274', 'emb_product_name_ingredients_text_brands_tags_additives__150', 'emb_product_name_ingredients_text_brands_tags_additives__333', 'emb_product_name_ingredients_text_brands_tags_additives__19', 'emb_product_name_ingredients_text_brands_tags_additives__345', 'emb_product_name_ingredients_text_brands_tags_additives__365', 'emb_product_name_ingredients_text_brands_tags_additives__372', 'emb_product_name_ingredients_text_brands_tags_additives__121', 'emb_product_name_ingredients_text_brands_tags_additives__495', 'emb_product_name_ingredients_text_brands_tags_additives__447', 'emb_product_name_ingredients_text_brands_tags_additives__621', 'emb_product_name_ingredients_text_brands_tags_additives__197', 'emb_product_name_ingredients_text_brands_tags_additives__194', 'emb_product_name_ingredients_text_brands_tags_additives__79', 'emb_product_name_ingredients_text_brands_tags_additives__649', 'emb_product_name_ingredients_text_brands_tags_additives__514', 'emb_product_name_ingredients_text_brands_tags_additives__505', 'emb_product_name_ingredients_text_brands_tags_additives__610', 'emb_product_name_ingredients_text_brands_tags_additives__701', 'emb_product_name_ingredients_text_brands_tags_additives__415', 'emb_product_name_ingredients_text_brands_tags_additives__280', 'additives_n', 'emb_product_name_ingredients_text_brands_tags_additives__273', 'emb_product_name_ingredients_text_brands_tags_additives__620', 'emb_product_name_ingredients_text_brands_tags_additives__282', 'emb_product_name_ingredients_text_brands_tags_additives__10', 'emb_product_name_ingredients_text_brands_tags_additives__687', 'emb_product_name_ingredients_text_brands_tags_additives__745', 'emb_product_name_ingredients_text_brands_tags_additives__397', 'emb_product_name_ingredients_text_brands_tags_additives__315', 'emb_product_name_ingredients_text_brands_tags_additives__538', 'emb_product_name_ingredients_text_brands_tags_additives__712', 'emb_product_name_ingredients_text_brands_tags_additives__183', 'emb_product_name_ingredients_text_brands_tags_additives__119', 'emb_product_name_ingredients_text_brands_tags_additives__707', 'emb_product_name_ingredients_text_brands_tags_additives__425', 'emb_product_name_ingredients_text_brands_tags_additives__332', 'emb_product_name_ingredients_text_brands_tags_additives__253', 'emb_product_name_ingredients_text_brands_tags_additives__370', 'emb_product_name_ingredients_text_brands_tags_additives__482', 'emb_product_name_ingredients_text_brands_tags_additives__278', 'emb_product_name_ingredients_text_brands_tags_additives__400', 'emb_product_name_ingredients_text_brands_tags_additives__543', 'emb_product_name_ingredients_text_brands_tags_additives__373', 'emb_product_name_ingredients_text_brands_tags_additives__585', 'emb_product_name_ingredients_text_brands_tags_additives__11', 'emb_product_name_ingredients_text_brands_tags_additives__386', 'emb_product_name_ingredients_text_brands_tags_additives__403', 'emb_product_name_ingredients_text_brands_tags_additives__498', 'emb_product_name_ingredients_text_brands_tags_additives__160', 'emb_product_name_ingredients_text_brands_tags_additives__436', 'emb_product_name_ingredients_text_brands_tags_additives__109', 'emb_product_name_ingredients_text_brands_tags_additives__463', 'emb_product_name_ingredients_text_brands_tags_additives__626', 'emb_product_name_ingredients_text_brands_tags_additives__39', 'emb_product_name_ingredients_text_brands_tags_additives__171', 'emb_product_name_ingredients_text_brands_tags_additives__381', 'emb_product_name_ingredients_text_brands_tags_additives__95', 'emb_product_name_ingredients_text_brands_tags_additives__166', 'emb_product_name_ingredients_text_brands_tags_additives__456', 'emb_product_name_ingredients_text_brands_tags_additives__437', 'emb_product_name_ingredients_text_brands_tags_additives__703', 'emb_product_name_ingredients_text_brands_tags_additives__470', 'emb_product_name_ingredients_text_brands_tags_additives__546', 'emb_product_name_ingredients_text_brands_tags_additives__86', 'emb_product_name_ingredients_text_brands_tags_additives__458', 'emb_product_name_ingredients_text_brands_tags_additives__751', 'emb_product_name_ingredients_text_brands_tags_additives__599', 'emb_product_name_ingredients_text_brands_tags_additives__509', 'emb_product_name_ingredients_text_brands_tags_additives__180', 'emb_product_name_ingredients_text_brands_tags_additives__555', 'emb_product_name_ingredients_text_brands_tags_additives__348', 'emb_product_name_ingredients_text_brands_tags_additives__55', 'emb_product_name_ingredients_text_brands_tags_additives__34', 'emb_product_name_ingredients_text_brands_tags_additives__277', 'emb_product_name_ingredients_text_brands_tags_additives__177', 'emb_product_name_ingredients_text_brands_tags_additives__645', 'emb_product_name_ingredients_text_brands_tags_additives__181', 'emb_product_name_ingredients_text_brands_tags_additives__262', 'emb_product_name_ingredients_text_brands_tags_additives__101', 'emb_product_name_ingredients_text_brands_tags_additives__488', 'emb_product_name_ingredients_text_brands_tags_additives__309', 'emb_product_name_ingredients_text_brands_tags_additives__573', 'emb_product_name_ingredients_text_brands_tags_additives__305', 'emb_product_name_ingredients_text_brands_tags_additives__704', 'emb_product_name_ingredients_text_brands_tags_additives__227', 'emb_product_name_ingredients_text_brands_tags_additives__646', 'emb_product_name_ingredients_text_brands_tags_additives__98', 'emb_product_name_ingredients_text_brands_tags_additives__714', 'emb_product_name_ingredients_text_brands_tags_additives__544', 'emb_product_name_ingredients_text_brands_tags_additives__361', 'emb_product_name_ingredients_text_brands_tags_additives__1', 'emb_product_name_ingredients_text_brands_tags_additives__225', 'emb_product_name_ingredients_text_brands_tags_additives__485', 'emb_product_name_ingredients_text_brands_tags_additives__692', 'emb_product_name_ingredients_text_brands_tags_additives__233', 'emb_product_name_ingredients_text_brands_tags_additives__8', 'emb_product_name_ingredients_text_brands_tags_additives__215', 'emb_product_name_ingredients_text_brands_tags_additives__657', 'emb_product_name_ingredients_text_brands_tags_additives__603', 'emb_product_name_ingredients_text_brands_tags_additives__80', 'emb_product_name_ingredients_text_brands_tags_additives__654', 'emb_product_name_ingredients_text_brands_tags_additives__402', 'emb_product_name_ingredients_text_brands_tags_additives__57', 'emb_product_name_ingredients_text_brands_tags_additives__375', 'emb_product_name_ingredients_text_brands_tags_additives__15', 'emb_product_name_ingredients_text_brands_tags_additives__78', 'emb_product_name_ingredients_text_brands_tags_additives__395', 'emb_product_name_ingredients_text_brands_tags_additives__731', 'emb_product_name_ingredients_text_brands_tags_additives__616', 'emb_product_name_ingredients_text_brands_tags_additives__672', 'emb_product_name_ingredients_text_brands_tags_additives__173', 'emb_product_name_ingredients_text_brands_tags_additives__242', 'emb_product_name_ingredients_text_brands_tags_additives__670', 'emb_product_name_ingredients_text_brands_tags_additives__376', 'emb_product_name_ingredients_text_brands_tags_additives__27', 'emb_product_name_ingredients_text_brands_tags_additives__257', 'emb_product_name_ingredients_text_brands_tags_additives__394', 'emb_product_name_ingredients_text_brands_tags_additives__118', 'emb_product_name_ingredients_text_brands_tags_additives__576', 'emb_product_name_ingredients_text_brands_tags_additives__128', 'emb_product_name_ingredients_text_brands_tags_additives__414', 'emb_product_name_ingredients_text_brands_tags_additives__736', 'emb_product_name_ingredients_text_brands_tags_additives__753', 'emb_product_name_ingredients_text_brands_tags_additives__172', 'emb_product_name_ingredients_text_brands_tags_additives__157', 'emb_product_name_ingredients_text_brands_tags_additives__284', 'emb_product_name_ingredients_text_brands_tags_additives__457', 'emb_product_name_ingredients_text_brands_tags_additives__675', 'emb_product_name_ingredients_text_brands_tags_additives__164', 'emb_product_name_ingredients_text_brands_tags_additives__293', 'emb_product_name_ingredients_text_brands_tags_additives__207', 'emb_product_name_ingredients_text_brands_tags_additives__389', 'emb_product_name_ingredients_text_brands_tags_additives__343', 'emb_product_name_ingredients_text_brands_tags_additives__322', 'emb_product_name_ingredients_text_brands_tags_additives__136', 'emb_product_name_ingredients_text_brands_tags_additives__202', 'emb_product_name_ingredients_text_brands_tags_additives__210', 'emb_product_name_ingredients_text_brands_tags_additives__724', 'emb_product_name_ingredients_text_brands_tags_additives__328', 'emb_product_name_ingredients_text_brands_tags_additives__705', 'emb_product_name_ingredients_text_brands_tags_additives__301', 'emb_product_name_ingredients_text_brands_tags_additives__240', 'emb_product_name_ingredients_text_brands_tags_additives__314', 'emb_product_name_ingredients_text_brands_tags_additives__677', 'emb_product_name_ingredients_text_brands_tags_additives__163', 'emb_product_name_ingredients_text_brands_tags_additives__236', 'emb_product_name_ingredients_text_brands_tags_additives__460', 'emb_product_name_ingredients_text_brands_tags_additives__200', 'emb_product_name_ingredients_text_brands_tags_additives__377', 'emb_product_name_ingredients_text_brands_tags_additives__83', 'emb_product_name_ingredients_text_brands_tags_additives__473', 'emb_product_name_ingredients_text_brands_tags_additives__525', 'emb_product_name_ingredients_text_brands_tags_additives__285', 'emb_product_name_ingredients_text_brands_tags_additives__728', 'emb_product_name_ingredients_text_brands_tags_additives__243', 'emb_product_name_ingredients_text_brands_tags_additives__660', 'emb_product_name_ingredients_text_brands_tags_additives__50', 'emb_product_name_ingredients_text_brands_tags_additives__228', 'emb_product_name_ingredients_text_brands_tags_additives__642', 'emb_product_name_ingredients_text_brands_tags_additives__478', 'emb_product_name_ingredients_text_brands_tags_additives__391', 'emb_product_name_ingredients_text_brands_tags_additives__201', 'emb_product_name_ingredients_text_brands_tags_additives__659', 'emb_product_name_ingredients_text_brands_tags_additives__407', 'emb_product_name_ingredients_text_brands_tags_additives__747', 'emb_product_name_ingredients_text_brands_tags_additives__53', 'emb_product_name_ingredients_text_brands_tags_additives__468', 'emb_product_name_ingredients_text_brands_tags_additives__584', 'emb_product_name_ingredients_text_brands_tags_additives__587', 'emb_product_name_ingredients_text_brands_tags_additives__639', 'emb_product_name_ingredients_text_brands_tags_additives__760', 'emb_product_name_ingredients_text_brands_tags_additives__192', 'emb_product_name_ingredients_text_brands_tags_additives__307', 'emb_product_name_ingredients_text_brands_tags_additives__198', 'emb_product_name_ingredients_text_brands_tags_additives__143', 'emb_product_name_ingredients_text_brands_tags_additives__325', 'emb_product_name_ingredients_text_brands_tags_additives__129', 'emb_product_name_ingredients_text_brands_tags_additives__374', 'emb_product_name_ingredients_text_brands_tags_additives__635', 'emb_product_name_ingredients_text_brands_tags_additives__170', 'emb_product_name_ingredients_text_brands_tags_additives__363', 'emb_product_name_ingredients_text_brands_tags_additives__630', 'emb_product_name_ingredients_text_brands_tags_additives__306', 'emb_product_name_ingredients_text_brands_tags_additives__241', 'emb_product_name_ingredients_text_brands_tags_additives__448', 'emb_product_name_ingredients_text_brands_tags_additives__651', 'emb_product_name_ingredients_text_brands_tags_additives__266', 'emb_product_name_ingredients_text_brands_tags_additives__752', 'emb_product_name_ingredients_text_brands_tags_additives__84', 'emb_product_name_ingredients_text_brands_tags_additives__534', 'emb_product_name_ingredients_text_brands_tags_additives__338', 'emb_product_name_ingredients_text_brands_tags_additives__223', 'emb_product_name_ingredients_text_brands_tags_additives__443', 'emb_product_name_ingredients_text_brands_tags_additives__588', 'emb_product_name_ingredients_text_brands_tags_additives__290', 'emb_product_name_ingredients_text_brands_tags_additives__469', 'emb_product_name_ingredients_text_brands_tags_additives__26', 'emb_product_name_ingredients_text_brands_tags_additives__209', 'emb_product_name_ingredients_text_brands_tags_additives__743', 'emb_product_name_ingredients_text_brands_tags_additives__759', 'emb_product_name_ingredients_text_brands_tags_additives__141', 'emb_product_name_ingredients_text_brands_tags_additives__340', 'emb_product_name_ingredients_text_brands_tags_additives__205', 'emb_product_name_ingredients_text_brands_tags_additives__558', 'emb_product_name_ingredients_text_brands_tags_additives__275', 'emb_product_name_ingredients_text_brands_tags_additives__519', 'emb_product_name_ingredients_text_brands_tags_additives__94', 'emb_product_name_ingredients_text_brands_tags_additives__527', 'emb_product_name_ingredients_text_brands_tags_additives__723', 'emb_product_name_ingredients_text_brands_tags_additives__122', 'emb_product_name_ingredients_text_brands_tags_additives__346', 'emb_product_name_ingredients_text_brands_tags_additives__758', 'emb_product_name_ingredients_text_brands_tags_additives__103', 'emb_product_name_ingredients_text_brands_tags_additives__655', 'emb_product_name_ingredients_text_brands_tags_additives__25', 'emb_product_name_ingredients_text_brands_tags_additives__341', 'emb_product_name_ingredients_text_brands_tags_additives__424', 'emb_product_name_ingredients_text_brands_tags_additives__682', 'emb_product_name_ingredients_text_brands_tags_additives__218', 'emb_product_name_ingredients_text_brands_tags_additives__593', 'emb_product_name_ingredients_text_brands_tags_additives__191', 'emb_product_name_ingredients_text_brands_tags_additives__480', 'ingredients_that_may_be_from_palm_oil_n', 'emb_product_name_ingredients_text_brands_tags_additives__248', 'emb_product_name_ingredients_text_brands_tags_additives__154', 'emb_product_name_ingredients_text_brands_tags_additives__369', 'emb_product_name_ingredients_text_brands_tags_additives__614', 'emb_product_name_ingredients_text_brands_tags_additives__311', 'emb_product_name_ingredients_text_brands_tags_additives__234', 'emb_product_name_ingredients_text_brands_tags_additives__294', 'emb_product_name_ingredients_text_brands_tags_additives__764', 'emb_product_name_ingredients_text_brands_tags_additives__735', 'emb_product_name_ingredients_text_brands_tags_additives__417', 'emb_product_name_ingredients_text_brands_tags_additives__484', 'emb_product_name_ingredients_text_brands_tags_additives__756', 'emb_product_name_ingredients_text_brands_tags_additives__632', 'emb_product_name_ingredients_text_brands_tags_additives__9', 'emb_product_name_ingredients_text_brands_tags_additives__628', 'emb_product_name_ingredients_text_brands_tags_additives__442', 'emb_product_name_ingredients_text_brands_tags_additives__383', 'emb_product_name_ingredients_text_brands_tags_additives__624', 'emb_product_name_ingredients_text_brands_tags_additives__713', 'emb_product_name_ingredients_text_brands_tags_additives__327', 'emb_product_name_ingredients_text_brands_tags_additives__438', 'emb_product_name_ingredients_text_brands_tags_additives__575', 'emb_product_name_ingredients_text_brands_tags_additives__291', 'emb_product_name_ingredients_text_brands_tags_additives__65', 'emb_product_name_ingredients_text_brands_tags_additives__562', 'emb_product_name_ingredients_text_brands_tags_additives__665', 'emb_product_name_ingredients_text_brands_tags_additives__521', 'emb_product_name_ingredients_text_brands_tags_additives__316', 'emb_product_name_ingredients_text_brands_tags_additives__727', 'emb_product_name_ingredients_text_brands_tags_additives__378', 'emb_product_name_ingredients_text_brands_tags_additives__102', 'emb_product_name_ingredients_text_brands_tags_additives__761', 'emb_product_name_ingredients_text_brands_tags_additives__268', 'emb_product_name_ingredients_text_brands_tags_additives__634', 'emb_product_name_ingredients_text_brands_tags_additives__648', 'emb_product_name_ingredients_text_brands_tags_additives__653', 'emb_product_name_ingredients_text_brands_tags_additives__96', 'emb_product_name_ingredients_text_brands_tags_additives__578', 'emb_product_name_ingredients_text_brands_tags_additives__115', 'emb_product_name_ingredients_text_brands_tags_additives__568', 'emb_product_name_ingredients_text_brands_tags_additives__130', 'emb_product_name_ingredients_text_brands_tags_additives__299', 'emb_product_name_ingredients_text_brands_tags_additives__331', 'emb_product_name_ingredients_text_brands_tags_additives__617', 'emb_product_name_ingredients_text_brands_tags_additives__40', 'emb_product_name_ingredients_text_brands_tags_additives__295', 'emb_product_name_ingredients_text_brands_tags_additives__719', 'emb_product_name_ingredients_text_brands_tags_additives__726', 'emb_product_name_ingredients_text_brands_tags_additives__93', 'emb_product_name_ingredients_text_brands_tags_additives__21', 'emb_product_name_ingredients_text_brands_tags_additives__204', 'emb_product_name_ingredients_text_brands_tags_additives__212', 'emb_product_name_ingredients_text_brands_tags_additives__530', 'emb_product_name_ingredients_text_brands_tags_additives__740', 'emb_product_name_ingredients_text_brands_tags_additives__232', 'emb_product_name_ingredients_text_brands_tags_additives__51', 'emb_product_name_ingredients_text_brands_tags_additives__517', 'emb_product_name_ingredients_text_brands_tags_additives__256', 'emb_product_name_ingredients_text_brands_tags_additives__158', 'emb_product_name_ingredients_text_brands_tags_additives__503', 'emb_product_name_ingredients_text_brands_tags_additives__81', 'emb_product_name_ingredients_text_brands_tags_additives__637', 'emb_product_name_ingredients_text_brands_tags_additives__722', 'emb_product_name_ingredients_text_brands_tags_additives__742', 'emb_product_name_ingredients_text_brands_tags_additives__238', 'emb_product_name_ingredients_text_brands_tags_additives__472', 'emb_product_name_ingredients_text_brands_tags_additives__29', 'emb_product_name_ingredients_text_brands_tags_additives__244', 'emb_product_name_ingredients_text_brands_tags_additives__486', 'emb_product_name_ingredients_text_brands_tags_additives__689', 'emb_product_name_ingredients_text_brands_tags_additives__362', 'emb_product_name_ingredients_text_brands_tags_additives__87', 'emb_product_name_ingredients_text_brands_tags_additives__367', 'emb_product_name_ingredients_text_brands_tags_additives__404', 'emb_product_name_ingredients_text_brands_tags_additives__3', 'emb_product_name_ingredients_text_brands_tags_additives__334', 'emb_product_name_ingredients_text_brands_tags_additives__618', 'emb_product_name_ingredients_text_brands_tags_additives__541', 'emb_product_name_ingredients_text_brands_tags_additives__13', 'emb_product_name_ingredients_text_brands_tags_additives__289', 'emb_product_name_ingredients_text_brands_tags_additives__492', 'emb_product_name_ingredients_text_brands_tags_additives__491', 'emb_product_name_ingredients_text_brands_tags_additives__76', 'emb_product_name_ingredients_text_brands_tags_additives__355', 'emb_product_name_ingredients_text_brands_tags_additives__481', 'emb_product_name_ingredients_text_brands_tags_additives__592', 'emb_product_name_ingredients_text_brands_tags_additives__676', 'emb_product_name_ingredients_text_brands_tags_additives__133', 'emb_product_name_ingredients_text_brands_tags_additives__732', 'emb_product_name_ingredients_text_brands_tags_additives__335', 'emb_product_name_ingredients_text_brands_tags_additives__652', 'emb_product_name_ingredients_text_brands_tags_additives__67', 'emb_product_name_ingredients_text_brands_tags_additives__748', 'emb_product_name_ingredients_text_brands_tags_additives__110', 'emb_product_name_ingredients_text_brands_tags_additives__261', 'emb_product_name_ingredients_text_brands_tags_additives__113', 'emb_product_name_ingredients_text_brands_tags_additives__461', 'emb_product_name_ingredients_text_brands_tags_additives__502', 'emb_product_name_ingredients_text_brands_tags_additives__608', 'emb_product_name_ingredients_text_brands_tags_additives__421', 'emb_product_name_ingredients_text_brands_tags_additives__557', 'emb_product_name_ingredients_text_brands_tags_additives__104', 'emb_product_name_ingredients_text_brands_tags_additives__269', 'emb_product_name_ingredients_text_brands_tags_additives__667', 'emb_product_name_ingredients_text_brands_tags_additives__186', 'emb_product_name_ingredients_text_brands_tags_additives__125', 'emb_product_name_ingredients_text_brands_tags_additives__640', 'emb_product_name_ingredients_text_brands_tags_additives__540', 'emb_product_name_ingredients_text_brands_tags_additives__662', 'emb_product_name_ingredients_text_brands_tags_additives__97', 'emb_product_name_ingredients_text_brands_tags_additives__116', 'emb_product_name_ingredients_text_brands_tags_additives__730', 'emb_product_name_ingredients_text_brands_tags_additives__123', 'emb_product_name_ingredients_text_brands_tags_additives__62', 'emb_product_name_ingredients_text_brands_tags_additives__518', 'emb_product_name_ingredients_text_brands_tags_additives__489', 'emb_product_name_ingredients_text_brands_tags_additives__706', 'emb_product_name_ingredients_text_brands_tags_additives__342', 'emb_product_name_ingredients_text_brands_tags_additives__433', 'emb_product_name_ingredients_text_brands_tags_additives__741', 'emb_product_name_ingredients_text_brands_tags_additives__398', 'emb_product_name_ingredients_text_brands_tags_additives__511', 'emb_product_name_ingredients_text_brands_tags_additives__757', 'emb_product_name_ingredients_text_brands_tags_additives__520', 'emb_product_name_ingredients_text_brands_tags_additives__114', 'emb_product_name_ingredients_text_brands_tags_additives__349', 'emb_product_name_ingredients_text_brands_tags_additives__298', 'emb_product_name_ingredients_text_brands_tags_additives__384', 'emb_product_name_ingredients_text_brands_tags_additives__477', 'emb_product_name_ingredients_text_brands_tags_additives__52', 'emb_product_name_ingredients_text_brands_tags_additives__368', 'emb_product_name_ingredients_text_brands_tags_additives__577', 'emb_product_name_ingredients_text_brands_tags_additives__196', 'emb_product_name_ingredients_text_brands_tags_additives__206', 'emb_product_name_ingredients_text_brands_tags_additives__684', 'emb_product_name_ingredients_text_brands_tags_additives__58', 'emb_product_name_ingredients_text_brands_tags_additives__750', 'emb_product_name_ingredients_text_brands_tags_additives__229', 'emb_product_name_ingredients_text_brands_tags_additives__303', 'emb_product_name_ingredients_text_brands_tags_additives__146', 'emb_product_name_ingredients_text_brands_tags_additives__45', 'emb_product_name_ingredients_text_brands_tags_additives__296', 'emb_product_name_ingredients_text_brands_tags_additives__2', 'emb_product_name_ingredients_text_brands_tags_additives__312', 'emb_product_name_ingredients_text_brands_tags_additives__516', 'emb_product_name_ingredients_text_brands_tags_additives__609', 'emb_product_name_ingredients_text_brands_tags_additives__600', 'emb_product_name_ingredients_text_brands_tags_additives__591', 'emb_product_name_ingredients_text_brands_tags_additives__41', 'emb_product_name_ingredients_text_brands_tags_additives__313', 'emb_product_name_ingredients_text_brands_tags_additives__613', 'emb_product_name_ingredients_text_brands_tags_additives__548', 'emb_product_name_ingredients_text_brands_tags_additives__61', 'emb_product_name_ingredients_text_brands_tags_additives__767', 'emb_product_name_ingredients_text_brands_tags_additives__565', 'emb_product_name_ingredients_text_brands_tags_additives__127', 'emb_product_name_ingredients_text_brands_tags_additives__90', 'emb_product_name_ingredients_text_brands_tags_additives__474', 'emb_product_name_ingredients_text_brands_tags_additives__271', 'emb_product_name_ingredients_text_brands_tags_additives__292', 'emb_product_name_ingredients_text_brands_tags_additives__46', 'emb_product_name_ingredients_text_brands_tags_additives__536', 'emb_product_name_ingredients_text_brands_tags_additives__446', 'emb_product_name_ingredients_text_brands_tags_additives__213', 'emb_product_name_ingredients_text_brands_tags_additives__246', 'emb_product_name_ingredients_text_brands_tags_additives__664', 'emb_product_name_ingredients_text_brands_tags_additives__582', 'emb_product_name_ingredients_text_brands_tags_additives__444', 'emb_product_name_ingredients_text_brands_tags_additives__187', 'emb_product_name_ingredients_text_brands_tags_additives__537', 'emb_product_name_ingredients_text_brands_tags_additives__571', 'emb_product_name_ingredients_text_brands_tags_additives__633', 'emb_product_name_ingredients_text_brands_tags_additives__733', 'emb_product_name_ingredients_text_brands_tags_additives__267', 'emb_product_name_ingredients_text_brands_tags_additives__344', 'emb_product_name_ingredients_text_brands_tags_additives__423', 'emb_product_name_ingredients_text_brands_tags_additives__566', 'emb_product_name_ingredients_text_brands_tags_additives__364', 'emb_product_name_ingredients_text_brands_tags_additives__598', 'emb_product_name_ingredients_text_brands_tags_additives__382', 'emb_product_name_ingredients_text_brands_tags_additives__709', 'emb_product_name_ingredients_text_brands_tags_additives__286', 'emb_product_name_ingredients_text_brands_tags_additives__607', 'emb_product_name_ingredients_text_brands_tags_additives__258', 'emb_product_name_ingredients_text_brands_tags_additives__409', 'emb_product_name_ingredients_text_brands_tags_additives__217', 'emb_product_name_ingredients_text_brands_tags_additives__288', 'emb_product_name_ingredients_text_brands_tags_additives__411', 'emb_product_name_ingredients_text_brands_tags_additives__455', 'emb_product_name_ingredients_text_brands_tags_additives__85', 'emb_product_name_ingredients_text_brands_tags_additives__254', 'emb_product_name_ingredients_text_brands_tags_additives__124', 'emb_product_name_ingredients_text_brands_tags_additives__380', 'emb_product_name_ingredients_text_brands_tags_additives__669', 'emb_product_name_ingredients_text_brands_tags_additives__694', 'emb_product_name_ingredients_text_brands_tags_additives__38', 'emb_product_name_ingredients_text_brands_tags_additives__755', 'emb_product_name_ingredients_text_brands_tags_additives__251', 'emb_product_name_ingredients_text_brands_tags_additives__20', 'emb_product_name_ingredients_text_brands_tags_additives__336', 'emb_product_name_ingredients_text_brands_tags_additives__60', 'emb_product_name_ingredients_text_brands_tags_additives__142', 'emb_product_name_ingredients_text_brands_tags_additives__671', 'emb_product_name_ingredients_text_brands_tags_additives__14', 'emb_product_name_ingredients_text_brands_tags_additives__688', 'emb_product_name_ingredients_text_brands_tags_additives__159', 'emb_product_name_ingredients_text_brands_tags_additives__178', 'emb_product_name_ingredients_text_brands_tags_additives__440', 'emb_product_name_ingredients_text_brands_tags_additives__746', 'emb_product_name_ingredients_text_brands_tags_additives__749', 'emb_product_name_ingredients_text_brands_tags_additives__679', 'emb_product_name_ingredients_text_brands_tags_additives__283', 'emb_product_name_ingredients_text_brands_tags_additives__155', 'emb_product_name_ingredients_text_brands_tags_additives__681', 'emb_product_name_ingredients_text_brands_tags_additives__255', 'emb_product_name_ingredients_text_brands_tags_additives__430', 'emb_product_name_ingredients_text_brands_tags_additives__695', 'emb_product_name_ingredients_text_brands_tags_additives__583', 'emb_product_name_ingredients_text_brands_tags_additives__754', 'emb_product_name_ingredients_text_brands_tags_additives__16', 'emb_product_name_ingredients_text_brands_tags_additives__326', 'emb_product_name_ingredients_text_brands_tags_additives__734', 'emb_product_name_ingredients_text_brands_tags_additives__497', 'emb_product_name_ingredients_text_brands_tags_additives__43', 'emb_product_name_ingredients_text_brands_tags_additives__432', 'emb_product_name_ingredients_text_brands_tags_additives__260', 'emb_product_name_ingredients_text_brands_tags_additives__281', 'emb_product_name_ingredients_text_brands_tags_additives__59', 'emb_product_name_ingredients_text_brands_tags_additives__445', 'emb_product_name_ingredients_text_brands_tags_additives__467', 'emb_product_name_ingredients_text_brands_tags_additives__132', 'emb_product_name_ingredients_text_brands_tags_additives__551', 'emb_product_name_ingredients_text_brands_tags_additives__590', 'emb_product_name_ingredients_text_brands_tags_additives__23', 'emb_product_name_ingredients_text_brands_tags_additives__249', 'emb_product_name_ingredients_text_brands_tags_additives__357', 'emb_product_name_ingredients_text_brands_tags_additives__392', 'emb_product_name_ingredients_text_brands_tags_additives__387', 'emb_product_name_ingredients_text_brands_tags_additives__506', 'emb_product_name_ingredients_text_brands_tags_additives__216', 'emb_product_name_ingredients_text_brands_tags_additives__48', 'emb_product_name_ingredients_text_brands_tags_additives__24', 'emb_product_name_ingredients_text_brands_tags_additives__82', 'emb_product_name_ingredients_text_brands_tags_additives__138', 'emb_product_name_ingredients_text_brands_tags_additives__337', 'emb_product_name_ingredients_text_brands_tags_additives__427', 'emb_product_name_ingredients_text_brands_tags_additives__567', 'emb_product_name_ingredients_text_brands_tags_additives__111', 'emb_product_name_ingredients_text_brands_tags_additives__408', 'emb_product_name_ingredients_text_brands_tags_additives__700', 'emb_product_name_ingredients_text_brands_tags_additives__279', 'emb_product_name_ingredients_text_brands_tags_additives__4', 'emb_product_name_ingredients_text_brands_tags_additives__493', 'emb_product_name_ingredients_text_brands_tags_additives__91', 'emb_product_name_ingredients_text_brands_tags_additives__310', 'emb_product_name_ingredients_text_brands_tags_additives__737', 'emb_product_name_ingredients_text_brands_tags_additives__221', 'emb_product_name_ingredients_text_brands_tags_additives__161', 'emb_product_name_ingredients_text_brands_tags_additives__454', 'emb_product_name_ingredients_text_brands_tags_additives__494', 'emb_product_name_ingredients_text_brands_tags_additives__220', 'emb_product_name_ingredients_text_brands_tags_additives__641', 'emb_product_name_ingredients_text_brands_tags_additives__504', 'emb_product_name_ingredients_text_brands_tags_additives__5', 'emb_product_name_ingredients_text_brands_tags_additives__239', 'emb_product_name_ingredients_text_brands_tags_additives__490', 'emb_product_name_ingredients_text_brands_tags_additives__720', 'emb_product_name_ingredients_text_brands_tags_additives__697', 'emb_product_name_ingredients_text_brands_tags_additives__563', 'emb_product_name_ingredients_text_brands_tags_additives__188', 'emb_product_name_ingredients_text_brands_tags_additives__272', 'emb_product_name_ingredients_text_brands_tags_additives__604', 'emb_product_name_ingredients_text_brands_tags_additives__74', 'emb_product_name_ingredients_text_brands_tags_additives__393', 'emb_product_name_ingredients_text_brands_tags_additives__549', 'emb_product_name_ingredients_text_brands_tags_additives__718', 'emb_product_name_ingredients_text_brands_tags_additives__464', 'emb_product_name_ingredients_text_brands_tags_additives__476', 'emb_product_name_ingredients_text_brands_tags_additives__702', 'emb_product_name_ingredients_text_brands_tags_additives__554', 'emb_product_name_ingredients_text_brands_tags_additives__44', 'emb_product_name_ingredients_text_brands_tags_additives__611', 'emb_product_name_ingredients_text_brands_tags_additives__302', 'emb_product_name_ingredients_text_brands_tags_additives__673', 'emb_product_name_ingredients_text_brands_tags_additives__416', 'emb_product_name_ingredients_text_brands_tags_additives__487', 'emb_product_name_ingredients_text_brands_tags_additives__230', 'emb_product_name_ingredients_text_brands_tags_additives__507', 'emb_product_name_ingredients_text_brands_tags_additives__452', 'emb_product_name_ingredients_text_brands_tags_additives__623', 'emb_product_name_ingredients_text_brands_tags_additives__686', 'emb_product_name_ingredients_text_brands_tags_additives__564', 'emb_product_name_ingredients_text_brands_tags_additives__545', 'emb_product_name_ingredients_text_brands_tags_additives__353', 'emb_product_name_ingredients_text_brands_tags_additives__721', 'emb_product_name_ingredients_text_brands_tags_additives__70', 'emb_product_name_ingredients_text_brands_tags_additives__77', 'emb_product_name_ingredients_text_brands_tags_additives__131', 'emb_product_name_ingredients_text_brands_tags_additives__508', 'emb_product_name_ingredients_text_brands_tags_additives__729', 'emb_product_name_ingredients_text_brands_tags_additives__174', 'emb_product_name_ingredients_text_brands_tags_additives__308', 'emb_product_name_ingredients_text_brands_tags_additives__265', 'emb_product_name_ingredients_text_brands_tags_additives__75', 'emb_product_name_ingredients_text_brands_tags_additives__195', 'emb_product_name_ingredients_text_brands_tags_additives__152', 'emb_product_name_ingredients_text_brands_tags_additives__524', 'emb_product_name_ingredients_text_brands_tags_additives__63', 'label_states_en_brands', 'label_states_en_categories', 'label_states_en_characteristics', 'label_states_en_expiration date', 'label_states_en_general_complete', 'label_states_en_ingredients', 'label_pnns_groups_1', 'label_pnns_groups_2', 'label_states_en_packaging', 'label_states_en_packaging-code-', 'label_states_en_photo_upload', 'label_states_en_photo_validate', 'label_states_en_product name', 'label_states_en_quantity']\n",
      "Cat index: [772, 773, 774, 775, 776, 777, 778, 779, 780, 781, 782, 783, 784, 785]\n",
      "---------- Training fold Nº 4 ----------\n",
      "[LightGBM] [Warning] Find whitespaces in feature_names, replace with underlines\n",
      "[LightGBM] [Info] Total Bins 196221\n",
      "[LightGBM] [Info] Number of data points in the train set: 81623, number of used features: 786\n"
     ]
    },
    {
     "name": "stderr",
     "output_type": "stream",
     "text": [
      "/usr/local/lib/python3.6/dist-packages/lightgbm/basic.py:1433: UserWarning: Overriding the parameters from Reference Dataset.\n",
      "  _log_warning('Overriding the parameters from Reference Dataset.')\n",
      "/usr/local/lib/python3.6/dist-packages/lightgbm/basic.py:1245: UserWarning: categorical_column in param dict is overridden.\n",
      "  _log_warning('{} in param dict is overridden.'.format(cat_alias))\n"
     ]
    },
    {
     "name": "stdout",
     "output_type": "stream",
     "text": [
      "[LightGBM] [Warning] Find whitespaces in feature_names, replace with underlines\n",
      "[LightGBM] [Info] Start training from score 9.170344\n",
      "Training until validation scores don't improve for 200 rounds\n",
      "[50]\ttraining's rmse: 6.63308\tvalid_1's rmse: 6.88231\n",
      "[100]\ttraining's rmse: 5.45133\tvalid_1's rmse: 5.762\n",
      "[150]\ttraining's rmse: 4.91604\tvalid_1's rmse: 5.21873\n",
      "[200]\ttraining's rmse: 4.67957\tvalid_1's rmse: 4.95332\n",
      "[250]\ttraining's rmse: 4.57499\tvalid_1's rmse: 4.82635\n",
      "[300]\ttraining's rmse: 4.5254\tvalid_1's rmse: 4.75884\n",
      "[350]\ttraining's rmse: 4.49843\tvalid_1's rmse: 4.72314\n",
      "[400]\ttraining's rmse: 4.48208\tvalid_1's rmse: 4.70244\n",
      "[450]\ttraining's rmse: 4.46997\tvalid_1's rmse: 4.68786\n",
      "[LightGBM] [Warning] No further splits with positive gain, best gain: -inf\n",
      "[500]\ttraining's rmse: 4.46083\tvalid_1's rmse: 4.67864\n",
      "[550]\ttraining's rmse: 4.45279\tvalid_1's rmse: 4.67226\n",
      "[LightGBM] [Warning] No further splits with positive gain, best gain: -inf\n",
      "[600]\ttraining's rmse: 4.44574\tvalid_1's rmse: 4.66909\n",
      "[LightGBM] [Warning] No further splits with positive gain, best gain: -inf\n",
      "[LightGBM] [Warning] No further splits with positive gain, best gain: -inf\n",
      "[LightGBM] [Warning] No further splits with positive gain, best gain: -inf\n",
      "[LightGBM] [Warning] No further splits with positive gain, best gain: -inf\n",
      "[LightGBM] [Warning] No further splits with positive gain, best gain: -inf\n",
      "[LightGBM] [Warning] No further splits with positive gain, best gain: -inf\n",
      "[LightGBM] [Warning] No further splits with positive gain, best gain: -inf\n",
      "[650]\ttraining's rmse: 4.43953\tvalid_1's rmse: 4.667\n",
      "[LightGBM] [Warning] No further splits with positive gain, best gain: -inf\n",
      "[LightGBM] [Warning] No further splits with positive gain, best gain: -inf\n",
      "[LightGBM] [Warning] No further splits with positive gain, best gain: -inf\n",
      "[LightGBM] [Warning] No further splits with positive gain, best gain: -inf\n",
      "[LightGBM] [Warning] No further splits with positive gain, best gain: -inf\n",
      "[LightGBM] [Warning] No further splits with positive gain, best gain: -inf\n",
      "[LightGBM] [Warning] No further splits with positive gain, best gain: -inf\n",
      "[700]\ttraining's rmse: 4.43347\tvalid_1's rmse: 4.66458\n",
      "[LightGBM] [Warning] No further splits with positive gain, best gain: -inf\n",
      "[LightGBM] [Warning] No further splits with positive gain, best gain: -inf\n",
      "[LightGBM] [Warning] No further splits with positive gain, best gain: -inf\n",
      "[LightGBM] [Warning] No further splits with positive gain, best gain: -inf\n",
      "[LightGBM] [Warning] No further splits with positive gain, best gain: -inf\n",
      "[LightGBM] [Warning] No further splits with positive gain, best gain: -inf\n",
      "[LightGBM] [Warning] No further splits with positive gain, best gain: -inf\n",
      "[LightGBM] [Warning] No further splits with positive gain, best gain: -inf\n",
      "[LightGBM] [Warning] No further splits with positive gain, best gain: -inf\n",
      "[LightGBM] [Warning] No further splits with positive gain, best gain: -inf\n",
      "[LightGBM] [Warning] No further splits with positive gain, best gain: -inf\n",
      "[750]\ttraining's rmse: 4.42826\tvalid_1's rmse: 4.6644\n",
      "[LightGBM] [Warning] No further splits with positive gain, best gain: -inf\n",
      "[LightGBM] [Warning] No further splits with positive gain, best gain: -inf\n",
      "[LightGBM] [Warning] No further splits with positive gain, best gain: -inf\n",
      "[LightGBM] [Warning] No further splits with positive gain, best gain: -inf\n",
      "[LightGBM] [Warning] No further splits with positive gain, best gain: -inf\n",
      "[LightGBM] [Warning] No further splits with positive gain, best gain: -inf\n",
      "[LightGBM] [Warning] No further splits with positive gain, best gain: -inf\n",
      "[LightGBM] [Warning] No further splits with positive gain, best gain: -inf\n",
      "[LightGBM] [Warning] No further splits with positive gain, best gain: -inf\n",
      "[LightGBM] [Warning] No further splits with positive gain, best gain: -inf\n",
      "[800]\ttraining's rmse: 4.42291\tvalid_1's rmse: 4.66483\n",
      "[LightGBM] [Warning] No further splits with positive gain, best gain: -inf\n",
      "[LightGBM] [Warning] No further splits with positive gain, best gain: -inf\n",
      "[LightGBM] [Warning] No further splits with positive gain, best gain: -inf\n",
      "[LightGBM] [Warning] No further splits with positive gain, best gain: -inf\n",
      "[LightGBM] [Warning] No further splits with positive gain, best gain: -inf\n",
      "[LightGBM] [Warning] No further splits with positive gain, best gain: -inf\n",
      "[LightGBM] [Warning] No further splits with positive gain, best gain: -inf\n",
      "[LightGBM] [Warning] No further splits with positive gain, best gain: -inf\n",
      "[LightGBM] [Warning] No further splits with positive gain, best gain: -inf\n",
      "[850]\ttraining's rmse: 4.41779\tvalid_1's rmse: 4.66571\n",
      "[LightGBM] [Warning] No further splits with positive gain, best gain: -inf\n",
      "[LightGBM] [Warning] No further splits with positive gain, best gain: -inf\n",
      "[LightGBM] [Warning] No further splits with positive gain, best gain: -inf\n",
      "[LightGBM] [Warning] No further splits with positive gain, best gain: -inf\n",
      "[LightGBM] [Warning] No further splits with positive gain, best gain: -inf\n",
      "[LightGBM] [Warning] No further splits with positive gain, best gain: -inf\n",
      "[900]\ttraining's rmse: 4.41282\tvalid_1's rmse: 4.66442\n",
      "[LightGBM] [Warning] No further splits with positive gain, best gain: -inf\n",
      "[LightGBM] [Warning] No further splits with positive gain, best gain: -inf\n",
      "[LightGBM] [Warning] No further splits with positive gain, best gain: -inf\n",
      "[LightGBM] [Warning] No further splits with positive gain, best gain: -inf\n",
      "[LightGBM] [Warning] No further splits with positive gain, best gain: -inf\n",
      "[LightGBM] [Warning] No further splits with positive gain, best gain: -inf\n",
      "[LightGBM] [Warning] No further splits with positive gain, best gain: -inf\n",
      "[LightGBM] [Warning] No further splits with positive gain, best gain: -inf\n",
      "[LightGBM] [Warning] No further splits with positive gain, best gain: -inf\n",
      "[950]\ttraining's rmse: 4.40774\tvalid_1's rmse: 4.66562\n",
      "[LightGBM] [Warning] No further splits with positive gain, best gain: -inf\n",
      "[LightGBM] [Warning] No further splits with positive gain, best gain: -inf\n",
      "Early stopping, best iteration is:\n",
      "[760]\ttraining's rmse: 4.42711\tvalid_1's rmse: 4.66339\n",
      "Train RMSE: 4.427107958001888        Valida RMSE: 4.663387419316046\n",
      "Columns: ['emb_product_name_ingredients_text_brands_tags_additives__539', 'emb_product_name_ingredients_text_brands_tags_additives__385', 'ingredients_from_palm_oil_n', 'emb_product_name_ingredients_text_brands_tags_additives__165', 'emb_product_name_ingredients_text_brands_tags_additives__572', 'emb_product_name_ingredients_text_brands_tags_additives__589', 'emb_product_name_ingredients_text_brands_tags_additives__211', 'emb_product_name_ingredients_text_brands_tags_additives__601', 'emb_product_name_ingredients_text_brands_tags_additives__300', 'emb_product_name_ingredients_text_brands_tags_additives__237', 'emb_product_name_ingredients_text_brands_tags_additives__22', 'emb_product_name_ingredients_text_brands_tags_additives__73', 'emb_product_name_ingredients_text_brands_tags_additives__167', 'emb_product_name_ingredients_text_brands_tags_additives__203', 'emb_product_name_ingredients_text_brands_tags_additives__574', 'emb_product_name_ingredients_text_brands_tags_additives__112', 'emb_product_name_ingredients_text_brands_tags_additives__462', 'emb_product_name_ingredients_text_brands_tags_additives__36', 'emb_product_name_ingredients_text_brands_tags_additives__64', 'emb_product_name_ingredients_text_brands_tags_additives__185', 'emb_product_name_ingredients_text_brands_tags_additives__100', 'emb_product_name_ingredients_text_brands_tags_additives__550', 'emb_product_name_ingredients_text_brands_tags_additives__691', 'emb_product_name_ingredients_text_brands_tags_additives__698', 'emb_product_name_ingredients_text_brands_tags_additives__182', 'emb_product_name_ingredients_text_brands_tags_additives__263', 'emb_product_name_ingredients_text_brands_tags_additives__396', 'emb_product_name_ingredients_text_brands_tags_additives__479', 'emb_product_name_ingredients_text_brands_tags_additives__56', 'emb_product_name_ingredients_text_brands_tags_additives__465', 'diff_t', 'emb_product_name_ingredients_text_brands_tags_additives__666', 'emb_product_name_ingredients_text_brands_tags_additives__710', 'emb_product_name_ingredients_text_brands_tags_additives__717', 'emb_product_name_ingredients_text_brands_tags_additives__153', 'emb_product_name_ingredients_text_brands_tags_additives__321', 'emb_product_name_ingredients_text_brands_tags_additives__606', 'emb_product_name_ingredients_text_brands_tags_additives__627', 'emb_product_name_ingredients_text_brands_tags_additives__428', 'emb_product_name_ingredients_text_brands_tags_additives__622', 'emb_product_name_ingredients_text_brands_tags_additives__49', 'emb_product_name_ingredients_text_brands_tags_additives__656', 'emb_product_name_ingredients_text_brands_tags_additives__366', 'emb_product_name_ingredients_text_brands_tags_additives__678', 'emb_product_name_ingredients_text_brands_tags_additives__685', 'emb_product_name_ingredients_text_brands_tags_additives__739', 'emb_product_name_ingredients_text_brands_tags_additives__224', 'emb_product_name_ingredients_text_brands_tags_additives__208', 'emb_product_name_ingredients_text_brands_tags_additives__339', 'emb_product_name_ingredients_text_brands_tags_additives__148', 'emb_product_name_ingredients_text_brands_tags_additives__259', 'emb_product_name_ingredients_text_brands_tags_additives__680', 'emb_product_name_ingredients_text_brands_tags_additives__0', 'emb_product_name_ingredients_text_brands_tags_additives__605', 'emb_product_name_ingredients_text_brands_tags_additives__553', 'emb_product_name_ingredients_text_brands_tags_additives__354', 'emb_product_name_ingredients_text_brands_tags_additives__297', 'emb_product_name_ingredients_text_brands_tags_additives__422', 'emb_product_name_ingredients_text_brands_tags_additives__410', 'emb_product_name_ingredients_text_brands_tags_additives__106', 'emb_product_name_ingredients_text_brands_tags_additives__317', 'emb_product_name_ingredients_text_brands_tags_additives__145', 'emb_product_name_ingredients_text_brands_tags_additives__137', 'emb_product_name_ingredients_text_brands_tags_additives__319', 'emb_product_name_ingredients_text_brands_tags_additives__552', 'emb_product_name_ingredients_text_brands_tags_additives__451', 'emb_product_name_ingredients_text_brands_tags_additives__580', 'emb_product_name_ingredients_text_brands_tags_additives__533', 'emb_product_name_ingredients_text_brands_tags_additives__483', 'emb_product_name_ingredients_text_brands_tags_additives__594', 'emb_product_name_ingredients_text_brands_tags_additives__419', 'emb_product_name_ingredients_text_brands_tags_additives__459', 'emb_product_name_ingredients_text_brands_tags_additives__762', 'emb_product_name_ingredients_text_brands_tags_additives__276', 'emb_product_name_ingredients_text_brands_tags_additives__513', 'emb_product_name_ingredients_text_brands_tags_additives__561', 'emb_product_name_ingredients_text_brands_tags_additives__323', 'emb_product_name_ingredients_text_brands_tags_additives__439', 'emb_product_name_ingredients_text_brands_tags_additives__12', 'emb_product_name_ingredients_text_brands_tags_additives__450', 'emb_product_name_ingredients_text_brands_tags_additives__426', 'emb_product_name_ingredients_text_brands_tags_additives__683', 'emb_product_name_ingredients_text_brands_tags_additives__347', 'emb_product_name_ingredients_text_brands_tags_additives__501', 'emb_product_name_ingredients_text_brands_tags_additives__151', 'emb_product_name_ingredients_text_brands_tags_additives__190', 'emb_product_name_ingredients_text_brands_tags_additives__169', 'emb_product_name_ingredients_text_brands_tags_additives__247', 'emb_product_name_ingredients_text_brands_tags_additives__147', 'emb_product_name_ingredients_text_brands_tags_additives__528', 'emb_product_name_ingredients_text_brands_tags_additives__72', 'emb_product_name_ingredients_text_brands_tags_additives__371', 'emb_product_name_ingredients_text_brands_tags_additives__324', 'emb_product_name_ingredients_text_brands_tags_additives__99', 'emb_product_name_ingredients_text_brands_tags_additives__405', 'emb_product_name_ingredients_text_brands_tags_additives__569', 'emb_product_name_ingredients_text_brands_tags_additives__496', 'emb_product_name_ingredients_text_brands_tags_additives__7', 'emb_product_name_ingredients_text_brands_tags_additives__636', 'emb_product_name_ingredients_text_brands_tags_additives__625', 'emb_product_name_ingredients_text_brands_tags_additives__252', 'emb_product_name_ingredients_text_brands_tags_additives__287', 'emb_product_name_ingredients_text_brands_tags_additives__510', 'emb_product_name_ingredients_text_brands_tags_additives__189', 'emb_product_name_ingredients_text_brands_tags_additives__32', 'emb_product_name_ingredients_text_brands_tags_additives__226', 'emb_product_name_ingredients_text_brands_tags_additives__431', 'emb_product_name_ingredients_text_brands_tags_additives__245', 'emb_product_name_ingredients_text_brands_tags_additives__766', 'emb_product_name_ingredients_text_brands_tags_additives__500', 'emb_product_name_ingredients_text_brands_tags_additives__193', 'emb_product_name_ingredients_text_brands_tags_additives__318', 'emb_product_name_ingredients_text_brands_tags_additives__522', 'emb_product_name_ingredients_text_brands_tags_additives__88', 'emb_product_name_ingredients_text_brands_tags_additives__581', 'emb_product_name_ingredients_text_brands_tags_additives__650', 'emb_product_name_ingredients_text_brands_tags_additives__668', 'emb_product_name_ingredients_text_brands_tags_additives__699', 'emb_product_name_ingredients_text_brands_tags_additives__30', 'emb_product_name_ingredients_text_brands_tags_additives__602', 'emb_product_name_ingredients_text_brands_tags_additives__744', 'emb_product_name_ingredients_text_brands_tags_additives__71', 'emb_product_name_ingredients_text_brands_tags_additives__47', 'emb_product_name_ingredients_text_brands_tags_additives__35', 'emb_product_name_ingredients_text_brands_tags_additives__663', 'emb_product_name_ingredients_text_brands_tags_additives__54', 'emb_product_name_ingredients_text_brands_tags_additives__156', 'emb_product_name_ingredients_text_brands_tags_additives__359', 'emb_product_name_ingredients_text_brands_tags_additives__449', 'emb_product_name_ingredients_text_brands_tags_additives__471', 'emb_product_name_ingredients_text_brands_tags_additives__615', 'emb_product_name_ingredients_text_brands_tags_additives__214', 'emb_product_name_ingredients_text_brands_tags_additives__352', 'emb_product_name_ingredients_text_brands_tags_additives__523', 'emb_product_name_ingredients_text_brands_tags_additives__674', 'emb_product_name_ingredients_text_brands_tags_additives__696', 'emb_product_name_ingredients_text_brands_tags_additives__441', 'emb_product_name_ingredients_text_brands_tags_additives__725', 'emb_product_name_ingredients_text_brands_tags_additives__68', 'emb_product_name_ingredients_text_brands_tags_additives__658', 'emb_product_name_ingredients_text_brands_tags_additives__28', 'emb_product_name_ingredients_text_brands_tags_additives__406', 'emb_product_name_ingredients_text_brands_tags_additives__107', 'emb_product_name_ingredients_text_brands_tags_additives__542', 'emb_product_name_ingredients_text_brands_tags_additives__579', 'emb_product_name_ingredients_text_brands_tags_additives__647', 'emb_product_name_ingredients_text_brands_tags_additives__6', 'emb_product_name_ingredients_text_brands_tags_additives__140', 'emb_product_name_ingredients_text_brands_tags_additives__219', 'emb_product_name_ingredients_text_brands_tags_additives__597', 'emb_product_name_ingredients_text_brands_tags_additives__264', 'emb_product_name_ingredients_text_brands_tags_additives__466', 'emb_product_name_ingredients_text_brands_tags_additives__643', 'emb_product_name_ingredients_text_brands_tags_additives__512', 'emb_product_name_ingredients_text_brands_tags_additives__108', 'emb_product_name_ingredients_text_brands_tags_additives__401', 'emb_product_name_ingredients_text_brands_tags_additives__144', 'emb_product_name_ingredients_text_brands_tags_additives__149', 'emb_product_name_ingredients_text_brands_tags_additives__429', 'emb_product_name_ingredients_text_brands_tags_additives__763', 'emb_product_name_ingredients_text_brands_tags_additives__529', 'emb_product_name_ingredients_text_brands_tags_additives__690', 'emb_product_name_ingredients_text_brands_tags_additives__399', 'emb_product_name_ingredients_text_brands_tags_additives__418', 'emb_product_name_ingredients_text_brands_tags_additives__475', 'emb_product_name_ingredients_text_brands_tags_additives__765', 'emb_product_name_ingredients_text_brands_tags_additives__199', 'emb_product_name_ingredients_text_brands_tags_additives__162', 'emb_product_name_ingredients_text_brands_tags_additives__18', 'emb_product_name_ingredients_text_brands_tags_additives__175', 'emb_product_name_ingredients_text_brands_tags_additives__176', 'emb_product_name_ingredients_text_brands_tags_additives__531', 'emb_product_name_ingredients_text_brands_tags_additives__644', 'emb_product_name_ingredients_text_brands_tags_additives__360', 'emb_product_name_ingredients_text_brands_tags_additives__358', 'emb_product_name_ingredients_text_brands_tags_additives__560', 'emb_product_name_ingredients_text_brands_tags_additives__350', 'emb_product_name_ingredients_text_brands_tags_additives__738', 'emb_product_name_ingredients_text_brands_tags_additives__69', 'emb_product_name_ingredients_text_brands_tags_additives__547', 'emb_product_name_ingredients_text_brands_tags_additives__711', 'emb_product_name_ingredients_text_brands_tags_additives__304', 'emb_product_name_ingredients_text_brands_tags_additives__420', 'emb_product_name_ingredients_text_brands_tags_additives__356', 'emb_product_name_ingredients_text_brands_tags_additives__631', 'emb_product_name_ingredients_text_brands_tags_additives__17', 'emb_product_name_ingredients_text_brands_tags_additives__126', 'emb_product_name_ingredients_text_brands_tags_additives__351', 'emb_product_name_ingredients_text_brands_tags_additives__105', 'emb_product_name_ingredients_text_brands_tags_additives__31', 'emb_product_name_ingredients_text_brands_tags_additives__716', 'emb_product_name_ingredients_text_brands_tags_additives__66', 'emb_product_name_ingredients_text_brands_tags_additives__413', 'emb_product_name_ingredients_text_brands_tags_additives__330', 'emb_product_name_ingredients_text_brands_tags_additives__532', 'emb_product_name_ingredients_text_brands_tags_additives__612', 'emb_product_name_ingredients_text_brands_tags_additives__270', 'emb_product_name_ingredients_text_brands_tags_additives__570', 'emb_product_name_ingredients_text_brands_tags_additives__89', 'emb_product_name_ingredients_text_brands_tags_additives__412', 'emb_product_name_ingredients_text_brands_tags_additives__390', 'emb_product_name_ingredients_text_brands_tags_additives__596', 'emb_product_name_ingredients_text_brands_tags_additives__434', 'emb_product_name_ingredients_text_brands_tags_additives__231', 'emb_product_name_ingredients_text_brands_tags_additives__320', 'emb_product_name_ingredients_text_brands_tags_additives__515', 'emb_product_name_ingredients_text_brands_tags_additives__42', 'emb_product_name_ingredients_text_brands_tags_additives__499', 'emb_product_name_ingredients_text_brands_tags_additives__329', 'emb_product_name_ingredients_text_brands_tags_additives__379', 'emb_product_name_ingredients_text_brands_tags_additives__184', 'emb_product_name_ingredients_text_brands_tags_additives__453', 'emb_product_name_ingredients_text_brands_tags_additives__435', 'emb_product_name_ingredients_text_brands_tags_additives__661', 'emb_product_name_ingredients_text_brands_tags_additives__715', 'emb_product_name_ingredients_text_brands_tags_additives__638', 'emb_product_name_ingredients_text_brands_tags_additives__134', 'emb_product_name_ingredients_text_brands_tags_additives__135', 'emb_product_name_ingredients_text_brands_tags_additives__693', 'emb_product_name_ingredients_text_brands_tags_additives__139', 'emb_product_name_ingredients_text_brands_tags_additives__33', 'emb_product_name_ingredients_text_brands_tags_additives__222', 'emb_product_name_ingredients_text_brands_tags_additives__117', 'emb_product_name_ingredients_text_brands_tags_additives__179', 'emb_product_name_ingredients_text_brands_tags_additives__619', 'emb_product_name_ingredients_text_brands_tags_additives__37', 'emb_product_name_ingredients_text_brands_tags_additives__526', 'emb_product_name_ingredients_text_brands_tags_additives__708', 'emb_product_name_ingredients_text_brands_tags_additives__535', 'emb_product_name_ingredients_text_brands_tags_additives__595', 'emb_product_name_ingredients_text_brands_tags_additives__388', 'emb_product_name_ingredients_text_brands_tags_additives__629', 'emb_product_name_ingredients_text_brands_tags_additives__559', 'emb_product_name_ingredients_text_brands_tags_additives__235', 'emb_product_name_ingredients_text_brands_tags_additives__168', 'emb_product_name_ingredients_text_brands_tags_additives__556', 'emb_product_name_ingredients_text_brands_tags_additives__120', 'emb_product_name_ingredients_text_brands_tags_additives__250', 'emb_product_name_ingredients_text_brands_tags_additives__586', 'emb_product_name_ingredients_text_brands_tags_additives__92', 'emb_product_name_ingredients_text_brands_tags_additives__274', 'emb_product_name_ingredients_text_brands_tags_additives__150', 'emb_product_name_ingredients_text_brands_tags_additives__333', 'emb_product_name_ingredients_text_brands_tags_additives__19', 'emb_product_name_ingredients_text_brands_tags_additives__345', 'emb_product_name_ingredients_text_brands_tags_additives__365', 'emb_product_name_ingredients_text_brands_tags_additives__372', 'emb_product_name_ingredients_text_brands_tags_additives__121', 'emb_product_name_ingredients_text_brands_tags_additives__495', 'emb_product_name_ingredients_text_brands_tags_additives__447', 'emb_product_name_ingredients_text_brands_tags_additives__621', 'emb_product_name_ingredients_text_brands_tags_additives__197', 'emb_product_name_ingredients_text_brands_tags_additives__194', 'emb_product_name_ingredients_text_brands_tags_additives__79', 'emb_product_name_ingredients_text_brands_tags_additives__649', 'emb_product_name_ingredients_text_brands_tags_additives__514', 'emb_product_name_ingredients_text_brands_tags_additives__505', 'emb_product_name_ingredients_text_brands_tags_additives__610', 'emb_product_name_ingredients_text_brands_tags_additives__701', 'emb_product_name_ingredients_text_brands_tags_additives__415', 'emb_product_name_ingredients_text_brands_tags_additives__280', 'additives_n', 'emb_product_name_ingredients_text_brands_tags_additives__273', 'emb_product_name_ingredients_text_brands_tags_additives__620', 'emb_product_name_ingredients_text_brands_tags_additives__282', 'emb_product_name_ingredients_text_brands_tags_additives__10', 'emb_product_name_ingredients_text_brands_tags_additives__687', 'emb_product_name_ingredients_text_brands_tags_additives__745', 'emb_product_name_ingredients_text_brands_tags_additives__397', 'emb_product_name_ingredients_text_brands_tags_additives__315', 'emb_product_name_ingredients_text_brands_tags_additives__538', 'emb_product_name_ingredients_text_brands_tags_additives__712', 'emb_product_name_ingredients_text_brands_tags_additives__183', 'emb_product_name_ingredients_text_brands_tags_additives__119', 'emb_product_name_ingredients_text_brands_tags_additives__707', 'emb_product_name_ingredients_text_brands_tags_additives__425', 'emb_product_name_ingredients_text_brands_tags_additives__332', 'emb_product_name_ingredients_text_brands_tags_additives__253', 'emb_product_name_ingredients_text_brands_tags_additives__370', 'emb_product_name_ingredients_text_brands_tags_additives__482', 'emb_product_name_ingredients_text_brands_tags_additives__278', 'emb_product_name_ingredients_text_brands_tags_additives__400', 'emb_product_name_ingredients_text_brands_tags_additives__543', 'emb_product_name_ingredients_text_brands_tags_additives__373', 'emb_product_name_ingredients_text_brands_tags_additives__585', 'emb_product_name_ingredients_text_brands_tags_additives__11', 'emb_product_name_ingredients_text_brands_tags_additives__386', 'emb_product_name_ingredients_text_brands_tags_additives__403', 'emb_product_name_ingredients_text_brands_tags_additives__498', 'emb_product_name_ingredients_text_brands_tags_additives__160', 'emb_product_name_ingredients_text_brands_tags_additives__436', 'emb_product_name_ingredients_text_brands_tags_additives__109', 'emb_product_name_ingredients_text_brands_tags_additives__463', 'emb_product_name_ingredients_text_brands_tags_additives__626', 'emb_product_name_ingredients_text_brands_tags_additives__39', 'emb_product_name_ingredients_text_brands_tags_additives__171', 'emb_product_name_ingredients_text_brands_tags_additives__381', 'emb_product_name_ingredients_text_brands_tags_additives__95', 'emb_product_name_ingredients_text_brands_tags_additives__166', 'emb_product_name_ingredients_text_brands_tags_additives__456', 'emb_product_name_ingredients_text_brands_tags_additives__437', 'emb_product_name_ingredients_text_brands_tags_additives__703', 'emb_product_name_ingredients_text_brands_tags_additives__470', 'emb_product_name_ingredients_text_brands_tags_additives__546', 'emb_product_name_ingredients_text_brands_tags_additives__86', 'emb_product_name_ingredients_text_brands_tags_additives__458', 'emb_product_name_ingredients_text_brands_tags_additives__751', 'emb_product_name_ingredients_text_brands_tags_additives__599', 'emb_product_name_ingredients_text_brands_tags_additives__509', 'emb_product_name_ingredients_text_brands_tags_additives__180', 'emb_product_name_ingredients_text_brands_tags_additives__555', 'emb_product_name_ingredients_text_brands_tags_additives__348', 'emb_product_name_ingredients_text_brands_tags_additives__55', 'emb_product_name_ingredients_text_brands_tags_additives__34', 'emb_product_name_ingredients_text_brands_tags_additives__277', 'emb_product_name_ingredients_text_brands_tags_additives__177', 'emb_product_name_ingredients_text_brands_tags_additives__645', 'emb_product_name_ingredients_text_brands_tags_additives__181', 'emb_product_name_ingredients_text_brands_tags_additives__262', 'emb_product_name_ingredients_text_brands_tags_additives__101', 'emb_product_name_ingredients_text_brands_tags_additives__488', 'emb_product_name_ingredients_text_brands_tags_additives__309', 'emb_product_name_ingredients_text_brands_tags_additives__573', 'emb_product_name_ingredients_text_brands_tags_additives__305', 'emb_product_name_ingredients_text_brands_tags_additives__704', 'emb_product_name_ingredients_text_brands_tags_additives__227', 'emb_product_name_ingredients_text_brands_tags_additives__646', 'emb_product_name_ingredients_text_brands_tags_additives__98', 'emb_product_name_ingredients_text_brands_tags_additives__714', 'emb_product_name_ingredients_text_brands_tags_additives__544', 'emb_product_name_ingredients_text_brands_tags_additives__361', 'emb_product_name_ingredients_text_brands_tags_additives__1', 'emb_product_name_ingredients_text_brands_tags_additives__225', 'emb_product_name_ingredients_text_brands_tags_additives__485', 'emb_product_name_ingredients_text_brands_tags_additives__692', 'emb_product_name_ingredients_text_brands_tags_additives__233', 'emb_product_name_ingredients_text_brands_tags_additives__8', 'emb_product_name_ingredients_text_brands_tags_additives__215', 'emb_product_name_ingredients_text_brands_tags_additives__657', 'emb_product_name_ingredients_text_brands_tags_additives__603', 'emb_product_name_ingredients_text_brands_tags_additives__80', 'emb_product_name_ingredients_text_brands_tags_additives__654', 'emb_product_name_ingredients_text_brands_tags_additives__402', 'emb_product_name_ingredients_text_brands_tags_additives__57', 'emb_product_name_ingredients_text_brands_tags_additives__375', 'emb_product_name_ingredients_text_brands_tags_additives__15', 'emb_product_name_ingredients_text_brands_tags_additives__78', 'emb_product_name_ingredients_text_brands_tags_additives__395', 'emb_product_name_ingredients_text_brands_tags_additives__731', 'emb_product_name_ingredients_text_brands_tags_additives__616', 'emb_product_name_ingredients_text_brands_tags_additives__672', 'emb_product_name_ingredients_text_brands_tags_additives__173', 'emb_product_name_ingredients_text_brands_tags_additives__242', 'emb_product_name_ingredients_text_brands_tags_additives__670', 'emb_product_name_ingredients_text_brands_tags_additives__376', 'emb_product_name_ingredients_text_brands_tags_additives__27', 'emb_product_name_ingredients_text_brands_tags_additives__257', 'emb_product_name_ingredients_text_brands_tags_additives__394', 'emb_product_name_ingredients_text_brands_tags_additives__118', 'emb_product_name_ingredients_text_brands_tags_additives__576', 'emb_product_name_ingredients_text_brands_tags_additives__128', 'emb_product_name_ingredients_text_brands_tags_additives__414', 'emb_product_name_ingredients_text_brands_tags_additives__736', 'emb_product_name_ingredients_text_brands_tags_additives__753', 'emb_product_name_ingredients_text_brands_tags_additives__172', 'emb_product_name_ingredients_text_brands_tags_additives__157', 'emb_product_name_ingredients_text_brands_tags_additives__284', 'emb_product_name_ingredients_text_brands_tags_additives__457', 'emb_product_name_ingredients_text_brands_tags_additives__675', 'emb_product_name_ingredients_text_brands_tags_additives__164', 'emb_product_name_ingredients_text_brands_tags_additives__293', 'emb_product_name_ingredients_text_brands_tags_additives__207', 'emb_product_name_ingredients_text_brands_tags_additives__389', 'emb_product_name_ingredients_text_brands_tags_additives__343', 'emb_product_name_ingredients_text_brands_tags_additives__322', 'emb_product_name_ingredients_text_brands_tags_additives__136', 'emb_product_name_ingredients_text_brands_tags_additives__202', 'emb_product_name_ingredients_text_brands_tags_additives__210', 'emb_product_name_ingredients_text_brands_tags_additives__724', 'emb_product_name_ingredients_text_brands_tags_additives__328', 'emb_product_name_ingredients_text_brands_tags_additives__705', 'emb_product_name_ingredients_text_brands_tags_additives__301', 'emb_product_name_ingredients_text_brands_tags_additives__240', 'emb_product_name_ingredients_text_brands_tags_additives__314', 'emb_product_name_ingredients_text_brands_tags_additives__677', 'emb_product_name_ingredients_text_brands_tags_additives__163', 'emb_product_name_ingredients_text_brands_tags_additives__236', 'emb_product_name_ingredients_text_brands_tags_additives__460', 'emb_product_name_ingredients_text_brands_tags_additives__200', 'emb_product_name_ingredients_text_brands_tags_additives__377', 'emb_product_name_ingredients_text_brands_tags_additives__83', 'emb_product_name_ingredients_text_brands_tags_additives__473', 'emb_product_name_ingredients_text_brands_tags_additives__525', 'emb_product_name_ingredients_text_brands_tags_additives__285', 'emb_product_name_ingredients_text_brands_tags_additives__728', 'emb_product_name_ingredients_text_brands_tags_additives__243', 'emb_product_name_ingredients_text_brands_tags_additives__660', 'emb_product_name_ingredients_text_brands_tags_additives__50', 'emb_product_name_ingredients_text_brands_tags_additives__228', 'emb_product_name_ingredients_text_brands_tags_additives__642', 'emb_product_name_ingredients_text_brands_tags_additives__478', 'emb_product_name_ingredients_text_brands_tags_additives__391', 'emb_product_name_ingredients_text_brands_tags_additives__201', 'emb_product_name_ingredients_text_brands_tags_additives__659', 'emb_product_name_ingredients_text_brands_tags_additives__407', 'emb_product_name_ingredients_text_brands_tags_additives__747', 'emb_product_name_ingredients_text_brands_tags_additives__53', 'emb_product_name_ingredients_text_brands_tags_additives__468', 'emb_product_name_ingredients_text_brands_tags_additives__584', 'emb_product_name_ingredients_text_brands_tags_additives__587', 'emb_product_name_ingredients_text_brands_tags_additives__639', 'emb_product_name_ingredients_text_brands_tags_additives__760', 'emb_product_name_ingredients_text_brands_tags_additives__192', 'emb_product_name_ingredients_text_brands_tags_additives__307', 'emb_product_name_ingredients_text_brands_tags_additives__198', 'emb_product_name_ingredients_text_brands_tags_additives__143', 'emb_product_name_ingredients_text_brands_tags_additives__325', 'emb_product_name_ingredients_text_brands_tags_additives__129', 'emb_product_name_ingredients_text_brands_tags_additives__374', 'emb_product_name_ingredients_text_brands_tags_additives__635', 'emb_product_name_ingredients_text_brands_tags_additives__170', 'emb_product_name_ingredients_text_brands_tags_additives__363', 'emb_product_name_ingredients_text_brands_tags_additives__630', 'emb_product_name_ingredients_text_brands_tags_additives__306', 'emb_product_name_ingredients_text_brands_tags_additives__241', 'emb_product_name_ingredients_text_brands_tags_additives__448', 'emb_product_name_ingredients_text_brands_tags_additives__651', 'emb_product_name_ingredients_text_brands_tags_additives__266', 'emb_product_name_ingredients_text_brands_tags_additives__752', 'emb_product_name_ingredients_text_brands_tags_additives__84', 'emb_product_name_ingredients_text_brands_tags_additives__534', 'emb_product_name_ingredients_text_brands_tags_additives__338', 'emb_product_name_ingredients_text_brands_tags_additives__223', 'emb_product_name_ingredients_text_brands_tags_additives__443', 'emb_product_name_ingredients_text_brands_tags_additives__588', 'emb_product_name_ingredients_text_brands_tags_additives__290', 'emb_product_name_ingredients_text_brands_tags_additives__469', 'emb_product_name_ingredients_text_brands_tags_additives__26', 'emb_product_name_ingredients_text_brands_tags_additives__209', 'emb_product_name_ingredients_text_brands_tags_additives__743', 'emb_product_name_ingredients_text_brands_tags_additives__759', 'emb_product_name_ingredients_text_brands_tags_additives__141', 'emb_product_name_ingredients_text_brands_tags_additives__340', 'emb_product_name_ingredients_text_brands_tags_additives__205', 'emb_product_name_ingredients_text_brands_tags_additives__558', 'emb_product_name_ingredients_text_brands_tags_additives__275', 'emb_product_name_ingredients_text_brands_tags_additives__519', 'emb_product_name_ingredients_text_brands_tags_additives__94', 'emb_product_name_ingredients_text_brands_tags_additives__527', 'emb_product_name_ingredients_text_brands_tags_additives__723', 'emb_product_name_ingredients_text_brands_tags_additives__122', 'emb_product_name_ingredients_text_brands_tags_additives__346', 'emb_product_name_ingredients_text_brands_tags_additives__758', 'emb_product_name_ingredients_text_brands_tags_additives__103', 'emb_product_name_ingredients_text_brands_tags_additives__655', 'emb_product_name_ingredients_text_brands_tags_additives__25', 'emb_product_name_ingredients_text_brands_tags_additives__341', 'emb_product_name_ingredients_text_brands_tags_additives__424', 'emb_product_name_ingredients_text_brands_tags_additives__682', 'emb_product_name_ingredients_text_brands_tags_additives__218', 'emb_product_name_ingredients_text_brands_tags_additives__593', 'emb_product_name_ingredients_text_brands_tags_additives__191', 'emb_product_name_ingredients_text_brands_tags_additives__480', 'ingredients_that_may_be_from_palm_oil_n', 'emb_product_name_ingredients_text_brands_tags_additives__248', 'emb_product_name_ingredients_text_brands_tags_additives__154', 'emb_product_name_ingredients_text_brands_tags_additives__369', 'emb_product_name_ingredients_text_brands_tags_additives__614', 'emb_product_name_ingredients_text_brands_tags_additives__311', 'emb_product_name_ingredients_text_brands_tags_additives__234', 'emb_product_name_ingredients_text_brands_tags_additives__294', 'emb_product_name_ingredients_text_brands_tags_additives__764', 'emb_product_name_ingredients_text_brands_tags_additives__735', 'emb_product_name_ingredients_text_brands_tags_additives__417', 'emb_product_name_ingredients_text_brands_tags_additives__484', 'emb_product_name_ingredients_text_brands_tags_additives__756', 'emb_product_name_ingredients_text_brands_tags_additives__632', 'emb_product_name_ingredients_text_brands_tags_additives__9', 'emb_product_name_ingredients_text_brands_tags_additives__628', 'emb_product_name_ingredients_text_brands_tags_additives__442', 'emb_product_name_ingredients_text_brands_tags_additives__383', 'emb_product_name_ingredients_text_brands_tags_additives__624', 'emb_product_name_ingredients_text_brands_tags_additives__713', 'emb_product_name_ingredients_text_brands_tags_additives__327', 'emb_product_name_ingredients_text_brands_tags_additives__438', 'emb_product_name_ingredients_text_brands_tags_additives__575', 'emb_product_name_ingredients_text_brands_tags_additives__291', 'emb_product_name_ingredients_text_brands_tags_additives__65', 'emb_product_name_ingredients_text_brands_tags_additives__562', 'emb_product_name_ingredients_text_brands_tags_additives__665', 'emb_product_name_ingredients_text_brands_tags_additives__521', 'emb_product_name_ingredients_text_brands_tags_additives__316', 'emb_product_name_ingredients_text_brands_tags_additives__727', 'emb_product_name_ingredients_text_brands_tags_additives__378', 'emb_product_name_ingredients_text_brands_tags_additives__102', 'emb_product_name_ingredients_text_brands_tags_additives__761', 'emb_product_name_ingredients_text_brands_tags_additives__268', 'emb_product_name_ingredients_text_brands_tags_additives__634', 'emb_product_name_ingredients_text_brands_tags_additives__648', 'emb_product_name_ingredients_text_brands_tags_additives__653', 'emb_product_name_ingredients_text_brands_tags_additives__96', 'emb_product_name_ingredients_text_brands_tags_additives__578', 'emb_product_name_ingredients_text_brands_tags_additives__115', 'emb_product_name_ingredients_text_brands_tags_additives__568', 'emb_product_name_ingredients_text_brands_tags_additives__130', 'emb_product_name_ingredients_text_brands_tags_additives__299', 'emb_product_name_ingredients_text_brands_tags_additives__331', 'emb_product_name_ingredients_text_brands_tags_additives__617', 'emb_product_name_ingredients_text_brands_tags_additives__40', 'emb_product_name_ingredients_text_brands_tags_additives__295', 'emb_product_name_ingredients_text_brands_tags_additives__719', 'emb_product_name_ingredients_text_brands_tags_additives__726', 'emb_product_name_ingredients_text_brands_tags_additives__93', 'emb_product_name_ingredients_text_brands_tags_additives__21', 'emb_product_name_ingredients_text_brands_tags_additives__204', 'emb_product_name_ingredients_text_brands_tags_additives__212', 'emb_product_name_ingredients_text_brands_tags_additives__530', 'emb_product_name_ingredients_text_brands_tags_additives__740', 'emb_product_name_ingredients_text_brands_tags_additives__232', 'emb_product_name_ingredients_text_brands_tags_additives__51', 'emb_product_name_ingredients_text_brands_tags_additives__517', 'emb_product_name_ingredients_text_brands_tags_additives__256', 'emb_product_name_ingredients_text_brands_tags_additives__158', 'emb_product_name_ingredients_text_brands_tags_additives__503', 'emb_product_name_ingredients_text_brands_tags_additives__81', 'emb_product_name_ingredients_text_brands_tags_additives__637', 'emb_product_name_ingredients_text_brands_tags_additives__722', 'emb_product_name_ingredients_text_brands_tags_additives__742', 'emb_product_name_ingredients_text_brands_tags_additives__238', 'emb_product_name_ingredients_text_brands_tags_additives__472', 'emb_product_name_ingredients_text_brands_tags_additives__29', 'emb_product_name_ingredients_text_brands_tags_additives__244', 'emb_product_name_ingredients_text_brands_tags_additives__486', 'emb_product_name_ingredients_text_brands_tags_additives__689', 'emb_product_name_ingredients_text_brands_tags_additives__362', 'emb_product_name_ingredients_text_brands_tags_additives__87', 'emb_product_name_ingredients_text_brands_tags_additives__367', 'emb_product_name_ingredients_text_brands_tags_additives__404', 'emb_product_name_ingredients_text_brands_tags_additives__3', 'emb_product_name_ingredients_text_brands_tags_additives__334', 'emb_product_name_ingredients_text_brands_tags_additives__618', 'emb_product_name_ingredients_text_brands_tags_additives__541', 'emb_product_name_ingredients_text_brands_tags_additives__13', 'emb_product_name_ingredients_text_brands_tags_additives__289', 'emb_product_name_ingredients_text_brands_tags_additives__492', 'emb_product_name_ingredients_text_brands_tags_additives__491', 'emb_product_name_ingredients_text_brands_tags_additives__76', 'emb_product_name_ingredients_text_brands_tags_additives__355', 'emb_product_name_ingredients_text_brands_tags_additives__481', 'emb_product_name_ingredients_text_brands_tags_additives__592', 'emb_product_name_ingredients_text_brands_tags_additives__676', 'emb_product_name_ingredients_text_brands_tags_additives__133', 'emb_product_name_ingredients_text_brands_tags_additives__732', 'emb_product_name_ingredients_text_brands_tags_additives__335', 'emb_product_name_ingredients_text_brands_tags_additives__652', 'emb_product_name_ingredients_text_brands_tags_additives__67', 'emb_product_name_ingredients_text_brands_tags_additives__748', 'emb_product_name_ingredients_text_brands_tags_additives__110', 'emb_product_name_ingredients_text_brands_tags_additives__261', 'emb_product_name_ingredients_text_brands_tags_additives__113', 'emb_product_name_ingredients_text_brands_tags_additives__461', 'emb_product_name_ingredients_text_brands_tags_additives__502', 'emb_product_name_ingredients_text_brands_tags_additives__608', 'emb_product_name_ingredients_text_brands_tags_additives__421', 'emb_product_name_ingredients_text_brands_tags_additives__557', 'emb_product_name_ingredients_text_brands_tags_additives__104', 'emb_product_name_ingredients_text_brands_tags_additives__269', 'emb_product_name_ingredients_text_brands_tags_additives__667', 'emb_product_name_ingredients_text_brands_tags_additives__186', 'emb_product_name_ingredients_text_brands_tags_additives__125', 'emb_product_name_ingredients_text_brands_tags_additives__640', 'emb_product_name_ingredients_text_brands_tags_additives__540', 'emb_product_name_ingredients_text_brands_tags_additives__662', 'emb_product_name_ingredients_text_brands_tags_additives__97', 'emb_product_name_ingredients_text_brands_tags_additives__116', 'emb_product_name_ingredients_text_brands_tags_additives__730', 'emb_product_name_ingredients_text_brands_tags_additives__123', 'emb_product_name_ingredients_text_brands_tags_additives__62', 'emb_product_name_ingredients_text_brands_tags_additives__518', 'emb_product_name_ingredients_text_brands_tags_additives__489', 'emb_product_name_ingredients_text_brands_tags_additives__706', 'emb_product_name_ingredients_text_brands_tags_additives__342', 'emb_product_name_ingredients_text_brands_tags_additives__433', 'emb_product_name_ingredients_text_brands_tags_additives__741', 'emb_product_name_ingredients_text_brands_tags_additives__398', 'emb_product_name_ingredients_text_brands_tags_additives__511', 'emb_product_name_ingredients_text_brands_tags_additives__757', 'emb_product_name_ingredients_text_brands_tags_additives__520', 'emb_product_name_ingredients_text_brands_tags_additives__114', 'emb_product_name_ingredients_text_brands_tags_additives__349', 'emb_product_name_ingredients_text_brands_tags_additives__298', 'emb_product_name_ingredients_text_brands_tags_additives__384', 'emb_product_name_ingredients_text_brands_tags_additives__477', 'emb_product_name_ingredients_text_brands_tags_additives__52', 'emb_product_name_ingredients_text_brands_tags_additives__368', 'emb_product_name_ingredients_text_brands_tags_additives__577', 'emb_product_name_ingredients_text_brands_tags_additives__196', 'emb_product_name_ingredients_text_brands_tags_additives__206', 'emb_product_name_ingredients_text_brands_tags_additives__684', 'emb_product_name_ingredients_text_brands_tags_additives__58', 'emb_product_name_ingredients_text_brands_tags_additives__750', 'emb_product_name_ingredients_text_brands_tags_additives__229', 'emb_product_name_ingredients_text_brands_tags_additives__303', 'emb_product_name_ingredients_text_brands_tags_additives__146', 'emb_product_name_ingredients_text_brands_tags_additives__45', 'emb_product_name_ingredients_text_brands_tags_additives__296', 'emb_product_name_ingredients_text_brands_tags_additives__2', 'emb_product_name_ingredients_text_brands_tags_additives__312', 'emb_product_name_ingredients_text_brands_tags_additives__516', 'emb_product_name_ingredients_text_brands_tags_additives__609', 'emb_product_name_ingredients_text_brands_tags_additives__600', 'emb_product_name_ingredients_text_brands_tags_additives__591', 'emb_product_name_ingredients_text_brands_tags_additives__41', 'emb_product_name_ingredients_text_brands_tags_additives__313', 'emb_product_name_ingredients_text_brands_tags_additives__613', 'emb_product_name_ingredients_text_brands_tags_additives__548', 'emb_product_name_ingredients_text_brands_tags_additives__61', 'emb_product_name_ingredients_text_brands_tags_additives__767', 'emb_product_name_ingredients_text_brands_tags_additives__565', 'emb_product_name_ingredients_text_brands_tags_additives__127', 'emb_product_name_ingredients_text_brands_tags_additives__90', 'emb_product_name_ingredients_text_brands_tags_additives__474', 'emb_product_name_ingredients_text_brands_tags_additives__271', 'emb_product_name_ingredients_text_brands_tags_additives__292', 'emb_product_name_ingredients_text_brands_tags_additives__46', 'emb_product_name_ingredients_text_brands_tags_additives__536', 'emb_product_name_ingredients_text_brands_tags_additives__446', 'emb_product_name_ingredients_text_brands_tags_additives__213', 'emb_product_name_ingredients_text_brands_tags_additives__246', 'emb_product_name_ingredients_text_brands_tags_additives__664', 'emb_product_name_ingredients_text_brands_tags_additives__582', 'emb_product_name_ingredients_text_brands_tags_additives__444', 'emb_product_name_ingredients_text_brands_tags_additives__187', 'emb_product_name_ingredients_text_brands_tags_additives__537', 'emb_product_name_ingredients_text_brands_tags_additives__571', 'emb_product_name_ingredients_text_brands_tags_additives__633', 'emb_product_name_ingredients_text_brands_tags_additives__733', 'emb_product_name_ingredients_text_brands_tags_additives__267', 'emb_product_name_ingredients_text_brands_tags_additives__344', 'emb_product_name_ingredients_text_brands_tags_additives__423', 'emb_product_name_ingredients_text_brands_tags_additives__566', 'emb_product_name_ingredients_text_brands_tags_additives__364', 'emb_product_name_ingredients_text_brands_tags_additives__598', 'emb_product_name_ingredients_text_brands_tags_additives__382', 'emb_product_name_ingredients_text_brands_tags_additives__709', 'emb_product_name_ingredients_text_brands_tags_additives__286', 'emb_product_name_ingredients_text_brands_tags_additives__607', 'emb_product_name_ingredients_text_brands_tags_additives__258', 'emb_product_name_ingredients_text_brands_tags_additives__409', 'emb_product_name_ingredients_text_brands_tags_additives__217', 'emb_product_name_ingredients_text_brands_tags_additives__288', 'emb_product_name_ingredients_text_brands_tags_additives__411', 'emb_product_name_ingredients_text_brands_tags_additives__455', 'emb_product_name_ingredients_text_brands_tags_additives__85', 'emb_product_name_ingredients_text_brands_tags_additives__254', 'emb_product_name_ingredients_text_brands_tags_additives__124', 'emb_product_name_ingredients_text_brands_tags_additives__380', 'emb_product_name_ingredients_text_brands_tags_additives__669', 'emb_product_name_ingredients_text_brands_tags_additives__694', 'emb_product_name_ingredients_text_brands_tags_additives__38', 'emb_product_name_ingredients_text_brands_tags_additives__755', 'emb_product_name_ingredients_text_brands_tags_additives__251', 'emb_product_name_ingredients_text_brands_tags_additives__20', 'emb_product_name_ingredients_text_brands_tags_additives__336', 'emb_product_name_ingredients_text_brands_tags_additives__60', 'emb_product_name_ingredients_text_brands_tags_additives__142', 'emb_product_name_ingredients_text_brands_tags_additives__671', 'emb_product_name_ingredients_text_brands_tags_additives__14', 'emb_product_name_ingredients_text_brands_tags_additives__688', 'emb_product_name_ingredients_text_brands_tags_additives__159', 'emb_product_name_ingredients_text_brands_tags_additives__178', 'emb_product_name_ingredients_text_brands_tags_additives__440', 'emb_product_name_ingredients_text_brands_tags_additives__746', 'emb_product_name_ingredients_text_brands_tags_additives__749', 'emb_product_name_ingredients_text_brands_tags_additives__679', 'emb_product_name_ingredients_text_brands_tags_additives__283', 'emb_product_name_ingredients_text_brands_tags_additives__155', 'emb_product_name_ingredients_text_brands_tags_additives__681', 'emb_product_name_ingredients_text_brands_tags_additives__255', 'emb_product_name_ingredients_text_brands_tags_additives__430', 'emb_product_name_ingredients_text_brands_tags_additives__695', 'emb_product_name_ingredients_text_brands_tags_additives__583', 'emb_product_name_ingredients_text_brands_tags_additives__754', 'emb_product_name_ingredients_text_brands_tags_additives__16', 'emb_product_name_ingredients_text_brands_tags_additives__326', 'emb_product_name_ingredients_text_brands_tags_additives__734', 'emb_product_name_ingredients_text_brands_tags_additives__497', 'emb_product_name_ingredients_text_brands_tags_additives__43', 'emb_product_name_ingredients_text_brands_tags_additives__432', 'emb_product_name_ingredients_text_brands_tags_additives__260', 'emb_product_name_ingredients_text_brands_tags_additives__281', 'emb_product_name_ingredients_text_brands_tags_additives__59', 'emb_product_name_ingredients_text_brands_tags_additives__445', 'emb_product_name_ingredients_text_brands_tags_additives__467', 'emb_product_name_ingredients_text_brands_tags_additives__132', 'emb_product_name_ingredients_text_brands_tags_additives__551', 'emb_product_name_ingredients_text_brands_tags_additives__590', 'emb_product_name_ingredients_text_brands_tags_additives__23', 'emb_product_name_ingredients_text_brands_tags_additives__249', 'emb_product_name_ingredients_text_brands_tags_additives__357', 'emb_product_name_ingredients_text_brands_tags_additives__392', 'emb_product_name_ingredients_text_brands_tags_additives__387', 'emb_product_name_ingredients_text_brands_tags_additives__506', 'emb_product_name_ingredients_text_brands_tags_additives__216', 'emb_product_name_ingredients_text_brands_tags_additives__48', 'emb_product_name_ingredients_text_brands_tags_additives__24', 'emb_product_name_ingredients_text_brands_tags_additives__82', 'emb_product_name_ingredients_text_brands_tags_additives__138', 'emb_product_name_ingredients_text_brands_tags_additives__337', 'emb_product_name_ingredients_text_brands_tags_additives__427', 'emb_product_name_ingredients_text_brands_tags_additives__567', 'emb_product_name_ingredients_text_brands_tags_additives__111', 'emb_product_name_ingredients_text_brands_tags_additives__408', 'emb_product_name_ingredients_text_brands_tags_additives__700', 'emb_product_name_ingredients_text_brands_tags_additives__279', 'emb_product_name_ingredients_text_brands_tags_additives__4', 'emb_product_name_ingredients_text_brands_tags_additives__493', 'emb_product_name_ingredients_text_brands_tags_additives__91', 'emb_product_name_ingredients_text_brands_tags_additives__310', 'emb_product_name_ingredients_text_brands_tags_additives__737', 'emb_product_name_ingredients_text_brands_tags_additives__221', 'emb_product_name_ingredients_text_brands_tags_additives__161', 'emb_product_name_ingredients_text_brands_tags_additives__454', 'emb_product_name_ingredients_text_brands_tags_additives__494', 'emb_product_name_ingredients_text_brands_tags_additives__220', 'emb_product_name_ingredients_text_brands_tags_additives__641', 'emb_product_name_ingredients_text_brands_tags_additives__504', 'emb_product_name_ingredients_text_brands_tags_additives__5', 'emb_product_name_ingredients_text_brands_tags_additives__239', 'emb_product_name_ingredients_text_brands_tags_additives__490', 'emb_product_name_ingredients_text_brands_tags_additives__720', 'emb_product_name_ingredients_text_brands_tags_additives__697', 'emb_product_name_ingredients_text_brands_tags_additives__563', 'emb_product_name_ingredients_text_brands_tags_additives__188', 'emb_product_name_ingredients_text_brands_tags_additives__272', 'emb_product_name_ingredients_text_brands_tags_additives__604', 'emb_product_name_ingredients_text_brands_tags_additives__74', 'emb_product_name_ingredients_text_brands_tags_additives__393', 'emb_product_name_ingredients_text_brands_tags_additives__549', 'emb_product_name_ingredients_text_brands_tags_additives__718', 'emb_product_name_ingredients_text_brands_tags_additives__464', 'emb_product_name_ingredients_text_brands_tags_additives__476', 'emb_product_name_ingredients_text_brands_tags_additives__702', 'emb_product_name_ingredients_text_brands_tags_additives__554', 'emb_product_name_ingredients_text_brands_tags_additives__44', 'emb_product_name_ingredients_text_brands_tags_additives__611', 'emb_product_name_ingredients_text_brands_tags_additives__302', 'emb_product_name_ingredients_text_brands_tags_additives__673', 'emb_product_name_ingredients_text_brands_tags_additives__416', 'emb_product_name_ingredients_text_brands_tags_additives__487', 'emb_product_name_ingredients_text_brands_tags_additives__230', 'emb_product_name_ingredients_text_brands_tags_additives__507', 'emb_product_name_ingredients_text_brands_tags_additives__452', 'emb_product_name_ingredients_text_brands_tags_additives__623', 'emb_product_name_ingredients_text_brands_tags_additives__686', 'emb_product_name_ingredients_text_brands_tags_additives__564', 'emb_product_name_ingredients_text_brands_tags_additives__545', 'emb_product_name_ingredients_text_brands_tags_additives__353', 'emb_product_name_ingredients_text_brands_tags_additives__721', 'emb_product_name_ingredients_text_brands_tags_additives__70', 'emb_product_name_ingredients_text_brands_tags_additives__77', 'emb_product_name_ingredients_text_brands_tags_additives__131', 'emb_product_name_ingredients_text_brands_tags_additives__508', 'emb_product_name_ingredients_text_brands_tags_additives__729', 'emb_product_name_ingredients_text_brands_tags_additives__174', 'emb_product_name_ingredients_text_brands_tags_additives__308', 'emb_product_name_ingredients_text_brands_tags_additives__265', 'emb_product_name_ingredients_text_brands_tags_additives__75', 'emb_product_name_ingredients_text_brands_tags_additives__195', 'emb_product_name_ingredients_text_brands_tags_additives__152', 'emb_product_name_ingredients_text_brands_tags_additives__524', 'emb_product_name_ingredients_text_brands_tags_additives__63', 'label_states_en_brands', 'label_states_en_categories', 'label_states_en_characteristics', 'label_states_en_expiration date', 'label_states_en_general_complete', 'label_states_en_ingredients', 'label_pnns_groups_1', 'label_pnns_groups_2', 'label_states_en_packaging', 'label_states_en_packaging-code-', 'label_states_en_photo_upload', 'label_states_en_photo_validate', 'label_states_en_product name', 'label_states_en_quantity']\n",
      "Cat index: [772, 773, 774, 775, 776, 777, 778, 779, 780, 781, 782, 783, 784, 785]\n",
      "---------- Training fold Nº 5 ----------\n",
      "[LightGBM] [Warning] Find whitespaces in feature_names, replace with underlines\n",
      "[LightGBM] [Info] Total Bins 196221\n",
      "[LightGBM] [Info] Number of data points in the train set: 81623, number of used features: 786\n"
     ]
    },
    {
     "name": "stderr",
     "output_type": "stream",
     "text": [
      "/usr/local/lib/python3.6/dist-packages/lightgbm/basic.py:1433: UserWarning: Overriding the parameters from Reference Dataset.\n",
      "  _log_warning('Overriding the parameters from Reference Dataset.')\n",
      "/usr/local/lib/python3.6/dist-packages/lightgbm/basic.py:1245: UserWarning: categorical_column in param dict is overridden.\n",
      "  _log_warning('{} in param dict is overridden.'.format(cat_alias))\n"
     ]
    },
    {
     "name": "stdout",
     "output_type": "stream",
     "text": [
      "[LightGBM] [Warning] Find whitespaces in feature_names, replace with underlines\n",
      "[LightGBM] [Info] Start training from score 9.170246\n",
      "Training until validation scores don't improve for 200 rounds\n",
      "[50]\ttraining's rmse: 6.63636\tvalid_1's rmse: 6.82241\n",
      "[100]\ttraining's rmse: 5.45878\tvalid_1's rmse: 5.69936\n",
      "[150]\ttraining's rmse: 4.92578\tvalid_1's rmse: 5.1704\n",
      "[200]\ttraining's rmse: 4.6909\tvalid_1's rmse: 4.93411\n",
      "[250]\ttraining's rmse: 4.5873\tvalid_1's rmse: 4.81846\n",
      "[300]\ttraining's rmse: 4.53824\tvalid_1's rmse: 4.76592\n",
      "[350]\ttraining's rmse: 4.51233\tvalid_1's rmse: 4.7337\n",
      "[400]\ttraining's rmse: 4.49638\tvalid_1's rmse: 4.71525\n",
      "[450]\ttraining's rmse: 4.48475\tvalid_1's rmse: 4.70097\n",
      "[LightGBM] [Warning] No further splits with positive gain, best gain: -inf\n",
      "[LightGBM] [Warning] No further splits with positive gain, best gain: -inf\n",
      "[500]\ttraining's rmse: 4.47535\tvalid_1's rmse: 4.69218\n",
      "[LightGBM] [Warning] No further splits with positive gain, best gain: -inf\n",
      "[LightGBM] [Warning] No further splits with positive gain, best gain: -inf\n",
      "[LightGBM] [Warning] No further splits with positive gain, best gain: -inf\n",
      "[550]\ttraining's rmse: 4.46771\tvalid_1's rmse: 4.68492\n",
      "[LightGBM] [Warning] No further splits with positive gain, best gain: -inf\n",
      "[LightGBM] [Warning] No further splits with positive gain, best gain: -inf\n",
      "[LightGBM] [Warning] No further splits with positive gain, best gain: -inf\n",
      "[LightGBM] [Warning] No further splits with positive gain, best gain: -inf\n",
      "[LightGBM] [Warning] No further splits with positive gain, best gain: -inf\n",
      "[LightGBM] [Warning] No further splits with positive gain, best gain: -inf\n",
      "[600]\ttraining's rmse: 4.46071\tvalid_1's rmse: 4.68008\n",
      "[LightGBM] [Warning] No further splits with positive gain, best gain: -inf\n",
      "[LightGBM] [Warning] No further splits with positive gain, best gain: -inf\n",
      "[LightGBM] [Warning] No further splits with positive gain, best gain: -inf\n",
      "[LightGBM] [Warning] No further splits with positive gain, best gain: -inf\n",
      "[LightGBM] [Warning] No further splits with positive gain, best gain: -inf\n",
      "[LightGBM] [Warning] No further splits with positive gain, best gain: -inf\n",
      "[LightGBM] [Warning] No further splits with positive gain, best gain: -inf\n",
      "[650]\ttraining's rmse: 4.45451\tvalid_1's rmse: 4.67736\n",
      "[LightGBM] [Warning] No further splits with positive gain, best gain: -inf\n",
      "[LightGBM] [Warning] No further splits with positive gain, best gain: -inf\n",
      "[LightGBM] [Warning] No further splits with positive gain, best gain: -inf\n",
      "[LightGBM] [Warning] No further splits with positive gain, best gain: -inf\n",
      "[LightGBM] [Warning] No further splits with positive gain, best gain: -inf\n",
      "[LightGBM] [Warning] No further splits with positive gain, best gain: -inf\n",
      "[LightGBM] [Warning] No further splits with positive gain, best gain: -inf\n",
      "[LightGBM] [Warning] No further splits with positive gain, best gain: -inf\n",
      "[LightGBM] [Warning] No further splits with positive gain, best gain: -inf\n",
      "[700]\ttraining's rmse: 4.4485\tvalid_1's rmse: 4.67401\n",
      "[LightGBM] [Warning] No further splits with positive gain, best gain: -inf\n",
      "[LightGBM] [Warning] No further splits with positive gain, best gain: -inf\n",
      "[LightGBM] [Warning] No further splits with positive gain, best gain: -inf\n",
      "[LightGBM] [Warning] No further splits with positive gain, best gain: -inf\n",
      "[LightGBM] [Warning] No further splits with positive gain, best gain: -inf\n",
      "[LightGBM] [Warning] No further splits with positive gain, best gain: -inf\n",
      "[LightGBM] [Warning] No further splits with positive gain, best gain: -inf\n",
      "[LightGBM] [Warning] No further splits with positive gain, best gain: -inf\n",
      "[LightGBM] [Warning] No further splits with positive gain, best gain: -inf\n",
      "[LightGBM] [Warning] No further splits with positive gain, best gain: -inf\n",
      "[LightGBM] [Warning] No further splits with positive gain, best gain: -inf\n",
      "[750]\ttraining's rmse: 4.44273\tvalid_1's rmse: 4.67168\n",
      "[LightGBM] [Warning] No further splits with positive gain, best gain: -inf\n",
      "[LightGBM] [Warning] No further splits with positive gain, best gain: -inf\n",
      "[LightGBM] [Warning] No further splits with positive gain, best gain: -inf\n",
      "[LightGBM] [Warning] No further splits with positive gain, best gain: -inf\n",
      "[LightGBM] [Warning] No further splits with positive gain, best gain: -inf\n",
      "[LightGBM] [Warning] No further splits with positive gain, best gain: -inf\n",
      "[LightGBM] [Warning] No further splits with positive gain, best gain: -inf\n",
      "[LightGBM] [Warning] No further splits with positive gain, best gain: -inf\n",
      "[LightGBM] [Warning] No further splits with positive gain, best gain: -inf\n",
      "[LightGBM] [Warning] No further splits with positive gain, best gain: -inf\n",
      "[LightGBM] [Warning] No further splits with positive gain, best gain: -inf\n",
      "[800]\ttraining's rmse: 4.43722\tvalid_1's rmse: 4.67098\n",
      "[LightGBM] [Warning] No further splits with positive gain, best gain: -inf\n",
      "[LightGBM] [Warning] No further splits with positive gain, best gain: -inf\n",
      "[LightGBM] [Warning] No further splits with positive gain, best gain: -inf\n",
      "[LightGBM] [Warning] No further splits with positive gain, best gain: -inf\n",
      "[LightGBM] [Warning] No further splits with positive gain, best gain: -inf\n",
      "[LightGBM] [Warning] No further splits with positive gain, best gain: -inf\n",
      "[850]\ttraining's rmse: 4.43227\tvalid_1's rmse: 4.67044\n",
      "[LightGBM] [Warning] No further splits with positive gain, best gain: -inf\n",
      "[LightGBM] [Warning] No further splits with positive gain, best gain: -inf\n",
      "[LightGBM] [Warning] No further splits with positive gain, best gain: -inf\n",
      "[LightGBM] [Warning] No further splits with positive gain, best gain: -inf\n",
      "[LightGBM] [Warning] No further splits with positive gain, best gain: -inf\n",
      "[LightGBM] [Warning] No further splits with positive gain, best gain: -inf\n",
      "[LightGBM] [Warning] No further splits with positive gain, best gain: -inf\n",
      "[900]\ttraining's rmse: 4.42702\tvalid_1's rmse: 4.6692\n",
      "[LightGBM] [Warning] No further splits with positive gain, best gain: -inf\n",
      "[LightGBM] [Warning] No further splits with positive gain, best gain: -inf\n",
      "[LightGBM] [Warning] No further splits with positive gain, best gain: -inf\n",
      "[LightGBM] [Warning] No further splits with positive gain, best gain: -inf\n",
      "[LightGBM] [Warning] No further splits with positive gain, best gain: -inf\n",
      "[LightGBM] [Warning] No further splits with positive gain, best gain: -inf\n",
      "[LightGBM] [Warning] No further splits with positive gain, best gain: -inf\n",
      "[LightGBM] [Warning] No further splits with positive gain, best gain: -inf\n",
      "[950]\ttraining's rmse: 4.42198\tvalid_1's rmse: 4.66938\n",
      "[LightGBM] [Warning] No further splits with positive gain, best gain: -inf\n",
      "[LightGBM] [Warning] No further splits with positive gain, best gain: -inf\n",
      "[LightGBM] [Warning] No further splits with positive gain, best gain: -inf\n",
      "[LightGBM] [Warning] No further splits with positive gain, best gain: -inf\n",
      "[LightGBM] [Warning] No further splits with positive gain, best gain: -inf\n",
      "[LightGBM] [Warning] No further splits with positive gain, best gain: -inf\n",
      "[LightGBM] [Warning] No further splits with positive gain, best gain: -inf\n",
      "[LightGBM] [Warning] No further splits with positive gain, best gain: -inf\n",
      "[LightGBM] [Warning] No further splits with positive gain, best gain: -inf\n",
      "[LightGBM] [Warning] No further splits with positive gain, best gain: -inf\n",
      "[LightGBM] [Warning] No further splits with positive gain, best gain: -inf\n",
      "[1000]\ttraining's rmse: 4.41717\tvalid_1's rmse: 4.66843\n",
      "[LightGBM] [Warning] No further splits with positive gain, best gain: -inf\n",
      "[LightGBM] [Warning] No further splits with positive gain, best gain: -inf\n",
      "[LightGBM] [Warning] No further splits with positive gain, best gain: -inf\n",
      "[LightGBM] [Warning] No further splits with positive gain, best gain: -inf\n",
      "[LightGBM] [Warning] No further splits with positive gain, best gain: -inf\n",
      "[LightGBM] [Warning] No further splits with positive gain, best gain: -inf\n",
      "[LightGBM] [Warning] No further splits with positive gain, best gain: -inf\n",
      "[LightGBM] [Warning] No further splits with positive gain, best gain: -inf\n",
      "[LightGBM] [Warning] No further splits with positive gain, best gain: -inf\n",
      "[LightGBM] [Warning] No further splits with positive gain, best gain: -inf\n",
      "[LightGBM] [Warning] No further splits with positive gain, best gain: -inf\n",
      "[LightGBM] [Warning] No further splits with positive gain, best gain: -inf\n",
      "[LightGBM] [Warning] No further splits with positive gain, best gain: -inf\n",
      "[LightGBM] [Warning] No further splits with positive gain, best gain: -inf\n",
      "[LightGBM] [Warning] No further splits with positive gain, best gain: -inf\n",
      "[LightGBM] [Warning] No further splits with positive gain, best gain: -inf\n",
      "[1050]\ttraining's rmse: 4.41269\tvalid_1's rmse: 4.67011\n",
      "[LightGBM] [Warning] No further splits with positive gain, best gain: -inf\n",
      "[LightGBM] [Warning] No further splits with positive gain, best gain: -inf\n",
      "[LightGBM] [Warning] No further splits with positive gain, best gain: -inf\n",
      "[LightGBM] [Warning] No further splits with positive gain, best gain: -inf\n",
      "[LightGBM] [Warning] No further splits with positive gain, best gain: -inf\n",
      "[LightGBM] [Warning] No further splits with positive gain, best gain: -inf\n",
      "[LightGBM] [Warning] No further splits with positive gain, best gain: -inf\n",
      "[LightGBM] [Warning] No further splits with positive gain, best gain: -inf\n",
      "[LightGBM] [Warning] No further splits with positive gain, best gain: -inf\n",
      "[LightGBM] [Warning] No further splits with positive gain, best gain: -inf\n",
      "[LightGBM] [Warning] No further splits with positive gain, best gain: -inf\n",
      "[1100]\ttraining's rmse: 4.40809\tvalid_1's rmse: 4.66888\n",
      "[LightGBM] [Warning] No further splits with positive gain, best gain: -inf\n",
      "[LightGBM] [Warning] No further splits with positive gain, best gain: -inf\n",
      "[LightGBM] [Warning] No further splits with positive gain, best gain: -inf\n",
      "[LightGBM] [Warning] No further splits with positive gain, best gain: -inf\n",
      "[LightGBM] [Warning] No further splits with positive gain, best gain: -inf\n",
      "[LightGBM] [Warning] No further splits with positive gain, best gain: -inf\n",
      "[LightGBM] [Warning] No further splits with positive gain, best gain: -inf\n",
      "[LightGBM] [Warning] No further splits with positive gain, best gain: -inf\n",
      "[LightGBM] [Warning] No further splits with positive gain, best gain: -inf\n",
      "[1150]\ttraining's rmse: 4.40353\tvalid_1's rmse: 4.66976\n",
      "[LightGBM] [Warning] No further splits with positive gain, best gain: -inf\n",
      "[LightGBM] [Warning] No further splits with positive gain, best gain: -inf\n",
      "[LightGBM] [Warning] No further splits with positive gain, best gain: -inf\n",
      "[LightGBM] [Warning] No further splits with positive gain, best gain: -inf\n",
      "[LightGBM] [Warning] No further splits with positive gain, best gain: -inf\n",
      "[LightGBM] [Warning] No further splits with positive gain, best gain: -inf\n",
      "[LightGBM] [Warning] No further splits with positive gain, best gain: -inf\n",
      "[LightGBM] [Warning] No further splits with positive gain, best gain: -inf\n",
      "[LightGBM] [Warning] No further splits with positive gain, best gain: -inf\n",
      "[LightGBM] [Warning] No further splits with positive gain, best gain: -inf\n",
      "[LightGBM] [Warning] No further splits with positive gain, best gain: -inf\n",
      "[LightGBM] [Warning] No further splits with positive gain, best gain: -inf\n",
      "[LightGBM] [Warning] No further splits with positive gain, best gain: -inf\n",
      "[LightGBM] [Warning] No further splits with positive gain, best gain: -inf\n",
      "[1200]\ttraining's rmse: 4.39927\tvalid_1's rmse: 4.66844\n",
      "[LightGBM] [Warning] No further splits with positive gain, best gain: -inf\n",
      "[LightGBM] [Warning] No further splits with positive gain, best gain: -inf\n",
      "[LightGBM] [Warning] No further splits with positive gain, best gain: -inf\n",
      "[LightGBM] [Warning] No further splits with positive gain, best gain: -inf\n",
      "[LightGBM] [Warning] No further splits with positive gain, best gain: -inf\n",
      "[LightGBM] [Warning] No further splits with positive gain, best gain: -inf\n",
      "[LightGBM] [Warning] No further splits with positive gain, best gain: -inf\n",
      "[LightGBM] [Warning] No further splits with positive gain, best gain: -inf\n",
      "[LightGBM] [Warning] No further splits with positive gain, best gain: -inf\n",
      "[LightGBM] [Warning] No further splits with positive gain, best gain: -inf\n",
      "[LightGBM] [Warning] No further splits with positive gain, best gain: -inf\n",
      "[LightGBM] [Warning] No further splits with positive gain, best gain: -inf\n",
      "[1250]\ttraining's rmse: 4.39478\tvalid_1's rmse: 4.66699\n",
      "[LightGBM] [Warning] No further splits with positive gain, best gain: -inf\n",
      "[LightGBM] [Warning] No further splits with positive gain, best gain: -inf\n",
      "[LightGBM] [Warning] No further splits with positive gain, best gain: -inf\n",
      "[LightGBM] [Warning] No further splits with positive gain, best gain: -inf\n",
      "[LightGBM] [Warning] No further splits with positive gain, best gain: -inf\n",
      "[LightGBM] [Warning] No further splits with positive gain, best gain: -inf\n",
      "[LightGBM] [Warning] No further splits with positive gain, best gain: -inf\n",
      "[LightGBM] [Warning] No further splits with positive gain, best gain: -inf\n",
      "[LightGBM] [Warning] No further splits with positive gain, best gain: -inf\n",
      "[1300]\ttraining's rmse: 4.39039\tvalid_1's rmse: 4.66632\n",
      "[LightGBM] [Warning] No further splits with positive gain, best gain: -inf\n",
      "[LightGBM] [Warning] No further splits with positive gain, best gain: -inf\n",
      "[LightGBM] [Warning] No further splits with positive gain, best gain: -inf\n",
      "[LightGBM] [Warning] No further splits with positive gain, best gain: -inf\n",
      "[LightGBM] [Warning] No further splits with positive gain, best gain: -inf\n",
      "[LightGBM] [Warning] No further splits with positive gain, best gain: -inf\n",
      "[LightGBM] [Warning] No further splits with positive gain, best gain: -inf\n",
      "[LightGBM] [Warning] No further splits with positive gain, best gain: -inf\n",
      "[LightGBM] [Warning] No further splits with positive gain, best gain: -inf\n",
      "[LightGBM] [Warning] No further splits with positive gain, best gain: -inf\n",
      "[LightGBM] [Warning] No further splits with positive gain, best gain: -inf\n",
      "[LightGBM] [Warning] No further splits with positive gain, best gain: -inf\n",
      "[LightGBM] [Warning] No further splits with positive gain, best gain: -inf\n",
      "[1350]\ttraining's rmse: 4.38618\tvalid_1's rmse: 4.66631\n",
      "[LightGBM] [Warning] No further splits with positive gain, best gain: -inf\n",
      "[LightGBM] [Warning] No further splits with positive gain, best gain: -inf\n",
      "[LightGBM] [Warning] No further splits with positive gain, best gain: -inf\n",
      "[LightGBM] [Warning] No further splits with positive gain, best gain: -inf\n",
      "[LightGBM] [Warning] No further splits with positive gain, best gain: -inf\n",
      "[1400]\ttraining's rmse: 4.3818\tvalid_1's rmse: 4.66646\n",
      "[LightGBM] [Warning] No further splits with positive gain, best gain: -inf\n",
      "[LightGBM] [Warning] No further splits with positive gain, best gain: -inf\n",
      "[LightGBM] [Warning] No further splits with positive gain, best gain: -inf\n",
      "[LightGBM] [Warning] No further splits with positive gain, best gain: -inf\n",
      "[LightGBM] [Warning] No further splits with positive gain, best gain: -inf\n",
      "[LightGBM] [Warning] No further splits with positive gain, best gain: -inf\n",
      "[LightGBM] [Warning] No further splits with positive gain, best gain: -inf\n",
      "[1450]\ttraining's rmse: 4.37745\tvalid_1's rmse: 4.6683\n",
      "[LightGBM] [Warning] No further splits with positive gain, best gain: -inf\n",
      "[LightGBM] [Warning] No further splits with positive gain, best gain: -inf\n",
      "[LightGBM] [Warning] No further splits with positive gain, best gain: -inf\n",
      "[LightGBM] [Warning] No further splits with positive gain, best gain: -inf\n",
      "Early stopping, best iteration is:\n",
      "[1272]\ttraining's rmse: 4.39284\tvalid_1's rmse: 4.66533\n",
      "Train RMSE: 4.3928426240827925        Valida RMSE: 4.665334273140633\n",
      "OOF RMSE: 4.627490538061251 \n"
     ]
    }
   ],
   "source": [
    "results,models,importances,oof,feature_list = Training_Lightgbm(df_train[columns_modeling_last],params,fold_column = 'fold',target_column = 'target',cat_vars = cat_columns ,metric = 'RMSE',early_stopping = 200,max_boost_round = 8000)"
   ]
  },
  {
   "cell_type": "code",
   "execution_count": 64,
   "metadata": {},
   "outputs": [],
   "source": [
    "textfile = open(\"../03.Models/General/feature_list.txt\", \"w\")\n",
    "for element in feature_list:\n",
    "    textfile.write(element + \"\\n\")\n",
    "textfile.close()"
   ]
  },
  {
   "cell_type": "code",
   "execution_count": 65,
   "metadata": {},
   "outputs": [
    {
     "data": {
      "text/html": [
       "<div>\n",
       "<style scoped>\n",
       "    .dataframe tbody tr th:only-of-type {\n",
       "        vertical-align: middle;\n",
       "    }\n",
       "\n",
       "    .dataframe tbody tr th {\n",
       "        vertical-align: top;\n",
       "    }\n",
       "\n",
       "    .dataframe thead th {\n",
       "        text-align: right;\n",
       "    }\n",
       "</style>\n",
       "<table border=\"1\" class=\"dataframe\">\n",
       "  <thead>\n",
       "    <tr style=\"text-align: right;\">\n",
       "      <th></th>\n",
       "      <th>Model_Name</th>\n",
       "      <th>Mean Valid RMSE</th>\n",
       "      <th>Std Valid RMSE</th>\n",
       "      <th>Mean Train RMSE</th>\n",
       "      <th>Std Train RMSE</th>\n",
       "      <th>OOF RMSE</th>\n",
       "      <th>Diff RMSE</th>\n",
       "      <th>Time</th>\n",
       "    </tr>\n",
       "  </thead>\n",
       "  <tbody>\n",
       "    <tr>\n",
       "      <th>0</th>\n",
       "      <td>Lgbm Model</td>\n",
       "      <td>4.627371</td>\n",
       "      <td>0.033401</td>\n",
       "      <td>4.402904</td>\n",
       "      <td>0.01872</td>\n",
       "      <td>4.627491</td>\n",
       "      <td>-0.224467</td>\n",
       "      <td>114901 s</td>\n",
       "    </tr>\n",
       "  </tbody>\n",
       "</table>\n",
       "</div>"
      ],
      "text/plain": [
       "   Model_Name  Mean Valid RMSE  Std Valid RMSE  Mean Train RMSE  \\\n",
       "0  Lgbm Model         4.627371        0.033401         4.402904   \n",
       "\n",
       "   Std Train RMSE  OOF RMSE  Diff RMSE      Time  \n",
       "0         0.01872  4.627491  -0.224467  114901 s  "
      ]
     },
     "execution_count": 65,
     "metadata": {},
     "output_type": "execute_result"
    }
   ],
   "source": [
    "results"
   ]
  },
  {
   "cell_type": "code",
   "execution_count": 62,
   "metadata": {},
   "outputs": [],
   "source": [
    "# Saving Models\n",
    "for fold,model in enumerate(models):\n",
    "    filename = f'../03.Models/Lightgbm/lgbm_fold_{fold}'\n",
    "    pickle.dump(model, open(filename, 'wb'))\n",
    "del models"
   ]
  }
 ],
 "metadata": {
  "kernelspec": {
   "display_name": "Python 3",
   "language": "python",
   "name": "python3"
  },
  "language_info": {
   "codemirror_mode": {
    "name": "ipython",
    "version": 3
   },
   "file_extension": ".py",
   "mimetype": "text/x-python",
   "name": "python",
   "nbconvert_exporter": "python",
   "pygments_lexer": "ipython3",
   "version": "3.6.10"
  }
 },
 "nbformat": 4,
 "nbformat_minor": 4
}
