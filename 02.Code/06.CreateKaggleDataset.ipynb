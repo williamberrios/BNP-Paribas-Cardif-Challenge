{
 "cells": [
  {
   "cell_type": "code",
   "execution_count": 19,
   "metadata": {},
   "outputs": [
    {
     "name": "stdout",
     "output_type": "stream",
     "text": [
      "/bin/bash: -c: line 0: syntax error near unexpected token `('\n",
      "/bin/bash: -c: line 0: `rm -Rf '../04.KaggleDataset/' !(\"../04.KaggleDataset/dataset-metadata.json\")'\n",
      "mkdir: cannot create directory ‘../04.KaggleDataset/’: File exists\n",
      "'../01.Data/./food_X_test.tsv' -> '../04.KaggleDataset/./food_X_test.tsv'\n",
      "'../01.Data/./y_test_submission_example.tsv' -> '../04.KaggleDataset/./y_test_submission_example.tsv'\n",
      "'../01.Data/./food_train.tsv' -> '../04.KaggleDataset/./food_train.tsv'\n",
      "'../01.Data/./fold.csv' -> '../04.KaggleDataset/./fold.csv'\n",
      "'../01.Data/./test_preprocessed.csv' -> '../04.KaggleDataset/./test_preprocessed.csv'\n",
      "'../01.Data/./test_prueba_real.csv' -> '../04.KaggleDataset/./test_prueba_real.csv'\n",
      "'../01.Data/./target_test.csv' -> '../04.KaggleDataset/./target_test.csv'\n"
     ]
    }
   ],
   "source": [
    "# Create a folder with elements for submission\n",
    "import os\n",
    "modelpath = '../03.Models/*'\n",
    "!rm -Rf '../04.KaggleDataset/'\n",
    "#!mkdir '../04.KaggleDataset/'\n",
    "!cp $modelpath '../04.KaggleDataset/'\n",
    "!cp -avr '../01.Data/.' '../04.KaggleDataset/'"
   ]
  },
  {
   "cell_type": "code",
   "execution_count": 26,
   "metadata": {},
   "outputs": [
    {
     "name": "stdout",
     "output_type": "stream",
     "text": [
      "Data package template written to: ../04.KaggleDataset/dataset-metadata.json\r\n"
     ]
    }
   ],
   "source": [
    "!kaggle datasets init -p '../04.KaggleDataset/' \n",
    "#BNP-Paribas"
   ]
  },
  {
   "cell_type": "code",
   "execution_count": 27,
   "metadata": {},
   "outputs": [
    {
     "name": "stdout",
     "output_type": "stream",
     "text": [
      "Starting upload for file BNP_PARIBAS_ROBERTA_FOLD_0\n",
      "100%|████████████████████████████████████████| 476M/476M [00:05<00:00, 85.5MB/s]\n",
      "Upload successful: BNP_PARIBAS_ROBERTA_FOLD_0 (476MB)\n",
      "Starting upload for file BNP_PARIBAS_ROBERTA_FOLD_1\n",
      "100%|████████████████████████████████████████| 476M/476M [00:06<00:00, 72.8MB/s]\n",
      "Upload successful: BNP_PARIBAS_ROBERTA_FOLD_1 (476MB)\n",
      "Starting upload for file BNP_PARIBAS_ROBERTA_FOLD_2\n",
      "100%|████████████████████████████████████████| 476M/476M [00:05<00:00, 92.5MB/s]\n",
      "Upload successful: BNP_PARIBAS_ROBERTA_FOLD_2 (476MB)\n",
      "Starting upload for file BNP_PARIBAS_ROBERTA_FOLD_3\n",
      "100%|████████████████████████████████████████| 476M/476M [00:05<00:00, 87.7MB/s]\n",
      "Upload successful: BNP_PARIBAS_ROBERTA_FOLD_3 (476MB)\n",
      "Starting upload for file BNP_PARIBAS_ROBERTA_FOLD_4\n",
      "100%|████████████████████████████████████████| 476M/476M [00:05<00:00, 92.1MB/s]\n",
      "Upload successful: BNP_PARIBAS_ROBERTA_FOLD_4 (476MB)\n",
      "Starting upload for file .ipynb_checkpoints.zip\n",
      "100%|█████████████████████████████████████████| 22.0/22.0 [00:01<00:00, 18.1B/s]\n",
      "Upload successful: .ipynb_checkpoints.zip (22B)\n",
      "Starting upload for file food_X_test.tsv\n",
      "100%|██████████████████████████████████████| 69.9M/69.9M [00:02<00:00, 33.6MB/s]\n",
      "Upload successful: food_X_test.tsv (70MB)\n",
      "Starting upload for file y_test_submission_example.tsv\n",
      "100%|█████████████████████████████████████████| 607k/607k [00:01<00:00, 584kB/s]\n",
      "Upload successful: y_test_submission_example.tsv (607KB)\n",
      "Starting upload for file food_train.tsv\n",
      "100%|████████████████████████████████████████| 280M/280M [00:04<00:00, 69.8MB/s]\n",
      "Upload successful: food_train.tsv (280MB)\n",
      "Starting upload for file fold.csv\n",
      "100%|████████████████████████████████████████| 297M/297M [00:04<00:00, 69.0MB/s]\n",
      "Upload successful: fold.csv (297MB)\n",
      "Starting upload for file test_preprocessed.csv\n",
      "100%|██████████████████████████████████████| 74.4M/74.4M [00:01<00:00, 42.1MB/s]\n",
      "Upload successful: test_preprocessed.csv (74MB)\n",
      "Starting upload for file test_prueba_real.csv\n",
      "100%|████████████████████████████████████████| 141M/141M [00:02<00:00, 52.9MB/s]\n",
      "Upload successful: test_prueba_real.csv (141MB)\n",
      "Starting upload for file target_test.csv\n",
      "100%|█████████████████████████████████████████| 275k/275k [00:00<00:00, 286kB/s]\n",
      "Upload successful: target_test.csv (275KB)\n",
      "Your private Dataset is being created. Please check progress at https://www.kaggle.com/williamberrios/BNP-PARIBASv2\n"
     ]
    }
   ],
   "source": [
    "!kaggle datasets create -p '../04.KaggleDataset/' --dir-mode zip "
   ]
  },
  {
   "cell_type": "code",
   "execution_count": 28,
   "metadata": {},
   "outputs": [],
   "source": [
    "#!kaggle datasets version -p '../04.KaggleDataset/' --dir-mode zip -m \"NEW MODEL\""
   ]
  }
 ],
 "metadata": {
  "kernelspec": {
   "display_name": "Python 3",
   "language": "python",
   "name": "python3"
  },
  "language_info": {
   "codemirror_mode": {
    "name": "ipython",
    "version": 3
   },
   "file_extension": ".py",
   "mimetype": "text/x-python",
   "name": "python",
   "nbconvert_exporter": "python",
   "pygments_lexer": "ipython3",
   "version": "3.6.9"
  }
 },
 "nbformat": 4,
 "nbformat_minor": 4
}
