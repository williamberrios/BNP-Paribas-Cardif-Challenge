{
 "cells": [
  {
   "cell_type": "code",
   "execution_count": 1,
   "metadata": {},
   "outputs": [],
   "source": [
    "import shutil\n",
    "import apiquery\n",
    "import pandas as pd\n",
    "import sys\n",
    "import seaborn as sns\n",
    "import os\n",
    "import numpy as np\n",
    "import random\n",
    "import torch\n",
    "import gc\n",
    "DATA_PATH = '../01.Data'\n",
    "shutil.copy(\"apiquery_pyc.py\", \"apiquery.pyc\")\n",
    "\n",
    "module_path = \"../src\"\n",
    "if module_path not in sys.path:\n",
    "    sys.path.append(module_path)\n",
    "    \n",
    "from utils.training import *\n",
    "from utils.encoding import *\n",
    "from utils.utils import *\n",
    "from utils.fetch import *\n",
    "from dataset.dataset import BNPParibasText\n",
    "from models.models import XLMRoberta\n",
    "from utils.EarlyStopping import EarlyStopping\n",
    "from utils.LoopFunctions import train_fn,valid_fn\n",
    "from utils.prediction import get_prediction\n",
    "pd.options.display.max_rows = 100\n",
    "pd.options.display.max_columns = 100\n",
    "import math\n",
    "from collections import Counter\n",
    "from sklearn.model_selection import StratifiedKFold\n",
    "from sklearn.metrics import mean_squared_error\n",
    "import math\n",
    "import time\n",
    "import lightgbm as lgbm\n",
    "import matplotlib.pyplot as plt\n",
    "import torch.nn as nn\n",
    "import config_xml\n",
    "import transformers"
   ]
  },
  {
   "cell_type": "code",
   "execution_count": 2,
   "metadata": {},
   "outputs": [
    {
     "name": "stdout",
     "output_type": "stream",
     "text": [
      "CPU times: user 2.24 s, sys: 256 ms, total: 2.49 s\n",
      "Wall time: 2.49 s\n"
     ]
    }
   ],
   "source": [
    "%%time\n",
    "df_train     = pd.read_csv(os.path.join(\"../01.Data\",'fold.csv'))\n",
    "y_submission = pd.read_csv(os.path.join(DATA_PATH,'y_test_submission_example.tsv'), index_col='Index', encoding='utf-8', sep='\\t')"
   ]
  },
  {
   "cell_type": "code",
   "execution_count": 3,
   "metadata": {},
   "outputs": [],
   "source": [
    "def generate_col_unique(df,cols_encode):\n",
    "    col_unique = ''\n",
    "    suma       = ''\n",
    "    for i in cols_encode:\n",
    "        col_unique = col_unique + i + '_'\n",
    "        suma = suma + ', '+df[i]\n",
    "\n",
    "    df[col_unique] = suma\n",
    "    return col_unique"
   ]
  },
  {
   "cell_type": "code",
   "execution_count": 4,
   "metadata": {},
   "outputs": [],
   "source": [
    "def calc_oof(df,config):\n",
    "    df.loc[:,'oof'] = -1\n",
    "    for fold in np.sort(df.fold.unique()):\n",
    "        print(f'Predicting Model: {fold}')\n",
    "        valid       = df[df['fold']==fold]\n",
    "        valid_index = valid.index.to_list()\n",
    "        valid = valid.reset_index(drop=True)\n",
    "        # Defining DataSet\n",
    "        col_unique = generate_col_unique(valid,config.COLUMNS_ENCODE)\n",
    "        tokenizer = transformers.XLMRobertaTokenizer.from_pretrained(config.PRETRAINED)\n",
    "        valid_dataset = BNPParibasText(valid,config.MAX_LENGTH,tokenizer,col_unique)\n",
    "        valid_loader = torch.utils.data.DataLoader(\n",
    "            valid_dataset,\n",
    "            batch_size  = config.BATCH_SIZE,\n",
    "            num_workers = config.NUM_WORKERS,\n",
    "            shuffle     = False,\n",
    "            pin_memory  = True,\n",
    "        )\n",
    "\n",
    "       # Defining Device\n",
    "        model = XLMRoberta(pretrained_model=config.PRETRAINED,dropout = config.DROPOUT)\n",
    "        model.load_state_dict(torch.load(f'../03.Models/BNP_PARIBAS_ROBERTA_MULTILINGUAL_FOLD_{fold}'))\n",
    "        model.to(config.DEVICE)\n",
    "        preds = get_prediction(valid_loader, model,config.DEVICE)\n",
    "        df.loc[valid_index,'oof'] = preds\n",
    "    oof_score = np.sqrt(mean_squared_error(df['target'],df['oof']))\n",
    "    print('OOF_SCORE (RMSE): ',oof_score)\n",
    "    return oof_score"
   ]
  },
  {
   "cell_type": "code",
   "execution_count": 5,
   "metadata": {},
   "outputs": [],
   "source": [
    "# Calculating predictions for test\n",
    "def calculate_test(test,config):\n",
    "    col_unique = generate_col_unique(test,config.COLUMNS_ENCODE)   \n",
    "    tokenizer     = transformers.XLMRobertaTokenizer.from_pretrained(config.PRETRAINED)\n",
    "    test_dataset = BNPParibasText(test,config.MAX_LENGTH,tokenizer,col_unique)\n",
    "    test_loader = torch.utils.data.DataLoader(\n",
    "        test_dataset,\n",
    "        batch_size  = config.BATCH_SIZE,\n",
    "        pin_memory  = True,\n",
    "        num_workers = config.NUM_WORKERS\n",
    "    )\n",
    "    preds = 0\n",
    "    for fold in range(0,5):\n",
    "        model = XLMRoberta(pretrained_model=config.PRETRAINED,dropout = config.DROPOUT)\n",
    "        model.load_state_dict(torch.load(f'../03.Models/BNP_PARIBAS_ROBERTA_MULTILINGUAL_FOLD_{fold}'))\n",
    "        model.to(config.DEVICE)\n",
    "        preds = preds + get_prediction(test_loader, model,config.DEVICE)\n",
    "    test['preds'] = preds/5\n",
    "    print(f'Real RMSE: ',math.sqrt(mean_squared_error(test['preds'].values,test['Target'].values)))"
   ]
  },
  {
   "cell_type": "code",
   "execution_count": 6,
   "metadata": {},
   "outputs": [],
   "source": [
    "def run(data,fold,output_path,config,run=None):\n",
    "    print(f'******************** Model Fold {fold}  *****************')\n",
    "    seed_everything(seed=config.SEED)\n",
    "    train = data[data['fold']!=fold].reset_index(drop=True)\n",
    "    valid = data[data['fold']==fold].reset_index(drop=True)\n",
    "    col_unique = generate_col_unique(train,config.COLUMNS_ENCODE)\n",
    "    col_unique = generate_col_unique(valid,config.COLUMNS_ENCODE)\n",
    "    \n",
    "    \n",
    "    print('Train: ',train.shape[0], 'Valid: ',valid.shape[0])\n",
    "    # Defining DataSet\n",
    "    tokenizer     = transformers.XLMRobertaTokenizer.from_pretrained(config.PRETRAINED)\n",
    "    train_dataset = BNPParibasText(train,config.MAX_LENGTH,tokenizer,col_unique)\n",
    "    valid_dataset = BNPParibasText(valid,config.MAX_LENGTH,tokenizer,col_unique)\n",
    "        \n",
    "    train_loader = torch.utils.data.DataLoader(\n",
    "        train_dataset,\n",
    "        batch_size  = config.BATCH_SIZE,\n",
    "        pin_memory  = True,\n",
    "        num_workers = config.NUM_WORKERS\n",
    "    )\n",
    "\n",
    "    valid_loader = torch.utils.data.DataLoader(\n",
    "        valid_dataset,\n",
    "        batch_size  = config.BATCH_SIZE,\n",
    "        num_workers = config.NUM_WORKERS,\n",
    "        shuffle     = False,\n",
    "        pin_memory  = True,\n",
    "    )\n",
    "    \n",
    "    # Defining Device\n",
    "    model = XLMRoberta(pretrained_model=config.PRETRAINED,dropout = config.DROPOUT)\n",
    "    model.to(config.DEVICE)\n",
    "    criterion = nn.MSELoss()\n",
    "    criterion.to(config.DEVICE)\n",
    "\n",
    "    param_optimizer = list(model.named_parameters())\n",
    "    no_decay = [\"bias\", \"LayerNorm.bias\", \"LayerNorm.weight\"]\n",
    "    optimizer_parameters = [\n",
    "        {\n",
    "            \"params\": [\n",
    "                p for n, p in param_optimizer if not any(nd in n for nd in no_decay)\n",
    "            ],\n",
    "            \"weight_decay\": config.WEIGHT_DECAY,\n",
    "        },\n",
    "        {\n",
    "            \"params\": [\n",
    "                p for n, p in param_optimizer if any(nd in n for nd in no_decay)\n",
    "            ],\n",
    "            \"weight_decay\": 0.0,\n",
    "        },\n",
    "    ]\n",
    "\n",
    "    num_train_steps = int((len(train) / config.BATCH_SIZE )* config.EPOCHS)\n",
    "    config.SCHEDULER_PARAMETERS['NUM_TRAIN_STEPS'] = num_train_steps\n",
    "    print(f'num_train_steps: {num_train_steps}')\n",
    "    optimizer = fetch_optimizer(config.OPTIMIZER_NAME,config.LEARNING_RATE,optimizer_parameters)\n",
    "    scheduler = fetch_scheduler(config.SCHEDULER_NAME,optimizer,config.SCHEDULER_PARAMETERS)\n",
    "    \n",
    "    es = EarlyStopping (patience = config.EARLY_STOPPING, mode = config.MODE,delta=0)\n",
    "      \n",
    "    for epoch in range(config.EPOCHS):\n",
    "        print('Epoch {}, lr {}'.format(epoch, optimizer.param_groups[0]['lr']))        \n",
    "        training_loss = train_fn(train_loader,model,criterion,optimizer,config.DEVICE,scheduler,mode_sched = config.MODE_SCHEDULER)\n",
    "        valid_loss    = valid_fn(valid_loader,model,criterion,config.DEVICE)\n",
    "        if run:\n",
    "            run.log({'training_loss':training_loss,'valid_loss':valid_loss})\n",
    "            \n",
    "        es(valid_loss, model,output_path)\n",
    "        \n",
    "        if es.early_stop:\n",
    "            print('Meet early stopping')\n",
    "            return es.get_best_val_score()\n",
    "        gc.collect()\n",
    "        torch.cuda.empty_cache()\n",
    "    print(\"Didn't meet early stopping\")\n",
    "    return es.get_best_val_score()"
   ]
  },
  {
   "cell_type": "code",
   "execution_count": 7,
   "metadata": {},
   "outputs": [
    {
     "name": "stdout",
     "output_type": "stream",
     "text": [
      "******************** Model Fold 0  *****************\n",
      "Train:  81622 Valid:  20406\n"
     ]
    },
    {
     "name": "stderr",
     "output_type": "stream",
     "text": [
      "\r",
      "  0%|          | 0/1276 [00:00<?, ?it/s]"
     ]
    },
    {
     "name": "stdout",
     "output_type": "stream",
     "text": [
      "num_train_steps: 15304\n",
      "Epoch 0, lr 0.0\n",
      "Mode Scheduler: OK\n"
     ]
    },
    {
     "name": "stderr",
     "output_type": "stream",
     "text": [
      "100%|██████████| 1276/1276 [05:21<00:00,  3.97it/s, LR=1.67e-5, Train_Loss=72.1]\n",
      "  0%|          | 0/319 [00:00<?, ?it/s]"
     ]
    },
    {
     "name": "stdout",
     "output_type": "stream",
     "text": [
      "Training -> Loss: 72.14168079071284\n"
     ]
    },
    {
     "name": "stderr",
     "output_type": "stream",
     "text": [
      "100%|██████████| 319/319 [00:27<00:00, 11.54it/s, Eval_Loss=34.2]\n"
     ]
    },
    {
     "name": "stdout",
     "output_type": "stream",
     "text": [
      "Validation -> Loss: 34.24715764395496\n",
      "Validation score improved (inf --> 34.24715764395496). Saving model!\n"
     ]
    },
    {
     "name": "stderr",
     "output_type": "stream",
     "text": [
      "\r",
      "  0%|          | 0/1276 [00:00<?, ?it/s]"
     ]
    },
    {
     "name": "stdout",
     "output_type": "stream",
     "text": [
      "Epoch 1, lr 1.6679738562091504e-05\n",
      "Mode Scheduler: OK\n"
     ]
    },
    {
     "name": "stderr",
     "output_type": "stream",
     "text": [
      "100%|██████████| 1276/1276 [05:22<00:00,  3.95it/s, LR=1.85e-5, Train_Loss=30.6]\n",
      "  0%|          | 0/319 [00:00<?, ?it/s]"
     ]
    },
    {
     "name": "stdout",
     "output_type": "stream",
     "text": [
      "Training -> Loss: 30.575736187094805\n"
     ]
    },
    {
     "name": "stderr",
     "output_type": "stream",
     "text": [
      "100%|██████████| 319/319 [00:28<00:00, 11.18it/s, Eval_Loss=26.7]\n"
     ]
    },
    {
     "name": "stdout",
     "output_type": "stream",
     "text": [
      "Validation -> Loss: 26.723944888219563\n",
      "Validation score improved (34.24715764395496 --> 26.723944888219563). Saving model!\n"
     ]
    },
    {
     "name": "stderr",
     "output_type": "stream",
     "text": [
      "\r",
      "  0%|          | 0/1276 [00:00<?, ?it/s]"
     ]
    },
    {
     "name": "stdout",
     "output_type": "stream",
     "text": [
      "Epoch 2, lr 1.8516044721939887e-05\n",
      "Mode Scheduler: OK\n"
     ]
    },
    {
     "name": "stderr",
     "output_type": "stream",
     "text": [
      "100%|██████████| 1276/1276 [05:24<00:00,  3.94it/s, LR=1.67e-5, Train_Loss=25.4]\n",
      "  0%|          | 0/319 [00:00<?, ?it/s]"
     ]
    },
    {
     "name": "stdout",
     "output_type": "stream",
     "text": [
      "Training -> Loss: 25.446724702572002\n"
     ]
    },
    {
     "name": "stderr",
     "output_type": "stream",
     "text": [
      "100%|██████████| 319/319 [00:29<00:00, 10.96it/s, Eval_Loss=25.6]\n"
     ]
    },
    {
     "name": "stdout",
     "output_type": "stream",
     "text": [
      "Validation -> Loss: 25.558437634411277\n",
      "Validation score improved (26.723944888219563 --> 25.558437634411277). Saving model!\n"
     ]
    },
    {
     "name": "stderr",
     "output_type": "stream",
     "text": [
      "\r",
      "  0%|          | 0/1276 [00:00<?, ?it/s]"
     ]
    },
    {
     "name": "stdout",
     "output_type": "stream",
     "text": [
      "Epoch 3, lr 1.6663278640917674e-05\n",
      "Mode Scheduler: OK\n"
     ]
    },
    {
     "name": "stderr",
     "output_type": "stream",
     "text": [
      "100%|██████████| 1276/1276 [05:24<00:00,  3.93it/s, LR=1.48e-5, Train_Loss=22.8]\n",
      "  0%|          | 0/319 [00:00<?, ?it/s]"
     ]
    },
    {
     "name": "stdout",
     "output_type": "stream",
     "text": [
      "Training -> Loss: 22.820410957904446\n"
     ]
    },
    {
     "name": "stderr",
     "output_type": "stream",
     "text": [
      "100%|██████████| 319/319 [00:28<00:00, 11.00it/s, Eval_Loss=26]  \n",
      "  0%|          | 0/1276 [00:00<?, ?it/s]"
     ]
    },
    {
     "name": "stdout",
     "output_type": "stream",
     "text": [
      "Validation -> Loss: 25.988142964234548\n",
      "EarlyStopping counter: 1 out of 5\n",
      "Epoch 4, lr 1.4810512559895456e-05\n",
      "Mode Scheduler: OK\n"
     ]
    },
    {
     "name": "stderr",
     "output_type": "stream",
     "text": [
      "100%|██████████| 1276/1276 [05:23<00:00,  3.95it/s, LR=1.3e-5, Train_Loss=20.9] \n",
      "  0%|          | 0/319 [00:00<?, ?it/s]"
     ]
    },
    {
     "name": "stdout",
     "output_type": "stream",
     "text": [
      "Training -> Loss: 20.933106670559013\n"
     ]
    },
    {
     "name": "stderr",
     "output_type": "stream",
     "text": [
      "100%|██████████| 319/319 [00:28<00:00, 11.02it/s, Eval_Loss=25.2]\n"
     ]
    },
    {
     "name": "stdout",
     "output_type": "stream",
     "text": [
      "Validation -> Loss: 25.191499677197687\n",
      "Validation score improved (25.558437634411277 --> 25.191499677197687). Saving model!\n"
     ]
    },
    {
     "name": "stderr",
     "output_type": "stream",
     "text": [
      "\r",
      "  0%|          | 0/1276 [00:00<?, ?it/s]"
     ]
    },
    {
     "name": "stdout",
     "output_type": "stream",
     "text": [
      "Epoch 5, lr 1.2957746478873242e-05\n",
      "Mode Scheduler: OK\n"
     ]
    },
    {
     "name": "stderr",
     "output_type": "stream",
     "text": [
      "100%|██████████| 1276/1276 [05:24<00:00,  3.93it/s, LR=1.11e-5, Train_Loss=19.6]\n",
      "  0%|          | 0/319 [00:00<?, ?it/s]"
     ]
    },
    {
     "name": "stdout",
     "output_type": "stream",
     "text": [
      "Training -> Loss: 19.5825565874016\n"
     ]
    },
    {
     "name": "stderr",
     "output_type": "stream",
     "text": [
      "100%|██████████| 319/319 [00:29<00:00, 10.96it/s, Eval_Loss=25.2]\n"
     ]
    },
    {
     "name": "stdout",
     "output_type": "stream",
     "text": [
      "Validation -> Loss: 25.16567113930155\n",
      "Validation score improved (25.191499677197687 --> 25.16567113930155). Saving model!\n"
     ]
    },
    {
     "name": "stderr",
     "output_type": "stream",
     "text": [
      "\r",
      "  0%|          | 0/1276 [00:00<?, ?it/s]"
     ]
    },
    {
     "name": "stdout",
     "output_type": "stream",
     "text": [
      "Epoch 6, lr 1.1104980397851025e-05\n",
      "Mode Scheduler: OK\n"
     ]
    },
    {
     "name": "stderr",
     "output_type": "stream",
     "text": [
      "100%|██████████| 1276/1276 [05:24<00:00,  3.93it/s, LR=9.25e-6, Train_Loss=18.4]\n",
      "  0%|          | 0/319 [00:00<?, ?it/s]"
     ]
    },
    {
     "name": "stdout",
     "output_type": "stream",
     "text": [
      "Training -> Loss: 18.41613114440703\n"
     ]
    },
    {
     "name": "stderr",
     "output_type": "stream",
     "text": [
      "100%|██████████| 319/319 [00:29<00:00, 10.99it/s, Eval_Loss=24.8]\n"
     ]
    },
    {
     "name": "stdout",
     "output_type": "stream",
     "text": [
      "Validation -> Loss: 24.8374388105817\n",
      "Validation score improved (25.16567113930155 --> 24.8374388105817). Saving model!\n"
     ]
    },
    {
     "name": "stderr",
     "output_type": "stream",
     "text": [
      "\r",
      "  0%|          | 0/1276 [00:00<?, ?it/s]"
     ]
    },
    {
     "name": "stdout",
     "output_type": "stream",
     "text": [
      "Epoch 7, lr 9.252214316828807e-06\n",
      "Mode Scheduler: OK\n"
     ]
    },
    {
     "name": "stderr",
     "output_type": "stream",
     "text": [
      "100%|██████████| 1276/1276 [05:24<00:00,  3.93it/s, LR=7.4e-6, Train_Loss=17.5] \n",
      "  0%|          | 0/319 [00:00<?, ?it/s]"
     ]
    },
    {
     "name": "stdout",
     "output_type": "stream",
     "text": [
      "Training -> Loss: 17.47047094827909\n"
     ]
    },
    {
     "name": "stderr",
     "output_type": "stream",
     "text": [
      "100%|██████████| 319/319 [00:29<00:00, 10.95it/s, Eval_Loss=23.5]\n"
     ]
    },
    {
     "name": "stdout",
     "output_type": "stream",
     "text": [
      "Validation -> Loss: 23.525701809826316\n",
      "Validation score improved (24.8374388105817 --> 23.525701809826316). Saving model!\n"
     ]
    },
    {
     "name": "stderr",
     "output_type": "stream",
     "text": [
      "\r",
      "  0%|          | 0/1276 [00:00<?, ?it/s]"
     ]
    },
    {
     "name": "stdout",
     "output_type": "stream",
     "text": [
      "Epoch 8, lr 7.399448235806593e-06\n",
      "Mode Scheduler: OK\n"
     ]
    },
    {
     "name": "stderr",
     "output_type": "stream",
     "text": [
      "100%|██████████| 1276/1276 [05:24<00:00,  3.93it/s, LR=5.55e-6, Train_Loss=16.7]\n",
      "  0%|          | 0/319 [00:00<?, ?it/s]"
     ]
    },
    {
     "name": "stdout",
     "output_type": "stream",
     "text": [
      "Training -> Loss: 16.711096798364647\n"
     ]
    },
    {
     "name": "stderr",
     "output_type": "stream",
     "text": [
      "100%|██████████| 319/319 [00:28<00:00, 11.06it/s, Eval_Loss=23.3]\n"
     ]
    },
    {
     "name": "stdout",
     "output_type": "stream",
     "text": [
      "Validation -> Loss: 23.297262559490143\n",
      "Validation score improved (23.525701809826316 --> 23.297262559490143). Saving model!\n"
     ]
    },
    {
     "name": "stderr",
     "output_type": "stream",
     "text": [
      "\r",
      "  0%|          | 0/1276 [00:00<?, ?it/s]"
     ]
    },
    {
     "name": "stdout",
     "output_type": "stream",
     "text": [
      "Epoch 9, lr 5.546682154784376e-06\n",
      "Mode Scheduler: OK\n"
     ]
    },
    {
     "name": "stderr",
     "output_type": "stream",
     "text": [
      "100%|██████████| 1276/1276 [05:24<00:00,  3.93it/s, LR=3.69e-6, Train_Loss=16.1]\n",
      "  0%|          | 0/319 [00:00<?, ?it/s]"
     ]
    },
    {
     "name": "stdout",
     "output_type": "stream",
     "text": [
      "Training -> Loss: 16.11922672148035\n"
     ]
    },
    {
     "name": "stderr",
     "output_type": "stream",
     "text": [
      "100%|██████████| 319/319 [00:29<00:00, 10.94it/s, Eval_Loss=22.7]\n"
     ]
    },
    {
     "name": "stdout",
     "output_type": "stream",
     "text": [
      "Validation -> Loss: 22.69593770974856\n",
      "Validation score improved (23.297262559490143 --> 22.69593770974856). Saving model!\n"
     ]
    },
    {
     "name": "stderr",
     "output_type": "stream",
     "text": [
      "\r",
      "  0%|          | 0/1276 [00:00<?, ?it/s]"
     ]
    },
    {
     "name": "stdout",
     "output_type": "stream",
     "text": [
      "Epoch 10, lr 3.693916073762161e-06\n",
      "Mode Scheduler: OK\n"
     ]
    },
    {
     "name": "stderr",
     "output_type": "stream",
     "text": [
      "100%|██████████| 1276/1276 [05:24<00:00,  3.93it/s, LR=1.84e-6, Train_Loss=15.6]\n",
      "  0%|          | 0/319 [00:00<?, ?it/s]"
     ]
    },
    {
     "name": "stdout",
     "output_type": "stream",
     "text": [
      "Training -> Loss: 15.613884917994652\n"
     ]
    },
    {
     "name": "stderr",
     "output_type": "stream",
     "text": [
      "100%|██████████| 319/319 [00:29<00:00, 10.97it/s, Eval_Loss=22.2]\n"
     ]
    },
    {
     "name": "stdout",
     "output_type": "stream",
     "text": [
      "Validation -> Loss: 22.247629913043077\n",
      "Validation score improved (22.69593770974856 --> 22.247629913043077). Saving model!\n"
     ]
    },
    {
     "name": "stderr",
     "output_type": "stream",
     "text": [
      "\r",
      "  0%|          | 0/1276 [00:00<?, ?it/s]"
     ]
    },
    {
     "name": "stdout",
     "output_type": "stream",
     "text": [
      "Epoch 11, lr 1.841149992739945e-06\n",
      "Mode Scheduler: OK\n"
     ]
    },
    {
     "name": "stderr",
     "output_type": "stream",
     "text": [
      "100%|██████████| 1276/1276 [05:24<00:00,  3.93it/s, LR=0, Train_Loss=15.3]      \n",
      "  0%|          | 0/319 [00:00<?, ?it/s]"
     ]
    },
    {
     "name": "stdout",
     "output_type": "stream",
     "text": [
      "Training -> Loss: 15.273804533444228\n"
     ]
    },
    {
     "name": "stderr",
     "output_type": "stream",
     "text": [
      "100%|██████████| 319/319 [00:28<00:00, 11.09it/s, Eval_Loss=22.4]\n"
     ]
    },
    {
     "name": "stdout",
     "output_type": "stream",
     "text": [
      "Validation -> Loss: 22.424253230558293\n",
      "EarlyStopping counter: 1 out of 5\n",
      "Didn't meet early stopping\n",
      "******************** Model Fold 1  *****************\n",
      "Train:  81622 Valid:  20406\n"
     ]
    },
    {
     "name": "stderr",
     "output_type": "stream",
     "text": [
      "\r",
      "  0%|          | 0/1276 [00:00<?, ?it/s]"
     ]
    },
    {
     "name": "stdout",
     "output_type": "stream",
     "text": [
      "num_train_steps: 15304\n",
      "Epoch 0, lr 0.0\n",
      "Mode Scheduler: OK\n"
     ]
    },
    {
     "name": "stderr",
     "output_type": "stream",
     "text": [
      "100%|██████████| 1276/1276 [05:25<00:00,  3.92it/s, LR=1.67e-5, Train_Loss=71.7]\n",
      "  0%|          | 0/319 [00:00<?, ?it/s]"
     ]
    },
    {
     "name": "stdout",
     "output_type": "stream",
     "text": [
      "Training -> Loss: 71.74262105409628\n"
     ]
    },
    {
     "name": "stderr",
     "output_type": "stream",
     "text": [
      "100%|██████████| 319/319 [00:28<00:00, 11.28it/s, Eval_Loss=35]  \n"
     ]
    },
    {
     "name": "stdout",
     "output_type": "stream",
     "text": [
      "Validation -> Loss: 35.04295958396409\n",
      "Validation score improved (inf --> 35.04295958396409). Saving model!\n"
     ]
    },
    {
     "name": "stderr",
     "output_type": "stream",
     "text": [
      "\r",
      "  0%|          | 0/1276 [00:00<?, ?it/s]"
     ]
    },
    {
     "name": "stdout",
     "output_type": "stream",
     "text": [
      "Epoch 1, lr 1.6679738562091504e-05\n",
      "Mode Scheduler: OK\n"
     ]
    },
    {
     "name": "stderr",
     "output_type": "stream",
     "text": [
      "100%|██████████| 1276/1276 [05:23<00:00,  3.95it/s, LR=1.85e-5, Train_Loss=30.3]\n",
      "  0%|          | 0/319 [00:00<?, ?it/s]"
     ]
    },
    {
     "name": "stdout",
     "output_type": "stream",
     "text": [
      "Training -> Loss: 30.271344462905933\n"
     ]
    },
    {
     "name": "stderr",
     "output_type": "stream",
     "text": [
      "100%|██████████| 319/319 [00:28<00:00, 11.28it/s, Eval_Loss=27.1]\n"
     ]
    },
    {
     "name": "stdout",
     "output_type": "stream",
     "text": [
      "Validation -> Loss: 27.070906172725476\n",
      "Validation score improved (35.04295958396409 --> 27.070906172725476). Saving model!\n"
     ]
    },
    {
     "name": "stderr",
     "output_type": "stream",
     "text": [
      "\r",
      "  0%|          | 0/1276 [00:00<?, ?it/s]"
     ]
    },
    {
     "name": "stdout",
     "output_type": "stream",
     "text": [
      "Epoch 2, lr 1.8516044721939887e-05\n",
      "Mode Scheduler: OK\n"
     ]
    },
    {
     "name": "stderr",
     "output_type": "stream",
     "text": [
      "100%|██████████| 1276/1276 [05:23<00:00,  3.95it/s, LR=1.67e-5, Train_Loss=25]  \n",
      "  0%|          | 0/319 [00:00<?, ?it/s]"
     ]
    },
    {
     "name": "stdout",
     "output_type": "stream",
     "text": [
      "Training -> Loss: 24.958066819977237\n"
     ]
    },
    {
     "name": "stderr",
     "output_type": "stream",
     "text": [
      "100%|██████████| 319/319 [00:27<00:00, 11.42it/s, Eval_Loss=25.3]\n"
     ]
    },
    {
     "name": "stdout",
     "output_type": "stream",
     "text": [
      "Validation -> Loss: 25.26345479002567\n",
      "Validation score improved (27.070906172725476 --> 25.26345479002567). Saving model!\n"
     ]
    },
    {
     "name": "stderr",
     "output_type": "stream",
     "text": [
      "\r",
      "  0%|          | 0/1276 [00:00<?, ?it/s]"
     ]
    },
    {
     "name": "stdout",
     "output_type": "stream",
     "text": [
      "Epoch 3, lr 1.6663278640917674e-05\n",
      "Mode Scheduler: OK\n"
     ]
    },
    {
     "name": "stderr",
     "output_type": "stream",
     "text": [
      "100%|██████████| 1276/1276 [05:23<00:00,  3.94it/s, LR=1.48e-5, Train_Loss=22.6]\n",
      "  0%|          | 0/319 [00:00<?, ?it/s]"
     ]
    },
    {
     "name": "stdout",
     "output_type": "stream",
     "text": [
      "Training -> Loss: 22.601844803292924\n"
     ]
    },
    {
     "name": "stderr",
     "output_type": "stream",
     "text": [
      "100%|██████████| 319/319 [00:28<00:00, 11.33it/s, Eval_Loss=24.8]\n"
     ]
    },
    {
     "name": "stdout",
     "output_type": "stream",
     "text": [
      "Validation -> Loss: 24.767041257182633\n",
      "Validation score improved (25.26345479002567 --> 24.767041257182633). Saving model!\n"
     ]
    },
    {
     "name": "stderr",
     "output_type": "stream",
     "text": [
      "\r",
      "  0%|          | 0/1276 [00:00<?, ?it/s]"
     ]
    },
    {
     "name": "stdout",
     "output_type": "stream",
     "text": [
      "Epoch 4, lr 1.4810512559895456e-05\n",
      "Mode Scheduler: OK\n"
     ]
    },
    {
     "name": "stderr",
     "output_type": "stream",
     "text": [
      "100%|██████████| 1276/1276 [05:23<00:00,  3.95it/s, LR=1.3e-5, Train_Loss=20.9] \n",
      "  0%|          | 0/319 [00:00<?, ?it/s]"
     ]
    },
    {
     "name": "stdout",
     "output_type": "stream",
     "text": [
      "Training -> Loss: 20.86537601207865\n"
     ]
    },
    {
     "name": "stderr",
     "output_type": "stream",
     "text": [
      "100%|██████████| 319/319 [00:27<00:00, 11.41it/s, Eval_Loss=24.5]\n"
     ]
    },
    {
     "name": "stdout",
     "output_type": "stream",
     "text": [
      "Validation -> Loss: 24.50147569889559\n",
      "Validation score improved (24.767041257182633 --> 24.50147569889559). Saving model!\n"
     ]
    },
    {
     "name": "stderr",
     "output_type": "stream",
     "text": [
      "\r",
      "  0%|          | 0/1276 [00:00<?, ?it/s]"
     ]
    },
    {
     "name": "stdout",
     "output_type": "stream",
     "text": [
      "Epoch 5, lr 1.2957746478873242e-05\n",
      "Mode Scheduler: OK\n"
     ]
    },
    {
     "name": "stderr",
     "output_type": "stream",
     "text": [
      "100%|██████████| 1276/1276 [05:23<00:00,  3.94it/s, LR=1.11e-5, Train_Loss=19.5]\n",
      "  0%|          | 0/319 [00:00<?, ?it/s]"
     ]
    },
    {
     "name": "stdout",
     "output_type": "stream",
     "text": [
      "Training -> Loss: 19.511992819256918\n"
     ]
    },
    {
     "name": "stderr",
     "output_type": "stream",
     "text": [
      "100%|██████████| 319/319 [00:28<00:00, 11.38it/s, Eval_Loss=23.8]\n"
     ]
    },
    {
     "name": "stdout",
     "output_type": "stream",
     "text": [
      "Validation -> Loss: 23.839570153095877\n",
      "Validation score improved (24.50147569889559 --> 23.839570153095877). Saving model!\n"
     ]
    },
    {
     "name": "stderr",
     "output_type": "stream",
     "text": [
      "\r",
      "  0%|          | 0/1276 [00:00<?, ?it/s]"
     ]
    },
    {
     "name": "stdout",
     "output_type": "stream",
     "text": [
      "Epoch 6, lr 1.1104980397851025e-05\n",
      "Mode Scheduler: OK\n"
     ]
    },
    {
     "name": "stderr",
     "output_type": "stream",
     "text": [
      "100%|██████████| 1276/1276 [05:23<00:00,  3.94it/s, LR=9.25e-6, Train_Loss=18.3]\n",
      "  0%|          | 0/319 [00:00<?, ?it/s]"
     ]
    },
    {
     "name": "stdout",
     "output_type": "stream",
     "text": [
      "Training -> Loss: 18.285801823983746\n"
     ]
    },
    {
     "name": "stderr",
     "output_type": "stream",
     "text": [
      "100%|██████████| 319/319 [00:27<00:00, 11.41it/s, Eval_Loss=23.7]\n"
     ]
    },
    {
     "name": "stdout",
     "output_type": "stream",
     "text": [
      "Validation -> Loss: 23.66585559306847\n",
      "Validation score improved (23.839570153095877 --> 23.66585559306847). Saving model!\n"
     ]
    },
    {
     "name": "stderr",
     "output_type": "stream",
     "text": [
      "\r",
      "  0%|          | 0/1276 [00:00<?, ?it/s]"
     ]
    },
    {
     "name": "stdout",
     "output_type": "stream",
     "text": [
      "Epoch 7, lr 9.252214316828807e-06\n",
      "Mode Scheduler: OK\n"
     ]
    },
    {
     "name": "stderr",
     "output_type": "stream",
     "text": [
      "100%|██████████| 1276/1276 [05:23<00:00,  3.95it/s, LR=7.4e-6, Train_Loss=17.3] \n",
      "  0%|          | 0/319 [00:00<?, ?it/s]"
     ]
    },
    {
     "name": "stdout",
     "output_type": "stream",
     "text": [
      "Training -> Loss: 17.315743133939545\n"
     ]
    },
    {
     "name": "stderr",
     "output_type": "stream",
     "text": [
      "100%|██████████| 319/319 [00:28<00:00, 11.37it/s, Eval_Loss=23.4]\n"
     ]
    },
    {
     "name": "stdout",
     "output_type": "stream",
     "text": [
      "Validation -> Loss: 23.356474975059772\n",
      "Validation score improved (23.66585559306847 --> 23.356474975059772). Saving model!\n"
     ]
    },
    {
     "name": "stderr",
     "output_type": "stream",
     "text": [
      "\r",
      "  0%|          | 0/1276 [00:00<?, ?it/s]"
     ]
    },
    {
     "name": "stdout",
     "output_type": "stream",
     "text": [
      "Epoch 8, lr 7.399448235806593e-06\n",
      "Mode Scheduler: OK\n"
     ]
    },
    {
     "name": "stderr",
     "output_type": "stream",
     "text": [
      "100%|██████████| 1276/1276 [05:23<00:00,  3.94it/s, LR=5.55e-6, Train_Loss=16.6]\n",
      "  0%|          | 0/319 [00:00<?, ?it/s]"
     ]
    },
    {
     "name": "stdout",
     "output_type": "stream",
     "text": [
      "Training -> Loss: 16.61854158150365\n"
     ]
    },
    {
     "name": "stderr",
     "output_type": "stream",
     "text": [
      "100%|██████████| 319/319 [00:27<00:00, 11.46it/s, Eval_Loss=23.5]\n",
      "  0%|          | 0/1276 [00:00<?, ?it/s]"
     ]
    },
    {
     "name": "stdout",
     "output_type": "stream",
     "text": [
      "Validation -> Loss: 23.53880213644811\n",
      "EarlyStopping counter: 1 out of 5\n",
      "Epoch 9, lr 5.546682154784376e-06\n",
      "Mode Scheduler: OK\n"
     ]
    },
    {
     "name": "stderr",
     "output_type": "stream",
     "text": [
      "100%|██████████| 1276/1276 [05:23<00:00,  3.94it/s, LR=3.69e-6, Train_Loss=16]  \n",
      "  0%|          | 0/319 [00:00<?, ?it/s]"
     ]
    },
    {
     "name": "stdout",
     "output_type": "stream",
     "text": [
      "Training -> Loss: 15.954463119043451\n"
     ]
    },
    {
     "name": "stderr",
     "output_type": "stream",
     "text": [
      "100%|██████████| 319/319 [00:28<00:00, 11.38it/s, Eval_Loss=23.1]\n"
     ]
    },
    {
     "name": "stdout",
     "output_type": "stream",
     "text": [
      "Validation -> Loss: 23.09646807045772\n",
      "Validation score improved (23.356474975059772 --> 23.09646807045772). Saving model!\n"
     ]
    },
    {
     "name": "stderr",
     "output_type": "stream",
     "text": [
      "\r",
      "  0%|          | 0/1276 [00:00<?, ?it/s]"
     ]
    },
    {
     "name": "stdout",
     "output_type": "stream",
     "text": [
      "Epoch 10, lr 3.693916073762161e-06\n",
      "Mode Scheduler: OK\n"
     ]
    },
    {
     "name": "stderr",
     "output_type": "stream",
     "text": [
      "100%|██████████| 1276/1276 [05:23<00:00,  3.94it/s, LR=1.84e-6, Train_Loss=15.5]\n",
      "  0%|          | 0/319 [00:00<?, ?it/s]"
     ]
    },
    {
     "name": "stdout",
     "output_type": "stream",
     "text": [
      "Training -> Loss: 15.480697954990273\n"
     ]
    },
    {
     "name": "stderr",
     "output_type": "stream",
     "text": [
      "100%|██████████| 319/319 [00:28<00:00, 11.36it/s, Eval_Loss=23]  \n"
     ]
    },
    {
     "name": "stdout",
     "output_type": "stream",
     "text": [
      "Validation -> Loss: 22.976819418067095\n",
      "Validation score improved (23.09646807045772 --> 22.976819418067095). Saving model!\n"
     ]
    },
    {
     "name": "stderr",
     "output_type": "stream",
     "text": [
      "\r",
      "  0%|          | 0/1276 [00:00<?, ?it/s]"
     ]
    },
    {
     "name": "stdout",
     "output_type": "stream",
     "text": [
      "Epoch 11, lr 1.841149992739945e-06\n",
      "Mode Scheduler: OK\n"
     ]
    },
    {
     "name": "stderr",
     "output_type": "stream",
     "text": [
      "100%|██████████| 1276/1276 [05:23<00:00,  3.94it/s, LR=0, Train_Loss=15.1]      \n",
      "  0%|          | 0/319 [00:00<?, ?it/s]"
     ]
    },
    {
     "name": "stdout",
     "output_type": "stream",
     "text": [
      "Training -> Loss: 15.127453786452362\n"
     ]
    },
    {
     "name": "stderr",
     "output_type": "stream",
     "text": [
      "100%|██████████| 319/319 [00:27<00:00, 11.42it/s, Eval_Loss=22.7]\n"
     ]
    },
    {
     "name": "stdout",
     "output_type": "stream",
     "text": [
      "Validation -> Loss: 22.697544011202726\n",
      "Validation score improved (22.976819418067095 --> 22.697544011202726). Saving model!\n",
      "Didn't meet early stopping\n",
      "******************** Model Fold 2  *****************\n",
      "Train:  81622 Valid:  20406\n"
     ]
    },
    {
     "name": "stderr",
     "output_type": "stream",
     "text": [
      "\r",
      "  0%|          | 0/1276 [00:00<?, ?it/s]"
     ]
    },
    {
     "name": "stdout",
     "output_type": "stream",
     "text": [
      "num_train_steps: 15304\n",
      "Epoch 0, lr 0.0\n",
      "Mode Scheduler: OK\n"
     ]
    },
    {
     "name": "stderr",
     "output_type": "stream",
     "text": [
      "100%|██████████| 1276/1276 [05:23<00:00,  3.95it/s, LR=1.67e-5, Train_Loss=73]  \n",
      "  0%|          | 0/319 [00:00<?, ?it/s]"
     ]
    },
    {
     "name": "stdout",
     "output_type": "stream",
     "text": [
      "Training -> Loss: 73.01953844291663\n"
     ]
    },
    {
     "name": "stderr",
     "output_type": "stream",
     "text": [
      "100%|██████████| 319/319 [00:27<00:00, 11.44it/s, Eval_Loss=33.8]\n"
     ]
    },
    {
     "name": "stdout",
     "output_type": "stream",
     "text": [
      "Validation -> Loss: 33.83570984986882\n",
      "Validation score improved (inf --> 33.83570984986882). Saving model!\n"
     ]
    },
    {
     "name": "stderr",
     "output_type": "stream",
     "text": [
      "\r",
      "  0%|          | 0/1276 [00:00<?, ?it/s]"
     ]
    },
    {
     "name": "stdout",
     "output_type": "stream",
     "text": [
      "Epoch 1, lr 1.6679738562091504e-05\n",
      "Mode Scheduler: OK\n"
     ]
    },
    {
     "name": "stderr",
     "output_type": "stream",
     "text": [
      "100%|██████████| 1276/1276 [05:23<00:00,  3.95it/s, LR=1.85e-5, Train_Loss=30]  \n",
      "  0%|          | 0/319 [00:00<?, ?it/s]"
     ]
    },
    {
     "name": "stdout",
     "output_type": "stream",
     "text": [
      "Training -> Loss: 30.00392857240659\n"
     ]
    },
    {
     "name": "stderr",
     "output_type": "stream",
     "text": [
      "100%|██████████| 319/319 [00:27<00:00, 11.58it/s, Eval_Loss=26.6]\n"
     ]
    },
    {
     "name": "stdout",
     "output_type": "stream",
     "text": [
      "Validation -> Loss: 26.635949239461773\n",
      "Validation score improved (33.83570984986882 --> 26.635949239461773). Saving model!\n"
     ]
    },
    {
     "name": "stderr",
     "output_type": "stream",
     "text": [
      "\r",
      "  0%|          | 0/1276 [00:00<?, ?it/s]"
     ]
    },
    {
     "name": "stdout",
     "output_type": "stream",
     "text": [
      "Epoch 2, lr 1.8516044721939887e-05\n",
      "Mode Scheduler: OK\n"
     ]
    },
    {
     "name": "stderr",
     "output_type": "stream",
     "text": [
      "100%|██████████| 1276/1276 [05:22<00:00,  3.96it/s, LR=1.67e-5, Train_Loss=25]  \n",
      "  0%|          | 0/319 [00:00<?, ?it/s]"
     ]
    },
    {
     "name": "stdout",
     "output_type": "stream",
     "text": [
      "Training -> Loss: 24.98349136058066\n"
     ]
    },
    {
     "name": "stderr",
     "output_type": "stream",
     "text": [
      "100%|██████████| 319/319 [00:27<00:00, 11.50it/s, Eval_Loss=24.4]\n"
     ]
    },
    {
     "name": "stdout",
     "output_type": "stream",
     "text": [
      "Validation -> Loss: 24.383064945663403\n",
      "Validation score improved (26.635949239461773 --> 24.383064945663403). Saving model!\n"
     ]
    },
    {
     "name": "stderr",
     "output_type": "stream",
     "text": [
      "\r",
      "  0%|          | 0/1276 [00:00<?, ?it/s]"
     ]
    },
    {
     "name": "stdout",
     "output_type": "stream",
     "text": [
      "Epoch 3, lr 1.6663278640917674e-05\n",
      "Mode Scheduler: OK\n"
     ]
    },
    {
     "name": "stderr",
     "output_type": "stream",
     "text": [
      "100%|██████████| 1276/1276 [05:22<00:00,  3.95it/s, LR=1.48e-5, Train_Loss=22.6]\n",
      "  0%|          | 0/319 [00:00<?, ?it/s]"
     ]
    },
    {
     "name": "stdout",
     "output_type": "stream",
     "text": [
      "Training -> Loss: 22.562884160717452\n"
     ]
    },
    {
     "name": "stderr",
     "output_type": "stream",
     "text": [
      "100%|██████████| 319/319 [00:27<00:00, 11.48it/s, Eval_Loss=24.6]\n",
      "  0%|          | 0/1276 [00:00<?, ?it/s]"
     ]
    },
    {
     "name": "stdout",
     "output_type": "stream",
     "text": [
      "Validation -> Loss: 24.613327555521902\n",
      "EarlyStopping counter: 1 out of 5\n",
      "Epoch 4, lr 1.4810512559895456e-05\n",
      "Mode Scheduler: OK\n"
     ]
    },
    {
     "name": "stderr",
     "output_type": "stream",
     "text": [
      "100%|██████████| 1276/1276 [05:22<00:00,  3.95it/s, LR=1.3e-5, Train_Loss=20.7] \n",
      "  0%|          | 0/319 [00:00<?, ?it/s]"
     ]
    },
    {
     "name": "stdout",
     "output_type": "stream",
     "text": [
      "Training -> Loss: 20.701737792140637\n"
     ]
    },
    {
     "name": "stderr",
     "output_type": "stream",
     "text": [
      "100%|██████████| 319/319 [00:27<00:00, 11.52it/s, Eval_Loss=24.1]\n"
     ]
    },
    {
     "name": "stdout",
     "output_type": "stream",
     "text": [
      "Validation -> Loss: 24.12882026983279\n",
      "Validation score improved (24.383064945663403 --> 24.12882026983279). Saving model!\n"
     ]
    },
    {
     "name": "stderr",
     "output_type": "stream",
     "text": [
      "\r",
      "  0%|          | 0/1276 [00:00<?, ?it/s]"
     ]
    },
    {
     "name": "stdout",
     "output_type": "stream",
     "text": [
      "Epoch 5, lr 1.2957746478873242e-05\n",
      "Mode Scheduler: OK\n"
     ]
    },
    {
     "name": "stderr",
     "output_type": "stream",
     "text": [
      "100%|██████████| 1276/1276 [05:22<00:00,  3.96it/s, LR=1.11e-5, Train_Loss=19.3]\n",
      "  0%|          | 0/319 [00:00<?, ?it/s]"
     ]
    },
    {
     "name": "stdout",
     "output_type": "stream",
     "text": [
      "Training -> Loss: 19.321181885501062\n"
     ]
    },
    {
     "name": "stderr",
     "output_type": "stream",
     "text": [
      "100%|██████████| 319/319 [00:27<00:00, 11.46it/s, Eval_Loss=23.5]\n"
     ]
    },
    {
     "name": "stdout",
     "output_type": "stream",
     "text": [
      "Validation -> Loss: 23.450917118395385\n",
      "Validation score improved (24.12882026983279 --> 23.450917118395385). Saving model!\n"
     ]
    },
    {
     "name": "stderr",
     "output_type": "stream",
     "text": [
      "\r",
      "  0%|          | 0/1276 [00:00<?, ?it/s]"
     ]
    },
    {
     "name": "stdout",
     "output_type": "stream",
     "text": [
      "Epoch 6, lr 1.1104980397851025e-05\n",
      "Mode Scheduler: OK\n"
     ]
    },
    {
     "name": "stderr",
     "output_type": "stream",
     "text": [
      "100%|██████████| 1276/1276 [05:22<00:00,  3.96it/s, LR=9.25e-6, Train_Loss=18.2]\n",
      "  0%|          | 0/319 [00:00<?, ?it/s]"
     ]
    },
    {
     "name": "stdout",
     "output_type": "stream",
     "text": [
      "Training -> Loss: 18.244385788059535\n"
     ]
    },
    {
     "name": "stderr",
     "output_type": "stream",
     "text": [
      "100%|██████████| 319/319 [00:28<00:00, 11.37it/s, Eval_Loss=23.1]\n"
     ]
    },
    {
     "name": "stdout",
     "output_type": "stream",
     "text": [
      "Validation -> Loss: 23.06654219791807\n",
      "Validation score improved (23.450917118395385 --> 23.06654219791807). Saving model!\n"
     ]
    },
    {
     "name": "stderr",
     "output_type": "stream",
     "text": [
      "\r",
      "  0%|          | 0/1276 [00:00<?, ?it/s]"
     ]
    },
    {
     "name": "stdout",
     "output_type": "stream",
     "text": [
      "Epoch 7, lr 9.252214316828807e-06\n",
      "Mode Scheduler: OK\n"
     ]
    },
    {
     "name": "stderr",
     "output_type": "stream",
     "text": [
      "100%|██████████| 1276/1276 [05:23<00:00,  3.95it/s, LR=7.4e-6, Train_Loss=17.4] \n",
      "  0%|          | 0/319 [00:00<?, ?it/s]"
     ]
    },
    {
     "name": "stdout",
     "output_type": "stream",
     "text": [
      "Training -> Loss: 17.35863978081736\n"
     ]
    },
    {
     "name": "stderr",
     "output_type": "stream",
     "text": [
      "100%|██████████| 319/319 [00:27<00:00, 11.47it/s, Eval_Loss=22.8]\n"
     ]
    },
    {
     "name": "stdout",
     "output_type": "stream",
     "text": [
      "Validation -> Loss: 22.781064682246\n",
      "Validation score improved (23.06654219791807 --> 22.781064682246). Saving model!\n"
     ]
    },
    {
     "name": "stderr",
     "output_type": "stream",
     "text": [
      "\r",
      "  0%|          | 0/1276 [00:00<?, ?it/s]"
     ]
    },
    {
     "name": "stdout",
     "output_type": "stream",
     "text": [
      "Epoch 8, lr 7.399448235806593e-06\n",
      "Mode Scheduler: OK\n"
     ]
    },
    {
     "name": "stderr",
     "output_type": "stream",
     "text": [
      "100%|██████████| 1276/1276 [05:23<00:00,  3.95it/s, LR=5.55e-6, Train_Loss=16.6]\n",
      "  0%|          | 0/319 [00:00<?, ?it/s]"
     ]
    },
    {
     "name": "stdout",
     "output_type": "stream",
     "text": [
      "Training -> Loss: 16.56329779864105\n"
     ]
    },
    {
     "name": "stderr",
     "output_type": "stream",
     "text": [
      "100%|██████████| 319/319 [00:27<00:00, 11.46it/s, Eval_Loss=22.6]\n"
     ]
    },
    {
     "name": "stdout",
     "output_type": "stream",
     "text": [
      "Validation -> Loss: 22.55104812335071\n",
      "Validation score improved (22.781064682246 --> 22.55104812335071). Saving model!\n"
     ]
    },
    {
     "name": "stderr",
     "output_type": "stream",
     "text": [
      "\r",
      "  0%|          | 0/1276 [00:00<?, ?it/s]"
     ]
    },
    {
     "name": "stdout",
     "output_type": "stream",
     "text": [
      "Epoch 9, lr 5.546682154784376e-06\n",
      "Mode Scheduler: OK\n"
     ]
    },
    {
     "name": "stderr",
     "output_type": "stream",
     "text": [
      "100%|██████████| 1276/1276 [05:22<00:00,  3.96it/s, LR=3.69e-6, Train_Loss=16]  \n",
      "  0%|          | 0/319 [00:00<?, ?it/s]"
     ]
    },
    {
     "name": "stdout",
     "output_type": "stream",
     "text": [
      "Training -> Loss: 16.000642076181393\n"
     ]
    },
    {
     "name": "stderr",
     "output_type": "stream",
     "text": [
      "100%|██████████| 319/319 [00:27<00:00, 11.58it/s, Eval_Loss=22]  \n"
     ]
    },
    {
     "name": "stdout",
     "output_type": "stream",
     "text": [
      "Validation -> Loss: 21.991469245719312\n",
      "Validation score improved (22.55104812335071 --> 21.991469245719312). Saving model!\n"
     ]
    },
    {
     "name": "stderr",
     "output_type": "stream",
     "text": [
      "\r",
      "  0%|          | 0/1276 [00:00<?, ?it/s]"
     ]
    },
    {
     "name": "stdout",
     "output_type": "stream",
     "text": [
      "Epoch 10, lr 3.693916073762161e-06\n",
      "Mode Scheduler: OK\n"
     ]
    },
    {
     "name": "stderr",
     "output_type": "stream",
     "text": [
      "100%|██████████| 1276/1276 [05:22<00:00,  3.95it/s, LR=1.84e-6, Train_Loss=15.5]\n",
      "  0%|          | 0/319 [00:00<?, ?it/s]"
     ]
    },
    {
     "name": "stdout",
     "output_type": "stream",
     "text": [
      "Training -> Loss: 15.524369444219296\n"
     ]
    },
    {
     "name": "stderr",
     "output_type": "stream",
     "text": [
      "100%|██████████| 319/319 [00:27<00:00, 11.50it/s, Eval_Loss=21.9]\n"
     ]
    },
    {
     "name": "stdout",
     "output_type": "stream",
     "text": [
      "Validation -> Loss: 21.94037721747515\n",
      "Validation score improved (21.991469245719312 --> 21.94037721747515). Saving model!\n"
     ]
    },
    {
     "name": "stderr",
     "output_type": "stream",
     "text": [
      "\r",
      "  0%|          | 0/1276 [00:00<?, ?it/s]"
     ]
    },
    {
     "name": "stdout",
     "output_type": "stream",
     "text": [
      "Epoch 11, lr 1.841149992739945e-06\n",
      "Mode Scheduler: OK\n"
     ]
    },
    {
     "name": "stderr",
     "output_type": "stream",
     "text": [
      "100%|██████████| 1276/1276 [05:23<00:00,  3.95it/s, LR=0, Train_Loss=15.2]      \n",
      "  0%|          | 0/319 [00:00<?, ?it/s]"
     ]
    },
    {
     "name": "stdout",
     "output_type": "stream",
     "text": [
      "Training -> Loss: 15.183205813543177\n"
     ]
    },
    {
     "name": "stderr",
     "output_type": "stream",
     "text": [
      "100%|██████████| 319/319 [00:27<00:00, 11.55it/s, Eval_Loss=22]  \n"
     ]
    },
    {
     "name": "stdout",
     "output_type": "stream",
     "text": [
      "Validation -> Loss: 21.97310228258091\n",
      "EarlyStopping counter: 1 out of 5\n",
      "Didn't meet early stopping\n",
      "******************** Model Fold 3  *****************\n",
      "Train:  81623 Valid:  20405\n"
     ]
    },
    {
     "name": "stderr",
     "output_type": "stream",
     "text": [
      "\r",
      "  0%|          | 0/1276 [00:00<?, ?it/s]"
     ]
    },
    {
     "name": "stdout",
     "output_type": "stream",
     "text": [
      "num_train_steps: 15304\n",
      "Epoch 0, lr 0.0\n",
      "Mode Scheduler: OK\n"
     ]
    },
    {
     "name": "stderr",
     "output_type": "stream",
     "text": [
      "100%|██████████| 1276/1276 [05:23<00:00,  3.94it/s, LR=1.67e-5, Train_Loss=72.2]\n",
      "  0%|          | 0/319 [00:00<?, ?it/s]"
     ]
    },
    {
     "name": "stdout",
     "output_type": "stream",
     "text": [
      "Training -> Loss: 72.21252906883025\n"
     ]
    },
    {
     "name": "stderr",
     "output_type": "stream",
     "text": [
      "100%|██████████| 319/319 [00:28<00:00, 11.31it/s, Eval_Loss=35.8]\n"
     ]
    },
    {
     "name": "stdout",
     "output_type": "stream",
     "text": [
      "Validation -> Loss: 35.7909181289912\n",
      "Validation score improved (inf --> 35.7909181289912). Saving model!\n"
     ]
    },
    {
     "name": "stderr",
     "output_type": "stream",
     "text": [
      "\r",
      "  0%|          | 0/1276 [00:00<?, ?it/s]"
     ]
    },
    {
     "name": "stdout",
     "output_type": "stream",
     "text": [
      "Epoch 1, lr 1.6679738562091504e-05\n",
      "Mode Scheduler: OK\n"
     ]
    },
    {
     "name": "stderr",
     "output_type": "stream",
     "text": [
      "100%|██████████| 1276/1276 [05:22<00:00,  3.95it/s, LR=1.85e-5, Train_Loss=30]  \n",
      "  0%|          | 0/319 [00:00<?, ?it/s]"
     ]
    },
    {
     "name": "stdout",
     "output_type": "stream",
     "text": [
      "Training -> Loss: 29.983493896113668\n"
     ]
    },
    {
     "name": "stderr",
     "output_type": "stream",
     "text": [
      "100%|██████████| 319/319 [00:27<00:00, 11.61it/s, Eval_Loss=27.8]\n"
     ]
    },
    {
     "name": "stdout",
     "output_type": "stream",
     "text": [
      "Validation -> Loss: 27.773884285953724\n",
      "Validation score improved (35.7909181289912 --> 27.773884285953724). Saving model!\n"
     ]
    },
    {
     "name": "stderr",
     "output_type": "stream",
     "text": [
      "\r",
      "  0%|          | 0/1276 [00:00<?, ?it/s]"
     ]
    },
    {
     "name": "stdout",
     "output_type": "stream",
     "text": [
      "Epoch 2, lr 1.8516044721939887e-05\n",
      "Mode Scheduler: OK\n"
     ]
    },
    {
     "name": "stderr",
     "output_type": "stream",
     "text": [
      "100%|██████████| 1276/1276 [05:22<00:00,  3.96it/s, LR=1.67e-5, Train_Loss=24.9]\n",
      "  0%|          | 0/319 [00:00<?, ?it/s]"
     ]
    },
    {
     "name": "stdout",
     "output_type": "stream",
     "text": [
      "Training -> Loss: 24.89728327305713\n"
     ]
    },
    {
     "name": "stderr",
     "output_type": "stream",
     "text": [
      "100%|██████████| 319/319 [00:27<00:00, 11.67it/s, Eval_Loss=26.1]\n"
     ]
    },
    {
     "name": "stdout",
     "output_type": "stream",
     "text": [
      "Validation -> Loss: 26.063523627373865\n",
      "Validation score improved (27.773884285953724 --> 26.063523627373865). Saving model!\n"
     ]
    },
    {
     "name": "stderr",
     "output_type": "stream",
     "text": [
      "\r",
      "  0%|          | 0/1276 [00:00<?, ?it/s]"
     ]
    },
    {
     "name": "stdout",
     "output_type": "stream",
     "text": [
      "Epoch 3, lr 1.6663278640917674e-05\n",
      "Mode Scheduler: OK\n"
     ]
    },
    {
     "name": "stderr",
     "output_type": "stream",
     "text": [
      "100%|██████████| 1276/1276 [05:22<00:00,  3.95it/s, LR=1.48e-5, Train_Loss=22.5]\n",
      "  0%|          | 0/319 [00:00<?, ?it/s]"
     ]
    },
    {
     "name": "stdout",
     "output_type": "stream",
     "text": [
      "Training -> Loss: 22.53069764469111\n"
     ]
    },
    {
     "name": "stderr",
     "output_type": "stream",
     "text": [
      "100%|██████████| 319/319 [00:27<00:00, 11.51it/s, Eval_Loss=25.1]\n"
     ]
    },
    {
     "name": "stdout",
     "output_type": "stream",
     "text": [
      "Validation -> Loss: 25.134219023127542\n",
      "Validation score improved (26.063523627373865 --> 25.134219023127542). Saving model!\n"
     ]
    },
    {
     "name": "stderr",
     "output_type": "stream",
     "text": [
      "\r",
      "  0%|          | 0/1276 [00:00<?, ?it/s]"
     ]
    },
    {
     "name": "stdout",
     "output_type": "stream",
     "text": [
      "Epoch 4, lr 1.4810512559895456e-05\n",
      "Mode Scheduler: OK\n"
     ]
    },
    {
     "name": "stderr",
     "output_type": "stream",
     "text": [
      "100%|██████████| 1276/1276 [05:22<00:00,  3.95it/s, LR=1.3e-5, Train_Loss=20.7] \n",
      "  0%|          | 0/319 [00:00<?, ?it/s]"
     ]
    },
    {
     "name": "stdout",
     "output_type": "stream",
     "text": [
      "Training -> Loss: 20.71786942676317\n"
     ]
    },
    {
     "name": "stderr",
     "output_type": "stream",
     "text": [
      "100%|██████████| 319/319 [00:27<00:00, 11.54it/s, Eval_Loss=24.6]\n"
     ]
    },
    {
     "name": "stdout",
     "output_type": "stream",
     "text": [
      "Validation -> Loss: 24.591851587205845\n",
      "Validation score improved (25.134219023127542 --> 24.591851587205845). Saving model!\n"
     ]
    },
    {
     "name": "stderr",
     "output_type": "stream",
     "text": [
      "\r",
      "  0%|          | 0/1276 [00:00<?, ?it/s]"
     ]
    },
    {
     "name": "stdout",
     "output_type": "stream",
     "text": [
      "Epoch 5, lr 1.2957746478873242e-05\n",
      "Mode Scheduler: OK\n"
     ]
    },
    {
     "name": "stderr",
     "output_type": "stream",
     "text": [
      "100%|██████████| 1276/1276 [05:22<00:00,  3.96it/s, LR=1.11e-5, Train_Loss=19.2]\n",
      "  0%|          | 0/319 [00:00<?, ?it/s]"
     ]
    },
    {
     "name": "stdout",
     "output_type": "stream",
     "text": [
      "Training -> Loss: 19.21526801847739\n"
     ]
    },
    {
     "name": "stderr",
     "output_type": "stream",
     "text": [
      "100%|██████████| 319/319 [00:27<00:00, 11.60it/s, Eval_Loss=24.3]\n"
     ]
    },
    {
     "name": "stdout",
     "output_type": "stream",
     "text": [
      "Validation -> Loss: 24.26546380512393\n",
      "Validation score improved (24.591851587205845 --> 24.26546380512393). Saving model!\n"
     ]
    },
    {
     "name": "stderr",
     "output_type": "stream",
     "text": [
      "\r",
      "  0%|          | 0/1276 [00:00<?, ?it/s]"
     ]
    },
    {
     "name": "stdout",
     "output_type": "stream",
     "text": [
      "Epoch 6, lr 1.1104980397851025e-05\n",
      "Mode Scheduler: OK\n"
     ]
    },
    {
     "name": "stderr",
     "output_type": "stream",
     "text": [
      "100%|██████████| 1276/1276 [05:22<00:00,  3.96it/s, LR=9.25e-6, Train_Loss=18.2]\n",
      "  0%|          | 0/319 [00:00<?, ?it/s]"
     ]
    },
    {
     "name": "stdout",
     "output_type": "stream",
     "text": [
      "Training -> Loss: 18.150394995384456\n"
     ]
    },
    {
     "name": "stderr",
     "output_type": "stream",
     "text": [
      "100%|██████████| 319/319 [00:27<00:00, 11.56it/s, Eval_Loss=23.8]\n"
     ]
    },
    {
     "name": "stdout",
     "output_type": "stream",
     "text": [
      "Validation -> Loss: 23.801059809598055\n",
      "Validation score improved (24.26546380512393 --> 23.801059809598055). Saving model!\n"
     ]
    },
    {
     "name": "stderr",
     "output_type": "stream",
     "text": [
      "\r",
      "  0%|          | 0/1276 [00:00<?, ?it/s]"
     ]
    },
    {
     "name": "stdout",
     "output_type": "stream",
     "text": [
      "Epoch 7, lr 9.252214316828807e-06\n",
      "Mode Scheduler: OK\n"
     ]
    },
    {
     "name": "stderr",
     "output_type": "stream",
     "text": [
      "100%|██████████| 1276/1276 [05:23<00:00,  3.95it/s, LR=7.4e-6, Train_Loss=17.2] \n",
      "  0%|          | 0/319 [00:00<?, ?it/s]"
     ]
    },
    {
     "name": "stdout",
     "output_type": "stream",
     "text": [
      "Training -> Loss: 17.231132318981015\n"
     ]
    },
    {
     "name": "stderr",
     "output_type": "stream",
     "text": [
      "100%|██████████| 319/319 [00:27<00:00, 11.57it/s, Eval_Loss=23.6]\n"
     ]
    },
    {
     "name": "stdout",
     "output_type": "stream",
     "text": [
      "Validation -> Loss: 23.64374775722109\n",
      "Validation score improved (23.801059809598055 --> 23.64374775722109). Saving model!\n"
     ]
    },
    {
     "name": "stderr",
     "output_type": "stream",
     "text": [
      "\r",
      "  0%|          | 0/1276 [00:00<?, ?it/s]"
     ]
    },
    {
     "name": "stdout",
     "output_type": "stream",
     "text": [
      "Epoch 8, lr 7.399448235806593e-06\n",
      "Mode Scheduler: OK\n"
     ]
    },
    {
     "name": "stderr",
     "output_type": "stream",
     "text": [
      "100%|██████████| 1276/1276 [05:22<00:00,  3.96it/s, LR=5.55e-6, Train_Loss=16.6]\n",
      "  0%|          | 0/319 [00:00<?, ?it/s]"
     ]
    },
    {
     "name": "stdout",
     "output_type": "stream",
     "text": [
      "Training -> Loss: 16.5570808779857\n"
     ]
    },
    {
     "name": "stderr",
     "output_type": "stream",
     "text": [
      "100%|██████████| 319/319 [00:27<00:00, 11.62it/s, Eval_Loss=24]  \n",
      "  0%|          | 0/1276 [00:00<?, ?it/s]"
     ]
    },
    {
     "name": "stdout",
     "output_type": "stream",
     "text": [
      "Validation -> Loss: 24.00534340131993\n",
      "EarlyStopping counter: 1 out of 5\n",
      "Epoch 9, lr 5.546682154784376e-06\n",
      "Mode Scheduler: OK\n"
     ]
    },
    {
     "name": "stderr",
     "output_type": "stream",
     "text": [
      "100%|██████████| 1276/1276 [05:23<00:00,  3.95it/s, LR=3.69e-6, Train_Loss=15.9]\n",
      "  0%|          | 0/319 [00:00<?, ?it/s]"
     ]
    },
    {
     "name": "stdout",
     "output_type": "stream",
     "text": [
      "Training -> Loss: 15.93255532535266\n"
     ]
    },
    {
     "name": "stderr",
     "output_type": "stream",
     "text": [
      "100%|██████████| 319/319 [00:27<00:00, 11.53it/s, Eval_Loss=23.4]\n"
     ]
    },
    {
     "name": "stdout",
     "output_type": "stream",
     "text": [
      "Validation -> Loss: 23.38432802301963\n",
      "Validation score improved (23.64374775722109 --> 23.38432802301963). Saving model!\n"
     ]
    },
    {
     "name": "stderr",
     "output_type": "stream",
     "text": [
      "\r",
      "  0%|          | 0/1276 [00:00<?, ?it/s]"
     ]
    },
    {
     "name": "stdout",
     "output_type": "stream",
     "text": [
      "Epoch 10, lr 3.693916073762161e-06\n",
      "Mode Scheduler: OK\n"
     ]
    },
    {
     "name": "stderr",
     "output_type": "stream",
     "text": [
      "100%|██████████| 1276/1276 [05:23<00:00,  3.95it/s, LR=1.84e-6, Train_Loss=15.4]\n",
      "  0%|          | 0/319 [00:00<?, ?it/s]"
     ]
    },
    {
     "name": "stdout",
     "output_type": "stream",
     "text": [
      "Training -> Loss: 15.381379615176808\n"
     ]
    },
    {
     "name": "stderr",
     "output_type": "stream",
     "text": [
      "100%|██████████| 319/319 [00:27<00:00, 11.57it/s, Eval_Loss=23.2]\n"
     ]
    },
    {
     "name": "stdout",
     "output_type": "stream",
     "text": [
      "Validation -> Loss: 23.226445924525724\n",
      "Validation score improved (23.38432802301963 --> 23.226445924525724). Saving model!\n"
     ]
    },
    {
     "name": "stderr",
     "output_type": "stream",
     "text": [
      "\r",
      "  0%|          | 0/1276 [00:00<?, ?it/s]"
     ]
    },
    {
     "name": "stdout",
     "output_type": "stream",
     "text": [
      "Epoch 11, lr 1.841149992739945e-06\n",
      "Mode Scheduler: OK\n"
     ]
    },
    {
     "name": "stderr",
     "output_type": "stream",
     "text": [
      "100%|██████████| 1276/1276 [05:22<00:00,  3.96it/s, LR=0, Train_Loss=15]        \n",
      "  0%|          | 0/319 [00:00<?, ?it/s]"
     ]
    },
    {
     "name": "stdout",
     "output_type": "stream",
     "text": [
      "Training -> Loss: 15.021322443567474\n"
     ]
    },
    {
     "name": "stderr",
     "output_type": "stream",
     "text": [
      "100%|██████████| 319/319 [00:27<00:00, 11.50it/s, Eval_Loss=23.1]\n"
     ]
    },
    {
     "name": "stdout",
     "output_type": "stream",
     "text": [
      "Validation -> Loss: 23.124623618529508\n",
      "Validation score improved (23.226445924525724 --> 23.124623618529508). Saving model!\n",
      "Didn't meet early stopping\n",
      "******************** Model Fold 4  *****************\n",
      "Train:  81623 Valid:  20405\n"
     ]
    },
    {
     "name": "stderr",
     "output_type": "stream",
     "text": [
      "\r",
      "  0%|          | 0/1276 [00:00<?, ?it/s]"
     ]
    },
    {
     "name": "stdout",
     "output_type": "stream",
     "text": [
      "num_train_steps: 15304\n",
      "Epoch 0, lr 0.0\n",
      "Mode Scheduler: OK\n"
     ]
    },
    {
     "name": "stderr",
     "output_type": "stream",
     "text": [
      "100%|██████████| 1276/1276 [05:23<00:00,  3.94it/s, LR=1.67e-5, Train_Loss=73.5]\n",
      "  0%|          | 0/319 [00:00<?, ?it/s]"
     ]
    },
    {
     "name": "stdout",
     "output_type": "stream",
     "text": [
      "Training -> Loss: 73.5010647026349\n"
     ]
    },
    {
     "name": "stderr",
     "output_type": "stream",
     "text": [
      "100%|██████████| 319/319 [00:27<00:00, 11.51it/s, Eval_Loss=33.5]\n"
     ]
    },
    {
     "name": "stdout",
     "output_type": "stream",
     "text": [
      "Validation -> Loss: 33.457854507111456\n",
      "Validation score improved (inf --> 33.457854507111456). Saving model!\n"
     ]
    },
    {
     "name": "stderr",
     "output_type": "stream",
     "text": [
      "\r",
      "  0%|          | 0/1276 [00:00<?, ?it/s]"
     ]
    },
    {
     "name": "stdout",
     "output_type": "stream",
     "text": [
      "Epoch 1, lr 1.6679738562091504e-05\n",
      "Mode Scheduler: OK\n"
     ]
    },
    {
     "name": "stderr",
     "output_type": "stream",
     "text": [
      "100%|██████████| 1276/1276 [05:22<00:00,  3.95it/s, LR=1.85e-5, Train_Loss=30.3]\n",
      "  0%|          | 0/319 [00:00<?, ?it/s]"
     ]
    },
    {
     "name": "stdout",
     "output_type": "stream",
     "text": [
      "Training -> Loss: 30.33029447977072\n"
     ]
    },
    {
     "name": "stderr",
     "output_type": "stream",
     "text": [
      "100%|██████████| 319/319 [00:27<00:00, 11.47it/s, Eval_Loss=26.8]\n"
     ]
    },
    {
     "name": "stdout",
     "output_type": "stream",
     "text": [
      "Validation -> Loss: 26.768773853218295\n",
      "Validation score improved (33.457854507111456 --> 26.768773853218295). Saving model!\n"
     ]
    },
    {
     "name": "stderr",
     "output_type": "stream",
     "text": [
      "\r",
      "  0%|          | 0/1276 [00:00<?, ?it/s]"
     ]
    },
    {
     "name": "stdout",
     "output_type": "stream",
     "text": [
      "Epoch 2, lr 1.8516044721939887e-05\n",
      "Mode Scheduler: OK\n"
     ]
    },
    {
     "name": "stderr",
     "output_type": "stream",
     "text": [
      "100%|██████████| 1276/1276 [05:22<00:00,  3.95it/s, LR=1.67e-5, Train_Loss=25.3]\n",
      "  0%|          | 0/319 [00:00<?, ?it/s]"
     ]
    },
    {
     "name": "stdout",
     "output_type": "stream",
     "text": [
      "Training -> Loss: 25.29649917533779\n"
     ]
    },
    {
     "name": "stderr",
     "output_type": "stream",
     "text": [
      "100%|██████████| 319/319 [00:27<00:00, 11.44it/s, Eval_Loss=25.3]\n"
     ]
    },
    {
     "name": "stdout",
     "output_type": "stream",
     "text": [
      "Validation -> Loss: 25.28253132870952\n",
      "Validation score improved (26.768773853218295 --> 25.28253132870952). Saving model!\n"
     ]
    },
    {
     "name": "stderr",
     "output_type": "stream",
     "text": [
      "\r",
      "  0%|          | 0/1276 [00:00<?, ?it/s]"
     ]
    },
    {
     "name": "stdout",
     "output_type": "stream",
     "text": [
      "Epoch 3, lr 1.6663278640917674e-05\n",
      "Mode Scheduler: OK\n"
     ]
    },
    {
     "name": "stderr",
     "output_type": "stream",
     "text": [
      "100%|██████████| 1276/1276 [05:23<00:00,  3.95it/s, LR=1.48e-5, Train_Loss=22.9]\n",
      "  0%|          | 0/319 [00:00<?, ?it/s]"
     ]
    },
    {
     "name": "stdout",
     "output_type": "stream",
     "text": [
      "Training -> Loss: 22.940265870393258\n"
     ]
    },
    {
     "name": "stderr",
     "output_type": "stream",
     "text": [
      "100%|██████████| 319/319 [00:27<00:00, 11.52it/s, Eval_Loss=25.9]\n",
      "  0%|          | 0/1276 [00:00<?, ?it/s]"
     ]
    },
    {
     "name": "stdout",
     "output_type": "stream",
     "text": [
      "Validation -> Loss: 25.91538207433814\n",
      "EarlyStopping counter: 1 out of 5\n",
      "Epoch 4, lr 1.4810512559895456e-05\n",
      "Mode Scheduler: OK\n"
     ]
    },
    {
     "name": "stderr",
     "output_type": "stream",
     "text": [
      "100%|██████████| 1276/1276 [05:23<00:00,  3.95it/s, LR=1.3e-5, Train_Loss=21]   \n",
      "  0%|          | 0/319 [00:00<?, ?it/s]"
     ]
    },
    {
     "name": "stdout",
     "output_type": "stream",
     "text": [
      "Training -> Loss: 21.03903352018434\n"
     ]
    },
    {
     "name": "stderr",
     "output_type": "stream",
     "text": [
      "100%|██████████| 319/319 [00:27<00:00, 11.42it/s, Eval_Loss=24.9]\n"
     ]
    },
    {
     "name": "stdout",
     "output_type": "stream",
     "text": [
      "Validation -> Loss: 24.935529646081235\n",
      "Validation score improved (25.28253132870952 --> 24.935529646081235). Saving model!\n"
     ]
    },
    {
     "name": "stderr",
     "output_type": "stream",
     "text": [
      "\r",
      "  0%|          | 0/1276 [00:00<?, ?it/s]"
     ]
    },
    {
     "name": "stdout",
     "output_type": "stream",
     "text": [
      "Epoch 5, lr 1.2957746478873242e-05\n",
      "Mode Scheduler: OK\n"
     ]
    },
    {
     "name": "stderr",
     "output_type": "stream",
     "text": [
      "100%|██████████| 1276/1276 [05:22<00:00,  3.95it/s, LR=1.11e-5, Train_Loss=19.6]\n",
      "  0%|          | 0/319 [00:00<?, ?it/s]"
     ]
    },
    {
     "name": "stdout",
     "output_type": "stream",
     "text": [
      "Training -> Loss: 19.62182917789232\n"
     ]
    },
    {
     "name": "stderr",
     "output_type": "stream",
     "text": [
      "100%|██████████| 319/319 [00:27<00:00, 11.54it/s, Eval_Loss=23.7]\n"
     ]
    },
    {
     "name": "stdout",
     "output_type": "stream",
     "text": [
      "Validation -> Loss: 23.736058946687226\n",
      "Validation score improved (24.935529646081235 --> 23.736058946687226). Saving model!\n"
     ]
    },
    {
     "name": "stderr",
     "output_type": "stream",
     "text": [
      "\r",
      "  0%|          | 0/1276 [00:00<?, ?it/s]"
     ]
    },
    {
     "name": "stdout",
     "output_type": "stream",
     "text": [
      "Epoch 6, lr 1.1104980397851025e-05\n",
      "Mode Scheduler: OK\n"
     ]
    },
    {
     "name": "stderr",
     "output_type": "stream",
     "text": [
      "100%|██████████| 1276/1276 [05:23<00:00,  3.95it/s, LR=9.25e-6, Train_Loss=18.5]\n",
      "  0%|          | 0/319 [00:00<?, ?it/s]"
     ]
    },
    {
     "name": "stdout",
     "output_type": "stream",
     "text": [
      "Training -> Loss: 18.479689816322445\n"
     ]
    },
    {
     "name": "stderr",
     "output_type": "stream",
     "text": [
      "100%|██████████| 319/319 [00:27<00:00, 11.52it/s, Eval_Loss=22.7]\n"
     ]
    },
    {
     "name": "stdout",
     "output_type": "stream",
     "text": [
      "Validation -> Loss: 22.674996692932513\n",
      "Validation score improved (23.736058946687226 --> 22.674996692932513). Saving model!\n"
     ]
    },
    {
     "name": "stderr",
     "output_type": "stream",
     "text": [
      "\r",
      "  0%|          | 0/1276 [00:00<?, ?it/s]"
     ]
    },
    {
     "name": "stdout",
     "output_type": "stream",
     "text": [
      "Epoch 7, lr 9.252214316828807e-06\n",
      "Mode Scheduler: OK\n"
     ]
    },
    {
     "name": "stderr",
     "output_type": "stream",
     "text": [
      "100%|██████████| 1276/1276 [05:22<00:00,  3.95it/s, LR=7.4e-6, Train_Loss=17.5] \n",
      "  0%|          | 0/319 [00:00<?, ?it/s]"
     ]
    },
    {
     "name": "stdout",
     "output_type": "stream",
     "text": [
      "Training -> Loss: 17.497332436911364\n"
     ]
    },
    {
     "name": "stderr",
     "output_type": "stream",
     "text": [
      "100%|██████████| 319/319 [00:27<00:00, 11.43it/s, Eval_Loss=22.7]\n",
      "  0%|          | 0/1276 [00:00<?, ?it/s]"
     ]
    },
    {
     "name": "stdout",
     "output_type": "stream",
     "text": [
      "Validation -> Loss: 22.71947129467812\n",
      "EarlyStopping counter: 1 out of 5\n",
      "Epoch 8, lr 7.399448235806593e-06\n",
      "Mode Scheduler: OK\n"
     ]
    },
    {
     "name": "stderr",
     "output_type": "stream",
     "text": [
      "100%|██████████| 1276/1276 [05:22<00:00,  3.95it/s, LR=5.55e-6, Train_Loss=16.7]\n",
      "  0%|          | 0/319 [00:00<?, ?it/s]"
     ]
    },
    {
     "name": "stdout",
     "output_type": "stream",
     "text": [
      "Training -> Loss: 16.73222555486386\n"
     ]
    },
    {
     "name": "stderr",
     "output_type": "stream",
     "text": [
      "100%|██████████| 319/319 [00:28<00:00, 11.31it/s, Eval_Loss=23]  \n",
      "  0%|          | 0/1276 [00:00<?, ?it/s]"
     ]
    },
    {
     "name": "stdout",
     "output_type": "stream",
     "text": [
      "Validation -> Loss: 23.018047063701953\n",
      "EarlyStopping counter: 2 out of 5\n",
      "Epoch 9, lr 5.546682154784376e-06\n",
      "Mode Scheduler: OK\n"
     ]
    },
    {
     "name": "stderr",
     "output_type": "stream",
     "text": [
      "100%|██████████| 1276/1276 [05:22<00:00,  3.96it/s, LR=3.69e-6, Train_Loss=16.1]\n",
      "  0%|          | 0/319 [00:00<?, ?it/s]"
     ]
    },
    {
     "name": "stdout",
     "output_type": "stream",
     "text": [
      "Training -> Loss: 16.081167665768568\n"
     ]
    },
    {
     "name": "stderr",
     "output_type": "stream",
     "text": [
      "100%|██████████| 319/319 [00:27<00:00, 11.53it/s, Eval_Loss=22.4]\n"
     ]
    },
    {
     "name": "stdout",
     "output_type": "stream",
     "text": [
      "Validation -> Loss: 22.371608115288904\n",
      "Validation score improved (22.674996692932513 --> 22.371608115288904). Saving model!\n"
     ]
    },
    {
     "name": "stderr",
     "output_type": "stream",
     "text": [
      "\r",
      "  0%|          | 0/1276 [00:00<?, ?it/s]"
     ]
    },
    {
     "name": "stdout",
     "output_type": "stream",
     "text": [
      "Epoch 10, lr 3.693916073762161e-06\n",
      "Mode Scheduler: OK\n"
     ]
    },
    {
     "name": "stderr",
     "output_type": "stream",
     "text": [
      "100%|██████████| 1276/1276 [05:23<00:00,  3.95it/s, LR=1.84e-6, Train_Loss=15.6]\n",
      "  0%|          | 0/319 [00:00<?, ?it/s]"
     ]
    },
    {
     "name": "stdout",
     "output_type": "stream",
     "text": [
      "Training -> Loss: 15.59901050004092\n"
     ]
    },
    {
     "name": "stderr",
     "output_type": "stream",
     "text": [
      "100%|██████████| 319/319 [00:27<00:00, 11.47it/s, Eval_Loss=22.4]\n"
     ]
    },
    {
     "name": "stdout",
     "output_type": "stream",
     "text": [
      "Validation -> Loss: 22.360721881113083\n",
      "Validation score improved (22.371608115288904 --> 22.360721881113083). Saving model!\n"
     ]
    },
    {
     "name": "stderr",
     "output_type": "stream",
     "text": [
      "\r",
      "  0%|          | 0/1276 [00:00<?, ?it/s]"
     ]
    },
    {
     "name": "stdout",
     "output_type": "stream",
     "text": [
      "Epoch 11, lr 1.841149992739945e-06\n",
      "Mode Scheduler: OK\n"
     ]
    },
    {
     "name": "stderr",
     "output_type": "stream",
     "text": [
      "100%|██████████| 1276/1276 [05:22<00:00,  3.96it/s, LR=0, Train_Loss=15.2]      \n",
      "  0%|          | 0/319 [00:00<?, ?it/s]"
     ]
    },
    {
     "name": "stdout",
     "output_type": "stream",
     "text": [
      "Training -> Loss: 15.228412944134499\n"
     ]
    },
    {
     "name": "stderr",
     "output_type": "stream",
     "text": [
      "100%|██████████| 319/319 [00:27<00:00, 11.52it/s, Eval_Loss=22.5]\n"
     ]
    },
    {
     "name": "stdout",
     "output_type": "stream",
     "text": [
      "Validation -> Loss: 22.469302141554305\n",
      "EarlyStopping counter: 1 out of 5\n",
      "Didn't meet early stopping\n"
     ]
    }
   ],
   "source": [
    "for i in range(0,5):\n",
    "    output_path = f'../03.Models/BNP_PARIBAS_ROBERTA_MULTILINGUAL_FOLD_{i}'\n",
    "    run(df_train,i,output_path,config_xml)"
   ]
  },
  {
   "cell_type": "code",
   "execution_count": 9,
   "metadata": {},
   "outputs": [
    {
     "name": "stdout",
     "output_type": "stream",
     "text": [
      "Predicting Model: 0\n"
     ]
    },
    {
     "data": {
      "application/vnd.jupyter.widget-view+json": {
       "model_id": "4de11a977b7043de9c143edda1ca6c29",
       "version_major": 2,
       "version_minor": 0
      },
      "text/plain": [
       "HBox(children=(FloatProgress(value=0.0, max=319.0), HTML(value='')))"
      ]
     },
     "metadata": {},
     "output_type": "display_data"
    },
    {
     "name": "stdout",
     "output_type": "stream",
     "text": [
      "\n",
      "Predicting Model: 1\n"
     ]
    },
    {
     "data": {
      "application/vnd.jupyter.widget-view+json": {
       "model_id": "dcfc78fe4e9d4639a7cd3d1c987e3fd0",
       "version_major": 2,
       "version_minor": 0
      },
      "text/plain": [
       "HBox(children=(FloatProgress(value=0.0, max=319.0), HTML(value='')))"
      ]
     },
     "metadata": {},
     "output_type": "display_data"
    },
    {
     "name": "stdout",
     "output_type": "stream",
     "text": [
      "\n",
      "Predicting Model: 2\n"
     ]
    },
    {
     "data": {
      "application/vnd.jupyter.widget-view+json": {
       "model_id": "0887572bf2a2460e80fa81f5fac91ec2",
       "version_major": 2,
       "version_minor": 0
      },
      "text/plain": [
       "HBox(children=(FloatProgress(value=0.0, max=319.0), HTML(value='')))"
      ]
     },
     "metadata": {},
     "output_type": "display_data"
    },
    {
     "name": "stdout",
     "output_type": "stream",
     "text": [
      "\n",
      "Predicting Model: 3\n"
     ]
    },
    {
     "data": {
      "application/vnd.jupyter.widget-view+json": {
       "model_id": "30c550a6d16945d98d6dd98ccd861d39",
       "version_major": 2,
       "version_minor": 0
      },
      "text/plain": [
       "HBox(children=(FloatProgress(value=0.0, max=319.0), HTML(value='')))"
      ]
     },
     "metadata": {},
     "output_type": "display_data"
    },
    {
     "name": "stdout",
     "output_type": "stream",
     "text": [
      "\n",
      "Predicting Model: 4\n"
     ]
    },
    {
     "data": {
      "application/vnd.jupyter.widget-view+json": {
       "model_id": "f07fff5dd52445ef970dd8f4ec1f3e8e",
       "version_major": 2,
       "version_minor": 0
      },
      "text/plain": [
       "HBox(children=(FloatProgress(value=0.0, max=319.0), HTML(value='')))"
      ]
     },
     "metadata": {},
     "output_type": "display_data"
    },
    {
     "name": "stdout",
     "output_type": "stream",
     "text": [
      "\n",
      "OOF_SCORE (RMSE):  4.7406423398095985\n"
     ]
    },
    {
     "data": {
      "text/plain": [
       "4.7406423398095985"
      ]
     },
     "execution_count": 9,
     "metadata": {},
     "output_type": "execute_result"
    }
   ],
   "source": [
    "calc_oof(df_train,config_xml)"
   ]
  },
  {
   "cell_type": "code",
   "execution_count": 10,
   "metadata": {},
   "outputs": [
    {
     "data": {
      "application/vnd.jupyter.widget-view+json": {
       "model_id": "cc065eb025f64702960c2656b8d4b96e",
       "version_major": 2,
       "version_minor": 0
      },
      "text/plain": [
       "HBox(children=(FloatProgress(value=0.0, max=399.0), HTML(value='')))"
      ]
     },
     "metadata": {},
     "output_type": "display_data"
    },
    {
     "name": "stdout",
     "output_type": "stream",
     "text": [
      "\n"
     ]
    },
    {
     "data": {
      "application/vnd.jupyter.widget-view+json": {
       "model_id": "6b5a7c8afacf4c67b6620577ee7c3ac7",
       "version_major": 2,
       "version_minor": 0
      },
      "text/plain": [
       "HBox(children=(FloatProgress(value=0.0, max=399.0), HTML(value='')))"
      ]
     },
     "metadata": {},
     "output_type": "display_data"
    },
    {
     "name": "stdout",
     "output_type": "stream",
     "text": [
      "\n"
     ]
    },
    {
     "data": {
      "application/vnd.jupyter.widget-view+json": {
       "model_id": "aa74ca66da00425ab3c0a4450be41611",
       "version_major": 2,
       "version_minor": 0
      },
      "text/plain": [
       "HBox(children=(FloatProgress(value=0.0, max=399.0), HTML(value='')))"
      ]
     },
     "metadata": {},
     "output_type": "display_data"
    },
    {
     "name": "stdout",
     "output_type": "stream",
     "text": [
      "\n"
     ]
    },
    {
     "data": {
      "application/vnd.jupyter.widget-view+json": {
       "model_id": "4248e0264e89450ab0ef4ec1dc2855b1",
       "version_major": 2,
       "version_minor": 0
      },
      "text/plain": [
       "HBox(children=(FloatProgress(value=0.0, max=399.0), HTML(value='')))"
      ]
     },
     "metadata": {},
     "output_type": "display_data"
    },
    {
     "name": "stdout",
     "output_type": "stream",
     "text": [
      "\n"
     ]
    },
    {
     "data": {
      "application/vnd.jupyter.widget-view+json": {
       "model_id": "80cfde5335f24a9d84d787fcbf81e624",
       "version_major": 2,
       "version_minor": 0
      },
      "text/plain": [
       "HBox(children=(FloatProgress(value=0.0, max=399.0), HTML(value='')))"
      ]
     },
     "metadata": {},
     "output_type": "display_data"
    },
    {
     "name": "stdout",
     "output_type": "stream",
     "text": [
      "\n",
      "Real RMSE:  4.6459127404990275\n"
     ]
    }
   ],
   "source": [
    "test           = pd.read_csv(os.path.join(DATA_PATH,'test_preprocessed.csv'))\n",
    "test['target'] = -1\n",
    "calculate_test(test,config_xml)"
   ]
  },
  {
   "cell_type": "markdown",
   "metadata": {},
   "source": [
    "## Combining Word Embeddings with More Features"
   ]
  },
  {
   "cell_type": "code",
   "execution_count": null,
   "metadata": {},
   "outputs": [],
   "source": [
    "def get_embedding(data_loader, model, device):\n",
    "    from tqdm.notebook import tqdm\n",
    "    # Put the model in eval mode\n",
    "    model.to(device)\n",
    "    model.eval()\n",
    "    # List for store final predictions\n",
    "    final_predictions = []\n",
    "    with torch.no_grad():\n",
    "        tk0 = tqdm(data_loader, total=len(data_loader))\n",
    "        for b_idx, data in enumerate(tk0):\n",
    "            for key,value in data.items():\n",
    "                data[key] = value.to(device)\n",
    "            predictions = model._embeddings(data['ids'],data['mask'])\n",
    "            predictions = predictions.cpu()\n",
    "            final_predictions.append(predictions)\n",
    "    return np.vstack(final_predictions)"
   ]
  },
  {
   "cell_type": "code",
   "execution_count": null,
   "metadata": {},
   "outputs": [],
   "source": [
    "col_unique = generate_col_unique(df_train,config.COLUMNS_ENCODE)\n",
    "tokenizer     = transformers.RobertaTokenizer.from_pretrained(config.PRETRAINED)\n",
    "train_dataset = BNPParibasText(df_train,config.MAX_LENGTH,tokenizer,col_unique)\n",
    "train_loader = torch.utils.data.DataLoader(\n",
    "            train_dataset,\n",
    "            batch_size  = 32,\n",
    "            pin_memory  = True,\n",
    "            num_workers = 72\n",
    "        )\n",
    "embedding_all = 0\n",
    "for fold in np.sort(df_train['fold'].unique()):\n",
    "    model         = Roberta_Model(pretrained_model=config.PRETRAINED)\n",
    "    model.load_state_dict(torch.load(f'../03.Models/BNP_PARIBAS_ROBERTA_FOLD_{fold}'))\n",
    "    embedding_all += get_embedding(train_loader, model, 'cuda')\n",
    "    del model\n",
    "    torch.cuda.empty_cache()\n",
    "embedding_all = embedding_all/len(df_train['fold'].unique())\n",
    "df_train[[f'emb_{col_unique}_{i}' for i in range(embedding_all.shape[1])]] = embedding_all"
   ]
  },
  {
   "cell_type": "code",
   "execution_count": null,
   "metadata": {},
   "outputs": [],
   "source": [
    "df_test      = pd.read_csv(os.path.join(DATA_PATH,'test_preprocessed.csv'))\n",
    "df_test['target'] = -1\n",
    "\n",
    "col_unique = generate_col_unique(df_test,config.COLUMNS_ENCODE)\n",
    "tokenizer     = transformers.RobertaTokenizer.from_pretrained(config.PRETRAINED)\n",
    "test_dataset = BNPParibasText(df_test,config.MAX_LENGTH,tokenizer,col_unique)\n",
    "test_loader = torch.utils.data.DataLoader(\n",
    "            test_dataset,\n",
    "            batch_size  = 32,\n",
    "            pin_memory  = True,\n",
    "            num_workers = 72\n",
    "        )\n",
    "embedding_all = 0\n",
    "for fold in np.sort(df_train['fold'].unique()):\n",
    "    model         = Roberta_Model(pretrained_model=config.PRETRAINED)\n",
    "    model.load_state_dict(torch.load(f'../03.Models/BNP_PARIBAS_ROBERTA_FOLD_{fold}'))\n",
    "    embedding_all += get_embedding(test_loader, model, 'cuda')\n",
    "    del model\n",
    "    torch.cuda.empty_cache()\n",
    "embedding_all = embedding_all/len(df_train['fold'].unique())\n",
    "df_test[[f'emb_{col_unique}_{i}' for i in range(embedding_all.shape[1])]] = embedding_all"
   ]
  },
  {
   "cell_type": "code",
   "execution_count": null,
   "metadata": {},
   "outputs": [],
   "source": [
    "columns_modeling = ['additives_n','ingredients_from_palm_oil_n',\n",
    "                    'ingredients_that_may_be_from_palm_oil_n','target',\n",
    "                    'states_en_brands','states_en_categories','states_en_characteristics','states_en_expiration date',\n",
    "                    'states_en_general_complete','states_en_ingredients','pnns_groups_1','pnns_groups_2',\n",
    "                    'states_en_packaging','states_en_packaging-code-','states_en_photo_upload',\n",
    "                    'states_en_photo_validate','states_en_product name','states_en_quantity','diff_t'] + [f'emb_{col_unique}_{i}' for i in range(embedding_all.shape[1])]\n",
    "columns_label = df_train[columns_modeling].select_dtypes(include=['object']).columns.to_list()\n",
    "print(columns_label)"
   ]
  },
  {
   "cell_type": "code",
   "execution_count": null,
   "metadata": {},
   "outputs": [],
   "source": [
    "df_train,dict_le = label_encoding(df_train,label_cols = columns_label, drop_original = True, missing_new_cat = True)"
   ]
  },
  {
   "cell_type": "code",
   "execution_count": null,
   "metadata": {},
   "outputs": [],
   "source": [
    "df_test = apply_label_encoder(df_test,dict_le,drop_original = True, missing_new_cat = True)"
   ]
  },
  {
   "cell_type": "code",
   "execution_count": null,
   "metadata": {},
   "outputs": [],
   "source": [
    "params = {\n",
    "        'task': 'train',\n",
    "        'boosting_type': 'gbdt',\n",
    "        'objective': 'regression',\n",
    "        'metric': {'rmse'},\n",
    "        'num_leaves':12,\n",
    "        'learning_rate': 0.001,\n",
    "        \"min_child_samples\": 150,\n",
    "        \"max_depth\" : 5,\n",
    "        'feature_fraction':  0.5,\n",
    "        \"bagging_freq\": 1,\n",
    "        'bagging_fraction': 0.75,\n",
    "        \"is_unbalance\" : False,\n",
    "        'force_col_wise':True,\n",
    "        'num_threads':18,\n",
    "        #\"scale_pos_weight\":5 -> Generally  is the ratio of number of negative class to the positive class.\n",
    "        'bagging_seed':42,\n",
    "        'lambda_l1':1.5,\n",
    "        'lambda_l2':1,\n",
    "        'verbose': 1\n",
    "\n",
    "}\n",
    "cat_columns = [i for i in df_train.columns.to_list() if i.startswith('label_')]\n",
    "columns_modeling_last = list(set(columns_modeling)-set(columns_label)) + ['fold'] + cat_columns "
   ]
  },
  {
   "cell_type": "code",
   "execution_count": null,
   "metadata": {},
   "outputs": [],
   "source": [
    "results,models,importances,oof,feature_list = Training_Lightgbm(df_train[columns_modeling_last],params,fold_column = 'fold',target_column = 'target',cat_vars = cat_columns ,metric = 'RMSE',early_stopping = 200,max_boost_round = 8000)"
   ]
  },
  {
   "cell_type": "code",
   "execution_count": null,
   "metadata": {},
   "outputs": [],
   "source": [
    "probs = 0\n",
    "for i in models:\n",
    "    probs = probs + (i.predict(df_test[feature_list]))\n",
    "    print('fin_predict')\n",
    "y_test_pred = probs/5.0\n",
    "print(f'Real: ',math.sqrt(mean_squared_error(y_test_pred,df_test['Target'].values)))"
   ]
  }
 ],
 "metadata": {
  "kernelspec": {
   "display_name": "Python 3",
   "language": "python",
   "name": "python3"
  },
  "language_info": {
   "codemirror_mode": {
    "name": "ipython",
    "version": 3
   },
   "file_extension": ".py",
   "mimetype": "text/x-python",
   "name": "python",
   "nbconvert_exporter": "python",
   "pygments_lexer": "ipython3",
   "version": "3.6.9"
  }
 },
 "nbformat": 4,
 "nbformat_minor": 4
}
