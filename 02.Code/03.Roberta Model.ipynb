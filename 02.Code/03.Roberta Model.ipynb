{
 "cells": [
  {
   "cell_type": "markdown",
   "metadata": {},
   "source": [
    "## 1. Importing Libraries"
   ]
  },
  {
   "cell_type": "code",
   "execution_count": 1,
   "metadata": {},
   "outputs": [],
   "source": [
    "import shutil\n",
    "import apiquery\n",
    "import pandas as pd\n",
    "import sys\n",
    "import seaborn as sns\n",
    "import os\n",
    "import numpy as np\n",
    "import random\n",
    "import torch\n",
    "import gc\n",
    "DATA_PATH = '../01.Data'\n",
    "shutil.copy(\"apiquery_pyc.py\", \"apiquery.pyc\")\n",
    "\n",
    "module_path = \"../src\"\n",
    "if module_path not in sys.path:\n",
    "    sys.path.append(module_path)\n",
    "    \n",
    "from utils.training import *\n",
    "from utils.encoding import *\n",
    "from utils.utils import *\n",
    "from utils.fetch import *\n",
    "from dataset.dataset import BNPParibasText\n",
    "from models.models import Roberta_Model\n",
    "from utils.EarlyStopping import EarlyStopping\n",
    "from utils.LoopFunctions import train_fn,valid_fn\n",
    "from utils.prediction import get_prediction,get_embedding\n",
    "pd.options.display.max_rows = 100\n",
    "pd.options.display.max_columns = 100\n",
    "import math\n",
    "from collections import Counter\n",
    "from sklearn.model_selection import StratifiedKFold\n",
    "from sklearn.metrics import mean_squared_error\n",
    "import math\n",
    "import time\n",
    "import lightgbm as lgbm\n",
    "import matplotlib.pyplot as plt\n",
    "import torch.nn as nn\n",
    "import config\n",
    "import transformers"
   ]
  },
  {
   "cell_type": "code",
   "execution_count": 6,
   "metadata": {},
   "outputs": [
    {
     "name": "stdout",
     "output_type": "stream",
     "text": [
      "CPU times: user 2.45 s, sys: 301 ms, total: 2.75 s\n",
      "Wall time: 2.75 s\n"
     ]
    }
   ],
   "source": [
    "%%time\n",
    "df_train     = pd.read_csv(os.path.join(\"../01.Data\",'fold.csv'))\n",
    "y_submission = pd.read_csv(os.path.join(DATA_PATH,'y_test_submission_example.tsv'), index_col='Index', encoding='utf-8', sep='\\t')"
   ]
  },
  {
   "cell_type": "code",
   "execution_count": 2,
   "metadata": {},
   "outputs": [],
   "source": [
    "def calc_oof(df,config):\n",
    "    df.loc[:,'oof'] = -1\n",
    "    for fold in np.sort(df.fold.unique()):\n",
    "        print(f'Predicting Model: {fold}')\n",
    "        valid       = df[df['fold']==fold]\n",
    "        valid_index = valid.index.to_list()\n",
    "        valid = valid.reset_index(drop=True)\n",
    "        # Defining DataSet\n",
    "        col_unique = generate_col_unique(valid,config.COLUMNS_ENCODE)\n",
    "        tokenizer = transformers.RobertaTokenizer.from_pretrained(config.PRETRAINED)\n",
    "        valid_dataset = BNPParibasText(valid,config.MAX_LENGTH,tokenizer,col_unique)\n",
    "        valid_loader = torch.utils.data.DataLoader(\n",
    "            valid_dataset,\n",
    "            batch_size  = config.BATCH_SIZE,\n",
    "            num_workers = config.NUM_WORKERS,\n",
    "            shuffle     = False,\n",
    "            pin_memory  = True,\n",
    "        )\n",
    "\n",
    "       # Defining Device\n",
    "        model = Roberta_Model(pretrained_model=config.PRETRAINED,dropout = config.DROPOUT)\n",
    "        model.load_state_dict(torch.load(f'../03.Models/BNP_PARIBAS_ROBERTA_FOLD_{fold}'))\n",
    "        model.to(config.DEVICE)\n",
    "        preds = get_prediction(valid_loader, model,config.DEVICE)\n",
    "        df.loc[valid_index,'oof'] = preds\n",
    "    oof_score = np.sqrt(mean_squared_error(df['target'],df['oof']))\n",
    "    print('OOF_SCORE (RMSE): ',oof_score)\n",
    "    return oof_score\n",
    "\n",
    "\n",
    "# Calculating predictions for test\n",
    "def calculate_test(test,config):\n",
    "    col_unique = generate_col_unique(test,config.COLUMNS_ENCODE)   \n",
    "    tokenizer     = transformers.RobertaTokenizer.from_pretrained(config.PRETRAINED)\n",
    "    test_dataset = BNPParibasText(test,config.MAX_LENGTH,tokenizer,col_unique)\n",
    "    test_loader = torch.utils.data.DataLoader(\n",
    "        test_dataset,\n",
    "        batch_size  = config.BATCH_SIZE,\n",
    "        pin_memory  = True,\n",
    "        num_workers = config.NUM_WORKERS\n",
    "    )\n",
    "    preds = 0\n",
    "    for fold in range(0,5):\n",
    "        model = Roberta_Model(pretrained_model=config.PRETRAINED,dropout = config.DROPOUT)\n",
    "        model.load_state_dict(torch.load(f'../03.Models/BNP_PARIBAS_ROBERTA_FOLD_{fold}'))\n",
    "        model.to(config.DEVICE)\n",
    "        preds = preds + get_prediction(test_loader, model,config.DEVICE)\n",
    "    test['preds'] = preds/5\n",
    "    print(f'Real RMSE: ',math.sqrt(mean_squared_error(test['preds'].values,test['Target'].values)))"
   ]
  },
  {
   "cell_type": "code",
   "execution_count": 3,
   "metadata": {},
   "outputs": [],
   "source": [
    "def run(data,fold,output_path,config,run=None):\n",
    "    print(f'******************** Model Fold {fold}  *****************')\n",
    "    seed_everything(seed=config.SEED)\n",
    "    train = data[data['fold']!=fold].reset_index(drop=True)\n",
    "    valid = data[data['fold']==fold].reset_index(drop=True)\n",
    "    col_unique = generate_col_unique(train,config.COLUMNS_ENCODE)\n",
    "    col_unique = generate_col_unique(valid,config.COLUMNS_ENCODE)\n",
    "    \n",
    "    \n",
    "    print('Train: ',train.shape[0], 'Valid: ',valid.shape[0])\n",
    "    # Defining DataSet\n",
    "    tokenizer     = transformers.RobertaTokenizer.from_pretrained(config.PRETRAINED)\n",
    "    train_dataset = BNPParibasText(train,config.MAX_LENGTH,tokenizer,col_unique)\n",
    "    valid_dataset = BNPParibasText(valid,config.MAX_LENGTH,tokenizer,col_unique)\n",
    "        \n",
    "    train_loader = torch.utils.data.DataLoader(\n",
    "        train_dataset,\n",
    "        batch_size  = config.BATCH_SIZE,\n",
    "        pin_memory  = True,\n",
    "        num_workers = config.NUM_WORKERS\n",
    "    )\n",
    "\n",
    "    valid_loader = torch.utils.data.DataLoader(\n",
    "        valid_dataset,\n",
    "        batch_size  = config.BATCH_SIZE,\n",
    "        num_workers = config.NUM_WORKERS,\n",
    "        shuffle     = False,\n",
    "        pin_memory  = True,\n",
    "    )\n",
    "    \n",
    "    # Defining Device\n",
    "    model = Roberta_Model(pretrained_model=config.PRETRAINED,dropout = config.DROPOUT)\n",
    "    model.to(config.DEVICE)\n",
    "    criterion = nn.MSELoss()\n",
    "    criterion.to(config.DEVICE)\n",
    "\n",
    "    param_optimizer = list(model.named_parameters())\n",
    "    no_decay = [\"bias\", \"LayerNorm.bias\", \"LayerNorm.weight\"]\n",
    "    optimizer_parameters = [\n",
    "        {\n",
    "            \"params\": [\n",
    "                p for n, p in param_optimizer if not any(nd in n for nd in no_decay)\n",
    "            ],\n",
    "            \"weight_decay\": config.WEIGHT_DECAY,\n",
    "        },\n",
    "        {\n",
    "            \"params\": [\n",
    "                p for n, p in param_optimizer if any(nd in n for nd in no_decay)\n",
    "            ],\n",
    "            \"weight_decay\": 0.0,\n",
    "        },\n",
    "    ]\n",
    "\n",
    "    num_train_steps = int((len(train) / config.BATCH_SIZE )* config.EPOCHS)\n",
    "    config.SCHEDULER_PARAMETERS['NUM_TRAIN_STEPS'] = num_train_steps\n",
    "    print(f'num_train_steps: {num_train_steps}')\n",
    "    optimizer = fetch_optimizer(config.OPTIMIZER_NAME,config.LEARNING_RATE,optimizer_parameters)\n",
    "    scheduler = fetch_scheduler(config.SCHEDULER_NAME,optimizer,config.SCHEDULER_PARAMETERS)\n",
    "    \n",
    "    es = EarlyStopping (patience = config.EARLY_STOPPING, mode = config.MODE,delta=0)\n",
    "      \n",
    "    for epoch in range(config.EPOCHS):\n",
    "        print('Epoch {}, lr {}'.format(epoch, optimizer.param_groups[0]['lr']))        \n",
    "        training_loss = train_fn(train_loader,model,criterion,optimizer,config.DEVICE,scheduler,mode_sched = config.MODE_SCHEDULER)\n",
    "        valid_loss    = valid_fn(valid_loader,model,criterion,config.DEVICE)\n",
    "        if run:\n",
    "            run.log({'training_loss':training_loss,'valid_loss':valid_loss})\n",
    "            \n",
    "        es(valid_loss, model,output_path)\n",
    "        \n",
    "        if es.early_stop:\n",
    "            print('Meet early stopping')\n",
    "            return es.get_best_val_score()\n",
    "        gc.collect()\n",
    "        torch.cuda.empty_cache()\n",
    "    print(\"Didn't meet early stopping\")\n",
    "    return es.get_best_val_score()"
   ]
  },
  {
   "cell_type": "code",
   "execution_count": 7,
   "metadata": {},
   "outputs": [
    {
     "name": "stdout",
     "output_type": "stream",
     "text": [
      "******************** Model Fold 4  *****************\n",
      "Train:  81623 Valid:  20405\n"
     ]
    },
    {
     "name": "stderr",
     "output_type": "stream",
     "text": [
      "\r",
      "  0%|          | 0/1276 [00:00<?, ?it/s]"
     ]
    },
    {
     "name": "stdout",
     "output_type": "stream",
     "text": [
      "num_train_steps: 15304\n",
      "Epoch 0, lr 0.0\n",
      "Mode Scheduler: OK\n"
     ]
    },
    {
     "name": "stderr",
     "output_type": "stream",
     "text": [
      "100%|██████████| 1276/1276 [05:04<00:00,  4.19it/s, LR=1.67e-5, Train_Loss=67.2]\n",
      "  0%|          | 0/319 [00:00<?, ?it/s]"
     ]
    },
    {
     "name": "stdout",
     "output_type": "stream",
     "text": [
      "Training -> Loss: 67.19512297292488\n"
     ]
    },
    {
     "name": "stderr",
     "output_type": "stream",
     "text": [
      "100%|██████████| 319/319 [00:30<00:00, 10.48it/s, Eval_Loss=33.4]\n"
     ]
    },
    {
     "name": "stdout",
     "output_type": "stream",
     "text": [
      "Validation -> Loss: 33.36113730044948\n",
      "Validation score improved (inf --> 33.36113730044948). Saving model!\n"
     ]
    },
    {
     "name": "stderr",
     "output_type": "stream",
     "text": [
      "\r",
      "  0%|          | 0/1276 [00:00<?, ?it/s]"
     ]
    },
    {
     "name": "stdout",
     "output_type": "stream",
     "text": [
      "Epoch 1, lr 1.6679738562091504e-05\n",
      "Mode Scheduler: OK\n"
     ]
    },
    {
     "name": "stderr",
     "output_type": "stream",
     "text": [
      "100%|██████████| 1276/1276 [05:06<00:00,  4.16it/s, LR=1.85e-5, Train_Loss=29.7]\n",
      "  0%|          | 0/319 [00:00<?, ?it/s]"
     ]
    },
    {
     "name": "stdout",
     "output_type": "stream",
     "text": [
      "Training -> Loss: 29.724486125300295\n"
     ]
    },
    {
     "name": "stderr",
     "output_type": "stream",
     "text": [
      "100%|██████████| 319/319 [00:30<00:00, 10.53it/s, Eval_Loss=26]  \n"
     ]
    },
    {
     "name": "stdout",
     "output_type": "stream",
     "text": [
      "Validation -> Loss: 26.022469039247326\n",
      "Validation score improved (33.36113730044948 --> 26.022469039247326). Saving model!\n"
     ]
    },
    {
     "name": "stderr",
     "output_type": "stream",
     "text": [
      "\r",
      "  0%|          | 0/1276 [00:00<?, ?it/s]"
     ]
    },
    {
     "name": "stdout",
     "output_type": "stream",
     "text": [
      "Epoch 2, lr 1.8516044721939887e-05\n",
      "Mode Scheduler: OK\n"
     ]
    },
    {
     "name": "stderr",
     "output_type": "stream",
     "text": [
      "100%|██████████| 1276/1276 [05:04<00:00,  4.19it/s, LR=1.67e-5, Train_Loss=24.5]\n",
      "  0%|          | 0/319 [00:00<?, ?it/s]"
     ]
    },
    {
     "name": "stdout",
     "output_type": "stream",
     "text": [
      "Training -> Loss: 24.513245080332023\n"
     ]
    },
    {
     "name": "stderr",
     "output_type": "stream",
     "text": [
      "100%|██████████| 319/319 [00:29<00:00, 10.65it/s, Eval_Loss=25.4]\n"
     ]
    },
    {
     "name": "stdout",
     "output_type": "stream",
     "text": [
      "Validation -> Loss: 25.440321551594987\n",
      "Validation score improved (26.022469039247326 --> 25.440321551594987). Saving model!\n"
     ]
    },
    {
     "name": "stderr",
     "output_type": "stream",
     "text": [
      "\r",
      "  0%|          | 0/1276 [00:00<?, ?it/s]"
     ]
    },
    {
     "name": "stdout",
     "output_type": "stream",
     "text": [
      "Epoch 3, lr 1.6663278640917674e-05\n",
      "Mode Scheduler: OK\n"
     ]
    },
    {
     "name": "stderr",
     "output_type": "stream",
     "text": [
      "100%|██████████| 1276/1276 [05:05<00:00,  4.18it/s, LR=1.48e-5, Train_Loss=22]  \n",
      "  0%|          | 0/319 [00:00<?, ?it/s]"
     ]
    },
    {
     "name": "stdout",
     "output_type": "stream",
     "text": [
      "Training -> Loss: 21.967160881873582\n"
     ]
    },
    {
     "name": "stderr",
     "output_type": "stream",
     "text": [
      "100%|██████████| 319/319 [00:29<00:00, 10.65it/s, Eval_Loss=24.1]\n"
     ]
    },
    {
     "name": "stdout",
     "output_type": "stream",
     "text": [
      "Validation -> Loss: 24.118778252676364\n",
      "Validation score improved (25.440321551594987 --> 24.118778252676364). Saving model!\n"
     ]
    },
    {
     "name": "stderr",
     "output_type": "stream",
     "text": [
      "\r",
      "  0%|          | 0/1276 [00:00<?, ?it/s]"
     ]
    },
    {
     "name": "stdout",
     "output_type": "stream",
     "text": [
      "Epoch 4, lr 1.4810512559895456e-05\n",
      "Mode Scheduler: OK\n"
     ]
    },
    {
     "name": "stderr",
     "output_type": "stream",
     "text": [
      "100%|██████████| 1276/1276 [05:01<00:00,  4.23it/s, LR=1.3e-5, Train_Loss=20.2] \n",
      "  0%|          | 0/319 [00:00<?, ?it/s]"
     ]
    },
    {
     "name": "stdout",
     "output_type": "stream",
     "text": [
      "Training -> Loss: 20.168962823559873\n"
     ]
    },
    {
     "name": "stderr",
     "output_type": "stream",
     "text": [
      "100%|██████████| 319/319 [00:29<00:00, 10.93it/s, Eval_Loss=23.1]\n"
     ]
    },
    {
     "name": "stdout",
     "output_type": "stream",
     "text": [
      "Validation -> Loss: 23.065489057463164\n",
      "Validation score improved (24.118778252676364 --> 23.065489057463164). Saving model!\n"
     ]
    },
    {
     "name": "stderr",
     "output_type": "stream",
     "text": [
      "\r",
      "  0%|          | 0/1276 [00:00<?, ?it/s]"
     ]
    },
    {
     "name": "stdout",
     "output_type": "stream",
     "text": [
      "Epoch 5, lr 1.2957746478873242e-05\n",
      "Mode Scheduler: OK\n"
     ]
    },
    {
     "name": "stderr",
     "output_type": "stream",
     "text": [
      "100%|██████████| 1276/1276 [05:01<00:00,  4.23it/s, LR=1.11e-5, Train_Loss=18.8]\n",
      "  0%|          | 0/319 [00:00<?, ?it/s]"
     ]
    },
    {
     "name": "stdout",
     "output_type": "stream",
     "text": [
      "Training -> Loss: 18.785607548529825\n"
     ]
    },
    {
     "name": "stderr",
     "output_type": "stream",
     "text": [
      "100%|██████████| 319/319 [00:29<00:00, 10.99it/s, Eval_Loss=23.1]\n"
     ]
    },
    {
     "name": "stdout",
     "output_type": "stream",
     "text": [
      "Validation -> Loss: 23.056060429277093\n",
      "Validation score improved (23.065489057463164 --> 23.056060429277093). Saving model!\n"
     ]
    },
    {
     "name": "stderr",
     "output_type": "stream",
     "text": [
      "\r",
      "  0%|          | 0/1276 [00:00<?, ?it/s]"
     ]
    },
    {
     "name": "stdout",
     "output_type": "stream",
     "text": [
      "Epoch 6, lr 1.1104980397851025e-05\n",
      "Mode Scheduler: OK\n"
     ]
    },
    {
     "name": "stderr",
     "output_type": "stream",
     "text": [
      "100%|██████████| 1276/1276 [05:01<00:00,  4.23it/s, LR=9.25e-6, Train_Loss=17.8]\n",
      "  0%|          | 0/319 [00:00<?, ?it/s]"
     ]
    },
    {
     "name": "stdout",
     "output_type": "stream",
     "text": [
      "Training -> Loss: 17.76202331347899\n"
     ]
    },
    {
     "name": "stderr",
     "output_type": "stream",
     "text": [
      "100%|██████████| 319/319 [00:29<00:00, 10.77it/s, Eval_Loss=22.9]\n"
     ]
    },
    {
     "name": "stdout",
     "output_type": "stream",
     "text": [
      "Validation -> Loss: 22.942585176808706\n",
      "Validation score improved (23.056060429277093 --> 22.942585176808706). Saving model!\n"
     ]
    },
    {
     "name": "stderr",
     "output_type": "stream",
     "text": [
      "\r",
      "  0%|          | 0/1276 [00:00<?, ?it/s]"
     ]
    },
    {
     "name": "stdout",
     "output_type": "stream",
     "text": [
      "Epoch 7, lr 9.252214316828807e-06\n",
      "Mode Scheduler: OK\n"
     ]
    },
    {
     "name": "stderr",
     "output_type": "stream",
     "text": [
      "100%|██████████| 1276/1276 [05:01<00:00,  4.23it/s, LR=7.4e-6, Train_Loss=16.9] \n",
      "  0%|          | 0/319 [00:00<?, ?it/s]"
     ]
    },
    {
     "name": "stdout",
     "output_type": "stream",
     "text": [
      "Training -> Loss: 16.89215257063181\n"
     ]
    },
    {
     "name": "stderr",
     "output_type": "stream",
     "text": [
      "100%|██████████| 319/319 [00:29<00:00, 10.78it/s, Eval_Loss=23.3]\n",
      "  0%|          | 0/1276 [00:00<?, ?it/s]"
     ]
    },
    {
     "name": "stdout",
     "output_type": "stream",
     "text": [
      "Validation -> Loss: 23.323868285152233\n",
      "EarlyStopping counter: 1 out of 5\n",
      "Epoch 8, lr 7.399448235806593e-06\n",
      "Mode Scheduler: OK\n"
     ]
    },
    {
     "name": "stderr",
     "output_type": "stream",
     "text": [
      "100%|██████████| 1276/1276 [05:02<00:00,  4.22it/s, LR=5.55e-6, Train_Loss=16.2]\n",
      "  0%|          | 0/319 [00:00<?, ?it/s]"
     ]
    },
    {
     "name": "stdout",
     "output_type": "stream",
     "text": [
      "Training -> Loss: 16.22758826697508\n"
     ]
    },
    {
     "name": "stderr",
     "output_type": "stream",
     "text": [
      "100%|██████████| 319/319 [00:29<00:00, 10.81it/s, Eval_Loss=22.7]\n"
     ]
    },
    {
     "name": "stdout",
     "output_type": "stream",
     "text": [
      "Validation -> Loss: 22.71935713179059\n",
      "Validation score improved (22.942585176808706 --> 22.71935713179059). Saving model!\n"
     ]
    },
    {
     "name": "stderr",
     "output_type": "stream",
     "text": [
      "\r",
      "  0%|          | 0/1276 [00:00<?, ?it/s]"
     ]
    },
    {
     "name": "stdout",
     "output_type": "stream",
     "text": [
      "Epoch 9, lr 5.546682154784376e-06\n",
      "Mode Scheduler: OK\n"
     ]
    },
    {
     "name": "stderr",
     "output_type": "stream",
     "text": [
      "100%|██████████| 1276/1276 [05:01<00:00,  4.23it/s, LR=3.69e-6, Train_Loss=15.6]\n",
      "  0%|          | 0/319 [00:00<?, ?it/s]"
     ]
    },
    {
     "name": "stdout",
     "output_type": "stream",
     "text": [
      "Training -> Loss: 15.600954898098793\n"
     ]
    },
    {
     "name": "stderr",
     "output_type": "stream",
     "text": [
      "100%|██████████| 319/319 [00:29<00:00, 10.74it/s, Eval_Loss=22.3]\n"
     ]
    },
    {
     "name": "stdout",
     "output_type": "stream",
     "text": [
      "Validation -> Loss: 22.314896108214757\n",
      "Validation score improved (22.71935713179059 --> 22.314896108214757). Saving model!\n"
     ]
    },
    {
     "name": "stderr",
     "output_type": "stream",
     "text": [
      "\r",
      "  0%|          | 0/1276 [00:00<?, ?it/s]"
     ]
    },
    {
     "name": "stdout",
     "output_type": "stream",
     "text": [
      "Epoch 10, lr 3.693916073762161e-06\n",
      "Mode Scheduler: OK\n"
     ]
    },
    {
     "name": "stderr",
     "output_type": "stream",
     "text": [
      "100%|██████████| 1276/1276 [05:01<00:00,  4.23it/s, LR=1.84e-6, Train_Loss=15.2]\n",
      "  0%|          | 0/319 [00:00<?, ?it/s]"
     ]
    },
    {
     "name": "stdout",
     "output_type": "stream",
     "text": [
      "Training -> Loss: 15.21357053181968\n"
     ]
    },
    {
     "name": "stderr",
     "output_type": "stream",
     "text": [
      "100%|██████████| 319/319 [00:29<00:00, 10.75it/s, Eval_Loss=22.3]\n"
     ]
    },
    {
     "name": "stdout",
     "output_type": "stream",
     "text": [
      "Validation -> Loss: 22.253296053895383\n",
      "Validation score improved (22.314896108214757 --> 22.253296053895383). Saving model!\n"
     ]
    },
    {
     "name": "stderr",
     "output_type": "stream",
     "text": [
      "\r",
      "  0%|          | 0/1276 [00:00<?, ?it/s]"
     ]
    },
    {
     "name": "stdout",
     "output_type": "stream",
     "text": [
      "Epoch 11, lr 1.841149992739945e-06\n",
      "Mode Scheduler: OK\n"
     ]
    },
    {
     "name": "stderr",
     "output_type": "stream",
     "text": [
      "100%|██████████| 1276/1276 [05:02<00:00,  4.22it/s, LR=0, Train_Loss=14.9]      \n",
      "  0%|          | 0/319 [00:00<?, ?it/s]"
     ]
    },
    {
     "name": "stdout",
     "output_type": "stream",
     "text": [
      "Training -> Loss: 14.920602123752284\n"
     ]
    },
    {
     "name": "stderr",
     "output_type": "stream",
     "text": [
      "100%|██████████| 319/319 [00:29<00:00, 10.75it/s, Eval_Loss=22.1]\n"
     ]
    },
    {
     "name": "stdout",
     "output_type": "stream",
     "text": [
      "Validation -> Loss: 22.061710692498377\n",
      "Validation score improved (22.253296053895383 --> 22.061710692498377). Saving model!\n",
      "Didn't meet early stopping\n"
     ]
    }
   ],
   "source": [
    "for i in range(0,5):\n",
    "    output_path = f'../03.Models/BNP_PARIBAS_ROBERTA_FOLD_{i}'\n",
    "    run(df_train,i,output_path,config)"
   ]
  },
  {
   "cell_type": "code",
   "execution_count": 17,
   "metadata": {},
   "outputs": [
    {
     "name": "stdout",
     "output_type": "stream",
     "text": [
      "Predicting Model: 0\n"
     ]
    },
    {
     "data": {
      "application/vnd.jupyter.widget-view+json": {
       "model_id": "8142c0e82ffc478d9217b23be2c415d0",
       "version_major": 2,
       "version_minor": 0
      },
      "text/plain": [
       "HBox(children=(FloatProgress(value=0.0, max=319.0), HTML(value='')))"
      ]
     },
     "metadata": {},
     "output_type": "display_data"
    },
    {
     "name": "stdout",
     "output_type": "stream",
     "text": [
      "\n",
      "Predicting Model: 1\n"
     ]
    },
    {
     "data": {
      "application/vnd.jupyter.widget-view+json": {
       "model_id": "67b3d7be7f1f4f2196de63ad8c042e93",
       "version_major": 2,
       "version_minor": 0
      },
      "text/plain": [
       "HBox(children=(FloatProgress(value=0.0, max=319.0), HTML(value='')))"
      ]
     },
     "metadata": {},
     "output_type": "display_data"
    },
    {
     "name": "stdout",
     "output_type": "stream",
     "text": [
      "\n",
      "Predicting Model: 2\n"
     ]
    },
    {
     "data": {
      "application/vnd.jupyter.widget-view+json": {
       "model_id": "f300535a8c5446babb313bad43101480",
       "version_major": 2,
       "version_minor": 0
      },
      "text/plain": [
       "HBox(children=(FloatProgress(value=0.0, max=319.0), HTML(value='')))"
      ]
     },
     "metadata": {},
     "output_type": "display_data"
    },
    {
     "name": "stdout",
     "output_type": "stream",
     "text": [
      "\n",
      "Predicting Model: 3\n"
     ]
    },
    {
     "data": {
      "application/vnd.jupyter.widget-view+json": {
       "model_id": "bba9d912c1704fd5ac043c27c899b20a",
       "version_major": 2,
       "version_minor": 0
      },
      "text/plain": [
       "HBox(children=(FloatProgress(value=0.0, max=319.0), HTML(value='')))"
      ]
     },
     "metadata": {},
     "output_type": "display_data"
    },
    {
     "name": "stdout",
     "output_type": "stream",
     "text": [
      "\n",
      "Predicting Model: 4\n"
     ]
    },
    {
     "data": {
      "application/vnd.jupyter.widget-view+json": {
       "model_id": "9f14dc50a6e34ac4af653c60d5b948e9",
       "version_major": 2,
       "version_minor": 0
      },
      "text/plain": [
       "HBox(children=(FloatProgress(value=0.0, max=319.0), HTML(value='')))"
      ]
     },
     "metadata": {},
     "output_type": "display_data"
    },
    {
     "name": "stdout",
     "output_type": "stream",
     "text": [
      "\n",
      "OOF_SCORE (RMSE):  4.740007182216003\n"
     ]
    },
    {
     "data": {
      "text/plain": [
       "4.740007182216003"
      ]
     },
     "execution_count": 17,
     "metadata": {},
     "output_type": "execute_result"
    }
   ],
   "source": [
    "calc_oof(df_train,config)"
   ]
  },
  {
   "cell_type": "code",
   "execution_count": 22,
   "metadata": {},
   "outputs": [
    {
     "data": {
      "application/vnd.jupyter.widget-view+json": {
       "model_id": "4a267c78f7e946a287341154adc14b8c",
       "version_major": 2,
       "version_minor": 0
      },
      "text/plain": [
       "HBox(children=(FloatProgress(value=0.0, max=399.0), HTML(value='')))"
      ]
     },
     "metadata": {},
     "output_type": "display_data"
    },
    {
     "name": "stdout",
     "output_type": "stream",
     "text": [
      "\n"
     ]
    },
    {
     "data": {
      "application/vnd.jupyter.widget-view+json": {
       "model_id": "0e4d7c276553499398fd6db4aad5db13",
       "version_major": 2,
       "version_minor": 0
      },
      "text/plain": [
       "HBox(children=(FloatProgress(value=0.0, max=399.0), HTML(value='')))"
      ]
     },
     "metadata": {},
     "output_type": "display_data"
    },
    {
     "name": "stdout",
     "output_type": "stream",
     "text": [
      "\n"
     ]
    },
    {
     "data": {
      "application/vnd.jupyter.widget-view+json": {
       "model_id": "cd20d03a0fd14c96ae446a9b56f4b1ff",
       "version_major": 2,
       "version_minor": 0
      },
      "text/plain": [
       "HBox(children=(FloatProgress(value=0.0, max=399.0), HTML(value='')))"
      ]
     },
     "metadata": {},
     "output_type": "display_data"
    },
    {
     "name": "stdout",
     "output_type": "stream",
     "text": [
      "\n"
     ]
    },
    {
     "data": {
      "application/vnd.jupyter.widget-view+json": {
       "model_id": "21dec7694804461796890beaf2205d87",
       "version_major": 2,
       "version_minor": 0
      },
      "text/plain": [
       "HBox(children=(FloatProgress(value=0.0, max=399.0), HTML(value='')))"
      ]
     },
     "metadata": {},
     "output_type": "display_data"
    },
    {
     "name": "stdout",
     "output_type": "stream",
     "text": [
      "\n"
     ]
    },
    {
     "data": {
      "application/vnd.jupyter.widget-view+json": {
       "model_id": "0e8921850b2f4e86901d22ec85ac90ad",
       "version_major": 2,
       "version_minor": 0
      },
      "text/plain": [
       "HBox(children=(FloatProgress(value=0.0, max=399.0), HTML(value='')))"
      ]
     },
     "metadata": {},
     "output_type": "display_data"
    },
    {
     "name": "stdout",
     "output_type": "stream",
     "text": [
      "\n",
      "Real RMSE:  4.6244272231443775\n"
     ]
    }
   ],
   "source": [
    "test           = pd.read_csv(os.path.join(DATA_PATH,'test_preprocessed.csv'))\n",
    "test['target'] = -1\n",
    "calculate_test(test,config)"
   ]
  },
  {
   "cell_type": "markdown",
   "metadata": {},
   "source": [
    "## Combining Word Embeddings with More Features"
   ]
  },
  {
   "cell_type": "code",
   "execution_count": 39,
   "metadata": {},
   "outputs": [
    {
     "data": {
      "application/vnd.jupyter.widget-view+json": {
       "model_id": "597cd2a12ce24bbba4ba6e706b0f9f9c",
       "version_major": 2,
       "version_minor": 0
      },
      "text/plain": [
       "HBox(children=(FloatProgress(value=0.0, max=3189.0), HTML(value='')))"
      ]
     },
     "metadata": {},
     "output_type": "display_data"
    },
    {
     "name": "stdout",
     "output_type": "stream",
     "text": [
      "\n"
     ]
    },
    {
     "data": {
      "application/vnd.jupyter.widget-view+json": {
       "model_id": "c5f485d9b59947efbbfedc4efdaa3744",
       "version_major": 2,
       "version_minor": 0
      },
      "text/plain": [
       "HBox(children=(FloatProgress(value=0.0, max=3189.0), HTML(value='')))"
      ]
     },
     "metadata": {},
     "output_type": "display_data"
    },
    {
     "name": "stdout",
     "output_type": "stream",
     "text": [
      "\n"
     ]
    },
    {
     "data": {
      "application/vnd.jupyter.widget-view+json": {
       "model_id": "f7da65bdb7fc4791b3f36e1c129988de",
       "version_major": 2,
       "version_minor": 0
      },
      "text/plain": [
       "HBox(children=(FloatProgress(value=0.0, max=3189.0), HTML(value='')))"
      ]
     },
     "metadata": {},
     "output_type": "display_data"
    },
    {
     "name": "stdout",
     "output_type": "stream",
     "text": [
      "\n"
     ]
    },
    {
     "data": {
      "application/vnd.jupyter.widget-view+json": {
       "model_id": "19c020a99da54229a9d0e4d07adf6f69",
       "version_major": 2,
       "version_minor": 0
      },
      "text/plain": [
       "HBox(children=(FloatProgress(value=0.0, max=3189.0), HTML(value='')))"
      ]
     },
     "metadata": {},
     "output_type": "display_data"
    },
    {
     "name": "stdout",
     "output_type": "stream",
     "text": [
      "\n"
     ]
    },
    {
     "data": {
      "application/vnd.jupyter.widget-view+json": {
       "model_id": "d052bfd397f34a92873ee17f25f6eb27",
       "version_major": 2,
       "version_minor": 0
      },
      "text/plain": [
       "HBox(children=(FloatProgress(value=0.0, max=3189.0), HTML(value='')))"
      ]
     },
     "metadata": {},
     "output_type": "display_data"
    },
    {
     "name": "stdout",
     "output_type": "stream",
     "text": [
      "\n"
     ]
    }
   ],
   "source": [
    "col_unique = generate_col_unique(df_train,config.COLUMNS_ENCODE)\n",
    "tokenizer     = transformers.RobertaTokenizer.from_pretrained(config.PRETRAINED)\n",
    "train_dataset = BNPParibasText(df_train,config.MAX_LENGTH,tokenizer,col_unique)\n",
    "train_loader = torch.utils.data.DataLoader(\n",
    "            train_dataset,\n",
    "            batch_size  = 32,\n",
    "            pin_memory  = True,\n",
    "            num_workers = 72\n",
    "        )\n",
    "embedding_all = 0\n",
    "for fold in np.sort(df_train['fold'].unique()):\n",
    "    model         = Roberta_Model(pretrained_model=config.PRETRAINED)\n",
    "    model.load_state_dict(torch.load(f'../03.Models/BNP_PARIBAS_ROBERTA_FOLD_{fold}'))\n",
    "    embedding_all += get_embedding(train_loader, model, 'cuda')\n",
    "    del model\n",
    "    torch.cuda.empty_cache()\n",
    "embedding_all = embedding_all/len(df_train['fold'].unique())\n",
    "df_train[[f'emb_{col_unique}_{i}' for i in range(embedding_all.shape[1])]] = embedding_all"
   ]
  },
  {
   "cell_type": "code",
   "execution_count": 47,
   "metadata": {},
   "outputs": [
    {
     "data": {
      "application/vnd.jupyter.widget-view+json": {
       "model_id": "180f4d63806045f68f9bb24fb51760d1",
       "version_major": 2,
       "version_minor": 0
      },
      "text/plain": [
       "HBox(children=(FloatProgress(value=0.0, max=798.0), HTML(value='')))"
      ]
     },
     "metadata": {},
     "output_type": "display_data"
    },
    {
     "name": "stdout",
     "output_type": "stream",
     "text": [
      "\n"
     ]
    },
    {
     "data": {
      "application/vnd.jupyter.widget-view+json": {
       "model_id": "30378290ba0741cfada3a8f4dc18db39",
       "version_major": 2,
       "version_minor": 0
      },
      "text/plain": [
       "HBox(children=(FloatProgress(value=0.0, max=798.0), HTML(value='')))"
      ]
     },
     "metadata": {},
     "output_type": "display_data"
    },
    {
     "name": "stdout",
     "output_type": "stream",
     "text": [
      "\n"
     ]
    },
    {
     "data": {
      "application/vnd.jupyter.widget-view+json": {
       "model_id": "9f33fd5693e549908d2dac83b643427f",
       "version_major": 2,
       "version_minor": 0
      },
      "text/plain": [
       "HBox(children=(FloatProgress(value=0.0, max=798.0), HTML(value='')))"
      ]
     },
     "metadata": {},
     "output_type": "display_data"
    },
    {
     "name": "stdout",
     "output_type": "stream",
     "text": [
      "\n"
     ]
    },
    {
     "data": {
      "application/vnd.jupyter.widget-view+json": {
       "model_id": "33d1a0bc1b87432aaed947ba41bd90a2",
       "version_major": 2,
       "version_minor": 0
      },
      "text/plain": [
       "HBox(children=(FloatProgress(value=0.0, max=798.0), HTML(value='')))"
      ]
     },
     "metadata": {},
     "output_type": "display_data"
    },
    {
     "name": "stdout",
     "output_type": "stream",
     "text": [
      "\n"
     ]
    },
    {
     "data": {
      "application/vnd.jupyter.widget-view+json": {
       "model_id": "b3b5d86cf66f4c0aa046c428795e4982",
       "version_major": 2,
       "version_minor": 0
      },
      "text/plain": [
       "HBox(children=(FloatProgress(value=0.0, max=798.0), HTML(value='')))"
      ]
     },
     "metadata": {},
     "output_type": "display_data"
    },
    {
     "name": "stdout",
     "output_type": "stream",
     "text": [
      "\n"
     ]
    }
   ],
   "source": [
    "df_test      = pd.read_csv(os.path.join(DATA_PATH,'test_preprocessed.csv'))\n",
    "df_test['target'] = -1\n",
    "\n",
    "col_unique = generate_col_unique(df_test,config.COLUMNS_ENCODE)\n",
    "tokenizer     = transformers.RobertaTokenizer.from_pretrained(config.PRETRAINED)\n",
    "test_dataset = BNPParibasText(df_test,config.MAX_LENGTH,tokenizer,col_unique)\n",
    "test_loader = torch.utils.data.DataLoader(\n",
    "            test_dataset,\n",
    "            batch_size  = 32,\n",
    "            pin_memory  = True,\n",
    "            num_workers = 72\n",
    "        )\n",
    "embedding_all = 0\n",
    "for fold in np.sort(df_train['fold'].unique()):\n",
    "    model         = Roberta_Model(pretrained_model=config.PRETRAINED)\n",
    "    model.load_state_dict(torch.load(f'../03.Models/BNP_PARIBAS_ROBERTA_FOLD_{fold}'))\n",
    "    embedding_all += get_embedding(test_loader, model, 'cuda')\n",
    "    del model\n",
    "    torch.cuda.empty_cache()\n",
    "embedding_all = embedding_all/len(df_train['fold'].unique())\n",
    "df_test[[f'emb_{col_unique}_{i}' for i in range(embedding_all.shape[1])]] = embedding_all"
   ]
  },
  {
   "cell_type": "code",
   "execution_count": 43,
   "metadata": {},
   "outputs": [
    {
     "name": "stdout",
     "output_type": "stream",
     "text": [
      "['states_en_brands', 'states_en_categories', 'states_en_characteristics', 'states_en_expiration date', 'states_en_general_complete', 'states_en_ingredients', 'pnns_groups_1', 'pnns_groups_2', 'states_en_packaging', 'states_en_packaging-code-', 'states_en_photo_upload', 'states_en_photo_validate', 'states_en_product name', 'states_en_quantity']\n"
     ]
    }
   ],
   "source": [
    "columns_modeling = ['additives_n','ingredients_from_palm_oil_n',\n",
    "                    'ingredients_that_may_be_from_palm_oil_n','target',\n",
    "                    'states_en_brands','states_en_categories','states_en_characteristics','states_en_expiration date',\n",
    "                    'states_en_general_complete','states_en_ingredients','pnns_groups_1','pnns_groups_2',\n",
    "                    'states_en_packaging','states_en_packaging-code-','states_en_photo_upload',\n",
    "                    'states_en_photo_validate','states_en_product name','states_en_quantity','diff_t'] + [f'emb_{col_unique}_{i}' for i in range(embedding_all.shape[1])]\n",
    "columns_label = df_train[columns_modeling].select_dtypes(include=['object']).columns.to_list()\n",
    "print(columns_label)"
   ]
  },
  {
   "cell_type": "code",
   "execution_count": 44,
   "metadata": {},
   "outputs": [
    {
     "name": "stdout",
     "output_type": "stream",
     "text": [
      "Mode: Missing as new category\n",
      "Label Encoding:  label_states_en_brands\n",
      "Label Encoding:  label_states_en_categories\n",
      "Label Encoding:  label_states_en_characteristics\n",
      "Label Encoding:  label_states_en_expiration date\n",
      "Label Encoding:  label_states_en_general_complete\n",
      "Label Encoding:  label_states_en_ingredients\n",
      "Label Encoding:  label_pnns_groups_1\n",
      "Label Encoding:  label_pnns_groups_2\n",
      "Label Encoding:  label_states_en_packaging\n",
      "Label Encoding:  label_states_en_packaging-code-\n",
      "Label Encoding:  label_states_en_photo_upload\n",
      "Label Encoding:  label_states_en_photo_validate\n",
      "Label Encoding:  label_states_en_product name\n",
      "Label Encoding:  label_states_en_quantity\n"
     ]
    }
   ],
   "source": [
    "df_train,dict_le = label_encoding(df_train,label_cols = columns_label, drop_original = True, missing_new_cat = True)"
   ]
  },
  {
   "cell_type": "code",
   "execution_count": 48,
   "metadata": {},
   "outputs": [
    {
     "name": "stdout",
     "output_type": "stream",
     "text": [
      "Mode: Missing as new category\n",
      "Applying Label Encoding:  label_states_en_brands\n",
      "Applying Label Encoding:  label_states_en_categories\n",
      "Applying Label Encoding:  label_states_en_characteristics\n",
      "Applying Label Encoding:  label_states_en_expiration date\n",
      "Applying Label Encoding:  label_states_en_general_complete\n",
      "Applying Label Encoding:  label_states_en_ingredients\n",
      "Applying Label Encoding:  label_pnns_groups_1\n",
      "Applying Label Encoding:  label_pnns_groups_2\n",
      "Applying Label Encoding:  label_states_en_packaging\n",
      "Applying Label Encoding:  label_states_en_packaging-code-\n",
      "Applying Label Encoding:  label_states_en_photo_upload\n",
      "Applying Label Encoding:  label_states_en_photo_validate\n",
      "Applying Label Encoding:  label_states_en_product name\n",
      "Applying Label Encoding:  label_states_en_quantity\n"
     ]
    }
   ],
   "source": [
    "df_test = apply_label_encoder(df_test,dict_le,drop_original = True, missing_new_cat = True)"
   ]
  },
  {
   "cell_type": "code",
   "execution_count": 52,
   "metadata": {},
   "outputs": [],
   "source": [
    "params = {\n",
    "        'task': 'train',\n",
    "        'boosting_type': 'gbdt',\n",
    "        'objective': 'regression',\n",
    "        'metric': {'rmse'},\n",
    "        'num_leaves':12,\n",
    "        'learning_rate': 0.001,\n",
    "        \"min_child_samples\": 150,\n",
    "        \"max_depth\" : 5,\n",
    "        'feature_fraction':  0.5,\n",
    "        \"bagging_freq\": 1,\n",
    "        'bagging_fraction': 0.75,\n",
    "        \"is_unbalance\" : False,\n",
    "        'force_col_wise':True,\n",
    "        'num_threads':18,\n",
    "        #\"scale_pos_weight\":5 -> Generally  is the ratio of number of negative class to the positive class.\n",
    "        'bagging_seed':42,\n",
    "        'lambda_l1':1.5,\n",
    "        'lambda_l2':1,\n",
    "        'verbose': 1\n",
    "\n",
    "}\n",
    "cat_columns = [i for i in df_train.columns.to_list() if i.startswith('label_')]\n",
    "columns_modeling_last = list(set(columns_modeling)-set(columns_label)) + ['fold'] + cat_columns "
   ]
  },
  {
   "cell_type": "code",
   "execution_count": 53,
   "metadata": {},
   "outputs": [
    {
     "name": "stdout",
     "output_type": "stream",
     "text": [
      "Columns: ['emb_product_name_ingredients_text_brands_tags__557', 'emb_product_name_ingredients_text_brands_tags__730', 'emb_product_name_ingredients_text_brands_tags__746', 'emb_product_name_ingredients_text_brands_tags__2', 'emb_product_name_ingredients_text_brands_tags__638', 'emb_product_name_ingredients_text_brands_tags__393', 'emb_product_name_ingredients_text_brands_tags__315', 'emb_product_name_ingredients_text_brands_tags__550', 'emb_product_name_ingredients_text_brands_tags__717', 'emb_product_name_ingredients_text_brands_tags__757', 'emb_product_name_ingredients_text_brands_tags__324', 'emb_product_name_ingredients_text_brands_tags__64', 'emb_product_name_ingredients_text_brands_tags__45', 'emb_product_name_ingredients_text_brands_tags__274', 'emb_product_name_ingredients_text_brands_tags__498', 'emb_product_name_ingredients_text_brands_tags__173', 'emb_product_name_ingredients_text_brands_tags__715', 'emb_product_name_ingredients_text_brands_tags__210', 'emb_product_name_ingredients_text_brands_tags__364', 'emb_product_name_ingredients_text_brands_tags__169', 'emb_product_name_ingredients_text_brands_tags__300', 'emb_product_name_ingredients_text_brands_tags__29', 'emb_product_name_ingredients_text_brands_tags__94', 'emb_product_name_ingredients_text_brands_tags__225', 'emb_product_name_ingredients_text_brands_tags__531', 'emb_product_name_ingredients_text_brands_tags__665', 'emb_product_name_ingredients_text_brands_tags__30', 'emb_product_name_ingredients_text_brands_tags__483', 'emb_product_name_ingredients_text_brands_tags__321', 'emb_product_name_ingredients_text_brands_tags__408', 'emb_product_name_ingredients_text_brands_tags__485', 'emb_product_name_ingredients_text_brands_tags__660', 'emb_product_name_ingredients_text_brands_tags__73', 'emb_product_name_ingredients_text_brands_tags__662', 'emb_product_name_ingredients_text_brands_tags__713', 'emb_product_name_ingredients_text_brands_tags__756', 'emb_product_name_ingredients_text_brands_tags__295', 'emb_product_name_ingredients_text_brands_tags__491', 'emb_product_name_ingredients_text_brands_tags__76', 'emb_product_name_ingredients_text_brands_tags__499', 'emb_product_name_ingredients_text_brands_tags__695', 'emb_product_name_ingredients_text_brands_tags__654', 'emb_product_name_ingredients_text_brands_tags__156', 'emb_product_name_ingredients_text_brands_tags__366', 'emb_product_name_ingredients_text_brands_tags__423', 'emb_product_name_ingredients_text_brands_tags__700', 'emb_product_name_ingredients_text_brands_tags__239', 'emb_product_name_ingredients_text_brands_tags__490', 'emb_product_name_ingredients_text_brands_tags__562', 'emb_product_name_ingredients_text_brands_tags__58', 'emb_product_name_ingredients_text_brands_tags__122', 'emb_product_name_ingredients_text_brands_tags__237', 'emb_product_name_ingredients_text_brands_tags__305', 'emb_product_name_ingredients_text_brands_tags__124', 'emb_product_name_ingredients_text_brands_tags__241', 'emb_product_name_ingredients_text_brands_tags__437', 'emb_product_name_ingredients_text_brands_tags__619', 'emb_product_name_ingredients_text_brands_tags__518', 'emb_product_name_ingredients_text_brands_tags__175', 'emb_product_name_ingredients_text_brands_tags__410', 'emb_product_name_ingredients_text_brands_tags__322', 'emb_product_name_ingredients_text_brands_tags__555', 'emb_product_name_ingredients_text_brands_tags__36', 'emb_product_name_ingredients_text_brands_tags__143', 'emb_product_name_ingredients_text_brands_tags__438', 'emb_product_name_ingredients_text_brands_tags__166', 'emb_product_name_ingredients_text_brands_tags__37', 'emb_product_name_ingredients_text_brands_tags__107', 'emb_product_name_ingredients_text_brands_tags__390', 'emb_product_name_ingredients_text_brands_tags__378', 'emb_product_name_ingredients_text_brands_tags__591', 'emb_product_name_ingredients_text_brands_tags__420', 'emb_product_name_ingredients_text_brands_tags__195', 'emb_product_name_ingredients_text_brands_tags__389', 'emb_product_name_ingredients_text_brands_tags__645', 'emb_product_name_ingredients_text_brands_tags__486', 'emb_product_name_ingredients_text_brands_tags__395', 'emb_product_name_ingredients_text_brands_tags__733', 'diff_t', 'emb_product_name_ingredients_text_brands_tags__145', 'emb_product_name_ingredients_text_brands_tags__282', 'emb_product_name_ingredients_text_brands_tags__505', 'emb_product_name_ingredients_text_brands_tags__297', 'emb_product_name_ingredients_text_brands_tags__14', 'emb_product_name_ingredients_text_brands_tags__593', 'emb_product_name_ingredients_text_brands_tags__350', 'emb_product_name_ingredients_text_brands_tags__524', 'emb_product_name_ingredients_text_brands_tags__535', 'emb_product_name_ingredients_text_brands_tags__48', 'emb_product_name_ingredients_text_brands_tags__620', 'emb_product_name_ingredients_text_brands_tags__509', 'emb_product_name_ingredients_text_brands_tags__223', 'emb_product_name_ingredients_text_brands_tags__257', 'emb_product_name_ingredients_text_brands_tags__96', 'emb_product_name_ingredients_text_brands_tags__205', 'emb_product_name_ingredients_text_brands_tags__193', 'emb_product_name_ingredients_text_brands_tags__656', 'emb_product_name_ingredients_text_brands_tags__57', 'emb_product_name_ingredients_text_brands_tags__612', 'emb_product_name_ingredients_text_brands_tags__230', 'emb_product_name_ingredients_text_brands_tags__675', 'emb_product_name_ingredients_text_brands_tags__474', 'emb_product_name_ingredients_text_brands_tags__285', 'emb_product_name_ingredients_text_brands_tags__265', 'emb_product_name_ingredients_text_brands_tags__262', 'emb_product_name_ingredients_text_brands_tags__69', 'emb_product_name_ingredients_text_brands_tags__344', 'emb_product_name_ingredients_text_brands_tags__379', 'emb_product_name_ingredients_text_brands_tags__529', 'emb_product_name_ingredients_text_brands_tags__636', 'emb_product_name_ingredients_text_brands_tags__126', 'emb_product_name_ingredients_text_brands_tags__330', 'emb_product_name_ingredients_text_brands_tags__276', 'emb_product_name_ingredients_text_brands_tags__271', 'emb_product_name_ingredients_text_brands_tags__75', 'emb_product_name_ingredients_text_brands_tags__430', 'emb_product_name_ingredients_text_brands_tags__13', 'emb_product_name_ingredients_text_brands_tags__659', 'emb_product_name_ingredients_text_brands_tags__570', 'emb_product_name_ingredients_text_brands_tags__676', 'emb_product_name_ingredients_text_brands_tags__513', 'emb_product_name_ingredients_text_brands_tags__17', 'emb_product_name_ingredients_text_brands_tags__685', 'emb_product_name_ingredients_text_brands_tags__291', 'emb_product_name_ingredients_text_brands_tags__4', 'emb_product_name_ingredients_text_brands_tags__554', 'emb_product_name_ingredients_text_brands_tags__12', 'emb_product_name_ingredients_text_brands_tags__254', 'emb_product_name_ingredients_text_brands_tags__469', 'emb_product_name_ingredients_text_brands_tags__21', 'emb_product_name_ingredients_text_brands_tags__80', 'emb_product_name_ingredients_text_brands_tags__608', 'emb_product_name_ingredients_text_brands_tags__372', 'emb_product_name_ingredients_text_brands_tags__396', 'emb_product_name_ingredients_text_brands_tags__78', 'emb_product_name_ingredients_text_brands_tags__206', 'emb_product_name_ingredients_text_brands_tags__65', 'emb_product_name_ingredients_text_brands_tags__303', 'emb_product_name_ingredients_text_brands_tags__361', 'emb_product_name_ingredients_text_brands_tags__375', 'emb_product_name_ingredients_text_brands_tags__448', 'emb_product_name_ingredients_text_brands_tags__462', 'emb_product_name_ingredients_text_brands_tags__217', 'emb_product_name_ingredients_text_brands_tags__253', 'emb_product_name_ingredients_text_brands_tags__597', 'emb_product_name_ingredients_text_brands_tags__504', 'emb_product_name_ingredients_text_brands_tags__102', 'emb_product_name_ingredients_text_brands_tags__211', 'emb_product_name_ingredients_text_brands_tags__674', 'emb_product_name_ingredients_text_brands_tags__373', 'emb_product_name_ingredients_text_brands_tags__157', 'emb_product_name_ingredients_text_brands_tags__433', 'emb_product_name_ingredients_text_brands_tags__416', 'emb_product_name_ingredients_text_brands_tags__631', 'emb_product_name_ingredients_text_brands_tags__427', 'emb_product_name_ingredients_text_brands_tags__696', 'emb_product_name_ingredients_text_brands_tags__313', 'emb_product_name_ingredients_text_brands_tags__194', 'emb_product_name_ingredients_text_brands_tags__520', 'emb_product_name_ingredients_text_brands_tags__624', 'emb_product_name_ingredients_text_brands_tags__765', 'emb_product_name_ingredients_text_brands_tags__339', 'emb_product_name_ingredients_text_brands_tags__424', 'emb_product_name_ingredients_text_brands_tags__55', 'emb_product_name_ingredients_text_brands_tags__228', 'emb_product_name_ingredients_text_brands_tags__630', 'emb_product_name_ingredients_text_brands_tags__661', 'emb_product_name_ingredients_text_brands_tags__632', 'emb_product_name_ingredients_text_brands_tags__103', 'emb_product_name_ingredients_text_brands_tags__162', 'emb_product_name_ingredients_text_brands_tags__38', 'emb_product_name_ingredients_text_brands_tags__188', 'emb_product_name_ingredients_text_brands_tags__401', 'emb_product_name_ingredients_text_brands_tags__587', 'emb_product_name_ingredients_text_brands_tags__615', 'emb_product_name_ingredients_text_brands_tags__609', 'emb_product_name_ingredients_text_brands_tags__216', 'emb_product_name_ingredients_text_brands_tags__207', 'emb_product_name_ingredients_text_brands_tags__112', 'emb_product_name_ingredients_text_brands_tags__470', 'emb_product_name_ingredients_text_brands_tags__726', 'emb_product_name_ingredients_text_brands_tags__119', 'emb_product_name_ingredients_text_brands_tags__521', 'emb_product_name_ingredients_text_brands_tags__740', 'emb_product_name_ingredients_text_brands_tags__519', 'emb_product_name_ingredients_text_brands_tags__99', 'emb_product_name_ingredients_text_brands_tags__83', 'emb_product_name_ingredients_text_brands_tags__87', 'emb_product_name_ingredients_text_brands_tags__413', 'emb_product_name_ingredients_text_brands_tags__623', 'emb_product_name_ingredients_text_brands_tags__712', 'emb_product_name_ingredients_text_brands_tags__232', 'emb_product_name_ingredients_text_brands_tags__40', 'emb_product_name_ingredients_text_brands_tags__411', 'emb_product_name_ingredients_text_brands_tags__585', 'emb_product_name_ingredients_text_brands_tags__351', 'emb_product_name_ingredients_text_brands_tags__120', 'emb_product_name_ingredients_text_brands_tags__28', 'emb_product_name_ingredients_text_brands_tags__477', 'emb_product_name_ingredients_text_brands_tags__701', 'emb_product_name_ingredients_text_brands_tags__290', 'emb_product_name_ingredients_text_brands_tags__443', 'emb_product_name_ingredients_text_brands_tags__541', 'emb_product_name_ingredients_text_brands_tags__710', 'emb_product_name_ingredients_text_brands_tags__0', 'emb_product_name_ingredients_text_brands_tags__412', 'emb_product_name_ingredients_text_brands_tags__310', 'emb_product_name_ingredients_text_brands_tags__487', 'emb_product_name_ingredients_text_brands_tags__582', 'emb_product_name_ingredients_text_brands_tags__603', 'emb_product_name_ingredients_text_brands_tags__342', 'emb_product_name_ingredients_text_brands_tags__426', 'emb_product_name_ingredients_text_brands_tags__653', 'emb_product_name_ingredients_text_brands_tags__209', 'emb_product_name_ingredients_text_brands_tags__214', 'emb_product_name_ingredients_text_brands_tags__251', 'emb_product_name_ingredients_text_brands_tags__377', 'emb_product_name_ingredients_text_brands_tags__208', 'emb_product_name_ingredients_text_brands_tags__588', 'emb_product_name_ingredients_text_brands_tags__180', 'emb_product_name_ingredients_text_brands_tags__41', 'emb_product_name_ingredients_text_brands_tags__304', 'emb_product_name_ingredients_text_brands_tags__667', 'emb_product_name_ingredients_text_brands_tags__414', 'emb_product_name_ingredients_text_brands_tags__260', 'emb_product_name_ingredients_text_brands_tags__349', 'emb_product_name_ingredients_text_brands_tags__183', 'emb_product_name_ingredients_text_brands_tags__496', 'emb_product_name_ingredients_text_brands_tags__287', 'emb_product_name_ingredients_text_brands_tags__751', 'emb_product_name_ingredients_text_brands_tags__737', 'emb_product_name_ingredients_text_brands_tags__161', 'emb_product_name_ingredients_text_brands_tags__655', 'emb_product_name_ingredients_text_brands_tags__35', 'emb_product_name_ingredients_text_brands_tags__177', 'emb_product_name_ingredients_text_brands_tags__538', 'emb_product_name_ingredients_text_brands_tags__545', 'emb_product_name_ingredients_text_brands_tags__346', 'emb_product_name_ingredients_text_brands_tags__81', 'emb_product_name_ingredients_text_brands_tags__466', 'emb_product_name_ingredients_text_brands_tags__201', 'emb_product_name_ingredients_text_brands_tags__657', 'emb_product_name_ingredients_text_brands_tags__116', 'emb_product_name_ingredients_text_brands_tags__331', 'emb_product_name_ingredients_text_brands_tags__255', 'emb_product_name_ingredients_text_brands_tags__449', 'emb_product_name_ingredients_text_brands_tags__484', 'emb_product_name_ingredients_text_brands_tags__153', 'emb_product_name_ingredients_text_brands_tags__289', 'emb_product_name_ingredients_text_brands_tags__33', 'emb_product_name_ingredients_text_brands_tags__610', 'emb_product_name_ingredients_text_brands_tags__133', 'emb_product_name_ingredients_text_brands_tags__8', 'emb_product_name_ingredients_text_brands_tags__480', 'emb_product_name_ingredients_text_brands_tags__218', 'emb_product_name_ingredients_text_brands_tags__559', 'emb_product_name_ingredients_text_brands_tags__586', 'emb_product_name_ingredients_text_brands_tags__317', 'emb_product_name_ingredients_text_brands_tags__699', 'emb_product_name_ingredients_text_brands_tags__704', 'emb_product_name_ingredients_text_brands_tags__63', 'emb_product_name_ingredients_text_brands_tags__23', 'emb_product_name_ingredients_text_brands_tags__319', 'emb_product_name_ingredients_text_brands_tags__332', 'emb_product_name_ingredients_text_brands_tags__482', 'emb_product_name_ingredients_text_brands_tags__500', 'emb_product_name_ingredients_text_brands_tags__185', 'emb_product_name_ingredients_text_brands_tags__226', 'emb_product_name_ingredients_text_brands_tags__16', 'emb_product_name_ingredients_text_brands_tags__376', 'emb_product_name_ingredients_text_brands_tags__447', 'emb_product_name_ingredients_text_brands_tags__343', 'emb_product_name_ingredients_text_brands_tags__607', 'emb_product_name_ingredients_text_brands_tags__203', 'emb_product_name_ingredients_text_brands_tags__552', 'emb_product_name_ingredients_text_brands_tags__525', 'emb_product_name_ingredients_text_brands_tags__67', 'emb_product_name_ingredients_text_brands_tags__227', 'emb_product_name_ingredients_text_brands_tags__95', 'emb_product_name_ingredients_text_brands_tags__178', 'emb_product_name_ingredients_text_brands_tags__422', 'emb_product_name_ingredients_text_brands_tags__7', 'emb_product_name_ingredients_text_brands_tags__144', 'emb_product_name_ingredients_text_brands_tags__363', 'emb_product_name_ingredients_text_brands_tags__648', 'emb_product_name_ingredients_text_brands_tags__494', 'emb_product_name_ingredients_text_brands_tags__576', 'emb_product_name_ingredients_text_brands_tags__386', 'emb_product_name_ingredients_text_brands_tags__219', 'emb_product_name_ingredients_text_brands_tags__568', 'emb_product_name_ingredients_text_brands_tags__580', 'emb_product_name_ingredients_text_brands_tags__589', 'emb_product_name_ingredients_text_brands_tags__129', 'emb_product_name_ingredients_text_brands_tags__277', 'emb_product_name_ingredients_text_brands_tags__516', 'emb_product_name_ingredients_text_brands_tags__19', 'emb_product_name_ingredients_text_brands_tags__382', 'emb_product_name_ingredients_text_brands_tags__749', 'emb_product_name_ingredients_text_brands_tags__224', 'emb_product_name_ingredients_text_brands_tags__236', 'emb_product_name_ingredients_text_brands_tags__380', 'emb_product_name_ingredients_text_brands_tags__6', 'emb_product_name_ingredients_text_brands_tags__160', 'emb_product_name_ingredients_text_brands_tags__579', 'emb_product_name_ingredients_text_brands_tags__18', 'emb_product_name_ingredients_text_brands_tags__381', 'emb_product_name_ingredients_text_brands_tags__110', 'emb_product_name_ingredients_text_brands_tags__182', 'emb_product_name_ingredients_text_brands_tags__595', 'emb_product_name_ingredients_text_brands_tags__165', 'emb_product_name_ingredients_text_brands_tags__398', 'emb_product_name_ingredients_text_brands_tags__459', 'emb_product_name_ingredients_text_brands_tags__455', 'emb_product_name_ingredients_text_brands_tags__131', 'emb_product_name_ingredients_text_brands_tags__421', 'emb_product_name_ingredients_text_brands_tags__392', 'emb_product_name_ingredients_text_brands_tags__10', 'emb_product_name_ingredients_text_brands_tags__627', 'emb_product_name_ingredients_text_brands_tags__284', 'emb_product_name_ingredients_text_brands_tags__306', 'emb_product_name_ingredients_text_brands_tags__683', 'emb_product_name_ingredients_text_brands_tags__86', 'emb_product_name_ingredients_text_brands_tags__252', 'emb_product_name_ingredients_text_brands_tags__240', 'emb_product_name_ingredients_text_brands_tags__34', 'emb_product_name_ingredients_text_brands_tags__479', 'emb_product_name_ingredients_text_brands_tags__150', 'emb_product_name_ingredients_text_brands_tags__104', 'emb_product_name_ingredients_text_brands_tags__628', 'emb_product_name_ingredients_text_brands_tags__172', 'emb_product_name_ingredients_text_brands_tags__49', 'emb_product_name_ingredients_text_brands_tags__640', 'emb_product_name_ingredients_text_brands_tags__673', 'emb_product_name_ingredients_text_brands_tags__400', 'emb_product_name_ingredients_text_brands_tags__353', 'emb_product_name_ingredients_text_brands_tags__760', 'emb_product_name_ingredients_text_brands_tags__325', 'emb_product_name_ingredients_text_brands_tags__596', 'emb_product_name_ingredients_text_brands_tags__312', 'emb_product_name_ingredients_text_brands_tags__167', 'emb_product_name_ingredients_text_brands_tags__187', 'emb_product_name_ingredients_text_brands_tags__734', 'emb_product_name_ingredients_text_brands_tags__606', 'emb_product_name_ingredients_text_brands_tags__337', 'emb_product_name_ingredients_text_brands_tags__745', 'emb_product_name_ingredients_text_brands_tags__164', 'emb_product_name_ingredients_text_brands_tags__134', 'emb_product_name_ingredients_text_brands_tags__258', 'emb_product_name_ingredients_text_brands_tags__85', 'emb_product_name_ingredients_text_brands_tags__123', 'emb_product_name_ingredients_text_brands_tags__3', 'emb_product_name_ingredients_text_brands_tags__163', 'emb_product_name_ingredients_text_brands_tags__481', 'emb_product_name_ingredients_text_brands_tags__641', 'emb_product_name_ingredients_text_brands_tags__336', 'emb_product_name_ingredients_text_brands_tags__755', 'ingredients_from_palm_oil_n', 'emb_product_name_ingredients_text_brands_tags__472', 'emb_product_name_ingredients_text_brands_tags__465', 'emb_product_name_ingredients_text_brands_tags__263', 'emb_product_name_ingredients_text_brands_tags__406', 'emb_product_name_ingredients_text_brands_tags__31', 'emb_product_name_ingredients_text_brands_tags__97', 'emb_product_name_ingredients_text_brands_tags__128', 'emb_product_name_ingredients_text_brands_tags__308', 'emb_product_name_ingredients_text_brands_tags__367', 'emb_product_name_ingredients_text_brands_tags__440', 'emb_product_name_ingredients_text_brands_tags__571', 'emb_product_name_ingredients_text_brands_tags__539', 'emb_product_name_ingredients_text_brands_tags__598', 'emb_product_name_ingredients_text_brands_tags__118', 'emb_product_name_ingredients_text_brands_tags__235', 'emb_product_name_ingredients_text_brands_tags__575', 'emb_product_name_ingredients_text_brands_tags__50', 'emb_product_name_ingredients_text_brands_tags__508', 'emb_product_name_ingredients_text_brands_tags__415', 'emb_product_name_ingredients_text_brands_tags__250', 'emb_product_name_ingredients_text_brands_tags__115', 'emb_product_name_ingredients_text_brands_tags__688', 'emb_product_name_ingredients_text_brands_tags__669', 'emb_product_name_ingredients_text_brands_tags__429', 'emb_product_name_ingredients_text_brands_tags__530', 'emb_product_name_ingredients_text_brands_tags__561', 'emb_product_name_ingredients_text_brands_tags__139', 'emb_product_name_ingredients_text_brands_tags__90', 'emb_product_name_ingredients_text_brands_tags__302', 'emb_product_name_ingredients_text_brands_tags__583', 'emb_product_name_ingredients_text_brands_tags__754', 'emb_product_name_ingredients_text_brands_tags__604', 'emb_product_name_ingredients_text_brands_tags__542', 'emb_product_name_ingredients_text_brands_tags__616', 'emb_product_name_ingredients_text_brands_tags__536', 'emb_product_name_ingredients_text_brands_tags__681', 'emb_product_name_ingredients_text_brands_tags__71', 'emb_product_name_ingredients_text_brands_tags__759', 'emb_product_name_ingredients_text_brands_tags__702', 'emb_product_name_ingredients_text_brands_tags__461', 'emb_product_name_ingredients_text_brands_tags__643', 'emb_product_name_ingredients_text_brands_tags__722', 'emb_product_name_ingredients_text_brands_tags__318', 'emb_product_name_ingredients_text_brands_tags__374', 'emb_product_name_ingredients_text_brands_tags__334', 'emb_product_name_ingredients_text_brands_tags__578', 'emb_product_name_ingredients_text_brands_tags__212', 'emb_product_name_ingredients_text_brands_tags__690', 'emb_product_name_ingredients_text_brands_tags__181', 'emb_product_name_ingredients_text_brands_tags__729', 'emb_product_name_ingredients_text_brands_tags__358', 'emb_product_name_ingredients_text_brands_tags__333', 'emb_product_name_ingredients_text_brands_tags__362', 'emb_product_name_ingredients_text_brands_tags__435', 'emb_product_name_ingredients_text_brands_tags__649', 'emb_product_name_ingredients_text_brands_tags__272', 'emb_product_name_ingredients_text_brands_tags__463', 'emb_product_name_ingredients_text_brands_tags__473', 'emb_product_name_ingredients_text_brands_tags__151', 'emb_product_name_ingredients_text_brands_tags__478', 'emb_product_name_ingredients_text_brands_tags__340', 'emb_product_name_ingredients_text_brands_tags__355', 'emb_product_name_ingredients_text_brands_tags__269', 'emb_product_name_ingredients_text_brands_tags__256', 'emb_product_name_ingredients_text_brands_tags__354', 'emb_product_name_ingredients_text_brands_tags__736', 'emb_product_name_ingredients_text_brands_tags__488', 'emb_product_name_ingredients_text_brands_tags__618', 'emb_product_name_ingredients_text_brands_tags__44', 'emb_product_name_ingredients_text_brands_tags__458', 'emb_product_name_ingredients_text_brands_tags__724', 'emb_product_name_ingredients_text_brands_tags__15', 'emb_product_name_ingredients_text_brands_tags__222', 'emb_product_name_ingredients_text_brands_tags__540', 'emb_product_name_ingredients_text_brands_tags__503', 'emb_product_name_ingredients_text_brands_tags__549', 'emb_product_name_ingredients_text_brands_tags__613', 'emb_product_name_ingredients_text_brands_tags__100', 'emb_product_name_ingredients_text_brands_tags__601', 'emb_product_name_ingredients_text_brands_tags__658', 'emb_product_name_ingredients_text_brands_tags__728', 'emb_product_name_ingredients_text_brands_tags__633', 'emb_product_name_ingredients_text_brands_tags__158', 'emb_product_name_ingredients_text_brands_tags__60', 'emb_product_name_ingredients_text_brands_tags__314', 'emb_product_name_ingredients_text_brands_tags__20', 'emb_product_name_ingredients_text_brands_tags__197', 'emb_product_name_ingredients_text_brands_tags__418', 'emb_product_name_ingredients_text_brands_tags__590', 'emb_product_name_ingredients_text_brands_tags__647', 'emb_product_name_ingredients_text_brands_tags__105', 'emb_product_name_ingredients_text_brands_tags__273', 'emb_product_name_ingredients_text_brands_tags__671', 'emb_product_name_ingredients_text_brands_tags__739', 'emb_product_name_ingredients_text_brands_tags__741', 'emb_product_name_ingredients_text_brands_tags__452', 'emb_product_name_ingredients_text_brands_tags__148', 'emb_product_name_ingredients_text_brands_tags__663', 'emb_product_name_ingredients_text_brands_tags__32', 'emb_product_name_ingredients_text_brands_tags__238', 'emb_product_name_ingredients_text_brands_tags__9', 'emb_product_name_ingredients_text_brands_tags__548', 'emb_product_name_ingredients_text_brands_tags__360', 'emb_product_name_ingredients_text_brands_tags__592', 'emb_product_name_ingredients_text_brands_tags__697', 'emb_product_name_ingredients_text_brands_tags__328', 'emb_product_name_ingredients_text_brands_tags__70', 'emb_product_name_ingredients_text_brands_tags__281', 'emb_product_name_ingredients_text_brands_tags__113', 'emb_product_name_ingredients_text_brands_tags__735', 'emb_product_name_ingredients_text_brands_tags__672', 'emb_product_name_ingredients_text_brands_tags__39', 'emb_product_name_ingredients_text_brands_tags__457', 'emb_product_name_ingredients_text_brands_tags__399', 'emb_product_name_ingredients_text_brands_tags__405', 'emb_product_name_ingredients_text_brands_tags__705', 'emb_product_name_ingredients_text_brands_tags__744', 'emb_product_name_ingredients_text_brands_tags__341', 'emb_product_name_ingredients_text_brands_tags__234', 'emb_product_name_ingredients_text_brands_tags__93', 'emb_product_name_ingredients_text_brands_tags__564', 'emb_product_name_ingredients_text_brands_tags__680', 'emb_product_name_ingredients_text_brands_tags__365', 'emb_product_name_ingredients_text_brands_tags__732', 'emb_product_name_ingredients_text_brands_tags__442', 'emb_product_name_ingredients_text_brands_tags__693', 'emb_product_name_ingredients_text_brands_tags__553', 'emb_product_name_ingredients_text_brands_tags__560', 'emb_product_name_ingredients_text_brands_tags__551', 'emb_product_name_ingredients_text_brands_tags__106', 'emb_product_name_ingredients_text_brands_tags__706', 'emb_product_name_ingredients_text_brands_tags__121', 'emb_product_name_ingredients_text_brands_tags__602', 'emb_product_name_ingredients_text_brands_tags__714', 'emb_product_name_ingredients_text_brands_tags__431', 'emb_product_name_ingredients_text_brands_tags__534', 'emb_product_name_ingredients_text_brands_tags__371', 'emb_product_name_ingredients_text_brands_tags__283', 'emb_product_name_ingredients_text_brands_tags__515', 'emb_product_name_ingredients_text_brands_tags__179', 'emb_product_name_ingredients_text_brands_tags__369', 'emb_product_name_ingredients_text_brands_tags__664', 'emb_product_name_ingredients_text_brands_tags__25', 'emb_product_name_ingredients_text_brands_tags__114', 'emb_product_name_ingredients_text_brands_tags__176', 'emb_product_name_ingredients_text_brands_tags__52', 'emb_product_name_ingredients_text_brands_tags__611', 'emb_product_name_ingredients_text_brands_tags__453', 'emb_product_name_ingredients_text_brands_tags__454', 'emb_product_name_ingredients_text_brands_tags__694', 'emb_product_name_ingredients_text_brands_tags__259', 'emb_product_name_ingredients_text_brands_tags__599', 'emb_product_name_ingredients_text_brands_tags__517', 'emb_product_name_ingredients_text_brands_tags__213', 'emb_product_name_ingredients_text_brands_tags__279', 'emb_product_name_ingredients_text_brands_tags__432', 'emb_product_name_ingredients_text_brands_tags__199', 'emb_product_name_ingredients_text_brands_tags__309', 'emb_product_name_ingredients_text_brands_tags__634', 'emb_product_name_ingredients_text_brands_tags__196', 'emb_product_name_ingredients_text_brands_tags__204', 'emb_product_name_ingredients_text_brands_tags__280', 'emb_product_name_ingredients_text_brands_tags__403', 'emb_product_name_ingredients_text_brands_tags__502', 'emb_product_name_ingredients_text_brands_tags__387', 'emb_product_name_ingredients_text_brands_tags__335', 'emb_product_name_ingredients_text_brands_tags__146', 'emb_product_name_ingredients_text_brands_tags__82', 'emb_product_name_ingredients_text_brands_tags__77', 'emb_product_name_ingredients_text_brands_tags__338', 'emb_product_name_ingredients_text_brands_tags__320', 'emb_product_name_ingredients_text_brands_tags__345', 'emb_product_name_ingredients_text_brands_tags__26', 'emb_product_name_ingredients_text_brands_tags__692', 'emb_product_name_ingredients_text_brands_tags__614', 'emb_product_name_ingredients_text_brands_tags__89', 'emb_product_name_ingredients_text_brands_tags__689', 'emb_product_name_ingredients_text_brands_tags__246', 'emb_product_name_ingredients_text_brands_tags__127', 'emb_product_name_ingredients_text_brands_tags__357', 'emb_product_name_ingredients_text_brands_tags__200', 'emb_product_name_ingredients_text_brands_tags__92', 'emb_product_name_ingredients_text_brands_tags__159', 'emb_product_name_ingredients_text_brands_tags__651', 'emb_product_name_ingredients_text_brands_tags__327', 'emb_product_name_ingredients_text_brands_tags__495', 'emb_product_name_ingredients_text_brands_tags__359', 'emb_product_name_ingredients_text_brands_tags__137', 'emb_product_name_ingredients_text_brands_tags__625', 'emb_product_name_ingredients_text_brands_tags__670', 'emb_product_name_ingredients_text_brands_tags__84', 'emb_product_name_ingredients_text_brands_tags__266', 'emb_product_name_ingredients_text_brands_tags__347', 'emb_product_name_ingredients_text_brands_tags__220', 'emb_product_name_ingredients_text_brands_tags__556', 'emb_product_name_ingredients_text_brands_tags__191', 'emb_product_name_ingredients_text_brands_tags__385', 'emb_product_name_ingredients_text_brands_tags__68', 'emb_product_name_ingredients_text_brands_tags__528', 'emb_product_name_ingredients_text_brands_tags__646', 'emb_product_name_ingredients_text_brands_tags__682', 'emb_product_name_ingredients_text_brands_tags__748', 'emb_product_name_ingredients_text_brands_tags__261', 'emb_product_name_ingredients_text_brands_tags__644', 'emb_product_name_ingredients_text_brands_tags__567', 'emb_product_name_ingredients_text_brands_tags__294', 'emb_product_name_ingredients_text_brands_tags__708', 'emb_product_name_ingredients_text_brands_tags__348', 'emb_product_name_ingredients_text_brands_tags__574', 'emb_product_name_ingredients_text_brands_tags__47', 'emb_product_name_ingredients_text_brands_tags__198', 'emb_product_name_ingredients_text_brands_tags__79', 'emb_product_name_ingredients_text_brands_tags__558', 'emb_product_name_ingredients_text_brands_tags__441', 'emb_product_name_ingredients_text_brands_tags__109', 'emb_product_name_ingredients_text_brands_tags__687', 'emb_product_name_ingredients_text_brands_tags__707', 'additives_n', 'emb_product_name_ingredients_text_brands_tags__577', 'emb_product_name_ingredients_text_brands_tags__758', 'emb_product_name_ingredients_text_brands_tags__91', 'emb_product_name_ingredients_text_brands_tags__460', 'emb_product_name_ingredients_text_brands_tags__471', 'emb_product_name_ingredients_text_brands_tags__171', 'emb_product_name_ingredients_text_brands_tags__533', 'emb_product_name_ingredients_text_brands_tags__446', 'emb_product_name_ingredients_text_brands_tags__451', 'emb_product_name_ingredients_text_brands_tags__248', 'emb_product_name_ingredients_text_brands_tags__444', 'emb_product_name_ingredients_text_brands_tags__445', 'emb_product_name_ingredients_text_brands_tags__229', 'emb_product_name_ingredients_text_brands_tags__747', 'emb_product_name_ingredients_text_brands_tags__506', 'emb_product_name_ingredients_text_brands_tags__301', 'emb_product_name_ingredients_text_brands_tags__719', 'emb_product_name_ingredients_text_brands_tags__652', 'emb_product_name_ingredients_text_brands_tags__464', 'emb_product_name_ingredients_text_brands_tags__547', 'emb_product_name_ingredients_text_brands_tags__66', 'emb_product_name_ingredients_text_brands_tags__370', 'emb_product_name_ingredients_text_brands_tags__691', 'emb_product_name_ingredients_text_brands_tags__467', 'emb_product_name_ingredients_text_brands_tags__267', 'emb_product_name_ingredients_text_brands_tags__507', 'emb_product_name_ingredients_text_brands_tags__526', 'emb_product_name_ingredients_text_brands_tags__752', 'emb_product_name_ingredients_text_brands_tags__215', 'emb_product_name_ingredients_text_brands_tags__326', 'emb_product_name_ingredients_text_brands_tags__727', 'emb_product_name_ingredients_text_brands_tags__404', 'emb_product_name_ingredients_text_brands_tags__98', 'ingredients_that_may_be_from_palm_oil_n', 'emb_product_name_ingredients_text_brands_tags__155', 'emb_product_name_ingredients_text_brands_tags__288', 'emb_product_name_ingredients_text_brands_tags__278', 'emb_product_name_ingredients_text_brands_tags__703', 'emb_product_name_ingredients_text_brands_tags__635', 'emb_product_name_ingredients_text_brands_tags__766', 'emb_product_name_ingredients_text_brands_tags__323', 'emb_product_name_ingredients_text_brands_tags__514', 'emb_product_name_ingredients_text_brands_tags__299', 'emb_product_name_ingredients_text_brands_tags__761', 'emb_product_name_ingredients_text_brands_tags__629', 'emb_product_name_ingredients_text_brands_tags__698', 'emb_product_name_ingredients_text_brands_tags__125', 'emb_product_name_ingredients_text_brands_tags__202', 'emb_product_name_ingredients_text_brands_tags__511', 'emb_product_name_ingredients_text_brands_tags__74', 'emb_product_name_ingredients_text_brands_tags__62', 'emb_product_name_ingredients_text_brands_tags__419', 'emb_product_name_ingredients_text_brands_tags__88', 'emb_product_name_ingredients_text_brands_tags__352', 'emb_product_name_ingredients_text_brands_tags__621', 'emb_product_name_ingredients_text_brands_tags__22', 'emb_product_name_ingredients_text_brands_tags__650', 'emb_product_name_ingredients_text_brands_tags__764', 'emb_product_name_ingredients_text_brands_tags__642', 'emb_product_name_ingredients_text_brands_tags__286', 'emb_product_name_ingredients_text_brands_tags__111', 'emb_product_name_ingredients_text_brands_tags__368', 'emb_product_name_ingredients_text_brands_tags__731', 'emb_product_name_ingredients_text_brands_tags__316', 'emb_product_name_ingredients_text_brands_tags__723', 'emb_product_name_ingredients_text_brands_tags__439', 'emb_product_name_ingredients_text_brands_tags__51', 'emb_product_name_ingredients_text_brands_tags__456', 'emb_product_name_ingredients_text_brands_tags__168', 'emb_product_name_ingredients_text_brands_tags__767', 'emb_product_name_ingredients_text_brands_tags__174', 'emb_product_name_ingredients_text_brands_tags__709', 'emb_product_name_ingredients_text_brands_tags__537', 'emb_product_name_ingredients_text_brands_tags__510', 'emb_product_name_ingredients_text_brands_tags__233', 'emb_product_name_ingredients_text_brands_tags__637', 'emb_product_name_ingredients_text_brands_tags__142', 'emb_product_name_ingredients_text_brands_tags__53', 'emb_product_name_ingredients_text_brands_tags__397', 'emb_product_name_ingredients_text_brands_tags__600', 'emb_product_name_ingredients_text_brands_tags__569', 'emb_product_name_ingredients_text_brands_tags__605', 'emb_product_name_ingredients_text_brands_tags__428', 'emb_product_name_ingredients_text_brands_tags__170', 'emb_product_name_ingredients_text_brands_tags__468', 'emb_product_name_ingredients_text_brands_tags__512', 'emb_product_name_ingredients_text_brands_tags__668', 'emb_product_name_ingredients_text_brands_tags__725', 'emb_product_name_ingredients_text_brands_tags__720', 'emb_product_name_ingredients_text_brands_tags__54', 'emb_product_name_ingredients_text_brands_tags__46', 'emb_product_name_ingredients_text_brands_tags__626', 'emb_product_name_ingredients_text_brands_tags__275', 'emb_product_name_ingredients_text_brands_tags__417', 'emb_product_name_ingredients_text_brands_tags__544', 'emb_product_name_ingredients_text_brands_tags__249', 'emb_product_name_ingredients_text_brands_tags__190', 'emb_product_name_ingredients_text_brands_tags__718', 'emb_product_name_ingredients_text_brands_tags__639', 'emb_product_name_ingredients_text_brands_tags__388', 'emb_product_name_ingredients_text_brands_tags__292', 'emb_product_name_ingredients_text_brands_tags__186', 'emb_product_name_ingredients_text_brands_tags__622', 'emb_product_name_ingredients_text_brands_tags__152', 'emb_product_name_ingredients_text_brands_tags__244', 'emb_product_name_ingredients_text_brands_tags__242', 'emb_product_name_ingredients_text_brands_tags__566', 'emb_product_name_ingredients_text_brands_tags__523', 'emb_product_name_ingredients_text_brands_tags__522', 'emb_product_name_ingredients_text_brands_tags__5', 'emb_product_name_ingredients_text_brands_tags__753', 'emb_product_name_ingredients_text_brands_tags__679', 'emb_product_name_ingredients_text_brands_tags__43', 'emb_product_name_ingredients_text_brands_tags__189', 'emb_product_name_ingredients_text_brands_tags__59', 'emb_product_name_ingredients_text_brands_tags__296', 'emb_product_name_ingredients_text_brands_tags__270', 'emb_product_name_ingredients_text_brands_tags__383', 'emb_product_name_ingredients_text_brands_tags__141', 'emb_product_name_ingredients_text_brands_tags__231', 'emb_product_name_ingredients_text_brands_tags__476', 'emb_product_name_ingredients_text_brands_tags__565', 'emb_product_name_ingredients_text_brands_tags__684', 'emb_product_name_ingredients_text_brands_tags__24', 'emb_product_name_ingredients_text_brands_tags__501', 'emb_product_name_ingredients_text_brands_tags__711', 'emb_product_name_ingredients_text_brands_tags__678', 'emb_product_name_ingredients_text_brands_tags__130', 'emb_product_name_ingredients_text_brands_tags__221', 'emb_product_name_ingredients_text_brands_tags__572', 'emb_product_name_ingredients_text_brands_tags__192', 'emb_product_name_ingredients_text_brands_tags__721', 'emb_product_name_ingredients_text_brands_tags__384', 'emb_product_name_ingredients_text_brands_tags__543', 'emb_product_name_ingredients_text_brands_tags__743', 'emb_product_name_ingredients_text_brands_tags__140', 'emb_product_name_ingredients_text_brands_tags__27', 'emb_product_name_ingredients_text_brands_tags__243', 'emb_product_name_ingredients_text_brands_tags__584', 'emb_product_name_ingredients_text_brands_tags__425', 'emb_product_name_ingredients_text_brands_tags__264', 'emb_product_name_ingredients_text_brands_tags__247', 'emb_product_name_ingredients_text_brands_tags__108', 'emb_product_name_ingredients_text_brands_tags__434', 'emb_product_name_ingredients_text_brands_tags__329', 'emb_product_name_ingredients_text_brands_tags__402', 'emb_product_name_ingredients_text_brands_tags__497', 'emb_product_name_ingredients_text_brands_tags__666', 'emb_product_name_ingredients_text_brands_tags__1', 'emb_product_name_ingredients_text_brands_tags__391', 'emb_product_name_ingredients_text_brands_tags__409', 'emb_product_name_ingredients_text_brands_tags__573', 'emb_product_name_ingredients_text_brands_tags__56', 'emb_product_name_ingredients_text_brands_tags__42', 'emb_product_name_ingredients_text_brands_tags__594', 'emb_product_name_ingredients_text_brands_tags__101', 'emb_product_name_ingredients_text_brands_tags__489', 'emb_product_name_ingredients_text_brands_tags__136', 'emb_product_name_ingredients_text_brands_tags__532', 'emb_product_name_ingredients_text_brands_tags__493', 'emb_product_name_ingredients_text_brands_tags__132', 'emb_product_name_ingredients_text_brands_tags__184', 'emb_product_name_ingredients_text_brands_tags__492', 'emb_product_name_ingredients_text_brands_tags__293', 'emb_product_name_ingredients_text_brands_tags__617', 'emb_product_name_ingredients_text_brands_tags__686', 'emb_product_name_ingredients_text_brands_tags__117', 'emb_product_name_ingredients_text_brands_tags__450', 'emb_product_name_ingredients_text_brands_tags__563', 'emb_product_name_ingredients_text_brands_tags__307', 'emb_product_name_ingredients_text_brands_tags__475', 'emb_product_name_ingredients_text_brands_tags__135', 'emb_product_name_ingredients_text_brands_tags__436', 'emb_product_name_ingredients_text_brands_tags__407', 'emb_product_name_ingredients_text_brands_tags__394', 'emb_product_name_ingredients_text_brands_tags__527', 'emb_product_name_ingredients_text_brands_tags__72', 'emb_product_name_ingredients_text_brands_tags__138', 'emb_product_name_ingredients_text_brands_tags__762', 'emb_product_name_ingredients_text_brands_tags__149', 'emb_product_name_ingredients_text_brands_tags__763', 'emb_product_name_ingredients_text_brands_tags__356', 'emb_product_name_ingredients_text_brands_tags__61', 'emb_product_name_ingredients_text_brands_tags__742', 'emb_product_name_ingredients_text_brands_tags__677', 'emb_product_name_ingredients_text_brands_tags__750', 'emb_product_name_ingredients_text_brands_tags__298', 'emb_product_name_ingredients_text_brands_tags__147', 'emb_product_name_ingredients_text_brands_tags__716', 'emb_product_name_ingredients_text_brands_tags__738', 'emb_product_name_ingredients_text_brands_tags__11', 'emb_product_name_ingredients_text_brands_tags__245', 'emb_product_name_ingredients_text_brands_tags__546', 'emb_product_name_ingredients_text_brands_tags__268', 'emb_product_name_ingredients_text_brands_tags__311', 'emb_product_name_ingredients_text_brands_tags__154', 'emb_product_name_ingredients_text_brands_tags__581', 'label_states_en_brands', 'label_states_en_categories', 'label_states_en_characteristics', 'label_states_en_expiration date', 'label_states_en_general_complete', 'label_states_en_ingredients', 'label_pnns_groups_1', 'label_pnns_groups_2', 'label_states_en_packaging', 'label_states_en_packaging-code-', 'label_states_en_photo_upload', 'label_states_en_photo_validate', 'label_states_en_product name', 'label_states_en_quantity']\n",
      "Cat index: [772, 773, 774, 775, 776, 777, 778, 779, 780, 781, 782, 783, 784, 785]\n",
      "---------- Training fold Nº 1 ----------\n"
     ]
    },
    {
     "name": "stdout",
     "output_type": "stream",
     "text": [
      "[LightGBM] [Warning] Find whitespaces in feature_names, replace with underlines\n",
      "[LightGBM] [Info] Total Bins 196221\n",
      "[LightGBM] [Info] Number of data points in the train set: 81622, number of used features: 786\n"
     ]
    },
    {
     "name": "stderr",
     "output_type": "stream",
     "text": [
      "/usr/local/lib/python3.6/dist-packages/lightgbm/basic.py:1433: UserWarning: Overriding the parameters from Reference Dataset.\n",
      "  _log_warning('Overriding the parameters from Reference Dataset.')\n",
      "/usr/local/lib/python3.6/dist-packages/lightgbm/basic.py:1245: UserWarning: categorical_column in param dict is overridden.\n",
      "  _log_warning('{} in param dict is overridden.'.format(cat_alias))\n"
     ]
    },
    {
     "name": "stdout",
     "output_type": "stream",
     "text": [
      "[LightGBM] [Warning] Find whitespaces in feature_names, replace with underlines\n",
      "[LightGBM] [Info] Start training from score 9.171473\n",
      "Training until validation scores don't improve for 200 rounds\n",
      "[50]\ttraining's rmse: 8.66406\tvalid_1's rmse: 8.65719\n",
      "[100]\ttraining's rmse: 8.32912\tvalid_1's rmse: 8.32015\n",
      "[150]\ttraining's rmse: 8.01344\tvalid_1's rmse: 8.00235\n",
      "[200]\ttraining's rmse: 7.71541\tvalid_1's rmse: 7.70243\n",
      "[250]\ttraining's rmse: 7.43425\tvalid_1's rmse: 7.41936\n",
      "[300]\ttraining's rmse: 7.16972\tvalid_1's rmse: 7.15305\n",
      "[350]\ttraining's rmse: 6.92061\tvalid_1's rmse: 6.90218\n",
      "[400]\ttraining's rmse: 6.68639\tvalid_1's rmse: 6.66638\n",
      "[450]\ttraining's rmse: 6.46655\tvalid_1's rmse: 6.4448\n",
      "[500]\ttraining's rmse: 6.25991\tvalid_1's rmse: 6.23659\n",
      "[550]\ttraining's rmse: 6.06628\tvalid_1's rmse: 6.04158\n",
      "[600]\ttraining's rmse: 5.88465\tvalid_1's rmse: 5.85848\n",
      "[650]\ttraining's rmse: 5.71458\tvalid_1's rmse: 5.68714\n",
      "[700]\ttraining's rmse: 5.55565\tvalid_1's rmse: 5.52705\n",
      "[750]\ttraining's rmse: 5.40722\tvalid_1's rmse: 5.37746\n",
      "[800]\ttraining's rmse: 5.26827\tvalid_1's rmse: 5.23746\n",
      "[850]\ttraining's rmse: 5.13892\tvalid_1's rmse: 5.10705\n",
      "[900]\ttraining's rmse: 5.01817\tvalid_1's rmse: 4.98548\n",
      "[950]\ttraining's rmse: 4.90577\tvalid_1's rmse: 4.87242\n",
      "[1000]\ttraining's rmse: 4.80112\tvalid_1's rmse: 4.76724\n",
      "[1050]\ttraining's rmse: 4.70408\tvalid_1's rmse: 4.66985\n",
      "[1100]\ttraining's rmse: 4.61401\tvalid_1's rmse: 4.57956\n",
      "[1150]\ttraining's rmse: 4.53044\tvalid_1's rmse: 4.49581\n",
      "[1200]\ttraining's rmse: 4.45296\tvalid_1's rmse: 4.41818\n",
      "[1250]\ttraining's rmse: 4.38124\tvalid_1's rmse: 4.34631\n",
      "[1300]\ttraining's rmse: 4.31488\tvalid_1's rmse: 4.27989\n",
      "[1350]\ttraining's rmse: 4.25358\tvalid_1's rmse: 4.2186\n",
      "[1400]\ttraining's rmse: 4.19689\tvalid_1's rmse: 4.16208\n",
      "[1450]\ttraining's rmse: 4.14461\tvalid_1's rmse: 4.10998\n",
      "[1500]\ttraining's rmse: 4.09632\tvalid_1's rmse: 4.06193\n",
      "[1550]\ttraining's rmse: 4.05196\tvalid_1's rmse: 4.01781\n",
      "[1600]\ttraining's rmse: 4.01087\tvalid_1's rmse: 3.97701\n",
      "[1650]\ttraining's rmse: 3.97303\tvalid_1's rmse: 3.93957\n",
      "[1700]\ttraining's rmse: 3.93815\tvalid_1's rmse: 3.90519\n",
      "[1750]\ttraining's rmse: 3.90597\tvalid_1's rmse: 3.87346\n",
      "[1800]\ttraining's rmse: 3.8764\tvalid_1's rmse: 3.84446\n",
      "[1850]\ttraining's rmse: 3.84917\tvalid_1's rmse: 3.81771\n",
      "[1900]\ttraining's rmse: 3.82411\tvalid_1's rmse: 3.79317\n",
      "[1950]\ttraining's rmse: 3.80106\tvalid_1's rmse: 3.7708\n",
      "[2000]\ttraining's rmse: 3.77992\tvalid_1's rmse: 3.75022\n",
      "[2050]\ttraining's rmse: 3.76037\tvalid_1's rmse: 3.73138\n",
      "[2100]\ttraining's rmse: 3.74239\tvalid_1's rmse: 3.71404\n",
      "[2150]\ttraining's rmse: 3.72601\tvalid_1's rmse: 3.69833\n",
      "[2200]\ttraining's rmse: 3.71071\tvalid_1's rmse: 3.68363\n",
      "[2250]\ttraining's rmse: 3.69672\tvalid_1's rmse: 3.6703\n",
      "[2300]\ttraining's rmse: 3.68386\tvalid_1's rmse: 3.6581\n",
      "[2350]\ttraining's rmse: 3.67207\tvalid_1's rmse: 3.64697\n",
      "[2400]\ttraining's rmse: 3.66104\tvalid_1's rmse: 3.63658\n",
      "[2450]\ttraining's rmse: 3.65096\tvalid_1's rmse: 3.62706\n",
      "[2500]\ttraining's rmse: 3.64167\tvalid_1's rmse: 3.61843\n",
      "[2550]\ttraining's rmse: 3.63311\tvalid_1's rmse: 3.61055\n",
      "[2600]\ttraining's rmse: 3.6251\tvalid_1's rmse: 3.60313\n",
      "[2650]\ttraining's rmse: 3.61776\tvalid_1's rmse: 3.59633\n",
      "[2700]\ttraining's rmse: 3.61105\tvalid_1's rmse: 3.59026\n",
      "[2750]\ttraining's rmse: 3.60475\tvalid_1's rmse: 3.5845\n",
      "[2800]\ttraining's rmse: 3.59905\tvalid_1's rmse: 3.57945\n",
      "[2850]\ttraining's rmse: 3.59367\tvalid_1's rmse: 3.57461\n",
      "[2900]\ttraining's rmse: 3.58866\tvalid_1's rmse: 3.57013\n",
      "[2950]\ttraining's rmse: 3.58397\tvalid_1's rmse: 3.566\n",
      "[3000]\ttraining's rmse: 3.5796\tvalid_1's rmse: 3.56214\n",
      "[3050]\ttraining's rmse: 3.57545\tvalid_1's rmse: 3.55847\n",
      "[3100]\ttraining's rmse: 3.57168\tvalid_1's rmse: 3.55529\n",
      "[3150]\ttraining's rmse: 3.56816\tvalid_1's rmse: 3.55231\n",
      "[3200]\ttraining's rmse: 3.56486\tvalid_1's rmse: 3.54948\n",
      "[3250]\ttraining's rmse: 3.56176\tvalid_1's rmse: 3.54689\n",
      "[3300]\ttraining's rmse: 3.55882\tvalid_1's rmse: 3.54447\n",
      "[3350]\ttraining's rmse: 3.55605\tvalid_1's rmse: 3.54222\n",
      "[3400]\ttraining's rmse: 3.55343\tvalid_1's rmse: 3.54007\n",
      "[3450]\ttraining's rmse: 3.55101\tvalid_1's rmse: 3.53816\n",
      "[3500]\ttraining's rmse: 3.54879\tvalid_1's rmse: 3.53645\n",
      "[3550]\ttraining's rmse: 3.54663\tvalid_1's rmse: 3.53475\n",
      "[3600]\ttraining's rmse: 3.54457\tvalid_1's rmse: 3.5332\n",
      "[3650]\ttraining's rmse: 3.54266\tvalid_1's rmse: 3.5317\n",
      "[3700]\ttraining's rmse: 3.54084\tvalid_1's rmse: 3.53033\n",
      "[3750]\ttraining's rmse: 3.53905\tvalid_1's rmse: 3.52898\n",
      "[3800]\ttraining's rmse: 3.53742\tvalid_1's rmse: 3.52781\n",
      "[3850]\ttraining's rmse: 3.53586\tvalid_1's rmse: 3.5267\n",
      "[3900]\ttraining's rmse: 3.53436\tvalid_1's rmse: 3.52562\n",
      "[3950]\ttraining's rmse: 3.53292\tvalid_1's rmse: 3.52459\n",
      "[4000]\ttraining's rmse: 3.53156\tvalid_1's rmse: 3.52367\n",
      "[4050]\ttraining's rmse: 3.53024\tvalid_1's rmse: 3.52279\n",
      "[4100]\ttraining's rmse: 3.52902\tvalid_1's rmse: 3.52197\n",
      "[4150]\ttraining's rmse: 3.52779\tvalid_1's rmse: 3.52117\n",
      "[4200]\ttraining's rmse: 3.52659\tvalid_1's rmse: 3.52036\n",
      "[4250]\ttraining's rmse: 3.52543\tvalid_1's rmse: 3.51964\n",
      "[4300]\ttraining's rmse: 3.52435\tvalid_1's rmse: 3.51895\n",
      "[4350]\ttraining's rmse: 3.52333\tvalid_1's rmse: 3.51835\n",
      "[4400]\ttraining's rmse: 3.52232\tvalid_1's rmse: 3.51777\n",
      "[4450]\ttraining's rmse: 3.52139\tvalid_1's rmse: 3.51726\n",
      "[4500]\ttraining's rmse: 3.52044\tvalid_1's rmse: 3.51667\n",
      "[4550]\ttraining's rmse: 3.51959\tvalid_1's rmse: 3.51624\n",
      "[4600]\ttraining's rmse: 3.51867\tvalid_1's rmse: 3.51571\n",
      "[4650]\ttraining's rmse: 3.51784\tvalid_1's rmse: 3.51534\n",
      "[4700]\ttraining's rmse: 3.51694\tvalid_1's rmse: 3.51482\n",
      "[4750]\ttraining's rmse: 3.51616\tvalid_1's rmse: 3.51443\n",
      "[4800]\ttraining's rmse: 3.51537\tvalid_1's rmse: 3.51402\n",
      "[4850]\ttraining's rmse: 3.51459\tvalid_1's rmse: 3.51362\n",
      "[4900]\ttraining's rmse: 3.51387\tvalid_1's rmse: 3.51334\n",
      "[4950]\ttraining's rmse: 3.51317\tvalid_1's rmse: 3.51306\n",
      "[5000]\ttraining's rmse: 3.51247\tvalid_1's rmse: 3.51275\n",
      "[5050]\ttraining's rmse: 3.51177\tvalid_1's rmse: 3.51244\n",
      "[5100]\ttraining's rmse: 3.51106\tvalid_1's rmse: 3.5121\n",
      "[5150]\ttraining's rmse: 3.51037\tvalid_1's rmse: 3.51183\n",
      "[5200]\ttraining's rmse: 3.50976\tvalid_1's rmse: 3.51163\n",
      "[5250]\ttraining's rmse: 3.50913\tvalid_1's rmse: 3.5114\n",
      "[5300]\ttraining's rmse: 3.50852\tvalid_1's rmse: 3.51121\n",
      "[5350]\ttraining's rmse: 3.50787\tvalid_1's rmse: 3.51095\n",
      "[5400]\ttraining's rmse: 3.50729\tvalid_1's rmse: 3.51079\n",
      "[5450]\ttraining's rmse: 3.50666\tvalid_1's rmse: 3.51054\n",
      "[5500]\ttraining's rmse: 3.5061\tvalid_1's rmse: 3.51042\n",
      "[5550]\ttraining's rmse: 3.50554\tvalid_1's rmse: 3.5103\n",
      "[5600]\ttraining's rmse: 3.50495\tvalid_1's rmse: 3.51012\n",
      "[5650]\ttraining's rmse: 3.50437\tvalid_1's rmse: 3.50995\n",
      "[5700]\ttraining's rmse: 3.50376\tvalid_1's rmse: 3.50971\n",
      "[5750]\ttraining's rmse: 3.50325\tvalid_1's rmse: 3.50962\n",
      "[5800]\ttraining's rmse: 3.50274\tvalid_1's rmse: 3.50951\n",
      "[5850]\ttraining's rmse: 3.50224\tvalid_1's rmse: 3.50944\n",
      "[5900]\ttraining's rmse: 3.5017\tvalid_1's rmse: 3.50931\n",
      "[5950]\ttraining's rmse: 3.50121\tvalid_1's rmse: 3.50924\n",
      "[6000]\ttraining's rmse: 3.50072\tvalid_1's rmse: 3.50916\n",
      "[6050]\ttraining's rmse: 3.50025\tvalid_1's rmse: 3.50909\n",
      "[6100]\ttraining's rmse: 3.4998\tvalid_1's rmse: 3.50905\n",
      "[6150]\ttraining's rmse: 3.49932\tvalid_1's rmse: 3.50895\n",
      "[6200]\ttraining's rmse: 3.49885\tvalid_1's rmse: 3.50886\n",
      "[6250]\ttraining's rmse: 3.4983\tvalid_1's rmse: 3.5087\n",
      "[6300]\ttraining's rmse: 3.49782\tvalid_1's rmse: 3.50863\n",
      "[6350]\ttraining's rmse: 3.49736\tvalid_1's rmse: 3.50855\n",
      "[6400]\ttraining's rmse: 3.49689\tvalid_1's rmse: 3.50849\n",
      "[6450]\ttraining's rmse: 3.49642\tvalid_1's rmse: 3.5084\n",
      "[6500]\ttraining's rmse: 3.49595\tvalid_1's rmse: 3.50831\n",
      "[6550]\ttraining's rmse: 3.49545\tvalid_1's rmse: 3.50822\n",
      "[6600]\ttraining's rmse: 3.495\tvalid_1's rmse: 3.50819\n",
      "[6650]\ttraining's rmse: 3.49455\tvalid_1's rmse: 3.50813\n",
      "[6700]\ttraining's rmse: 3.49406\tvalid_1's rmse: 3.508\n",
      "[6750]\ttraining's rmse: 3.49362\tvalid_1's rmse: 3.50795\n",
      "[6800]\ttraining's rmse: 3.49319\tvalid_1's rmse: 3.5079\n",
      "[6850]\ttraining's rmse: 3.49275\tvalid_1's rmse: 3.50788\n",
      "[6900]\ttraining's rmse: 3.49234\tvalid_1's rmse: 3.50784\n",
      "[LightGBM] [Warning] No further splits with positive gain, best gain: -inf\n",
      "[6950]\ttraining's rmse: 3.49195\tvalid_1's rmse: 3.50783\n",
      "[7000]\ttraining's rmse: 3.4915\tvalid_1's rmse: 3.50774\n",
      "[7050]\ttraining's rmse: 3.49106\tvalid_1's rmse: 3.50771\n",
      "[LightGBM] [Warning] No further splits with positive gain, best gain: -inf\n",
      "[7100]\ttraining's rmse: 3.49065\tvalid_1's rmse: 3.5077\n"
     ]
    },
    {
     "name": "stdout",
     "output_type": "stream",
     "text": [
      "[7150]\ttraining's rmse: 3.49025\tvalid_1's rmse: 3.50769\n",
      "[7200]\ttraining's rmse: 3.48983\tvalid_1's rmse: 3.50767\n",
      "[7250]\ttraining's rmse: 3.48938\tvalid_1's rmse: 3.50759\n",
      "[7300]\ttraining's rmse: 3.48893\tvalid_1's rmse: 3.50752\n",
      "[7350]\ttraining's rmse: 3.4885\tvalid_1's rmse: 3.5075\n",
      "[7400]\ttraining's rmse: 3.48804\tvalid_1's rmse: 3.5074\n",
      "[7450]\ttraining's rmse: 3.48763\tvalid_1's rmse: 3.50735\n",
      "[7500]\ttraining's rmse: 3.48722\tvalid_1's rmse: 3.50737\n",
      "[7550]\ttraining's rmse: 3.48684\tvalid_1's rmse: 3.50735\n",
      "[7600]\ttraining's rmse: 3.48643\tvalid_1's rmse: 3.50731\n",
      "[7650]\ttraining's rmse: 3.48603\tvalid_1's rmse: 3.50728\n",
      "[7700]\ttraining's rmse: 3.48565\tvalid_1's rmse: 3.50729\n",
      "[7750]\ttraining's rmse: 3.48524\tvalid_1's rmse: 3.50726\n",
      "[LightGBM] [Warning] No further splits with positive gain, best gain: -inf\n",
      "[LightGBM] [Warning] No further splits with positive gain, best gain: -inf\n",
      "[7800]\ttraining's rmse: 3.48485\tvalid_1's rmse: 3.50723\n",
      "[LightGBM] [Warning] No further splits with positive gain, best gain: -inf\n",
      "[7850]\ttraining's rmse: 3.48446\tvalid_1's rmse: 3.50721\n",
      "[7900]\ttraining's rmse: 3.48406\tvalid_1's rmse: 3.50717\n",
      "[7950]\ttraining's rmse: 3.48368\tvalid_1's rmse: 3.50719\n",
      "[8000]\ttraining's rmse: 3.48326\tvalid_1's rmse: 3.50714\n",
      "Did not meet early stopping. Best iteration is:\n",
      "[8000]\ttraining's rmse: 3.48326\tvalid_1's rmse: 3.50714\n",
      "Train RMSE: 3.483264960422774        Valida RMSE: 3.5071435071796175\n",
      "Columns: ['emb_product_name_ingredients_text_brands_tags__557', 'emb_product_name_ingredients_text_brands_tags__730', 'emb_product_name_ingredients_text_brands_tags__746', 'emb_product_name_ingredients_text_brands_tags__2', 'emb_product_name_ingredients_text_brands_tags__638', 'emb_product_name_ingredients_text_brands_tags__393', 'emb_product_name_ingredients_text_brands_tags__315', 'emb_product_name_ingredients_text_brands_tags__550', 'emb_product_name_ingredients_text_brands_tags__717', 'emb_product_name_ingredients_text_brands_tags__757', 'emb_product_name_ingredients_text_brands_tags__324', 'emb_product_name_ingredients_text_brands_tags__64', 'emb_product_name_ingredients_text_brands_tags__45', 'emb_product_name_ingredients_text_brands_tags__274', 'emb_product_name_ingredients_text_brands_tags__498', 'emb_product_name_ingredients_text_brands_tags__173', 'emb_product_name_ingredients_text_brands_tags__715', 'emb_product_name_ingredients_text_brands_tags__210', 'emb_product_name_ingredients_text_brands_tags__364', 'emb_product_name_ingredients_text_brands_tags__169', 'emb_product_name_ingredients_text_brands_tags__300', 'emb_product_name_ingredients_text_brands_tags__29', 'emb_product_name_ingredients_text_brands_tags__94', 'emb_product_name_ingredients_text_brands_tags__225', 'emb_product_name_ingredients_text_brands_tags__531', 'emb_product_name_ingredients_text_brands_tags__665', 'emb_product_name_ingredients_text_brands_tags__30', 'emb_product_name_ingredients_text_brands_tags__483', 'emb_product_name_ingredients_text_brands_tags__321', 'emb_product_name_ingredients_text_brands_tags__408', 'emb_product_name_ingredients_text_brands_tags__485', 'emb_product_name_ingredients_text_brands_tags__660', 'emb_product_name_ingredients_text_brands_tags__73', 'emb_product_name_ingredients_text_brands_tags__662', 'emb_product_name_ingredients_text_brands_tags__713', 'emb_product_name_ingredients_text_brands_tags__756', 'emb_product_name_ingredients_text_brands_tags__295', 'emb_product_name_ingredients_text_brands_tags__491', 'emb_product_name_ingredients_text_brands_tags__76', 'emb_product_name_ingredients_text_brands_tags__499', 'emb_product_name_ingredients_text_brands_tags__695', 'emb_product_name_ingredients_text_brands_tags__654', 'emb_product_name_ingredients_text_brands_tags__156', 'emb_product_name_ingredients_text_brands_tags__366', 'emb_product_name_ingredients_text_brands_tags__423', 'emb_product_name_ingredients_text_brands_tags__700', 'emb_product_name_ingredients_text_brands_tags__239', 'emb_product_name_ingredients_text_brands_tags__490', 'emb_product_name_ingredients_text_brands_tags__562', 'emb_product_name_ingredients_text_brands_tags__58', 'emb_product_name_ingredients_text_brands_tags__122', 'emb_product_name_ingredients_text_brands_tags__237', 'emb_product_name_ingredients_text_brands_tags__305', 'emb_product_name_ingredients_text_brands_tags__124', 'emb_product_name_ingredients_text_brands_tags__241', 'emb_product_name_ingredients_text_brands_tags__437', 'emb_product_name_ingredients_text_brands_tags__619', 'emb_product_name_ingredients_text_brands_tags__518', 'emb_product_name_ingredients_text_brands_tags__175', 'emb_product_name_ingredients_text_brands_tags__410', 'emb_product_name_ingredients_text_brands_tags__322', 'emb_product_name_ingredients_text_brands_tags__555', 'emb_product_name_ingredients_text_brands_tags__36', 'emb_product_name_ingredients_text_brands_tags__143', 'emb_product_name_ingredients_text_brands_tags__438', 'emb_product_name_ingredients_text_brands_tags__166', 'emb_product_name_ingredients_text_brands_tags__37', 'emb_product_name_ingredients_text_brands_tags__107', 'emb_product_name_ingredients_text_brands_tags__390', 'emb_product_name_ingredients_text_brands_tags__378', 'emb_product_name_ingredients_text_brands_tags__591', 'emb_product_name_ingredients_text_brands_tags__420', 'emb_product_name_ingredients_text_brands_tags__195', 'emb_product_name_ingredients_text_brands_tags__389', 'emb_product_name_ingredients_text_brands_tags__645', 'emb_product_name_ingredients_text_brands_tags__486', 'emb_product_name_ingredients_text_brands_tags__395', 'emb_product_name_ingredients_text_brands_tags__733', 'diff_t', 'emb_product_name_ingredients_text_brands_tags__145', 'emb_product_name_ingredients_text_brands_tags__282', 'emb_product_name_ingredients_text_brands_tags__505', 'emb_product_name_ingredients_text_brands_tags__297', 'emb_product_name_ingredients_text_brands_tags__14', 'emb_product_name_ingredients_text_brands_tags__593', 'emb_product_name_ingredients_text_brands_tags__350', 'emb_product_name_ingredients_text_brands_tags__524', 'emb_product_name_ingredients_text_brands_tags__535', 'emb_product_name_ingredients_text_brands_tags__48', 'emb_product_name_ingredients_text_brands_tags__620', 'emb_product_name_ingredients_text_brands_tags__509', 'emb_product_name_ingredients_text_brands_tags__223', 'emb_product_name_ingredients_text_brands_tags__257', 'emb_product_name_ingredients_text_brands_tags__96', 'emb_product_name_ingredients_text_brands_tags__205', 'emb_product_name_ingredients_text_brands_tags__193', 'emb_product_name_ingredients_text_brands_tags__656', 'emb_product_name_ingredients_text_brands_tags__57', 'emb_product_name_ingredients_text_brands_tags__612', 'emb_product_name_ingredients_text_brands_tags__230', 'emb_product_name_ingredients_text_brands_tags__675', 'emb_product_name_ingredients_text_brands_tags__474', 'emb_product_name_ingredients_text_brands_tags__285', 'emb_product_name_ingredients_text_brands_tags__265', 'emb_product_name_ingredients_text_brands_tags__262', 'emb_product_name_ingredients_text_brands_tags__69', 'emb_product_name_ingredients_text_brands_tags__344', 'emb_product_name_ingredients_text_brands_tags__379', 'emb_product_name_ingredients_text_brands_tags__529', 'emb_product_name_ingredients_text_brands_tags__636', 'emb_product_name_ingredients_text_brands_tags__126', 'emb_product_name_ingredients_text_brands_tags__330', 'emb_product_name_ingredients_text_brands_tags__276', 'emb_product_name_ingredients_text_brands_tags__271', 'emb_product_name_ingredients_text_brands_tags__75', 'emb_product_name_ingredients_text_brands_tags__430', 'emb_product_name_ingredients_text_brands_tags__13', 'emb_product_name_ingredients_text_brands_tags__659', 'emb_product_name_ingredients_text_brands_tags__570', 'emb_product_name_ingredients_text_brands_tags__676', 'emb_product_name_ingredients_text_brands_tags__513', 'emb_product_name_ingredients_text_brands_tags__17', 'emb_product_name_ingredients_text_brands_tags__685', 'emb_product_name_ingredients_text_brands_tags__291', 'emb_product_name_ingredients_text_brands_tags__4', 'emb_product_name_ingredients_text_brands_tags__554', 'emb_product_name_ingredients_text_brands_tags__12', 'emb_product_name_ingredients_text_brands_tags__254', 'emb_product_name_ingredients_text_brands_tags__469', 'emb_product_name_ingredients_text_brands_tags__21', 'emb_product_name_ingredients_text_brands_tags__80', 'emb_product_name_ingredients_text_brands_tags__608', 'emb_product_name_ingredients_text_brands_tags__372', 'emb_product_name_ingredients_text_brands_tags__396', 'emb_product_name_ingredients_text_brands_tags__78', 'emb_product_name_ingredients_text_brands_tags__206', 'emb_product_name_ingredients_text_brands_tags__65', 'emb_product_name_ingredients_text_brands_tags__303', 'emb_product_name_ingredients_text_brands_tags__361', 'emb_product_name_ingredients_text_brands_tags__375', 'emb_product_name_ingredients_text_brands_tags__448', 'emb_product_name_ingredients_text_brands_tags__462', 'emb_product_name_ingredients_text_brands_tags__217', 'emb_product_name_ingredients_text_brands_tags__253', 'emb_product_name_ingredients_text_brands_tags__597', 'emb_product_name_ingredients_text_brands_tags__504', 'emb_product_name_ingredients_text_brands_tags__102', 'emb_product_name_ingredients_text_brands_tags__211', 'emb_product_name_ingredients_text_brands_tags__674', 'emb_product_name_ingredients_text_brands_tags__373', 'emb_product_name_ingredients_text_brands_tags__157', 'emb_product_name_ingredients_text_brands_tags__433', 'emb_product_name_ingredients_text_brands_tags__416', 'emb_product_name_ingredients_text_brands_tags__631', 'emb_product_name_ingredients_text_brands_tags__427', 'emb_product_name_ingredients_text_brands_tags__696', 'emb_product_name_ingredients_text_brands_tags__313', 'emb_product_name_ingredients_text_brands_tags__194', 'emb_product_name_ingredients_text_brands_tags__520', 'emb_product_name_ingredients_text_brands_tags__624', 'emb_product_name_ingredients_text_brands_tags__765', 'emb_product_name_ingredients_text_brands_tags__339', 'emb_product_name_ingredients_text_brands_tags__424', 'emb_product_name_ingredients_text_brands_tags__55', 'emb_product_name_ingredients_text_brands_tags__228', 'emb_product_name_ingredients_text_brands_tags__630', 'emb_product_name_ingredients_text_brands_tags__661', 'emb_product_name_ingredients_text_brands_tags__632', 'emb_product_name_ingredients_text_brands_tags__103', 'emb_product_name_ingredients_text_brands_tags__162', 'emb_product_name_ingredients_text_brands_tags__38', 'emb_product_name_ingredients_text_brands_tags__188', 'emb_product_name_ingredients_text_brands_tags__401', 'emb_product_name_ingredients_text_brands_tags__587', 'emb_product_name_ingredients_text_brands_tags__615', 'emb_product_name_ingredients_text_brands_tags__609', 'emb_product_name_ingredients_text_brands_tags__216', 'emb_product_name_ingredients_text_brands_tags__207', 'emb_product_name_ingredients_text_brands_tags__112', 'emb_product_name_ingredients_text_brands_tags__470', 'emb_product_name_ingredients_text_brands_tags__726', 'emb_product_name_ingredients_text_brands_tags__119', 'emb_product_name_ingredients_text_brands_tags__521', 'emb_product_name_ingredients_text_brands_tags__740', 'emb_product_name_ingredients_text_brands_tags__519', 'emb_product_name_ingredients_text_brands_tags__99', 'emb_product_name_ingredients_text_brands_tags__83', 'emb_product_name_ingredients_text_brands_tags__87', 'emb_product_name_ingredients_text_brands_tags__413', 'emb_product_name_ingredients_text_brands_tags__623', 'emb_product_name_ingredients_text_brands_tags__712', 'emb_product_name_ingredients_text_brands_tags__232', 'emb_product_name_ingredients_text_brands_tags__40', 'emb_product_name_ingredients_text_brands_tags__411', 'emb_product_name_ingredients_text_brands_tags__585', 'emb_product_name_ingredients_text_brands_tags__351', 'emb_product_name_ingredients_text_brands_tags__120', 'emb_product_name_ingredients_text_brands_tags__28', 'emb_product_name_ingredients_text_brands_tags__477', 'emb_product_name_ingredients_text_brands_tags__701', 'emb_product_name_ingredients_text_brands_tags__290', 'emb_product_name_ingredients_text_brands_tags__443', 'emb_product_name_ingredients_text_brands_tags__541', 'emb_product_name_ingredients_text_brands_tags__710', 'emb_product_name_ingredients_text_brands_tags__0', 'emb_product_name_ingredients_text_brands_tags__412', 'emb_product_name_ingredients_text_brands_tags__310', 'emb_product_name_ingredients_text_brands_tags__487', 'emb_product_name_ingredients_text_brands_tags__582', 'emb_product_name_ingredients_text_brands_tags__603', 'emb_product_name_ingredients_text_brands_tags__342', 'emb_product_name_ingredients_text_brands_tags__426', 'emb_product_name_ingredients_text_brands_tags__653', 'emb_product_name_ingredients_text_brands_tags__209', 'emb_product_name_ingredients_text_brands_tags__214', 'emb_product_name_ingredients_text_brands_tags__251', 'emb_product_name_ingredients_text_brands_tags__377', 'emb_product_name_ingredients_text_brands_tags__208', 'emb_product_name_ingredients_text_brands_tags__588', 'emb_product_name_ingredients_text_brands_tags__180', 'emb_product_name_ingredients_text_brands_tags__41', 'emb_product_name_ingredients_text_brands_tags__304', 'emb_product_name_ingredients_text_brands_tags__667', 'emb_product_name_ingredients_text_brands_tags__414', 'emb_product_name_ingredients_text_brands_tags__260', 'emb_product_name_ingredients_text_brands_tags__349', 'emb_product_name_ingredients_text_brands_tags__183', 'emb_product_name_ingredients_text_brands_tags__496', 'emb_product_name_ingredients_text_brands_tags__287', 'emb_product_name_ingredients_text_brands_tags__751', 'emb_product_name_ingredients_text_brands_tags__737', 'emb_product_name_ingredients_text_brands_tags__161', 'emb_product_name_ingredients_text_brands_tags__655', 'emb_product_name_ingredients_text_brands_tags__35', 'emb_product_name_ingredients_text_brands_tags__177', 'emb_product_name_ingredients_text_brands_tags__538', 'emb_product_name_ingredients_text_brands_tags__545', 'emb_product_name_ingredients_text_brands_tags__346', 'emb_product_name_ingredients_text_brands_tags__81', 'emb_product_name_ingredients_text_brands_tags__466', 'emb_product_name_ingredients_text_brands_tags__201', 'emb_product_name_ingredients_text_brands_tags__657', 'emb_product_name_ingredients_text_brands_tags__116', 'emb_product_name_ingredients_text_brands_tags__331', 'emb_product_name_ingredients_text_brands_tags__255', 'emb_product_name_ingredients_text_brands_tags__449', 'emb_product_name_ingredients_text_brands_tags__484', 'emb_product_name_ingredients_text_brands_tags__153', 'emb_product_name_ingredients_text_brands_tags__289', 'emb_product_name_ingredients_text_brands_tags__33', 'emb_product_name_ingredients_text_brands_tags__610', 'emb_product_name_ingredients_text_brands_tags__133', 'emb_product_name_ingredients_text_brands_tags__8', 'emb_product_name_ingredients_text_brands_tags__480', 'emb_product_name_ingredients_text_brands_tags__218', 'emb_product_name_ingredients_text_brands_tags__559', 'emb_product_name_ingredients_text_brands_tags__586', 'emb_product_name_ingredients_text_brands_tags__317', 'emb_product_name_ingredients_text_brands_tags__699', 'emb_product_name_ingredients_text_brands_tags__704', 'emb_product_name_ingredients_text_brands_tags__63', 'emb_product_name_ingredients_text_brands_tags__23', 'emb_product_name_ingredients_text_brands_tags__319', 'emb_product_name_ingredients_text_brands_tags__332', 'emb_product_name_ingredients_text_brands_tags__482', 'emb_product_name_ingredients_text_brands_tags__500', 'emb_product_name_ingredients_text_brands_tags__185', 'emb_product_name_ingredients_text_brands_tags__226', 'emb_product_name_ingredients_text_brands_tags__16', 'emb_product_name_ingredients_text_brands_tags__376', 'emb_product_name_ingredients_text_brands_tags__447', 'emb_product_name_ingredients_text_brands_tags__343', 'emb_product_name_ingredients_text_brands_tags__607', 'emb_product_name_ingredients_text_brands_tags__203', 'emb_product_name_ingredients_text_brands_tags__552', 'emb_product_name_ingredients_text_brands_tags__525', 'emb_product_name_ingredients_text_brands_tags__67', 'emb_product_name_ingredients_text_brands_tags__227', 'emb_product_name_ingredients_text_brands_tags__95', 'emb_product_name_ingredients_text_brands_tags__178', 'emb_product_name_ingredients_text_brands_tags__422', 'emb_product_name_ingredients_text_brands_tags__7', 'emb_product_name_ingredients_text_brands_tags__144', 'emb_product_name_ingredients_text_brands_tags__363', 'emb_product_name_ingredients_text_brands_tags__648', 'emb_product_name_ingredients_text_brands_tags__494', 'emb_product_name_ingredients_text_brands_tags__576', 'emb_product_name_ingredients_text_brands_tags__386', 'emb_product_name_ingredients_text_brands_tags__219', 'emb_product_name_ingredients_text_brands_tags__568', 'emb_product_name_ingredients_text_brands_tags__580', 'emb_product_name_ingredients_text_brands_tags__589', 'emb_product_name_ingredients_text_brands_tags__129', 'emb_product_name_ingredients_text_brands_tags__277', 'emb_product_name_ingredients_text_brands_tags__516', 'emb_product_name_ingredients_text_brands_tags__19', 'emb_product_name_ingredients_text_brands_tags__382', 'emb_product_name_ingredients_text_brands_tags__749', 'emb_product_name_ingredients_text_brands_tags__224', 'emb_product_name_ingredients_text_brands_tags__236', 'emb_product_name_ingredients_text_brands_tags__380', 'emb_product_name_ingredients_text_brands_tags__6', 'emb_product_name_ingredients_text_brands_tags__160', 'emb_product_name_ingredients_text_brands_tags__579', 'emb_product_name_ingredients_text_brands_tags__18', 'emb_product_name_ingredients_text_brands_tags__381', 'emb_product_name_ingredients_text_brands_tags__110', 'emb_product_name_ingredients_text_brands_tags__182', 'emb_product_name_ingredients_text_brands_tags__595', 'emb_product_name_ingredients_text_brands_tags__165', 'emb_product_name_ingredients_text_brands_tags__398', 'emb_product_name_ingredients_text_brands_tags__459', 'emb_product_name_ingredients_text_brands_tags__455', 'emb_product_name_ingredients_text_brands_tags__131', 'emb_product_name_ingredients_text_brands_tags__421', 'emb_product_name_ingredients_text_brands_tags__392', 'emb_product_name_ingredients_text_brands_tags__10', 'emb_product_name_ingredients_text_brands_tags__627', 'emb_product_name_ingredients_text_brands_tags__284', 'emb_product_name_ingredients_text_brands_tags__306', 'emb_product_name_ingredients_text_brands_tags__683', 'emb_product_name_ingredients_text_brands_tags__86', 'emb_product_name_ingredients_text_brands_tags__252', 'emb_product_name_ingredients_text_brands_tags__240', 'emb_product_name_ingredients_text_brands_tags__34', 'emb_product_name_ingredients_text_brands_tags__479', 'emb_product_name_ingredients_text_brands_tags__150', 'emb_product_name_ingredients_text_brands_tags__104', 'emb_product_name_ingredients_text_brands_tags__628', 'emb_product_name_ingredients_text_brands_tags__172', 'emb_product_name_ingredients_text_brands_tags__49', 'emb_product_name_ingredients_text_brands_tags__640', 'emb_product_name_ingredients_text_brands_tags__673', 'emb_product_name_ingredients_text_brands_tags__400', 'emb_product_name_ingredients_text_brands_tags__353', 'emb_product_name_ingredients_text_brands_tags__760', 'emb_product_name_ingredients_text_brands_tags__325', 'emb_product_name_ingredients_text_brands_tags__596', 'emb_product_name_ingredients_text_brands_tags__312', 'emb_product_name_ingredients_text_brands_tags__167', 'emb_product_name_ingredients_text_brands_tags__187', 'emb_product_name_ingredients_text_brands_tags__734', 'emb_product_name_ingredients_text_brands_tags__606', 'emb_product_name_ingredients_text_brands_tags__337', 'emb_product_name_ingredients_text_brands_tags__745', 'emb_product_name_ingredients_text_brands_tags__164', 'emb_product_name_ingredients_text_brands_tags__134', 'emb_product_name_ingredients_text_brands_tags__258', 'emb_product_name_ingredients_text_brands_tags__85', 'emb_product_name_ingredients_text_brands_tags__123', 'emb_product_name_ingredients_text_brands_tags__3', 'emb_product_name_ingredients_text_brands_tags__163', 'emb_product_name_ingredients_text_brands_tags__481', 'emb_product_name_ingredients_text_brands_tags__641', 'emb_product_name_ingredients_text_brands_tags__336', 'emb_product_name_ingredients_text_brands_tags__755', 'ingredients_from_palm_oil_n', 'emb_product_name_ingredients_text_brands_tags__472', 'emb_product_name_ingredients_text_brands_tags__465', 'emb_product_name_ingredients_text_brands_tags__263', 'emb_product_name_ingredients_text_brands_tags__406', 'emb_product_name_ingredients_text_brands_tags__31', 'emb_product_name_ingredients_text_brands_tags__97', 'emb_product_name_ingredients_text_brands_tags__128', 'emb_product_name_ingredients_text_brands_tags__308', 'emb_product_name_ingredients_text_brands_tags__367', 'emb_product_name_ingredients_text_brands_tags__440', 'emb_product_name_ingredients_text_brands_tags__571', 'emb_product_name_ingredients_text_brands_tags__539', 'emb_product_name_ingredients_text_brands_tags__598', 'emb_product_name_ingredients_text_brands_tags__118', 'emb_product_name_ingredients_text_brands_tags__235', 'emb_product_name_ingredients_text_brands_tags__575', 'emb_product_name_ingredients_text_brands_tags__50', 'emb_product_name_ingredients_text_brands_tags__508', 'emb_product_name_ingredients_text_brands_tags__415', 'emb_product_name_ingredients_text_brands_tags__250', 'emb_product_name_ingredients_text_brands_tags__115', 'emb_product_name_ingredients_text_brands_tags__688', 'emb_product_name_ingredients_text_brands_tags__669', 'emb_product_name_ingredients_text_brands_tags__429', 'emb_product_name_ingredients_text_brands_tags__530', 'emb_product_name_ingredients_text_brands_tags__561', 'emb_product_name_ingredients_text_brands_tags__139', 'emb_product_name_ingredients_text_brands_tags__90', 'emb_product_name_ingredients_text_brands_tags__302', 'emb_product_name_ingredients_text_brands_tags__583', 'emb_product_name_ingredients_text_brands_tags__754', 'emb_product_name_ingredients_text_brands_tags__604', 'emb_product_name_ingredients_text_brands_tags__542', 'emb_product_name_ingredients_text_brands_tags__616', 'emb_product_name_ingredients_text_brands_tags__536', 'emb_product_name_ingredients_text_brands_tags__681', 'emb_product_name_ingredients_text_brands_tags__71', 'emb_product_name_ingredients_text_brands_tags__759', 'emb_product_name_ingredients_text_brands_tags__702', 'emb_product_name_ingredients_text_brands_tags__461', 'emb_product_name_ingredients_text_brands_tags__643', 'emb_product_name_ingredients_text_brands_tags__722', 'emb_product_name_ingredients_text_brands_tags__318', 'emb_product_name_ingredients_text_brands_tags__374', 'emb_product_name_ingredients_text_brands_tags__334', 'emb_product_name_ingredients_text_brands_tags__578', 'emb_product_name_ingredients_text_brands_tags__212', 'emb_product_name_ingredients_text_brands_tags__690', 'emb_product_name_ingredients_text_brands_tags__181', 'emb_product_name_ingredients_text_brands_tags__729', 'emb_product_name_ingredients_text_brands_tags__358', 'emb_product_name_ingredients_text_brands_tags__333', 'emb_product_name_ingredients_text_brands_tags__362', 'emb_product_name_ingredients_text_brands_tags__435', 'emb_product_name_ingredients_text_brands_tags__649', 'emb_product_name_ingredients_text_brands_tags__272', 'emb_product_name_ingredients_text_brands_tags__463', 'emb_product_name_ingredients_text_brands_tags__473', 'emb_product_name_ingredients_text_brands_tags__151', 'emb_product_name_ingredients_text_brands_tags__478', 'emb_product_name_ingredients_text_brands_tags__340', 'emb_product_name_ingredients_text_brands_tags__355', 'emb_product_name_ingredients_text_brands_tags__269', 'emb_product_name_ingredients_text_brands_tags__256', 'emb_product_name_ingredients_text_brands_tags__354', 'emb_product_name_ingredients_text_brands_tags__736', 'emb_product_name_ingredients_text_brands_tags__488', 'emb_product_name_ingredients_text_brands_tags__618', 'emb_product_name_ingredients_text_brands_tags__44', 'emb_product_name_ingredients_text_brands_tags__458', 'emb_product_name_ingredients_text_brands_tags__724', 'emb_product_name_ingredients_text_brands_tags__15', 'emb_product_name_ingredients_text_brands_tags__222', 'emb_product_name_ingredients_text_brands_tags__540', 'emb_product_name_ingredients_text_brands_tags__503', 'emb_product_name_ingredients_text_brands_tags__549', 'emb_product_name_ingredients_text_brands_tags__613', 'emb_product_name_ingredients_text_brands_tags__100', 'emb_product_name_ingredients_text_brands_tags__601', 'emb_product_name_ingredients_text_brands_tags__658', 'emb_product_name_ingredients_text_brands_tags__728', 'emb_product_name_ingredients_text_brands_tags__633', 'emb_product_name_ingredients_text_brands_tags__158', 'emb_product_name_ingredients_text_brands_tags__60', 'emb_product_name_ingredients_text_brands_tags__314', 'emb_product_name_ingredients_text_brands_tags__20', 'emb_product_name_ingredients_text_brands_tags__197', 'emb_product_name_ingredients_text_brands_tags__418', 'emb_product_name_ingredients_text_brands_tags__590', 'emb_product_name_ingredients_text_brands_tags__647', 'emb_product_name_ingredients_text_brands_tags__105', 'emb_product_name_ingredients_text_brands_tags__273', 'emb_product_name_ingredients_text_brands_tags__671', 'emb_product_name_ingredients_text_brands_tags__739', 'emb_product_name_ingredients_text_brands_tags__741', 'emb_product_name_ingredients_text_brands_tags__452', 'emb_product_name_ingredients_text_brands_tags__148', 'emb_product_name_ingredients_text_brands_tags__663', 'emb_product_name_ingredients_text_brands_tags__32', 'emb_product_name_ingredients_text_brands_tags__238', 'emb_product_name_ingredients_text_brands_tags__9', 'emb_product_name_ingredients_text_brands_tags__548', 'emb_product_name_ingredients_text_brands_tags__360', 'emb_product_name_ingredients_text_brands_tags__592', 'emb_product_name_ingredients_text_brands_tags__697', 'emb_product_name_ingredients_text_brands_tags__328', 'emb_product_name_ingredients_text_brands_tags__70', 'emb_product_name_ingredients_text_brands_tags__281', 'emb_product_name_ingredients_text_brands_tags__113', 'emb_product_name_ingredients_text_brands_tags__735', 'emb_product_name_ingredients_text_brands_tags__672', 'emb_product_name_ingredients_text_brands_tags__39', 'emb_product_name_ingredients_text_brands_tags__457', 'emb_product_name_ingredients_text_brands_tags__399', 'emb_product_name_ingredients_text_brands_tags__405', 'emb_product_name_ingredients_text_brands_tags__705', 'emb_product_name_ingredients_text_brands_tags__744', 'emb_product_name_ingredients_text_brands_tags__341', 'emb_product_name_ingredients_text_brands_tags__234', 'emb_product_name_ingredients_text_brands_tags__93', 'emb_product_name_ingredients_text_brands_tags__564', 'emb_product_name_ingredients_text_brands_tags__680', 'emb_product_name_ingredients_text_brands_tags__365', 'emb_product_name_ingredients_text_brands_tags__732', 'emb_product_name_ingredients_text_brands_tags__442', 'emb_product_name_ingredients_text_brands_tags__693', 'emb_product_name_ingredients_text_brands_tags__553', 'emb_product_name_ingredients_text_brands_tags__560', 'emb_product_name_ingredients_text_brands_tags__551', 'emb_product_name_ingredients_text_brands_tags__106', 'emb_product_name_ingredients_text_brands_tags__706', 'emb_product_name_ingredients_text_brands_tags__121', 'emb_product_name_ingredients_text_brands_tags__602', 'emb_product_name_ingredients_text_brands_tags__714', 'emb_product_name_ingredients_text_brands_tags__431', 'emb_product_name_ingredients_text_brands_tags__534', 'emb_product_name_ingredients_text_brands_tags__371', 'emb_product_name_ingredients_text_brands_tags__283', 'emb_product_name_ingredients_text_brands_tags__515', 'emb_product_name_ingredients_text_brands_tags__179', 'emb_product_name_ingredients_text_brands_tags__369', 'emb_product_name_ingredients_text_brands_tags__664', 'emb_product_name_ingredients_text_brands_tags__25', 'emb_product_name_ingredients_text_brands_tags__114', 'emb_product_name_ingredients_text_brands_tags__176', 'emb_product_name_ingredients_text_brands_tags__52', 'emb_product_name_ingredients_text_brands_tags__611', 'emb_product_name_ingredients_text_brands_tags__453', 'emb_product_name_ingredients_text_brands_tags__454', 'emb_product_name_ingredients_text_brands_tags__694', 'emb_product_name_ingredients_text_brands_tags__259', 'emb_product_name_ingredients_text_brands_tags__599', 'emb_product_name_ingredients_text_brands_tags__517', 'emb_product_name_ingredients_text_brands_tags__213', 'emb_product_name_ingredients_text_brands_tags__279', 'emb_product_name_ingredients_text_brands_tags__432', 'emb_product_name_ingredients_text_brands_tags__199', 'emb_product_name_ingredients_text_brands_tags__309', 'emb_product_name_ingredients_text_brands_tags__634', 'emb_product_name_ingredients_text_brands_tags__196', 'emb_product_name_ingredients_text_brands_tags__204', 'emb_product_name_ingredients_text_brands_tags__280', 'emb_product_name_ingredients_text_brands_tags__403', 'emb_product_name_ingredients_text_brands_tags__502', 'emb_product_name_ingredients_text_brands_tags__387', 'emb_product_name_ingredients_text_brands_tags__335', 'emb_product_name_ingredients_text_brands_tags__146', 'emb_product_name_ingredients_text_brands_tags__82', 'emb_product_name_ingredients_text_brands_tags__77', 'emb_product_name_ingredients_text_brands_tags__338', 'emb_product_name_ingredients_text_brands_tags__320', 'emb_product_name_ingredients_text_brands_tags__345', 'emb_product_name_ingredients_text_brands_tags__26', 'emb_product_name_ingredients_text_brands_tags__692', 'emb_product_name_ingredients_text_brands_tags__614', 'emb_product_name_ingredients_text_brands_tags__89', 'emb_product_name_ingredients_text_brands_tags__689', 'emb_product_name_ingredients_text_brands_tags__246', 'emb_product_name_ingredients_text_brands_tags__127', 'emb_product_name_ingredients_text_brands_tags__357', 'emb_product_name_ingredients_text_brands_tags__200', 'emb_product_name_ingredients_text_brands_tags__92', 'emb_product_name_ingredients_text_brands_tags__159', 'emb_product_name_ingredients_text_brands_tags__651', 'emb_product_name_ingredients_text_brands_tags__327', 'emb_product_name_ingredients_text_brands_tags__495', 'emb_product_name_ingredients_text_brands_tags__359', 'emb_product_name_ingredients_text_brands_tags__137', 'emb_product_name_ingredients_text_brands_tags__625', 'emb_product_name_ingredients_text_brands_tags__670', 'emb_product_name_ingredients_text_brands_tags__84', 'emb_product_name_ingredients_text_brands_tags__266', 'emb_product_name_ingredients_text_brands_tags__347', 'emb_product_name_ingredients_text_brands_tags__220', 'emb_product_name_ingredients_text_brands_tags__556', 'emb_product_name_ingredients_text_brands_tags__191', 'emb_product_name_ingredients_text_brands_tags__385', 'emb_product_name_ingredients_text_brands_tags__68', 'emb_product_name_ingredients_text_brands_tags__528', 'emb_product_name_ingredients_text_brands_tags__646', 'emb_product_name_ingredients_text_brands_tags__682', 'emb_product_name_ingredients_text_brands_tags__748', 'emb_product_name_ingredients_text_brands_tags__261', 'emb_product_name_ingredients_text_brands_tags__644', 'emb_product_name_ingredients_text_brands_tags__567', 'emb_product_name_ingredients_text_brands_tags__294', 'emb_product_name_ingredients_text_brands_tags__708', 'emb_product_name_ingredients_text_brands_tags__348', 'emb_product_name_ingredients_text_brands_tags__574', 'emb_product_name_ingredients_text_brands_tags__47', 'emb_product_name_ingredients_text_brands_tags__198', 'emb_product_name_ingredients_text_brands_tags__79', 'emb_product_name_ingredients_text_brands_tags__558', 'emb_product_name_ingredients_text_brands_tags__441', 'emb_product_name_ingredients_text_brands_tags__109', 'emb_product_name_ingredients_text_brands_tags__687', 'emb_product_name_ingredients_text_brands_tags__707', 'additives_n', 'emb_product_name_ingredients_text_brands_tags__577', 'emb_product_name_ingredients_text_brands_tags__758', 'emb_product_name_ingredients_text_brands_tags__91', 'emb_product_name_ingredients_text_brands_tags__460', 'emb_product_name_ingredients_text_brands_tags__471', 'emb_product_name_ingredients_text_brands_tags__171', 'emb_product_name_ingredients_text_brands_tags__533', 'emb_product_name_ingredients_text_brands_tags__446', 'emb_product_name_ingredients_text_brands_tags__451', 'emb_product_name_ingredients_text_brands_tags__248', 'emb_product_name_ingredients_text_brands_tags__444', 'emb_product_name_ingredients_text_brands_tags__445', 'emb_product_name_ingredients_text_brands_tags__229', 'emb_product_name_ingredients_text_brands_tags__747', 'emb_product_name_ingredients_text_brands_tags__506', 'emb_product_name_ingredients_text_brands_tags__301', 'emb_product_name_ingredients_text_brands_tags__719', 'emb_product_name_ingredients_text_brands_tags__652', 'emb_product_name_ingredients_text_brands_tags__464', 'emb_product_name_ingredients_text_brands_tags__547', 'emb_product_name_ingredients_text_brands_tags__66', 'emb_product_name_ingredients_text_brands_tags__370', 'emb_product_name_ingredients_text_brands_tags__691', 'emb_product_name_ingredients_text_brands_tags__467', 'emb_product_name_ingredients_text_brands_tags__267', 'emb_product_name_ingredients_text_brands_tags__507', 'emb_product_name_ingredients_text_brands_tags__526', 'emb_product_name_ingredients_text_brands_tags__752', 'emb_product_name_ingredients_text_brands_tags__215', 'emb_product_name_ingredients_text_brands_tags__326', 'emb_product_name_ingredients_text_brands_tags__727', 'emb_product_name_ingredients_text_brands_tags__404', 'emb_product_name_ingredients_text_brands_tags__98', 'ingredients_that_may_be_from_palm_oil_n', 'emb_product_name_ingredients_text_brands_tags__155', 'emb_product_name_ingredients_text_brands_tags__288', 'emb_product_name_ingredients_text_brands_tags__278', 'emb_product_name_ingredients_text_brands_tags__703', 'emb_product_name_ingredients_text_brands_tags__635', 'emb_product_name_ingredients_text_brands_tags__766', 'emb_product_name_ingredients_text_brands_tags__323', 'emb_product_name_ingredients_text_brands_tags__514', 'emb_product_name_ingredients_text_brands_tags__299', 'emb_product_name_ingredients_text_brands_tags__761', 'emb_product_name_ingredients_text_brands_tags__629', 'emb_product_name_ingredients_text_brands_tags__698', 'emb_product_name_ingredients_text_brands_tags__125', 'emb_product_name_ingredients_text_brands_tags__202', 'emb_product_name_ingredients_text_brands_tags__511', 'emb_product_name_ingredients_text_brands_tags__74', 'emb_product_name_ingredients_text_brands_tags__62', 'emb_product_name_ingredients_text_brands_tags__419', 'emb_product_name_ingredients_text_brands_tags__88', 'emb_product_name_ingredients_text_brands_tags__352', 'emb_product_name_ingredients_text_brands_tags__621', 'emb_product_name_ingredients_text_brands_tags__22', 'emb_product_name_ingredients_text_brands_tags__650', 'emb_product_name_ingredients_text_brands_tags__764', 'emb_product_name_ingredients_text_brands_tags__642', 'emb_product_name_ingredients_text_brands_tags__286', 'emb_product_name_ingredients_text_brands_tags__111', 'emb_product_name_ingredients_text_brands_tags__368', 'emb_product_name_ingredients_text_brands_tags__731', 'emb_product_name_ingredients_text_brands_tags__316', 'emb_product_name_ingredients_text_brands_tags__723', 'emb_product_name_ingredients_text_brands_tags__439', 'emb_product_name_ingredients_text_brands_tags__51', 'emb_product_name_ingredients_text_brands_tags__456', 'emb_product_name_ingredients_text_brands_tags__168', 'emb_product_name_ingredients_text_brands_tags__767', 'emb_product_name_ingredients_text_brands_tags__174', 'emb_product_name_ingredients_text_brands_tags__709', 'emb_product_name_ingredients_text_brands_tags__537', 'emb_product_name_ingredients_text_brands_tags__510', 'emb_product_name_ingredients_text_brands_tags__233', 'emb_product_name_ingredients_text_brands_tags__637', 'emb_product_name_ingredients_text_brands_tags__142', 'emb_product_name_ingredients_text_brands_tags__53', 'emb_product_name_ingredients_text_brands_tags__397', 'emb_product_name_ingredients_text_brands_tags__600', 'emb_product_name_ingredients_text_brands_tags__569', 'emb_product_name_ingredients_text_brands_tags__605', 'emb_product_name_ingredients_text_brands_tags__428', 'emb_product_name_ingredients_text_brands_tags__170', 'emb_product_name_ingredients_text_brands_tags__468', 'emb_product_name_ingredients_text_brands_tags__512', 'emb_product_name_ingredients_text_brands_tags__668', 'emb_product_name_ingredients_text_brands_tags__725', 'emb_product_name_ingredients_text_brands_tags__720', 'emb_product_name_ingredients_text_brands_tags__54', 'emb_product_name_ingredients_text_brands_tags__46', 'emb_product_name_ingredients_text_brands_tags__626', 'emb_product_name_ingredients_text_brands_tags__275', 'emb_product_name_ingredients_text_brands_tags__417', 'emb_product_name_ingredients_text_brands_tags__544', 'emb_product_name_ingredients_text_brands_tags__249', 'emb_product_name_ingredients_text_brands_tags__190', 'emb_product_name_ingredients_text_brands_tags__718', 'emb_product_name_ingredients_text_brands_tags__639', 'emb_product_name_ingredients_text_brands_tags__388', 'emb_product_name_ingredients_text_brands_tags__292', 'emb_product_name_ingredients_text_brands_tags__186', 'emb_product_name_ingredients_text_brands_tags__622', 'emb_product_name_ingredients_text_brands_tags__152', 'emb_product_name_ingredients_text_brands_tags__244', 'emb_product_name_ingredients_text_brands_tags__242', 'emb_product_name_ingredients_text_brands_tags__566', 'emb_product_name_ingredients_text_brands_tags__523', 'emb_product_name_ingredients_text_brands_tags__522', 'emb_product_name_ingredients_text_brands_tags__5', 'emb_product_name_ingredients_text_brands_tags__753', 'emb_product_name_ingredients_text_brands_tags__679', 'emb_product_name_ingredients_text_brands_tags__43', 'emb_product_name_ingredients_text_brands_tags__189', 'emb_product_name_ingredients_text_brands_tags__59', 'emb_product_name_ingredients_text_brands_tags__296', 'emb_product_name_ingredients_text_brands_tags__270', 'emb_product_name_ingredients_text_brands_tags__383', 'emb_product_name_ingredients_text_brands_tags__141', 'emb_product_name_ingredients_text_brands_tags__231', 'emb_product_name_ingredients_text_brands_tags__476', 'emb_product_name_ingredients_text_brands_tags__565', 'emb_product_name_ingredients_text_brands_tags__684', 'emb_product_name_ingredients_text_brands_tags__24', 'emb_product_name_ingredients_text_brands_tags__501', 'emb_product_name_ingredients_text_brands_tags__711', 'emb_product_name_ingredients_text_brands_tags__678', 'emb_product_name_ingredients_text_brands_tags__130', 'emb_product_name_ingredients_text_brands_tags__221', 'emb_product_name_ingredients_text_brands_tags__572', 'emb_product_name_ingredients_text_brands_tags__192', 'emb_product_name_ingredients_text_brands_tags__721', 'emb_product_name_ingredients_text_brands_tags__384', 'emb_product_name_ingredients_text_brands_tags__543', 'emb_product_name_ingredients_text_brands_tags__743', 'emb_product_name_ingredients_text_brands_tags__140', 'emb_product_name_ingredients_text_brands_tags__27', 'emb_product_name_ingredients_text_brands_tags__243', 'emb_product_name_ingredients_text_brands_tags__584', 'emb_product_name_ingredients_text_brands_tags__425', 'emb_product_name_ingredients_text_brands_tags__264', 'emb_product_name_ingredients_text_brands_tags__247', 'emb_product_name_ingredients_text_brands_tags__108', 'emb_product_name_ingredients_text_brands_tags__434', 'emb_product_name_ingredients_text_brands_tags__329', 'emb_product_name_ingredients_text_brands_tags__402', 'emb_product_name_ingredients_text_brands_tags__497', 'emb_product_name_ingredients_text_brands_tags__666', 'emb_product_name_ingredients_text_brands_tags__1', 'emb_product_name_ingredients_text_brands_tags__391', 'emb_product_name_ingredients_text_brands_tags__409', 'emb_product_name_ingredients_text_brands_tags__573', 'emb_product_name_ingredients_text_brands_tags__56', 'emb_product_name_ingredients_text_brands_tags__42', 'emb_product_name_ingredients_text_brands_tags__594', 'emb_product_name_ingredients_text_brands_tags__101', 'emb_product_name_ingredients_text_brands_tags__489', 'emb_product_name_ingredients_text_brands_tags__136', 'emb_product_name_ingredients_text_brands_tags__532', 'emb_product_name_ingredients_text_brands_tags__493', 'emb_product_name_ingredients_text_brands_tags__132', 'emb_product_name_ingredients_text_brands_tags__184', 'emb_product_name_ingredients_text_brands_tags__492', 'emb_product_name_ingredients_text_brands_tags__293', 'emb_product_name_ingredients_text_brands_tags__617', 'emb_product_name_ingredients_text_brands_tags__686', 'emb_product_name_ingredients_text_brands_tags__117', 'emb_product_name_ingredients_text_brands_tags__450', 'emb_product_name_ingredients_text_brands_tags__563', 'emb_product_name_ingredients_text_brands_tags__307', 'emb_product_name_ingredients_text_brands_tags__475', 'emb_product_name_ingredients_text_brands_tags__135', 'emb_product_name_ingredients_text_brands_tags__436', 'emb_product_name_ingredients_text_brands_tags__407', 'emb_product_name_ingredients_text_brands_tags__394', 'emb_product_name_ingredients_text_brands_tags__527', 'emb_product_name_ingredients_text_brands_tags__72', 'emb_product_name_ingredients_text_brands_tags__138', 'emb_product_name_ingredients_text_brands_tags__762', 'emb_product_name_ingredients_text_brands_tags__149', 'emb_product_name_ingredients_text_brands_tags__763', 'emb_product_name_ingredients_text_brands_tags__356', 'emb_product_name_ingredients_text_brands_tags__61', 'emb_product_name_ingredients_text_brands_tags__742', 'emb_product_name_ingredients_text_brands_tags__677', 'emb_product_name_ingredients_text_brands_tags__750', 'emb_product_name_ingredients_text_brands_tags__298', 'emb_product_name_ingredients_text_brands_tags__147', 'emb_product_name_ingredients_text_brands_tags__716', 'emb_product_name_ingredients_text_brands_tags__738', 'emb_product_name_ingredients_text_brands_tags__11', 'emb_product_name_ingredients_text_brands_tags__245', 'emb_product_name_ingredients_text_brands_tags__546', 'emb_product_name_ingredients_text_brands_tags__268', 'emb_product_name_ingredients_text_brands_tags__311', 'emb_product_name_ingredients_text_brands_tags__154', 'emb_product_name_ingredients_text_brands_tags__581', 'label_states_en_brands', 'label_states_en_categories', 'label_states_en_characteristics', 'label_states_en_expiration date', 'label_states_en_general_complete', 'label_states_en_ingredients', 'label_pnns_groups_1', 'label_pnns_groups_2', 'label_states_en_packaging', 'label_states_en_packaging-code-', 'label_states_en_photo_upload', 'label_states_en_photo_validate', 'label_states_en_product name', 'label_states_en_quantity']\n",
      "Cat index: [772, 773, 774, 775, 776, 777, 778, 779, 780, 781, 782, 783, 784, 785]\n",
      "---------- Training fold Nº 2 ----------\n"
     ]
    },
    {
     "name": "stdout",
     "output_type": "stream",
     "text": [
      "[LightGBM] [Warning] Find whitespaces in feature_names, replace with underlines\n",
      "[LightGBM] [Info] Total Bins 196221\n",
      "[LightGBM] [Info] Number of data points in the train set: 81622, number of used features: 786\n"
     ]
    },
    {
     "name": "stderr",
     "output_type": "stream",
     "text": [
      "/usr/local/lib/python3.6/dist-packages/lightgbm/basic.py:1433: UserWarning: Overriding the parameters from Reference Dataset.\n",
      "  _log_warning('Overriding the parameters from Reference Dataset.')\n",
      "/usr/local/lib/python3.6/dist-packages/lightgbm/basic.py:1245: UserWarning: categorical_column in param dict is overridden.\n",
      "  _log_warning('{} in param dict is overridden.'.format(cat_alias))\n"
     ]
    },
    {
     "name": "stdout",
     "output_type": "stream",
     "text": [
      "[LightGBM] [Warning] Find whitespaces in feature_names, replace with underlines\n",
      "[LightGBM] [Info] Start training from score 9.169930\n",
      "Training until validation scores don't improve for 200 rounds\n",
      "[50]\ttraining's rmse: 8.66061\tvalid_1's rmse: 8.66939\n",
      "[100]\ttraining's rmse: 8.32525\tvalid_1's rmse: 8.33301\n",
      "[150]\ttraining's rmse: 8.00917\tvalid_1's rmse: 8.01585\n",
      "[200]\ttraining's rmse: 7.71063\tvalid_1's rmse: 7.71689\n",
      "[250]\ttraining's rmse: 7.42911\tvalid_1's rmse: 7.43512\n",
      "[300]\ttraining's rmse: 7.16412\tvalid_1's rmse: 7.16992\n",
      "[350]\ttraining's rmse: 6.91461\tvalid_1's rmse: 6.92008\n",
      "[400]\ttraining's rmse: 6.67988\tvalid_1's rmse: 6.68534\n",
      "[450]\ttraining's rmse: 6.45957\tvalid_1's rmse: 6.46514\n",
      "[500]\ttraining's rmse: 6.25247\tvalid_1's rmse: 6.25807\n",
      "[550]\ttraining's rmse: 6.05847\tvalid_1's rmse: 6.06436\n",
      "[600]\ttraining's rmse: 5.8764\tvalid_1's rmse: 5.8827\n",
      "[650]\ttraining's rmse: 5.70588\tvalid_1's rmse: 5.71283\n",
      "[700]\ttraining's rmse: 5.54653\tvalid_1's rmse: 5.55423\n",
      "[750]\ttraining's rmse: 5.39768\tvalid_1's rmse: 5.40624\n",
      "[800]\ttraining's rmse: 5.25844\tvalid_1's rmse: 5.26801\n",
      "[850]\ttraining's rmse: 5.12869\tvalid_1's rmse: 5.13948\n",
      "[900]\ttraining's rmse: 5.00771\tvalid_1's rmse: 5.01956\n",
      "[950]\ttraining's rmse: 4.89504\tvalid_1's rmse: 4.9079\n",
      "[1000]\ttraining's rmse: 4.79014\tvalid_1's rmse: 4.80418\n",
      "[1050]\ttraining's rmse: 4.69284\tvalid_1's rmse: 4.70803\n",
      "[1100]\ttraining's rmse: 4.60259\tvalid_1's rmse: 4.61906\n",
      "[1150]\ttraining's rmse: 4.51872\tvalid_1's rmse: 4.53662\n",
      "[1200]\ttraining's rmse: 4.441\tvalid_1's rmse: 4.46029\n",
      "[1250]\ttraining's rmse: 4.36903\tvalid_1's rmse: 4.38984\n",
      "[1300]\ttraining's rmse: 4.30247\tvalid_1's rmse: 4.3247\n",
      "[1350]\ttraining's rmse: 4.24096\tvalid_1's rmse: 4.26451\n",
      "[1400]\ttraining's rmse: 4.18414\tvalid_1's rmse: 4.20921\n",
      "[1450]\ttraining's rmse: 4.1316\tvalid_1's rmse: 4.15824\n",
      "[1500]\ttraining's rmse: 4.08306\tvalid_1's rmse: 4.1111\n",
      "[1550]\ttraining's rmse: 4.03847\tvalid_1's rmse: 4.06792\n",
      "[1600]\ttraining's rmse: 3.99728\tvalid_1's rmse: 4.02813\n",
      "[1650]\ttraining's rmse: 3.95932\tvalid_1's rmse: 3.99163\n",
      "[1700]\ttraining's rmse: 3.92431\tvalid_1's rmse: 3.95807\n",
      "[1750]\ttraining's rmse: 3.89199\tvalid_1's rmse: 3.92718\n",
      "[1800]\ttraining's rmse: 3.86232\tvalid_1's rmse: 3.89894\n",
      "[1850]\ttraining's rmse: 3.83502\tvalid_1's rmse: 3.87313\n",
      "[1900]\ttraining's rmse: 3.80992\tvalid_1's rmse: 3.84939\n",
      "[1950]\ttraining's rmse: 3.78684\tvalid_1's rmse: 3.82778\n",
      "[2000]\ttraining's rmse: 3.76564\tvalid_1's rmse: 3.80791\n",
      "[2050]\ttraining's rmse: 3.74612\tvalid_1's rmse: 3.78957\n",
      "[2100]\ttraining's rmse: 3.72811\tvalid_1's rmse: 3.7728\n",
      "[2150]\ttraining's rmse: 3.71166\tvalid_1's rmse: 3.75753\n",
      "[2200]\ttraining's rmse: 3.69634\tvalid_1's rmse: 3.74351\n",
      "[2250]\ttraining's rmse: 3.68229\tvalid_1's rmse: 3.73061\n",
      "[2300]\ttraining's rmse: 3.66935\tvalid_1's rmse: 3.71876\n",
      "[2350]\ttraining's rmse: 3.65747\tvalid_1's rmse: 3.70797\n",
      "[2400]\ttraining's rmse: 3.64647\tvalid_1's rmse: 3.69805\n",
      "[2450]\ttraining's rmse: 3.63631\tvalid_1's rmse: 3.68886\n",
      "[2500]\ttraining's rmse: 3.62697\tvalid_1's rmse: 3.68056\n",
      "[2550]\ttraining's rmse: 3.61837\tvalid_1's rmse: 3.67299\n",
      "[2600]\ttraining's rmse: 3.61035\tvalid_1's rmse: 3.66596\n",
      "[2650]\ttraining's rmse: 3.60293\tvalid_1's rmse: 3.65949\n",
      "[2700]\ttraining's rmse: 3.59609\tvalid_1's rmse: 3.65361\n",
      "[2750]\ttraining's rmse: 3.58983\tvalid_1's rmse: 3.64828\n",
      "[2800]\ttraining's rmse: 3.58408\tvalid_1's rmse: 3.64345\n",
      "[2850]\ttraining's rmse: 3.57864\tvalid_1's rmse: 3.63898\n",
      "[2900]\ttraining's rmse: 3.57356\tvalid_1's rmse: 3.63475\n",
      "[2950]\ttraining's rmse: 3.56886\tvalid_1's rmse: 3.63094\n",
      "[3000]\ttraining's rmse: 3.56445\tvalid_1's rmse: 3.62737\n",
      "[3050]\ttraining's rmse: 3.56029\tvalid_1's rmse: 3.62407\n",
      "[3100]\ttraining's rmse: 3.55644\tvalid_1's rmse: 3.62101\n",
      "[3150]\ttraining's rmse: 3.55284\tvalid_1's rmse: 3.61821\n",
      "[3200]\ttraining's rmse: 3.54947\tvalid_1's rmse: 3.61564\n",
      "[3250]\ttraining's rmse: 3.54632\tvalid_1's rmse: 3.61328\n",
      "[3300]\ttraining's rmse: 3.54339\tvalid_1's rmse: 3.61108\n",
      "[3350]\ttraining's rmse: 3.54069\tvalid_1's rmse: 3.60911\n",
      "[3400]\ttraining's rmse: 3.53802\tvalid_1's rmse: 3.60725\n",
      "[3450]\ttraining's rmse: 3.53559\tvalid_1's rmse: 3.6055\n",
      "[3500]\ttraining's rmse: 3.53329\tvalid_1's rmse: 3.60397\n",
      "[3550]\ttraining's rmse: 3.53106\tvalid_1's rmse: 3.60244\n",
      "[3600]\ttraining's rmse: 3.52898\tvalid_1's rmse: 3.60109\n",
      "[3650]\ttraining's rmse: 3.52702\tvalid_1's rmse: 3.59989\n",
      "[3700]\ttraining's rmse: 3.52521\tvalid_1's rmse: 3.59884\n",
      "[3750]\ttraining's rmse: 3.52343\tvalid_1's rmse: 3.59778\n",
      "[3800]\ttraining's rmse: 3.52171\tvalid_1's rmse: 3.59676\n",
      "[3850]\ttraining's rmse: 3.52016\tvalid_1's rmse: 3.59593\n",
      "[3900]\ttraining's rmse: 3.51861\tvalid_1's rmse: 3.59506\n",
      "[3950]\ttraining's rmse: 3.51713\tvalid_1's rmse: 3.5943\n",
      "[4000]\ttraining's rmse: 3.51573\tvalid_1's rmse: 3.59359\n",
      "[4050]\ttraining's rmse: 3.5144\tvalid_1's rmse: 3.593\n",
      "[4100]\ttraining's rmse: 3.5131\tvalid_1's rmse: 3.59237\n",
      "[4150]\ttraining's rmse: 3.51188\tvalid_1's rmse: 3.59186\n",
      "[4200]\ttraining's rmse: 3.51068\tvalid_1's rmse: 3.59131\n",
      "[4250]\ttraining's rmse: 3.50954\tvalid_1's rmse: 3.59084\n",
      "[4300]\ttraining's rmse: 3.50845\tvalid_1's rmse: 3.59041\n",
      "[4350]\ttraining's rmse: 3.50739\tvalid_1's rmse: 3.59007\n",
      "[4400]\ttraining's rmse: 3.50635\tvalid_1's rmse: 3.58969\n",
      "[4450]\ttraining's rmse: 3.50536\tvalid_1's rmse: 3.58938\n",
      "[4500]\ttraining's rmse: 3.50437\tvalid_1's rmse: 3.58906\n",
      "[4550]\ttraining's rmse: 3.50339\tvalid_1's rmse: 3.58875\n",
      "[4600]\ttraining's rmse: 3.5025\tvalid_1's rmse: 3.58851\n",
      "[4650]\ttraining's rmse: 3.50169\tvalid_1's rmse: 3.58843\n",
      "[4700]\ttraining's rmse: 3.5009\tvalid_1's rmse: 3.58827\n",
      "[4750]\ttraining's rmse: 3.50013\tvalid_1's rmse: 3.58817\n",
      "[4800]\ttraining's rmse: 3.49934\tvalid_1's rmse: 3.58803\n",
      "[4850]\ttraining's rmse: 3.49859\tvalid_1's rmse: 3.58793\n",
      "[4900]\ttraining's rmse: 3.49782\tvalid_1's rmse: 3.58781\n",
      "[4950]\ttraining's rmse: 3.4971\tvalid_1's rmse: 3.58778\n",
      "[5000]\ttraining's rmse: 3.49639\tvalid_1's rmse: 3.58776\n",
      "[5050]\ttraining's rmse: 3.49565\tvalid_1's rmse: 3.5877\n",
      "[5100]\ttraining's rmse: 3.49498\tvalid_1's rmse: 3.58769\n",
      "[5150]\ttraining's rmse: 3.49431\tvalid_1's rmse: 3.58772\n",
      "[5200]\ttraining's rmse: 3.49367\tvalid_1's rmse: 3.58771\n",
      "[5250]\ttraining's rmse: 3.49301\tvalid_1's rmse: 3.58771\n",
      "Early stopping, best iteration is:\n",
      "[5078]\ttraining's rmse: 3.49526\tvalid_1's rmse: 3.58767\n",
      "Train RMSE: 3.4952638929707107        Valida RMSE: 3.587667730382993\n",
      "Columns: ['emb_product_name_ingredients_text_brands_tags__557', 'emb_product_name_ingredients_text_brands_tags__730', 'emb_product_name_ingredients_text_brands_tags__746', 'emb_product_name_ingredients_text_brands_tags__2', 'emb_product_name_ingredients_text_brands_tags__638', 'emb_product_name_ingredients_text_brands_tags__393', 'emb_product_name_ingredients_text_brands_tags__315', 'emb_product_name_ingredients_text_brands_tags__550', 'emb_product_name_ingredients_text_brands_tags__717', 'emb_product_name_ingredients_text_brands_tags__757', 'emb_product_name_ingredients_text_brands_tags__324', 'emb_product_name_ingredients_text_brands_tags__64', 'emb_product_name_ingredients_text_brands_tags__45', 'emb_product_name_ingredients_text_brands_tags__274', 'emb_product_name_ingredients_text_brands_tags__498', 'emb_product_name_ingredients_text_brands_tags__173', 'emb_product_name_ingredients_text_brands_tags__715', 'emb_product_name_ingredients_text_brands_tags__210', 'emb_product_name_ingredients_text_brands_tags__364', 'emb_product_name_ingredients_text_brands_tags__169', 'emb_product_name_ingredients_text_brands_tags__300', 'emb_product_name_ingredients_text_brands_tags__29', 'emb_product_name_ingredients_text_brands_tags__94', 'emb_product_name_ingredients_text_brands_tags__225', 'emb_product_name_ingredients_text_brands_tags__531', 'emb_product_name_ingredients_text_brands_tags__665', 'emb_product_name_ingredients_text_brands_tags__30', 'emb_product_name_ingredients_text_brands_tags__483', 'emb_product_name_ingredients_text_brands_tags__321', 'emb_product_name_ingredients_text_brands_tags__408', 'emb_product_name_ingredients_text_brands_tags__485', 'emb_product_name_ingredients_text_brands_tags__660', 'emb_product_name_ingredients_text_brands_tags__73', 'emb_product_name_ingredients_text_brands_tags__662', 'emb_product_name_ingredients_text_brands_tags__713', 'emb_product_name_ingredients_text_brands_tags__756', 'emb_product_name_ingredients_text_brands_tags__295', 'emb_product_name_ingredients_text_brands_tags__491', 'emb_product_name_ingredients_text_brands_tags__76', 'emb_product_name_ingredients_text_brands_tags__499', 'emb_product_name_ingredients_text_brands_tags__695', 'emb_product_name_ingredients_text_brands_tags__654', 'emb_product_name_ingredients_text_brands_tags__156', 'emb_product_name_ingredients_text_brands_tags__366', 'emb_product_name_ingredients_text_brands_tags__423', 'emb_product_name_ingredients_text_brands_tags__700', 'emb_product_name_ingredients_text_brands_tags__239', 'emb_product_name_ingredients_text_brands_tags__490', 'emb_product_name_ingredients_text_brands_tags__562', 'emb_product_name_ingredients_text_brands_tags__58', 'emb_product_name_ingredients_text_brands_tags__122', 'emb_product_name_ingredients_text_brands_tags__237', 'emb_product_name_ingredients_text_brands_tags__305', 'emb_product_name_ingredients_text_brands_tags__124', 'emb_product_name_ingredients_text_brands_tags__241', 'emb_product_name_ingredients_text_brands_tags__437', 'emb_product_name_ingredients_text_brands_tags__619', 'emb_product_name_ingredients_text_brands_tags__518', 'emb_product_name_ingredients_text_brands_tags__175', 'emb_product_name_ingredients_text_brands_tags__410', 'emb_product_name_ingredients_text_brands_tags__322', 'emb_product_name_ingredients_text_brands_tags__555', 'emb_product_name_ingredients_text_brands_tags__36', 'emb_product_name_ingredients_text_brands_tags__143', 'emb_product_name_ingredients_text_brands_tags__438', 'emb_product_name_ingredients_text_brands_tags__166', 'emb_product_name_ingredients_text_brands_tags__37', 'emb_product_name_ingredients_text_brands_tags__107', 'emb_product_name_ingredients_text_brands_tags__390', 'emb_product_name_ingredients_text_brands_tags__378', 'emb_product_name_ingredients_text_brands_tags__591', 'emb_product_name_ingredients_text_brands_tags__420', 'emb_product_name_ingredients_text_brands_tags__195', 'emb_product_name_ingredients_text_brands_tags__389', 'emb_product_name_ingredients_text_brands_tags__645', 'emb_product_name_ingredients_text_brands_tags__486', 'emb_product_name_ingredients_text_brands_tags__395', 'emb_product_name_ingredients_text_brands_tags__733', 'diff_t', 'emb_product_name_ingredients_text_brands_tags__145', 'emb_product_name_ingredients_text_brands_tags__282', 'emb_product_name_ingredients_text_brands_tags__505', 'emb_product_name_ingredients_text_brands_tags__297', 'emb_product_name_ingredients_text_brands_tags__14', 'emb_product_name_ingredients_text_brands_tags__593', 'emb_product_name_ingredients_text_brands_tags__350', 'emb_product_name_ingredients_text_brands_tags__524', 'emb_product_name_ingredients_text_brands_tags__535', 'emb_product_name_ingredients_text_brands_tags__48', 'emb_product_name_ingredients_text_brands_tags__620', 'emb_product_name_ingredients_text_brands_tags__509', 'emb_product_name_ingredients_text_brands_tags__223', 'emb_product_name_ingredients_text_brands_tags__257', 'emb_product_name_ingredients_text_brands_tags__96', 'emb_product_name_ingredients_text_brands_tags__205', 'emb_product_name_ingredients_text_brands_tags__193', 'emb_product_name_ingredients_text_brands_tags__656', 'emb_product_name_ingredients_text_brands_tags__57', 'emb_product_name_ingredients_text_brands_tags__612', 'emb_product_name_ingredients_text_brands_tags__230', 'emb_product_name_ingredients_text_brands_tags__675', 'emb_product_name_ingredients_text_brands_tags__474', 'emb_product_name_ingredients_text_brands_tags__285', 'emb_product_name_ingredients_text_brands_tags__265', 'emb_product_name_ingredients_text_brands_tags__262', 'emb_product_name_ingredients_text_brands_tags__69', 'emb_product_name_ingredients_text_brands_tags__344', 'emb_product_name_ingredients_text_brands_tags__379', 'emb_product_name_ingredients_text_brands_tags__529', 'emb_product_name_ingredients_text_brands_tags__636', 'emb_product_name_ingredients_text_brands_tags__126', 'emb_product_name_ingredients_text_brands_tags__330', 'emb_product_name_ingredients_text_brands_tags__276', 'emb_product_name_ingredients_text_brands_tags__271', 'emb_product_name_ingredients_text_brands_tags__75', 'emb_product_name_ingredients_text_brands_tags__430', 'emb_product_name_ingredients_text_brands_tags__13', 'emb_product_name_ingredients_text_brands_tags__659', 'emb_product_name_ingredients_text_brands_tags__570', 'emb_product_name_ingredients_text_brands_tags__676', 'emb_product_name_ingredients_text_brands_tags__513', 'emb_product_name_ingredients_text_brands_tags__17', 'emb_product_name_ingredients_text_brands_tags__685', 'emb_product_name_ingredients_text_brands_tags__291', 'emb_product_name_ingredients_text_brands_tags__4', 'emb_product_name_ingredients_text_brands_tags__554', 'emb_product_name_ingredients_text_brands_tags__12', 'emb_product_name_ingredients_text_brands_tags__254', 'emb_product_name_ingredients_text_brands_tags__469', 'emb_product_name_ingredients_text_brands_tags__21', 'emb_product_name_ingredients_text_brands_tags__80', 'emb_product_name_ingredients_text_brands_tags__608', 'emb_product_name_ingredients_text_brands_tags__372', 'emb_product_name_ingredients_text_brands_tags__396', 'emb_product_name_ingredients_text_brands_tags__78', 'emb_product_name_ingredients_text_brands_tags__206', 'emb_product_name_ingredients_text_brands_tags__65', 'emb_product_name_ingredients_text_brands_tags__303', 'emb_product_name_ingredients_text_brands_tags__361', 'emb_product_name_ingredients_text_brands_tags__375', 'emb_product_name_ingredients_text_brands_tags__448', 'emb_product_name_ingredients_text_brands_tags__462', 'emb_product_name_ingredients_text_brands_tags__217', 'emb_product_name_ingredients_text_brands_tags__253', 'emb_product_name_ingredients_text_brands_tags__597', 'emb_product_name_ingredients_text_brands_tags__504', 'emb_product_name_ingredients_text_brands_tags__102', 'emb_product_name_ingredients_text_brands_tags__211', 'emb_product_name_ingredients_text_brands_tags__674', 'emb_product_name_ingredients_text_brands_tags__373', 'emb_product_name_ingredients_text_brands_tags__157', 'emb_product_name_ingredients_text_brands_tags__433', 'emb_product_name_ingredients_text_brands_tags__416', 'emb_product_name_ingredients_text_brands_tags__631', 'emb_product_name_ingredients_text_brands_tags__427', 'emb_product_name_ingredients_text_brands_tags__696', 'emb_product_name_ingredients_text_brands_tags__313', 'emb_product_name_ingredients_text_brands_tags__194', 'emb_product_name_ingredients_text_brands_tags__520', 'emb_product_name_ingredients_text_brands_tags__624', 'emb_product_name_ingredients_text_brands_tags__765', 'emb_product_name_ingredients_text_brands_tags__339', 'emb_product_name_ingredients_text_brands_tags__424', 'emb_product_name_ingredients_text_brands_tags__55', 'emb_product_name_ingredients_text_brands_tags__228', 'emb_product_name_ingredients_text_brands_tags__630', 'emb_product_name_ingredients_text_brands_tags__661', 'emb_product_name_ingredients_text_brands_tags__632', 'emb_product_name_ingredients_text_brands_tags__103', 'emb_product_name_ingredients_text_brands_tags__162', 'emb_product_name_ingredients_text_brands_tags__38', 'emb_product_name_ingredients_text_brands_tags__188', 'emb_product_name_ingredients_text_brands_tags__401', 'emb_product_name_ingredients_text_brands_tags__587', 'emb_product_name_ingredients_text_brands_tags__615', 'emb_product_name_ingredients_text_brands_tags__609', 'emb_product_name_ingredients_text_brands_tags__216', 'emb_product_name_ingredients_text_brands_tags__207', 'emb_product_name_ingredients_text_brands_tags__112', 'emb_product_name_ingredients_text_brands_tags__470', 'emb_product_name_ingredients_text_brands_tags__726', 'emb_product_name_ingredients_text_brands_tags__119', 'emb_product_name_ingredients_text_brands_tags__521', 'emb_product_name_ingredients_text_brands_tags__740', 'emb_product_name_ingredients_text_brands_tags__519', 'emb_product_name_ingredients_text_brands_tags__99', 'emb_product_name_ingredients_text_brands_tags__83', 'emb_product_name_ingredients_text_brands_tags__87', 'emb_product_name_ingredients_text_brands_tags__413', 'emb_product_name_ingredients_text_brands_tags__623', 'emb_product_name_ingredients_text_brands_tags__712', 'emb_product_name_ingredients_text_brands_tags__232', 'emb_product_name_ingredients_text_brands_tags__40', 'emb_product_name_ingredients_text_brands_tags__411', 'emb_product_name_ingredients_text_brands_tags__585', 'emb_product_name_ingredients_text_brands_tags__351', 'emb_product_name_ingredients_text_brands_tags__120', 'emb_product_name_ingredients_text_brands_tags__28', 'emb_product_name_ingredients_text_brands_tags__477', 'emb_product_name_ingredients_text_brands_tags__701', 'emb_product_name_ingredients_text_brands_tags__290', 'emb_product_name_ingredients_text_brands_tags__443', 'emb_product_name_ingredients_text_brands_tags__541', 'emb_product_name_ingredients_text_brands_tags__710', 'emb_product_name_ingredients_text_brands_tags__0', 'emb_product_name_ingredients_text_brands_tags__412', 'emb_product_name_ingredients_text_brands_tags__310', 'emb_product_name_ingredients_text_brands_tags__487', 'emb_product_name_ingredients_text_brands_tags__582', 'emb_product_name_ingredients_text_brands_tags__603', 'emb_product_name_ingredients_text_brands_tags__342', 'emb_product_name_ingredients_text_brands_tags__426', 'emb_product_name_ingredients_text_brands_tags__653', 'emb_product_name_ingredients_text_brands_tags__209', 'emb_product_name_ingredients_text_brands_tags__214', 'emb_product_name_ingredients_text_brands_tags__251', 'emb_product_name_ingredients_text_brands_tags__377', 'emb_product_name_ingredients_text_brands_tags__208', 'emb_product_name_ingredients_text_brands_tags__588', 'emb_product_name_ingredients_text_brands_tags__180', 'emb_product_name_ingredients_text_brands_tags__41', 'emb_product_name_ingredients_text_brands_tags__304', 'emb_product_name_ingredients_text_brands_tags__667', 'emb_product_name_ingredients_text_brands_tags__414', 'emb_product_name_ingredients_text_brands_tags__260', 'emb_product_name_ingredients_text_brands_tags__349', 'emb_product_name_ingredients_text_brands_tags__183', 'emb_product_name_ingredients_text_brands_tags__496', 'emb_product_name_ingredients_text_brands_tags__287', 'emb_product_name_ingredients_text_brands_tags__751', 'emb_product_name_ingredients_text_brands_tags__737', 'emb_product_name_ingredients_text_brands_tags__161', 'emb_product_name_ingredients_text_brands_tags__655', 'emb_product_name_ingredients_text_brands_tags__35', 'emb_product_name_ingredients_text_brands_tags__177', 'emb_product_name_ingredients_text_brands_tags__538', 'emb_product_name_ingredients_text_brands_tags__545', 'emb_product_name_ingredients_text_brands_tags__346', 'emb_product_name_ingredients_text_brands_tags__81', 'emb_product_name_ingredients_text_brands_tags__466', 'emb_product_name_ingredients_text_brands_tags__201', 'emb_product_name_ingredients_text_brands_tags__657', 'emb_product_name_ingredients_text_brands_tags__116', 'emb_product_name_ingredients_text_brands_tags__331', 'emb_product_name_ingredients_text_brands_tags__255', 'emb_product_name_ingredients_text_brands_tags__449', 'emb_product_name_ingredients_text_brands_tags__484', 'emb_product_name_ingredients_text_brands_tags__153', 'emb_product_name_ingredients_text_brands_tags__289', 'emb_product_name_ingredients_text_brands_tags__33', 'emb_product_name_ingredients_text_brands_tags__610', 'emb_product_name_ingredients_text_brands_tags__133', 'emb_product_name_ingredients_text_brands_tags__8', 'emb_product_name_ingredients_text_brands_tags__480', 'emb_product_name_ingredients_text_brands_tags__218', 'emb_product_name_ingredients_text_brands_tags__559', 'emb_product_name_ingredients_text_brands_tags__586', 'emb_product_name_ingredients_text_brands_tags__317', 'emb_product_name_ingredients_text_brands_tags__699', 'emb_product_name_ingredients_text_brands_tags__704', 'emb_product_name_ingredients_text_brands_tags__63', 'emb_product_name_ingredients_text_brands_tags__23', 'emb_product_name_ingredients_text_brands_tags__319', 'emb_product_name_ingredients_text_brands_tags__332', 'emb_product_name_ingredients_text_brands_tags__482', 'emb_product_name_ingredients_text_brands_tags__500', 'emb_product_name_ingredients_text_brands_tags__185', 'emb_product_name_ingredients_text_brands_tags__226', 'emb_product_name_ingredients_text_brands_tags__16', 'emb_product_name_ingredients_text_brands_tags__376', 'emb_product_name_ingredients_text_brands_tags__447', 'emb_product_name_ingredients_text_brands_tags__343', 'emb_product_name_ingredients_text_brands_tags__607', 'emb_product_name_ingredients_text_brands_tags__203', 'emb_product_name_ingredients_text_brands_tags__552', 'emb_product_name_ingredients_text_brands_tags__525', 'emb_product_name_ingredients_text_brands_tags__67', 'emb_product_name_ingredients_text_brands_tags__227', 'emb_product_name_ingredients_text_brands_tags__95', 'emb_product_name_ingredients_text_brands_tags__178', 'emb_product_name_ingredients_text_brands_tags__422', 'emb_product_name_ingredients_text_brands_tags__7', 'emb_product_name_ingredients_text_brands_tags__144', 'emb_product_name_ingredients_text_brands_tags__363', 'emb_product_name_ingredients_text_brands_tags__648', 'emb_product_name_ingredients_text_brands_tags__494', 'emb_product_name_ingredients_text_brands_tags__576', 'emb_product_name_ingredients_text_brands_tags__386', 'emb_product_name_ingredients_text_brands_tags__219', 'emb_product_name_ingredients_text_brands_tags__568', 'emb_product_name_ingredients_text_brands_tags__580', 'emb_product_name_ingredients_text_brands_tags__589', 'emb_product_name_ingredients_text_brands_tags__129', 'emb_product_name_ingredients_text_brands_tags__277', 'emb_product_name_ingredients_text_brands_tags__516', 'emb_product_name_ingredients_text_brands_tags__19', 'emb_product_name_ingredients_text_brands_tags__382', 'emb_product_name_ingredients_text_brands_tags__749', 'emb_product_name_ingredients_text_brands_tags__224', 'emb_product_name_ingredients_text_brands_tags__236', 'emb_product_name_ingredients_text_brands_tags__380', 'emb_product_name_ingredients_text_brands_tags__6', 'emb_product_name_ingredients_text_brands_tags__160', 'emb_product_name_ingredients_text_brands_tags__579', 'emb_product_name_ingredients_text_brands_tags__18', 'emb_product_name_ingredients_text_brands_tags__381', 'emb_product_name_ingredients_text_brands_tags__110', 'emb_product_name_ingredients_text_brands_tags__182', 'emb_product_name_ingredients_text_brands_tags__595', 'emb_product_name_ingredients_text_brands_tags__165', 'emb_product_name_ingredients_text_brands_tags__398', 'emb_product_name_ingredients_text_brands_tags__459', 'emb_product_name_ingredients_text_brands_tags__455', 'emb_product_name_ingredients_text_brands_tags__131', 'emb_product_name_ingredients_text_brands_tags__421', 'emb_product_name_ingredients_text_brands_tags__392', 'emb_product_name_ingredients_text_brands_tags__10', 'emb_product_name_ingredients_text_brands_tags__627', 'emb_product_name_ingredients_text_brands_tags__284', 'emb_product_name_ingredients_text_brands_tags__306', 'emb_product_name_ingredients_text_brands_tags__683', 'emb_product_name_ingredients_text_brands_tags__86', 'emb_product_name_ingredients_text_brands_tags__252', 'emb_product_name_ingredients_text_brands_tags__240', 'emb_product_name_ingredients_text_brands_tags__34', 'emb_product_name_ingredients_text_brands_tags__479', 'emb_product_name_ingredients_text_brands_tags__150', 'emb_product_name_ingredients_text_brands_tags__104', 'emb_product_name_ingredients_text_brands_tags__628', 'emb_product_name_ingredients_text_brands_tags__172', 'emb_product_name_ingredients_text_brands_tags__49', 'emb_product_name_ingredients_text_brands_tags__640', 'emb_product_name_ingredients_text_brands_tags__673', 'emb_product_name_ingredients_text_brands_tags__400', 'emb_product_name_ingredients_text_brands_tags__353', 'emb_product_name_ingredients_text_brands_tags__760', 'emb_product_name_ingredients_text_brands_tags__325', 'emb_product_name_ingredients_text_brands_tags__596', 'emb_product_name_ingredients_text_brands_tags__312', 'emb_product_name_ingredients_text_brands_tags__167', 'emb_product_name_ingredients_text_brands_tags__187', 'emb_product_name_ingredients_text_brands_tags__734', 'emb_product_name_ingredients_text_brands_tags__606', 'emb_product_name_ingredients_text_brands_tags__337', 'emb_product_name_ingredients_text_brands_tags__745', 'emb_product_name_ingredients_text_brands_tags__164', 'emb_product_name_ingredients_text_brands_tags__134', 'emb_product_name_ingredients_text_brands_tags__258', 'emb_product_name_ingredients_text_brands_tags__85', 'emb_product_name_ingredients_text_brands_tags__123', 'emb_product_name_ingredients_text_brands_tags__3', 'emb_product_name_ingredients_text_brands_tags__163', 'emb_product_name_ingredients_text_brands_tags__481', 'emb_product_name_ingredients_text_brands_tags__641', 'emb_product_name_ingredients_text_brands_tags__336', 'emb_product_name_ingredients_text_brands_tags__755', 'ingredients_from_palm_oil_n', 'emb_product_name_ingredients_text_brands_tags__472', 'emb_product_name_ingredients_text_brands_tags__465', 'emb_product_name_ingredients_text_brands_tags__263', 'emb_product_name_ingredients_text_brands_tags__406', 'emb_product_name_ingredients_text_brands_tags__31', 'emb_product_name_ingredients_text_brands_tags__97', 'emb_product_name_ingredients_text_brands_tags__128', 'emb_product_name_ingredients_text_brands_tags__308', 'emb_product_name_ingredients_text_brands_tags__367', 'emb_product_name_ingredients_text_brands_tags__440', 'emb_product_name_ingredients_text_brands_tags__571', 'emb_product_name_ingredients_text_brands_tags__539', 'emb_product_name_ingredients_text_brands_tags__598', 'emb_product_name_ingredients_text_brands_tags__118', 'emb_product_name_ingredients_text_brands_tags__235', 'emb_product_name_ingredients_text_brands_tags__575', 'emb_product_name_ingredients_text_brands_tags__50', 'emb_product_name_ingredients_text_brands_tags__508', 'emb_product_name_ingredients_text_brands_tags__415', 'emb_product_name_ingredients_text_brands_tags__250', 'emb_product_name_ingredients_text_brands_tags__115', 'emb_product_name_ingredients_text_brands_tags__688', 'emb_product_name_ingredients_text_brands_tags__669', 'emb_product_name_ingredients_text_brands_tags__429', 'emb_product_name_ingredients_text_brands_tags__530', 'emb_product_name_ingredients_text_brands_tags__561', 'emb_product_name_ingredients_text_brands_tags__139', 'emb_product_name_ingredients_text_brands_tags__90', 'emb_product_name_ingredients_text_brands_tags__302', 'emb_product_name_ingredients_text_brands_tags__583', 'emb_product_name_ingredients_text_brands_tags__754', 'emb_product_name_ingredients_text_brands_tags__604', 'emb_product_name_ingredients_text_brands_tags__542', 'emb_product_name_ingredients_text_brands_tags__616', 'emb_product_name_ingredients_text_brands_tags__536', 'emb_product_name_ingredients_text_brands_tags__681', 'emb_product_name_ingredients_text_brands_tags__71', 'emb_product_name_ingredients_text_brands_tags__759', 'emb_product_name_ingredients_text_brands_tags__702', 'emb_product_name_ingredients_text_brands_tags__461', 'emb_product_name_ingredients_text_brands_tags__643', 'emb_product_name_ingredients_text_brands_tags__722', 'emb_product_name_ingredients_text_brands_tags__318', 'emb_product_name_ingredients_text_brands_tags__374', 'emb_product_name_ingredients_text_brands_tags__334', 'emb_product_name_ingredients_text_brands_tags__578', 'emb_product_name_ingredients_text_brands_tags__212', 'emb_product_name_ingredients_text_brands_tags__690', 'emb_product_name_ingredients_text_brands_tags__181', 'emb_product_name_ingredients_text_brands_tags__729', 'emb_product_name_ingredients_text_brands_tags__358', 'emb_product_name_ingredients_text_brands_tags__333', 'emb_product_name_ingredients_text_brands_tags__362', 'emb_product_name_ingredients_text_brands_tags__435', 'emb_product_name_ingredients_text_brands_tags__649', 'emb_product_name_ingredients_text_brands_tags__272', 'emb_product_name_ingredients_text_brands_tags__463', 'emb_product_name_ingredients_text_brands_tags__473', 'emb_product_name_ingredients_text_brands_tags__151', 'emb_product_name_ingredients_text_brands_tags__478', 'emb_product_name_ingredients_text_brands_tags__340', 'emb_product_name_ingredients_text_brands_tags__355', 'emb_product_name_ingredients_text_brands_tags__269', 'emb_product_name_ingredients_text_brands_tags__256', 'emb_product_name_ingredients_text_brands_tags__354', 'emb_product_name_ingredients_text_brands_tags__736', 'emb_product_name_ingredients_text_brands_tags__488', 'emb_product_name_ingredients_text_brands_tags__618', 'emb_product_name_ingredients_text_brands_tags__44', 'emb_product_name_ingredients_text_brands_tags__458', 'emb_product_name_ingredients_text_brands_tags__724', 'emb_product_name_ingredients_text_brands_tags__15', 'emb_product_name_ingredients_text_brands_tags__222', 'emb_product_name_ingredients_text_brands_tags__540', 'emb_product_name_ingredients_text_brands_tags__503', 'emb_product_name_ingredients_text_brands_tags__549', 'emb_product_name_ingredients_text_brands_tags__613', 'emb_product_name_ingredients_text_brands_tags__100', 'emb_product_name_ingredients_text_brands_tags__601', 'emb_product_name_ingredients_text_brands_tags__658', 'emb_product_name_ingredients_text_brands_tags__728', 'emb_product_name_ingredients_text_brands_tags__633', 'emb_product_name_ingredients_text_brands_tags__158', 'emb_product_name_ingredients_text_brands_tags__60', 'emb_product_name_ingredients_text_brands_tags__314', 'emb_product_name_ingredients_text_brands_tags__20', 'emb_product_name_ingredients_text_brands_tags__197', 'emb_product_name_ingredients_text_brands_tags__418', 'emb_product_name_ingredients_text_brands_tags__590', 'emb_product_name_ingredients_text_brands_tags__647', 'emb_product_name_ingredients_text_brands_tags__105', 'emb_product_name_ingredients_text_brands_tags__273', 'emb_product_name_ingredients_text_brands_tags__671', 'emb_product_name_ingredients_text_brands_tags__739', 'emb_product_name_ingredients_text_brands_tags__741', 'emb_product_name_ingredients_text_brands_tags__452', 'emb_product_name_ingredients_text_brands_tags__148', 'emb_product_name_ingredients_text_brands_tags__663', 'emb_product_name_ingredients_text_brands_tags__32', 'emb_product_name_ingredients_text_brands_tags__238', 'emb_product_name_ingredients_text_brands_tags__9', 'emb_product_name_ingredients_text_brands_tags__548', 'emb_product_name_ingredients_text_brands_tags__360', 'emb_product_name_ingredients_text_brands_tags__592', 'emb_product_name_ingredients_text_brands_tags__697', 'emb_product_name_ingredients_text_brands_tags__328', 'emb_product_name_ingredients_text_brands_tags__70', 'emb_product_name_ingredients_text_brands_tags__281', 'emb_product_name_ingredients_text_brands_tags__113', 'emb_product_name_ingredients_text_brands_tags__735', 'emb_product_name_ingredients_text_brands_tags__672', 'emb_product_name_ingredients_text_brands_tags__39', 'emb_product_name_ingredients_text_brands_tags__457', 'emb_product_name_ingredients_text_brands_tags__399', 'emb_product_name_ingredients_text_brands_tags__405', 'emb_product_name_ingredients_text_brands_tags__705', 'emb_product_name_ingredients_text_brands_tags__744', 'emb_product_name_ingredients_text_brands_tags__341', 'emb_product_name_ingredients_text_brands_tags__234', 'emb_product_name_ingredients_text_brands_tags__93', 'emb_product_name_ingredients_text_brands_tags__564', 'emb_product_name_ingredients_text_brands_tags__680', 'emb_product_name_ingredients_text_brands_tags__365', 'emb_product_name_ingredients_text_brands_tags__732', 'emb_product_name_ingredients_text_brands_tags__442', 'emb_product_name_ingredients_text_brands_tags__693', 'emb_product_name_ingredients_text_brands_tags__553', 'emb_product_name_ingredients_text_brands_tags__560', 'emb_product_name_ingredients_text_brands_tags__551', 'emb_product_name_ingredients_text_brands_tags__106', 'emb_product_name_ingredients_text_brands_tags__706', 'emb_product_name_ingredients_text_brands_tags__121', 'emb_product_name_ingredients_text_brands_tags__602', 'emb_product_name_ingredients_text_brands_tags__714', 'emb_product_name_ingredients_text_brands_tags__431', 'emb_product_name_ingredients_text_brands_tags__534', 'emb_product_name_ingredients_text_brands_tags__371', 'emb_product_name_ingredients_text_brands_tags__283', 'emb_product_name_ingredients_text_brands_tags__515', 'emb_product_name_ingredients_text_brands_tags__179', 'emb_product_name_ingredients_text_brands_tags__369', 'emb_product_name_ingredients_text_brands_tags__664', 'emb_product_name_ingredients_text_brands_tags__25', 'emb_product_name_ingredients_text_brands_tags__114', 'emb_product_name_ingredients_text_brands_tags__176', 'emb_product_name_ingredients_text_brands_tags__52', 'emb_product_name_ingredients_text_brands_tags__611', 'emb_product_name_ingredients_text_brands_tags__453', 'emb_product_name_ingredients_text_brands_tags__454', 'emb_product_name_ingredients_text_brands_tags__694', 'emb_product_name_ingredients_text_brands_tags__259', 'emb_product_name_ingredients_text_brands_tags__599', 'emb_product_name_ingredients_text_brands_tags__517', 'emb_product_name_ingredients_text_brands_tags__213', 'emb_product_name_ingredients_text_brands_tags__279', 'emb_product_name_ingredients_text_brands_tags__432', 'emb_product_name_ingredients_text_brands_tags__199', 'emb_product_name_ingredients_text_brands_tags__309', 'emb_product_name_ingredients_text_brands_tags__634', 'emb_product_name_ingredients_text_brands_tags__196', 'emb_product_name_ingredients_text_brands_tags__204', 'emb_product_name_ingredients_text_brands_tags__280', 'emb_product_name_ingredients_text_brands_tags__403', 'emb_product_name_ingredients_text_brands_tags__502', 'emb_product_name_ingredients_text_brands_tags__387', 'emb_product_name_ingredients_text_brands_tags__335', 'emb_product_name_ingredients_text_brands_tags__146', 'emb_product_name_ingredients_text_brands_tags__82', 'emb_product_name_ingredients_text_brands_tags__77', 'emb_product_name_ingredients_text_brands_tags__338', 'emb_product_name_ingredients_text_brands_tags__320', 'emb_product_name_ingredients_text_brands_tags__345', 'emb_product_name_ingredients_text_brands_tags__26', 'emb_product_name_ingredients_text_brands_tags__692', 'emb_product_name_ingredients_text_brands_tags__614', 'emb_product_name_ingredients_text_brands_tags__89', 'emb_product_name_ingredients_text_brands_tags__689', 'emb_product_name_ingredients_text_brands_tags__246', 'emb_product_name_ingredients_text_brands_tags__127', 'emb_product_name_ingredients_text_brands_tags__357', 'emb_product_name_ingredients_text_brands_tags__200', 'emb_product_name_ingredients_text_brands_tags__92', 'emb_product_name_ingredients_text_brands_tags__159', 'emb_product_name_ingredients_text_brands_tags__651', 'emb_product_name_ingredients_text_brands_tags__327', 'emb_product_name_ingredients_text_brands_tags__495', 'emb_product_name_ingredients_text_brands_tags__359', 'emb_product_name_ingredients_text_brands_tags__137', 'emb_product_name_ingredients_text_brands_tags__625', 'emb_product_name_ingredients_text_brands_tags__670', 'emb_product_name_ingredients_text_brands_tags__84', 'emb_product_name_ingredients_text_brands_tags__266', 'emb_product_name_ingredients_text_brands_tags__347', 'emb_product_name_ingredients_text_brands_tags__220', 'emb_product_name_ingredients_text_brands_tags__556', 'emb_product_name_ingredients_text_brands_tags__191', 'emb_product_name_ingredients_text_brands_tags__385', 'emb_product_name_ingredients_text_brands_tags__68', 'emb_product_name_ingredients_text_brands_tags__528', 'emb_product_name_ingredients_text_brands_tags__646', 'emb_product_name_ingredients_text_brands_tags__682', 'emb_product_name_ingredients_text_brands_tags__748', 'emb_product_name_ingredients_text_brands_tags__261', 'emb_product_name_ingredients_text_brands_tags__644', 'emb_product_name_ingredients_text_brands_tags__567', 'emb_product_name_ingredients_text_brands_tags__294', 'emb_product_name_ingredients_text_brands_tags__708', 'emb_product_name_ingredients_text_brands_tags__348', 'emb_product_name_ingredients_text_brands_tags__574', 'emb_product_name_ingredients_text_brands_tags__47', 'emb_product_name_ingredients_text_brands_tags__198', 'emb_product_name_ingredients_text_brands_tags__79', 'emb_product_name_ingredients_text_brands_tags__558', 'emb_product_name_ingredients_text_brands_tags__441', 'emb_product_name_ingredients_text_brands_tags__109', 'emb_product_name_ingredients_text_brands_tags__687', 'emb_product_name_ingredients_text_brands_tags__707', 'additives_n', 'emb_product_name_ingredients_text_brands_tags__577', 'emb_product_name_ingredients_text_brands_tags__758', 'emb_product_name_ingredients_text_brands_tags__91', 'emb_product_name_ingredients_text_brands_tags__460', 'emb_product_name_ingredients_text_brands_tags__471', 'emb_product_name_ingredients_text_brands_tags__171', 'emb_product_name_ingredients_text_brands_tags__533', 'emb_product_name_ingredients_text_brands_tags__446', 'emb_product_name_ingredients_text_brands_tags__451', 'emb_product_name_ingredients_text_brands_tags__248', 'emb_product_name_ingredients_text_brands_tags__444', 'emb_product_name_ingredients_text_brands_tags__445', 'emb_product_name_ingredients_text_brands_tags__229', 'emb_product_name_ingredients_text_brands_tags__747', 'emb_product_name_ingredients_text_brands_tags__506', 'emb_product_name_ingredients_text_brands_tags__301', 'emb_product_name_ingredients_text_brands_tags__719', 'emb_product_name_ingredients_text_brands_tags__652', 'emb_product_name_ingredients_text_brands_tags__464', 'emb_product_name_ingredients_text_brands_tags__547', 'emb_product_name_ingredients_text_brands_tags__66', 'emb_product_name_ingredients_text_brands_tags__370', 'emb_product_name_ingredients_text_brands_tags__691', 'emb_product_name_ingredients_text_brands_tags__467', 'emb_product_name_ingredients_text_brands_tags__267', 'emb_product_name_ingredients_text_brands_tags__507', 'emb_product_name_ingredients_text_brands_tags__526', 'emb_product_name_ingredients_text_brands_tags__752', 'emb_product_name_ingredients_text_brands_tags__215', 'emb_product_name_ingredients_text_brands_tags__326', 'emb_product_name_ingredients_text_brands_tags__727', 'emb_product_name_ingredients_text_brands_tags__404', 'emb_product_name_ingredients_text_brands_tags__98', 'ingredients_that_may_be_from_palm_oil_n', 'emb_product_name_ingredients_text_brands_tags__155', 'emb_product_name_ingredients_text_brands_tags__288', 'emb_product_name_ingredients_text_brands_tags__278', 'emb_product_name_ingredients_text_brands_tags__703', 'emb_product_name_ingredients_text_brands_tags__635', 'emb_product_name_ingredients_text_brands_tags__766', 'emb_product_name_ingredients_text_brands_tags__323', 'emb_product_name_ingredients_text_brands_tags__514', 'emb_product_name_ingredients_text_brands_tags__299', 'emb_product_name_ingredients_text_brands_tags__761', 'emb_product_name_ingredients_text_brands_tags__629', 'emb_product_name_ingredients_text_brands_tags__698', 'emb_product_name_ingredients_text_brands_tags__125', 'emb_product_name_ingredients_text_brands_tags__202', 'emb_product_name_ingredients_text_brands_tags__511', 'emb_product_name_ingredients_text_brands_tags__74', 'emb_product_name_ingredients_text_brands_tags__62', 'emb_product_name_ingredients_text_brands_tags__419', 'emb_product_name_ingredients_text_brands_tags__88', 'emb_product_name_ingredients_text_brands_tags__352', 'emb_product_name_ingredients_text_brands_tags__621', 'emb_product_name_ingredients_text_brands_tags__22', 'emb_product_name_ingredients_text_brands_tags__650', 'emb_product_name_ingredients_text_brands_tags__764', 'emb_product_name_ingredients_text_brands_tags__642', 'emb_product_name_ingredients_text_brands_tags__286', 'emb_product_name_ingredients_text_brands_tags__111', 'emb_product_name_ingredients_text_brands_tags__368', 'emb_product_name_ingredients_text_brands_tags__731', 'emb_product_name_ingredients_text_brands_tags__316', 'emb_product_name_ingredients_text_brands_tags__723', 'emb_product_name_ingredients_text_brands_tags__439', 'emb_product_name_ingredients_text_brands_tags__51', 'emb_product_name_ingredients_text_brands_tags__456', 'emb_product_name_ingredients_text_brands_tags__168', 'emb_product_name_ingredients_text_brands_tags__767', 'emb_product_name_ingredients_text_brands_tags__174', 'emb_product_name_ingredients_text_brands_tags__709', 'emb_product_name_ingredients_text_brands_tags__537', 'emb_product_name_ingredients_text_brands_tags__510', 'emb_product_name_ingredients_text_brands_tags__233', 'emb_product_name_ingredients_text_brands_tags__637', 'emb_product_name_ingredients_text_brands_tags__142', 'emb_product_name_ingredients_text_brands_tags__53', 'emb_product_name_ingredients_text_brands_tags__397', 'emb_product_name_ingredients_text_brands_tags__600', 'emb_product_name_ingredients_text_brands_tags__569', 'emb_product_name_ingredients_text_brands_tags__605', 'emb_product_name_ingredients_text_brands_tags__428', 'emb_product_name_ingredients_text_brands_tags__170', 'emb_product_name_ingredients_text_brands_tags__468', 'emb_product_name_ingredients_text_brands_tags__512', 'emb_product_name_ingredients_text_brands_tags__668', 'emb_product_name_ingredients_text_brands_tags__725', 'emb_product_name_ingredients_text_brands_tags__720', 'emb_product_name_ingredients_text_brands_tags__54', 'emb_product_name_ingredients_text_brands_tags__46', 'emb_product_name_ingredients_text_brands_tags__626', 'emb_product_name_ingredients_text_brands_tags__275', 'emb_product_name_ingredients_text_brands_tags__417', 'emb_product_name_ingredients_text_brands_tags__544', 'emb_product_name_ingredients_text_brands_tags__249', 'emb_product_name_ingredients_text_brands_tags__190', 'emb_product_name_ingredients_text_brands_tags__718', 'emb_product_name_ingredients_text_brands_tags__639', 'emb_product_name_ingredients_text_brands_tags__388', 'emb_product_name_ingredients_text_brands_tags__292', 'emb_product_name_ingredients_text_brands_tags__186', 'emb_product_name_ingredients_text_brands_tags__622', 'emb_product_name_ingredients_text_brands_tags__152', 'emb_product_name_ingredients_text_brands_tags__244', 'emb_product_name_ingredients_text_brands_tags__242', 'emb_product_name_ingredients_text_brands_tags__566', 'emb_product_name_ingredients_text_brands_tags__523', 'emb_product_name_ingredients_text_brands_tags__522', 'emb_product_name_ingredients_text_brands_tags__5', 'emb_product_name_ingredients_text_brands_tags__753', 'emb_product_name_ingredients_text_brands_tags__679', 'emb_product_name_ingredients_text_brands_tags__43', 'emb_product_name_ingredients_text_brands_tags__189', 'emb_product_name_ingredients_text_brands_tags__59', 'emb_product_name_ingredients_text_brands_tags__296', 'emb_product_name_ingredients_text_brands_tags__270', 'emb_product_name_ingredients_text_brands_tags__383', 'emb_product_name_ingredients_text_brands_tags__141', 'emb_product_name_ingredients_text_brands_tags__231', 'emb_product_name_ingredients_text_brands_tags__476', 'emb_product_name_ingredients_text_brands_tags__565', 'emb_product_name_ingredients_text_brands_tags__684', 'emb_product_name_ingredients_text_brands_tags__24', 'emb_product_name_ingredients_text_brands_tags__501', 'emb_product_name_ingredients_text_brands_tags__711', 'emb_product_name_ingredients_text_brands_tags__678', 'emb_product_name_ingredients_text_brands_tags__130', 'emb_product_name_ingredients_text_brands_tags__221', 'emb_product_name_ingredients_text_brands_tags__572', 'emb_product_name_ingredients_text_brands_tags__192', 'emb_product_name_ingredients_text_brands_tags__721', 'emb_product_name_ingredients_text_brands_tags__384', 'emb_product_name_ingredients_text_brands_tags__543', 'emb_product_name_ingredients_text_brands_tags__743', 'emb_product_name_ingredients_text_brands_tags__140', 'emb_product_name_ingredients_text_brands_tags__27', 'emb_product_name_ingredients_text_brands_tags__243', 'emb_product_name_ingredients_text_brands_tags__584', 'emb_product_name_ingredients_text_brands_tags__425', 'emb_product_name_ingredients_text_brands_tags__264', 'emb_product_name_ingredients_text_brands_tags__247', 'emb_product_name_ingredients_text_brands_tags__108', 'emb_product_name_ingredients_text_brands_tags__434', 'emb_product_name_ingredients_text_brands_tags__329', 'emb_product_name_ingredients_text_brands_tags__402', 'emb_product_name_ingredients_text_brands_tags__497', 'emb_product_name_ingredients_text_brands_tags__666', 'emb_product_name_ingredients_text_brands_tags__1', 'emb_product_name_ingredients_text_brands_tags__391', 'emb_product_name_ingredients_text_brands_tags__409', 'emb_product_name_ingredients_text_brands_tags__573', 'emb_product_name_ingredients_text_brands_tags__56', 'emb_product_name_ingredients_text_brands_tags__42', 'emb_product_name_ingredients_text_brands_tags__594', 'emb_product_name_ingredients_text_brands_tags__101', 'emb_product_name_ingredients_text_brands_tags__489', 'emb_product_name_ingredients_text_brands_tags__136', 'emb_product_name_ingredients_text_brands_tags__532', 'emb_product_name_ingredients_text_brands_tags__493', 'emb_product_name_ingredients_text_brands_tags__132', 'emb_product_name_ingredients_text_brands_tags__184', 'emb_product_name_ingredients_text_brands_tags__492', 'emb_product_name_ingredients_text_brands_tags__293', 'emb_product_name_ingredients_text_brands_tags__617', 'emb_product_name_ingredients_text_brands_tags__686', 'emb_product_name_ingredients_text_brands_tags__117', 'emb_product_name_ingredients_text_brands_tags__450', 'emb_product_name_ingredients_text_brands_tags__563', 'emb_product_name_ingredients_text_brands_tags__307', 'emb_product_name_ingredients_text_brands_tags__475', 'emb_product_name_ingredients_text_brands_tags__135', 'emb_product_name_ingredients_text_brands_tags__436', 'emb_product_name_ingredients_text_brands_tags__407', 'emb_product_name_ingredients_text_brands_tags__394', 'emb_product_name_ingredients_text_brands_tags__527', 'emb_product_name_ingredients_text_brands_tags__72', 'emb_product_name_ingredients_text_brands_tags__138', 'emb_product_name_ingredients_text_brands_tags__762', 'emb_product_name_ingredients_text_brands_tags__149', 'emb_product_name_ingredients_text_brands_tags__763', 'emb_product_name_ingredients_text_brands_tags__356', 'emb_product_name_ingredients_text_brands_tags__61', 'emb_product_name_ingredients_text_brands_tags__742', 'emb_product_name_ingredients_text_brands_tags__677', 'emb_product_name_ingredients_text_brands_tags__750', 'emb_product_name_ingredients_text_brands_tags__298', 'emb_product_name_ingredients_text_brands_tags__147', 'emb_product_name_ingredients_text_brands_tags__716', 'emb_product_name_ingredients_text_brands_tags__738', 'emb_product_name_ingredients_text_brands_tags__11', 'emb_product_name_ingredients_text_brands_tags__245', 'emb_product_name_ingredients_text_brands_tags__546', 'emb_product_name_ingredients_text_brands_tags__268', 'emb_product_name_ingredients_text_brands_tags__311', 'emb_product_name_ingredients_text_brands_tags__154', 'emb_product_name_ingredients_text_brands_tags__581', 'label_states_en_brands', 'label_states_en_categories', 'label_states_en_characteristics', 'label_states_en_expiration date', 'label_states_en_general_complete', 'label_states_en_ingredients', 'label_pnns_groups_1', 'label_pnns_groups_2', 'label_states_en_packaging', 'label_states_en_packaging-code-', 'label_states_en_photo_upload', 'label_states_en_photo_validate', 'label_states_en_product name', 'label_states_en_quantity']\n",
      "Cat index: [772, 773, 774, 775, 776, 777, 778, 779, 780, 781, 782, 783, 784, 785]\n",
      "---------- Training fold Nº 3 ----------\n"
     ]
    },
    {
     "name": "stdout",
     "output_type": "stream",
     "text": [
      "[LightGBM] [Warning] Find whitespaces in feature_names, replace with underlines\n",
      "[LightGBM] [Info] Total Bins 196221\n",
      "[LightGBM] [Info] Number of data points in the train set: 81622, number of used features: 786\n"
     ]
    },
    {
     "name": "stderr",
     "output_type": "stream",
     "text": [
      "/usr/local/lib/python3.6/dist-packages/lightgbm/basic.py:1433: UserWarning: Overriding the parameters from Reference Dataset.\n",
      "  _log_warning('Overriding the parameters from Reference Dataset.')\n",
      "/usr/local/lib/python3.6/dist-packages/lightgbm/basic.py:1245: UserWarning: categorical_column in param dict is overridden.\n",
      "  _log_warning('{} in param dict is overridden.'.format(cat_alias))\n"
     ]
    },
    {
     "name": "stdout",
     "output_type": "stream",
     "text": [
      "[LightGBM] [Warning] Find whitespaces in feature_names, replace with underlines\n",
      "[LightGBM] [Info] Start training from score 9.171253\n",
      "Training until validation scores don't improve for 200 rounds\n",
      "[50]\ttraining's rmse: 8.66487\tvalid_1's rmse: 8.65381\n",
      "[100]\ttraining's rmse: 8.32973\tvalid_1's rmse: 8.3181\n",
      "[150]\ttraining's rmse: 8.01376\tvalid_1's rmse: 8.00161\n",
      "[200]\ttraining's rmse: 7.71564\tvalid_1's rmse: 7.7029\n",
      "[250]\ttraining's rmse: 7.43439\tvalid_1's rmse: 7.42072\n",
      "[300]\ttraining's rmse: 7.16949\tvalid_1's rmse: 7.1552\n",
      "[350]\ttraining's rmse: 6.9202\tvalid_1's rmse: 6.90543\n",
      "[400]\ttraining's rmse: 6.68581\tvalid_1's rmse: 6.67048\n",
      "[450]\ttraining's rmse: 6.46567\tvalid_1's rmse: 6.44971\n",
      "[500]\ttraining's rmse: 6.2588\tvalid_1's rmse: 6.2423\n",
      "[550]\ttraining's rmse: 6.06505\tvalid_1's rmse: 6.04841\n",
      "[600]\ttraining's rmse: 5.88313\tvalid_1's rmse: 5.86605\n",
      "[650]\ttraining's rmse: 5.71286\tvalid_1's rmse: 5.69539\n",
      "[700]\ttraining's rmse: 5.55371\tvalid_1's rmse: 5.5358\n",
      "[750]\ttraining's rmse: 5.40513\tvalid_1's rmse: 5.38695\n",
      "[800]\ttraining's rmse: 5.26612\tvalid_1's rmse: 5.2479\n",
      "[850]\ttraining's rmse: 5.13663\tvalid_1's rmse: 5.11836\n",
      "[900]\ttraining's rmse: 5.01598\tvalid_1's rmse: 4.99769\n",
      "[950]\ttraining's rmse: 4.90362\tvalid_1's rmse: 4.88525\n",
      "[1000]\ttraining's rmse: 4.79908\tvalid_1's rmse: 4.78059\n",
      "[1050]\ttraining's rmse: 4.70208\tvalid_1's rmse: 4.68359\n",
      "[1100]\ttraining's rmse: 4.61211\tvalid_1's rmse: 4.59375\n",
      "[1150]\ttraining's rmse: 4.52855\tvalid_1's rmse: 4.51012\n",
      "[1200]\ttraining's rmse: 4.45128\tvalid_1's rmse: 4.433\n",
      "[1250]\ttraining's rmse: 4.37961\tvalid_1's rmse: 4.36137\n",
      "[1300]\ttraining's rmse: 4.31336\tvalid_1's rmse: 4.29519\n",
      "[1350]\ttraining's rmse: 4.25211\tvalid_1's rmse: 4.23409\n",
      "[1400]\ttraining's rmse: 4.19555\tvalid_1's rmse: 4.17761\n",
      "[1450]\ttraining's rmse: 4.14334\tvalid_1's rmse: 4.1256\n",
      "[1500]\ttraining's rmse: 4.09507\tvalid_1's rmse: 4.07763\n",
      "[1550]\ttraining's rmse: 4.05071\tvalid_1's rmse: 4.03341\n",
      "[1600]\ttraining's rmse: 4.00961\tvalid_1's rmse: 3.99261\n",
      "[1650]\ttraining's rmse: 3.97182\tvalid_1's rmse: 3.9551\n",
      "[1700]\ttraining's rmse: 3.93702\tvalid_1's rmse: 3.92068\n",
      "[1750]\ttraining's rmse: 3.90484\tvalid_1's rmse: 3.88886\n",
      "[1800]\ttraining's rmse: 3.87531\tvalid_1's rmse: 3.85974\n",
      "[1850]\ttraining's rmse: 3.84806\tvalid_1's rmse: 3.83292\n",
      "[1900]\ttraining's rmse: 3.82306\tvalid_1's rmse: 3.80828\n",
      "[1950]\ttraining's rmse: 3.80001\tvalid_1's rmse: 3.78569\n",
      "[2000]\ttraining's rmse: 3.77895\tvalid_1's rmse: 3.76506\n",
      "[2050]\ttraining's rmse: 3.75947\tvalid_1's rmse: 3.74601\n",
      "[2100]\ttraining's rmse: 3.74152\tvalid_1's rmse: 3.72853\n",
      "[2150]\ttraining's rmse: 3.72515\tvalid_1's rmse: 3.71266\n",
      "[2200]\ttraining's rmse: 3.70994\tvalid_1's rmse: 3.69801\n",
      "[2250]\ttraining's rmse: 3.696\tvalid_1's rmse: 3.68455\n",
      "[2300]\ttraining's rmse: 3.6832\tvalid_1's rmse: 3.67229\n",
      "[2350]\ttraining's rmse: 3.67145\tvalid_1's rmse: 3.66122\n",
      "[2400]\ttraining's rmse: 3.66056\tvalid_1's rmse: 3.65085\n",
      "[2450]\ttraining's rmse: 3.65043\tvalid_1's rmse: 3.64129\n",
      "[2500]\ttraining's rmse: 3.64123\tvalid_1's rmse: 3.63258\n",
      "[2550]\ttraining's rmse: 3.63273\tvalid_1's rmse: 3.62464\n",
      "[2600]\ttraining's rmse: 3.6248\tvalid_1's rmse: 3.61735\n",
      "[2650]\ttraining's rmse: 3.61751\tvalid_1's rmse: 3.61067\n",
      "[2700]\ttraining's rmse: 3.61078\tvalid_1's rmse: 3.60462\n",
      "[2750]\ttraining's rmse: 3.6046\tvalid_1's rmse: 3.59919\n",
      "[2800]\ttraining's rmse: 3.59884\tvalid_1's rmse: 3.59414\n",
      "[2850]\ttraining's rmse: 3.59338\tvalid_1's rmse: 3.58945\n",
      "[2900]\ttraining's rmse: 3.58833\tvalid_1's rmse: 3.58515\n",
      "[2950]\ttraining's rmse: 3.58362\tvalid_1's rmse: 3.58121\n",
      "[3000]\ttraining's rmse: 3.57928\tvalid_1's rmse: 3.57763\n",
      "[3050]\ttraining's rmse: 3.5752\tvalid_1's rmse: 3.57427\n",
      "[3100]\ttraining's rmse: 3.57147\tvalid_1's rmse: 3.57134\n",
      "[3150]\ttraining's rmse: 3.5679\tvalid_1's rmse: 3.56852\n",
      "[3200]\ttraining's rmse: 3.56457\tvalid_1's rmse: 3.56599\n",
      "[3250]\ttraining's rmse: 3.56147\tvalid_1's rmse: 3.56365\n",
      "[3300]\ttraining's rmse: 3.55857\tvalid_1's rmse: 3.56161\n",
      "[3350]\ttraining's rmse: 3.55586\tvalid_1's rmse: 3.55967\n",
      "[3400]\ttraining's rmse: 3.55325\tvalid_1's rmse: 3.55774\n",
      "[3450]\ttraining's rmse: 3.55084\tvalid_1's rmse: 3.55607\n",
      "[3500]\ttraining's rmse: 3.54858\tvalid_1's rmse: 3.55455\n",
      "[3550]\ttraining's rmse: 3.54641\tvalid_1's rmse: 3.55317\n",
      "[3600]\ttraining's rmse: 3.54437\tvalid_1's rmse: 3.55181\n",
      "[3650]\ttraining's rmse: 3.54243\tvalid_1's rmse: 3.5505\n",
      "[3700]\ttraining's rmse: 3.54058\tvalid_1's rmse: 3.54936\n",
      "[3750]\ttraining's rmse: 3.53876\tvalid_1's rmse: 3.54815\n",
      "[3800]\ttraining's rmse: 3.537\tvalid_1's rmse: 3.54705\n",
      "[3850]\ttraining's rmse: 3.5354\tvalid_1's rmse: 3.54612\n",
      "[3900]\ttraining's rmse: 3.53386\tvalid_1's rmse: 3.54517\n",
      "[3950]\ttraining's rmse: 3.53239\tvalid_1's rmse: 3.54432\n",
      "[4000]\ttraining's rmse: 3.53098\tvalid_1's rmse: 3.54365\n",
      "[4050]\ttraining's rmse: 3.52967\tvalid_1's rmse: 3.54298\n",
      "[4100]\ttraining's rmse: 3.52845\tvalid_1's rmse: 3.54242\n",
      "[4150]\ttraining's rmse: 3.52723\tvalid_1's rmse: 3.54182\n",
      "[4200]\ttraining's rmse: 3.52605\tvalid_1's rmse: 3.54123\n",
      "[4250]\ttraining's rmse: 3.52491\tvalid_1's rmse: 3.54076\n",
      "[4300]\ttraining's rmse: 3.52383\tvalid_1's rmse: 3.54037\n",
      "[4350]\ttraining's rmse: 3.52279\tvalid_1's rmse: 3.53998\n",
      "[4400]\ttraining's rmse: 3.52179\tvalid_1's rmse: 3.53965\n",
      "[4450]\ttraining's rmse: 3.52078\tvalid_1's rmse: 3.53931\n",
      "[4500]\ttraining's rmse: 3.51985\tvalid_1's rmse: 3.53902\n",
      "[4550]\ttraining's rmse: 3.51893\tvalid_1's rmse: 3.53879\n",
      "[4600]\ttraining's rmse: 3.51805\tvalid_1's rmse: 3.53852\n",
      "[4650]\ttraining's rmse: 3.51719\tvalid_1's rmse: 3.53833\n",
      "[4700]\ttraining's rmse: 3.51632\tvalid_1's rmse: 3.53806\n",
      "[4750]\ttraining's rmse: 3.51555\tvalid_1's rmse: 3.53792\n",
      "[4800]\ttraining's rmse: 3.51469\tvalid_1's rmse: 3.53768\n",
      "[4850]\ttraining's rmse: 3.51384\tvalid_1's rmse: 3.53744\n",
      "[4900]\ttraining's rmse: 3.51307\tvalid_1's rmse: 3.5373\n",
      "[4950]\ttraining's rmse: 3.51235\tvalid_1's rmse: 3.53725\n",
      "[5000]\ttraining's rmse: 3.51167\tvalid_1's rmse: 3.53721\n",
      "[5050]\ttraining's rmse: 3.51094\tvalid_1's rmse: 3.53708\n",
      "[5100]\ttraining's rmse: 3.51027\tvalid_1's rmse: 3.53703\n",
      "[5150]\ttraining's rmse: 3.5096\tvalid_1's rmse: 3.537\n",
      "[5200]\ttraining's rmse: 3.50891\tvalid_1's rmse: 3.53693\n",
      "[5250]\ttraining's rmse: 3.50825\tvalid_1's rmse: 3.53688\n",
      "[5300]\ttraining's rmse: 3.50759\tvalid_1's rmse: 3.53684\n",
      "[5350]\ttraining's rmse: 3.50696\tvalid_1's rmse: 3.53686\n",
      "[5400]\ttraining's rmse: 3.50636\tvalid_1's rmse: 3.5369\n",
      "[5450]\ttraining's rmse: 3.50573\tvalid_1's rmse: 3.53692\n",
      "Early stopping, best iteration is:\n",
      "[5288]\ttraining's rmse: 3.50773\tvalid_1's rmse: 3.53681\n",
      "Train RMSE: 3.507733143093027        Valida RMSE: 3.5368135039516564\n",
      "Columns: ['emb_product_name_ingredients_text_brands_tags__557', 'emb_product_name_ingredients_text_brands_tags__730', 'emb_product_name_ingredients_text_brands_tags__746', 'emb_product_name_ingredients_text_brands_tags__2', 'emb_product_name_ingredients_text_brands_tags__638', 'emb_product_name_ingredients_text_brands_tags__393', 'emb_product_name_ingredients_text_brands_tags__315', 'emb_product_name_ingredients_text_brands_tags__550', 'emb_product_name_ingredients_text_brands_tags__717', 'emb_product_name_ingredients_text_brands_tags__757', 'emb_product_name_ingredients_text_brands_tags__324', 'emb_product_name_ingredients_text_brands_tags__64', 'emb_product_name_ingredients_text_brands_tags__45', 'emb_product_name_ingredients_text_brands_tags__274', 'emb_product_name_ingredients_text_brands_tags__498', 'emb_product_name_ingredients_text_brands_tags__173', 'emb_product_name_ingredients_text_brands_tags__715', 'emb_product_name_ingredients_text_brands_tags__210', 'emb_product_name_ingredients_text_brands_tags__364', 'emb_product_name_ingredients_text_brands_tags__169', 'emb_product_name_ingredients_text_brands_tags__300', 'emb_product_name_ingredients_text_brands_tags__29', 'emb_product_name_ingredients_text_brands_tags__94', 'emb_product_name_ingredients_text_brands_tags__225', 'emb_product_name_ingredients_text_brands_tags__531', 'emb_product_name_ingredients_text_brands_tags__665', 'emb_product_name_ingredients_text_brands_tags__30', 'emb_product_name_ingredients_text_brands_tags__483', 'emb_product_name_ingredients_text_brands_tags__321', 'emb_product_name_ingredients_text_brands_tags__408', 'emb_product_name_ingredients_text_brands_tags__485', 'emb_product_name_ingredients_text_brands_tags__660', 'emb_product_name_ingredients_text_brands_tags__73', 'emb_product_name_ingredients_text_brands_tags__662', 'emb_product_name_ingredients_text_brands_tags__713', 'emb_product_name_ingredients_text_brands_tags__756', 'emb_product_name_ingredients_text_brands_tags__295', 'emb_product_name_ingredients_text_brands_tags__491', 'emb_product_name_ingredients_text_brands_tags__76', 'emb_product_name_ingredients_text_brands_tags__499', 'emb_product_name_ingredients_text_brands_tags__695', 'emb_product_name_ingredients_text_brands_tags__654', 'emb_product_name_ingredients_text_brands_tags__156', 'emb_product_name_ingredients_text_brands_tags__366', 'emb_product_name_ingredients_text_brands_tags__423', 'emb_product_name_ingredients_text_brands_tags__700', 'emb_product_name_ingredients_text_brands_tags__239', 'emb_product_name_ingredients_text_brands_tags__490', 'emb_product_name_ingredients_text_brands_tags__562', 'emb_product_name_ingredients_text_brands_tags__58', 'emb_product_name_ingredients_text_brands_tags__122', 'emb_product_name_ingredients_text_brands_tags__237', 'emb_product_name_ingredients_text_brands_tags__305', 'emb_product_name_ingredients_text_brands_tags__124', 'emb_product_name_ingredients_text_brands_tags__241', 'emb_product_name_ingredients_text_brands_tags__437', 'emb_product_name_ingredients_text_brands_tags__619', 'emb_product_name_ingredients_text_brands_tags__518', 'emb_product_name_ingredients_text_brands_tags__175', 'emb_product_name_ingredients_text_brands_tags__410', 'emb_product_name_ingredients_text_brands_tags__322', 'emb_product_name_ingredients_text_brands_tags__555', 'emb_product_name_ingredients_text_brands_tags__36', 'emb_product_name_ingredients_text_brands_tags__143', 'emb_product_name_ingredients_text_brands_tags__438', 'emb_product_name_ingredients_text_brands_tags__166', 'emb_product_name_ingredients_text_brands_tags__37', 'emb_product_name_ingredients_text_brands_tags__107', 'emb_product_name_ingredients_text_brands_tags__390', 'emb_product_name_ingredients_text_brands_tags__378', 'emb_product_name_ingredients_text_brands_tags__591', 'emb_product_name_ingredients_text_brands_tags__420', 'emb_product_name_ingredients_text_brands_tags__195', 'emb_product_name_ingredients_text_brands_tags__389', 'emb_product_name_ingredients_text_brands_tags__645', 'emb_product_name_ingredients_text_brands_tags__486', 'emb_product_name_ingredients_text_brands_tags__395', 'emb_product_name_ingredients_text_brands_tags__733', 'diff_t', 'emb_product_name_ingredients_text_brands_tags__145', 'emb_product_name_ingredients_text_brands_tags__282', 'emb_product_name_ingredients_text_brands_tags__505', 'emb_product_name_ingredients_text_brands_tags__297', 'emb_product_name_ingredients_text_brands_tags__14', 'emb_product_name_ingredients_text_brands_tags__593', 'emb_product_name_ingredients_text_brands_tags__350', 'emb_product_name_ingredients_text_brands_tags__524', 'emb_product_name_ingredients_text_brands_tags__535', 'emb_product_name_ingredients_text_brands_tags__48', 'emb_product_name_ingredients_text_brands_tags__620', 'emb_product_name_ingredients_text_brands_tags__509', 'emb_product_name_ingredients_text_brands_tags__223', 'emb_product_name_ingredients_text_brands_tags__257', 'emb_product_name_ingredients_text_brands_tags__96', 'emb_product_name_ingredients_text_brands_tags__205', 'emb_product_name_ingredients_text_brands_tags__193', 'emb_product_name_ingredients_text_brands_tags__656', 'emb_product_name_ingredients_text_brands_tags__57', 'emb_product_name_ingredients_text_brands_tags__612', 'emb_product_name_ingredients_text_brands_tags__230', 'emb_product_name_ingredients_text_brands_tags__675', 'emb_product_name_ingredients_text_brands_tags__474', 'emb_product_name_ingredients_text_brands_tags__285', 'emb_product_name_ingredients_text_brands_tags__265', 'emb_product_name_ingredients_text_brands_tags__262', 'emb_product_name_ingredients_text_brands_tags__69', 'emb_product_name_ingredients_text_brands_tags__344', 'emb_product_name_ingredients_text_brands_tags__379', 'emb_product_name_ingredients_text_brands_tags__529', 'emb_product_name_ingredients_text_brands_tags__636', 'emb_product_name_ingredients_text_brands_tags__126', 'emb_product_name_ingredients_text_brands_tags__330', 'emb_product_name_ingredients_text_brands_tags__276', 'emb_product_name_ingredients_text_brands_tags__271', 'emb_product_name_ingredients_text_brands_tags__75', 'emb_product_name_ingredients_text_brands_tags__430', 'emb_product_name_ingredients_text_brands_tags__13', 'emb_product_name_ingredients_text_brands_tags__659', 'emb_product_name_ingredients_text_brands_tags__570', 'emb_product_name_ingredients_text_brands_tags__676', 'emb_product_name_ingredients_text_brands_tags__513', 'emb_product_name_ingredients_text_brands_tags__17', 'emb_product_name_ingredients_text_brands_tags__685', 'emb_product_name_ingredients_text_brands_tags__291', 'emb_product_name_ingredients_text_brands_tags__4', 'emb_product_name_ingredients_text_brands_tags__554', 'emb_product_name_ingredients_text_brands_tags__12', 'emb_product_name_ingredients_text_brands_tags__254', 'emb_product_name_ingredients_text_brands_tags__469', 'emb_product_name_ingredients_text_brands_tags__21', 'emb_product_name_ingredients_text_brands_tags__80', 'emb_product_name_ingredients_text_brands_tags__608', 'emb_product_name_ingredients_text_brands_tags__372', 'emb_product_name_ingredients_text_brands_tags__396', 'emb_product_name_ingredients_text_brands_tags__78', 'emb_product_name_ingredients_text_brands_tags__206', 'emb_product_name_ingredients_text_brands_tags__65', 'emb_product_name_ingredients_text_brands_tags__303', 'emb_product_name_ingredients_text_brands_tags__361', 'emb_product_name_ingredients_text_brands_tags__375', 'emb_product_name_ingredients_text_brands_tags__448', 'emb_product_name_ingredients_text_brands_tags__462', 'emb_product_name_ingredients_text_brands_tags__217', 'emb_product_name_ingredients_text_brands_tags__253', 'emb_product_name_ingredients_text_brands_tags__597', 'emb_product_name_ingredients_text_brands_tags__504', 'emb_product_name_ingredients_text_brands_tags__102', 'emb_product_name_ingredients_text_brands_tags__211', 'emb_product_name_ingredients_text_brands_tags__674', 'emb_product_name_ingredients_text_brands_tags__373', 'emb_product_name_ingredients_text_brands_tags__157', 'emb_product_name_ingredients_text_brands_tags__433', 'emb_product_name_ingredients_text_brands_tags__416', 'emb_product_name_ingredients_text_brands_tags__631', 'emb_product_name_ingredients_text_brands_tags__427', 'emb_product_name_ingredients_text_brands_tags__696', 'emb_product_name_ingredients_text_brands_tags__313', 'emb_product_name_ingredients_text_brands_tags__194', 'emb_product_name_ingredients_text_brands_tags__520', 'emb_product_name_ingredients_text_brands_tags__624', 'emb_product_name_ingredients_text_brands_tags__765', 'emb_product_name_ingredients_text_brands_tags__339', 'emb_product_name_ingredients_text_brands_tags__424', 'emb_product_name_ingredients_text_brands_tags__55', 'emb_product_name_ingredients_text_brands_tags__228', 'emb_product_name_ingredients_text_brands_tags__630', 'emb_product_name_ingredients_text_brands_tags__661', 'emb_product_name_ingredients_text_brands_tags__632', 'emb_product_name_ingredients_text_brands_tags__103', 'emb_product_name_ingredients_text_brands_tags__162', 'emb_product_name_ingredients_text_brands_tags__38', 'emb_product_name_ingredients_text_brands_tags__188', 'emb_product_name_ingredients_text_brands_tags__401', 'emb_product_name_ingredients_text_brands_tags__587', 'emb_product_name_ingredients_text_brands_tags__615', 'emb_product_name_ingredients_text_brands_tags__609', 'emb_product_name_ingredients_text_brands_tags__216', 'emb_product_name_ingredients_text_brands_tags__207', 'emb_product_name_ingredients_text_brands_tags__112', 'emb_product_name_ingredients_text_brands_tags__470', 'emb_product_name_ingredients_text_brands_tags__726', 'emb_product_name_ingredients_text_brands_tags__119', 'emb_product_name_ingredients_text_brands_tags__521', 'emb_product_name_ingredients_text_brands_tags__740', 'emb_product_name_ingredients_text_brands_tags__519', 'emb_product_name_ingredients_text_brands_tags__99', 'emb_product_name_ingredients_text_brands_tags__83', 'emb_product_name_ingredients_text_brands_tags__87', 'emb_product_name_ingredients_text_brands_tags__413', 'emb_product_name_ingredients_text_brands_tags__623', 'emb_product_name_ingredients_text_brands_tags__712', 'emb_product_name_ingredients_text_brands_tags__232', 'emb_product_name_ingredients_text_brands_tags__40', 'emb_product_name_ingredients_text_brands_tags__411', 'emb_product_name_ingredients_text_brands_tags__585', 'emb_product_name_ingredients_text_brands_tags__351', 'emb_product_name_ingredients_text_brands_tags__120', 'emb_product_name_ingredients_text_brands_tags__28', 'emb_product_name_ingredients_text_brands_tags__477', 'emb_product_name_ingredients_text_brands_tags__701', 'emb_product_name_ingredients_text_brands_tags__290', 'emb_product_name_ingredients_text_brands_tags__443', 'emb_product_name_ingredients_text_brands_tags__541', 'emb_product_name_ingredients_text_brands_tags__710', 'emb_product_name_ingredients_text_brands_tags__0', 'emb_product_name_ingredients_text_brands_tags__412', 'emb_product_name_ingredients_text_brands_tags__310', 'emb_product_name_ingredients_text_brands_tags__487', 'emb_product_name_ingredients_text_brands_tags__582', 'emb_product_name_ingredients_text_brands_tags__603', 'emb_product_name_ingredients_text_brands_tags__342', 'emb_product_name_ingredients_text_brands_tags__426', 'emb_product_name_ingredients_text_brands_tags__653', 'emb_product_name_ingredients_text_brands_tags__209', 'emb_product_name_ingredients_text_brands_tags__214', 'emb_product_name_ingredients_text_brands_tags__251', 'emb_product_name_ingredients_text_brands_tags__377', 'emb_product_name_ingredients_text_brands_tags__208', 'emb_product_name_ingredients_text_brands_tags__588', 'emb_product_name_ingredients_text_brands_tags__180', 'emb_product_name_ingredients_text_brands_tags__41', 'emb_product_name_ingredients_text_brands_tags__304', 'emb_product_name_ingredients_text_brands_tags__667', 'emb_product_name_ingredients_text_brands_tags__414', 'emb_product_name_ingredients_text_brands_tags__260', 'emb_product_name_ingredients_text_brands_tags__349', 'emb_product_name_ingredients_text_brands_tags__183', 'emb_product_name_ingredients_text_brands_tags__496', 'emb_product_name_ingredients_text_brands_tags__287', 'emb_product_name_ingredients_text_brands_tags__751', 'emb_product_name_ingredients_text_brands_tags__737', 'emb_product_name_ingredients_text_brands_tags__161', 'emb_product_name_ingredients_text_brands_tags__655', 'emb_product_name_ingredients_text_brands_tags__35', 'emb_product_name_ingredients_text_brands_tags__177', 'emb_product_name_ingredients_text_brands_tags__538', 'emb_product_name_ingredients_text_brands_tags__545', 'emb_product_name_ingredients_text_brands_tags__346', 'emb_product_name_ingredients_text_brands_tags__81', 'emb_product_name_ingredients_text_brands_tags__466', 'emb_product_name_ingredients_text_brands_tags__201', 'emb_product_name_ingredients_text_brands_tags__657', 'emb_product_name_ingredients_text_brands_tags__116', 'emb_product_name_ingredients_text_brands_tags__331', 'emb_product_name_ingredients_text_brands_tags__255', 'emb_product_name_ingredients_text_brands_tags__449', 'emb_product_name_ingredients_text_brands_tags__484', 'emb_product_name_ingredients_text_brands_tags__153', 'emb_product_name_ingredients_text_brands_tags__289', 'emb_product_name_ingredients_text_brands_tags__33', 'emb_product_name_ingredients_text_brands_tags__610', 'emb_product_name_ingredients_text_brands_tags__133', 'emb_product_name_ingredients_text_brands_tags__8', 'emb_product_name_ingredients_text_brands_tags__480', 'emb_product_name_ingredients_text_brands_tags__218', 'emb_product_name_ingredients_text_brands_tags__559', 'emb_product_name_ingredients_text_brands_tags__586', 'emb_product_name_ingredients_text_brands_tags__317', 'emb_product_name_ingredients_text_brands_tags__699', 'emb_product_name_ingredients_text_brands_tags__704', 'emb_product_name_ingredients_text_brands_tags__63', 'emb_product_name_ingredients_text_brands_tags__23', 'emb_product_name_ingredients_text_brands_tags__319', 'emb_product_name_ingredients_text_brands_tags__332', 'emb_product_name_ingredients_text_brands_tags__482', 'emb_product_name_ingredients_text_brands_tags__500', 'emb_product_name_ingredients_text_brands_tags__185', 'emb_product_name_ingredients_text_brands_tags__226', 'emb_product_name_ingredients_text_brands_tags__16', 'emb_product_name_ingredients_text_brands_tags__376', 'emb_product_name_ingredients_text_brands_tags__447', 'emb_product_name_ingredients_text_brands_tags__343', 'emb_product_name_ingredients_text_brands_tags__607', 'emb_product_name_ingredients_text_brands_tags__203', 'emb_product_name_ingredients_text_brands_tags__552', 'emb_product_name_ingredients_text_brands_tags__525', 'emb_product_name_ingredients_text_brands_tags__67', 'emb_product_name_ingredients_text_brands_tags__227', 'emb_product_name_ingredients_text_brands_tags__95', 'emb_product_name_ingredients_text_brands_tags__178', 'emb_product_name_ingredients_text_brands_tags__422', 'emb_product_name_ingredients_text_brands_tags__7', 'emb_product_name_ingredients_text_brands_tags__144', 'emb_product_name_ingredients_text_brands_tags__363', 'emb_product_name_ingredients_text_brands_tags__648', 'emb_product_name_ingredients_text_brands_tags__494', 'emb_product_name_ingredients_text_brands_tags__576', 'emb_product_name_ingredients_text_brands_tags__386', 'emb_product_name_ingredients_text_brands_tags__219', 'emb_product_name_ingredients_text_brands_tags__568', 'emb_product_name_ingredients_text_brands_tags__580', 'emb_product_name_ingredients_text_brands_tags__589', 'emb_product_name_ingredients_text_brands_tags__129', 'emb_product_name_ingredients_text_brands_tags__277', 'emb_product_name_ingredients_text_brands_tags__516', 'emb_product_name_ingredients_text_brands_tags__19', 'emb_product_name_ingredients_text_brands_tags__382', 'emb_product_name_ingredients_text_brands_tags__749', 'emb_product_name_ingredients_text_brands_tags__224', 'emb_product_name_ingredients_text_brands_tags__236', 'emb_product_name_ingredients_text_brands_tags__380', 'emb_product_name_ingredients_text_brands_tags__6', 'emb_product_name_ingredients_text_brands_tags__160', 'emb_product_name_ingredients_text_brands_tags__579', 'emb_product_name_ingredients_text_brands_tags__18', 'emb_product_name_ingredients_text_brands_tags__381', 'emb_product_name_ingredients_text_brands_tags__110', 'emb_product_name_ingredients_text_brands_tags__182', 'emb_product_name_ingredients_text_brands_tags__595', 'emb_product_name_ingredients_text_brands_tags__165', 'emb_product_name_ingredients_text_brands_tags__398', 'emb_product_name_ingredients_text_brands_tags__459', 'emb_product_name_ingredients_text_brands_tags__455', 'emb_product_name_ingredients_text_brands_tags__131', 'emb_product_name_ingredients_text_brands_tags__421', 'emb_product_name_ingredients_text_brands_tags__392', 'emb_product_name_ingredients_text_brands_tags__10', 'emb_product_name_ingredients_text_brands_tags__627', 'emb_product_name_ingredients_text_brands_tags__284', 'emb_product_name_ingredients_text_brands_tags__306', 'emb_product_name_ingredients_text_brands_tags__683', 'emb_product_name_ingredients_text_brands_tags__86', 'emb_product_name_ingredients_text_brands_tags__252', 'emb_product_name_ingredients_text_brands_tags__240', 'emb_product_name_ingredients_text_brands_tags__34', 'emb_product_name_ingredients_text_brands_tags__479', 'emb_product_name_ingredients_text_brands_tags__150', 'emb_product_name_ingredients_text_brands_tags__104', 'emb_product_name_ingredients_text_brands_tags__628', 'emb_product_name_ingredients_text_brands_tags__172', 'emb_product_name_ingredients_text_brands_tags__49', 'emb_product_name_ingredients_text_brands_tags__640', 'emb_product_name_ingredients_text_brands_tags__673', 'emb_product_name_ingredients_text_brands_tags__400', 'emb_product_name_ingredients_text_brands_tags__353', 'emb_product_name_ingredients_text_brands_tags__760', 'emb_product_name_ingredients_text_brands_tags__325', 'emb_product_name_ingredients_text_brands_tags__596', 'emb_product_name_ingredients_text_brands_tags__312', 'emb_product_name_ingredients_text_brands_tags__167', 'emb_product_name_ingredients_text_brands_tags__187', 'emb_product_name_ingredients_text_brands_tags__734', 'emb_product_name_ingredients_text_brands_tags__606', 'emb_product_name_ingredients_text_brands_tags__337', 'emb_product_name_ingredients_text_brands_tags__745', 'emb_product_name_ingredients_text_brands_tags__164', 'emb_product_name_ingredients_text_brands_tags__134', 'emb_product_name_ingredients_text_brands_tags__258', 'emb_product_name_ingredients_text_brands_tags__85', 'emb_product_name_ingredients_text_brands_tags__123', 'emb_product_name_ingredients_text_brands_tags__3', 'emb_product_name_ingredients_text_brands_tags__163', 'emb_product_name_ingredients_text_brands_tags__481', 'emb_product_name_ingredients_text_brands_tags__641', 'emb_product_name_ingredients_text_brands_tags__336', 'emb_product_name_ingredients_text_brands_tags__755', 'ingredients_from_palm_oil_n', 'emb_product_name_ingredients_text_brands_tags__472', 'emb_product_name_ingredients_text_brands_tags__465', 'emb_product_name_ingredients_text_brands_tags__263', 'emb_product_name_ingredients_text_brands_tags__406', 'emb_product_name_ingredients_text_brands_tags__31', 'emb_product_name_ingredients_text_brands_tags__97', 'emb_product_name_ingredients_text_brands_tags__128', 'emb_product_name_ingredients_text_brands_tags__308', 'emb_product_name_ingredients_text_brands_tags__367', 'emb_product_name_ingredients_text_brands_tags__440', 'emb_product_name_ingredients_text_brands_tags__571', 'emb_product_name_ingredients_text_brands_tags__539', 'emb_product_name_ingredients_text_brands_tags__598', 'emb_product_name_ingredients_text_brands_tags__118', 'emb_product_name_ingredients_text_brands_tags__235', 'emb_product_name_ingredients_text_brands_tags__575', 'emb_product_name_ingredients_text_brands_tags__50', 'emb_product_name_ingredients_text_brands_tags__508', 'emb_product_name_ingredients_text_brands_tags__415', 'emb_product_name_ingredients_text_brands_tags__250', 'emb_product_name_ingredients_text_brands_tags__115', 'emb_product_name_ingredients_text_brands_tags__688', 'emb_product_name_ingredients_text_brands_tags__669', 'emb_product_name_ingredients_text_brands_tags__429', 'emb_product_name_ingredients_text_brands_tags__530', 'emb_product_name_ingredients_text_brands_tags__561', 'emb_product_name_ingredients_text_brands_tags__139', 'emb_product_name_ingredients_text_brands_tags__90', 'emb_product_name_ingredients_text_brands_tags__302', 'emb_product_name_ingredients_text_brands_tags__583', 'emb_product_name_ingredients_text_brands_tags__754', 'emb_product_name_ingredients_text_brands_tags__604', 'emb_product_name_ingredients_text_brands_tags__542', 'emb_product_name_ingredients_text_brands_tags__616', 'emb_product_name_ingredients_text_brands_tags__536', 'emb_product_name_ingredients_text_brands_tags__681', 'emb_product_name_ingredients_text_brands_tags__71', 'emb_product_name_ingredients_text_brands_tags__759', 'emb_product_name_ingredients_text_brands_tags__702', 'emb_product_name_ingredients_text_brands_tags__461', 'emb_product_name_ingredients_text_brands_tags__643', 'emb_product_name_ingredients_text_brands_tags__722', 'emb_product_name_ingredients_text_brands_tags__318', 'emb_product_name_ingredients_text_brands_tags__374', 'emb_product_name_ingredients_text_brands_tags__334', 'emb_product_name_ingredients_text_brands_tags__578', 'emb_product_name_ingredients_text_brands_tags__212', 'emb_product_name_ingredients_text_brands_tags__690', 'emb_product_name_ingredients_text_brands_tags__181', 'emb_product_name_ingredients_text_brands_tags__729', 'emb_product_name_ingredients_text_brands_tags__358', 'emb_product_name_ingredients_text_brands_tags__333', 'emb_product_name_ingredients_text_brands_tags__362', 'emb_product_name_ingredients_text_brands_tags__435', 'emb_product_name_ingredients_text_brands_tags__649', 'emb_product_name_ingredients_text_brands_tags__272', 'emb_product_name_ingredients_text_brands_tags__463', 'emb_product_name_ingredients_text_brands_tags__473', 'emb_product_name_ingredients_text_brands_tags__151', 'emb_product_name_ingredients_text_brands_tags__478', 'emb_product_name_ingredients_text_brands_tags__340', 'emb_product_name_ingredients_text_brands_tags__355', 'emb_product_name_ingredients_text_brands_tags__269', 'emb_product_name_ingredients_text_brands_tags__256', 'emb_product_name_ingredients_text_brands_tags__354', 'emb_product_name_ingredients_text_brands_tags__736', 'emb_product_name_ingredients_text_brands_tags__488', 'emb_product_name_ingredients_text_brands_tags__618', 'emb_product_name_ingredients_text_brands_tags__44', 'emb_product_name_ingredients_text_brands_tags__458', 'emb_product_name_ingredients_text_brands_tags__724', 'emb_product_name_ingredients_text_brands_tags__15', 'emb_product_name_ingredients_text_brands_tags__222', 'emb_product_name_ingredients_text_brands_tags__540', 'emb_product_name_ingredients_text_brands_tags__503', 'emb_product_name_ingredients_text_brands_tags__549', 'emb_product_name_ingredients_text_brands_tags__613', 'emb_product_name_ingredients_text_brands_tags__100', 'emb_product_name_ingredients_text_brands_tags__601', 'emb_product_name_ingredients_text_brands_tags__658', 'emb_product_name_ingredients_text_brands_tags__728', 'emb_product_name_ingredients_text_brands_tags__633', 'emb_product_name_ingredients_text_brands_tags__158', 'emb_product_name_ingredients_text_brands_tags__60', 'emb_product_name_ingredients_text_brands_tags__314', 'emb_product_name_ingredients_text_brands_tags__20', 'emb_product_name_ingredients_text_brands_tags__197', 'emb_product_name_ingredients_text_brands_tags__418', 'emb_product_name_ingredients_text_brands_tags__590', 'emb_product_name_ingredients_text_brands_tags__647', 'emb_product_name_ingredients_text_brands_tags__105', 'emb_product_name_ingredients_text_brands_tags__273', 'emb_product_name_ingredients_text_brands_tags__671', 'emb_product_name_ingredients_text_brands_tags__739', 'emb_product_name_ingredients_text_brands_tags__741', 'emb_product_name_ingredients_text_brands_tags__452', 'emb_product_name_ingredients_text_brands_tags__148', 'emb_product_name_ingredients_text_brands_tags__663', 'emb_product_name_ingredients_text_brands_tags__32', 'emb_product_name_ingredients_text_brands_tags__238', 'emb_product_name_ingredients_text_brands_tags__9', 'emb_product_name_ingredients_text_brands_tags__548', 'emb_product_name_ingredients_text_brands_tags__360', 'emb_product_name_ingredients_text_brands_tags__592', 'emb_product_name_ingredients_text_brands_tags__697', 'emb_product_name_ingredients_text_brands_tags__328', 'emb_product_name_ingredients_text_brands_tags__70', 'emb_product_name_ingredients_text_brands_tags__281', 'emb_product_name_ingredients_text_brands_tags__113', 'emb_product_name_ingredients_text_brands_tags__735', 'emb_product_name_ingredients_text_brands_tags__672', 'emb_product_name_ingredients_text_brands_tags__39', 'emb_product_name_ingredients_text_brands_tags__457', 'emb_product_name_ingredients_text_brands_tags__399', 'emb_product_name_ingredients_text_brands_tags__405', 'emb_product_name_ingredients_text_brands_tags__705', 'emb_product_name_ingredients_text_brands_tags__744', 'emb_product_name_ingredients_text_brands_tags__341', 'emb_product_name_ingredients_text_brands_tags__234', 'emb_product_name_ingredients_text_brands_tags__93', 'emb_product_name_ingredients_text_brands_tags__564', 'emb_product_name_ingredients_text_brands_tags__680', 'emb_product_name_ingredients_text_brands_tags__365', 'emb_product_name_ingredients_text_brands_tags__732', 'emb_product_name_ingredients_text_brands_tags__442', 'emb_product_name_ingredients_text_brands_tags__693', 'emb_product_name_ingredients_text_brands_tags__553', 'emb_product_name_ingredients_text_brands_tags__560', 'emb_product_name_ingredients_text_brands_tags__551', 'emb_product_name_ingredients_text_brands_tags__106', 'emb_product_name_ingredients_text_brands_tags__706', 'emb_product_name_ingredients_text_brands_tags__121', 'emb_product_name_ingredients_text_brands_tags__602', 'emb_product_name_ingredients_text_brands_tags__714', 'emb_product_name_ingredients_text_brands_tags__431', 'emb_product_name_ingredients_text_brands_tags__534', 'emb_product_name_ingredients_text_brands_tags__371', 'emb_product_name_ingredients_text_brands_tags__283', 'emb_product_name_ingredients_text_brands_tags__515', 'emb_product_name_ingredients_text_brands_tags__179', 'emb_product_name_ingredients_text_brands_tags__369', 'emb_product_name_ingredients_text_brands_tags__664', 'emb_product_name_ingredients_text_brands_tags__25', 'emb_product_name_ingredients_text_brands_tags__114', 'emb_product_name_ingredients_text_brands_tags__176', 'emb_product_name_ingredients_text_brands_tags__52', 'emb_product_name_ingredients_text_brands_tags__611', 'emb_product_name_ingredients_text_brands_tags__453', 'emb_product_name_ingredients_text_brands_tags__454', 'emb_product_name_ingredients_text_brands_tags__694', 'emb_product_name_ingredients_text_brands_tags__259', 'emb_product_name_ingredients_text_brands_tags__599', 'emb_product_name_ingredients_text_brands_tags__517', 'emb_product_name_ingredients_text_brands_tags__213', 'emb_product_name_ingredients_text_brands_tags__279', 'emb_product_name_ingredients_text_brands_tags__432', 'emb_product_name_ingredients_text_brands_tags__199', 'emb_product_name_ingredients_text_brands_tags__309', 'emb_product_name_ingredients_text_brands_tags__634', 'emb_product_name_ingredients_text_brands_tags__196', 'emb_product_name_ingredients_text_brands_tags__204', 'emb_product_name_ingredients_text_brands_tags__280', 'emb_product_name_ingredients_text_brands_tags__403', 'emb_product_name_ingredients_text_brands_tags__502', 'emb_product_name_ingredients_text_brands_tags__387', 'emb_product_name_ingredients_text_brands_tags__335', 'emb_product_name_ingredients_text_brands_tags__146', 'emb_product_name_ingredients_text_brands_tags__82', 'emb_product_name_ingredients_text_brands_tags__77', 'emb_product_name_ingredients_text_brands_tags__338', 'emb_product_name_ingredients_text_brands_tags__320', 'emb_product_name_ingredients_text_brands_tags__345', 'emb_product_name_ingredients_text_brands_tags__26', 'emb_product_name_ingredients_text_brands_tags__692', 'emb_product_name_ingredients_text_brands_tags__614', 'emb_product_name_ingredients_text_brands_tags__89', 'emb_product_name_ingredients_text_brands_tags__689', 'emb_product_name_ingredients_text_brands_tags__246', 'emb_product_name_ingredients_text_brands_tags__127', 'emb_product_name_ingredients_text_brands_tags__357', 'emb_product_name_ingredients_text_brands_tags__200', 'emb_product_name_ingredients_text_brands_tags__92', 'emb_product_name_ingredients_text_brands_tags__159', 'emb_product_name_ingredients_text_brands_tags__651', 'emb_product_name_ingredients_text_brands_tags__327', 'emb_product_name_ingredients_text_brands_tags__495', 'emb_product_name_ingredients_text_brands_tags__359', 'emb_product_name_ingredients_text_brands_tags__137', 'emb_product_name_ingredients_text_brands_tags__625', 'emb_product_name_ingredients_text_brands_tags__670', 'emb_product_name_ingredients_text_brands_tags__84', 'emb_product_name_ingredients_text_brands_tags__266', 'emb_product_name_ingredients_text_brands_tags__347', 'emb_product_name_ingredients_text_brands_tags__220', 'emb_product_name_ingredients_text_brands_tags__556', 'emb_product_name_ingredients_text_brands_tags__191', 'emb_product_name_ingredients_text_brands_tags__385', 'emb_product_name_ingredients_text_brands_tags__68', 'emb_product_name_ingredients_text_brands_tags__528', 'emb_product_name_ingredients_text_brands_tags__646', 'emb_product_name_ingredients_text_brands_tags__682', 'emb_product_name_ingredients_text_brands_tags__748', 'emb_product_name_ingredients_text_brands_tags__261', 'emb_product_name_ingredients_text_brands_tags__644', 'emb_product_name_ingredients_text_brands_tags__567', 'emb_product_name_ingredients_text_brands_tags__294', 'emb_product_name_ingredients_text_brands_tags__708', 'emb_product_name_ingredients_text_brands_tags__348', 'emb_product_name_ingredients_text_brands_tags__574', 'emb_product_name_ingredients_text_brands_tags__47', 'emb_product_name_ingredients_text_brands_tags__198', 'emb_product_name_ingredients_text_brands_tags__79', 'emb_product_name_ingredients_text_brands_tags__558', 'emb_product_name_ingredients_text_brands_tags__441', 'emb_product_name_ingredients_text_brands_tags__109', 'emb_product_name_ingredients_text_brands_tags__687', 'emb_product_name_ingredients_text_brands_tags__707', 'additives_n', 'emb_product_name_ingredients_text_brands_tags__577', 'emb_product_name_ingredients_text_brands_tags__758', 'emb_product_name_ingredients_text_brands_tags__91', 'emb_product_name_ingredients_text_brands_tags__460', 'emb_product_name_ingredients_text_brands_tags__471', 'emb_product_name_ingredients_text_brands_tags__171', 'emb_product_name_ingredients_text_brands_tags__533', 'emb_product_name_ingredients_text_brands_tags__446', 'emb_product_name_ingredients_text_brands_tags__451', 'emb_product_name_ingredients_text_brands_tags__248', 'emb_product_name_ingredients_text_brands_tags__444', 'emb_product_name_ingredients_text_brands_tags__445', 'emb_product_name_ingredients_text_brands_tags__229', 'emb_product_name_ingredients_text_brands_tags__747', 'emb_product_name_ingredients_text_brands_tags__506', 'emb_product_name_ingredients_text_brands_tags__301', 'emb_product_name_ingredients_text_brands_tags__719', 'emb_product_name_ingredients_text_brands_tags__652', 'emb_product_name_ingredients_text_brands_tags__464', 'emb_product_name_ingredients_text_brands_tags__547', 'emb_product_name_ingredients_text_brands_tags__66', 'emb_product_name_ingredients_text_brands_tags__370', 'emb_product_name_ingredients_text_brands_tags__691', 'emb_product_name_ingredients_text_brands_tags__467', 'emb_product_name_ingredients_text_brands_tags__267', 'emb_product_name_ingredients_text_brands_tags__507', 'emb_product_name_ingredients_text_brands_tags__526', 'emb_product_name_ingredients_text_brands_tags__752', 'emb_product_name_ingredients_text_brands_tags__215', 'emb_product_name_ingredients_text_brands_tags__326', 'emb_product_name_ingredients_text_brands_tags__727', 'emb_product_name_ingredients_text_brands_tags__404', 'emb_product_name_ingredients_text_brands_tags__98', 'ingredients_that_may_be_from_palm_oil_n', 'emb_product_name_ingredients_text_brands_tags__155', 'emb_product_name_ingredients_text_brands_tags__288', 'emb_product_name_ingredients_text_brands_tags__278', 'emb_product_name_ingredients_text_brands_tags__703', 'emb_product_name_ingredients_text_brands_tags__635', 'emb_product_name_ingredients_text_brands_tags__766', 'emb_product_name_ingredients_text_brands_tags__323', 'emb_product_name_ingredients_text_brands_tags__514', 'emb_product_name_ingredients_text_brands_tags__299', 'emb_product_name_ingredients_text_brands_tags__761', 'emb_product_name_ingredients_text_brands_tags__629', 'emb_product_name_ingredients_text_brands_tags__698', 'emb_product_name_ingredients_text_brands_tags__125', 'emb_product_name_ingredients_text_brands_tags__202', 'emb_product_name_ingredients_text_brands_tags__511', 'emb_product_name_ingredients_text_brands_tags__74', 'emb_product_name_ingredients_text_brands_tags__62', 'emb_product_name_ingredients_text_brands_tags__419', 'emb_product_name_ingredients_text_brands_tags__88', 'emb_product_name_ingredients_text_brands_tags__352', 'emb_product_name_ingredients_text_brands_tags__621', 'emb_product_name_ingredients_text_brands_tags__22', 'emb_product_name_ingredients_text_brands_tags__650', 'emb_product_name_ingredients_text_brands_tags__764', 'emb_product_name_ingredients_text_brands_tags__642', 'emb_product_name_ingredients_text_brands_tags__286', 'emb_product_name_ingredients_text_brands_tags__111', 'emb_product_name_ingredients_text_brands_tags__368', 'emb_product_name_ingredients_text_brands_tags__731', 'emb_product_name_ingredients_text_brands_tags__316', 'emb_product_name_ingredients_text_brands_tags__723', 'emb_product_name_ingredients_text_brands_tags__439', 'emb_product_name_ingredients_text_brands_tags__51', 'emb_product_name_ingredients_text_brands_tags__456', 'emb_product_name_ingredients_text_brands_tags__168', 'emb_product_name_ingredients_text_brands_tags__767', 'emb_product_name_ingredients_text_brands_tags__174', 'emb_product_name_ingredients_text_brands_tags__709', 'emb_product_name_ingredients_text_brands_tags__537', 'emb_product_name_ingredients_text_brands_tags__510', 'emb_product_name_ingredients_text_brands_tags__233', 'emb_product_name_ingredients_text_brands_tags__637', 'emb_product_name_ingredients_text_brands_tags__142', 'emb_product_name_ingredients_text_brands_tags__53', 'emb_product_name_ingredients_text_brands_tags__397', 'emb_product_name_ingredients_text_brands_tags__600', 'emb_product_name_ingredients_text_brands_tags__569', 'emb_product_name_ingredients_text_brands_tags__605', 'emb_product_name_ingredients_text_brands_tags__428', 'emb_product_name_ingredients_text_brands_tags__170', 'emb_product_name_ingredients_text_brands_tags__468', 'emb_product_name_ingredients_text_brands_tags__512', 'emb_product_name_ingredients_text_brands_tags__668', 'emb_product_name_ingredients_text_brands_tags__725', 'emb_product_name_ingredients_text_brands_tags__720', 'emb_product_name_ingredients_text_brands_tags__54', 'emb_product_name_ingredients_text_brands_tags__46', 'emb_product_name_ingredients_text_brands_tags__626', 'emb_product_name_ingredients_text_brands_tags__275', 'emb_product_name_ingredients_text_brands_tags__417', 'emb_product_name_ingredients_text_brands_tags__544', 'emb_product_name_ingredients_text_brands_tags__249', 'emb_product_name_ingredients_text_brands_tags__190', 'emb_product_name_ingredients_text_brands_tags__718', 'emb_product_name_ingredients_text_brands_tags__639', 'emb_product_name_ingredients_text_brands_tags__388', 'emb_product_name_ingredients_text_brands_tags__292', 'emb_product_name_ingredients_text_brands_tags__186', 'emb_product_name_ingredients_text_brands_tags__622', 'emb_product_name_ingredients_text_brands_tags__152', 'emb_product_name_ingredients_text_brands_tags__244', 'emb_product_name_ingredients_text_brands_tags__242', 'emb_product_name_ingredients_text_brands_tags__566', 'emb_product_name_ingredients_text_brands_tags__523', 'emb_product_name_ingredients_text_brands_tags__522', 'emb_product_name_ingredients_text_brands_tags__5', 'emb_product_name_ingredients_text_brands_tags__753', 'emb_product_name_ingredients_text_brands_tags__679', 'emb_product_name_ingredients_text_brands_tags__43', 'emb_product_name_ingredients_text_brands_tags__189', 'emb_product_name_ingredients_text_brands_tags__59', 'emb_product_name_ingredients_text_brands_tags__296', 'emb_product_name_ingredients_text_brands_tags__270', 'emb_product_name_ingredients_text_brands_tags__383', 'emb_product_name_ingredients_text_brands_tags__141', 'emb_product_name_ingredients_text_brands_tags__231', 'emb_product_name_ingredients_text_brands_tags__476', 'emb_product_name_ingredients_text_brands_tags__565', 'emb_product_name_ingredients_text_brands_tags__684', 'emb_product_name_ingredients_text_brands_tags__24', 'emb_product_name_ingredients_text_brands_tags__501', 'emb_product_name_ingredients_text_brands_tags__711', 'emb_product_name_ingredients_text_brands_tags__678', 'emb_product_name_ingredients_text_brands_tags__130', 'emb_product_name_ingredients_text_brands_tags__221', 'emb_product_name_ingredients_text_brands_tags__572', 'emb_product_name_ingredients_text_brands_tags__192', 'emb_product_name_ingredients_text_brands_tags__721', 'emb_product_name_ingredients_text_brands_tags__384', 'emb_product_name_ingredients_text_brands_tags__543', 'emb_product_name_ingredients_text_brands_tags__743', 'emb_product_name_ingredients_text_brands_tags__140', 'emb_product_name_ingredients_text_brands_tags__27', 'emb_product_name_ingredients_text_brands_tags__243', 'emb_product_name_ingredients_text_brands_tags__584', 'emb_product_name_ingredients_text_brands_tags__425', 'emb_product_name_ingredients_text_brands_tags__264', 'emb_product_name_ingredients_text_brands_tags__247', 'emb_product_name_ingredients_text_brands_tags__108', 'emb_product_name_ingredients_text_brands_tags__434', 'emb_product_name_ingredients_text_brands_tags__329', 'emb_product_name_ingredients_text_brands_tags__402', 'emb_product_name_ingredients_text_brands_tags__497', 'emb_product_name_ingredients_text_brands_tags__666', 'emb_product_name_ingredients_text_brands_tags__1', 'emb_product_name_ingredients_text_brands_tags__391', 'emb_product_name_ingredients_text_brands_tags__409', 'emb_product_name_ingredients_text_brands_tags__573', 'emb_product_name_ingredients_text_brands_tags__56', 'emb_product_name_ingredients_text_brands_tags__42', 'emb_product_name_ingredients_text_brands_tags__594', 'emb_product_name_ingredients_text_brands_tags__101', 'emb_product_name_ingredients_text_brands_tags__489', 'emb_product_name_ingredients_text_brands_tags__136', 'emb_product_name_ingredients_text_brands_tags__532', 'emb_product_name_ingredients_text_brands_tags__493', 'emb_product_name_ingredients_text_brands_tags__132', 'emb_product_name_ingredients_text_brands_tags__184', 'emb_product_name_ingredients_text_brands_tags__492', 'emb_product_name_ingredients_text_brands_tags__293', 'emb_product_name_ingredients_text_brands_tags__617', 'emb_product_name_ingredients_text_brands_tags__686', 'emb_product_name_ingredients_text_brands_tags__117', 'emb_product_name_ingredients_text_brands_tags__450', 'emb_product_name_ingredients_text_brands_tags__563', 'emb_product_name_ingredients_text_brands_tags__307', 'emb_product_name_ingredients_text_brands_tags__475', 'emb_product_name_ingredients_text_brands_tags__135', 'emb_product_name_ingredients_text_brands_tags__436', 'emb_product_name_ingredients_text_brands_tags__407', 'emb_product_name_ingredients_text_brands_tags__394', 'emb_product_name_ingredients_text_brands_tags__527', 'emb_product_name_ingredients_text_brands_tags__72', 'emb_product_name_ingredients_text_brands_tags__138', 'emb_product_name_ingredients_text_brands_tags__762', 'emb_product_name_ingredients_text_brands_tags__149', 'emb_product_name_ingredients_text_brands_tags__763', 'emb_product_name_ingredients_text_brands_tags__356', 'emb_product_name_ingredients_text_brands_tags__61', 'emb_product_name_ingredients_text_brands_tags__742', 'emb_product_name_ingredients_text_brands_tags__677', 'emb_product_name_ingredients_text_brands_tags__750', 'emb_product_name_ingredients_text_brands_tags__298', 'emb_product_name_ingredients_text_brands_tags__147', 'emb_product_name_ingredients_text_brands_tags__716', 'emb_product_name_ingredients_text_brands_tags__738', 'emb_product_name_ingredients_text_brands_tags__11', 'emb_product_name_ingredients_text_brands_tags__245', 'emb_product_name_ingredients_text_brands_tags__546', 'emb_product_name_ingredients_text_brands_tags__268', 'emb_product_name_ingredients_text_brands_tags__311', 'emb_product_name_ingredients_text_brands_tags__154', 'emb_product_name_ingredients_text_brands_tags__581', 'label_states_en_brands', 'label_states_en_categories', 'label_states_en_characteristics', 'label_states_en_expiration date', 'label_states_en_general_complete', 'label_states_en_ingredients', 'label_pnns_groups_1', 'label_pnns_groups_2', 'label_states_en_packaging', 'label_states_en_packaging-code-', 'label_states_en_photo_upload', 'label_states_en_photo_validate', 'label_states_en_product name', 'label_states_en_quantity']\n",
      "Cat index: [772, 773, 774, 775, 776, 777, 778, 779, 780, 781, 782, 783, 784, 785]\n",
      "---------- Training fold Nº 4 ----------\n"
     ]
    },
    {
     "name": "stdout",
     "output_type": "stream",
     "text": [
      "[LightGBM] [Warning] Find whitespaces in feature_names, replace with underlines\n",
      "[LightGBM] [Info] Total Bins 196221\n",
      "[LightGBM] [Info] Number of data points in the train set: 81623, number of used features: 786\n"
     ]
    },
    {
     "name": "stderr",
     "output_type": "stream",
     "text": [
      "/usr/local/lib/python3.6/dist-packages/lightgbm/basic.py:1433: UserWarning: Overriding the parameters from Reference Dataset.\n",
      "  _log_warning('Overriding the parameters from Reference Dataset.')\n",
      "/usr/local/lib/python3.6/dist-packages/lightgbm/basic.py:1245: UserWarning: categorical_column in param dict is overridden.\n",
      "  _log_warning('{} in param dict is overridden.'.format(cat_alias))\n"
     ]
    },
    {
     "name": "stdout",
     "output_type": "stream",
     "text": [
      "[LightGBM] [Warning] Find whitespaces in feature_names, replace with underlines\n",
      "[LightGBM] [Info] Start training from score 9.170344\n",
      "Training until validation scores don't improve for 200 rounds\n",
      "[50]\ttraining's rmse: 8.66146\tvalid_1's rmse: 8.66793\n",
      "[100]\ttraining's rmse: 8.32458\tvalid_1's rmse: 8.33943\n",
      "[150]\ttraining's rmse: 8.00703\tvalid_1's rmse: 8.03032\n",
      "[200]\ttraining's rmse: 7.70727\tvalid_1's rmse: 7.73857\n",
      "[250]\ttraining's rmse: 7.42448\tvalid_1's rmse: 7.4632\n",
      "[300]\ttraining's rmse: 7.15818\tvalid_1's rmse: 7.20444\n",
      "[350]\ttraining's rmse: 6.90742\tvalid_1's rmse: 6.96077\n",
      "[400]\ttraining's rmse: 6.67152\tvalid_1's rmse: 6.73206\n",
      "[450]\ttraining's rmse: 6.45009\tvalid_1's rmse: 6.51771\n",
      "[500]\ttraining's rmse: 6.24193\tvalid_1's rmse: 6.31657\n",
      "[550]\ttraining's rmse: 6.04678\tvalid_1's rmse: 6.12846\n",
      "[600]\ttraining's rmse: 5.86383\tvalid_1's rmse: 5.95184\n",
      "[650]\ttraining's rmse: 5.69243\tvalid_1's rmse: 5.78652\n",
      "[700]\ttraining's rmse: 5.53226\tvalid_1's rmse: 5.63254\n",
      "[750]\ttraining's rmse: 5.38252\tvalid_1's rmse: 5.48862\n",
      "[800]\ttraining's rmse: 5.24252\tvalid_1's rmse: 5.3541\n",
      "[850]\ttraining's rmse: 5.1121\tvalid_1's rmse: 5.22926\n",
      "[900]\ttraining's rmse: 4.99038\tvalid_1's rmse: 5.11285\n",
      "[950]\ttraining's rmse: 4.87715\tvalid_1's rmse: 5.00471\n",
      "[1000]\ttraining's rmse: 4.77166\tvalid_1's rmse: 4.90415\n",
      "[1050]\ttraining's rmse: 4.67384\tvalid_1's rmse: 4.81123\n",
      "[1100]\ttraining's rmse: 4.58303\tvalid_1's rmse: 4.72502\n",
      "[1150]\ttraining's rmse: 4.49875\tvalid_1's rmse: 4.64511\n",
      "[1200]\ttraining's rmse: 4.42073\tvalid_1's rmse: 4.57099\n",
      "[1250]\ttraining's rmse: 4.34846\tvalid_1's rmse: 4.50274\n",
      "[1300]\ttraining's rmse: 4.28162\tvalid_1's rmse: 4.43973\n",
      "[1350]\ttraining's rmse: 4.21979\tvalid_1's rmse: 4.38149\n",
      "[1400]\ttraining's rmse: 4.16272\tvalid_1's rmse: 4.32748\n",
      "[1450]\ttraining's rmse: 4.10998\tvalid_1's rmse: 4.27798\n",
      "[1500]\ttraining's rmse: 4.06126\tvalid_1's rmse: 4.23216\n",
      "[1550]\ttraining's rmse: 4.01654\tvalid_1's rmse: 4.19024\n",
      "[1600]\ttraining's rmse: 3.9751\tvalid_1's rmse: 4.15138\n",
      "[1650]\ttraining's rmse: 3.93697\tvalid_1's rmse: 4.11574\n",
      "[1700]\ttraining's rmse: 3.90196\tvalid_1's rmse: 4.08313\n",
      "[1750]\ttraining's rmse: 3.86953\tvalid_1's rmse: 4.05275\n",
      "[1800]\ttraining's rmse: 3.83979\tvalid_1's rmse: 4.02493\n",
      "[1850]\ttraining's rmse: 3.81244\tvalid_1's rmse: 3.99945\n",
      "[1900]\ttraining's rmse: 3.78728\tvalid_1's rmse: 3.97606\n",
      "[1950]\ttraining's rmse: 3.76419\tvalid_1's rmse: 3.95469\n",
      "[2000]\ttraining's rmse: 3.74299\tvalid_1's rmse: 3.93523\n",
      "[2050]\ttraining's rmse: 3.72334\tvalid_1's rmse: 3.91701\n",
      "[2100]\ttraining's rmse: 3.70532\tvalid_1's rmse: 3.90033\n",
      "[2150]\ttraining's rmse: 3.68883\tvalid_1's rmse: 3.88518\n",
      "[2200]\ttraining's rmse: 3.67358\tvalid_1's rmse: 3.87125\n",
      "[2250]\ttraining's rmse: 3.6596\tvalid_1's rmse: 3.85851\n",
      "[2300]\ttraining's rmse: 3.64672\tvalid_1's rmse: 3.84677\n",
      "[2350]\ttraining's rmse: 3.63487\tvalid_1's rmse: 3.83598\n",
      "[2400]\ttraining's rmse: 3.62381\tvalid_1's rmse: 3.82601\n",
      "[2450]\ttraining's rmse: 3.61361\tvalid_1's rmse: 3.81673\n",
      "[2500]\ttraining's rmse: 3.60429\tvalid_1's rmse: 3.80836\n",
      "[2550]\ttraining's rmse: 3.59573\tvalid_1's rmse: 3.8007\n",
      "[2600]\ttraining's rmse: 3.58773\tvalid_1's rmse: 3.79363\n",
      "[2650]\ttraining's rmse: 3.58027\tvalid_1's rmse: 3.78711\n",
      "[2700]\ttraining's rmse: 3.5734\tvalid_1's rmse: 3.78101\n",
      "[2750]\ttraining's rmse: 3.56715\tvalid_1's rmse: 3.77559\n",
      "[2800]\ttraining's rmse: 3.56139\tvalid_1's rmse: 3.77072\n",
      "[2850]\ttraining's rmse: 3.55593\tvalid_1's rmse: 3.766\n",
      "[2900]\ttraining's rmse: 3.55085\tvalid_1's rmse: 3.76164\n",
      "[2950]\ttraining's rmse: 3.54613\tvalid_1's rmse: 3.75762\n",
      "[3000]\ttraining's rmse: 3.54172\tvalid_1's rmse: 3.75401\n",
      "[3050]\ttraining's rmse: 3.53757\tvalid_1's rmse: 3.75058\n",
      "[3100]\ttraining's rmse: 3.53375\tvalid_1's rmse: 3.74741\n",
      "[3150]\ttraining's rmse: 3.53021\tvalid_1's rmse: 3.74458\n",
      "[3200]\ttraining's rmse: 3.52688\tvalid_1's rmse: 3.74193\n",
      "[3250]\ttraining's rmse: 3.52377\tvalid_1's rmse: 3.73946\n",
      "[3300]\ttraining's rmse: 3.52083\tvalid_1's rmse: 3.73722\n",
      "[3350]\ttraining's rmse: 3.51807\tvalid_1's rmse: 3.73517\n",
      "[3400]\ttraining's rmse: 3.51545\tvalid_1's rmse: 3.73326\n",
      "[3450]\ttraining's rmse: 3.51296\tvalid_1's rmse: 3.73134\n",
      "[3500]\ttraining's rmse: 3.51073\tvalid_1's rmse: 3.72981\n",
      "[3550]\ttraining's rmse: 3.50854\tvalid_1's rmse: 3.72824\n",
      "[3600]\ttraining's rmse: 3.50643\tvalid_1's rmse: 3.72673\n",
      "[3650]\ttraining's rmse: 3.5045\tvalid_1's rmse: 3.72543\n",
      "[3700]\ttraining's rmse: 3.50263\tvalid_1's rmse: 3.72414\n",
      "[3750]\ttraining's rmse: 3.50088\tvalid_1's rmse: 3.72293\n",
      "[3800]\ttraining's rmse: 3.49922\tvalid_1's rmse: 3.72189\n",
      "[3850]\ttraining's rmse: 3.49767\tvalid_1's rmse: 3.72096\n",
      "[3900]\ttraining's rmse: 3.49617\tvalid_1's rmse: 3.72012\n",
      "[3950]\ttraining's rmse: 3.49473\tvalid_1's rmse: 3.7193\n",
      "[4000]\ttraining's rmse: 3.49337\tvalid_1's rmse: 3.71855\n",
      "[4050]\ttraining's rmse: 3.49205\tvalid_1's rmse: 3.71784\n",
      "[4100]\ttraining's rmse: 3.4908\tvalid_1's rmse: 3.71722\n",
      "[4150]\ttraining's rmse: 3.48958\tvalid_1's rmse: 3.71664\n",
      "[4200]\ttraining's rmse: 3.48843\tvalid_1's rmse: 3.7161\n",
      "[4250]\ttraining's rmse: 3.4873\tvalid_1's rmse: 3.71557\n",
      "[4300]\ttraining's rmse: 3.48628\tvalid_1's rmse: 3.71515\n",
      "[4350]\ttraining's rmse: 3.48523\tvalid_1's rmse: 3.71471\n",
      "[4400]\ttraining's rmse: 3.48424\tvalid_1's rmse: 3.71436\n",
      "[4450]\ttraining's rmse: 3.48327\tvalid_1's rmse: 3.71399\n",
      "[4500]\ttraining's rmse: 3.48231\tvalid_1's rmse: 3.71372\n",
      "[4550]\ttraining's rmse: 3.48138\tvalid_1's rmse: 3.71342\n",
      "[4600]\ttraining's rmse: 3.48049\tvalid_1's rmse: 3.71314\n",
      "[4650]\ttraining's rmse: 3.47966\tvalid_1's rmse: 3.71298\n",
      "[4700]\ttraining's rmse: 3.4788\tvalid_1's rmse: 3.71267\n",
      "[4750]\ttraining's rmse: 3.47803\tvalid_1's rmse: 3.71247\n",
      "[4800]\ttraining's rmse: 3.4772\tvalid_1's rmse: 3.71224\n",
      "[4850]\ttraining's rmse: 3.47642\tvalid_1's rmse: 3.71205\n",
      "[4900]\ttraining's rmse: 3.47571\tvalid_1's rmse: 3.71202\n",
      "[4950]\ttraining's rmse: 3.47505\tvalid_1's rmse: 3.71194\n",
      "[5000]\ttraining's rmse: 3.47434\tvalid_1's rmse: 3.71181\n",
      "[5050]\ttraining's rmse: 3.47363\tvalid_1's rmse: 3.71174\n",
      "[5100]\ttraining's rmse: 3.473\tvalid_1's rmse: 3.7117\n",
      "[5150]\ttraining's rmse: 3.47235\tvalid_1's rmse: 3.71174\n",
      "[5200]\ttraining's rmse: 3.47172\tvalid_1's rmse: 3.71174\n",
      "[5250]\ttraining's rmse: 3.47111\tvalid_1's rmse: 3.7118\n",
      "[5300]\ttraining's rmse: 3.47051\tvalid_1's rmse: 3.7119\n",
      "Early stopping, best iteration is:\n",
      "[5115]\ttraining's rmse: 3.47279\tvalid_1's rmse: 3.71168\n",
      "Train RMSE: 3.4727896662433033        Valida RMSE: 3.7116796650886377\n",
      "Columns: ['emb_product_name_ingredients_text_brands_tags__557', 'emb_product_name_ingredients_text_brands_tags__730', 'emb_product_name_ingredients_text_brands_tags__746', 'emb_product_name_ingredients_text_brands_tags__2', 'emb_product_name_ingredients_text_brands_tags__638', 'emb_product_name_ingredients_text_brands_tags__393', 'emb_product_name_ingredients_text_brands_tags__315', 'emb_product_name_ingredients_text_brands_tags__550', 'emb_product_name_ingredients_text_brands_tags__717', 'emb_product_name_ingredients_text_brands_tags__757', 'emb_product_name_ingredients_text_brands_tags__324', 'emb_product_name_ingredients_text_brands_tags__64', 'emb_product_name_ingredients_text_brands_tags__45', 'emb_product_name_ingredients_text_brands_tags__274', 'emb_product_name_ingredients_text_brands_tags__498', 'emb_product_name_ingredients_text_brands_tags__173', 'emb_product_name_ingredients_text_brands_tags__715', 'emb_product_name_ingredients_text_brands_tags__210', 'emb_product_name_ingredients_text_brands_tags__364', 'emb_product_name_ingredients_text_brands_tags__169', 'emb_product_name_ingredients_text_brands_tags__300', 'emb_product_name_ingredients_text_brands_tags__29', 'emb_product_name_ingredients_text_brands_tags__94', 'emb_product_name_ingredients_text_brands_tags__225', 'emb_product_name_ingredients_text_brands_tags__531', 'emb_product_name_ingredients_text_brands_tags__665', 'emb_product_name_ingredients_text_brands_tags__30', 'emb_product_name_ingredients_text_brands_tags__483', 'emb_product_name_ingredients_text_brands_tags__321', 'emb_product_name_ingredients_text_brands_tags__408', 'emb_product_name_ingredients_text_brands_tags__485', 'emb_product_name_ingredients_text_brands_tags__660', 'emb_product_name_ingredients_text_brands_tags__73', 'emb_product_name_ingredients_text_brands_tags__662', 'emb_product_name_ingredients_text_brands_tags__713', 'emb_product_name_ingredients_text_brands_tags__756', 'emb_product_name_ingredients_text_brands_tags__295', 'emb_product_name_ingredients_text_brands_tags__491', 'emb_product_name_ingredients_text_brands_tags__76', 'emb_product_name_ingredients_text_brands_tags__499', 'emb_product_name_ingredients_text_brands_tags__695', 'emb_product_name_ingredients_text_brands_tags__654', 'emb_product_name_ingredients_text_brands_tags__156', 'emb_product_name_ingredients_text_brands_tags__366', 'emb_product_name_ingredients_text_brands_tags__423', 'emb_product_name_ingredients_text_brands_tags__700', 'emb_product_name_ingredients_text_brands_tags__239', 'emb_product_name_ingredients_text_brands_tags__490', 'emb_product_name_ingredients_text_brands_tags__562', 'emb_product_name_ingredients_text_brands_tags__58', 'emb_product_name_ingredients_text_brands_tags__122', 'emb_product_name_ingredients_text_brands_tags__237', 'emb_product_name_ingredients_text_brands_tags__305', 'emb_product_name_ingredients_text_brands_tags__124', 'emb_product_name_ingredients_text_brands_tags__241', 'emb_product_name_ingredients_text_brands_tags__437', 'emb_product_name_ingredients_text_brands_tags__619', 'emb_product_name_ingredients_text_brands_tags__518', 'emb_product_name_ingredients_text_brands_tags__175', 'emb_product_name_ingredients_text_brands_tags__410', 'emb_product_name_ingredients_text_brands_tags__322', 'emb_product_name_ingredients_text_brands_tags__555', 'emb_product_name_ingredients_text_brands_tags__36', 'emb_product_name_ingredients_text_brands_tags__143', 'emb_product_name_ingredients_text_brands_tags__438', 'emb_product_name_ingredients_text_brands_tags__166', 'emb_product_name_ingredients_text_brands_tags__37', 'emb_product_name_ingredients_text_brands_tags__107', 'emb_product_name_ingredients_text_brands_tags__390', 'emb_product_name_ingredients_text_brands_tags__378', 'emb_product_name_ingredients_text_brands_tags__591', 'emb_product_name_ingredients_text_brands_tags__420', 'emb_product_name_ingredients_text_brands_tags__195', 'emb_product_name_ingredients_text_brands_tags__389', 'emb_product_name_ingredients_text_brands_tags__645', 'emb_product_name_ingredients_text_brands_tags__486', 'emb_product_name_ingredients_text_brands_tags__395', 'emb_product_name_ingredients_text_brands_tags__733', 'diff_t', 'emb_product_name_ingredients_text_brands_tags__145', 'emb_product_name_ingredients_text_brands_tags__282', 'emb_product_name_ingredients_text_brands_tags__505', 'emb_product_name_ingredients_text_brands_tags__297', 'emb_product_name_ingredients_text_brands_tags__14', 'emb_product_name_ingredients_text_brands_tags__593', 'emb_product_name_ingredients_text_brands_tags__350', 'emb_product_name_ingredients_text_brands_tags__524', 'emb_product_name_ingredients_text_brands_tags__535', 'emb_product_name_ingredients_text_brands_tags__48', 'emb_product_name_ingredients_text_brands_tags__620', 'emb_product_name_ingredients_text_brands_tags__509', 'emb_product_name_ingredients_text_brands_tags__223', 'emb_product_name_ingredients_text_brands_tags__257', 'emb_product_name_ingredients_text_brands_tags__96', 'emb_product_name_ingredients_text_brands_tags__205', 'emb_product_name_ingredients_text_brands_tags__193', 'emb_product_name_ingredients_text_brands_tags__656', 'emb_product_name_ingredients_text_brands_tags__57', 'emb_product_name_ingredients_text_brands_tags__612', 'emb_product_name_ingredients_text_brands_tags__230', 'emb_product_name_ingredients_text_brands_tags__675', 'emb_product_name_ingredients_text_brands_tags__474', 'emb_product_name_ingredients_text_brands_tags__285', 'emb_product_name_ingredients_text_brands_tags__265', 'emb_product_name_ingredients_text_brands_tags__262', 'emb_product_name_ingredients_text_brands_tags__69', 'emb_product_name_ingredients_text_brands_tags__344', 'emb_product_name_ingredients_text_brands_tags__379', 'emb_product_name_ingredients_text_brands_tags__529', 'emb_product_name_ingredients_text_brands_tags__636', 'emb_product_name_ingredients_text_brands_tags__126', 'emb_product_name_ingredients_text_brands_tags__330', 'emb_product_name_ingredients_text_brands_tags__276', 'emb_product_name_ingredients_text_brands_tags__271', 'emb_product_name_ingredients_text_brands_tags__75', 'emb_product_name_ingredients_text_brands_tags__430', 'emb_product_name_ingredients_text_brands_tags__13', 'emb_product_name_ingredients_text_brands_tags__659', 'emb_product_name_ingredients_text_brands_tags__570', 'emb_product_name_ingredients_text_brands_tags__676', 'emb_product_name_ingredients_text_brands_tags__513', 'emb_product_name_ingredients_text_brands_tags__17', 'emb_product_name_ingredients_text_brands_tags__685', 'emb_product_name_ingredients_text_brands_tags__291', 'emb_product_name_ingredients_text_brands_tags__4', 'emb_product_name_ingredients_text_brands_tags__554', 'emb_product_name_ingredients_text_brands_tags__12', 'emb_product_name_ingredients_text_brands_tags__254', 'emb_product_name_ingredients_text_brands_tags__469', 'emb_product_name_ingredients_text_brands_tags__21', 'emb_product_name_ingredients_text_brands_tags__80', 'emb_product_name_ingredients_text_brands_tags__608', 'emb_product_name_ingredients_text_brands_tags__372', 'emb_product_name_ingredients_text_brands_tags__396', 'emb_product_name_ingredients_text_brands_tags__78', 'emb_product_name_ingredients_text_brands_tags__206', 'emb_product_name_ingredients_text_brands_tags__65', 'emb_product_name_ingredients_text_brands_tags__303', 'emb_product_name_ingredients_text_brands_tags__361', 'emb_product_name_ingredients_text_brands_tags__375', 'emb_product_name_ingredients_text_brands_tags__448', 'emb_product_name_ingredients_text_brands_tags__462', 'emb_product_name_ingredients_text_brands_tags__217', 'emb_product_name_ingredients_text_brands_tags__253', 'emb_product_name_ingredients_text_brands_tags__597', 'emb_product_name_ingredients_text_brands_tags__504', 'emb_product_name_ingredients_text_brands_tags__102', 'emb_product_name_ingredients_text_brands_tags__211', 'emb_product_name_ingredients_text_brands_tags__674', 'emb_product_name_ingredients_text_brands_tags__373', 'emb_product_name_ingredients_text_brands_tags__157', 'emb_product_name_ingredients_text_brands_tags__433', 'emb_product_name_ingredients_text_brands_tags__416', 'emb_product_name_ingredients_text_brands_tags__631', 'emb_product_name_ingredients_text_brands_tags__427', 'emb_product_name_ingredients_text_brands_tags__696', 'emb_product_name_ingredients_text_brands_tags__313', 'emb_product_name_ingredients_text_brands_tags__194', 'emb_product_name_ingredients_text_brands_tags__520', 'emb_product_name_ingredients_text_brands_tags__624', 'emb_product_name_ingredients_text_brands_tags__765', 'emb_product_name_ingredients_text_brands_tags__339', 'emb_product_name_ingredients_text_brands_tags__424', 'emb_product_name_ingredients_text_brands_tags__55', 'emb_product_name_ingredients_text_brands_tags__228', 'emb_product_name_ingredients_text_brands_tags__630', 'emb_product_name_ingredients_text_brands_tags__661', 'emb_product_name_ingredients_text_brands_tags__632', 'emb_product_name_ingredients_text_brands_tags__103', 'emb_product_name_ingredients_text_brands_tags__162', 'emb_product_name_ingredients_text_brands_tags__38', 'emb_product_name_ingredients_text_brands_tags__188', 'emb_product_name_ingredients_text_brands_tags__401', 'emb_product_name_ingredients_text_brands_tags__587', 'emb_product_name_ingredients_text_brands_tags__615', 'emb_product_name_ingredients_text_brands_tags__609', 'emb_product_name_ingredients_text_brands_tags__216', 'emb_product_name_ingredients_text_brands_tags__207', 'emb_product_name_ingredients_text_brands_tags__112', 'emb_product_name_ingredients_text_brands_tags__470', 'emb_product_name_ingredients_text_brands_tags__726', 'emb_product_name_ingredients_text_brands_tags__119', 'emb_product_name_ingredients_text_brands_tags__521', 'emb_product_name_ingredients_text_brands_tags__740', 'emb_product_name_ingredients_text_brands_tags__519', 'emb_product_name_ingredients_text_brands_tags__99', 'emb_product_name_ingredients_text_brands_tags__83', 'emb_product_name_ingredients_text_brands_tags__87', 'emb_product_name_ingredients_text_brands_tags__413', 'emb_product_name_ingredients_text_brands_tags__623', 'emb_product_name_ingredients_text_brands_tags__712', 'emb_product_name_ingredients_text_brands_tags__232', 'emb_product_name_ingredients_text_brands_tags__40', 'emb_product_name_ingredients_text_brands_tags__411', 'emb_product_name_ingredients_text_brands_tags__585', 'emb_product_name_ingredients_text_brands_tags__351', 'emb_product_name_ingredients_text_brands_tags__120', 'emb_product_name_ingredients_text_brands_tags__28', 'emb_product_name_ingredients_text_brands_tags__477', 'emb_product_name_ingredients_text_brands_tags__701', 'emb_product_name_ingredients_text_brands_tags__290', 'emb_product_name_ingredients_text_brands_tags__443', 'emb_product_name_ingredients_text_brands_tags__541', 'emb_product_name_ingredients_text_brands_tags__710', 'emb_product_name_ingredients_text_brands_tags__0', 'emb_product_name_ingredients_text_brands_tags__412', 'emb_product_name_ingredients_text_brands_tags__310', 'emb_product_name_ingredients_text_brands_tags__487', 'emb_product_name_ingredients_text_brands_tags__582', 'emb_product_name_ingredients_text_brands_tags__603', 'emb_product_name_ingredients_text_brands_tags__342', 'emb_product_name_ingredients_text_brands_tags__426', 'emb_product_name_ingredients_text_brands_tags__653', 'emb_product_name_ingredients_text_brands_tags__209', 'emb_product_name_ingredients_text_brands_tags__214', 'emb_product_name_ingredients_text_brands_tags__251', 'emb_product_name_ingredients_text_brands_tags__377', 'emb_product_name_ingredients_text_brands_tags__208', 'emb_product_name_ingredients_text_brands_tags__588', 'emb_product_name_ingredients_text_brands_tags__180', 'emb_product_name_ingredients_text_brands_tags__41', 'emb_product_name_ingredients_text_brands_tags__304', 'emb_product_name_ingredients_text_brands_tags__667', 'emb_product_name_ingredients_text_brands_tags__414', 'emb_product_name_ingredients_text_brands_tags__260', 'emb_product_name_ingredients_text_brands_tags__349', 'emb_product_name_ingredients_text_brands_tags__183', 'emb_product_name_ingredients_text_brands_tags__496', 'emb_product_name_ingredients_text_brands_tags__287', 'emb_product_name_ingredients_text_brands_tags__751', 'emb_product_name_ingredients_text_brands_tags__737', 'emb_product_name_ingredients_text_brands_tags__161', 'emb_product_name_ingredients_text_brands_tags__655', 'emb_product_name_ingredients_text_brands_tags__35', 'emb_product_name_ingredients_text_brands_tags__177', 'emb_product_name_ingredients_text_brands_tags__538', 'emb_product_name_ingredients_text_brands_tags__545', 'emb_product_name_ingredients_text_brands_tags__346', 'emb_product_name_ingredients_text_brands_tags__81', 'emb_product_name_ingredients_text_brands_tags__466', 'emb_product_name_ingredients_text_brands_tags__201', 'emb_product_name_ingredients_text_brands_tags__657', 'emb_product_name_ingredients_text_brands_tags__116', 'emb_product_name_ingredients_text_brands_tags__331', 'emb_product_name_ingredients_text_brands_tags__255', 'emb_product_name_ingredients_text_brands_tags__449', 'emb_product_name_ingredients_text_brands_tags__484', 'emb_product_name_ingredients_text_brands_tags__153', 'emb_product_name_ingredients_text_brands_tags__289', 'emb_product_name_ingredients_text_brands_tags__33', 'emb_product_name_ingredients_text_brands_tags__610', 'emb_product_name_ingredients_text_brands_tags__133', 'emb_product_name_ingredients_text_brands_tags__8', 'emb_product_name_ingredients_text_brands_tags__480', 'emb_product_name_ingredients_text_brands_tags__218', 'emb_product_name_ingredients_text_brands_tags__559', 'emb_product_name_ingredients_text_brands_tags__586', 'emb_product_name_ingredients_text_brands_tags__317', 'emb_product_name_ingredients_text_brands_tags__699', 'emb_product_name_ingredients_text_brands_tags__704', 'emb_product_name_ingredients_text_brands_tags__63', 'emb_product_name_ingredients_text_brands_tags__23', 'emb_product_name_ingredients_text_brands_tags__319', 'emb_product_name_ingredients_text_brands_tags__332', 'emb_product_name_ingredients_text_brands_tags__482', 'emb_product_name_ingredients_text_brands_tags__500', 'emb_product_name_ingredients_text_brands_tags__185', 'emb_product_name_ingredients_text_brands_tags__226', 'emb_product_name_ingredients_text_brands_tags__16', 'emb_product_name_ingredients_text_brands_tags__376', 'emb_product_name_ingredients_text_brands_tags__447', 'emb_product_name_ingredients_text_brands_tags__343', 'emb_product_name_ingredients_text_brands_tags__607', 'emb_product_name_ingredients_text_brands_tags__203', 'emb_product_name_ingredients_text_brands_tags__552', 'emb_product_name_ingredients_text_brands_tags__525', 'emb_product_name_ingredients_text_brands_tags__67', 'emb_product_name_ingredients_text_brands_tags__227', 'emb_product_name_ingredients_text_brands_tags__95', 'emb_product_name_ingredients_text_brands_tags__178', 'emb_product_name_ingredients_text_brands_tags__422', 'emb_product_name_ingredients_text_brands_tags__7', 'emb_product_name_ingredients_text_brands_tags__144', 'emb_product_name_ingredients_text_brands_tags__363', 'emb_product_name_ingredients_text_brands_tags__648', 'emb_product_name_ingredients_text_brands_tags__494', 'emb_product_name_ingredients_text_brands_tags__576', 'emb_product_name_ingredients_text_brands_tags__386', 'emb_product_name_ingredients_text_brands_tags__219', 'emb_product_name_ingredients_text_brands_tags__568', 'emb_product_name_ingredients_text_brands_tags__580', 'emb_product_name_ingredients_text_brands_tags__589', 'emb_product_name_ingredients_text_brands_tags__129', 'emb_product_name_ingredients_text_brands_tags__277', 'emb_product_name_ingredients_text_brands_tags__516', 'emb_product_name_ingredients_text_brands_tags__19', 'emb_product_name_ingredients_text_brands_tags__382', 'emb_product_name_ingredients_text_brands_tags__749', 'emb_product_name_ingredients_text_brands_tags__224', 'emb_product_name_ingredients_text_brands_tags__236', 'emb_product_name_ingredients_text_brands_tags__380', 'emb_product_name_ingredients_text_brands_tags__6', 'emb_product_name_ingredients_text_brands_tags__160', 'emb_product_name_ingredients_text_brands_tags__579', 'emb_product_name_ingredients_text_brands_tags__18', 'emb_product_name_ingredients_text_brands_tags__381', 'emb_product_name_ingredients_text_brands_tags__110', 'emb_product_name_ingredients_text_brands_tags__182', 'emb_product_name_ingredients_text_brands_tags__595', 'emb_product_name_ingredients_text_brands_tags__165', 'emb_product_name_ingredients_text_brands_tags__398', 'emb_product_name_ingredients_text_brands_tags__459', 'emb_product_name_ingredients_text_brands_tags__455', 'emb_product_name_ingredients_text_brands_tags__131', 'emb_product_name_ingredients_text_brands_tags__421', 'emb_product_name_ingredients_text_brands_tags__392', 'emb_product_name_ingredients_text_brands_tags__10', 'emb_product_name_ingredients_text_brands_tags__627', 'emb_product_name_ingredients_text_brands_tags__284', 'emb_product_name_ingredients_text_brands_tags__306', 'emb_product_name_ingredients_text_brands_tags__683', 'emb_product_name_ingredients_text_brands_tags__86', 'emb_product_name_ingredients_text_brands_tags__252', 'emb_product_name_ingredients_text_brands_tags__240', 'emb_product_name_ingredients_text_brands_tags__34', 'emb_product_name_ingredients_text_brands_tags__479', 'emb_product_name_ingredients_text_brands_tags__150', 'emb_product_name_ingredients_text_brands_tags__104', 'emb_product_name_ingredients_text_brands_tags__628', 'emb_product_name_ingredients_text_brands_tags__172', 'emb_product_name_ingredients_text_brands_tags__49', 'emb_product_name_ingredients_text_brands_tags__640', 'emb_product_name_ingredients_text_brands_tags__673', 'emb_product_name_ingredients_text_brands_tags__400', 'emb_product_name_ingredients_text_brands_tags__353', 'emb_product_name_ingredients_text_brands_tags__760', 'emb_product_name_ingredients_text_brands_tags__325', 'emb_product_name_ingredients_text_brands_tags__596', 'emb_product_name_ingredients_text_brands_tags__312', 'emb_product_name_ingredients_text_brands_tags__167', 'emb_product_name_ingredients_text_brands_tags__187', 'emb_product_name_ingredients_text_brands_tags__734', 'emb_product_name_ingredients_text_brands_tags__606', 'emb_product_name_ingredients_text_brands_tags__337', 'emb_product_name_ingredients_text_brands_tags__745', 'emb_product_name_ingredients_text_brands_tags__164', 'emb_product_name_ingredients_text_brands_tags__134', 'emb_product_name_ingredients_text_brands_tags__258', 'emb_product_name_ingredients_text_brands_tags__85', 'emb_product_name_ingredients_text_brands_tags__123', 'emb_product_name_ingredients_text_brands_tags__3', 'emb_product_name_ingredients_text_brands_tags__163', 'emb_product_name_ingredients_text_brands_tags__481', 'emb_product_name_ingredients_text_brands_tags__641', 'emb_product_name_ingredients_text_brands_tags__336', 'emb_product_name_ingredients_text_brands_tags__755', 'ingredients_from_palm_oil_n', 'emb_product_name_ingredients_text_brands_tags__472', 'emb_product_name_ingredients_text_brands_tags__465', 'emb_product_name_ingredients_text_brands_tags__263', 'emb_product_name_ingredients_text_brands_tags__406', 'emb_product_name_ingredients_text_brands_tags__31', 'emb_product_name_ingredients_text_brands_tags__97', 'emb_product_name_ingredients_text_brands_tags__128', 'emb_product_name_ingredients_text_brands_tags__308', 'emb_product_name_ingredients_text_brands_tags__367', 'emb_product_name_ingredients_text_brands_tags__440', 'emb_product_name_ingredients_text_brands_tags__571', 'emb_product_name_ingredients_text_brands_tags__539', 'emb_product_name_ingredients_text_brands_tags__598', 'emb_product_name_ingredients_text_brands_tags__118', 'emb_product_name_ingredients_text_brands_tags__235', 'emb_product_name_ingredients_text_brands_tags__575', 'emb_product_name_ingredients_text_brands_tags__50', 'emb_product_name_ingredients_text_brands_tags__508', 'emb_product_name_ingredients_text_brands_tags__415', 'emb_product_name_ingredients_text_brands_tags__250', 'emb_product_name_ingredients_text_brands_tags__115', 'emb_product_name_ingredients_text_brands_tags__688', 'emb_product_name_ingredients_text_brands_tags__669', 'emb_product_name_ingredients_text_brands_tags__429', 'emb_product_name_ingredients_text_brands_tags__530', 'emb_product_name_ingredients_text_brands_tags__561', 'emb_product_name_ingredients_text_brands_tags__139', 'emb_product_name_ingredients_text_brands_tags__90', 'emb_product_name_ingredients_text_brands_tags__302', 'emb_product_name_ingredients_text_brands_tags__583', 'emb_product_name_ingredients_text_brands_tags__754', 'emb_product_name_ingredients_text_brands_tags__604', 'emb_product_name_ingredients_text_brands_tags__542', 'emb_product_name_ingredients_text_brands_tags__616', 'emb_product_name_ingredients_text_brands_tags__536', 'emb_product_name_ingredients_text_brands_tags__681', 'emb_product_name_ingredients_text_brands_tags__71', 'emb_product_name_ingredients_text_brands_tags__759', 'emb_product_name_ingredients_text_brands_tags__702', 'emb_product_name_ingredients_text_brands_tags__461', 'emb_product_name_ingredients_text_brands_tags__643', 'emb_product_name_ingredients_text_brands_tags__722', 'emb_product_name_ingredients_text_brands_tags__318', 'emb_product_name_ingredients_text_brands_tags__374', 'emb_product_name_ingredients_text_brands_tags__334', 'emb_product_name_ingredients_text_brands_tags__578', 'emb_product_name_ingredients_text_brands_tags__212', 'emb_product_name_ingredients_text_brands_tags__690', 'emb_product_name_ingredients_text_brands_tags__181', 'emb_product_name_ingredients_text_brands_tags__729', 'emb_product_name_ingredients_text_brands_tags__358', 'emb_product_name_ingredients_text_brands_tags__333', 'emb_product_name_ingredients_text_brands_tags__362', 'emb_product_name_ingredients_text_brands_tags__435', 'emb_product_name_ingredients_text_brands_tags__649', 'emb_product_name_ingredients_text_brands_tags__272', 'emb_product_name_ingredients_text_brands_tags__463', 'emb_product_name_ingredients_text_brands_tags__473', 'emb_product_name_ingredients_text_brands_tags__151', 'emb_product_name_ingredients_text_brands_tags__478', 'emb_product_name_ingredients_text_brands_tags__340', 'emb_product_name_ingredients_text_brands_tags__355', 'emb_product_name_ingredients_text_brands_tags__269', 'emb_product_name_ingredients_text_brands_tags__256', 'emb_product_name_ingredients_text_brands_tags__354', 'emb_product_name_ingredients_text_brands_tags__736', 'emb_product_name_ingredients_text_brands_tags__488', 'emb_product_name_ingredients_text_brands_tags__618', 'emb_product_name_ingredients_text_brands_tags__44', 'emb_product_name_ingredients_text_brands_tags__458', 'emb_product_name_ingredients_text_brands_tags__724', 'emb_product_name_ingredients_text_brands_tags__15', 'emb_product_name_ingredients_text_brands_tags__222', 'emb_product_name_ingredients_text_brands_tags__540', 'emb_product_name_ingredients_text_brands_tags__503', 'emb_product_name_ingredients_text_brands_tags__549', 'emb_product_name_ingredients_text_brands_tags__613', 'emb_product_name_ingredients_text_brands_tags__100', 'emb_product_name_ingredients_text_brands_tags__601', 'emb_product_name_ingredients_text_brands_tags__658', 'emb_product_name_ingredients_text_brands_tags__728', 'emb_product_name_ingredients_text_brands_tags__633', 'emb_product_name_ingredients_text_brands_tags__158', 'emb_product_name_ingredients_text_brands_tags__60', 'emb_product_name_ingredients_text_brands_tags__314', 'emb_product_name_ingredients_text_brands_tags__20', 'emb_product_name_ingredients_text_brands_tags__197', 'emb_product_name_ingredients_text_brands_tags__418', 'emb_product_name_ingredients_text_brands_tags__590', 'emb_product_name_ingredients_text_brands_tags__647', 'emb_product_name_ingredients_text_brands_tags__105', 'emb_product_name_ingredients_text_brands_tags__273', 'emb_product_name_ingredients_text_brands_tags__671', 'emb_product_name_ingredients_text_brands_tags__739', 'emb_product_name_ingredients_text_brands_tags__741', 'emb_product_name_ingredients_text_brands_tags__452', 'emb_product_name_ingredients_text_brands_tags__148', 'emb_product_name_ingredients_text_brands_tags__663', 'emb_product_name_ingredients_text_brands_tags__32', 'emb_product_name_ingredients_text_brands_tags__238', 'emb_product_name_ingredients_text_brands_tags__9', 'emb_product_name_ingredients_text_brands_tags__548', 'emb_product_name_ingredients_text_brands_tags__360', 'emb_product_name_ingredients_text_brands_tags__592', 'emb_product_name_ingredients_text_brands_tags__697', 'emb_product_name_ingredients_text_brands_tags__328', 'emb_product_name_ingredients_text_brands_tags__70', 'emb_product_name_ingredients_text_brands_tags__281', 'emb_product_name_ingredients_text_brands_tags__113', 'emb_product_name_ingredients_text_brands_tags__735', 'emb_product_name_ingredients_text_brands_tags__672', 'emb_product_name_ingredients_text_brands_tags__39', 'emb_product_name_ingredients_text_brands_tags__457', 'emb_product_name_ingredients_text_brands_tags__399', 'emb_product_name_ingredients_text_brands_tags__405', 'emb_product_name_ingredients_text_brands_tags__705', 'emb_product_name_ingredients_text_brands_tags__744', 'emb_product_name_ingredients_text_brands_tags__341', 'emb_product_name_ingredients_text_brands_tags__234', 'emb_product_name_ingredients_text_brands_tags__93', 'emb_product_name_ingredients_text_brands_tags__564', 'emb_product_name_ingredients_text_brands_tags__680', 'emb_product_name_ingredients_text_brands_tags__365', 'emb_product_name_ingredients_text_brands_tags__732', 'emb_product_name_ingredients_text_brands_tags__442', 'emb_product_name_ingredients_text_brands_tags__693', 'emb_product_name_ingredients_text_brands_tags__553', 'emb_product_name_ingredients_text_brands_tags__560', 'emb_product_name_ingredients_text_brands_tags__551', 'emb_product_name_ingredients_text_brands_tags__106', 'emb_product_name_ingredients_text_brands_tags__706', 'emb_product_name_ingredients_text_brands_tags__121', 'emb_product_name_ingredients_text_brands_tags__602', 'emb_product_name_ingredients_text_brands_tags__714', 'emb_product_name_ingredients_text_brands_tags__431', 'emb_product_name_ingredients_text_brands_tags__534', 'emb_product_name_ingredients_text_brands_tags__371', 'emb_product_name_ingredients_text_brands_tags__283', 'emb_product_name_ingredients_text_brands_tags__515', 'emb_product_name_ingredients_text_brands_tags__179', 'emb_product_name_ingredients_text_brands_tags__369', 'emb_product_name_ingredients_text_brands_tags__664', 'emb_product_name_ingredients_text_brands_tags__25', 'emb_product_name_ingredients_text_brands_tags__114', 'emb_product_name_ingredients_text_brands_tags__176', 'emb_product_name_ingredients_text_brands_tags__52', 'emb_product_name_ingredients_text_brands_tags__611', 'emb_product_name_ingredients_text_brands_tags__453', 'emb_product_name_ingredients_text_brands_tags__454', 'emb_product_name_ingredients_text_brands_tags__694', 'emb_product_name_ingredients_text_brands_tags__259', 'emb_product_name_ingredients_text_brands_tags__599', 'emb_product_name_ingredients_text_brands_tags__517', 'emb_product_name_ingredients_text_brands_tags__213', 'emb_product_name_ingredients_text_brands_tags__279', 'emb_product_name_ingredients_text_brands_tags__432', 'emb_product_name_ingredients_text_brands_tags__199', 'emb_product_name_ingredients_text_brands_tags__309', 'emb_product_name_ingredients_text_brands_tags__634', 'emb_product_name_ingredients_text_brands_tags__196', 'emb_product_name_ingredients_text_brands_tags__204', 'emb_product_name_ingredients_text_brands_tags__280', 'emb_product_name_ingredients_text_brands_tags__403', 'emb_product_name_ingredients_text_brands_tags__502', 'emb_product_name_ingredients_text_brands_tags__387', 'emb_product_name_ingredients_text_brands_tags__335', 'emb_product_name_ingredients_text_brands_tags__146', 'emb_product_name_ingredients_text_brands_tags__82', 'emb_product_name_ingredients_text_brands_tags__77', 'emb_product_name_ingredients_text_brands_tags__338', 'emb_product_name_ingredients_text_brands_tags__320', 'emb_product_name_ingredients_text_brands_tags__345', 'emb_product_name_ingredients_text_brands_tags__26', 'emb_product_name_ingredients_text_brands_tags__692', 'emb_product_name_ingredients_text_brands_tags__614', 'emb_product_name_ingredients_text_brands_tags__89', 'emb_product_name_ingredients_text_brands_tags__689', 'emb_product_name_ingredients_text_brands_tags__246', 'emb_product_name_ingredients_text_brands_tags__127', 'emb_product_name_ingredients_text_brands_tags__357', 'emb_product_name_ingredients_text_brands_tags__200', 'emb_product_name_ingredients_text_brands_tags__92', 'emb_product_name_ingredients_text_brands_tags__159', 'emb_product_name_ingredients_text_brands_tags__651', 'emb_product_name_ingredients_text_brands_tags__327', 'emb_product_name_ingredients_text_brands_tags__495', 'emb_product_name_ingredients_text_brands_tags__359', 'emb_product_name_ingredients_text_brands_tags__137', 'emb_product_name_ingredients_text_brands_tags__625', 'emb_product_name_ingredients_text_brands_tags__670', 'emb_product_name_ingredients_text_brands_tags__84', 'emb_product_name_ingredients_text_brands_tags__266', 'emb_product_name_ingredients_text_brands_tags__347', 'emb_product_name_ingredients_text_brands_tags__220', 'emb_product_name_ingredients_text_brands_tags__556', 'emb_product_name_ingredients_text_brands_tags__191', 'emb_product_name_ingredients_text_brands_tags__385', 'emb_product_name_ingredients_text_brands_tags__68', 'emb_product_name_ingredients_text_brands_tags__528', 'emb_product_name_ingredients_text_brands_tags__646', 'emb_product_name_ingredients_text_brands_tags__682', 'emb_product_name_ingredients_text_brands_tags__748', 'emb_product_name_ingredients_text_brands_tags__261', 'emb_product_name_ingredients_text_brands_tags__644', 'emb_product_name_ingredients_text_brands_tags__567', 'emb_product_name_ingredients_text_brands_tags__294', 'emb_product_name_ingredients_text_brands_tags__708', 'emb_product_name_ingredients_text_brands_tags__348', 'emb_product_name_ingredients_text_brands_tags__574', 'emb_product_name_ingredients_text_brands_tags__47', 'emb_product_name_ingredients_text_brands_tags__198', 'emb_product_name_ingredients_text_brands_tags__79', 'emb_product_name_ingredients_text_brands_tags__558', 'emb_product_name_ingredients_text_brands_tags__441', 'emb_product_name_ingredients_text_brands_tags__109', 'emb_product_name_ingredients_text_brands_tags__687', 'emb_product_name_ingredients_text_brands_tags__707', 'additives_n', 'emb_product_name_ingredients_text_brands_tags__577', 'emb_product_name_ingredients_text_brands_tags__758', 'emb_product_name_ingredients_text_brands_tags__91', 'emb_product_name_ingredients_text_brands_tags__460', 'emb_product_name_ingredients_text_brands_tags__471', 'emb_product_name_ingredients_text_brands_tags__171', 'emb_product_name_ingredients_text_brands_tags__533', 'emb_product_name_ingredients_text_brands_tags__446', 'emb_product_name_ingredients_text_brands_tags__451', 'emb_product_name_ingredients_text_brands_tags__248', 'emb_product_name_ingredients_text_brands_tags__444', 'emb_product_name_ingredients_text_brands_tags__445', 'emb_product_name_ingredients_text_brands_tags__229', 'emb_product_name_ingredients_text_brands_tags__747', 'emb_product_name_ingredients_text_brands_tags__506', 'emb_product_name_ingredients_text_brands_tags__301', 'emb_product_name_ingredients_text_brands_tags__719', 'emb_product_name_ingredients_text_brands_tags__652', 'emb_product_name_ingredients_text_brands_tags__464', 'emb_product_name_ingredients_text_brands_tags__547', 'emb_product_name_ingredients_text_brands_tags__66', 'emb_product_name_ingredients_text_brands_tags__370', 'emb_product_name_ingredients_text_brands_tags__691', 'emb_product_name_ingredients_text_brands_tags__467', 'emb_product_name_ingredients_text_brands_tags__267', 'emb_product_name_ingredients_text_brands_tags__507', 'emb_product_name_ingredients_text_brands_tags__526', 'emb_product_name_ingredients_text_brands_tags__752', 'emb_product_name_ingredients_text_brands_tags__215', 'emb_product_name_ingredients_text_brands_tags__326', 'emb_product_name_ingredients_text_brands_tags__727', 'emb_product_name_ingredients_text_brands_tags__404', 'emb_product_name_ingredients_text_brands_tags__98', 'ingredients_that_may_be_from_palm_oil_n', 'emb_product_name_ingredients_text_brands_tags__155', 'emb_product_name_ingredients_text_brands_tags__288', 'emb_product_name_ingredients_text_brands_tags__278', 'emb_product_name_ingredients_text_brands_tags__703', 'emb_product_name_ingredients_text_brands_tags__635', 'emb_product_name_ingredients_text_brands_tags__766', 'emb_product_name_ingredients_text_brands_tags__323', 'emb_product_name_ingredients_text_brands_tags__514', 'emb_product_name_ingredients_text_brands_tags__299', 'emb_product_name_ingredients_text_brands_tags__761', 'emb_product_name_ingredients_text_brands_tags__629', 'emb_product_name_ingredients_text_brands_tags__698', 'emb_product_name_ingredients_text_brands_tags__125', 'emb_product_name_ingredients_text_brands_tags__202', 'emb_product_name_ingredients_text_brands_tags__511', 'emb_product_name_ingredients_text_brands_tags__74', 'emb_product_name_ingredients_text_brands_tags__62', 'emb_product_name_ingredients_text_brands_tags__419', 'emb_product_name_ingredients_text_brands_tags__88', 'emb_product_name_ingredients_text_brands_tags__352', 'emb_product_name_ingredients_text_brands_tags__621', 'emb_product_name_ingredients_text_brands_tags__22', 'emb_product_name_ingredients_text_brands_tags__650', 'emb_product_name_ingredients_text_brands_tags__764', 'emb_product_name_ingredients_text_brands_tags__642', 'emb_product_name_ingredients_text_brands_tags__286', 'emb_product_name_ingredients_text_brands_tags__111', 'emb_product_name_ingredients_text_brands_tags__368', 'emb_product_name_ingredients_text_brands_tags__731', 'emb_product_name_ingredients_text_brands_tags__316', 'emb_product_name_ingredients_text_brands_tags__723', 'emb_product_name_ingredients_text_brands_tags__439', 'emb_product_name_ingredients_text_brands_tags__51', 'emb_product_name_ingredients_text_brands_tags__456', 'emb_product_name_ingredients_text_brands_tags__168', 'emb_product_name_ingredients_text_brands_tags__767', 'emb_product_name_ingredients_text_brands_tags__174', 'emb_product_name_ingredients_text_brands_tags__709', 'emb_product_name_ingredients_text_brands_tags__537', 'emb_product_name_ingredients_text_brands_tags__510', 'emb_product_name_ingredients_text_brands_tags__233', 'emb_product_name_ingredients_text_brands_tags__637', 'emb_product_name_ingredients_text_brands_tags__142', 'emb_product_name_ingredients_text_brands_tags__53', 'emb_product_name_ingredients_text_brands_tags__397', 'emb_product_name_ingredients_text_brands_tags__600', 'emb_product_name_ingredients_text_brands_tags__569', 'emb_product_name_ingredients_text_brands_tags__605', 'emb_product_name_ingredients_text_brands_tags__428', 'emb_product_name_ingredients_text_brands_tags__170', 'emb_product_name_ingredients_text_brands_tags__468', 'emb_product_name_ingredients_text_brands_tags__512', 'emb_product_name_ingredients_text_brands_tags__668', 'emb_product_name_ingredients_text_brands_tags__725', 'emb_product_name_ingredients_text_brands_tags__720', 'emb_product_name_ingredients_text_brands_tags__54', 'emb_product_name_ingredients_text_brands_tags__46', 'emb_product_name_ingredients_text_brands_tags__626', 'emb_product_name_ingredients_text_brands_tags__275', 'emb_product_name_ingredients_text_brands_tags__417', 'emb_product_name_ingredients_text_brands_tags__544', 'emb_product_name_ingredients_text_brands_tags__249', 'emb_product_name_ingredients_text_brands_tags__190', 'emb_product_name_ingredients_text_brands_tags__718', 'emb_product_name_ingredients_text_brands_tags__639', 'emb_product_name_ingredients_text_brands_tags__388', 'emb_product_name_ingredients_text_brands_tags__292', 'emb_product_name_ingredients_text_brands_tags__186', 'emb_product_name_ingredients_text_brands_tags__622', 'emb_product_name_ingredients_text_brands_tags__152', 'emb_product_name_ingredients_text_brands_tags__244', 'emb_product_name_ingredients_text_brands_tags__242', 'emb_product_name_ingredients_text_brands_tags__566', 'emb_product_name_ingredients_text_brands_tags__523', 'emb_product_name_ingredients_text_brands_tags__522', 'emb_product_name_ingredients_text_brands_tags__5', 'emb_product_name_ingredients_text_brands_tags__753', 'emb_product_name_ingredients_text_brands_tags__679', 'emb_product_name_ingredients_text_brands_tags__43', 'emb_product_name_ingredients_text_brands_tags__189', 'emb_product_name_ingredients_text_brands_tags__59', 'emb_product_name_ingredients_text_brands_tags__296', 'emb_product_name_ingredients_text_brands_tags__270', 'emb_product_name_ingredients_text_brands_tags__383', 'emb_product_name_ingredients_text_brands_tags__141', 'emb_product_name_ingredients_text_brands_tags__231', 'emb_product_name_ingredients_text_brands_tags__476', 'emb_product_name_ingredients_text_brands_tags__565', 'emb_product_name_ingredients_text_brands_tags__684', 'emb_product_name_ingredients_text_brands_tags__24', 'emb_product_name_ingredients_text_brands_tags__501', 'emb_product_name_ingredients_text_brands_tags__711', 'emb_product_name_ingredients_text_brands_tags__678', 'emb_product_name_ingredients_text_brands_tags__130', 'emb_product_name_ingredients_text_brands_tags__221', 'emb_product_name_ingredients_text_brands_tags__572', 'emb_product_name_ingredients_text_brands_tags__192', 'emb_product_name_ingredients_text_brands_tags__721', 'emb_product_name_ingredients_text_brands_tags__384', 'emb_product_name_ingredients_text_brands_tags__543', 'emb_product_name_ingredients_text_brands_tags__743', 'emb_product_name_ingredients_text_brands_tags__140', 'emb_product_name_ingredients_text_brands_tags__27', 'emb_product_name_ingredients_text_brands_tags__243', 'emb_product_name_ingredients_text_brands_tags__584', 'emb_product_name_ingredients_text_brands_tags__425', 'emb_product_name_ingredients_text_brands_tags__264', 'emb_product_name_ingredients_text_brands_tags__247', 'emb_product_name_ingredients_text_brands_tags__108', 'emb_product_name_ingredients_text_brands_tags__434', 'emb_product_name_ingredients_text_brands_tags__329', 'emb_product_name_ingredients_text_brands_tags__402', 'emb_product_name_ingredients_text_brands_tags__497', 'emb_product_name_ingredients_text_brands_tags__666', 'emb_product_name_ingredients_text_brands_tags__1', 'emb_product_name_ingredients_text_brands_tags__391', 'emb_product_name_ingredients_text_brands_tags__409', 'emb_product_name_ingredients_text_brands_tags__573', 'emb_product_name_ingredients_text_brands_tags__56', 'emb_product_name_ingredients_text_brands_tags__42', 'emb_product_name_ingredients_text_brands_tags__594', 'emb_product_name_ingredients_text_brands_tags__101', 'emb_product_name_ingredients_text_brands_tags__489', 'emb_product_name_ingredients_text_brands_tags__136', 'emb_product_name_ingredients_text_brands_tags__532', 'emb_product_name_ingredients_text_brands_tags__493', 'emb_product_name_ingredients_text_brands_tags__132', 'emb_product_name_ingredients_text_brands_tags__184', 'emb_product_name_ingredients_text_brands_tags__492', 'emb_product_name_ingredients_text_brands_tags__293', 'emb_product_name_ingredients_text_brands_tags__617', 'emb_product_name_ingredients_text_brands_tags__686', 'emb_product_name_ingredients_text_brands_tags__117', 'emb_product_name_ingredients_text_brands_tags__450', 'emb_product_name_ingredients_text_brands_tags__563', 'emb_product_name_ingredients_text_brands_tags__307', 'emb_product_name_ingredients_text_brands_tags__475', 'emb_product_name_ingredients_text_brands_tags__135', 'emb_product_name_ingredients_text_brands_tags__436', 'emb_product_name_ingredients_text_brands_tags__407', 'emb_product_name_ingredients_text_brands_tags__394', 'emb_product_name_ingredients_text_brands_tags__527', 'emb_product_name_ingredients_text_brands_tags__72', 'emb_product_name_ingredients_text_brands_tags__138', 'emb_product_name_ingredients_text_brands_tags__762', 'emb_product_name_ingredients_text_brands_tags__149', 'emb_product_name_ingredients_text_brands_tags__763', 'emb_product_name_ingredients_text_brands_tags__356', 'emb_product_name_ingredients_text_brands_tags__61', 'emb_product_name_ingredients_text_brands_tags__742', 'emb_product_name_ingredients_text_brands_tags__677', 'emb_product_name_ingredients_text_brands_tags__750', 'emb_product_name_ingredients_text_brands_tags__298', 'emb_product_name_ingredients_text_brands_tags__147', 'emb_product_name_ingredients_text_brands_tags__716', 'emb_product_name_ingredients_text_brands_tags__738', 'emb_product_name_ingredients_text_brands_tags__11', 'emb_product_name_ingredients_text_brands_tags__245', 'emb_product_name_ingredients_text_brands_tags__546', 'emb_product_name_ingredients_text_brands_tags__268', 'emb_product_name_ingredients_text_brands_tags__311', 'emb_product_name_ingredients_text_brands_tags__154', 'emb_product_name_ingredients_text_brands_tags__581', 'label_states_en_brands', 'label_states_en_categories', 'label_states_en_characteristics', 'label_states_en_expiration date', 'label_states_en_general_complete', 'label_states_en_ingredients', 'label_pnns_groups_1', 'label_pnns_groups_2', 'label_states_en_packaging', 'label_states_en_packaging-code-', 'label_states_en_photo_upload', 'label_states_en_photo_validate', 'label_states_en_product name', 'label_states_en_quantity']\n",
      "Cat index: [772, 773, 774, 775, 776, 777, 778, 779, 780, 781, 782, 783, 784, 785]\n",
      "---------- Training fold Nº 5 ----------\n"
     ]
    },
    {
     "name": "stdout",
     "output_type": "stream",
     "text": [
      "[LightGBM] [Warning] Find whitespaces in feature_names, replace with underlines\n",
      "[LightGBM] [Info] Total Bins 196221\n",
      "[LightGBM] [Info] Number of data points in the train set: 81623, number of used features: 786\n"
     ]
    },
    {
     "name": "stderr",
     "output_type": "stream",
     "text": [
      "/usr/local/lib/python3.6/dist-packages/lightgbm/basic.py:1433: UserWarning: Overriding the parameters from Reference Dataset.\n",
      "  _log_warning('Overriding the parameters from Reference Dataset.')\n",
      "/usr/local/lib/python3.6/dist-packages/lightgbm/basic.py:1245: UserWarning: categorical_column in param dict is overridden.\n",
      "  _log_warning('{} in param dict is overridden.'.format(cat_alias))\n"
     ]
    },
    {
     "name": "stdout",
     "output_type": "stream",
     "text": [
      "[LightGBM] [Warning] Find whitespaces in feature_names, replace with underlines\n",
      "[LightGBM] [Info] Start training from score 9.170246\n",
      "Training until validation scores don't improve for 200 rounds\n",
      "[50]\ttraining's rmse: 8.66088\tvalid_1's rmse: 8.669\n",
      "[100]\ttraining's rmse: 8.32513\tvalid_1's rmse: 8.33438\n",
      "[150]\ttraining's rmse: 8.00877\tvalid_1's rmse: 8.01938\n",
      "[200]\ttraining's rmse: 7.7099\tvalid_1's rmse: 7.72185\n",
      "[250]\ttraining's rmse: 7.42797\tvalid_1's rmse: 7.44136\n",
      "[300]\ttraining's rmse: 7.16261\tvalid_1's rmse: 7.17768\n",
      "[350]\ttraining's rmse: 6.91289\tvalid_1's rmse: 6.92955\n",
      "[400]\ttraining's rmse: 6.67797\tvalid_1's rmse: 6.69606\n",
      "[450]\ttraining's rmse: 6.45742\tvalid_1's rmse: 6.47712\n",
      "[500]\ttraining's rmse: 6.25017\tvalid_1's rmse: 6.2717\n",
      "[550]\ttraining's rmse: 6.05586\tvalid_1's rmse: 6.07886\n",
      "[600]\ttraining's rmse: 5.87354\tvalid_1's rmse: 5.89854\n",
      "[650]\ttraining's rmse: 5.70287\tvalid_1's rmse: 5.72969\n",
      "[700]\ttraining's rmse: 5.54328\tvalid_1's rmse: 5.57209\n",
      "[750]\ttraining's rmse: 5.39428\tvalid_1's rmse: 5.42503\n",
      "[800]\ttraining's rmse: 5.2548\tvalid_1's rmse: 5.28737\n",
      "[850]\ttraining's rmse: 5.12489\tvalid_1's rmse: 5.1592\n",
      "[900]\ttraining's rmse: 5.00365\tvalid_1's rmse: 5.03991\n",
      "[950]\ttraining's rmse: 4.89089\tvalid_1's rmse: 4.92905\n",
      "[1000]\ttraining's rmse: 4.7858\tvalid_1's rmse: 4.82605\n",
      "[1050]\ttraining's rmse: 4.68837\tvalid_1's rmse: 4.73056\n",
      "[1100]\ttraining's rmse: 4.59797\tvalid_1's rmse: 4.64209\n",
      "[1150]\ttraining's rmse: 4.51402\tvalid_1's rmse: 4.56018\n",
      "[1200]\ttraining's rmse: 4.43623\tvalid_1's rmse: 4.48448\n",
      "[1250]\ttraining's rmse: 4.3641\tvalid_1's rmse: 4.4145\n",
      "[1300]\ttraining's rmse: 4.29744\tvalid_1's rmse: 4.35\n",
      "[1350]\ttraining's rmse: 4.23572\tvalid_1's rmse: 4.29059\n",
      "[1400]\ttraining's rmse: 4.17881\tvalid_1's rmse: 4.23586\n",
      "[1450]\ttraining's rmse: 4.12617\tvalid_1's rmse: 4.18541\n",
      "[1500]\ttraining's rmse: 4.07755\tvalid_1's rmse: 4.13891\n",
      "[1550]\ttraining's rmse: 4.03283\tvalid_1's rmse: 4.09633\n",
      "[1600]\ttraining's rmse: 3.99155\tvalid_1's rmse: 4.05713\n",
      "[1650]\ttraining's rmse: 3.95346\tvalid_1's rmse: 4.02113\n",
      "[1700]\ttraining's rmse: 3.91837\tvalid_1's rmse: 3.98794\n",
      "[1750]\ttraining's rmse: 3.8859\tvalid_1's rmse: 3.9573\n",
      "[1800]\ttraining's rmse: 3.85611\tvalid_1's rmse: 3.92927\n",
      "[1850]\ttraining's rmse: 3.82866\tvalid_1's rmse: 3.90373\n",
      "[1900]\ttraining's rmse: 3.80339\tvalid_1's rmse: 3.88016\n",
      "[1950]\ttraining's rmse: 3.78024\tvalid_1's rmse: 3.85865\n",
      "[2000]\ttraining's rmse: 3.75897\tvalid_1's rmse: 3.83895\n",
      "[2050]\ttraining's rmse: 3.73933\tvalid_1's rmse: 3.82086\n",
      "[2100]\ttraining's rmse: 3.72116\tvalid_1's rmse: 3.80423\n",
      "[2150]\ttraining's rmse: 3.70462\tvalid_1's rmse: 3.7892\n",
      "[2200]\ttraining's rmse: 3.68924\tvalid_1's rmse: 3.77523\n",
      "[2250]\ttraining's rmse: 3.67512\tvalid_1's rmse: 3.76251\n",
      "[2300]\ttraining's rmse: 3.66223\tvalid_1's rmse: 3.75085\n",
      "[2350]\ttraining's rmse: 3.65029\tvalid_1's rmse: 3.74021\n",
      "[2400]\ttraining's rmse: 3.63918\tvalid_1's rmse: 3.73037\n",
      "[2450]\ttraining's rmse: 3.62896\tvalid_1's rmse: 3.72136\n",
      "[2500]\ttraining's rmse: 3.61957\tvalid_1's rmse: 3.71316\n",
      "[2550]\ttraining's rmse: 3.61096\tvalid_1's rmse: 3.70564\n",
      "[2600]\ttraining's rmse: 3.60298\tvalid_1's rmse: 3.69877\n",
      "[2650]\ttraining's rmse: 3.59557\tvalid_1's rmse: 3.69237\n",
      "[2700]\ttraining's rmse: 3.58871\tvalid_1's rmse: 3.68649\n",
      "[2750]\ttraining's rmse: 3.58241\tvalid_1's rmse: 3.68122\n",
      "[2800]\ttraining's rmse: 3.57653\tvalid_1's rmse: 3.67635\n",
      "[2850]\ttraining's rmse: 3.57104\tvalid_1's rmse: 3.67186\n",
      "[2900]\ttraining's rmse: 3.56593\tvalid_1's rmse: 3.66768\n",
      "[2950]\ttraining's rmse: 3.56119\tvalid_1's rmse: 3.66389\n",
      "[3000]\ttraining's rmse: 3.5568\tvalid_1's rmse: 3.66038\n",
      "[3050]\ttraining's rmse: 3.55262\tvalid_1's rmse: 3.65713\n",
      "[3100]\ttraining's rmse: 3.54877\tvalid_1's rmse: 3.65416\n",
      "[3150]\ttraining's rmse: 3.54519\tvalid_1's rmse: 3.65144\n",
      "[3200]\ttraining's rmse: 3.54185\tvalid_1's rmse: 3.6489\n",
      "[3250]\ttraining's rmse: 3.53874\tvalid_1's rmse: 3.64657\n",
      "[3300]\ttraining's rmse: 3.53587\tvalid_1's rmse: 3.64454\n",
      "[3350]\ttraining's rmse: 3.53315\tvalid_1's rmse: 3.64261\n",
      "[3400]\ttraining's rmse: 3.53052\tvalid_1's rmse: 3.64081\n",
      "[3450]\ttraining's rmse: 3.52806\tvalid_1's rmse: 3.63913\n",
      "[3500]\ttraining's rmse: 3.52571\tvalid_1's rmse: 3.6376\n",
      "[3550]\ttraining's rmse: 3.52345\tvalid_1's rmse: 3.63605\n",
      "[3600]\ttraining's rmse: 3.52141\tvalid_1's rmse: 3.63479\n",
      "[3650]\ttraining's rmse: 3.51944\tvalid_1's rmse: 3.63358\n",
      "[3700]\ttraining's rmse: 3.5176\tvalid_1's rmse: 3.63254\n",
      "[3750]\ttraining's rmse: 3.51577\tvalid_1's rmse: 3.63152\n",
      "[3800]\ttraining's rmse: 3.51409\tvalid_1's rmse: 3.63063\n",
      "[3850]\ttraining's rmse: 3.51245\tvalid_1's rmse: 3.62981\n",
      "[3900]\ttraining's rmse: 3.5109\tvalid_1's rmse: 3.62902\n",
      "[3950]\ttraining's rmse: 3.50941\tvalid_1's rmse: 3.6283\n",
      "[4000]\ttraining's rmse: 3.50805\tvalid_1's rmse: 3.62769\n",
      "[4050]\ttraining's rmse: 3.50668\tvalid_1's rmse: 3.62708\n",
      "[4100]\ttraining's rmse: 3.50535\tvalid_1's rmse: 3.62645\n",
      "[4150]\ttraining's rmse: 3.50402\tvalid_1's rmse: 3.62587\n",
      "[4200]\ttraining's rmse: 3.50273\tvalid_1's rmse: 3.6253\n",
      "[4250]\ttraining's rmse: 3.50152\tvalid_1's rmse: 3.62485\n",
      "[4300]\ttraining's rmse: 3.50038\tvalid_1's rmse: 3.62436\n",
      "[4350]\ttraining's rmse: 3.49926\tvalid_1's rmse: 3.62397\n",
      "[4400]\ttraining's rmse: 3.49819\tvalid_1's rmse: 3.62361\n",
      "[4450]\ttraining's rmse: 3.49718\tvalid_1's rmse: 3.62333\n",
      "[4500]\ttraining's rmse: 3.49614\tvalid_1's rmse: 3.62299\n",
      "[4550]\ttraining's rmse: 3.49514\tvalid_1's rmse: 3.62268\n",
      "[4600]\ttraining's rmse: 3.49422\tvalid_1's rmse: 3.62236\n",
      "[4650]\ttraining's rmse: 3.49339\tvalid_1's rmse: 3.62226\n",
      "[4700]\ttraining's rmse: 3.4925\tvalid_1's rmse: 3.62204\n",
      "[4750]\ttraining's rmse: 3.49172\tvalid_1's rmse: 3.62192\n",
      "[4800]\ttraining's rmse: 3.49086\tvalid_1's rmse: 3.62175\n",
      "[4850]\ttraining's rmse: 3.49005\tvalid_1's rmse: 3.6216\n",
      "[4900]\ttraining's rmse: 3.48928\tvalid_1's rmse: 3.62147\n",
      "[4950]\ttraining's rmse: 3.48854\tvalid_1's rmse: 3.62139\n",
      "[5000]\ttraining's rmse: 3.48785\tvalid_1's rmse: 3.6214\n",
      "[5050]\ttraining's rmse: 3.48711\tvalid_1's rmse: 3.62132\n",
      "[5100]\ttraining's rmse: 3.48642\tvalid_1's rmse: 3.62126\n",
      "[5150]\ttraining's rmse: 3.48574\tvalid_1's rmse: 3.62125\n",
      "[5200]\ttraining's rmse: 3.48508\tvalid_1's rmse: 3.62126\n",
      "[5250]\ttraining's rmse: 3.48442\tvalid_1's rmse: 3.62125\n",
      "[5300]\ttraining's rmse: 3.4838\tvalid_1's rmse: 3.62132\n",
      "[5350]\ttraining's rmse: 3.48318\tvalid_1's rmse: 3.62134\n",
      "Early stopping, best iteration is:\n",
      "[5165]\ttraining's rmse: 3.48552\tvalid_1's rmse: 3.62123\n",
      "Train RMSE: 3.485517324319507        Valida RMSE: 3.621226016773358\n",
      "OOF RMSE: 3.593612579432569 \n"
     ]
    }
   ],
   "source": [
    "results,models,importances,oof,feature_list = Training_Lightgbm(df_train[columns_modeling_last],params,fold_column = 'fold',target_column = 'target',cat_vars = cat_columns ,metric = 'RMSE',early_stopping = 200,max_boost_round = 8000)"
   ]
  },
  {
   "cell_type": "code",
   "execution_count": 55,
   "metadata": {},
   "outputs": [
    {
     "name": "stdout",
     "output_type": "stream",
     "text": [
      "fin_predict\n",
      "fin_predict\n",
      "fin_predict\n",
      "fin_predict\n",
      "fin_predict\n",
      "Real:  4.4556653551634025\n"
     ]
    }
   ],
   "source": [
    "probs = 0\n",
    "for i in models:\n",
    "    probs = probs + (i.predict(df_test[feature_list]))\n",
    "    print('fin_predict')\n",
    "y_test_pred = probs/5.0\n",
    "print(f'Real: ',math.sqrt(mean_squared_error(y_test_pred,df_test['Target'].values)))"
   ]
  }
 ],
 "metadata": {
  "kernelspec": {
   "display_name": "Python 3",
   "language": "python",
   "name": "python3"
  },
  "language_info": {
   "codemirror_mode": {
    "name": "ipython",
    "version": 3
   },
   "file_extension": ".py",
   "mimetype": "text/x-python",
   "name": "python",
   "nbconvert_exporter": "python",
   "pygments_lexer": "ipython3",
   "version": "3.6.9"
  }
 },
 "nbformat": 4,
 "nbformat_minor": 4
}
